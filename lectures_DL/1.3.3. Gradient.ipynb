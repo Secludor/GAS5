{
 "cells": [
  {
   "cell_type": "code",
   "execution_count": 1,
   "metadata": {},
   "outputs": [
    {
     "name": "stdout",
     "output_type": "stream",
     "text": [
      "Python 3.10.8\n"
     ]
    }
   ],
   "source": [
    "!python --version"
   ]
  },
  {
   "cell_type": "code",
   "execution_count": 1,
   "metadata": {},
   "outputs": [],
   "source": [
    "import numpy as np"
   ]
  },
  {
   "cell_type": "code",
   "execution_count": 2,
   "metadata": {},
   "outputs": [],
   "source": [
    "# def numerical_gradient(f,X):\n",
    "#     h = 0.0000001\n",
    "#     X = np.array(X)\n",
    "#     grad = np.zeros_like(X,dtype='float64')\n",
    "#     for i in range(X.size):\n",
    "#         grad[i] = (f(X[i]+h) - f(X[i]))/h\n",
    "        \n",
    "#     return np.round(grad,3)\n",
    "def numerical_gradient(f, X):\n",
    "    h = 1e-10  # 작은 값\n",
    "    X = np.array(X)\n",
    "    grad = np.zeros_like(X, dtype='float64')\n",
    "    \n",
    "    for i in range(X.size):\n",
    "        # X의 i번째 요소를 살짝 변경하여 함수 값을 계산\n",
    "        temp_val = X[i]  # 원래 값 저장\n",
    "        X[i] = temp_val + h  # X[i]를 h만큼 증가\n",
    "        f_x_plus_h = f(X)  # 증가시킨 함수 값\n",
    "        X[i] = temp_val - h  # X[i]를 h만큼 감소\n",
    "        f_x_minus_h = f(X)  # 감소시킨 함수 값\n",
    "        grad[i] = (f_x_plus_h - f_x_minus_h) / (2 * h)  # 중앙 차분 방식\n",
    "        X[i] = temp_val  # 원래 값으로 복원\n",
    "    \n",
    "    return np.round(grad, 3)"
   ]
  },
  {
   "cell_type": "code",
   "execution_count": 3,
   "metadata": {},
   "outputs": [],
   "source": [
    "def function_2(X):\n",
    "    X = np.asarray(X)\n",
    "    return X[0]**2 + X[1]**2"
   ]
  },
  {
   "cell_type": "code",
   "execution_count": 4,
   "metadata": {},
   "outputs": [
    {
     "data": {
      "text/plain": [
       "array([6., 8.])"
      ]
     },
     "execution_count": 4,
     "metadata": {},
     "output_type": "execute_result"
    }
   ],
   "source": [
    "numerical_gradient(function_2, [3.0,4.0])"
   ]
  },
  {
   "cell_type": "code",
   "execution_count": 5,
   "metadata": {},
   "outputs": [
    {
     "data": {
      "text/plain": [
       "array([0., 4.])"
      ]
     },
     "execution_count": 5,
     "metadata": {},
     "output_type": "execute_result"
    }
   ],
   "source": [
    "numerical_gradient(function_2, [0.0,2.0])"
   ]
  },
  {
   "cell_type": "code",
   "execution_count": 6,
   "metadata": {},
   "outputs": [
    {
     "data": {
      "text/plain": [
       "array([0., 2.])"
      ]
     },
     "execution_count": 6,
     "metadata": {},
     "output_type": "execute_result"
    }
   ],
   "source": [
    "numerical_gradient(function_2, [0.0,1.0])"
   ]
  },
  {
   "cell_type": "code",
   "execution_count": 7,
   "metadata": {},
   "outputs": [],
   "source": [
    "def gradient_descent(f, init_x, lr = 0.01, steps = 100):\n",
    "    x= init_x\n",
    "    x_history = []\n",
    "    \n",
    "    for i in range(steps):\n",
    "        x_history.append(x.copy())\n",
    "        grad = numerical_gradient(f,x)\n",
    "        if i%10 == 0 :\n",
    "            print(f'grad : {grad}')\n",
    "        x -= lr * grad\n",
    "        \n",
    "    return x, np.array(x_history)"
   ]
  },
  {
   "cell_type": "markdown",
   "metadata": {},
   "source": [
    "- x.copy()는 배열 x에 대하여 메모리주소가 아니라, 완전한 복사본을 생성하여 현재의 값을 새로운 메모리 위치에 저장하는 깊은 복사를 수행한다"
   ]
  },
  {
   "cell_type": "code",
   "execution_count": 8,
   "metadata": {},
   "outputs": [
    {
     "name": "stdout",
     "output_type": "stream",
     "text": [
      "grad : [-59.999  79.999]\n",
      "grad : [-59.968  80.033]\n",
      "grad : [-59.958  80.065]\n",
      "grad : [-59.943  80.076]\n",
      "grad : [-59.943  80.076]\n",
      "grad : [-59.943  80.076]\n",
      "grad : [-59.943  80.076]\n",
      "grad : [-59.943  80.076]\n",
      "grad : [-59.943  80.076]\n",
      "grad : [-59.943  80.076]\n"
     ]
    },
    {
     "data": {
      "text/plain": [
       "array([-29.971,  40.038])"
      ]
     },
     "execution_count": 8,
     "metadata": {},
     "output_type": "execute_result"
    }
   ],
   "source": [
    "init_x = [-30.0,40.0]\n",
    "lr=1\n",
    "steps = 100\n",
    "x, x_history = gradient_descent(function_2, init_x, lr, steps)\n",
    "x"
   ]
  },
  {
   "cell_type": "markdown",
   "metadata": {},
   "source": [
    "정답인 0에 근사한 값이 되었다. \n",
    "- 정확히 (0, 0)이 되지 않은 이유는 여기서는 수치미분을 사용했기 때문이다. 수치미분은 오차를 포함한다.\n",
    "- 오차를 없애려면 h의 값을 정말 아주 작은 값으로 만들면 된다.\n",
    "    - 그러나 이 방법은 파이썬 연산 능력의 한계로 계산할 수 없다"
   ]
  },
  {
   "cell_type": "markdown",
   "metadata": {},
   "source": [
    "### np.iter"
   ]
  },
  {
   "cell_type": "code",
   "execution_count": 9,
   "metadata": {},
   "outputs": [
    {
     "name": "stdout",
     "output_type": "stream",
     "text": [
      "(0, 0) 1\n",
      "(0, 1) 2\n",
      "(0, 2) 3\n",
      "(1, 0) 4\n",
      "(1, 1) 5\n",
      "(1, 2) 6\n"
     ]
    }
   ],
   "source": [
    "import numpy as np\n",
    "x = np.array([[1,2,3],[4,5,6]])\n",
    "it = np.nditer(x, flags=['multi_index'], op_flags=['readwrite']) \n",
    "# 다차원 배열의 인덱스를 튜플로 받는다\n",
    "# 읽기와 쓰기 가능\n",
    "\n",
    "while not it.finished:\n",
    "    print(it.multi_index, x[it.multi_index])\n",
    "    it.iternext()"
   ]
  },
  {
   "cell_type": "markdown",
   "metadata": {},
   "source": [
    "### 신경망에서의 기울기"
   ]
  },
  {
   "cell_type": "code",
   "execution_count": 10,
   "metadata": {},
   "outputs": [],
   "source": [
    "import numpy as np\n",
    "def softmax(a):\n",
    "    a = np.array(a, dtype=np.float64)  # 명시적으로 float64 타입으로 변환\n",
    "    c = np.max(a)\n",
    "    exp_a = np.exp(a - c)  # 최대값을 빼서 오버플로우 방지\n",
    "    sum_exp_a = np.sum(exp_a)\n",
    "    y = exp_a / sum_exp_a\n",
    "    return y\n",
    "\n",
    "def cross_entropy_error(y,t):\n",
    "    y = np.array(y)\n",
    "    if y.ndim == 1 : # 데이터가 하나 들어올 경우 2차원으로 변경\n",
    "        t = np.array(t)\n",
    "        t = t.reshape(1,t.size)\n",
    "        y = y.reshape(1,y.size)\n",
    "        \n",
    "    batch_size = y.shape[0]\n",
    "    return -np.sum(t*np.log(y))/batch_size\n",
    "\n",
    "def numerical_gradient(f, X):\n",
    "    h = 1e-10  # 작은 값\n",
    "    X = np.array(X)\n",
    "    grad = np.zeros_like(X, dtype='float64')\n",
    "    it = np.nditer(x, flags=['multi_index'], op_flags=['readwrite'])\n",
    "    while not it.finished:\n",
    "        i = it.multi_index\n",
    "        temp_val = x[i]\n",
    "        x[i] = float(temp_val) + h\n",
    "        fxh1 = f(x)\n",
    "        \n",
    "        x[i] = temp_val\n",
    "        fxh2 = f(x)\n",
    "        \n",
    "        grad[i] = (fxh1-fxh2)/h\n",
    "        \n",
    "        it.iternext()\n",
    "        \n",
    "    return np.round(grad, 3)"
   ]
  },
  {
   "cell_type": "code",
   "execution_count": 11,
   "metadata": {},
   "outputs": [],
   "source": [
    "class simpleNet :\n",
    "    def __init__(self):\n",
    "        self.W = np.random.randn(2,3)\n",
    "    \n",
    "    def predict(self,x):\n",
    "        return np.dot(x, self.W)\n",
    "    \n",
    "    def loss(self,x,t):\n",
    "        x = np.array(x)\n",
    "        t = np.array(t)\n",
    "        z = self.predict(x)\n",
    "        y = softmax(z)\n",
    "        loss = cross_entropy_error(y,t)\n",
    "        return loss"
   ]
  },
  {
   "cell_type": "code",
   "execution_count": 12,
   "metadata": {},
   "outputs": [
    {
     "name": "stdout",
     "output_type": "stream",
     "text": [
      "[[-0.69566119 -0.03139984  0.05837273]\n",
      " [ 0.78676969 -0.15041037  1.0657872 ]]\n"
     ]
    }
   ],
   "source": [
    "net = simpleNet()\n",
    "print(net.W)"
   ]
  },
  {
   "cell_type": "code",
   "execution_count": 13,
   "metadata": {},
   "outputs": [
    {
     "data": {
      "text/plain": [
       "array([ 0.29069601, -0.15420924,  0.99423211])"
      ]
     },
     "execution_count": 13,
     "metadata": {},
     "output_type": "execute_result"
    }
   ],
   "source": [
    "x = [0.6,0.9]\n",
    "p = net.predict(x)\n",
    "p"
   ]
  },
  {
   "cell_type": "code",
   "execution_count": 14,
   "metadata": {},
   "outputs": [
    {
     "data": {
      "text/plain": [
       "2"
      ]
     },
     "execution_count": 14,
     "metadata": {},
     "output_type": "execute_result"
    }
   ],
   "source": [
    "np.argmax(p)"
   ]
  },
  {
   "cell_type": "code",
   "execution_count": 15,
   "metadata": {},
   "outputs": [
    {
     "data": {
      "text/plain": [
       "1.7428522020057404"
      ]
     },
     "execution_count": 15,
     "metadata": {},
     "output_type": "execute_result"
    }
   ],
   "source": [
    "t = [0,1,0]\n",
    "net.loss(x,t)"
   ]
  },
  {
   "cell_type": "code",
   "execution_count": 16,
   "metadata": {},
   "outputs": [
    {
     "data": {
      "text/plain": [
       "1.297946949790832"
      ]
     },
     "execution_count": 16,
     "metadata": {},
     "output_type": "execute_result"
    }
   ],
   "source": [
    "t = [1,0,0]\n",
    "net.loss(x,t)"
   ]
  },
  {
   "cell_type": "markdown",
   "metadata": {},
   "source": [
    "- 손실값을 계산하는 f(W) 정의\n",
    "- 이 함수와 초기화된 가중치를 미분 함수에 넣어 변화량(기울기)을 계산"
   ]
  },
  {
   "cell_type": "code",
   "execution_count": 17,
   "metadata": {},
   "outputs": [],
   "source": [
    "x = np.array([0.6,0.9])\n",
    "t = np.array([0,1,0])"
   ]
  },
  {
   "cell_type": "code",
   "execution_count": 18,
   "metadata": {},
   "outputs": [
    {
     "name": "stdout",
     "output_type": "stream",
     "text": [
      "[[-0.132 -0.132 -0.132]\n",
      " [ 0.927  0.927  0.927]]\n"
     ]
    }
   ],
   "source": [
    "def f(W):\n",
    "    return net.loss(x,t)\n",
    "dW = numerical_gradient(f,net.W)\n",
    "print(dW)"
   ]
  },
  {
   "cell_type": "markdown",
   "metadata": {},
   "source": [
    "### Optimizer"
   ]
  },
  {
   "cell_type": "code",
   "execution_count": 34,
   "metadata": {},
   "outputs": [],
   "source": [
    "# import numpy as np\n",
    "import matplotlib.pyplot as plt\n",
    "def loss_function(w):\n",
    "    return w**2\n",
    "def numerical_diff(f,w):\n",
    "    dw = 0.0001\n",
    "    return (f(w+dw)-f(w))/dw"
   ]
  },
  {
   "cell_type": "code",
   "execution_count": 35,
   "metadata": {},
   "outputs": [
    {
     "data": {
      "image/png": "[encoded data removed]",
      "text/plain": [
       "<Figure size 640x480 with 1 Axes>"
      ]
     },
     "metadata": {},
     "output_type": "display_data"
    }
   ],
   "source": [
    "w = np.arange(-10.0,10.1,0.1)\n",
    "y = loss_function(w)\n",
    "\n",
    "plt.xlabel('w')\n",
    "# plt.xlim(-10,10)\n",
    "plt.ylabel('E')\n",
    "plt.plot(w,y)\n",
    "plt.show()"
   ]
  },
  {
   "cell_type": "code",
   "execution_count": 40,
   "metadata": {},
   "outputs": [
    {
     "name": "stdout",
     "output_type": "stream",
     "text": [
      "w_50 : 10.000, w_05 : 1.000\n"
     ]
    }
   ],
   "source": [
    "w_50 = numerical_diff(loss_function,5.0)\n",
    "w_05 = numerical_diff(loss_function,0.5)\n",
    "print(f'w_50 : {w_50:.3f}, w_05 : {w_05:.3f}')"
   ]
  },
  {
   "cell_type": "code",
   "execution_count": 41,
   "metadata": {},
   "outputs": [
    {
     "name": "stdout",
     "output_type": "stream",
     "text": [
      "w_m50 : -10.000, w_m05 : -1.000\n"
     ]
    }
   ],
   "source": [
    "w_m50 = numerical_diff(loss_function,-5.0)\n",
    "w_m05 = numerical_diff(loss_function,-0.5)\n",
    "print(f'w_m50 : {w_m50:.3f}, w_m05 : {w_m05:.3f}')"
   ]
  },
  {
   "cell_type": "code",
   "execution_count": null,
   "metadata": {},
   "outputs": [],
   "source": []
  }
 ],
 "metadata": {
  "kernelspec": {
   "display_name": "Python 3",
   "language": "python",
   "name": "python3"
  },
  "language_info": {
   "codemirror_mode": {
    "name": "ipython",
    "version": 3
   },
   "file_extension": ".py",
   "mimetype": "text/x-python",
   "name": "python",
   "nbconvert_exporter": "python",
   "pygments_lexer": "ipython3",
   "version": "3.10.8"
  }
 },
 "nbformat": 4,
 "nbformat_minor": 2
}
