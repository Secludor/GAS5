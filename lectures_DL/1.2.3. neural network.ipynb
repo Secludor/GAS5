{
 "cells": [
  {
   "cell_type": "code",
   "execution_count": 2,
   "metadata": {},
   "outputs": [
    {
     "name": "stdout",
     "output_type": "stream",
     "text": [
      "(2,)\n",
      "(2, 3)\n",
      "(3,)\n"
     ]
    }
   ],
   "source": [
    "import numpy as np\n",
    "\n",
    "# input\n",
    "X = np.array([1.0,0.5])\n",
    "print(X.shape)\n",
    "\n",
    "# weight\n",
    "W1 = np.array([[0.1,0.3,0.5],[0.2,0.4,0.6]])\n",
    "print(W1.shape)\n",
    "\n",
    "# bias\n",
    "B1 = np.array([0.1,0.2,0.3])\n",
    "print(B1.shape)"
   ]
  },
  {
   "cell_type": "code",
   "execution_count": 3,
   "metadata": {},
   "outputs": [],
   "source": [
    "def sigmoid(x):\n",
    "    return 1/(1+np.exp(-x))"
   ]
  },
  {
   "cell_type": "code",
   "execution_count": 4,
   "metadata": {},
   "outputs": [
    {
     "name": "stdout",
     "output_type": "stream",
     "text": [
      "[0.3 0.7 1.1]\n",
      "[0.57444252 0.66818777 0.75026011]\n",
      "(3,)\n"
     ]
    }
   ],
   "source": [
    "result_of_inner1 = np.dot(X,W1) + B1\n",
    "result_of_sigmoid1 = sigmoid(result_of_inner1)\n",
    "print(result_of_inner1)\n",
    "print(result_of_sigmoid1)\n",
    "print(result_of_sigmoid1.shape)"
   ]
  },
  {
   "cell_type": "code",
   "execution_count": 6,
   "metadata": {},
   "outputs": [
    {
     "name": "stdout",
     "output_type": "stream",
     "text": [
      "[[0.07402464 0.10868622]\n",
      " [0.64748111 0.29107983]\n",
      " [0.82580265 0.00333917]] (3, 2)\n",
      "[0.76509099 0.56332766] (2,)\n"
     ]
    }
   ],
   "source": [
    "W2 = np.random.random((3,2))\n",
    "B2 = np.random.random((2,))\n",
    "print(W2, W2.shape)\n",
    "print(B2, B2.shape)"
   ]
  },
  {
   "cell_type": "code",
   "execution_count": 7,
   "metadata": {},
   "outputs": [
    {
     "name": "stdout",
     "output_type": "stream",
     "text": [
      "[1.85981964 0.82276287]\n",
      "[0.86527592 0.69482251]\n",
      "(2,)\n"
     ]
    }
   ],
   "source": [
    "result_of_inner2 = np.dot(result_of_sigmoid1, W2) + B2\n",
    "result_of_sigmoid2 = sigmoid(result_of_inner2)\n",
    "print(result_of_inner2)\n",
    "print(result_of_sigmoid2)\n",
    "print(result_of_sigmoid2.shape)"
   ]
  },
  {
   "cell_type": "code",
   "execution_count": 8,
   "metadata": {},
   "outputs": [],
   "source": [
    "def identity_function(x):\n",
    "    return x"
   ]
  },
  {
   "cell_type": "code",
   "execution_count": 15,
   "metadata": {},
   "outputs": [
    {
     "name": "stdout",
     "output_type": "stream",
     "text": [
      "[[0.66117028 0.77486354]\n",
      " [0.78669813 0.47630429]]\n",
      "[0.2355614  0.11468142]\n"
     ]
    }
   ],
   "source": [
    "W3 = np.random.random((2,2))\n",
    "B3 = np.random.random((2,))\n",
    "print(W3)\n",
    "print(B3)"
   ]
  },
  {
   "cell_type": "code",
   "execution_count": 16,
   "metadata": {},
   "outputs": [
    {
     "name": "stdout",
     "output_type": "stream",
     "text": [
      "[1.3542717  1.11609913]\n"
     ]
    }
   ],
   "source": [
    "result_of_inner3 = np.dot(result_of_sigmoid2, W3) + B3\n",
    "output = identity_function(result_of_inner3)\n",
    "print(output)"
   ]
  },
  {
   "cell_type": "markdown",
   "metadata": {},
   "source": [
    "## 구현 정리\n",
    "- 은닉층이 2개인 신경망\n",
    "- init_network(): 가중치와 편향을 초기화한 후 network에 저장\n",
    "- forward() : 입력을 출력으로 변환 처리 하는 과정"
   ]
  },
  {
   "cell_type": "code",
   "execution_count": 17,
   "metadata": {},
   "outputs": [],
   "source": [
    "def init_network():\n",
    "    network = {}\n",
    "    network['w1'] = np.random.random((2,3))\n",
    "    network['w2'] = np.random.random((3,2))\n",
    "    network['w3'] = np.random.random((2,2))\n",
    "    network['b1'] = np.random.random((3,))\n",
    "    network['b2'] = np.random.random((2,))\n",
    "    network['b3'] = np.random.random((2,))\n",
    "    return network    "
   ]
  },
  {
   "cell_type": "code",
   "execution_count": 18,
   "metadata": {},
   "outputs": [],
   "source": [
    "def forward(network, x) :\n",
    "    layer1 = sigmoid(np.dot(x, network['w1'])+network['b1'])\n",
    "    layer2 = sigmoid(np.dot(layer1, network['w2'])+network['b2'])\n",
    "    result = identity_function(np.dot(layer2, network['w3'])+network['b3'])\n",
    "    return result"
   ]
  },
  {
   "cell_type": "code",
   "execution_count": 19,
   "metadata": {},
   "outputs": [
    {
     "data": {
      "text/plain": [
       "array([0.48054764, 1.44652333])"
      ]
     },
     "execution_count": 19,
     "metadata": {},
     "output_type": "execute_result"
    }
   ],
   "source": [
    "forward(init_network(),[1.0,0.5])"
   ]
  },
  {
   "cell_type": "code",
   "execution_count": 20,
   "metadata": {},
   "outputs": [],
   "source": [
    "import numpy as np\n",
    "def softmax(a):\n",
    "    a = np.array(a)\n",
    "    exp_a = np.exp(a)\n",
    "    sum_exp_a = np.sum(exp_a)\n",
    "    y = exp_a / sum_exp_a\n",
    "    return y"
   ]
  },
  {
   "cell_type": "code",
   "execution_count": 21,
   "metadata": {},
   "outputs": [
    {
     "data": {
      "text/plain": [
       "array([0.01821127, 0.24519181, 0.73659691])"
      ]
     },
     "execution_count": 21,
     "metadata": {},
     "output_type": "execute_result"
    }
   ],
   "source": [
    "a = np.array([0.3,2.9,4.0])\n",
    "softmax(a)"
   ]
  },
  {
   "cell_type": "code",
   "execution_count": 22,
   "metadata": {},
   "outputs": [
    {
     "data": {
      "text/plain": [
       "array([8.53290511e-17, 1.67014218e-05, 9.99983299e-01])"
      ]
     },
     "execution_count": 22,
     "metadata": {},
     "output_type": "execute_result"
    }
   ],
   "source": [
    "a = [3,29,40]\n",
    "softmax(a)"
   ]
  },
  {
   "cell_type": "code",
   "execution_count": 23,
   "metadata": {},
   "outputs": [
    {
     "data": {
      "text/plain": [
       "array([2.04664112e-161, 1.68891188e-048, 1.00000000e+000])"
      ]
     },
     "execution_count": 23,
     "metadata": {},
     "output_type": "execute_result"
    }
   ],
   "source": [
    "a = [30,290,400]\n",
    "softmax(a)"
   ]
  },
  {
   "cell_type": "code",
   "execution_count": 24,
   "metadata": {},
   "outputs": [
    {
     "name": "stderr",
     "output_type": "stream",
     "text": [
      "C:\\Users\\Caelu\\AppData\\Local\\Temp\\ipykernel_41672\\2199923302.py:3: RuntimeWarning: overflow encountered in exp\n",
      "  exp_a = np.exp(a)\n",
      "C:\\Users\\Caelu\\AppData\\Local\\Temp\\ipykernel_41672\\2199923302.py:5: RuntimeWarning: invalid value encountered in divide\n",
      "  y = exp_a / sum_exp_a\n"
     ]
    },
    {
     "data": {
      "text/plain": [
       "array([ 0., nan, nan])"
      ]
     },
     "execution_count": 24,
     "metadata": {},
     "output_type": "execute_result"
    }
   ],
   "source": [
    "a = [300,2900,4000]\n",
    "softmax(a)"
   ]
  },
  {
   "cell_type": "markdown",
   "metadata": {},
   "source": [
    "### 구현 시 주의점 \n",
    "- Overflow 문제.\n",
    "\t- 소프트맥스 함수는 지수함수를 사용하기 때문에 밑이 1보다 클 때 지수가 너무 커지면 컴퓨터가 상정한 변수 크기를 초과해 다룰 수 없어지는 문제가 발생한다.\n",
    "\t\t- number를 4 byte, 8 byte의 유한한 크기로 표현한다.\n",
    "\t\t- 이를 오버플로우 문제라고 한다.\n",
    "\t\t\t- 예) $e^{10}$ 은 약 $2\\times 10^{4}$, $e^{100}$는 $10^{40}$ 의 스케일이며, $e^{1000}$은 무한대(inf)로 출력된다. \n",
    "\n",
    "\t- 이 문제를 해결하기 위해, 수식을 다음과 같이 개선한다.\n",
    "$$y_{k}= \\frac{exp(a_k)}{\\sum\\limits_{i=1}^{n}exp(a_i)} = \\frac{C\\ exp(a_k)}{C\\sum\\limits_{i=1}^{n}exp(a_{i)}} = \\frac{exp(a_{k}+ln\\ C)}{\\sum\\limits_{i=1}^{n}exp(a_{i} +ln\\ C)} = \\frac{exp(a_{k}+C^{'})}{\\sum\\limits_{i=1}^{n}exp(a_i+C^{'})}$$\n",
    "\t-  요컨대, 가장 큰 $a_i$ 를 빼준다!"
   ]
  },
  {
   "cell_type": "code",
   "execution_count": 59,
   "metadata": {},
   "outputs": [],
   "source": [
    "def softmax(a) :\n",
    "    a = np.array(a)\n",
    "    c = np.max(a)\n",
    "    exp_a = np.exp(a-c)\n",
    "    sum_exp_a = np.sum(exp_a)\n",
    "    y = exp_a/sum_exp_a\n",
    "    return y\n",
    "\n",
    "# 안전한 softmax 함수\n",
    "def safe_softmax(a):\n",
    "    a = np.array(a, dtype=np.float64)  # 명시적으로 float64 타입으로 변환\n",
    "    c = np.max(a)\n",
    "    exp_a = np.exp(a - c)  # 최대값을 빼서 오버플로우 방지\n",
    "    sum_exp_a = np.sum(exp_a)\n",
    "    y = exp_a / sum_exp_a\n",
    "    return y"
   ]
  },
  {
   "cell_type": "code",
   "execution_count": 68,
   "metadata": {},
   "outputs": [],
   "source": [
    "a = [300,2900,40000000000000000000]\n",
    "# softmax(a)"
   ]
  },
  {
   "cell_type": "code",
   "execution_count": 69,
   "metadata": {},
   "outputs": [
    {
     "name": "stdout",
     "output_type": "stream",
     "text": [
      "[0. 0. 1.]\n"
     ]
    }
   ],
   "source": [
    "result = safe_softmax(a)\n",
    "print(result)\n"
   ]
  },
  {
   "cell_type": "code",
   "execution_count": null,
   "metadata": {},
   "outputs": [],
   "source": []
  }
 ],
 "metadata": {
  "kernelspec": {
   "display_name": "Python 3",
   "language": "python",
   "name": "python3"
  },
  "language_info": {
   "codemirror_mode": {
    "name": "ipython",
    "version": 3
   },
   "file_extension": ".py",
   "mimetype": "text/x-python",
   "name": "python",
   "nbconvert_exporter": "python",
   "pygments_lexer": "ipython3",
   "version": "3.10.13"
  }
 },
 "nbformat": 4,
 "nbformat_minor": 2
}
