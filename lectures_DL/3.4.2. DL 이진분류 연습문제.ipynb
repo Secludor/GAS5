{
 "cells": [
  {
   "cell_type": "markdown",
   "metadata": {},
   "source": [
    "## 1. 합법과 불법 데이터를 판별하는 모델 생성\n",
    "- 불법 대부업 데이터 폴더에는 모두 대출과 관련된 내용이나,\n",
    "- 정부로부터 인가받은 업체가 홍보한 합법적인 글(class0)과 인가받지 않은 업체가 홍보한 불법적인 글(class1)이 있다\n",
    "- 두 데이터를 합쳐 학습 데이터와 테스트 데이터를 7.5:2.5의 비율로 분리하고(random_state=1111)\n",
    "- 딥러닝을 이용하여 분류 모델을 생성하시오\n",
    "- train 데이터의 30%로 validation 데이터를 만드시오\n",
    "- 형태소 분석은 이미 되어 있음\n",
    "- 모델 저장 및 불러오기 과정과\n",
    "- 1개 데이터 예측도 수행하시오"
   ]
  },
  {
   "cell_type": "code",
   "execution_count": 2,
   "metadata": {},
   "outputs": [
    {
     "data": {
      "text/plain": [
       "'D:\\\\elice_python\\\\GAS_5\\\\pytest\\\\datasets\\\\불법 대부업 데이터'"
      ]
     },
     "execution_count": 2,
     "metadata": {},
     "output_type": "execute_result"
    }
   ],
   "source": [
    "import os\n",
    "import pandas as pd\n",
    "\n",
    "path = 'D:\\elice_python\\GAS_5\\pytest\\datasets\\불법 대부업 데이터'\n",
    "\n",
    "os.chdir(path)\n",
    "os.getcwd()"
   ]
  },
  {
   "cell_type": "code",
   "execution_count": 6,
   "metadata": {},
   "outputs": [
    {
     "data": {
      "text/html": [
       "<div>\n",
       "<style scoped>\n",
       "    .dataframe tbody tr th:only-of-type {\n",
       "        vertical-align: middle;\n",
       "    }\n",
       "\n",
       "    .dataframe tbody tr th {\n",
       "        vertical-align: top;\n",
       "    }\n",
       "\n",
       "    .dataframe thead th {\n",
       "        text-align: right;\n",
       "    }\n",
       "</style>\n",
       "<table border=\"1\" class=\"dataframe\">\n",
       "  <thead>\n",
       "    <tr style=\"text-align: right;\">\n",
       "      <th></th>\n",
       "      <th>Content</th>\n",
       "      <th>Label</th>\n",
       "    </tr>\n",
       "  </thead>\n",
       "  <tbody>\n",
       "    <tr>\n",
       "      <th>0</th>\n",
       "      <td>그라나다 할부 조건 시간 전국 어디 중고차 할부 가능 여부 서비스 상담 신청 양식 ...</td>\n",
       "      <td>class0</td>\n",
       "    </tr>\n",
       "    <tr>\n",
       "      <th>1</th>\n",
       "      <td>광고 광고 올해 통신 인터넷 보이스 피싱 메모리 해킹 사기 피해 건수 피해액 최민희...</td>\n",
       "      <td>class0</td>\n",
       "    </tr>\n",
       "  </tbody>\n",
       "</table>\n",
       "</div>"
      ],
      "text/plain": [
       "                                             Content   Label\n",
       "0  그라나다 할부 조건 시간 전국 어디 중고차 할부 가능 여부 서비스 상담 신청 양식 ...  class0\n",
       "1  광고 광고 올해 통신 인터넷 보이스 피싱 메모리 해킹 사기 피해 건수 피해액 최민희...  class0"
      ]
     },
     "execution_count": 6,
     "metadata": {},
     "output_type": "execute_result"
    }
   ],
   "source": [
    "data0 = pd.read_csv('class0(대출_합법).csv', header=0, encoding = 'cp949')\n",
    "data0.head(2)"
   ]
  },
  {
   "cell_type": "code",
   "execution_count": 7,
   "metadata": {},
   "outputs": [
    {
     "data": {
      "text/html": [
       "<div>\n",
       "<style scoped>\n",
       "    .dataframe tbody tr th:only-of-type {\n",
       "        vertical-align: middle;\n",
       "    }\n",
       "\n",
       "    .dataframe tbody tr th {\n",
       "        vertical-align: top;\n",
       "    }\n",
       "\n",
       "    .dataframe thead th {\n",
       "        text-align: right;\n",
       "    }\n",
       "</style>\n",
       "<table border=\"1\" class=\"dataframe\">\n",
       "  <thead>\n",
       "    <tr style=\"text-align: right;\">\n",
       "      <th></th>\n",
       "      <th>Content</th>\n",
       "      <th>Label</th>\n",
       "    </tr>\n",
       "  </thead>\n",
       "  <tbody>\n",
       "    <tr>\n",
       "      <th>0</th>\n",
       "      <td>저지 레드 다중 과다 채무자 증가 카드 대출 연체 증가</td>\n",
       "      <td>class1</td>\n",
       "    </tr>\n",
       "    <tr>\n",
       "      <th>1</th>\n",
       "      <td>히트 로드 채팅 싸이트 은행 신협 고객 연체 이자 부담</td>\n",
       "      <td>class1</td>\n",
       "    </tr>\n",
       "  </tbody>\n",
       "</table>\n",
       "</div>"
      ],
      "text/plain": [
       "                          Content   Label\n",
       "0  저지 레드 다중 과다 채무자 증가 카드 대출 연체 증가  class1\n",
       "1  히트 로드 채팅 싸이트 은행 신협 고객 연체 이자 부담  class1"
      ]
     },
     "execution_count": 7,
     "metadata": {},
     "output_type": "execute_result"
    }
   ],
   "source": [
    "data1 = pd.read_csv('class1(대출_불법).csv', header=0, encoding='cp949')\n",
    "data1.head(2)"
   ]
  },
  {
   "cell_type": "code",
   "execution_count": 10,
   "metadata": {},
   "outputs": [
    {
     "name": "stdout",
     "output_type": "stream",
     "text": [
      "<class 'pandas.core.frame.DataFrame'>\n",
      "RangeIndex: 2985 entries, 0 to 2984\n",
      "Data columns (total 2 columns):\n",
      " #   Column   Non-Null Count  Dtype \n",
      "---  ------   --------------  ----- \n",
      " 0   Content  2985 non-null   object\n",
      " 1   Label    2985 non-null   object\n",
      "dtypes: object(2)\n",
      "memory usage: 46.8+ KB\n"
     ]
    }
   ],
   "source": [
    "data0.info()"
   ]
  },
  {
   "cell_type": "code",
   "execution_count": 11,
   "metadata": {},
   "outputs": [
    {
     "name": "stdout",
     "output_type": "stream",
     "text": [
      "<class 'pandas.core.frame.DataFrame'>\n",
      "RangeIndex: 1413 entries, 0 to 1412\n",
      "Data columns (total 2 columns):\n",
      " #   Column   Non-Null Count  Dtype \n",
      "---  ------   --------------  ----- \n",
      " 0   Content  1413 non-null   object\n",
      " 1   Label    1413 non-null   object\n",
      "dtypes: object(2)\n",
      "memory usage: 22.2+ KB\n"
     ]
    }
   ],
   "source": [
    "data1.info()"
   ]
  },
  {
   "cell_type": "code",
   "execution_count": 13,
   "metadata": {},
   "outputs": [],
   "source": [
    "data = pd.concat([data0,data1])"
   ]
  },
  {
   "cell_type": "code",
   "execution_count": 15,
   "metadata": {},
   "outputs": [
    {
     "name": "stdout",
     "output_type": "stream",
     "text": [
      "<class 'pandas.core.frame.DataFrame'>\n",
      "Index: 4398 entries, 0 to 1412\n",
      "Data columns (total 2 columns):\n",
      " #   Column   Non-Null Count  Dtype \n",
      "---  ------   --------------  ----- \n",
      " 0   Content  4398 non-null   object\n",
      " 1   Label    4398 non-null   object\n",
      "dtypes: object(2)\n",
      "memory usage: 103.1+ KB\n"
     ]
    }
   ],
   "source": [
    "data.info()"
   ]
  },
  {
   "cell_type": "code",
   "execution_count": 16,
   "metadata": {},
   "outputs": [
    {
     "data": {
      "text/plain": [
       "array(['class0', 'class1'], dtype=object)"
      ]
     },
     "execution_count": 16,
     "metadata": {},
     "output_type": "execute_result"
    }
   ],
   "source": [
    "data.Label.unique()"
   ]
  },
  {
   "cell_type": "code",
   "execution_count": 17,
   "metadata": {},
   "outputs": [],
   "source": [
    "data['Label'] = data['Label'].replace({'class0': 0, 'class1': 1})"
   ]
  },
  {
   "cell_type": "code",
   "execution_count": 18,
   "metadata": {},
   "outputs": [
    {
     "data": {
      "text/plain": [
       "array([0, 1], dtype=int64)"
      ]
     },
     "execution_count": 18,
     "metadata": {},
     "output_type": "execute_result"
    }
   ],
   "source": [
    "data.Label.unique()"
   ]
  },
  {
   "cell_type": "code",
   "execution_count": 33,
   "metadata": {},
   "outputs": [],
   "source": [
    "text = data.Content\n",
    "label = data.Label"
   ]
  },
  {
   "cell_type": "code",
   "execution_count": 51,
   "metadata": {},
   "outputs": [
    {
     "data": {
      "text/plain": [
       "((3298,), (3298,), (1100,), (1100,))"
      ]
     },
     "execution_count": 51,
     "metadata": {},
     "output_type": "execute_result"
    }
   ],
   "source": [
    "from sklearn.model_selection import train_test_split\n",
    "train_text, test_text, train_label, test_label = train_test_split(\n",
    "    text, label, stratify=label, random_state=1111\n",
    ")\n",
    "train_text.shape, train_label.shape, test_text.shape, test_label.shape"
   ]
  },
  {
   "cell_type": "code",
   "execution_count": 35,
   "metadata": {},
   "outputs": [
    {
     "data": {
      "text/plain": [
       "1311         신용 불량자 급전 현금 방법 본인 명의 부폰 방법 전국 출장 가능 스마트 모바일\n",
       "539                       개인 회생 신용 불량 신협 아파트 담보 대출 출처 네이버\n",
       "1337    뉴스 기사 서울신문 급여 내외 직장인 배우자 자녀 월급 생활비 카드사 현금 서비스 ...\n",
       "849     잠실 송파구 잠실 삼전동 원룸 옵션 단기 임대 잠실 옵션 원룸 송파구 옵션 송파구 ...\n",
       "61      서울신문 법원 등기 전달 불가 부재중 간편 조회 스마트폰 통의 문자 기자 악명 피해...\n",
       "                              ...                        \n",
       "129          보이스 피싱 아우 짜증 이제 그쪽 전화 보이스 피싱 진드기 사람 소액 결제 당하\n",
       "742     서초 중고차 매매 시간 전국 어디 중고차 할부 가능 여부 서비스 상담 신청 양식 성...\n",
       "1516                                    사동 보증 사동 옵션 보증 원룸\n",
       "113     뉴스 기사 머니투데이 박진영 기자 단독 웅진 씽크 구조 조정 카드 웅진 씽크 상승 ...\n",
       "1617                                한신 보증 회사채 신용 등급 안정 평가\n",
       "Name: Content, Length: 3298, dtype: object"
      ]
     },
     "execution_count": 35,
     "metadata": {},
     "output_type": "execute_result"
    }
   ],
   "source": [
    "train_text"
   ]
  },
  {
   "cell_type": "code",
   "execution_count": 36,
   "metadata": {},
   "outputs": [
    {
     "name": "stdout",
     "output_type": "stream",
     "text": [
      "최소길이:  1\n",
      "최대길이:  20\n",
      "평균길이:  12.7\n",
      "중위수길이:  11.0\n",
      "구간별 최대 길이:  [ 1.  8. 11. 20. 20. 20.]\n",
      "최소길이 문장:  연체 본인 명의 최신 스마트폰 기종 개통 연락 전국 출장 당일 개통 급전 마련 최대 가능\n",
      "최대길이 문장:  춘천 연합뉴스 이해 기자 강원도 교육청 올해 보급 예정 교과서 전자 보이스 피싱 사기 전화 금융 사기 교육청 최근 관공서\n"
     ]
    }
   ],
   "source": [
    "import numpy as np\n",
    "\n",
    "\n",
    "text_len = [len(line.split(' ')) for line in train_text]\n",
    "print(\"최소길이: \", np.min(text_len)) \n",
    "print(\"최대길이: \", np.max(text_len)) \n",
    "print(\"평균길이: \", np.round(np.mean(text_len), 1)) \n",
    "print(\"중위수길이: \", np.median(text_len)) \n",
    "print(\"구간별 최대 길이: \", np.percentile(text_len, [0, 25, 50, 75, 90, 100]))\n",
    "print(\"최소길이 문장: \", train_text[np.argmin(text_len)])\n",
    "print(\"최대길이 문장: \", train_text[np.argmax(text_len)])"
   ]
  },
  {
   "cell_type": "code",
   "execution_count": 39,
   "metadata": {},
   "outputs": [
    {
     "data": {
      "image/png": "[encoded data removed]",
      "text/plain": [
       "<Figure size 640x480 with 1 Axes>"
      ]
     },
     "metadata": {},
     "output_type": "display_data"
    }
   ],
   "source": [
    "import matplotlib.pyplot as plt\n",
    "plt.figure()\n",
    "plt.boxplot(text_len, labels=['token_len'], meanline= True, showmeans=True)\n",
    "plt.show()"
   ]
  },
  {
   "cell_type": "markdown",
   "metadata": {},
   "source": [
    "- 이정도면 단어수가 아주 적은 경우는 제거해도 될듯?(일단 그냥)"
   ]
  },
  {
   "cell_type": "code",
   "execution_count": 40,
   "metadata": {},
   "outputs": [],
   "source": [
    "from tensorflow.keras.preprocessing.text import Tokenizer\n",
    "from tensorflow.keras.preprocessing.sequence import pad_sequences\n",
    "import numpy as np\n",
    "\n",
    "tokenizer = Tokenizer()"
   ]
  },
  {
   "cell_type": "code",
   "execution_count": 41,
   "metadata": {},
   "outputs": [],
   "source": [
    "tokenizer.fit_on_texts(train_text)"
   ]
  },
  {
   "cell_type": "code",
   "execution_count": 42,
   "metadata": {},
   "outputs": [
    {
     "data": {
      "text/plain": [
       "3396"
      ]
     },
     "execution_count": 42,
     "metadata": {},
     "output_type": "execute_result"
    }
   ],
   "source": [
    "len(tokenizer.word_index)"
   ]
  },
  {
   "cell_type": "markdown",
   "metadata": {},
   "source": [
    "자주 나타나지 않는 단어도 중요할 수  있으므로 전체 단어 사용."
   ]
  },
  {
   "cell_type": "code",
   "execution_count": 47,
   "metadata": {},
   "outputs": [],
   "source": [
    "# # 3. n회 이상 등장한 단어 필터링 (예: 2회 이상)\n",
    "# min_count = 2\n",
    "# filtered_words = {word: count for word, count in word_counts.items() if count >= min_count}\n",
    "\n",
    "# # 4. 새로운 Tokenizer 생성\n",
    "# filtered_tokenizer = Tokenizer()\n",
    "# filtered_tokenizer.fit_on_texts(filtered_words.keys())\n",
    "\n",
    "# # 5. 텍스트를 matrix로 변환\n",
    "# data = filtered_tokenizer.texts_to_matrix(train_text, mode='binary')\n",
    "\n",
    "# # 결과 확인\n",
    "# print(\"필터링된 단어 수:\", len(filtered_tokenizer.word_index))\n",
    "# print(\"결과 데이터:\", data)"
   ]
  },
  {
   "cell_type": "code",
   "execution_count": 50,
   "metadata": {},
   "outputs": [
    {
     "name": "stdout",
     "output_type": "stream",
     "text": [
      "(3298, 3397)\n"
     ]
    }
   ],
   "source": [
    "vects = tokenizer.texts_to_matrix(train_text, mode='binary')\n",
    "print(vects.shape)"
   ]
  },
  {
   "cell_type": "code",
   "execution_count": 52,
   "metadata": {},
   "outputs": [],
   "source": [
    "import tensorflow as tf\n",
    "\n",
    "gpus = tf.config.experimental.list_physical_devices('GPU')\n",
    "if gpus:\n",
    "    try:\n",
    "        for gpu in gpus:\n",
    "            tf.config.experimental.set_memory_growth(gpu, True)\n",
    "    except RuntimeError as e:\n",
    "        print(e)"
   ]
  },
  {
   "cell_type": "code",
   "execution_count": 65,
   "metadata": {},
   "outputs": [],
   "source": [
    "from keras.models import Sequential\n",
    "from keras.layers import Input, Dense\n",
    "\n",
    "model = Sequential()\n",
    "model.add(Input(3397,))\n",
    "model.add(Dense(64, activation='relu'))\n",
    "model.add(Dense(32, activation='relu'))\n",
    "model.add(Dense(1, activation='sigmoid'))"
   ]
  },
  {
   "cell_type": "code",
   "execution_count": 66,
   "metadata": {},
   "outputs": [
    {
     "name": "stdout",
     "output_type": "stream",
     "text": [
      "Model: \"sequential_1\"\n",
      "_________________________________________________________________\n",
      " Layer (type)                Output Shape              Param #   \n",
      "=================================================================\n",
      " dense_3 (Dense)             (None, 64)                217472    \n",
      "                                                                 \n",
      " dense_4 (Dense)             (None, 32)                2080      \n",
      "                                                                 \n",
      " dense_5 (Dense)             (None, 1)                 33        \n",
      "                                                                 \n",
      "=================================================================\n",
      "Total params: 219,585\n",
      "Trainable params: 219,585\n",
      "Non-trainable params: 0\n",
      "_________________________________________________________________\n"
     ]
    }
   ],
   "source": [
    "model.summary()"
   ]
  },
  {
   "cell_type": "code",
   "execution_count": 67,
   "metadata": {},
   "outputs": [
    {
     "data": {
      "text/plain": [
       "((2473, 3397), (2473,), (825, 3397), (825,))"
      ]
     },
     "execution_count": 67,
     "metadata": {},
     "output_type": "execute_result"
    }
   ],
   "source": [
    "x_train, x_val, y_train, y_val = train_test_split(vects, train_label, stratify=train_label, random_state=1111)\n",
    "x_train.shape, y_train.shape, x_val.shape, y_val.shape"
   ]
  },
  {
   "cell_type": "code",
   "execution_count": 68,
   "metadata": {},
   "outputs": [
    {
     "data": {
      "text/plain": [
       "(dtype('float64'), dtype('int64'), dtype('float64'), dtype('int64'))"
      ]
     },
     "execution_count": 68,
     "metadata": {},
     "output_type": "execute_result"
    }
   ],
   "source": [
    "x_train.dtype, y_train.dtype, x_val.dtype, y_val.dtype"
   ]
  },
  {
   "cell_type": "code",
   "execution_count": 69,
   "metadata": {},
   "outputs": [],
   "source": [
    "model.compile(\n",
    "    loss = 'binary_crossentropy',\n",
    "    optimizer='adam',\n",
    "    metrics=['acc']\n",
    ")"
   ]
  },
  {
   "cell_type": "code",
   "execution_count": 70,
   "metadata": {},
   "outputs": [
    {
     "name": "stdout",
     "output_type": "stream",
     "text": [
      "Epoch 1/10\n",
      "20/20 [==============================] - 1s 18ms/step - loss: 0.5389 - acc: 0.7942 - val_loss: 0.3700 - val_acc: 0.9200\n",
      "Epoch 2/10\n",
      "20/20 [==============================] - 0s 12ms/step - loss: 0.2596 - acc: 0.9628 - val_loss: 0.1740 - val_acc: 0.9685\n",
      "Epoch 3/10\n",
      "20/20 [==============================] - 0s 13ms/step - loss: 0.1018 - acc: 0.9903 - val_loss: 0.0845 - val_acc: 0.9745\n",
      "Epoch 4/10\n",
      "20/20 [==============================] - 0s 11ms/step - loss: 0.0393 - acc: 0.9931 - val_loss: 0.0636 - val_acc: 0.9770\n",
      "Epoch 5/10\n",
      "20/20 [==============================] - 0s 11ms/step - loss: 0.0193 - acc: 0.9972 - val_loss: 0.0587 - val_acc: 0.9806\n",
      "Epoch 6/10\n",
      "20/20 [==============================] - 0s 11ms/step - loss: 0.0107 - acc: 0.9992 - val_loss: 0.0566 - val_acc: 0.9794\n",
      "Epoch 7/10\n",
      "20/20 [==============================] - 0s 10ms/step - loss: 0.0068 - acc: 1.0000 - val_loss: 0.0565 - val_acc: 0.9794\n",
      "Epoch 8/10\n",
      "20/20 [==============================] - 0s 10ms/step - loss: 0.0049 - acc: 1.0000 - val_loss: 0.0569 - val_acc: 0.9794\n",
      "Epoch 9/10\n",
      "20/20 [==============================] - 0s 12ms/step - loss: 0.0036 - acc: 1.0000 - val_loss: 0.0574 - val_acc: 0.9782\n",
      "Epoch 10/10\n",
      "20/20 [==============================] - 0s 11ms/step - loss: 0.0028 - acc: 1.0000 - val_loss: 0.0580 - val_acc: 0.9794\n"
     ]
    }
   ],
   "source": [
    "history = model.fit(\n",
    "    x=x_train,\n",
    "    y=y_train,\n",
    "    epochs=10,\n",
    "    batch_size=128,\n",
    "    validation_data=(x_val,y_val)\n",
    ")"
   ]
  },
  {
   "cell_type": "code",
   "execution_count": 71,
   "metadata": {},
   "outputs": [
    {
     "data": {
      "text/plain": [
       "'D:\\\\elice_python\\\\GAS_5\\\\pytest\\\\datasets\\\\불법 대부업 데이터'"
      ]
     },
     "execution_count": 71,
     "metadata": {},
     "output_type": "execute_result"
    }
   ],
   "source": [
    "path"
   ]
  },
  {
   "cell_type": "code",
   "execution_count": 74,
   "metadata": {},
   "outputs": [],
   "source": [
    "model.save(os.path.join(path,'models','fake_loan.keras'))\n",
    "import pickle\n",
    "with open(os.path.join(path,'models','fake_loan_tokenizer.pickle'), 'wb') as handle:\n",
    "    pickle.dump(tokenizer, handle, protocol=pickle.HIGHEST_PROTOCOL)"
   ]
  },
  {
   "cell_type": "code",
   "execution_count": 75,
   "metadata": {},
   "outputs": [
    {
     "name": "stdout",
     "output_type": "stream",
     "text": [
      "Train acc. of each epoch : [0.794 0.963 0.99  0.993 0.997 0.999 1.    1.    1.    1.   ]\n",
      "Valid acc. of each epoch : [0.92  0.968 0.975 0.977 0.981 0.979 0.979 0.979 0.978 0.979]\n"
     ]
    }
   ],
   "source": [
    "history_dict = history.history\n",
    "\n",
    "acc = history_dict['acc']\n",
    "val_acc = history_dict['val_acc']\n",
    "loss = history_dict['loss']\n",
    "val_loss = history_dict['val_loss']\n",
    "\n",
    "print(f'Train acc. of each epoch : {np.round(acc,3)}')\n",
    "print(f'Valid acc. of each epoch : {np.round(val_acc,3)}')"
   ]
  },
  {
   "cell_type": "code",
   "execution_count": 81,
   "metadata": {},
   "outputs": [
    {
     "name": "stdout",
     "output_type": "stream",
     "text": [
      "range(1, 11)\n"
     ]
    },
    {
     "data": {
      "image/png": "[encoded data removed]",
      "text/plain": [
       "<Figure size 640x480 with 1 Axes>"
      ]
     },
     "metadata": {},
     "output_type": "display_data"
    }
   ],
   "source": [
    "import matplotlib.pyplot as plt\n",
    "\n",
    "epochs = range(1, len(acc)+1)\n",
    "print(epochs)\n",
    "\n",
    "plt.plot(epochs, acc, 'bo', label = 'Training Acc.')\n",
    "plt.plot(epochs, val_acc, 'black', label = 'Validation Acc.')\n",
    "plt.plot(epochs, loss, 'ro', label = 'Training loss')\n",
    "plt.plot(epochs, val_loss, '--', label = 'Validation loss')\n",
    "plt.title('T&V')\n",
    "plt.legend()\n",
    "plt.show()"
   ]
  },
  {
   "cell_type": "markdown",
   "metadata": {},
   "source": [
    "### Load"
   ]
  },
  {
   "cell_type": "code",
   "execution_count": 82,
   "metadata": {},
   "outputs": [],
   "source": [
    "import os\n",
    "from keras.models import load_model\n",
    "model_path = os.path.join(path,'models')\n",
    "os.chdir(model_path)"
   ]
  },
  {
   "cell_type": "code",
   "execution_count": 83,
   "metadata": {},
   "outputs": [
    {
     "name": "stdout",
     "output_type": "stream",
     "text": [
      "<keras.engine.sequential.Sequential object at 0x000001B9A1CCACD0>\n"
     ]
    }
   ],
   "source": [
    "loaded_model = load_model('fake_loan.keras')\n",
    "print(loaded_model)"
   ]
  },
  {
   "cell_type": "code",
   "execution_count": 84,
   "metadata": {},
   "outputs": [
    {
     "data": {
      "text/plain": [
       "<keras.preprocessing.text.Tokenizer at 0x1b9930fe160>"
      ]
     },
     "execution_count": 84,
     "metadata": {},
     "output_type": "execute_result"
    }
   ],
   "source": [
    "import pickle\n",
    "with open('fake_loan_tokenizer.pickle', 'rb') as handle:\n",
    "    loaded_tokenizer = pickle.load(handle)\n",
    "loaded_tokenizer"
   ]
  },
  {
   "cell_type": "code",
   "execution_count": 85,
   "metadata": {},
   "outputs": [
    {
     "data": {
      "text/plain": [
       "(1100, 3397)"
      ]
     },
     "execution_count": 85,
     "metadata": {},
     "output_type": "execute_result"
    }
   ],
   "source": [
    "x_test = loaded_tokenizer.texts_to_matrix(test_text)\n",
    "x_test.shape"
   ]
  },
  {
   "cell_type": "code",
   "execution_count": 86,
   "metadata": {},
   "outputs": [
    {
     "name": "stdout",
     "output_type": "stream",
     "text": [
      "35/35 [==============================] - 0s 3ms/step - loss: 0.0523 - acc: 0.9818\n"
     ]
    }
   ],
   "source": [
    "test_eval = loaded_model.evaluate(x_test, test_label)"
   ]
  },
  {
   "cell_type": "markdown",
   "metadata": {},
   "source": [
    "### 한 개 데이터 예측"
   ]
  },
  {
   "cell_type": "code",
   "execution_count": 87,
   "metadata": {},
   "outputs": [],
   "source": [
    "text = '24시간 상시 대기. 전화 즉시 바로 연결. 5분 안에 최대 500만원'"
   ]
  },
  {
   "cell_type": "code",
   "execution_count": 88,
   "metadata": {},
   "outputs": [
    {
     "name": "stdout",
     "output_type": "stream",
     "text": [
      "filepath:  C:\\Users\\Caelu\\anaconda3\\envs\\tf_gpu\\Lib\\site-packages\n",
      "classpath:  C:\\Users\\Caelu\\anaconda3\\envs\\tf_gpu\\Lib\\site-packages\\rhinoMorph/lib/rhino.jar\n",
      "RHINO started!\n"
     ]
    }
   ],
   "source": [
    "import rhinoMorph\n",
    "rn = rhinoMorph.startRhino()"
   ]
  },
  {
   "cell_type": "code",
   "execution_count": 100,
   "metadata": {},
   "outputs": [],
   "source": [
    "text_morphed = rhinoMorph.onlyMorph_list(rn, text, pos=['NNG', 'NNP', 'VV', 'VA', 'XR', 'IC', 'MM', 'MAG', 'MAJ'], eomi=False )"
   ]
  },
  {
   "cell_type": "code",
   "execution_count": 101,
   "metadata": {},
   "outputs": [
    {
     "name": "stdout",
     "output_type": "stream",
     "text": [
      "시간 상시 대기 전화 즉시 바로 연결 안 최대\n"
     ]
    }
   ],
   "source": [
    "text = ' '.join(text_morphed)\n",
    "print(text)"
   ]
  },
  {
   "cell_type": "code",
   "execution_count": 105,
   "metadata": {},
   "outputs": [
    {
     "data": {
      "text/plain": [
       "(1, 3397)"
      ]
     },
     "execution_count": 105,
     "metadata": {},
     "output_type": "execute_result"
    }
   ],
   "source": [
    "sample = loaded_tokenizer.texts_to_matrix([text])\n",
    "sample.shape"
   ]
  },
  {
   "cell_type": "markdown",
   "metadata": {},
   "source": [
    "- 주의! text를 리스트로 감싸서 전달해야함!"
   ]
  },
  {
   "cell_type": "code",
   "execution_count": 108,
   "metadata": {},
   "outputs": [
    {
     "name": "stdout",
     "output_type": "stream",
     "text": [
      "1/1 [==============================] - 0s 54ms/step\n"
     ]
    },
    {
     "data": {
      "text/plain": [
       "array([[0.4116942]], dtype=float32)"
      ]
     },
     "execution_count": 108,
     "metadata": {},
     "output_type": "execute_result"
    }
   ],
   "source": [
    "prediction = loaded_model.predict(sample)\n",
    "prediction"
   ]
  },
  {
   "cell_type": "markdown",
   "metadata": {},
   "source": [
    "## 2. 성별 예측 모델 생성\n",
    "- `감성대화말뭉치(최종데이터)_Training.CSV` 파일을 열고,\n",
    "- ‘성별, 사람문장1’로 train 데이터를, ‘성별, 사람문장2’로 test 데이터를 만드시오\n",
    "- 문제가 있는 행은 적절히 처리하시오\n",
    "- 형태소 분석을 진행하시오\n",
    "- 남녀 성별을 예측하는 모델을 train 데이터로 학습하여 만들어 test 데이터로 예측하시오\n",
    "- train 데이터의 10%로 validation 데이터를 만드시오\n",
    "- 모델 저장 및 1개 데이터 예측 과정은 생략"
   ]
  },
  {
   "cell_type": "code",
   "execution_count": 6,
   "metadata": {},
   "outputs": [],
   "source": [
    "import os\n",
    "import pandas as pd\n",
    "\n",
    "path = 'D:\\elice_python\\GAS_5\\pytest\\datasets\\감성대화말뭉치'\n",
    "\n",
    "os.chdir(path)"
   ]
  },
  {
   "cell_type": "code",
   "execution_count": 7,
   "metadata": {},
   "outputs": [
    {
     "name": "stderr",
     "output_type": "stream",
     "text": [
      "C:\\Users\\Caelu\\AppData\\Local\\Temp\\ipykernel_46456\\858027503.py:1: DtypeWarning: Columns (1,2,3,4,5,6,7,8,9,10,11,12,13,14) have mixed types. Specify dtype option on import or set low_memory=False.\n",
      "  data = pd.read_csv('감성대화말뭉치(최종데이터)_Training.csv', header=0, encoding='cp949')\n"
     ]
    },
    {
     "data": {
      "text/html": [
       "<div>\n",
       "<style scoped>\n",
       "    .dataframe tbody tr th:only-of-type {\n",
       "        vertical-align: middle;\n",
       "    }\n",
       "\n",
       "    .dataframe tbody tr th {\n",
       "        vertical-align: top;\n",
       "    }\n",
       "\n",
       "    .dataframe thead th {\n",
       "        text-align: right;\n",
       "    }\n",
       "</style>\n",
       "<table border=\"1\" class=\"dataframe\">\n",
       "  <thead>\n",
       "    <tr style=\"text-align: right;\">\n",
       "      <th></th>\n",
       "      <th>번호</th>\n",
       "      <th>연령</th>\n",
       "      <th>성별</th>\n",
       "      <th>상황키워드</th>\n",
       "      <th>신체질환</th>\n",
       "      <th>감정_대분류</th>\n",
       "      <th>감정_소분류</th>\n",
       "      <th>사람문장1</th>\n",
       "      <th>시스템응답1</th>\n",
       "      <th>사람문장2</th>\n",
       "      <th>시스템응답2</th>\n",
       "      <th>사람문장3</th>\n",
       "      <th>시스템응답3</th>\n",
       "      <th>사람문장4</th>\n",
       "      <th>시스템응답4</th>\n",
       "    </tr>\n",
       "  </thead>\n",
       "  <tbody>\n",
       "    <tr>\n",
       "      <th>0</th>\n",
       "      <td>44164.0</td>\n",
       "      <td>청년</td>\n",
       "      <td>남성</td>\n",
       "      <td>연애, 결혼, 출산</td>\n",
       "      <td>해당없음</td>\n",
       "      <td>기쁨</td>\n",
       "      <td>신이 난</td>\n",
       "      <td>아내가 드디어 출산하게 되어서 정말 신이 나.</td>\n",
       "      <td>아내분이 출산을 하시는군요. 정말 축하드려요.</td>\n",
       "      <td>아 지금 정말 신이 나.</td>\n",
       "      <td>잘 된 일이네요.</td>\n",
       "      <td>아기가 점점 클게 벌써 기대가 되네. 내가 많이 놀아줘야지.</td>\n",
       "      <td>좋은 아빠가 되실 거 같아요. 진심으로 축하드려요.</td>\n",
       "      <td>NaN</td>\n",
       "      <td>NaN</td>\n",
       "    </tr>\n",
       "  </tbody>\n",
       "</table>\n",
       "</div>"
      ],
      "text/plain": [
       "        번호  연령  성별       상황키워드  신체질환 감정_대분류 감정_소분류                      사람문장1  \\\n",
       "0  44164.0  청년  남성  연애, 결혼, 출산  해당없음     기쁨   신이 난  아내가 드디어 출산하게 되어서 정말 신이 나.   \n",
       "\n",
       "                      시스템응답1          사람문장2     시스템응답2  \\\n",
       "0  아내분이 출산을 하시는군요. 정말 축하드려요.  아 지금 정말 신이 나.  잘 된 일이네요.   \n",
       "\n",
       "                                사람문장3                        시스템응답3 사람문장4  \\\n",
       "0  아기가 점점 클게 벌써 기대가 되네. 내가 많이 놀아줘야지.   좋은 아빠가 되실 거 같아요. 진심으로 축하드려요.   NaN   \n",
       "\n",
       "  시스템응답4  \n",
       "0    NaN  "
      ]
     },
     "execution_count": 7,
     "metadata": {},
     "output_type": "execute_result"
    }
   ],
   "source": [
    "data = pd.read_csv('감성대화말뭉치(최종데이터)_Training.csv', header=0, encoding='cp949')\n",
    "data.head(1)"
   ]
  },
  {
   "cell_type": "code",
   "execution_count": 3,
   "metadata": {},
   "outputs": [
    {
     "name": "stdout",
     "output_type": "stream",
     "text": [
      "<class 'pandas.core.frame.DataFrame'>\n",
      "RangeIndex: 69218 entries, 0 to 69217\n",
      "Data columns (total 15 columns):\n",
      " #   Column  Non-Null Count  Dtype  \n",
      "---  ------  --------------  -----  \n",
      " 0   번호      40879 non-null  float64\n",
      " 1   연령      40879 non-null  object \n",
      " 2   성별      40879 non-null  object \n",
      " 3   상황키워드   40879 non-null  object \n",
      " 4   신체질환    40879 non-null  object \n",
      " 5   감정_대분류  40879 non-null  object \n",
      " 6   감정_소분류  40879 non-null  object \n",
      " 7   사람문장1   40879 non-null  object \n",
      " 8   시스템응답1  40879 non-null  object \n",
      " 9   사람문장2   40879 non-null  object \n",
      " 10  시스템응답2  40879 non-null  object \n",
      " 11  사람문장3   31059 non-null  object \n",
      " 12  시스템응답3  31059 non-null  object \n",
      " 13  사람문장4   1472 non-null   object \n",
      " 14  시스템응답4  1362 non-null   object \n",
      "dtypes: float64(1), object(14)\n",
      "memory usage: 7.9+ MB\n"
     ]
    }
   ],
   "source": [
    "data.info()"
   ]
  },
  {
   "cell_type": "code",
   "execution_count": 4,
   "metadata": {},
   "outputs": [
    {
     "data": {
      "text/plain": [
       "array(['남성', '여성', nan], dtype=object)"
      ]
     },
     "execution_count": 4,
     "metadata": {},
     "output_type": "execute_result"
    }
   ],
   "source": [
    "data.성별.unique()"
   ]
  },
  {
   "cell_type": "code",
   "execution_count": 8,
   "metadata": {},
   "outputs": [],
   "source": [
    "data.dropna(subset=['성별','사람문장1','사람문장2'], inplace=True)"
   ]
  },
  {
   "cell_type": "code",
   "execution_count": 9,
   "metadata": {},
   "outputs": [
    {
     "data": {
      "text/plain": [
       "array(['남성', '여성'], dtype=object)"
      ]
     },
     "execution_count": 9,
     "metadata": {},
     "output_type": "execute_result"
    }
   ],
   "source": [
    "data.성별.unique()"
   ]
  },
  {
   "cell_type": "code",
   "execution_count": 7,
   "metadata": {},
   "outputs": [
    {
     "name": "stdout",
     "output_type": "stream",
     "text": [
      "<class 'pandas.core.frame.DataFrame'>\n",
      "Index: 40879 entries, 0 to 40878\n",
      "Data columns (total 15 columns):\n",
      " #   Column  Non-Null Count  Dtype  \n",
      "---  ------  --------------  -----  \n",
      " 0   번호      40879 non-null  float64\n",
      " 1   연령      40879 non-null  object \n",
      " 2   성별      40879 non-null  object \n",
      " 3   상황키워드   40879 non-null  object \n",
      " 4   신체질환    40879 non-null  object \n",
      " 5   감정_대분류  40879 non-null  object \n",
      " 6   감정_소분류  40879 non-null  object \n",
      " 7   사람문장1   40879 non-null  object \n",
      " 8   시스템응답1  40879 non-null  object \n",
      " 9   사람문장2   40879 non-null  object \n",
      " 10  시스템응답2  40879 non-null  object \n",
      " 11  사람문장3   31059 non-null  object \n",
      " 12  시스템응답3  31059 non-null  object \n",
      " 13  사람문장4   1472 non-null   object \n",
      " 14  시스템응답4  1362 non-null   object \n",
      "dtypes: float64(1), object(14)\n",
      "memory usage: 5.0+ MB\n"
     ]
    }
   ],
   "source": [
    "data.info()"
   ]
  },
  {
   "cell_type": "code",
   "execution_count": 10,
   "metadata": {},
   "outputs": [],
   "source": [
    "data['성별'] = data['성별'].replace({'남성': 0, '여성': 1})"
   ]
  },
  {
   "cell_type": "code",
   "execution_count": 11,
   "metadata": {},
   "outputs": [
    {
     "data": {
      "text/plain": [
       "array([0, 1], dtype=int64)"
      ]
     },
     "execution_count": 11,
     "metadata": {},
     "output_type": "execute_result"
    }
   ],
   "source": [
    "data.성별.unique()"
   ]
  },
  {
   "cell_type": "code",
   "execution_count": 19,
   "metadata": {},
   "outputs": [
    {
     "data": {
      "text/plain": [
       "((40879,), (40879,))"
      ]
     },
     "execution_count": 19,
     "metadata": {},
     "output_type": "execute_result"
    }
   ],
   "source": [
    "train_text = data.사람문장1\n",
    "test_text = data.사람문장2\n",
    "\n",
    "train_text.shape, test_text.shape"
   ]
  },
  {
   "cell_type": "code",
   "execution_count": 21,
   "metadata": {},
   "outputs": [
    {
     "name": "stdout",
     "output_type": "stream",
     "text": [
      "filepath:  C:\\Users\\Caelu\\anaconda3\\envs\\tf_gpu\\Lib\\site-packages\n",
      "classpath:  C:\\Users\\Caelu\\anaconda3\\envs\\tf_gpu\\Lib\\site-packages\\rhinoMorph/lib/rhino.jar\n",
      "RHINO started!\n"
     ]
    }
   ],
   "source": [
    "import rhinoMorph\n",
    "rn = rhinoMorph.startRhino()"
   ]
  },
  {
   "cell_type": "code",
   "execution_count": 12,
   "metadata": {},
   "outputs": [
    {
     "data": {
      "text/plain": [
       "['아내', '가', '드디어', '출산', '하', '게', '되', '어서', '정말', '신', '이', '나']"
      ]
     },
     "execution_count": 12,
     "metadata": {},
     "output_type": "execute_result"
    }
   ],
   "source": [
    "train_data_sample = rhinoMorph.onlyMorph_list(\n",
    "    rn, \n",
    "    train_text[0],\n",
    "    pos=['NNG','NNP','JKS', 'MAG','XR','XSV','VV','EC',\n",
    "         'MAG', 'VA', 'IC', 'MM', 'MAJ'], \n",
    "    eomi=False\n",
    "    )\n",
    "\n",
    "train_data_sample"
   ]
  },
  {
   "cell_type": "code",
   "execution_count": 13,
   "metadata": {},
   "outputs": [],
   "source": [
    "train_data = [' '.join(rhinoMorph.onlyMorph_list(\n",
    "    rn, \n",
    "    sample,\n",
    "    pos=['NNG','NNP','JKS', 'MAG','XR','XSV','VV','EC',\n",
    "         'MAG', 'VA', 'IC', 'MM', 'MAJ'], \n",
    "    eomi=False\n",
    "    )) for sample in train_text]"
   ]
  },
  {
   "cell_type": "code",
   "execution_count": 14,
   "metadata": {},
   "outputs": [
    {
     "data": {
      "text/plain": [
       "['아내 가 드디어 출산 하 게 되 어서 정말 신 이 나', '당뇨 합병증 어야 약이 가지 가 넘어가 니까 스트레스']"
      ]
     },
     "execution_count": 14,
     "metadata": {},
     "output_type": "execute_result"
    }
   ],
   "source": [
    "train_data[:2]"
   ]
  },
  {
   "cell_type": "code",
   "execution_count": 22,
   "metadata": {},
   "outputs": [
    {
     "data": {
      "text/plain": [
       "['아 지금 정말 신 이 나', '건강 하 때 관리 좀 잘 하 하 생각 이 들 더라고']"
      ]
     },
     "execution_count": 22,
     "metadata": {},
     "output_type": "execute_result"
    }
   ],
   "source": [
    "test_data = [' '.join(rhinoMorph.onlyMorph_list(\n",
    "    rn, \n",
    "    sample,\n",
    "    pos=['NNG','NNP','JKS', 'MAG','XR','XSV','VV','EC',\n",
    "         'MAG', 'VA', 'IC', 'MM', 'MAJ'], \n",
    "    eomi=False\n",
    "    )) for sample in test_text]\n",
    "\n",
    "test_data[:2]"
   ]
  },
  {
   "cell_type": "code",
   "execution_count": 16,
   "metadata": {},
   "outputs": [],
   "source": [
    "from keras.preprocessing.text import Tokenizer\n",
    "tokenizer = Tokenizer(num_words=9000)\n",
    "tokenizer.fit_on_texts(train_data)"
   ]
  },
  {
   "cell_type": "code",
   "execution_count": 17,
   "metadata": {},
   "outputs": [
    {
     "data": {
      "text/plain": [
       "9918"
      ]
     },
     "execution_count": 17,
     "metadata": {},
     "output_type": "execute_result"
    }
   ],
   "source": [
    "len(tokenizer.index_word)"
   ]
  },
  {
   "cell_type": "code",
   "execution_count": 18,
   "metadata": {},
   "outputs": [
    {
     "name": "stdout",
     "output_type": "stream",
     "text": [
      "최소길이:  1\n",
      "최대길이:  55\n",
      "평균길이:  12.3\n",
      "중위수길이:  12.0\n",
      "구간별 최대 길이:  [ 1.  9. 12. 15. 18. 55.]\n",
      "최소길이 문장:  속이\n",
      "최대길이 문장:  아 결국 친구 빌리 어 돈 떼이 게 생기 어 급전 이 필요 하 다고 부탁 하 아서 여러 차례 빌리 어 줄 게 벌써 이 넘 는데 이 지나 갚 생각 알 하 같 아 연락 하 더니 전화번호 바꾸 고 잠적 하 아 고 이 친구 당하 사람 이 이 아니야 아주 상습범\n"
     ]
    }
   ],
   "source": [
    "import numpy as np\n",
    "text_len = [len(line.split(' ')) for line in train_data]\n",
    "print(\"최소길이: \", np.min(text_len)) \n",
    "print(\"최대길이: \", np.max(text_len)) \n",
    "print(\"평균길이: \", np.round(np.mean(text_len), 1)) \n",
    "print(\"중위수길이: \", np.median(text_len)) \n",
    "print(\"구간별 최대 길이: \", np.percentile(text_len, [0, 25, 50, 75, 90, 100]))\n",
    "# - (percentile) 사용할 단어 개수는 90%를 담을 수 있는 20개로 한다\n",
    "print(\"최소길이 문장: \", train_data[np.argmin(text_len)])\n",
    "print(\"최대길이 문장: \", train_data[np.argmax(text_len)])"
   ]
  },
  {
   "cell_type": "code",
   "execution_count": 19,
   "metadata": {},
   "outputs": [
    {
     "data": {
      "image/png": "[encoded data removed]",
      "text/plain": [
       "<Figure size 640x480 with 1 Axes>"
      ]
     },
     "metadata": {},
     "output_type": "display_data"
    }
   ],
   "source": [
    "import matplotlib.pyplot as plt\n",
    "plt.figure()\n",
    "plt.boxplot(text_len, labels=['token_len'], meanline= True, showmeans=True)\n",
    "plt.show()"
   ]
  },
  {
   "cell_type": "code",
   "execution_count": 20,
   "metadata": {},
   "outputs": [
    {
     "data": {
      "text/plain": [
       "((40879, 9000), (40879,))"
      ]
     },
     "execution_count": 20,
     "metadata": {},
     "output_type": "execute_result"
    }
   ],
   "source": [
    "x = tokenizer.texts_to_matrix(train_data)\n",
    "y = data.성별\n",
    "x.shape, y.shape"
   ]
  },
  {
   "cell_type": "code",
   "execution_count": 21,
   "metadata": {},
   "outputs": [],
   "source": [
    "from sklearn.model_selection import train_test_split\n",
    "x_train, x_val, y_train, y_val = train_test_split(x, y, \n",
    "                                                  stratify=y, \n",
    "                                                  train_size=0.9,\n",
    "                                                  test_size=0.1, \n",
    "                                                  random_state=42)"
   ]
  },
  {
   "cell_type": "code",
   "execution_count": 22,
   "metadata": {},
   "outputs": [
    {
     "data": {
      "text/plain": [
       "((36791, 9000), (4088, 9000))"
      ]
     },
     "execution_count": 22,
     "metadata": {},
     "output_type": "execute_result"
    }
   ],
   "source": [
    "x_train.shape, x_val.shape"
   ]
  },
  {
   "cell_type": "code",
   "execution_count": 23,
   "metadata": {},
   "outputs": [],
   "source": [
    "from keras.models import Sequential\n",
    "from keras.layers import Input, Dense\n",
    "\n",
    "model = Sequential()\n",
    "\n",
    "model.add(Input(shape=(9000,)))\n",
    "model.add(Dense(64, activation = 'relu'))\n",
    "model.add(Dense(32, activation = 'relu'))\n",
    "model.add(Dense(1, activation = 'sigmoid'))"
   ]
  },
  {
   "cell_type": "code",
   "execution_count": 24,
   "metadata": {},
   "outputs": [
    {
     "name": "stdout",
     "output_type": "stream",
     "text": [
      "Model: \"sequential\"\n",
      "_________________________________________________________________\n",
      " Layer (type)                Output Shape              Param #   \n",
      "=================================================================\n",
      " dense (Dense)               (None, 64)                576064    \n",
      "                                                                 \n",
      " dense_1 (Dense)             (None, 32)                2080      \n",
      "                                                                 \n",
      " dense_2 (Dense)             (None, 1)                 33        \n",
      "                                                                 \n",
      "=================================================================\n",
      "Total params: 578,177\n",
      "Trainable params: 578,177\n",
      "Non-trainable params: 0\n",
      "_________________________________________________________________\n"
     ]
    }
   ],
   "source": [
    "model.summary()"
   ]
  },
  {
   "cell_type": "code",
   "execution_count": 25,
   "metadata": {},
   "outputs": [],
   "source": [
    "model.compile(\n",
    "    optimizer = 'adam',\n",
    "    loss = 'binary_crossentropy',\n",
    "    metrics = ['acc'],\n",
    ")"
   ]
  },
  {
   "cell_type": "code",
   "execution_count": 26,
   "metadata": {},
   "outputs": [
    {
     "name": "stdout",
     "output_type": "stream",
     "text": [
      "Epoch 1/10\n",
      "574/575 [============================>.] - ETA: 0s - loss: 0.6182 - acc: 0.6331\n",
      "Epoch 1: val_loss improved from inf to 0.58737, saving model to D:\\elice_python\\GAS_5\\pytest\\datasets\\감성대화말뭉치\\models\\gender_cls.keras\n",
      "575/575 [==============================] - 4s 5ms/step - loss: 0.6182 - acc: 0.6331 - val_loss: 0.5874 - val_acc: 0.6641\n",
      "Epoch 2/10\n",
      "567/575 [============================>.] - ETA: 0s - loss: 0.5247 - acc: 0.7209\n",
      "Epoch 2: val_loss improved from 0.58737 to 0.58123, saving model to D:\\elice_python\\GAS_5\\pytest\\datasets\\감성대화말뭉치\\models\\gender_cls.keras\n",
      "575/575 [==============================] - 2s 4ms/step - loss: 0.5244 - acc: 0.7213 - val_loss: 0.5812 - val_acc: 0.6734\n",
      "Epoch 3/10\n",
      "574/575 [============================>.] - ETA: 0s - loss: 0.4148 - acc: 0.8004\n",
      "Epoch 3: val_loss did not improve from 0.58123\n",
      "575/575 [==============================] - 2s 4ms/step - loss: 0.4149 - acc: 0.8003 - val_loss: 0.6296 - val_acc: 0.6705\n",
      "Epoch 4/10\n",
      "568/575 [============================>.] - ETA: 0s - loss: 0.2828 - acc: 0.8780\n",
      "Epoch 4: val_loss did not improve from 0.58123\n",
      "575/575 [==============================] - 2s 4ms/step - loss: 0.2826 - acc: 0.8782 - val_loss: 0.7799 - val_acc: 0.6788\n",
      "Epoch 5/10\n",
      "561/575 [============================>.] - ETA: 0s - loss: 0.1851 - acc: 0.9237\n",
      "Epoch 5: val_loss did not improve from 0.58123\n",
      "575/575 [==============================] - 2s 4ms/step - loss: 0.1856 - acc: 0.9235 - val_loss: 0.9604 - val_acc: 0.6671\n",
      "Epoch 6/10\n",
      "574/575 [============================>.] - ETA: 0s - loss: 0.1240 - acc: 0.9517\n",
      "Epoch 6: val_loss did not improve from 0.58123\n",
      "575/575 [==============================] - 2s 3ms/step - loss: 0.1241 - acc: 0.9516 - val_loss: 1.1605 - val_acc: 0.6715\n",
      "Epoch 7/10\n",
      "573/575 [============================>.] - ETA: 0s - loss: 0.0907 - acc: 0.9663\n",
      "Epoch 7: val_loss did not improve from 0.58123\n",
      "575/575 [==============================] - 2s 3ms/step - loss: 0.0907 - acc: 0.9664 - val_loss: 1.3112 - val_acc: 0.6575\n",
      "Epoch 8/10\n",
      "562/575 [============================>.] - ETA: 0s - loss: 0.0689 - acc: 0.9760\n",
      "Epoch 8: val_loss did not improve from 0.58123\n",
      "575/575 [==============================] - 2s 3ms/step - loss: 0.0693 - acc: 0.9757 - val_loss: 1.4835 - val_acc: 0.6646\n",
      "Epoch 9/10\n",
      "569/575 [============================>.] - ETA: 0s - loss: 0.0565 - acc: 0.9801\n",
      "Epoch 9: val_loss did not improve from 0.58123\n",
      "575/575 [==============================] - 2s 3ms/step - loss: 0.0566 - acc: 0.9800 - val_loss: 1.6249 - val_acc: 0.6639\n",
      "Epoch 10/10\n",
      "565/575 [============================>.] - ETA: 0s - loss: 0.0494 - acc: 0.9832\n",
      "Epoch 10: val_loss did not improve from 0.58123\n",
      "575/575 [==============================] - 2s 3ms/step - loss: 0.0498 - acc: 0.9831 - val_loss: 1.7238 - val_acc: 0.6673\n"
     ]
    }
   ],
   "source": [
    "import os\n",
    "from keras.callbacks import ModelCheckpoint\n",
    "\n",
    "# 모델 저장 경로 설정\n",
    "path = os.getcwd()  # 현재 디렉토리로 설정\n",
    "model_dir = os.path.join(path, 'models')\n",
    "os.makedirs(model_dir, exist_ok=True)  # 디렉토리가 없으면 생성\n",
    "model_path = os.path.join(model_dir, 'gender_cls.keras')\n",
    "\n",
    "checkpointer = ModelCheckpoint(\n",
    "    filepath=model_path,\n",
    "    monitor='val_loss',\n",
    "    verbose=1,\n",
    "    save_best_only=True\n",
    ")\n",
    "\n",
    "# # 데이터 제너레이터 정의\n",
    "# def data_generator(X, y, batch_size):\n",
    "#     sample_count = X.shape[0]\n",
    "#     while True:  # 무한 반복 생성기\n",
    "#         for offset in range(0, sample_count, batch_size):\n",
    "#             batch_X = X[offset:offset + batch_size]\n",
    "#             batch_y = y[offset:offset + batch_size]\n",
    "#             print(batch_X.shape)\n",
    "#             # batch_X의 형상이 (batch_size, input_dim) 형식이어야 합니다.\n",
    "#             # 예: (128, 9920) - 128개의 샘플, 각 샘플은 9920차원의 벡터\n",
    "#             yield batch_X, batch_y\n",
    "\n",
    "# # 제너레이터를 모델에 적용\n",
    "# batch_size = 128\n",
    "# train_generator = data_generator(x_train, y_train, batch_size)\n",
    "\n",
    "# 모델 훈련\n",
    "history = model.fit(\n",
    "        x_train,\n",
    "        y_train,\n",
    "        batch_size=64,\n",
    "        # train_generator,\n",
    "        # steps_per_epoch=len(x_train) // batch_size,\n",
    "        epochs=10,\n",
    "        callbacks=[checkpointer],\n",
    "        validation_data=(x_val, y_val)  # 검증 데이터 제공\n",
    ")\n"
   ]
  },
  {
   "cell_type": "code",
   "execution_count": 24,
   "metadata": {},
   "outputs": [
    {
     "data": {
      "text/plain": [
       "(40879, 9000)"
      ]
     },
     "execution_count": 24,
     "metadata": {},
     "output_type": "execute_result"
    }
   ],
   "source": [
    "x_test = tokenizer.texts_to_matrix(test_data)\n",
    "x_test.shape"
   ]
  },
  {
   "cell_type": "code",
   "execution_count": 31,
   "metadata": {},
   "outputs": [
    {
     "data": {
      "text/plain": [
       "'D:\\\\elice_python\\\\GAS_5\\\\pytest\\\\datasets\\\\감성대화말뭉치'"
      ]
     },
     "execution_count": 31,
     "metadata": {},
     "output_type": "execute_result"
    }
   ],
   "source": [
    "path"
   ]
  },
  {
   "cell_type": "code",
   "execution_count": 33,
   "metadata": {},
   "outputs": [],
   "source": [
    "import pickle\n",
    "with open(os.path.join(path,'models','tokenizer.pickle'), 'wb') as handle:\n",
    "    pickle.dump(tokenizer, handle, protocol=pickle.HIGHEST_PROTOCOL)"
   ]
  },
  {
   "cell_type": "code",
   "execution_count": 26,
   "metadata": {},
   "outputs": [],
   "source": [
    "with open(os.path.join(path,'models','x_test.pickle'), 'wb') as handle:\n",
    "    pickle.dump(x_test, handle, protocol=pickle.HIGHEST_PROTOCOL)"
   ]
  },
  {
   "cell_type": "code",
   "execution_count": 3,
   "metadata": {},
   "outputs": [],
   "source": [
    "path = 'D:\\\\elice_python\\\\GAS_5\\\\pytest\\\\datasets\\\\감성대화말뭉치'"
   ]
  },
  {
   "cell_type": "code",
   "execution_count": 27,
   "metadata": {},
   "outputs": [],
   "source": [
    "from keras.models import load_model\n",
    "import os\n",
    "import pickle\n",
    "loaded_model = load_model(os.path.join(path, 'models', 'gender_cls.keras'))\n",
    "with open(os.path.join(path,'models','tokenizer.pickle'), 'rb') as handle:\n",
    "    loaded_tokenizer = pickle.load(handle)\n",
    "with open(os.path.join(path,'models','x_test.pickle'), 'rb') as handle:\n",
    "    x_test = pickle.load(handle)\n",
    "y = data.성별\n"
   ]
  },
  {
   "cell_type": "code",
   "execution_count": 29,
   "metadata": {},
   "outputs": [
    {
     "data": {
      "text/plain": [
       "(40879, 9000)"
      ]
     },
     "execution_count": 29,
     "metadata": {},
     "output_type": "execute_result"
    }
   ],
   "source": [
    "x_test.shape"
   ]
  },
  {
   "cell_type": "code",
   "execution_count": 30,
   "metadata": {},
   "outputs": [
    {
     "name": "stdout",
     "output_type": "stream",
     "text": [
      "1278/1278 [==============================] - 4s 2ms/step - loss: 0.6783 - acc: 0.5904\n"
     ]
    },
    {
     "data": {
      "text/plain": [
       "[0.6783235669136047, 0.5904253721237183]"
      ]
     },
     "execution_count": 30,
     "metadata": {},
     "output_type": "execute_result"
    }
   ],
   "source": [
    "loaded_model.evaluate(x_test,y)"
   ]
  },
  {
   "cell_type": "code",
   "execution_count": null,
   "metadata": {},
   "outputs": [],
   "source": []
  }
 ],
 "metadata": {
  "kernelspec": {
   "display_name": "tf_gpu",
   "language": "python",
   "name": "python3"
  },
  "language_info": {
   "codemirror_mode": {
    "name": "ipython",
    "version": 3
   },
   "file_extension": ".py",
   "mimetype": "text/x-python",
   "name": "python",
   "nbconvert_exporter": "python",
   "pygments_lexer": "ipython3",
   "version": "3.8.19"
  }
 },
 "nbformat": 4,
 "nbformat_minor": 2
}
