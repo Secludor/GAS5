{
 "cells": [
  {
   "cell_type": "code",
   "execution_count": 1,
   "metadata": {},
   "outputs": [],
   "source": [
    "import numpy as np\n",
    "A = np.array([[1,2],[3,4]])\n",
    "B = np.array([[5,6],[7,8]])"
   ]
  },
  {
   "cell_type": "code",
   "execution_count": 4,
   "metadata": {},
   "outputs": [
    {
     "data": {
      "text/plain": [
       "(array([[ 5, 12],\n",
       "        [21, 32]]),\n",
       " array([[19, 22],\n",
       "        [43, 50]]),\n",
       " array([[23, 34],\n",
       "        [31, 46]]))"
      ]
     },
     "execution_count": 4,
     "metadata": {},
     "output_type": "execute_result"
    }
   ],
   "source": [
    "A*B, np.dot(A,B), np.dot(B,A)"
   ]
  },
  {
   "cell_type": "code",
   "execution_count": 23,
   "metadata": {},
   "outputs": [
    {
     "name": "stdout",
     "output_type": "stream",
     "text": [
      "A : (3, 2)\n",
      "B1 : (2, 1)\n",
      "[[7]\n",
      " [8]]\n",
      "B2 : (1, 2, 1)\n",
      "[[[7]\n",
      "  [8]]]\n",
      "B3 : (2,)\n",
      "[7 8]\n"
     ]
    }
   ],
   "source": [
    "A = np.array([[1,2],[3,4],[5,6]])\n",
    "B1 = np.array([[7],[8]])\n",
    "B2 = np.array([[[7],[8]]])\n",
    "B3 = np.array([7,8])\n",
    "print(f'A : {A.shape}')\n",
    "print(f'B1 : {B1.shape}')\n",
    "print(B1)\n",
    "print(f'B2 : {B2.shape}')\n",
    "print(B2)\n",
    "print(f'B3 : {B3.shape}')\n",
    "print(B3)"
   ]
  },
  {
   "cell_type": "code",
   "execution_count": 24,
   "metadata": {},
   "outputs": [],
   "source": [
    "result1 = np.dot(A,B1)\n",
    "result2 = np.dot(A,B2)\n",
    "result3 = np.dot(A,B3)"
   ]
  },
  {
   "cell_type": "code",
   "execution_count": 25,
   "metadata": {},
   "outputs": [
    {
     "name": "stdout",
     "output_type": "stream",
     "text": [
      "A*B1 : (3, 1)\n",
      "[[23]\n",
      " [53]\n",
      " [83]]\n",
      "A*B2 : (3, 1, 1)\n",
      "[[[23]]\n",
      "\n",
      " [[53]]\n",
      "\n",
      " [[83]]]\n",
      "A*B3 : (3,)\n",
      "[23 53 83]\n"
     ]
    }
   ],
   "source": [
    "print(f'A*B1 : {result1.shape}')\n",
    "print(result1)\n",
    "print(f'A*B2 : {result2.shape}')\n",
    "print(result2)\n",
    "\n",
    "print(f'A*B3 : {result3.shape}')\n",
    "print(result3)\n"
   ]
  },
  {
   "cell_type": "code",
   "execution_count": 59,
   "metadata": {},
   "outputs": [
    {
     "data": {
      "text/plain": [
       "(4, 2, 3, 2)"
      ]
     },
     "execution_count": 59,
     "metadata": {},
     "output_type": "execute_result"
    }
   ],
   "source": [
    "A = np.array([[[[1,2],[3,4],[5,6]],[[1,2],[3,4],[5,6]]],\n",
    "              [[[1,2],[3,4],[5,6]],[[1,2],[3,4],[5,6]]],\n",
    "              [[[1,2],[3,4],[5,6]],[[1,2],[3,4],[5,6]]],\n",
    "              [[[1,2],[3,4],[5,6]],[[1,2],[3,4],[5,6]]]])\n",
    "A.shape"
   ]
  },
  {
   "cell_type": "code",
   "execution_count": 67,
   "metadata": {},
   "outputs": [
    {
     "name": "stdout",
     "output_type": "stream",
     "text": [
      "B1 : (2, 1)\n",
      "B2 : (1, 2, 1)\n",
      "B3 : (1, 1, 3, 2, 1)\n"
     ]
    }
   ],
   "source": [
    "B1 = np.array([[7],[8]])\n",
    "B2 = np.array([[[7],[8]]])\n",
    "B3 = np.array([[[[[7],[8]],[[7],[8]],[[7],[8]]]]])\n",
    "\n",
    "print(f'B1 : {B1.shape}')\n",
    "print(f'B2 : {B2.shape}')\n",
    "print(f'B3 : {B3.shape}')\n"
   ]
  },
  {
   "cell_type": "code",
   "execution_count": 68,
   "metadata": {},
   "outputs": [
    {
     "name": "stdout",
     "output_type": "stream",
     "text": [
      "A*B1 : (4, 2, 3, 1)\n",
      "A*B2 : (4, 2, 3, 1, 1)\n",
      "A*B3 : (4, 2, 3, 1, 1, 3, 1)\n"
     ]
    }
   ],
   "source": [
    "result1 = np.dot(A,B1)\n",
    "result2 = np.dot(A,B2)\n",
    "result3 = np.dot(A,B3)\n",
    "print(f'A*B1 : {result1.shape}')\n",
    "# print(result1)\n",
    "print(f'A*B2 : {result2.shape}')\n",
    "# print(result2)\n",
    "print(f'A*B3 : {result3.shape}')\n",
    "# print(result3)\n"
   ]
  },
  {
   "cell_type": "code",
   "execution_count": null,
   "metadata": {},
   "outputs": [],
   "source": []
  }
 ],
 "metadata": {
  "kernelspec": {
   "display_name": "Python 3",
   "language": "python",
   "name": "python3"
  },
  "language_info": {
   "codemirror_mode": {
    "name": "ipython",
    "version": 3
   },
   "file_extension": ".py",
   "mimetype": "text/x-python",
   "name": "python",
   "nbconvert_exporter": "python",
   "pygments_lexer": "ipython3",
   "version": "3.10.13"
  }
 },
 "nbformat": 4,
 "nbformat_minor": 2
}
