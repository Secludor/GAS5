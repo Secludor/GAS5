{
 "cells": [
  {
   "cell_type": "code",
   "execution_count": 1,
   "metadata": {},
   "outputs": [],
   "source": [
    "import matplotlib\n",
    "from matplotlib import font_manager, rc\n",
    "font_path = 'C:/Windows/Fonts/malgun.ttf'\n",
    "font_name = font_manager.FontProperties(fname=font_path).get_name()\n",
    "matplotlib.rc('font',family=font_name)"
   ]
  },
  {
   "cell_type": "markdown",
   "metadata": {},
   "source": [
    "- matplotlib의 rc는 \"runtime configuration\"의 약자로, 그래픽의 스타일과 동작을 설정하는 데 사용되는 구성 매개변수\n"
   ]
  },
  {
   "cell_type": "code",
   "execution_count": 2,
   "metadata": {},
   "outputs": [
    {
     "data": {
      "text/plain": [
       "'D:\\\\elice_python\\\\GAS_5\\\\pytest'"
      ]
     },
     "execution_count": 2,
     "metadata": {},
     "output_type": "execute_result"
    }
   ],
   "source": [
    "import os\n",
    "import pandas as pd\n",
    "\n",
    "path = 'D:\\elice_python\\GAS_5\\pytest'\n",
    "\n",
    "os.chdir(path)\n",
    "os.getcwd()"
   ]
  },
  {
   "cell_type": "code",
   "execution_count": 3,
   "metadata": {},
   "outputs": [],
   "source": [
    "def read_data(filename:str, encoding='cp949', start=1):\n",
    "    with open(filename, 'r', encoding=encoding) as f :\n",
    "        data = [line.split('\\t') for line in f.read().splitlines()]\n",
    "        data = data[start:]  # 파일 header 제외를 위해 설정.\n",
    "    return data  # 각 요소는 파일의 한 줄에 해당하며, 각 줄은 탭으로 구분된 값들로 이루어진 리스트"
   ]
  },
  {
   "cell_type": "code",
   "execution_count": 4,
   "metadata": {},
   "outputs": [],
   "source": [
    "def write_data(data,filename:str,encoding='cp949'):\n",
    "    with open(filename,'w',encoding=encoding) as f :\n",
    "        f.write(data)"
   ]
  },
  {
   "cell_type": "code",
   "execution_count": 5,
   "metadata": {},
   "outputs": [
    {
     "name": "stdout",
     "output_type": "stream",
     "text": [
      "495\n",
      "3\n"
     ]
    }
   ],
   "source": [
    "data = read_data('ratings_morphed.txt', encoding='cp949',start=0)\n",
    "print(len(data))\n",
    "print(len(data[0]))\n",
    "data_text = [line[1] for line in data]\n",
    "data_senti = [line[2] for line in data]"
   ]
  },
  {
   "cell_type": "markdown",
   "metadata": {},
   "source": [
    "# n-gram search\n",
    "- 모든 단어의 연결을 고려하는 것은 어렵지만 2개 혹은 3개 단어가 연결된 정도를 보는 것은 비교적 쉽다.\n",
    "\t- 일종의 문맥을 참고하는 방식\n",
    "\t- 관용 표현을 파악할 수도 있다 (물 흐르듯 한다, 밑도 끝도 없다)\n",
    "- 유니그램(uni-gram, 1개 단어), 바이그램(bi-gram, 2개 단어), 트라이그램(tri-gram, 3개 단어)이라고 하며, 통칭 n-그램이라고 한다\n",
    "\n",
    "- n-그램 검색은 scikit-learn의 CountVectorizer의 ngram_range 파라미터로 가능하다\n",
    "\t- ngram_range=(1, 1) : 유니그램\n",
    "\t- ngram_range=(2, 2) : 바이그램\n",
    "\t- ngram_range=(3, 3) : 트라이그램\n",
    "\t- ngram_range=(1, 3) : 유니그램, 바이그램, 트라이그램\n"
   ]
  },
  {
   "cell_type": "code",
   "execution_count": 6,
   "metadata": {},
   "outputs": [],
   "source": [
    "test_words = ['this is the great', 'yes this is the great!']"
   ]
  },
  {
   "cell_type": "code",
   "execution_count": 7,
   "metadata": {},
   "outputs": [
    {
     "data": {
      "text/plain": [
       "array(['is the', 'the great', 'this is', 'yes this'], dtype=object)"
      ]
     },
     "execution_count": 7,
     "metadata": {},
     "output_type": "execute_result"
    }
   ],
   "source": [
    "from sklearn.feature_extraction.text import CountVectorizer\n",
    "vect = CountVectorizer(ngram_range=(2,2)).fit(test_words)\n",
    "vect.get_feature_names_out()"
   ]
  },
  {
   "cell_type": "code",
   "execution_count": 9,
   "metadata": {},
   "outputs": [
    {
     "name": "stdout",
     "output_type": "stream",
     "text": [
      "12\n",
      "['ㅋㅋ ㅋㅋ' '다시 보다' '만들다 영화' '보다 내내' '보다 영화' '시간 아깝다' '영화 보다' '이런 영화' '재미 없다'\n",
      " '정말 재미있다' '좋다 영화' '하다 영화']\n"
     ]
    }
   ],
   "source": [
    "vect = CountVectorizer(min_df=5, ngram_range=(2,2)).fit(data_text)\n",
    "print(len(vect.vocabulary_))\n",
    "print(vect.get_feature_names_out())"
   ]
  },
  {
   "cell_type": "markdown",
   "metadata": {},
   "source": [
    "- min_df는 CountVectorizer에서 사용되는 매개변수로, \"minimum document frequency\"의 약자"
   ]
  },
  {
   "cell_type": "markdown",
   "metadata": {},
   "source": [
    "-  전체 데이터를 형태소 분석한 결과로는 23,467 쌍이 발견되었다\n",
    "- 이러한 바이너리 쌍의 집합을 bag of 2-gram 이라고 한다"
   ]
  },
  {
   "cell_type": "markdown",
   "metadata": {},
   "source": [
    "# 문장 분리기"
   ]
  },
  {
   "cell_type": "markdown",
   "metadata": {},
   "source": [
    "## 문장 분리기 kss\n",
    "\n",
    "- 한국어를 위한 문장 분리기 라이브러리로 kss를 사용할 수 있다\n",
    "\t-  그러나 이 패키지는 numpy 등 다른 패키지 사용에 문제를 줄 수 있으니 Colab에서만 사용할 것을 추천\n",
    "- https://docs.likejazz.com/kss/"
   ]
  },
  {
   "cell_type": "markdown",
   "metadata": {},
   "source": [
    "# 띄어쓰기 교정기\n",
    "## PyKoSpacing\n",
    "- 띄어쓰기만을 바르게 해결하는 라이브러리로 PyKoSpacing이 있다\n",
    "\t-  그러나 이 패키지는 numpy 등 다른 패키지 사용에 문제를 줄 수 있다. Colab에서 설치 추천\n",
    "- 설치: !pip install git+https://github.com/haven-jeon/PyKoSpacing.git\n",
    "- Colab에서는 !pip install git+https://github.com/haven-jeon/PyKoSpacing.git --no-deps argument"
   ]
  },
  {
   "cell_type": "markdown",
   "metadata": {},
   "source": [
    "# 음절 및 자소 분리\n",
    "- 음절 단위 분리는 문자열을 리스트로 분리하는 것으로 바로 가능하고,\n",
    "-  자소 단위 분리는 jamo 패키지를 사용하는 것으로 가능하다\n",
    "```\n",
    "!pip install jamo\n",
    "from jamo import h2j, j2hcj\n",
    "review = '안녕하세요, Hi!'\n",
    "decomposed = list(review)\n",
    "print(decomposed)\n",
    "```\n",
    "- h2j는 완성형 → 조합형 변환, j2hcj는 조합형 문자열을 자소 단위로 분리한다\n",
    "```\n",
    "decomposed2 = list( j2hcj(h2j(review)))\n",
    "print(decomposed2)\n",
    "```\n"
   ]
  },
  {
   "cell_type": "code",
   "execution_count": null,
   "metadata": {},
   "outputs": [],
   "source": []
  }
 ],
 "metadata": {
  "kernelspec": {
   "display_name": "tf_gpu",
   "language": "python",
   "name": "python3"
  },
  "language_info": {
   "codemirror_mode": {
    "name": "ipython",
    "version": 3
   },
   "file_extension": ".py",
   "mimetype": "text/x-python",
   "name": "python",
   "nbconvert_exporter": "python",
   "pygments_lexer": "ipython3",
   "version": "3.8.19"
  }
 },
 "nbformat": 4,
 "nbformat_minor": 2
}
