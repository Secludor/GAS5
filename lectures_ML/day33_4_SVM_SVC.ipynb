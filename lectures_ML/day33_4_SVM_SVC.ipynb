{
 "cells": [
  {
   "cell_type": "code",
   "execution_count": 1,
   "metadata": {},
   "outputs": [],
   "source": [
    "import pandas as pd\n",
    "import os\n",
    "\n",
    "path = r'D:\\elice_python\\GAS_5\\pytest_machine'\n",
    "os.chdir(path)"
   ]
  },
  {
   "cell_type": "code",
   "execution_count": 2,
   "metadata": {},
   "outputs": [],
   "source": [
    "data = pd.read_csv('cancer.csv', header=0)"
   ]
  },
  {
   "cell_type": "code",
   "execution_count": 3,
   "metadata": {},
   "outputs": [
    {
     "name": "stdout",
     "output_type": "stream",
     "text": [
      "   mean radius  mean texture  mean perimeter  mean area  mean smoothness  \\\n",
      "0         18.0          10.4           123.0     1000.0           0.1180   \n",
      "1         20.6          17.8           133.0     1330.0           0.0847   \n",
      "2         19.7          21.3           130.0     1200.0           0.1100   \n",
      "3         11.4          20.4            77.6      386.0           0.1420   \n",
      "4         20.3          14.3           135.0     1300.0           0.1000   \n",
      "\n",
      "   mean compactness  mean concavity  mean concave points  mean symmetry  \\\n",
      "0            0.2780          0.3000               0.1470          0.242   \n",
      "1            0.0786          0.0869               0.0702          0.181   \n",
      "2            0.1600          0.1970               0.1280          0.207   \n",
      "3            0.2840          0.2410               0.1050          0.260   \n",
      "4            0.1330          0.1980               0.1040          0.181   \n",
      "\n",
      "   mean fractal dimension  ...  worst texture  worst perimeter  worst area  \\\n",
      "0                  0.0787  ...           17.3            185.0      2020.0   \n",
      "1                  0.0567  ...           23.4            159.0      1960.0   \n",
      "2                  0.0600  ...           25.5            153.0      1710.0   \n",
      "3                  0.0974  ...           26.5             98.9       568.0   \n",
      "4                  0.0588  ...           16.7            152.0      1580.0   \n",
      "\n",
      "   worst smoothness  worst compactness  worst concavity  worst concave points  \\\n",
      "0             0.162              0.666            0.712                 0.265   \n",
      "1             0.124              0.187            0.242                 0.186   \n",
      "2             0.144              0.424            0.450                 0.243   \n",
      "3             0.210              0.866            0.687                 0.258   \n",
      "4             0.137              0.205            0.400                 0.163   \n",
      "\n",
      "   worst symmetry  worst fractal dimension  benign  \n",
      "0           0.460                   0.1190     0.0  \n",
      "1           0.275                   0.0890     0.0  \n",
      "2           0.361                   0.0876     0.0  \n",
      "3           0.664                   0.1730     0.0  \n",
      "4           0.236                   0.0768     0.0  \n",
      "\n",
      "[5 rows x 31 columns]\n",
      "(569, 31)\n",
      "<class 'pandas.core.frame.DataFrame'>\n",
      "RangeIndex: 569 entries, 0 to 568\n",
      "Data columns (total 31 columns):\n",
      " #   Column                   Non-Null Count  Dtype  \n",
      "---  ------                   --------------  -----  \n",
      " 0   mean radius              569 non-null    float64\n",
      " 1   mean texture             569 non-null    float64\n",
      " 2   mean perimeter           569 non-null    float64\n",
      " 3   mean area                569 non-null    float64\n",
      " 4   mean smoothness          569 non-null    float64\n",
      " 5   mean compactness         569 non-null    float64\n",
      " 6   mean concavity           569 non-null    float64\n",
      " 7   mean concave points      569 non-null    float64\n",
      " 8   mean symmetry            569 non-null    float64\n",
      " 9   mean fractal dimension   569 non-null    float64\n",
      " 10  radius error             569 non-null    float64\n",
      " 11  texture error            569 non-null    float64\n",
      " 12  perimeter error          569 non-null    float64\n",
      " 13  area error               569 non-null    float64\n",
      " 14  smoothness error         569 non-null    float64\n",
      " 15  compactness error        569 non-null    float64\n",
      " 16  concavity error          569 non-null    float64\n",
      " 17  concave points error     569 non-null    float64\n",
      " 18  symmetry error           569 non-null    float64\n",
      " 19  fractal dimension error  569 non-null    float64\n",
      " 20  worst radius             569 non-null    float64\n",
      " 21  worst texture            569 non-null    float64\n",
      " 22  worst perimeter          569 non-null    float64\n",
      " 23  worst area               569 non-null    float64\n",
      " 24  worst smoothness         569 non-null    float64\n",
      " 25  worst compactness        569 non-null    float64\n",
      " 26  worst concavity          569 non-null    float64\n",
      " 27  worst concave points     569 non-null    float64\n",
      " 28  worst symmetry           569 non-null    float64\n",
      " 29  worst fractal dimension  569 non-null    float64\n",
      " 30  benign                   569 non-null    float64\n",
      "dtypes: float64(31)\n",
      "memory usage: 137.9 KB\n",
      "None\n"
     ]
    }
   ],
   "source": [
    "print(data.head())\n",
    "print(data.shape)\n",
    "print(data.info())"
   ]
  },
  {
   "cell_type": "code",
   "execution_count": 4,
   "metadata": {},
   "outputs": [
    {
     "name": "stdout",
     "output_type": "stream",
     "text": [
      "(569, 30)\n",
      "(569,)\n"
     ]
    }
   ],
   "source": [
    "X = data.iloc[:,:-1]\n",
    "y = data.iloc[:,-1]\n",
    "\n",
    "print(X.shape)\n",
    "print(y.shape)"
   ]
  },
  {
   "cell_type": "code",
   "execution_count": 5,
   "metadata": {},
   "outputs": [],
   "source": [
    "from sklearn.model_selection import train_test_split\n",
    "X_train, X_test, y_train, y_test = train_test_split(X,y, stratify=y, random_state=42)"
   ]
  },
  {
   "cell_type": "code",
   "execution_count": 6,
   "metadata": {},
   "outputs": [],
   "source": [
    "from sklearn.svm import SVC\n",
    "model = SVC()"
   ]
  },
  {
   "cell_type": "code",
   "execution_count": 7,
   "metadata": {},
   "outputs": [
    {
     "name": "stdout",
     "output_type": "stream",
     "text": [
      "\n",
      "      prediction : [1. 0. 1. 1. 1. 0. 1. 0. 0. 1. 1. 1. 0. 0. 1. 1. 0. 1. 1. 1. 0. 0. 1. 1.\n",
      " 1. 1. 1. 1. 1. 0. 1. 1. 1. 1. 1. 1. 1. 1. 0. 1. 0. 1. 0. 1. 0. 1. 0. 1.\n",
      " 0. 1. 1. 1. 1. 0. 1. 1. 1. 0. 0. 0. 1. 0. 1. 0. 1. 1. 0. 1. 1. 1. 1. 1.\n",
      " 1. 1. 1. 0. 0. 0. 0. 1. 1. 1. 1. 1. 0. 1. 0. 1. 1. 1. 1. 0. 0. 1. 0. 0.\n",
      " 0. 1. 0. 1. 0. 0. 0. 1. 1. 0. 1. 1. 0. 1. 0. 1. 1. 1. 1. 0. 1. 1. 1. 0.\n",
      " 1. 1. 0. 1. 1. 1. 1. 0. 1. 1. 1. 1. 1. 1. 0. 1. 1. 1. 1. 1. 1. 1. 1.]\n",
      "      테스트 데이터 점수 : 0.9230769230769231\n"
     ]
    }
   ],
   "source": [
    "model.fit(X_train,y_train)\n",
    "\n",
    "print(f'''\n",
    "      prediction : {model.predict(X_test)}\n",
    "      테스트 데이터 점수 : {model.score(X_test, y_test)}''')"
   ]
  },
  {
   "cell_type": "code",
   "execution_count": 8,
   "metadata": {},
   "outputs": [],
   "source": [
    "from sklearn.preprocessing import MinMaxScaler\n",
    "mms = MinMaxScaler()\n",
    "mms.fit(X_train)\n",
    "X_train_mms = mms.transform(X_train)"
   ]
  },
  {
   "cell_type": "code",
   "execution_count": 9,
   "metadata": {},
   "outputs": [
    {
     "name": "stdout",
     "output_type": "stream",
     "text": [
      "\n",
      "      before : (426, 30)\n",
      "           mean radius  mean texture  mean perimeter  mean area  mean smoothness  \\\n",
      "517         19.9          20.3           131.0     1210.0           0.1040   \n",
      "287         12.9          13.1            81.9      516.0           0.0696   \n",
      "25          17.1          16.4           116.0      913.0           0.1190   \n",
      "253         17.3          17.1           113.0      928.0           0.1010   \n",
      "369         22.0          21.9           147.0     1480.0           0.1060   \n",
      "\n",
      "     mean compactness  mean concavity  mean concave points  mean symmetry  \\\n",
      "517            0.1310          0.1410               0.0943          0.180   \n",
      "287            0.0373          0.0226               0.0117          0.134   \n",
      "25             0.2280          0.2230               0.1400          0.304   \n",
      "253            0.1040          0.1270               0.0835          0.181   \n",
      "369            0.1950          0.2450               0.1500          0.182   \n",
      "\n",
      "     mean fractal dimension  ...  worst radius  worst texture  \\\n",
      "517                  0.0619  ...          23.7           25.2   \n",
      "287                  0.0558  ...          13.6           15.5   \n",
      "25                   0.0741  ...          22.3           21.4   \n",
      "253                  0.0561  ...          19.9           25.1   \n",
      "369                  0.0614  ...          27.7           25.8   \n",
      "\n",
      "     worst perimeter  worst area  worst smoothness  worst compactness  \\\n",
      "517            161.0      1650.0            0.1420              0.331   \n",
      "287             87.4       577.0            0.0962              0.115   \n",
      "25             152.0      1460.0            0.1540              0.395   \n",
      "253            131.0      1220.0            0.1420              0.240   \n",
      "369            195.0      2230.0            0.1290              0.389   \n",
      "\n",
      "     worst concavity  worst concave points  worst symmetry  \\\n",
      "517            0.418                0.1610           0.255   \n",
      "287            0.119                0.0537           0.231   \n",
      "25             0.385                0.2550           0.407   \n",
      "253            0.338                0.1860           0.314   \n",
      "369            0.476                0.2430           0.274   \n",
      "\n",
      "     worst fractal dimension  \n",
      "517                   0.0914  \n",
      "287                   0.0692  \n",
      "25                    0.1060  \n",
      "253                   0.0811  \n",
      "369                   0.0857  \n",
      "\n",
      "[5 rows x 30 columns]\n",
      "      \n",
      "      after : (426, 30)\n",
      "      [[0.61174242 0.35789118 0.60055096 ... 0.5532646  0.19329389 0.23947368]\n",
      " [0.28030303 0.11456573 0.26239669 ... 0.18453608 0.14595661 0.09342105]\n",
      " [0.47916667 0.2260899  0.49724518 ... 0.87628866 0.49309665 0.33552632]\n",
      " ...\n",
      " [0.40340909 0.4795539  0.41460055 ... 0.74226804 0.28402367 0.34210526]\n",
      " [0.47916667 0.31733694 0.47658402 ... 0.87285223 0.30374753 0.23421053]\n",
      " [0.13257576 0.24636702 0.12878788 ... 0.18316151 0.18934911 0.19539474]]\n",
      "      \n",
      "      \n"
     ]
    }
   ],
   "source": [
    "print(f'''\n",
    "      before : {X_train.shape}\n",
    "      {X_train.head()}\n",
    "      \n",
    "      after : {X_train_mms.shape}\n",
    "      {X_train_mms}\n",
    "      \n",
    "      ''')"
   ]
  },
  {
   "cell_type": "code",
   "execution_count": 10,
   "metadata": {},
   "outputs": [],
   "source": [
    "model2 = SVC()\n",
    "model2.fit(X_train_mms, y_train)\n",
    "X_test_mms = mms.transform(X_test)"
   ]
  },
  {
   "cell_type": "code",
   "execution_count": 11,
   "metadata": {},
   "outputs": [
    {
     "name": "stdout",
     "output_type": "stream",
     "text": [
      "\n",
      "      prediction : [1. 0. 1. 1. 0. 0. 0. 0. 0. 1. 1. 1. 0. 0. 1. 1. 0. 0. 1. 1. 0. 0. 1. 1.\n",
      " 1. 1. 1. 1. 1. 0. 1. 1. 1. 1. 1. 1. 1. 1. 0. 1. 0. 1. 0. 1. 1. 1. 0. 1.\n",
      " 0. 1. 1. 1. 1. 0. 1. 1. 1. 0. 0. 0. 1. 0. 0. 0. 1. 1. 0. 1. 1. 1. 1. 1.\n",
      " 1. 1. 1. 0. 0. 0. 0. 1. 1. 1. 1. 1. 0. 1. 0. 1. 1. 1. 1. 0. 1. 1. 0. 0.\n",
      " 0. 1. 0. 1. 0. 0. 0. 1. 1. 0. 1. 1. 0. 1. 0. 0. 1. 0. 1. 0. 0. 1. 0. 0.\n",
      " 1. 1. 0. 1. 0. 1. 1. 0. 1. 1. 1. 1. 1. 0. 0. 1. 1. 1. 1. 1. 1. 1. 1.]\n",
      "      train data score : 0.9788732394366197\n",
      "      test data score : 0.9790209790209791\n",
      "      \n"
     ]
    }
   ],
   "source": [
    "\n",
    "print(f'''\n",
    "      prediction : {model2.predict(X_test_mms)}\n",
    "      train data score : {model2.score(X_train_mms, y_train)}\n",
    "      test data score : {model2.score(X_test_mms, y_test)}\n",
    "      ''')"
   ]
  },
  {
   "cell_type": "code",
   "execution_count": 21,
   "metadata": {},
   "outputs": [
    {
     "name": "stdout",
     "output_type": "stream",
     "text": [
      "\n",
      "      prediction : [1. 0. 1. 1. 0. 0. 0. 0. 0. 1. 1. 1. 0. 0. 1. 1. 0. 0. 1. 1. 0. 0. 1. 1.\n",
      " 1. 1. 1. 1. 1. 0. 1. 1. 1. 1. 1. 1. 1. 1. 0. 1. 0. 1. 0. 1. 1. 1. 0. 1.\n",
      " 0. 1. 1. 1. 1. 0. 1. 1. 1. 0. 0. 0. 1. 0. 0. 0. 1. 1. 0. 1. 1. 1. 1. 1.\n",
      " 1. 1. 1. 0. 0. 0. 0. 1. 1. 1. 1. 1. 0. 1. 0. 1. 1. 1. 1. 0. 1. 1. 0. 0.\n",
      " 0. 1. 0. 1. 0. 0. 0. 1. 1. 0. 1. 1. 0. 1. 0. 0. 1. 0. 1. 0. 1. 1. 0. 0.\n",
      " 1. 1. 0. 1. 0. 1. 1. 0. 1. 1. 1. 1. 1. 0. 0. 1. 1. 1. 1. 1. 1. 1. 1.]\n",
      "      train data score : 0.9788732394366197\n",
      "      test data score : 0.986013986013986\n",
      "      \n"
     ]
    }
   ],
   "source": [
    "model3 = SVC(C=0.9)\n",
    "model3.fit(X_train_mms,y_train)\n",
    "print(f'''\n",
    "      prediction : {model3.predict(X_test_mms)}\n",
    "      train data score : {model3.score(X_train_mms, y_train)}\n",
    "      test data score : {model3.score(X_test_mms, y_test)}\n",
    "      ''')"
   ]
  },
  {
   "cell_type": "code",
   "execution_count": 40,
   "metadata": {},
   "outputs": [
    {
     "name": "stdout",
     "output_type": "stream",
     "text": [
      "\n",
      "      prediction : [1. 0. 1. 1. 0. 0. 0. 0. 0. 1. 1. 1. 0. 0. 1. 1. 0. 0. 1. 1. 0. 0. 1. 1.\n",
      " 1. 1. 1. 1. 1. 0. 1. 1. 1. 1. 1. 1. 1. 1. 0. 1. 0. 1. 0. 1. 1. 1. 0. 1.\n",
      " 0. 1. 1. 1. 1. 0. 1. 1. 1. 0. 0. 0. 1. 0. 0. 0. 1. 1. 0. 1. 1. 1. 1. 1.\n",
      " 1. 1. 1. 0. 0. 0. 0. 1. 1. 1. 1. 1. 0. 1. 0. 1. 1. 1. 1. 0. 1. 1. 0. 0.\n",
      " 0. 1. 0. 1. 0. 0. 0. 1. 1. 0. 1. 1. 0. 1. 0. 0. 1. 0. 1. 0. 1. 1. 0. 0.\n",
      " 1. 1. 0. 1. 0. 1. 1. 0. 1. 1. 1. 1. 1. 0. 0. 1. 1. 1. 1. 1. 1. 1. 1.]\n",
      "      train data score : 0.9812206572769953\n",
      "      test data score : 0.986013986013986\n",
      "      \n"
     ]
    }
   ],
   "source": [
    "model4 = SVC(C=100, gamma=0.04)\n",
    "model4.fit(X_train_mms,y_train)\n",
    "print(f'''\n",
    "      prediction : {model4.predict(X_test_mms)}\n",
    "      train data score : {model4.score(X_train_mms, y_train)}\n",
    "      test data score : {model4.score(X_test_mms, y_test)}\n",
    "      ''')"
   ]
  },
  {
   "cell_type": "code",
   "execution_count": null,
   "metadata": {},
   "outputs": [],
   "source": []
  }
 ],
 "metadata": {
  "kernelspec": {
   "display_name": "base",
   "language": "python",
   "name": "python3"
  },
  "language_info": {
   "codemirror_mode": {
    "name": "ipython",
    "version": 3
   },
   "file_extension": ".py",
   "mimetype": "text/x-python",
   "name": "python",
   "nbconvert_exporter": "python",
   "pygments_lexer": "ipython3",
   "version": "3.10.13"
  }
 },
 "nbformat": 4,
 "nbformat_minor": 2
}
