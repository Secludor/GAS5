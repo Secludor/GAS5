{
 "cells": [
  {
   "cell_type": "code",
   "execution_count": 1,
   "metadata": {},
   "outputs": [
    {
     "data": {
      "text/plain": [
       "'d:\\\\elice_python\\\\lectures'"
      ]
     },
     "execution_count": 1,
     "metadata": {},
     "output_type": "execute_result"
    }
   ],
   "source": [
    "import os\n",
    "os.getcwd()"
   ]
  },
  {
   "cell_type": "code",
   "execution_count": 2,
   "metadata": {},
   "outputs": [],
   "source": [
    "os.chdir('..\\\\module_test')"
   ]
  },
  {
   "cell_type": "code",
   "execution_count": 7,
   "metadata": {},
   "outputs": [],
   "source": [
    "import my_math"
   ]
  },
  {
   "cell_type": "code",
   "execution_count": 8,
   "metadata": {},
   "outputs": [
    {
     "data": {
      "text/plain": [
       "3.141592653589793"
      ]
     },
     "execution_count": 8,
     "metadata": {},
     "output_type": "execute_result"
    }
   ],
   "source": [
    "my_math.pi"
   ]
  },
  {
   "cell_type": "code",
   "execution_count": 14,
   "metadata": {},
   "outputs": [],
   "source": [
    "import numpy as np\n",
    "import random"
   ]
  },
  {
   "cell_type": "code",
   "execution_count": 17,
   "metadata": {},
   "outputs": [
    {
     "data": {
      "text/plain": [
       "0.252536325152401"
      ]
     },
     "execution_count": 17,
     "metadata": {},
     "output_type": "execute_result"
    }
   ],
   "source": [
    "random.random()"
   ]
  },
  {
   "cell_type": "code",
   "execution_count": 12,
   "metadata": {},
   "outputs": [
    {
     "name": "stdout",
     "output_type": "stream",
     "text": [
      "start:  1717462043.8752177\n",
      "****************************************************************************************************************************************************************************************************************************************************************************************************************************************************************************************************************************************************************************************************************************************************************************************************************************************************************************************************************************************************************************************************************************************************************************************************************************************************************************************************************************************************************************************************************************************************************************************************************************************************************************************************************************************************************************************************************************************************************************************************************************************************************************************************************************************************************************************************************************************************************************************************************************************************************************************************************************************************************************************************************************************************************************************************************************************************************************************************************************************************************************************************************************************************************************************************************************************************************************************************************************************************************************************************************************************************************************************************************************************************************************************************************************************************************************************************************************************************************************************************************************************************************************************************************************************************************************************************************************************************************************************************************************************************************************************************************************************************************************************************************************************************************************************************************************************************************************************************************************************************************************************************************************************************************************************************************************************************************************************************************************************************************************************************************************************************************************************************************************************************************************************************************************************************************************************************************************************************************************************************************************************************************************************************************************************************************************************************************************************************************************************************************************************************************************************************************************************************************************************************************************************************************************************************************************************************************************************************************************************************************************************************************************************************************************************************************************************************************************************************************************************************************************************************************************************************************************************************************************************************************************************************************************************************************************************************************************************************************************************************************************************************************************************************************************************************************************************************************************************************************************************************************************************************************************************************************************************************************************************************************************************************************************************************************************************************************************************************************************************************************************************************************************************************************************************************************************************************************************************************************************************************************************************************************************************************************************************************************************************************************************************************************************************************************************************************************************************************************************************************************************************************************************************************************************************************************************************************************************************************************************************************************************************************************************************************************************************************************************************************************************************************************************************************************************************************************************************************************************************************************************************************************************************************************************************************************************************************************************************************************************************************************************************************************************************************************************************************************************************************************************************************************************************************************************************************************************************************************************************************************************************************************************************************************************************************************************************************************************************************************************************************************************************************************************************************************************************************************************************************************************************************************************************************************************************************************************************************************************************************************************************************************************************************************************************************************************************************************************************************************************************************************************************************************************************************************************************************************************************************************************************************************************************************************************************************************\n",
      "0.021038293838500977 초 경과\n"
     ]
    }
   ],
   "source": [
    "import time\n",
    "\n",
    "def manyloop(num):\n",
    "    for i in range(num):\n",
    "        if i % 10 == 0:\n",
    "           print(\"*\", end=\"\")\n",
    "    print()\n",
    "\n",
    "number = 100000 #int(input(\"몇 번을 반복할까요?: \")) \n",
    "\n",
    "start = time.time()  #1970.01.01. 00시 부터 지금까지의 경과 시간\n",
    "print(\"start: \", start)\n",
    "\n",
    "manyloop(number)\n",
    "\n",
    "end = time.time()\n",
    "print(end - start, '초 경과')"
   ]
  },
  {
   "cell_type": "code",
   "execution_count": 13,
   "metadata": {},
   "outputs": [
    {
     "name": "stdout",
     "output_type": "stream",
     "text": [
      "\n",
      "start:  1717462045.2568347\n",
      "0.005019664764404297 초 경과\n"
     ]
    }
   ],
   "source": [
    "import time\n",
    "\n",
    "def manyloop(num):\n",
    "    for i in range(num):\n",
    "        if i % 10000 == 0:\n",
    "           pass\n",
    "    print()\n",
    "\n",
    "number = 100000 #int(input(\"몇 번을 반복할까요?: \")) \n",
    "\n",
    "start = time.time()  #1970.01.01. 00시 부터 지금까지의 경과 시간\n",
    "\n",
    "manyloop(number)\n",
    "\n",
    "end = time.time()\n",
    "\n",
    "print(\"start: \", start)\n",
    "print(end - start, '초 경과')"
   ]
  },
  {
   "cell_type": "code",
   "execution_count": 1,
   "metadata": {},
   "outputs": [],
   "source": [
    "import random, time"
   ]
  },
  {
   "cell_type": "code",
   "execution_count": 2,
   "metadata": {},
   "outputs": [
    {
     "name": "stdout",
     "output_type": "stream",
     "text": [
      "60\n",
      "78\n",
      "45\n",
      "21\n",
      "62\n",
      "4\n",
      "13\n",
      "62\n",
      "31\n",
      "13\n",
      "65\n",
      "34\n",
      "24\n",
      "58\n",
      "29\n",
      "42\n",
      "75\n",
      "58\n",
      "91\n",
      "60\n",
      "8\n",
      "48\n",
      "62\n",
      "51\n",
      "35\n",
      "3\n",
      "24\n",
      "11\n",
      "32\n",
      "33\n",
      "41\n",
      "55\n",
      "46\n",
      "78\n",
      "87\n",
      "3\n",
      "13\n",
      "74\n",
      "58\n",
      "14\n",
      "70\n",
      "71\n",
      "41\n",
      "26\n",
      "43\n",
      "48\n",
      "57\n",
      "59\n",
      "71\n",
      "33\n",
      "82\n",
      "24\n",
      "80\n",
      "20\n",
      "24\n",
      "30\n",
      "99\n",
      "51\n",
      "50\n",
      "36\n",
      "79\n",
      "7\n",
      "77\n",
      "3\n",
      "51\n",
      "38\n",
      "99\n",
      "52\n",
      "82\n",
      "8\n",
      "46\n",
      "25\n",
      "23\n",
      "8\n",
      "29\n",
      "79\n",
      "45\n",
      "39\n",
      "13\n",
      "37\n",
      "97\n",
      "3\n",
      "16\n",
      "9\n",
      "2\n",
      "26\n",
      "47\n",
      "2\n",
      "7\n",
      "20\n",
      "94\n",
      "26\n",
      "95\n",
      "37\n",
      "98\n",
      "52\n",
      "88\n",
      "63\n",
      "39\n"
     ]
    }
   ],
   "source": [
    "for i in range(1,100):\n",
    "    print(random.randint(1,100))\n",
    "    time.sleep(random.random())"
   ]
  },
  {
   "cell_type": "code",
   "execution_count": 13,
   "metadata": {},
   "outputs": [
    {
     "name": "stdout",
     "output_type": "stream",
     "text": [
      "Collecting o_bmi_cal==0.0.0.3\n",
      "  Downloading o_bmi_cal-0.0.0.3-py3-none-any.whl (1.6 kB)\n",
      "Installing collected packages: o_bmi_cal\n",
      "  Attempting uninstall: o_bmi_cal\n",
      "    Found existing installation: o_bmi_cal 0.0.0.1\n",
      "    Uninstalling o_bmi_cal-0.0.0.1:\n",
      "      Successfully uninstalled o_bmi_cal-0.0.0.1\n",
      "Successfully installed o_bmi_cal-0.0.0.3\n"
     ]
    }
   ],
   "source": [
    "! pip install o_bmi_cal==0.0.0.3"
   ]
  },
  {
   "cell_type": "code",
   "execution_count": 15,
   "metadata": {},
   "outputs": [
    {
     "name": "stdout",
     "output_type": "stream",
     "text": [
      "키 1.8 cm에 몸무게 84 kg 이면, 84/(1.8*1.8) = 25.93 이므로 중등도비만 입니다.\n"
     ]
    }
   ],
   "source": [
    "import o_bmi_cal.bmi\n",
    "import o_bmi_cal\n",
    "\n",
    "o_bmi_cal.bmi.bmi(1.8,84)\n"
   ]
  },
  {
   "cell_type": "code",
   "execution_count": 16,
   "metadata": {},
   "outputs": [],
   "source": [
    "class Car:\n",
    "    def make_noise(self):\n",
    "        print('Vee-----Vee----')"
   ]
  },
  {
   "cell_type": "code",
   "execution_count": 17,
   "metadata": {},
   "outputs": [],
   "source": [
    "car1 = Car()\n",
    "car2 = Car()"
   ]
  },
  {
   "cell_type": "code",
   "execution_count": 18,
   "metadata": {},
   "outputs": [
    {
     "name": "stdout",
     "output_type": "stream",
     "text": [
      "Vee-----Vee----\n",
      "Vee-----Vee----\n"
     ]
    }
   ],
   "source": [
    "car1.make_noise()\n",
    "car2.make_noise()"
   ]
  },
  {
   "cell_type": "code",
   "execution_count": 22,
   "metadata": {},
   "outputs": [],
   "source": [
    "class MyClass:\n",
    "    def __init__(self, msg):\n",
    "        print('init class')\n",
    "        self.msg = msg\n",
    "        self.data = 'data'\n",
    "        print(f'{self.msg} is delivered to arg')"
   ]
  },
  {
   "cell_type": "code",
   "execution_count": 23,
   "metadata": {},
   "outputs": [
    {
     "name": "stdout",
     "output_type": "stream",
     "text": [
      "init class\n",
      "data1 is delivered to arg\n",
      "---------\n",
      "init class\n",
      "data2 is delivered to arg\n"
     ]
    }
   ],
   "source": [
    "mycls1 = MyClass('data1')\n",
    "print('---------')\n",
    "mycls2 = MyClass('data2')\n"
   ]
  },
  {
   "cell_type": "code",
   "execution_count": 24,
   "metadata": {},
   "outputs": [
    {
     "name": "stdout",
     "output_type": "stream",
     "text": [
      "init class\n",
      "dd is delivered to arg\n"
     ]
    }
   ],
   "source": [
    "mycls3 = MyClass('dd')"
   ]
  },
  {
   "cell_type": "code",
   "execution_count": 26,
   "metadata": {},
   "outputs": [],
   "source": [
    "mycls3.data = '얍얍'"
   ]
  },
  {
   "cell_type": "code",
   "execution_count": 31,
   "metadata": {},
   "outputs": [
    {
     "name": "stdout",
     "output_type": "stream",
     "text": [
      "init class\n",
      "헤헤 is delivered to arg\n"
     ]
    }
   ],
   "source": [
    "mycls3.__init__('헤헤')"
   ]
  },
  {
   "cell_type": "code",
   "execution_count": 30,
   "metadata": {},
   "outputs": [],
   "source": [
    "mycls3.data2 = 'data2'"
   ]
  },
  {
   "cell_type": "code",
   "execution_count": 32,
   "metadata": {},
   "outputs": [
    {
     "data": {
      "text/plain": [
       "'data2'"
      ]
     },
     "execution_count": 32,
     "metadata": {},
     "output_type": "execute_result"
    }
   ],
   "source": [
    "mycls3.data2"
   ]
  },
  {
   "cell_type": "code",
   "execution_count": 33,
   "metadata": {},
   "outputs": [
    {
     "data": {
      "text/plain": [
       "'헤헤'"
      ]
     },
     "execution_count": 33,
     "metadata": {},
     "output_type": "execute_result"
    }
   ],
   "source": [
    "mycls3.msg"
   ]
  },
  {
   "cell_type": "code",
   "execution_count": 34,
   "metadata": {},
   "outputs": [],
   "source": [
    "class MyFunc:\n",
    "    def __call__(self, msg):\n",
    "        self.msg = msg\n",
    "        print(f'delivered arg is {self.msg}')"
   ]
  },
  {
   "cell_type": "code",
   "execution_count": 37,
   "metadata": {},
   "outputs": [],
   "source": [
    "myfun1 = MyFunc()"
   ]
  },
  {
   "cell_type": "code",
   "execution_count": 38,
   "metadata": {},
   "outputs": [
    {
     "name": "stdout",
     "output_type": "stream",
     "text": [
      "delivered arg is data1\n"
     ]
    }
   ],
   "source": [
    "myfun1('data1')"
   ]
  },
  {
   "cell_type": "code",
   "execution_count": 39,
   "metadata": {},
   "outputs": [
    {
     "name": "stdout",
     "output_type": "stream",
     "text": [
      "delivered arg is 123\n"
     ]
    }
   ],
   "source": [
    "myfun1(123)"
   ]
  },
  {
   "cell_type": "code",
   "execution_count": 40,
   "metadata": {},
   "outputs": [],
   "source": [
    "class Car:\n",
    "    def __init__(self, sound):\n",
    "        self.sound = sound\n",
    "        \n",
    "    def make_noise(self):\n",
    "        print(self.sound)"
   ]
  },
  {
   "cell_type": "code",
   "execution_count": 41,
   "metadata": {},
   "outputs": [],
   "source": [
    "car1 = Car('Bip! Bip!')\n",
    "car2 = Car('BooooaaaaAANG~')"
   ]
  },
  {
   "cell_type": "code",
   "execution_count": 42,
   "metadata": {},
   "outputs": [
    {
     "name": "stdout",
     "output_type": "stream",
     "text": [
      "Bip! Bip!\n",
      "BooooaaaaAANG~\n"
     ]
    }
   ],
   "source": [
    "car1.make_noise()\n",
    "car2.make_noise()"
   ]
  },
  {
   "cell_type": "code",
   "execution_count": 1,
   "metadata": {},
   "outputs": [],
   "source": [
    "class Car:\n",
    "    def __init__(self, sound):\n",
    "        self.sound = sound\n",
    "        \n",
    "    def __call__(self):\n",
    "        print(self.sound)\n",
    "        return self.sound"
   ]
  },
  {
   "cell_type": "code",
   "execution_count": 2,
   "metadata": {},
   "outputs": [],
   "source": [
    "car3 = Car(\"Vip! Vip!\")"
   ]
  },
  {
   "cell_type": "code",
   "execution_count": 3,
   "metadata": {},
   "outputs": [
    {
     "name": "stdout",
     "output_type": "stream",
     "text": [
      "Vip! Vip!\n"
     ]
    },
    {
     "data": {
      "text/plain": [
       "'Vip! Vip!'"
      ]
     },
     "execution_count": 3,
     "metadata": {},
     "output_type": "execute_result"
    }
   ],
   "source": [
    "car3()"
   ]
  },
  {
   "cell_type": "code",
   "execution_count": 42,
   "metadata": {},
   "outputs": [],
   "source": [
    "class Car:\n",
    "    def __init__(self, name):\n",
    "        self.name = name\n",
    "        \n",
    "    def __call__(self):\n",
    "        print(self.name)\n",
    "        return self.name\n",
    "    \n",
    "    def make_noise(self,*args):\n",
    "        if not args:\n",
    "            self.sound = 'Bee~~~~Bee~~~~'\n",
    "        else :\n",
    "            self.sound = '! '.join(map(str,args)) + '!'\n",
    "            \n",
    "        print(f\"{self.name} : {self.sound}\")"
   ]
  },
  {
   "cell_type": "code",
   "execution_count": 43,
   "metadata": {},
   "outputs": [],
   "source": [
    "car1 = Car('mycar1')"
   ]
  },
  {
   "cell_type": "code",
   "execution_count": 44,
   "metadata": {},
   "outputs": [
    {
     "name": "stdout",
     "output_type": "stream",
     "text": [
      "mycar1\n",
      "car1's name :  mycar1\n"
     ]
    }
   ],
   "source": [
    "car_name = car1()\n",
    "print('car1\\'s name : ', car_name)"
   ]
  },
  {
   "cell_type": "code",
   "execution_count": 45,
   "metadata": {},
   "outputs": [
    {
     "name": "stdout",
     "output_type": "stream",
     "text": [
      "mycar1 : Bee~~~~Bee~~~~\n"
     ]
    }
   ],
   "source": [
    "car1.make_noise()"
   ]
  },
  {
   "cell_type": "code",
   "execution_count": 46,
   "metadata": {},
   "outputs": [
    {
     "name": "stdout",
     "output_type": "stream",
     "text": [
      "mycar1 : 123! 23! 5! 21! qwe! 2! 51! 24!\n"
     ]
    }
   ],
   "source": [
    "car1.make_noise(123,23,5,21,'qwe',2,51,24)"
   ]
  },
  {
   "cell_type": "code",
   "execution_count": 57,
   "metadata": {},
   "outputs": [],
   "source": [
    "class MakeDouble:\n",
    "    def __call__(self, *arg):\n",
    "        if not arg :\n",
    "            print('empty')\n",
    "            return\n",
    "        else :\n",
    "            return list(arg)*2"
   ]
  },
  {
   "cell_type": "code",
   "execution_count": 58,
   "metadata": {},
   "outputs": [],
   "source": [
    "md = MakeDouble()"
   ]
  },
  {
   "cell_type": "code",
   "execution_count": 59,
   "metadata": {},
   "outputs": [
    {
     "data": {
      "text/plain": [
       "[[1, 23, 4, 2], [1, 23, 4, 2]]"
      ]
     },
     "execution_count": 59,
     "metadata": {},
     "output_type": "execute_result"
    }
   ],
   "source": [
    "md([1,23,4,2])"
   ]
  },
  {
   "cell_type": "code",
   "execution_count": 75,
   "metadata": {},
   "outputs": [],
   "source": [
    "class Car:\n",
    "    def make_noise(self):\n",
    "        print('Bee-- Bee--')\n",
    "\n",
    "class Suv(Car):\n",
    "    def open_hatchback(self):\n",
    "        self.make_noise()\n",
    "        print('뒷문을 열었습니다.')"
   ]
  },
  {
   "cell_type": "code",
   "execution_count": 64,
   "metadata": {},
   "outputs": [],
   "source": [
    "suv = Suv()"
   ]
  },
  {
   "cell_type": "code",
   "execution_count": 66,
   "metadata": {},
   "outputs": [
    {
     "name": "stdout",
     "output_type": "stream",
     "text": [
      "Bee-- Bee--\n",
      "뒷문을 열었습니다.\n"
     ]
    }
   ],
   "source": [
    "suv.open_hatchback()"
   ]
  },
  {
   "cell_type": "code",
   "execution_count": 67,
   "metadata": {},
   "outputs": [
    {
     "name": "stdout",
     "output_type": "stream",
     "text": [
      "Bee-- Bee--\n"
     ]
    }
   ],
   "source": [
    "suv.make_noise()"
   ]
  },
  {
   "cell_type": "code",
   "execution_count": 11,
   "metadata": {},
   "outputs": [],
   "source": [
    "class Car:\n",
    "    def make_noise(self):\n",
    "        print('Bee-- Bee--')\n",
    "\n",
    "class Suv(Car):\n",
    "    def make_noise(self):\n",
    "        print('Bee!! Bee!!')\n",
    "        \n",
    "    def open_hatchback(self):\n",
    "        super().make_noise()\n",
    "        print('뒷문을 열었습니다.')\n",
    "    "
   ]
  },
  {
   "cell_type": "code",
   "execution_count": 12,
   "metadata": {},
   "outputs": [],
   "source": [
    "suv = Suv()"
   ]
  },
  {
   "cell_type": "code",
   "execution_count": 13,
   "metadata": {},
   "outputs": [
    {
     "name": "stdout",
     "output_type": "stream",
     "text": [
      "Bee!! Bee!!\n"
     ]
    }
   ],
   "source": [
    "suv.make_noise()"
   ]
  },
  {
   "cell_type": "code",
   "execution_count": 14,
   "metadata": {},
   "outputs": [
    {
     "name": "stdout",
     "output_type": "stream",
     "text": [
      "Bee-- Bee--\n",
      "뒷문을 열었습니다.\n"
     ]
    }
   ],
   "source": [
    "suv.open_hatchback()"
   ]
  },
  {
   "cell_type": "code",
   "execution_count": 15,
   "metadata": {},
   "outputs": [],
   "source": [
    "class Car:\n",
    "    def __init__(self,sound) -> None:\n",
    "        self.sound = sound\n",
    "        print(self.sound)\n",
    "        \n",
    "class Suv(Car):\n",
    "    def __init__(self, sound) -> None:\n",
    "        super().__init__(sound)\n",
    "        \n",
    "    def make_noise(self):\n",
    "        print(self.sound)\n",
    "        super().__init__('Vee-- Vee--')"
   ]
  },
  {
   "cell_type": "code",
   "execution_count": 16,
   "metadata": {},
   "outputs": [
    {
     "name": "stdout",
     "output_type": "stream",
     "text": [
      "Vv!!! Vv!!!\n",
      "Vv!!! Vv!!!\n",
      "Vee-- Vee--\n"
     ]
    }
   ],
   "source": [
    "suv = Suv('Vv!!! Vv!!!')\n",
    "suv.make_noise()"
   ]
  },
  {
   "cell_type": "code",
   "execution_count": 17,
   "metadata": {},
   "outputs": [],
   "source": [
    "import matplotlib.pyplot as plt\n",
    "\n",
    "class Point:\n",
    "    def __init__(self,x,y) -> None:\n",
    "        self.x = x\n",
    "        self.y = y\n",
    "    \n",
    "    def draw(self):\n",
    "        plt.plot(self.x,self.y, marker='o', markersize =10, color='blue')"
   ]
  },
  {
   "cell_type": "code",
   "execution_count": 18,
   "metadata": {},
   "outputs": [],
   "source": [
    "p1 = Point(1,5)\n",
    "p2 = Point(-1,-5)"
   ]
  },
  {
   "cell_type": "code",
   "execution_count": 19,
   "metadata": {},
   "outputs": [
    {
     "name": "stdout",
     "output_type": "stream",
     "text": [
      "1 5\n",
      "-1 -5\n"
     ]
    }
   ],
   "source": [
    "print(p1.x,p1.y)\n",
    "print(p2.x,p2.y)"
   ]
  },
  {
   "cell_type": "code",
   "execution_count": 21,
   "metadata": {},
   "outputs": [
    {
     "data": {
      "image/png": "[encoded data removed]",
      "text/plain": [
       "<Figure size 640x480 with 1 Axes>"
      ]
     },
     "metadata": {},
     "output_type": "display_data"
    }
   ],
   "source": [
    "p1.draw()\n",
    "p2.draw()"
   ]
  },
  {
   "cell_type": "code",
   "execution_count": 22,
   "metadata": {},
   "outputs": [
    {
     "data": {
      "image/png": "[encoded data removed]",
      "text/plain": [
       "<Figure size 640x480 with 1 Axes>"
      ]
     },
     "metadata": {},
     "output_type": "display_data"
    }
   ],
   "source": [
    "\n",
    "p2.draw()"
   ]
  },
  {
   "cell_type": "code",
   "execution_count": 23,
   "metadata": {},
   "outputs": [],
   "source": [
    "class Circle1(Point):\n",
    "    def __init__(self, x, y, r) -> None:\n",
    "        super().__init__(x, y)\n",
    "        self.r=r"
   ]
  },
  {
   "cell_type": "code",
   "execution_count": null,
   "metadata": {},
   "outputs": [],
   "source": []
  }
 ],
 "metadata": {
  "kernelspec": {
   "display_name": "Python 3",
   "language": "python",
   "name": "python3"
  },
  "language_info": {
   "codemirror_mode": {
    "name": "ipython",
    "version": 3
   },
   "file_extension": ".py",
   "mimetype": "text/x-python",
   "name": "python",
   "nbconvert_exporter": "python",
   "pygments_lexer": "ipython3",
   "version": "3.10.13"
  }
 },
 "nbformat": 4,
 "nbformat_minor": 2
}
