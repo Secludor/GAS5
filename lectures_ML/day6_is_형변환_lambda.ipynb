{
 "cells": [
  {
   "cell_type": "code",
   "execution_count": 3,
   "metadata": {},
   "outputs": [
    {
     "name": "stdout",
     "output_type": "stream",
     "text": [
      "(1, 2, 3, 4, 5, 6, 7)\n",
      "<class 'tuple'>\n"
     ]
    }
   ],
   "source": [
    "def person_info(*args):\n",
    "    print(args, type(args), sep='\\n')\n",
    "    \n",
    "person_info(1,2,3,4,5,6,7,)"
   ]
  },
  {
   "cell_type": "code",
   "execution_count": 11,
   "metadata": {},
   "outputs": [
    {
     "name": "stdout",
     "output_type": "stream",
     "text": [
      "{'a': 2, 'b': 3, 'c': 5, 'd': 7, 'e': 11}\n",
      "<class 'dict'>\n"
     ]
    }
   ],
   "source": [
    "def person_info2(**kwargs):\n",
    "    print(kwargs, type(kwargs), sep='\\n')\n",
    "    \n",
    "person_info2(a=2 ,b=3, c=5, d=7, e=11)"
   ]
  },
  {
   "cell_type": "code",
   "execution_count": 14,
   "metadata": {},
   "outputs": [
    {
     "name": "stdout",
     "output_type": "stream",
     "text": [
      "[0, 2, 4]\n"
     ]
    }
   ],
   "source": [
    "def select_even(list:list) -> list:\n",
    "    result = []\n",
    "    for num in list:\n",
    "        if num % 2 != 1:\n",
    "            result.append(num)\n",
    "    return result\n",
    "\n",
    "print(select_even(range(5)))"
   ]
  },
  {
   "cell_type": "code",
   "execution_count": 18,
   "metadata": {},
   "outputs": [
    {
     "name": "stdout",
     "output_type": "stream",
     "text": [
      "10 10 10 10\n"
     ]
    }
   ],
   "source": [
    "print(int(10.1), int(10.9), int('10') , int(float('10.1')))"
   ]
  },
  {
   "cell_type": "code",
   "execution_count": 40,
   "metadata": {},
   "outputs": [
    {
     "name": "stdout",
     "output_type": "stream",
     "text": [
      "True True\n",
      "True False\n",
      "True False\n",
      "True False\n"
     ]
    }
   ],
   "source": [
    "a=123\n",
    "b=123\n",
    "c=1231\n",
    "d=1231\n",
    "e=[123]\n",
    "f=[123]\n",
    "h=0.1\n",
    "i=0.1\n",
    "\n",
    "print(a==b, a is b)\n",
    "print(c==d, c is d)\n",
    "print(e==f, e is f)\n",
    "print(h==i, h is i)"
   ]
  },
  {
   "cell_type": "code",
   "execution_count": 41,
   "metadata": {},
   "outputs": [
    {
     "name": "stdout",
     "output_type": "stream",
     "text": [
      "True True\n",
      "True False\n",
      "True False\n"
     ]
    }
   ],
   "source": [
    "j1='2'*4096\n",
    "k1='2'*4096\n",
    "j2='2'*4097\n",
    "k2='2'*4097\n",
    "l='2 1'\n",
    "m='2 1'\n",
    "\n",
    "print(j1==k1, j1 is k1)\n",
    "print(j2==k2, j2 is k2)\n",
    "print(l==m, l is m)"
   ]
  },
  {
   "cell_type": "code",
   "execution_count": 46,
   "metadata": {},
   "outputs": [
    {
     "name": "stdout",
     "output_type": "stream",
     "text": [
      "True False\n",
      "True False\n"
     ]
    }
   ],
   "source": [
    "j1='ㄱ'\n",
    "k1='ㄱ'\n",
    "j2='ㄱ'*4097\n",
    "k2='ㄱ'*4097\n",
    "\n",
    "print(j1==k1, j1 is k1)\n",
    "print(j2==k2, j2 is k2)"
   ]
  },
  {
   "cell_type": "code",
   "execution_count": 59,
   "metadata": {},
   "outputs": [
    {
     "data": {
      "text/plain": [
       "False"
      ]
     },
     "execution_count": 59,
     "metadata": {},
     "output_type": "execute_result"
    }
   ],
   "source": [
    "(not j2 == k2) & (j2 == k2)"
   ]
  },
  {
   "cell_type": "code",
   "execution_count": 60,
   "metadata": {},
   "outputs": [
    {
     "data": {
      "text/plain": [
       "True"
      ]
     },
     "execution_count": 60,
     "metadata": {},
     "output_type": "execute_result"
    }
   ],
   "source": [
    "(not j2 == k2) ^ (j2 == k2)"
   ]
  },
  {
   "cell_type": "code",
   "execution_count": 73,
   "metadata": {},
   "outputs": [
    {
     "name": "stdout",
     "output_type": "stream",
     "text": [
      "가장 소음이 심한 층은 8층 입니다.\n"
     ]
    }
   ],
   "source": [
    "def max_noisy_floor():\n",
    "    distance = float(input('도로와의 거리는? '))\n",
    "    return int((0.2467*distance + 4.159).__round__(0))\n",
    "    \n",
    "print(f'가장 소음이 심한 층은 {max_noisy_floor()}층 입니다.')\n",
    "    "
   ]
  },
  {
   "cell_type": "code",
   "execution_count": 4,
   "metadata": {},
   "outputs": [
    {
     "name": "stdout",
     "output_type": "stream",
     "text": [
      "가장 소음이 심한 층은 16층 입니다.\n"
     ]
    }
   ],
   "source": [
    "# 김태윤\n",
    "def noise(distance):\n",
    "    distance = float(input(\"도로와의 거리는?: \"))\n",
    "    floor = (0.2467 * distance) + 4.159\n",
    "    return int(floor)                 \n",
    " #int()함수를 사용하여 입력된 실수를 정수로 변환\n",
    "# ex) 7.9999, 7.11111 상관없이 정수 7로 출력된다\n",
    "\n",
    "print(f'가장 소음이 심한 층은 {noise(\"distance\")}층 입니다.')"
   ]
  },
  {
   "cell_type": "code",
   "execution_count": 2,
   "metadata": {},
   "outputs": [
    {
     "name": "stdout",
     "output_type": "stream",
     "text": [
      "가장 소음이 심한 층은 9층 입니다.\n"
     ]
    }
   ],
   "source": [
    "# 임순호\n",
    "def noise_floor(wide) :\n",
    "    wide = float(input(\"도로와의 거리를 입력해주세요: \"))\n",
    "    noise_floor = 0.2467 * wide + 4.159\n",
    "    print('가장 소음이 심한 층은 ', int(noise_floor),'층 입니다.',sep=\"\")\n",
    "\n",
    "noise_floor(20)"
   ]
  },
  {
   "cell_type": "code",
   "execution_count": 42,
   "metadata": {},
   "outputs": [
    {
     "name": "stdout",
     "output_type": "stream",
     "text": [
      " 1대 대통령 :  이승만\n",
      " 2대 대통령 :  윤보선\n",
      " 3대 대통령 :  박정희\n",
      " 4대 대통령 :  최규하\n",
      " 5대 대통령 :  전두환\n",
      " 6대 대통령 :  노태우\n",
      " 7대 대통령 :  김영삼\n",
      " 8대 대통령 :  김대중\n",
      " 9대 대통령 :  노무현\n",
      "10대 대통령 :  이명박\n",
      "11대 대통령 :  박근혜\n",
      "12대 대통령 :  문재인\n",
      "13대 대통령 :  윤석열\n"
     ]
    }
   ],
   "source": [
    "presidents = '이승만 윤보선 박정희 최규하 전두환 노태우 김영삼 김대중 노무현 이명박 박근혜 문재인 윤석열'\n",
    "pres_list = presidents.split()\n",
    "for i, n in enumerate(pres_list):\n",
    "    if i+1<10:\n",
    "        print(f\"{i+1}대 대통령 :  {n}\".rjust(14))\n",
    "    else:\n",
    "        print(f\"{i+1}대 대통령 :  {n}\".rjust(13))"
   ]
  },
  {
   "cell_type": "code",
   "execution_count": 43,
   "metadata": {},
   "outputs": [
    {
     "name": "stdout",
     "output_type": "stream",
     "text": [
      " 1대 대통령: 이승만\n",
      " 2대 대통령: 윤보선\n",
      " 3대 대통령: 박정희\n",
      " 4대 대통령: 최규하\n",
      " 5대 대통령: 전두환\n",
      " 6대 대통령: 노태우\n",
      " 7대 대통령: 김영삼\n",
      " 8대 대통령: 김대중\n",
      " 9대 대통령: 노무현\n",
      "10대 대통령: 이명박\n",
      "11대 대통령: 박근혜\n",
      "12대 대통령: 문재인\n",
      "13대 대통령: 윤석열\n"
     ]
    }
   ],
   "source": [
    "# 박수미\n",
    "def president():\n",
    "    count = 1\n",
    "    president_dict = {1:'이승만', 2:'윤보선', 3:'박정희', 4:'최규하', 5:'전두환', 6:'노태우', 7:'김영삼', 8:'김대중', 9:'노무현', 10:'이명박', 11:'박근혜', 12:'문재인', 13:'윤석열'}\n",
    "    for number in range(13):\n",
    "        if len(str(count)) > 1:\n",
    "            print(f'{count}대 대통령: {president_dict[count]}')\n",
    "            count = count + 1\n",
    "        else:\n",
    "            print(f' {count}대 대통령: {president_dict[count]}')\n",
    "            count = count + 1\n",
    "\n",
    "president()"
   ]
  },
  {
   "cell_type": "code",
   "execution_count": 47,
   "metadata": {},
   "outputs": [
    {
     "name": "stdout",
     "output_type": "stream",
     "text": [
      "0\n",
      "0\n",
      "1\n",
      "2\n",
      "2\n",
      "4\n"
     ]
    }
   ],
   "source": [
    "def print_round(*args):\n",
    "    for n in args:\n",
    "        print(round(n))\n",
    "        \n",
    "print_round(\n",
    "    -0.5,\n",
    "    0.5,0.50000000001,\n",
    "    1.5,2.5,3.5)"
   ]
  },
  {
   "cell_type": "code",
   "execution_count": 1,
   "metadata": {},
   "outputs": [
    {
     "name": "stdout",
     "output_type": "stream",
     "text": [
      "func3 수정된 전역변수 a 출력: 30\n",
      "30\n"
     ]
    }
   ],
   "source": [
    "def func3():\n",
    "    global a # global a = 30과 같이 한 번에 쓸 수 없음\n",
    "    a = 30\n",
    "    print(\"func3 수정된 전역변수 a 출력:\", a)\n",
    "    \n",
    "func3()\n",
    "print(a)"
   ]
  },
  {
   "cell_type": "code",
   "execution_count": 2,
   "metadata": {},
   "outputs": [
    {
     "name": "stdout",
     "output_type": "stream",
     "text": [
      "func3 수정된 전역변수 a 출력: 30\n",
      "30\n"
     ]
    }
   ],
   "source": [
    "a = 20\n",
    "func3()\n",
    "print(a)"
   ]
  },
  {
   "cell_type": "code",
   "execution_count": 3,
   "metadata": {},
   "outputs": [
    {
     "name": "stdout",
     "output_type": "stream",
     "text": [
      "[3, 4, 3, 2]\n"
     ]
    }
   ],
   "source": [
    "name = [\"김이상\", \"남궁옥분\", \"조용선\", \"최현\"]\n",
    "name_length = lambda x: len(x)\n",
    "print(list(map(name_length,name)))\n"
   ]
  },
  {
   "cell_type": "code",
   "execution_count": 7,
   "metadata": {},
   "outputs": [
    {
     "name": "stdout",
     "output_type": "stream",
     "text": [
      "['김이상!', '남궁옥분!', '조용선!', '최현!']\n"
     ]
    }
   ],
   "source": [
    "print(list(map(lambda x : x + '!' ,name)))"
   ]
  },
  {
   "cell_type": "code",
   "execution_count": 16,
   "metadata": {},
   "outputs": [
    {
     "name": "stdout",
     "output_type": "stream",
     "text": [
      "['me.png', 'mother.jpg', 'dog.gif', '33.jpg', 'plane.png']\n"
     ]
    }
   ],
   "source": [
    "files = ['fiesta.mp3', 'me.png', 'mother.jpg', 'dog.gif', '33.jpg',\n",
    "'plane.png', 'table.xlsx', '이력서.hwp']\n",
    "\n",
    "print(list(filter(lambda x : x.find('g') != -1 , files)))"
   ]
  },
  {
   "cell_type": "code",
   "execution_count": 20,
   "metadata": {},
   "outputs": [
    {
     "name": "stdout",
     "output_type": "stream",
     "text": [
      "[3, 4, 3, 2]\n"
     ]
    }
   ],
   "source": [
    "# 이호정 5-1\n",
    "name = [\"김이상\",\"남궁옥분\",\"조용선\",\"최현\"]\n",
    "result = map(len,name)\n",
    "print(list(result))"
   ]
  },
  {
   "cell_type": "code",
   "execution_count": 21,
   "metadata": {},
   "outputs": [
    {
     "name": "stdout",
     "output_type": "stream",
     "text": [
      "['김이상!', '남궁옥분!', '조용선!', '최현!']\n"
     ]
    }
   ],
   "source": [
    "# 임은성 5-2\n",
    "name = ['김이상','남궁옥분','조용선','최현']\n",
    "def name_length(names):\n",
    "    result2 = map(lambda x:x+'!',names)\n",
    "    print(list(result2))\n",
    "\n",
    "name_length(name)"
   ]
  },
  {
   "cell_type": "code",
   "execution_count": 18,
   "metadata": {},
   "outputs": [
    {
     "name": "stdout",
     "output_type": "stream",
     "text": [
      "['me.png', 'plane.png', 'mother.jpg', '33.jpg', 'dog.gif']\n"
     ]
    }
   ],
   "source": [
    "# 박진일, 6\n",
    "files = ['fiesta.mp3', 'me.png', 'mother.jpg', 'dog.gif', \n",
    "         '33.jpg', 'plane.png', 'table.xlsx', '이력서.hwp']\n",
    "\n",
    "result = []\n",
    "\n",
    "for i in ['png', 'jpg', 'gif']:\n",
    "    \n",
    "    a = filter(lambda x : x if x.find(i) != -1 else None, files)\n",
    "    result += a\n",
    "print(list(result))"
   ]
  },
  {
   "cell_type": "code",
   "execution_count": 22,
   "metadata": {},
   "outputs": [
    {
     "name": "stdout",
     "output_type": "stream",
     "text": [
      "['me.png', 'mother.jpg', 'dog.gif', '33.jpg', 'plane.png']\n"
     ]
    }
   ],
   "source": [
    "# 전형주 6\n",
    "files = ['fiesta.mp3', 'me.png', 'mother.jpg', 'dog.gif', '33.jpg','plane.png', 'table.xlsx','이력서.hwp']\n",
    "\n",
    "image_file = filter(lambda x : x.find(\"jpg\") != -1 or x.find(\"png\") != -1 or x.find(\"gif\") != -1 , files)\n",
    "print(list(image_file))"
   ]
  },
  {
   "cell_type": "code",
   "execution_count": null,
   "metadata": {},
   "outputs": [],
   "source": []
  }
 ],
 "metadata": {
  "kernelspec": {
   "display_name": "Python 3",
   "language": "python",
   "name": "python3"
  },
  "language_info": {
   "codemirror_mode": {
    "name": "ipython",
    "version": 3
   },
   "file_extension": ".py",
   "mimetype": "text/x-python",
   "name": "python",
   "nbconvert_exporter": "python",
   "pygments_lexer": "ipython3",
   "version": "3.10.13"
  }
 },
 "nbformat": 4,
 "nbformat_minor": 2
}
