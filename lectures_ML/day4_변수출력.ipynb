{
 "cells": [
  {
   "cell_type": "code",
   "execution_count": null,
   "metadata": {},
   "outputs": [
    {
     "data": {
      "text/plain": [
       "1192237"
      ]
     },
     "metadata": {},
     "output_type": "display_data"
    }
   ],
   "source": [
    "int('12312d', base=16)"
   ]
  },
  {
   "cell_type": "code",
   "execution_count": null,
   "metadata": {},
   "outputs": [
    {
     "ename": "ValueError",
     "evalue": "invalid literal for int() with base 10: '12312d'",
     "output_type": "error",
     "traceback": [
      "\u001b[1;31m---------------------------------------------------------------------------\u001b[0m\n",
      "\u001b[1;31mValueError\u001b[0m                                Traceback (most recent call last)\n",
      "Cell \u001b[1;32mIn[2], line 1\u001b[0m\n",
      "\u001b[1;32m----> 1\u001b[0m \u001b[38;5;28;43mint\u001b[39;49m\u001b[43m(\u001b[49m\u001b[38;5;124;43m'\u001b[39;49m\u001b[38;5;124;43m12312d\u001b[39;49m\u001b[38;5;124;43m'\u001b[39;49m\u001b[43m)\u001b[49m\n",
      "\n",
      "\u001b[1;31mValueError\u001b[0m: invalid literal for int() with base 10: '12312d'"
     ]
    }
   ],
   "source": [
    "int('12312d')"
   ]
  },
  {
   "cell_type": "code",
   "execution_count": null,
   "metadata": {},
   "outputs": [
    {
     "data": {
      "text/plain": [
       "(12312, 12312, 12312)"
      ]
     },
     "metadata": {},
     "output_type": "display_data"
    }
   ],
   "source": [
    "int('12312\\n'), int('12312\\t'), int('12312\\r')"
   ]
  },
  {
   "cell_type": "code",
   "execution_count": null,
   "metadata": {},
   "outputs": [
    {
     "data": {
      "text/plain": [
       "(1e-06, 3)"
      ]
     },
     "metadata": {},
     "output_type": "display_data"
    }
   ],
   "source": [
    "float('10e-7'), int(eval('10-7'))"
   ]
  },
  {
   "cell_type": "code",
   "execution_count": 1,
   "metadata": {},
   "outputs": [
    {
     "ename": "KeyError",
     "evalue": "0",
     "output_type": "error",
     "traceback": [
      "\u001b[1;31m---------------------------------------------------------------------------\u001b[0m",
      "\u001b[1;31mKeyError\u001b[0m                                  Traceback (most recent call last)",
      "Cell \u001b[1;32mIn[1], line 2\u001b[0m\n\u001b[0;32m      1\u001b[0m dic \u001b[38;5;241m=\u001b[39m {\u001b[38;5;241m1\u001b[39m:\u001b[38;5;241m2\u001b[39m, \u001b[38;5;241m2\u001b[39m:\u001b[38;5;241m3\u001b[39m, \u001b[38;5;241m3\u001b[39m:\u001b[38;5;241m3\u001b[39m, \u001b[38;5;241m3\u001b[39m:\u001b[38;5;241m2\u001b[39m}\n\u001b[1;32m----> 2\u001b[0m \u001b[43mdic\u001b[49m\u001b[43m[\u001b[49m\u001b[38;5;241;43m0\u001b[39;49m\u001b[43m]\u001b[49m\n",
      "\u001b[1;31mKeyError\u001b[0m: 0"
     ]
    }
   ],
   "source": [
    "dic = {1:2, 2:3, 3:3, 3:2}\n",
    "dic[0]"
   ]
  },
  {
   "cell_type": "code",
   "execution_count": 4,
   "metadata": {},
   "outputs": [
    {
     "name": "stdout",
     "output_type": "stream",
     "text": [
      "1 2 3 "
     ]
    }
   ],
   "source": [
    "for i in dic:\n",
    "    print(i, end=' ')"
   ]
  },
  {
   "cell_type": "code",
   "execution_count": 3,
   "metadata": {},
   "outputs": [
    {
     "name": "stdout",
     "output_type": "stream",
     "text": [
      "하나, 둘\n"
     ]
    }
   ],
   "source": [
    "print('%s, %s' % ('하나', '둘'))"
   ]
  },
  {
   "cell_type": "code",
   "execution_count": 7,
   "metadata": {},
   "outputs": [
    {
     "name": "stdout",
     "output_type": "stream",
     "text": [
      "오늘 소개할 작품은 고흐의 1889년 작품 자화상입니다\n",
      "물건이 1개 있어요.\n",
      "물건이 10개 있어요.\n",
      "물건이 100개 있어요.\n",
      "물건이   1개 있어요.\n",
      "물건이  10개 있어요.\n",
      "물건이 100개 있어요.\n",
      "물건이 1000000개 있어요.\n",
      "원주율은 3.1입니다.\n",
      "원주율은 3.14입니다.\n",
      "원주율은  3.14입니다.\n"
     ]
    }
   ],
   "source": [
    "print(\"오늘 소개할 작품은 %s의 %d년 작품 %s입니다\" % (\"고흐\", 1889, \"자화상\"))\n",
    "print(\"물건이 %d개 있어요.\" % (1))\n",
    "print(\"물건이 %d개 있어요.\" % (10))\n",
    "print(\"물건이 %d개 있어요.\" % (100))\n",
    "# 자릿수 확보\n",
    "print(\"물건이 %3d개 있어요.\" % (1)) # 3 개 숫자가 들어갈 공간을 확보\n",
    "print(\"물건이 %3d개 있어요.\" % (10))\n",
    "print(\"물건이 %3d개 있어요.\" % (100))\n",
    "print(\"물건이 %3d개 있어요.\" % (1000000))\n",
    "# 소수점 처리\n",
    "print(\"원주율은 %.1f입니다.\" % (3.141592)) # 소수점 1 자리까지\n",
    "print(\"원주율은 %.2f입니다.\" % (3.141592)) # 소수점 2 자리까지\n",
    "print(\"원주율은 %5.2f입니다.\" % (3.141592)) # 5 자리 공간 확보하고,소수점 2 자리까지"
   ]
  },
  {
   "cell_type": "code",
   "execution_count": 21,
   "metadata": {},
   "outputs": [
    {
     "name": "stdout",
     "output_type": "stream",
     "text": [
      "체질량 지수 BMI를 계산합니다~\n",
      "\n"
     ]
    }
   ],
   "source": [
    "print(\"체질량 지수 BMI를 계산합니다~\\n\")\n",
    "name = input(\"당신의 이름을 입력하세요: \") # input() 함수로 입력을 받는다.\n",
    "weight = input(\"몸무게를 입력하세요: \") # 결과는 항상 문자열이다\n",
    "height = input(\"키를 입력하세요: \")"
   ]
  },
  {
   "cell_type": "code",
   "execution_count": 22,
   "metadata": {},
   "outputs": [
    {
     "name": "stdout",
     "output_type": "stream",
     "text": [
      "<class 'str'> <class 'str'>\n",
      "<class 'float'> <class 'float'>\n",
      "\n",
      "철수님의 bmi는 85/(1.82*1.82)이므로 25.693입니다.\n"
     ]
    }
   ],
   "source": [
    "\n",
    "print(type(weight), type(height)) # 둘 다 str 타입이다\n",
    "weight = float(weight)\n",
    "height = float(height)\n",
    "print(type(weight), type(height)) # float 로 바뀌었다\n",
    "height = height / 100 # bmi 계산을 위해 단위 조정\n",
    "bmi = weight / (height*height) # 또는 weight / (height**2)\n",
    "comment = \"\\n%s님의 bmi는 %d/(%.2f*%.2f)이므로 %.3f입니다.\" # %f를 %d로 변환\n",
    "print(comment % (name, weight, height, height, bmi))"
   ]
  },
  {
   "cell_type": "code",
   "execution_count": 18,
   "metadata": {},
   "outputs": [
    {
     "data": {
      "text/plain": [
       "int"
      ]
     },
     "execution_count": 18,
     "metadata": {},
     "output_type": "execute_result"
    }
   ],
   "source": [
    "type(eval('%4d' % (182.1)))"
   ]
  },
  {
   "cell_type": "code",
   "execution_count": 30,
   "metadata": {},
   "outputs": [
    {
     "name": "stdout",
     "output_type": "stream",
     "text": [
      "\n",
      "철수님의 bmi는   85/(1.82*    1.82)이므로   25.693입니다.\n"
     ]
    }
   ],
   "source": [
    "comment = \"\\n%s님의 bmi는 %4d/(%.2f*%8.2f)이므로 %8.3f입니다.\" # %f를 %d로 변환\n",
    "print(comment % (name, weight, height, height, bmi))"
   ]
  },
  {
   "cell_type": "code",
   "execution_count": 37,
   "metadata": {},
   "outputs": [
    {
     "name": "stdout",
     "output_type": "stream",
     "text": [
      "하나\n",
      "2,둘\n",
      "하나둘123셋\n"
     ]
    }
   ],
   "source": [
    "tup = ('하나','둘','1',2,3,'셋')\n",
    "print('{0}'.format(*tup))\n",
    "print('{3},{1}'.format(*tup))\n",
    "print('{}{}{}{}{}{}'.format(*tup))"
   ]
  },
  {
   "cell_type": "code",
   "execution_count": 58,
   "metadata": {},
   "outputs": [
    {
     "name": "stdout",
     "output_type": "stream",
     "text": [
      "\n",
      "철수님의 키와 몸무게는 아래와 같습니다.\n",
      ":       1.8m,     1.821m, 1.821m,  1.82m\n"
     ]
    }
   ],
   "source": [
    "print(\"\\n{}님의 키와 몸무게는 아래와 같습니다.\".format(name))\n",
    "print(\":{0:10.1f}m,{0:10.3f}m,{0:6.3f}m,{0:6.3}m\".format(height))"
   ]
  },
  {
   "cell_type": "code",
   "execution_count": 66,
   "metadata": {},
   "outputs": [
    {
     "name": "stdout",
     "output_type": "stream",
     "text": [
      "이름은 철수, 나이는 12123, 키는      1.821, 몸무게는                 85.2\n"
     ]
    }
   ],
   "source": [
    "age=12123\n",
    "\n",
    "print(f'이름은 {name}, 나이는 {age:5}, 키는 {height:10.3f}, 몸무게는 {weight:20.1f}')"
   ]
  },
  {
   "cell_type": "code",
   "execution_count": 67,
   "metadata": {},
   "outputs": [],
   "source": [
    "birds = ['참새', '제비', '독수리']\n",
    "insects = ['개미', '풍뎅이', '메뚜기']\n",
    "animals = [birds, insects]"
   ]
  },
  {
   "cell_type": "code",
   "execution_count": 73,
   "metadata": {},
   "outputs": [
    {
     "name": "stdout",
     "output_type": "stream",
     "text": [
      "이번 그룹의 동물들은 ['참새','제비','독수리']입니다. \n",
      "이 그룹에 속한 각각의 동물은\n",
      "참새\n",
      "제비\n",
      "독수리\n",
      "입니다.\n",
      "\n",
      "이번 그룹의 동물들은 ['개미','풍뎅이','메뚜기']입니다. \n",
      "이 그룹에 속한 각각의 동물은\n",
      "개미\n",
      "풍뎅이\n",
      "메뚜기\n",
      "입니다.\n",
      "\n"
     ]
    }
   ],
   "source": [
    "for species in animals:\n",
    "    print(\"이번 그룹의 동물들은 ['{}','{}','{}']입니다. \\n이 그룹에 속한 각각의 동물은\".format(*species))\n",
    "    for animal in species:\n",
    "        print(animal)\n",
    "    print('입니다.\\n')"
   ]
  },
  {
   "cell_type": "code",
   "execution_count": 79,
   "metadata": {},
   "outputs": [
    {
     "name": "stdout",
     "output_type": "stream",
     "text": [
      "이번 그룹의 동물들은 ['참새','제비','독수리']입니다.\n",
      "이 그룹에 속한 각각의 동물은\n",
      "참새\n",
      "제비\n",
      "독수리\n",
      "입니다.\n",
      "\n",
      "이번 그룹의 동물들은 ['개미','풍뎅이','메뚜기']입니다.\n",
      "이 그룹에 속한 각각의 동물은\n",
      "개미\n",
      "풍뎅이\n",
      "메뚜기\n",
      "입니다.\n",
      "\n"
     ]
    }
   ],
   "source": [
    "for species in animals:\n",
    "    print(\n",
    "\"\"\"이번 그룹의 동물들은 ['{0}','{1}','{2}']입니다.\n",
    "이 그룹에 속한 각각의 동물은\n",
    "{0}\n",
    "{1}\n",
    "{2}\n",
    "입니다.\n",
    "\"\"\".format(*species))"
   ]
  },
  {
   "cell_type": "code",
   "execution_count": 83,
   "metadata": {},
   "outputs": [
    {
     "name": "stdout",
     "output_type": "stream",
     "text": [
      "[1] 올해 성년이 되셨군요!\n",
      "[3] 당신은 19세 이상입니다.\n"
     ]
    }
   ],
   "source": [
    "age = int(input(\"당신의 나이는?: \"))\n",
    "if age == 19:\n",
    "    print(\"[1] 올해 성년이 되셨군요!\")\n",
    "else :\n",
    "    print(\"[2] 당신은 19세가 아닙니다.\")\n",
    "if age >= 19:\n",
    "    print(\"[3] 당신은 19세 이상입니다.\")\n",
    "if age > 19:\n",
    "    print(\"[4] 당신은 20세 이상입니다.\")\n",
    "if 19 < age < 30:\n",
    "    print(\"[5] 당신은 20대입니다.\")"
   ]
  },
  {
   "cell_type": "code",
   "execution_count": 85,
   "metadata": {},
   "outputs": [
    {
     "data": {
      "text/plain": [
       "True"
      ]
     },
     "execution_count": 85,
     "metadata": {},
     "output_type": "execute_result"
    }
   ],
   "source": [
    "bool('False')"
   ]
  },
  {
   "cell_type": "code",
   "execution_count": 93,
   "metadata": {},
   "outputs": [
    {
     "name": "stdout",
     "output_type": "stream",
     "text": [
      "꾸.. 취급 품목이 아닙니다...\n"
     ]
    }
   ],
   "source": [
    "animals = ['닭', '소', '돼지']\n",
    "animals2 = ['오리','꿩','노루']\n",
    "\n",
    "s = input('찾고자하는 동물을 입력하세요 : ')\n",
    "\n",
    "if s in animals:\n",
    "    print(f'{s}, 있습니다!')\n",
    "elif s in animals2:\n",
    "    print(f'{s}, 재고가 없습니다.')\n",
    "else:\n",
    "    print(f'{s}.. 취급 품목이 아닙니다...')"
   ]
  },
  {
   "cell_type": "code",
   "execution_count": 94,
   "metadata": {},
   "outputs": [
    {
     "name": "stdout",
     "output_type": "stream",
     "text": [
      "돼지, 있습니다!\n",
      "돼지, 있습니다!\n",
      "돼지, 있습니다!\n",
      "돼지, 있습니다!\n"
     ]
    }
   ],
   "source": [
    "animals = ['닭', '소', '돼지']\n",
    "animals2 = ['오리','꿩','노루']\n",
    "\n",
    "found = False\n",
    "for _ in range(5):\n",
    "    s = input('찾고자하는 동물을 입력하세요 : ')\n",
    "    if s in animals:\n",
    "        print(f'{s}, 있습니다!')\n",
    "        found = True\n",
    "    if s in animals2:\n",
    "        print(f'{s}, 재고가 없습니다.')\n",
    "        found = True\n",
    "    if not found:\n",
    "        print(f'{s}.. 취급 품목이 아닙니다...')\n",
    "        found = False"
   ]
  },
  {
   "cell_type": "code",
   "execution_count": 3,
   "metadata": {},
   "outputs": [
    {
     "name": "stdout",
     "output_type": "stream",
     "text": [
      "오리찾았습니당\n"
     ]
    }
   ],
   "source": [
    "all_animals = ['닭', '소', '돼지','오리','꿩','노루']\n",
    "\n",
    "found = False\n",
    "while not found:\n",
    "    s = input('찾고자하는 동물을 입력하세요 : ')\n",
    "    for a in all_animals:\n",
    "        if a == s :\n",
    "            print(f'{s} 찾았습니당')\n",
    "            found = True\n",
    "            break\n",
    "    if not found:\n",
    "        print('못찾음 ㅠ')"
   ]
  },
  {
   "cell_type": "code",
   "execution_count": 6,
   "metadata": {},
   "outputs": [
    {
     "name": "stdout",
     "output_type": "stream",
     "text": [
      "***** [100, 50, 80] *****\n",
      "닭, 100 마리 입니다.\n",
      "소, 50 마리 입니다.\n",
      "돼지, 80 마리 입니다.\n",
      "\n",
      "***** [50, 10, 20] *****\n",
      "닭, 50 마리 입니다.\n",
      "소, 10 마리 입니다.\n",
      "돼지, 20 마리 입니다.\n",
      "\n",
      "***** [200, 100, 150] *****\n",
      "닭, 200 마리 입니다.\n",
      "소, 100 마리 입니다.\n",
      "돼지, 150 마리 입니다.\n",
      "\n"
     ]
    }
   ],
   "source": [
    "제일농장 = [100, 50, 80]\n",
    "우리농장 = [50, 10, 20]\n",
    "한국농장 = [200, 100, 150]\n",
    "farms = [제일농장, 우리농장, 한국농장]\n",
    "animals = ['닭', '소', '돼지']\n",
    "\n",
    "for f in farms:\n",
    "    print('*'*5,f,'*'*5)\n",
    "    for i in range(len(animals)):\n",
    "        print(f'{animals[i]}, {f[i]} 마리 입니다.')\n",
    "    print()\n",
    "    \n"
   ]
  },
  {
   "cell_type": "code",
   "execution_count": null,
   "metadata": {},
   "outputs": [],
   "source": []
  },
  {
   "cell_type": "code",
   "execution_count": null,
   "metadata": {},
   "outputs": [],
   "source": []
  },
  {
   "cell_type": "code",
   "execution_count": null,
   "metadata": {},
   "outputs": [],
   "source": []
  }
 ],
 "metadata": {
  "kernelspec": {
   "display_name": "Python 3",
   "language": "python",
   "name": "python3"
  },
  "language_info": {
   "codemirror_mode": {
    "name": "ipython",
    "version": 3
   },
   "file_extension": ".py",
   "mimetype": "text/x-python",
   "name": "python",
   "nbconvert_exporter": "python",
   "pygments_lexer": "ipython3",
   "version": "3.10.13"
  }
 },
 "nbformat": 4,
 "nbformat_minor": 2
}
