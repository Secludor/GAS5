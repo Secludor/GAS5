{
 "cells": [
  {
   "cell_type": "markdown",
   "metadata": {},
   "source": [
    "# Streamlit"
   ]
  },
  {
   "cell_type": "markdown",
   "metadata": {},
   "source": [
    "간단한 Web Application 개발 도구\n",
    "- 파이썬을 기반으로 만들어졌으며,\n",
    "- 데이터분석 결과를 표현할 다양한 시각화 기능을 갖추고 있어\n",
    "- 데이터 분석 및 ML, DL 프로토타입 개발에 적절하다\n",
    "- 문서화가 잘 되어 있다. 여기서는 주요 내용만 살펴본다\n",
    "- https://docs.streamlit.io/library/api-reference\n",
    "- 단, IPython은 사용할 수 없다 (예: Jupyter)\n",
    "- PyCharm 또는 VS code에서 .py를 이용한다\n",
    "- 프로그램의 빠른 배포에 중점을 두었기 때문에 디자인이나 확장성 등에 제약이 있다"
   ]
  },
  {
   "cell_type": "markdown",
   "metadata": {},
   "source": [
    "- pip는 Python 패키지 설치에 특화되어 있으며, PyPI에서 직접 패키지를 가져옵니다.\n",
    "- conda는 보다 폭넓은 패키지 관리 및 종속성 해결을 제공하며, 다양한 언어로 작성된 패키지를 포함할 수 있습니다.\n",
    "\n",
    "권장 설치 방법:\n",
    "- Anaconda 또는 Miniconda를 사용하는 경우: conda install -c conda-forge streamlit을 사용하는 것이 좋습니다. 이는 종속성 문제를 보다 효과적으로 관리할 수 있기 때문입니다.\n",
    "- 가상 환경 또는 특정 Python 패키지 관리 도구를 사용하는 경우: pip install streamlit을 사용할 수 있습니다.\n",
    "\n",
    "두 방법을 모두 사용하는 이유는 종속성 문제를 최소화하고, 패키지가 제대로 설치되었는지 확인하기 위함입니다. pip install로 먼저 설치하고, conda install로 종속성을 해결하는 것이 일반적인 방법입니다."
   ]
  },
  {
   "cell_type": "code",
   "execution_count": 2,
   "metadata": {},
   "outputs": [
    {
     "name": "stderr",
     "output_type": "stream",
     "text": [
      "2024-06-25 11:18:54.520 \n",
      "  \u001b[33m\u001b[1mWarning:\u001b[0m to view this Streamlit app on a browser, run it with the following\n",
      "  command:\n",
      "\n",
      "    streamlit run c:\\Users\\Caelu\\anaconda3\\lib\\site-packages\\ipykernel_launcher.py [ARGUMENTS]\n"
     ]
    },
    {
     "data": {
      "text/plain": [
       "DeltaGenerator()"
      ]
     },
     "execution_count": 2,
     "metadata": {},
     "output_type": "execute_result"
    }
   ],
   "source": [
    "# 다음을 별도의 py 파일로 만든다\n",
    "import streamlit as st\n",
    "\n",
    "st.title('Hello World!')"
   ]
  },
  {
   "cell_type": "markdown",
   "metadata": {},
   "source": [
    "### 실행하기\n",
    "- streamlit을 설치한 환경에서 다음의 명령어로 서버를 기동한다\n",
    "\n",
    "streamlit run app.py\n",
    "- 이때, app.py는 현재 디렉토리에 위치해야 한다.\n",
    "- 혹은, {경로}/app.py로 해도 된다."
   ]
  },
  {
   "cell_type": "markdown",
   "metadata": {},
   "source": [
    "app.py 의 내용을 아래와 같이 수정하고\n",
    "- 웹브라우저에서 F5를 누르면 내용이 바뀐다"
   ]
  },
  {
   "cell_type": "code",
   "execution_count": 3,
   "metadata": {},
   "outputs": [
    {
     "data": {
      "text/plain": [
       "DeltaGenerator()"
      ]
     },
     "execution_count": 3,
     "metadata": {},
     "output_type": "execute_result"
    }
   ],
   "source": [
    "st.title('이것은 타이틀입니다')\n",
    "st.header('이것은 제목입니다')\n",
    "st.subheader('이것은 부제목입니다')\n",
    "st.text('이것은 일반 텍스트입니다')"
   ]
  },
  {
   "cell_type": "markdown",
   "metadata": {},
   "source": [
    "### 폰트 조절\n",
    "- Streamlit 자체에 폰트 조절 기능은 없기 때문에\n",
    "- 마크다운 기능을 이용하여 HTML을 직접 조절해야 한다\n",
    "\n",
    "기본적으로 Streamlit은 보안상의 이유로 HTML 사용을 제한하나, unsafe_allow_html=True 하게 되면 제한없이 적용할 수 있다"
   ]
  },
  {
   "cell_type": "code",
   "execution_count": 4,
   "metadata": {},
   "outputs": [
    {
     "data": {
      "text/plain": [
       "DeltaGenerator()"
      ]
     },
     "execution_count": 4,
     "metadata": {},
     "output_type": "execute_result"
    }
   ],
   "source": [
    "st.markdown('<style>h1 {font-size: 25px;}</style>', unsafe_allow_html=True)\n",
    "st.markdown('# 파이썬 코드를 출력할 수 있습니다.', unsafe_allow_html=True)"
   ]
  },
  {
   "cell_type": "markdown",
   "metadata": {},
   "source": [
    "`#` 하나는 h1에 대응한다.\n",
    "\n",
    "h2, h3는 스타일을 변경하지 않았기 때문에 비율을 맞추고 싶다면 각각 폰트를 지정해주어야 한다."
   ]
  },
  {
   "cell_type": "markdown",
   "metadata": {},
   "source": [
    "파이썬 코드를 출력하는 방법은 두 가지가 있다.\n",
    "- Markdown 문법 활용\n",
    "- code 메서드 활용"
   ]
  },
  {
   "cell_type": "code",
   "execution_count": 5,
   "metadata": {},
   "outputs": [
    {
     "data": {
      "text/plain": [
       "DeltaGenerator()"
      ]
     },
     "execution_count": 5,
     "metadata": {},
     "output_type": "execute_result"
    }
   ],
   "source": [
    "st. markdown('''```python\n",
    "def say_hello():\n",
    "    print('Hello, World!')\n",
    "    ```''')\n",
    "\n",
    "my_code = '''\n",
    "def say_hello():\n",
    "    print('Hello, World!')\n",
    "'''\n",
    "\n",
    "st.code(my_code)\n",
    "\n",
    "st. markdown(f'''```python\n",
    "{my_code}```\n",
    "    ''')\n"
   ]
  },
  {
   "cell_type": "markdown",
   "metadata": {},
   "source": [
    "이 또한 폰트 조절을 시도해볼 수 있으나, 잘 적용되지는 않는다."
   ]
  },
  {
   "cell_type": "code",
   "execution_count": 6,
   "metadata": {},
   "outputs": [
    {
     "data": {
      "text/plain": [
       "DeltaGenerator()"
      ]
     },
     "execution_count": 6,
     "metadata": {},
     "output_type": "execute_result"
    }
   ],
   "source": [
    "st.markdown(f'<div style=\"font-size: 18px; font-family: monospace; '\n",
    "f'background-color: green; padding: 10px; border-radius: 5px;\">'\n",
    "f'{my_code}</div>', unsafe_allow_html=True) "
   ]
  },
  {
   "cell_type": "markdown",
   "metadata": {},
   "source": [
    "### 데이터 출력 및 그래프 그리기"
   ]
  },
  {
   "cell_type": "code",
   "execution_count": 7,
   "metadata": {},
   "outputs": [
    {
     "name": "stderr",
     "output_type": "stream",
     "text": [
      "c:\\Users\\Caelu\\anaconda3\\lib\\site-packages\\pyarrow\\pandas_compat.py:373: FutureWarning: is_sparse is deprecated and will be removed in a future version. Check `isinstance(dtype, pd.SparseDtype)` instead.\n",
      "  if _pandas_api.is_sparse(col):\n",
      "c:\\Users\\Caelu\\anaconda3\\lib\\site-packages\\pyarrow\\pandas_compat.py:373: FutureWarning: is_sparse is deprecated and will be removed in a future version. Check `isinstance(dtype, pd.SparseDtype)` instead.\n",
      "  if _pandas_api.is_sparse(col):\n",
      "c:\\Users\\Caelu\\anaconda3\\lib\\site-packages\\pyarrow\\pandas_compat.py:373: FutureWarning: is_sparse is deprecated and will be removed in a future version. Check `isinstance(dtype, pd.SparseDtype)` instead.\n",
      "  if _pandas_api.is_sparse(col):\n",
      "c:\\Users\\Caelu\\anaconda3\\lib\\site-packages\\pyarrow\\pandas_compat.py:373: FutureWarning: is_sparse is deprecated and will be removed in a future version. Check `isinstance(dtype, pd.SparseDtype)` instead.\n",
      "  if _pandas_api.is_sparse(col):\n"
     ]
    },
    {
     "data": {
      "text/plain": [
       "DeltaGenerator()"
      ]
     },
     "execution_count": 7,
     "metadata": {},
     "output_type": "execute_result"
    }
   ],
   "source": [
    "import pandas as pd\n",
    "\n",
    "path = 'D:\\\\elice_python\\\\GAS_5\\\\pytest\\\\'\n",
    "data_path = path + 'iris.csv'\n",
    "\n",
    "df = pd.read_csv(data_path)\n",
    "\n",
    "st.title('Streamlit Data')\n",
    "st.subheader('st.dataframe() 사용하기')\n",
    "st.dataframe(df)\n",
    "\n",
    "df1 = df.iloc[:,[1,2]] # 행 전체, 1,2열\n",
    "\n",
    "st.line_chart(df1)\n",
    "st.area_chart(df1)\n",
    "st.bar_chart(df1)"
   ]
  },
  {
   "cell_type": "markdown",
   "metadata": {},
   "source": [
    "(width, height 파라미터를 추가하는 것도 가능하다.)"
   ]
  },
  {
   "cell_type": "code",
   "execution_count": null,
   "metadata": {},
   "outputs": [],
   "source": []
  },
  {
   "cell_type": "markdown",
   "metadata": {},
   "source": [
    "### st.write()"
   ]
  },
  {
   "cell_type": "code",
   "execution_count": 8,
   "metadata": {},
   "outputs": [],
   "source": [
    "st.write('# 하나')\n",
    "st.markdown('# 하나')\n",
    "st.write('## 두울')\n",
    "st.markdown('## 두울')\n",
    "st.write('### 세엣')\n",
    "st.markdown('### 세엣')\n",
    "st.write('#### 네엣')"
   ]
  },
  {
   "cell_type": "code",
   "execution_count": 9,
   "metadata": {},
   "outputs": [
    {
     "data": {
      "text/plain": [
       "DeltaGenerator()"
      ]
     },
     "execution_count": 9,
     "metadata": {},
     "output_type": "execute_result"
    }
   ],
   "source": [
    "import matplotlib\n",
    "\n",
    "st.markdown('## 한글 폰트 설정')\n",
    "#한글 폰트 설정\n",
    "matplotlib.rcParams['font.family'] = 'Malgun Gothic'\n",
    "matplotlib.rcParams['axes.unicode_minus'] = False\n",
    "month = range(1, 13) # range(include:exclude)\n",
    "amount = [100, 110, 130, 150, 120, 140, 170, 180, 150, 160, 200, 210]\n",
    "df = pd.DataFrame(amount, index=month)\n",
    "ax = df.plot(grid=True, figsize=(10, 5))\n",
    "ax.legend(['월별 생산량'], fontsize=10)\n",
    "ax.set_title('생산 현황', fontsize=20)\n",
    "ax.set_xlabel('월', fontsize=15)\n",
    "ax.set_ylabel('생산량', fontsize=15)\n",
    "fig = ax.get_figure()\n",
    "st.subheader('월별 생산량 그래프')\n",
    "st.pyplot(fig)"
   ]
  },
  {
   "cell_type": "markdown",
   "metadata": {},
   "source": [
    "st.write는 다양한 데이터 타입을 출력할 수 있다."
   ]
  },
  {
   "cell_type": "code",
   "execution_count": 10,
   "metadata": {},
   "outputs": [],
   "source": [
    "st.write('### st.write()는 여러 데이터 타입을 출력할 수 있다.')\n",
    "st.write(\"#### 월별 생산량 그래프\", fig) "
   ]
  },
  {
   "cell_type": "markdown",
   "metadata": {},
   "source": [
    "### 이미지 띄우기.\n",
    "PIL ; Python Image Library"
   ]
  },
  {
   "cell_type": "code",
   "execution_count": 11,
   "metadata": {},
   "outputs": [
    {
     "data": {
      "text/plain": [
       "DeltaGenerator()"
      ]
     },
     "execution_count": 11,
     "metadata": {},
     "output_type": "execute_result"
    }
   ],
   "source": [
    "from PIL import Image\n",
    "\n",
    "st.title('이미지 띄우기')\n",
    "\n",
    "img_path = 'D:\\elice_python\\GAS_5\\pytest_img\\images\\Abyssinian_2.jpg'\n",
    "\n",
    "img = Image.open(img_path)\n",
    "\n",
    "st.image(img, width=300, caption='고양이')"
   ]
  },
  {
   "cell_type": "markdown",
   "metadata": {},
   "source": [
    "## 입력 도구"
   ]
  },
  {
   "cell_type": "code",
   "execution_count": null,
   "metadata": {},
   "outputs": [],
   "source": [
    "st.title('입력 도구')"
   ]
  },
  {
   "cell_type": "markdown",
   "metadata": {},
   "source": [
    "### 버튼"
   ]
  },
  {
   "cell_type": "code",
   "execution_count": null,
   "metadata": {},
   "outputs": [],
   "source": [
    "st.header('버튼')\n",
    "\n",
    "clicked1 = st.button('버튼 1')\n",
    "st.write('버튼 1 상태 : ', clicked1)\n",
    "\n",
    "if clicked1:\n",
    "    st.write('버튼 1을 클릭했습니다.')\n",
    "else:\n",
    "    st.write('버튼 1을 클릭하지 않았습니다.')\n",
    "    \n",
    "clicked2 = st.button('버튼 2')\n",
    "st.write('버튼 2 상태 : ', clicked2)\n",
    "\n",
    "if clicked2:\n",
    "    st.write('버튼 2를 클릭했습니다.')\n",
    "else:\n",
    "    st.write('버튼 2를 클릭하지 않았습니다.')"
   ]
  },
  {
   "cell_type": "markdown",
   "metadata": {},
   "source": [
    "버튼은 하나를 누르면 다른 하나가 False가 된다."
   ]
  },
  {
   "cell_type": "markdown",
   "metadata": {},
   "source": [
    "### 체크박스"
   ]
  },
  {
   "cell_type": "code",
   "execution_count": null,
   "metadata": {},
   "outputs": [],
   "source": [
    "st.header('체크박스')\n",
    "\n",
    "checked1 = st.checkbox('체크박스 1')\n",
    "st.write('체크박스 1 상태 : ', checked1)\n",
    "\n",
    "if checked1:\n",
    "    st.write('체크박스 1을 클릭했습니다.')\n",
    "else:\n",
    "    st.write('체크박스 1을 클릭하지 않았습니다.')\n",
    "    \n",
    "checked2 = st.checkbox('체크박스 2')\n",
    "st.write('체크박스 2 상태 : ', checked2)\n",
    "\n",
    "if checked2:\n",
    "    st.write('체크박스 2를 클릭했습니다.')\n",
    "else:\n",
    "    st.write('체크박스 2를 클릭하지 않았습니다.')"
   ]
  },
  {
   "cell_type": "markdown",
   "metadata": {},
   "source": [
    "체크박스는 다른 하나를 눌러도 풀리지 않는다."
   ]
  },
  {
   "cell_type": "markdown",
   "metadata": {},
   "source": [
    "### 라디오 버튼"
   ]
  },
  {
   "cell_type": "code",
   "execution_count": null,
   "metadata": {},
   "outputs": [],
   "source": [
    "st.header('라디오 버튼')\n",
    "\n",
    "radio1_options = [10,20,30,'40']\n",
    "selected1 = st.radio('(1) 당신의 연령대는? ', radio1_options)\n",
    "st.write('선택 연령대 : ', selected1)\n",
    "\n",
    "radio2_options = ['학생', '교사', '회사원', '자영업', '무직']\n",
    "selected2 = st.radio('(2) 당신의 직업은? ', radio2_options)\n",
    "st.write('선택 연령대 : ', selected2)"
   ]
  },
  {
   "cell_type": "markdown",
   "metadata": {},
   "source": [
    "리스트 안의 자료형이 달라도 되자만, 자료형에 따라 streamlit 페이지에서의 표출 형식이 다를 수 있다."
   ]
  },
  {
   "cell_type": "markdown",
   "metadata": {},
   "source": [
    "### 셀렉트 박스"
   ]
  },
  {
   "cell_type": "code",
   "execution_count": null,
   "metadata": {},
   "outputs": [],
   "source": [
    "st.header('셀렉트 박스')\n",
    "\n",
    "select1_options = [10,'20',30,'40']\n",
    "selected1 = st.selectbox('(1) 당신의 연령대는? ', select1_options)\n",
    "st.write('선택 연령대 : ', selected1)\n",
    "\n",
    "select2_options = ['학생', '교사', '회사원', '자영업', '무직']\n",
    "selected2 = st.selectbox('(2) 당신의 직업은? ', select2_options)\n",
    "st.write('선택 직업군 : ', selected2)"
   ]
  },
  {
   "cell_type": "markdown",
   "metadata": {},
   "source": [
    "라디오 버튼과 셀렉트 박스의  변수명이 selected1 등으로 같지만 별도로 표출된다. (위에서 아래로 stream 되는 듯)"
   ]
  },
  {
   "cell_type": "markdown",
   "metadata": {},
   "source": [
    "### 로그인"
   ]
  },
  {
   "cell_type": "code",
   "execution_count": null,
   "metadata": {},
   "outputs": [],
   "source": [
    "st.header('로그인')\n",
    "\n",
    "user_id = st.text_input('아이디 입력 : ', value='streamlit', max_chars=15)\n",
    "user_pw = st.text_input('아이디 입력 : ', value='???????', type='password')\n",
    "\n",
    "if user_id == 'streamlit':\n",
    "    if user_pw == '1234':\n",
    "        st.write('로그인 되었습니다.')\n",
    "    else:\n",
    "        st.write('ID나 PW를 확인하세요')\n",
    "else:\n",
    "    st.write('ID나 PW를 확인하세요')"
   ]
  },
  {
   "cell_type": "markdown",
   "metadata": {},
   "source": [
    "### 숫자 입력\n",
    "- number_input()으로 숫자의 입력을 편리하게 받을 수 있다."
   ]
  },
  {
   "cell_type": "code",
   "execution_count": 12,
   "metadata": {},
   "outputs": [
    {
     "name": "stderr",
     "output_type": "stream",
     "text": [
      "2024-06-25 12:40:27.647 Session state does not function when running a script without `streamlit run`\n"
     ]
    }
   ],
   "source": [
    "st.header('숫자 입력')\n",
    "\n",
    "num1 = st.number_input('나이를 입력하세요 : ', min_value=1, max_value=120, value=10)\n",
    "st.write('입력받은 나이 : ', num1)\n",
    "\n",
    "height = st.number_input('키(cm)를 입력하세요', min_value=10.0, max_value=250.0, value=160.0, step=0.1)\n",
    "weight = st.number_input('몸무게(kg)를 입력하세요', min_value=1.0, value=60.0)\n",
    "BMI = round(weight / ((height/100)**2), 2)\n",
    "st.write('신체질량지수(BMI):', BMI)"
   ]
  },
  {
   "cell_type": "markdown",
   "metadata": {},
   "source": [
    "- min, max 값의 자료형이 int이면 입력받는 숫자의 자료형도 int로 보정되는듯.\n",
    "- float의 기본 step은 0.01이다."
   ]
  },
  {
   "cell_type": "markdown",
   "metadata": {},
   "source": [
    "### 날짜 입력"
   ]
  },
  {
   "cell_type": "code",
   "execution_count": 13,
   "metadata": {},
   "outputs": [],
   "source": [
    "st.header('날짜 입력')\n",
    "import datetime\n",
    "\n",
    "birthday = st.date_input('생일을 입력하세요 : ', value=datetime.date(2000,1,1))\n",
    "st.write('당신의 생일 : ', birthday)\n",
    "\n",
    "date_range = st.date_input('프로젝트의 기간을 입력하세요.',\n",
    "                           value=[datetime.date(2024,1,1), datetime.date(2024,12,31)],\n",
    "                           min_value=datetime.date(2024,1,1),\n",
    "                           max_value=datetime.date(2024,12,31))"
   ]
  },
  {
   "cell_type": "markdown",
   "metadata": {},
   "source": [
    "기간 선택의 시작과 끝을 반대 순서로 해도 잘 들어간다."
   ]
  },
  {
   "cell_type": "markdown",
   "metadata": {},
   "source": [
    "### 시간 입력"
   ]
  },
  {
   "cell_type": "code",
   "execution_count": 14,
   "metadata": {},
   "outputs": [],
   "source": [
    "st.header('시간 입력')\n",
    "\n",
    "start_time = st.time_input('시작 시각을 입력하세요 : ', value=datetime.time(8,30))\n",
    "st.write('시작 시각 : ', start_time)\n",
    "\n",
    "end_time = st.time_input('종료 시각을 입력하세요 : ', value=datetime.time(15))\n",
    "st.write('종료 시각 : ', end_time)"
   ]
  },
  {
   "cell_type": "markdown",
   "metadata": {},
   "source": [
    "## 화면 나누기"
   ]
  },
  {
   "cell_type": "markdown",
   "metadata": {},
   "source": [
    "### 영역 구분\n",
    "\n",
    "col1, col2 = st.columns([2,3])  << 너비를 2:3 으로 분할해 col1, co2로 분배"
   ]
  },
  {
   "cell_type": "code",
   "execution_count": 15,
   "metadata": {},
   "outputs": [],
   "source": [
    "st.title('화면 나누기')\n",
    "st.header('영역 구분')\n",
    "\n",
    "col1, col2, col3 = st. columns([2,3,0.5])\n",
    "\n",
    "with col1:\n",
    "    st.title('here is column1')\n",
    "\n",
    "with col2:\n",
    "    st.title('here is column2')\n",
    "    st.checkbox('this is checkboc1 in col2')\n",
    "    \n",
    "with col3:\n",
    "    st.title('here is column3')"
   ]
  },
  {
   "cell_type": "code",
   "execution_count": 16,
   "metadata": {},
   "outputs": [
    {
     "name": "stderr",
     "output_type": "stream",
     "text": [
      "c:\\Users\\Caelu\\anaconda3\\lib\\site-packages\\pyarrow\\pandas_compat.py:373: FutureWarning: is_sparse is deprecated and will be removed in a future version. Check `isinstance(dtype, pd.SparseDtype)` instead.\n",
      "  if _pandas_api.is_sparse(col):\n",
      "c:\\Users\\Caelu\\anaconda3\\lib\\site-packages\\pyarrow\\pandas_compat.py:373: FutureWarning: is_sparse is deprecated and will be removed in a future version. Check `isinstance(dtype, pd.SparseDtype)` instead.\n",
      "  if _pandas_api.is_sparse(col):\n"
     ]
    }
   ],
   "source": [
    "st.header('영역 구분 사용 예시')\n",
    "import streamlit as st\n",
    "from PIL import Image\n",
    "import pandas as pd\n",
    "\n",
    "path = 'D:\\\\elice_python\\\\GAS_5\\\\pytest\\\\'\n",
    "data_path = path + 'iris.csv'\n",
    "df = pd.read_csv(data_path)\n",
    "\n",
    "col1, col2 = st.columns(2)\n",
    "with col1:\n",
    "    st.subheader('iris 데이터')\n",
    "    st.dataframe(df.iloc[:5,2:5])\n",
    "with col2:\n",
    "    st.subheader('Petal Info.')\n",
    "    st.line_chart(df.iloc[:10,2:4])"
   ]
  },
  {
   "cell_type": "markdown",
   "metadata": {},
   "source": [
    "### Tab 구분\n",
    "탭을 눌러 전환"
   ]
  },
  {
   "cell_type": "code",
   "execution_count": 17,
   "metadata": {},
   "outputs": [],
   "source": [
    "st.header('Tab 구분')\n",
    "tab1, tab2 = st.tabs(['Tab A','Tab B'])\n",
    "\n",
    "with tab1:\n",
    "    st.write('hello')\n",
    "with tab2:\n",
    "    st.write('hi')"
   ]
  },
  {
   "cell_type": "code",
   "execution_count": null,
   "metadata": {},
   "outputs": [],
   "source": []
  }
 ],
 "metadata": {
  "kernelspec": {
   "display_name": "base",
   "language": "python",
   "name": "python3"
  },
  "language_info": {
   "codemirror_mode": {
    "name": "ipython",
    "version": 3
   },
   "file_extension": ".py",
   "mimetype": "text/x-python",
   "name": "python",
   "nbconvert_exporter": "python",
   "pygments_lexer": "ipython3",
   "version": "3.10.13"
  }
 },
 "nbformat": 4,
 "nbformat_minor": 2
}
