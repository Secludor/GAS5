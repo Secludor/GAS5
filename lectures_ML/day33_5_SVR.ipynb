{
 "cells": [
  {
   "cell_type": "code",
   "execution_count": 1,
   "metadata": {},
   "outputs": [],
   "source": [
    "import pandas as pd\n",
    "import os\n",
    "\n",
    "path = r'D:\\elice_python\\GAS_5\\pytest_machine'\n",
    "os.chdir(path)"
   ]
  },
  {
   "cell_type": "code",
   "execution_count": 2,
   "metadata": {},
   "outputs": [
    {
     "name": "stdout",
     "output_type": "stream",
     "text": [
      "         x1    x2      x3   x4     x5     x6     x7     x8      x9    x10  \\\n",
      "0  0.000000  0.18  0.0678  0.0  0.315  0.578  0.642  0.269  0.0000  0.208   \n",
      "1  0.000236  0.00  0.2420  0.0  0.173  0.548  0.783  0.349  0.0435  0.105   \n",
      "\n",
      "   ...     x96    x97     x98     x99   x100    x101  x102    x103     x104  \\\n",
      "0  ...  0.0597  0.208  0.0187  0.0825  0.287  0.0258   1.0  0.0897  0.00804   \n",
      "1  ...  0.0581  0.105  0.0215  0.3060  0.553  0.1130   1.0  0.2040  0.04180   \n",
      "\n",
      "      y  \n",
      "0  24.0  \n",
      "1  21.6  \n",
      "\n",
      "[2 rows x 105 columns]\n",
      "(506, 105)\n",
      "<class 'pandas.core.frame.DataFrame'>\n",
      "RangeIndex: 506 entries, 0 to 505\n",
      "Columns: 105 entries, x1 to y\n",
      "dtypes: float64(105)\n",
      "memory usage: 415.2 KB\n",
      "None\n"
     ]
    }
   ],
   "source": [
    "data = pd.read_csv('reg.csv', header=0)\n",
    "print(data.head(2))\n",
    "print(data.shape)\n",
    "print(data.info())"
   ]
  },
  {
   "cell_type": "code",
   "execution_count": 5,
   "metadata": {},
   "outputs": [
    {
     "name": "stdout",
     "output_type": "stream",
     "text": [
      "(506, 104) (506,)\n"
     ]
    }
   ],
   "source": [
    "X = data.iloc[:,:-1]\n",
    "y = data.iloc[:,-1]\n",
    "print(X.shape, y.shape)"
   ]
  },
  {
   "cell_type": "code",
   "execution_count": 6,
   "metadata": {},
   "outputs": [],
   "source": [
    "from sklearn.model_selection import train_test_split\n",
    "X_train, X_test, y_train, y_test = train_test_split(X, y, random_state=0)"
   ]
  },
  {
   "cell_type": "code",
   "execution_count": 7,
   "metadata": {},
   "outputs": [],
   "source": [
    "from sklearn.svm import SVR"
   ]
  },
  {
   "cell_type": "code",
   "execution_count": 31,
   "metadata": {},
   "outputs": [
    {
     "name": "stdout",
     "output_type": "stream",
     "text": [
      "\n",
      "      train data score : 0.9420688752625509\n",
      "      test data score : 0.7969569862459965\n",
      "      \n"
     ]
    }
   ],
   "source": [
    "svr = SVR(C=4500, gamma='auto', kernel='rbf')\n",
    "svr.fit(X_train,y_train)\n",
    "\n",
    "# print(f'prediction : {svr.predict(X_test)}')\n",
    "print(f'''\n",
    "      train data score : {svr.score(X_train, y_train)}\n",
    "      test data score : {svr.score(X_test, y_test)}\n",
    "      ''')"
   ]
  },
  {
   "cell_type": "code",
   "execution_count": null,
   "metadata": {},
   "outputs": [],
   "source": []
  }
 ],
 "metadata": {
  "kernelspec": {
   "display_name": "base",
   "language": "python",
   "name": "python3"
  },
  "language_info": {
   "codemirror_mode": {
    "name": "ipython",
    "version": 3
   },
   "file_extension": ".py",
   "mimetype": "text/x-python",
   "name": "python",
   "nbconvert_exporter": "python",
   "pygments_lexer": "ipython3",
   "version": "3.10.13"
  }
 },
 "nbformat": 4,
 "nbformat_minor": 2
}
