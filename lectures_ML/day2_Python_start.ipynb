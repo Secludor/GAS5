{
 "cells": [
  {
   "cell_type": "code",
   "execution_count": 1,
   "metadata": {},
   "outputs": [
    {
     "name": "stdout",
     "output_type": "stream",
     "text": [
      "2020\n",
      "5\n",
      "안녕하세요.\n"
     ]
    }
   ],
   "source": [
    "print(2020)             # int\n",
    "print(3+2)              # 수식\n",
    "print('안녕하세요.')   # str"
   ]
  },
  {
   "cell_type": "code",
   "execution_count": 2,
   "metadata": {},
   "outputs": [
    {
     "name": "stdout",
     "output_type": "stream",
     "text": [
      "10\n",
      "30\n"
     ]
    }
   ],
   "source": [
    "apple = 10\n",
    "lemon, banana = 20, 50\n",
    "fruit = apple + lemon + banana\n",
    "\n",
    "print(apple)\n",
    "\n",
    "apple = 30\n",
    "\n",
    "print (apple)"
   ]
  },
  {
   "cell_type": "code",
   "execution_count": 8,
   "metadata": {},
   "outputs": [
    {
     "name": "stdout",
     "output_type": "stream",
     "text": [
      "4\n"
     ]
    }
   ],
   "source": [
    "# 주석이 가능한 위치\n",
    "n =3 + \\\n",
    "    \\\n",
    "    4 - \\\n",
    "        3 #주석이 가능한 위치\n",
    "          \n",
    "print(n)"
   ]
  },
  {
   "cell_type": "code",
   "execution_count": 14,
   "metadata": {},
   "outputs": [
    {
     "name": "stdout",
     "output_type": "stream",
     "text": [
      "nononononononon\\|N\\N\\n\n"
     ]
    }
   ],
   "source": [
    "name = input('name?')\n",
    "print(name)"
   ]
  },
  {
   "cell_type": "code",
   "execution_count": 16,
   "metadata": {},
   "outputs": [
    {
     "name": "stdout",
     "output_type": "stream",
     "text": [
      "name?\n",
      "age?\n",
      "sad 121\n"
     ]
    }
   ],
   "source": [
    "print('name?')\n",
    "name = input()\n",
    "print('age?')\n",
    "age = input()\n",
    "print(name,age)"
   ]
  },
  {
   "cell_type": "code",
   "execution_count": 21,
   "metadata": {},
   "outputs": [
    {
     "name": "stdout",
     "output_type": "stream",
     "text": [
      "3.141592653589793\n",
      "1.7724538509055159\n"
     ]
    }
   ],
   "source": [
    "import math\n",
    "\n",
    "print(math.pi)\n",
    "print(math.sqrt(math.pi))"
   ]
  },
  {
   "cell_type": "code",
   "execution_count": 19,
   "metadata": {},
   "outputs": [
    {
     "name": "stdout",
     "output_type": "stream",
     "text": [
      "3.1415926535897927\n"
     ]
    }
   ],
   "source": [
    "print(1.7724538509055159**2)"
   ]
  },
  {
   "cell_type": "code",
   "execution_count": 22,
   "metadata": {},
   "outputs": [
    {
     "name": "stdout",
     "output_type": "stream",
     "text": [
      "['__abs__', '__add__', '__bool__', '__ceil__', '__class__', '__delattr__', '__dir__', '__divmod__', '__doc__', '__eq__', '__float__', '__floor__', '__floordiv__', '__format__', '__ge__', '__getattribute__', '__getformat__', '__getnewargs__', '__gt__', '__hash__', '__init__', '__init_subclass__', '__int__', '__le__', '__lt__', '__mod__', '__mul__', '__ne__', '__neg__', '__new__', '__pos__', '__pow__', '__radd__', '__rdivmod__', '__reduce__', '__reduce_ex__', '__repr__', '__rfloordiv__', '__rmod__', '__rmul__', '__round__', '__rpow__', '__rsub__', '__rtruediv__', '__setattr__', '__setformat__', '__sizeof__', '__str__', '__sub__', '__subclasshook__', '__truediv__', '__trunc__', 'as_integer_ratio', 'conjugate', 'fromhex', 'hex', 'imag', 'is_integer', 'real']\n"
     ]
    }
   ],
   "source": [
    "print(dir(float))"
   ]
  },
  {
   "cell_type": "code",
   "execution_count": 29,
   "metadata": {},
   "outputs": [
    {
     "name": "stdout",
     "output_type": "stream",
     "text": [
      "1.0001\n",
      "1.00020001\n",
      "1.0006001500200012\n",
      "1.002402762025062\n",
      "1.012071681663361\n",
      "1.0746514755694012\n",
      "1.6552876521630013\n",
      "56.36218266254537\n",
      "5739713671217043.0\n",
      "3.8806303791129305e+157\n"
     ]
    }
   ],
   "source": [
    "n = 1.0001\n",
    "for i in range(1,11):\n",
    "    n **=i\n",
    "    print(n)"
   ]
  },
  {
   "cell_type": "code",
   "execution_count": 61,
   "metadata": {},
   "outputs": [
    {
     "name": "stdout",
     "output_type": "stream",
     "text": [
      "8174441013209442250384965122051947477653140974685146757738214546096354730198431312184343583006799498146823135484275167688178713912021199069807177606745579917063902792272396578425391251168892744749455115833569003505412036442032447113808151398683072488988864662913609653045366592527512456158724352755911887449890939755538862044580453288672798405678948990272934040355558529876221845859440197331597361651631176287913184096101291425482768159349655898482519341283312600123150784871828088614733033521959431785345695797070768644023592340397716779474466743925942825382826279204859970150982583529714618113116764164617284817415061906520715000305130170585599077109019488574698035621379927328672707222041503040206336136796279707322591301180678919801558829645417037792167254488749464710054492815773165352783191865690140355572834472401450273813205611607220550435197969792466515690879043501299956350800171521326487487845494445156443974468003309523801634728078446681747276676560082593983814678317702523655561049081247811743540440082824669432323380905764647569429793813414995191226067302546137513360896126769634846810357455934279350127454005997454050515959608398254392658708755873856454484959368188442858339671990490829632648908517109675098228805516474971043693683738666450109371303140330534680192495852951909919586160710641481367738969042430457639590747223796278288621286306868318727401219782986521920201330782472293347031721835346083768065102628916372624723173987556667503356033992694454549023526137435298118308854749365683210404817712404376270038532628882271228024938482504845268029876871197589432106194276502516565839433261855083555487067457547716536623301278935176597726201355120686049099659394068790519654641256270822369026764075078055043271519139456673831402211254109806267020682386912360606738532814180525429882466777486761736306491817828769576728068909037076862446283713305397482309732714284923396981321151115186522459117213562466384417928636811237984054659584147452258779215985195881453008516663083529163684131318880818545860500488498406293670790960178380371025805201856001706179156060244517665667751233822921122654735626284434811525028283303506801287229186272497034605403127833767655957154607808537271438655605623053073938627143231476212856138335905079702274633123611598265644057780431409242079111798468065133298644760263382950594608308377899049634654086432988024531329456631814914773541797008323579849281869770215846224065628601901841342795597805641614514649809546679505558441724773428539410614392561630215764684823329450878764591207475496646831308900105417548657337972414873615723152151897411855023116077417634470917422964161856813659447764470479185681465492629489593336825574850693521011879634796795590528505749394434993248936187882329471850680815332230899498799172175608919595409229468913886012370967550603383469060586919616888570954065500608780687655598958781316606820156688429684355182192193632725349472548378852333475910891960298326792943800954311041840232349689601065218935807570745101494574085723306529161786258748357979120964854568987233455250272976870670305335577779626119435495412973969390355087195584249687724335446043303625939476595366105832665044373743991302323616719669690586910884259563253233789158138866574322446312334352965977919442394362416931596471636533194782565637806861721257496467291532264268677344621045928433917805709602429420729562584323547014700033343626765159142412110619694394752042793205936720325335916301901802417080911712537833330690957741602224262922090402122024330646542071990364859206790502168274499018739767267111534749418573472144891329107409975567314744634484357159007895919368338969144783832427178404105344948802923686349550193939326223068384524574077417896783131636443028391894877985842620665489801759609019034587100655402883195975682198066762341497270233426981451012145018640498187353639783299895468714920133038157004846196766646956556313234678699239566874175856398324964549652619301347220741746905425146306942228443675343883792852969339321038961940360635760887194568262802036781604625921275821819938782911794489391352765208792421126172937857719239047663492713085648837325055711244366219065214607002862040382549471044279473944102837260607918725357461922001765847902854881915641677501435165119539269933034846439490452797230209586283718508245884247391660265823010816\n"
     ]
    }
   ],
   "source": [
    "print(2**14284)"
   ]
  },
  {
   "cell_type": "code",
   "execution_count": 62,
   "metadata": {},
   "outputs": [
    {
     "name": "stdout",
     "output_type": "stream",
     "text": [
      "3.14 <class 'float'>\n",
      "\n",
      "3 <class 'int'>\n"
     ]
    }
   ],
   "source": [
    "pi = 3.14\n",
    "print(pi, type(pi))\n",
    "print()\n",
    "pi = 3\n",
    "print(pi, type(pi))"
   ]
  },
  {
   "cell_type": "code",
   "execution_count": 70,
   "metadata": {},
   "outputs": [
    {
     "name": "stdout",
     "output_type": "stream",
     "text": [
      "0\n",
      "\n",
      "()\n",
      "[]\n",
      "{}\n",
      "set()\n",
      "False False False False False False\n"
     ]
    }
   ],
   "source": [
    "n = int()\n",
    "s = str()\n",
    "t = tuple()\n",
    "l = list()\n",
    "d = dict()\n",
    "g = set()\n",
    "print(n, s, t, l, d, g, sep='\\n')\n",
    "\n",
    "print(\n",
    "    bool(n),\n",
    "    bool(s),\n",
    "    bool(t),\n",
    "    bool(l),\n",
    "    bool(d),\n",
    "    bool(g)\n",
    ")"
   ]
  },
  {
   "cell_type": "code",
   "execution_count": 71,
   "metadata": {},
   "outputs": [
    {
     "name": "stdout",
     "output_type": "stream",
     "text": [
      "\n",
      "      안녕하세요,\n",
      "      연예가중계\n",
      "      --------------------\n",
      "      사랑해용\n",
      "      \n"
     ]
    }
   ],
   "source": [
    "print(f'''\n",
    "      안녕하세요,\n",
    "      연예가중계\n",
    "      {'-'*20}\n",
    "      사랑해용\n",
    "      ''')"
   ]
  },
  {
   "cell_type": "code",
   "execution_count": 74,
   "metadata": {},
   "outputs": [
    {
     "name": "stdout",
     "output_type": "stream",
     "text": [
      "124eqwd\n",
      "asdsadas\n",
      "sadasdasdsa\n",
      "sadasdsad\n",
      "하이\n",
      "하이 <class 'str'>\n"
     ]
    }
   ],
   "source": [
    "'''안\n",
    "녕\n",
    "하\n",
    "세\n",
    "요'''\n",
    "multi_line = '''124eqwd\n",
    "asdsadas\n",
    "sadasdasdsa\n",
    "sadasdsad\n",
    "''' '''하이\n",
    "하이'''\n",
    "\n",
    "print(multi_line, type(multi_line))"
   ]
  },
  {
   "cell_type": "code",
   "execution_count": 75,
   "metadata": {},
   "outputs": [
    {
     "name": "stdout",
     "output_type": "stream",
     "text": [
      "124eqwd\n",
      "asdsadas\n",
      "sadasdasdsa\n",
      "sadasdsad\n",
      " <class 'str'>\n"
     ]
    }
   ],
   "source": [
    "'''안\n",
    "녕\n",
    "하\n",
    "세\n",
    "요'''\n",
    "multi_line = '''124eqwd\n",
    "asdsadas\n",
    "sadasdasdsa\n",
    "sadasdsad\n",
    "''' \n",
    "'''하이\n",
    "하이'''\n",
    "\n",
    "print(multi_line, type(multi_line))"
   ]
  },
  {
   "cell_type": "code",
   "execution_count": 76,
   "metadata": {},
   "outputs": [
    {
     "name": "stdout",
     "output_type": "stream",
     "text": [
      "요세하녕안\n"
     ]
    }
   ],
   "source": [
    "hi = '안녕하세요'\n",
    "\n",
    "print(hi[-1::-1])"
   ]
  },
  {
   "cell_type": "code",
   "execution_count": 77,
   "metadata": {},
   "outputs": [
    {
     "name": "stdout",
     "output_type": "stream",
     "text": [
      "(884279719003555, 281474976710656)\n"
     ]
    }
   ],
   "source": [
    "pi = 3.1415926535897932384626\n",
    "\n",
    "print(pi.as_integer_ratio())"
   ]
  },
  {
   "cell_type": "code",
   "execution_count": 78,
   "metadata": {},
   "outputs": [
    {
     "name": "stdout",
     "output_type": "stream",
     "text": [
      "<method-wrapper '__int__' of float object at 0x000001D502D337B0>\n"
     ]
    }
   ],
   "source": [
    "p = 0.7\n"
   ]
  },
  {
   "cell_type": "code",
   "execution_count": 84,
   "metadata": {},
   "outputs": [
    {
     "name": "stdout",
     "output_type": "stream",
     "text": [
      "HELLO, DOG! True\n"
     ]
    }
   ],
   "source": [
    "my_text = 'Hello, dog!'\n",
    "\n",
    "print(my_text.upper(),my_text.upper().endswith('G',0,-1))"
   ]
  },
  {
   "cell_type": "code",
   "execution_count": 85,
   "metadata": {},
   "outputs": [
    {
     "data": {
      "text/plain": [
       "7"
      ]
     },
     "execution_count": 85,
     "metadata": {},
     "output_type": "execute_result"
    }
   ],
   "source": [
    "my_text.find('d')"
   ]
  },
  {
   "cell_type": "code",
   "execution_count": 87,
   "metadata": {},
   "outputs": [
    {
     "data": {
      "text/plain": [
       "str"
      ]
     },
     "execution_count": 87,
     "metadata": {},
     "output_type": "execute_result"
    }
   ],
   "source": [
    "type(my_text[0])"
   ]
  },
  {
   "cell_type": "code",
   "execution_count": 88,
   "metadata": {},
   "outputs": [],
   "source": [
    "count = [1, 2, 3, 4, 5]\n",
    "cars = ['버스', '트럭', '승용차', '밴']\n",
    "money = [1000, '1 dollar', '2달러', 3000]"
   ]
  },
  {
   "cell_type": "code",
   "execution_count": 89,
   "metadata": {},
   "outputs": [
    {
     "name": "stdout",
     "output_type": "stream",
     "text": [
      "1\n",
      "트럭\n",
      "2달러\n"
     ]
    }
   ],
   "source": [
    "print(count[0])\n",
    "# 리스트 인덱싱\n",
    "print(cars[1])\n",
    "print(money[2])"
   ]
  },
  {
   "cell_type": "code",
   "execution_count": 90,
   "metadata": {},
   "outputs": [
    {
     "name": "stdout",
     "output_type": "stream",
     "text": [
      "[[1, 2, 3, 4, 5], ['버스', '트럭', '승용차', '밴'], [1000, '1 dollar', '2달러', 3000]]\n"
     ]
    }
   ],
   "source": [
    "all = [count, cars, money]\n",
    "print(all)"
   ]
  },
  {
   "cell_type": "code",
   "execution_count": 91,
   "metadata": {},
   "outputs": [
    {
     "data": {
      "text/plain": [
       "[1, 2, 3, 4, 5]"
      ]
     },
     "execution_count": 91,
     "metadata": {},
     "output_type": "execute_result"
    }
   ],
   "source": [
    "all[0]"
   ]
  },
  {
   "cell_type": "code",
   "execution_count": 93,
   "metadata": {},
   "outputs": [
    {
     "name": "stdout",
     "output_type": "stream",
     "text": [
      "[[1000, 2, 3, 4, 5], ['버스', '트럭', '승용차', '밴'], [1000, '1 dollar', '2달러', 3000]]\n"
     ]
    }
   ],
   "source": [
    "all[0][0] = 1000\n",
    "print(all)"
   ]
  },
  {
   "cell_type": "code",
   "execution_count": 94,
   "metadata": {},
   "outputs": [
    {
     "data": {
      "text/plain": [
       "[1000, 2, 3, 4, 5]"
      ]
     },
     "execution_count": 94,
     "metadata": {},
     "output_type": "execute_result"
    }
   ],
   "source": [
    "count"
   ]
  },
  {
   "cell_type": "code",
   "execution_count": 98,
   "metadata": {},
   "outputs": [
    {
     "name": "stdout",
     "output_type": "stream",
     "text": [
      "[[2000, 2, 3, 4, 5], ['버스', '트럭', '승용차', '밴'], [1000, '1 dollar', '2달러', 3000]]\n",
      "[[2000, 2, 3, 4, 5], ['버스', '트럭', '승용차', '밴'], [1000, '1 dollar', '2달러', 3000]]\n"
     ]
    }
   ],
   "source": [
    "all2 = all.copy()\n",
    "all2[0][0] = 2000\n",
    "print(all2,all,sep='\\n')"
   ]
  },
  {
   "cell_type": "code",
   "execution_count": 97,
   "metadata": {},
   "outputs": [
    {
     "name": "stdout",
     "output_type": "stream",
     "text": [
      "['1000', '1 dollar', '2달러', 3000]\n",
      "[1000, '1 dollar', '2달러', 3000]\n"
     ]
    }
   ],
   "source": [
    "money2 = money.copy()\n",
    "money2[0] = '1000'\n",
    "print(money2, money, sep='\\n')"
   ]
  },
  {
   "cell_type": "code",
   "execution_count": 102,
   "metadata": {},
   "outputs": [
    {
     "name": "stdout",
     "output_type": "stream",
     "text": [
      "['체다', '파마산', '까망베르', '리코타', '고르곤', ['콜비', '브리']]\n"
     ]
    }
   ],
   "source": [
    "cheeses = ['체다','파마산','까망베르','리코타','고르곤']\n",
    "cheeses.append(['콜비','브리'])\n",
    "print(cheeses)"
   ]
  },
  {
   "cell_type": "code",
   "execution_count": 103,
   "metadata": {},
   "outputs": [
    {
     "name": "stdout",
     "output_type": "stream",
     "text": [
      "['ㄱ', 'ㄱ', 'ㄲ', 'ㄲ', 'ㄷ', 'ㄷ', 'ㄸ', 'ㄸ', 'ㅋ', 'ㅋ', 'ㅌ', 'ㅌ']\n"
     ]
    }
   ],
   "source": [
    "gada = ['ㄱ','ㄷ','ㄲ','ㄸ','ㅋ','ㅌ','ㅌ','ㅋ','ㄸ','ㄲ','ㄷ','ㄱ']\n",
    "\n",
    "print(sorted(gada))"
   ]
  },
  {
   "cell_type": "code",
   "execution_count": 105,
   "metadata": {},
   "outputs": [
    {
     "name": "stdout",
     "output_type": "stream",
     "text": [
      "['ㄷ', 'ㄲ', 'ㄸ', 'ㅋ', 'ㅌ', 'ㅌ', 'ㅋ', 'ㄸ', 'ㄲ', 'ㄷ', 'ㄱ']\n",
      "['ㄱ', 'ㄷ', 'ㄲ', 'ㄸ', 'ㅋ', 'ㅌ', 'ㅌ', 'ㅋ', 'ㄸ', 'ㄲ', 'ㄷ', 'ㄱ']\n"
     ]
    }
   ],
   "source": [
    "gada2 = gada.copy()\n",
    "gada2.remove('ㄱ')\n",
    "print(gada2, gada, sep='\\n')"
   ]
  },
  {
   "cell_type": "code",
   "execution_count": 106,
   "metadata": {},
   "outputs": [
    {
     "ename": "TypeError",
     "evalue": "'int' object is not subscriptable",
     "output_type": "error",
     "traceback": [
      "\u001b[1;31m---------------------------------------------------------------------------\u001b[0m",
      "\u001b[1;31mTypeError\u001b[0m                                 Traceback (most recent call last)",
      "Cell \u001b[1;32mIn[106], line 1\u001b[0m\n\u001b[1;32m----> 1\u001b[0m \u001b[43mmoney\u001b[49m\u001b[43m[\u001b[49m\u001b[38;5;241;43m0\u001b[39;49m\u001b[43m]\u001b[49m\u001b[43m[\u001b[49m\u001b[38;5;241;43m0\u001b[39;49m\u001b[43m]\u001b[49m\n",
      "\u001b[1;31mTypeError\u001b[0m: 'int' object is not subscriptable"
     ]
    }
   ],
   "source": [
    "money[0][0]"
   ]
  },
  {
   "cell_type": "code",
   "execution_count": 107,
   "metadata": {},
   "outputs": [
    {
     "name": "stdout",
     "output_type": "stream",
     "text": [
      "[1, 2, 2, 3, 3, 4, 5]\n"
     ]
    }
   ],
   "source": [
    "tuple1 = (3,2,5,1,3,2,4,)\n",
    "sorted_t = sorted(tuple1)\n",
    "print(sorted_t)"
   ]
  },
  {
   "cell_type": "code",
   "execution_count": 108,
   "metadata": {},
   "outputs": [
    {
     "data": {
      "text/plain": [
       "{1: 2, 2: 3, 3: 2}"
      ]
     },
     "execution_count": 108,
     "metadata": {},
     "output_type": "execute_result"
    }
   ],
   "source": [
    "dic = {1:2, 2:3, 3:3, 3:2}\n",
    "dic"
   ]
  },
  {
   "cell_type": "code",
   "execution_count": 111,
   "metadata": {},
   "outputs": [
    {
     "name": "stdout",
     "output_type": "stream",
     "text": [
      "{'name': '김영미', 'age': 25, 'job': 'singer'}\n",
      "items: dict_items([('name', '김영미'), ('age', 25), ('job', 'singer')])\n",
      "keys: dict_keys(['name', 'age', 'job'])\n",
      "values: dict_values(['김영미', 25, 'singer'])\n"
     ]
    }
   ],
   "source": [
    "my_dict = {\"name\":\"김영미\", \"age\":25, \"job\":\"singer\"}\n",
    "\n",
    "print(my_dict)\n",
    "print(\"items:\", my_dict.items()) # item\n",
    "print(\"keys:\", my_dict.keys()) # key\n",
    "print(\"values:\", my_dict.values()) # value"
   ]
  },
  {
   "cell_type": "code",
   "execution_count": 115,
   "metadata": {},
   "outputs": [
    {
     "name": "stdout",
     "output_type": "stream",
     "text": [
      "False True\n"
     ]
    }
   ],
   "source": [
    "print('김영미' in my_dict, '김영미' in my_dict.values())"
   ]
  },
  {
   "cell_type": "code",
   "execution_count": null,
   "metadata": {},
   "outputs": [],
   "source": []
  }
 ],
 "metadata": {
  "kernelspec": {
   "display_name": "Python 3",
   "language": "python",
   "name": "python3"
  },
  "language_info": {
   "codemirror_mode": {
    "name": "ipython",
    "version": 3
   },
   "file_extension": ".py",
   "mimetype": "text/x-python",
   "name": "python",
   "nbconvert_exporter": "python",
   "pygments_lexer": "ipython3",
   "version": "3.10.13"
  }
 },
 "nbformat": 4,
 "nbformat_minor": 2
}
