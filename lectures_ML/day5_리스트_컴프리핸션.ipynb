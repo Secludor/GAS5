{
 "cells": [
  {
   "cell_type": "code",
   "execution_count": 4,
   "metadata": {},
   "outputs": [
    {
     "data": {
      "text/plain": [
       "[1, 3]"
      ]
     },
     "execution_count": 4,
     "metadata": {},
     "output_type": "execute_result"
    }
   ],
   "source": [
    "list(range(1,5,2))"
   ]
  },
  {
   "cell_type": "code",
   "execution_count": 6,
   "metadata": {},
   "outputs": [
    {
     "data": {
      "text/plain": [
       "(1.0, 0.5)"
      ]
     },
     "execution_count": 6,
     "metadata": {},
     "output_type": "execute_result"
    }
   ],
   "source": [
    "1.5.__divmod__(1)"
   ]
  },
  {
   "cell_type": "code",
   "execution_count": null,
   "metadata": {},
   "outputs": [],
   "source": [
    "제일농장 = [100, 50, 80]\n",
    "우리농장 = [50, 10, 20]\n",
    "한국농장 = [200, 100, 150]\n",
    "\n",
    "farms = [제일농장, 우리농장, 한국농장]\n",
    "animals = ['닭', '소', '돼지']\n",
    "\n",
    "for f in farms:\n",
    "    print('*'*5,f,'*'*5)\n",
    "    for i in range(len(animals)):\n",
    "        print(f'{animals[i]}, {f[i]} 마리 입니다.')\n",
    "    print()\n",
    "    \n",
    "animals.__len__()"
   ]
  },
  {
   "cell_type": "code",
   "execution_count": 16,
   "metadata": {},
   "outputs": [
    {
     "name": "stdout",
     "output_type": "stream",
     "text": [
      "***** 제일농장 *****\n",
      "닭, 100 마리 입니다.\n",
      "소, 50 마리 입니다.\n",
      "돼지, 80 마리 입니다.\n",
      "\n",
      "***** 우리농장 *****\n",
      "닭, 50 마리 입니다.\n",
      "소, 10 마리 입니다.\n",
      "돼지, 20 마리 입니다.\n",
      "\n",
      "***** 한국농장 *****\n",
      "닭, 200 마리 입니다.\n",
      "소, 100 마리 입니다.\n",
      "돼지, 150 마리 입니다.\n",
      "\n"
     ]
    }
   ],
   "source": [
    "farms = {'제일농장':[100, 50, 80], '우리농장':[50, 10, 20], '한국농장':[200, 100, 150]}\n",
    "animals = ['닭', '소', '돼지']\n",
    "\n",
    "for f in farms:\n",
    "    print('*'*5,f,'*'*5)\n",
    "    for i in range(len(animals)):\n",
    "        print(f'{animals[i]}, {farms[f][i]} 마리 입니다.')\n",
    "    print()"
   ]
  },
  {
   "cell_type": "code",
   "execution_count": 17,
   "metadata": {},
   "outputs": [
    {
     "name": "stdout",
     "output_type": "stream",
     "text": [
      "***** 제일농장 *****\n",
      "닭, 100마리 입니다.\n",
      "소, 50마리 입니다.\n",
      "돼지, 80마리 입니다.\n",
      "\n",
      "***** 우리농장 *****\n",
      "닭, 50마리 입니다.\n",
      "소, 10마리 입니다.\n",
      "돼지, 20마리 입니다.\n",
      "\n",
      "***** 한국농장 *****\n",
      "닭, 200마리 입니다.\n",
      "소, 100마리 입니다.\n",
      "돼지, 150마리 입니다.\n",
      "\n"
     ]
    }
   ],
   "source": [
    "for f in farms:\n",
    "    print(f' {f} '.center(16,'*')) # 요게 맘에 든다.\n",
    "    for i in range(len(animals)):\n",
    "        print(f'{animals[i]}, {farms[f][i]}마리 입니다.')\n",
    "    print()"
   ]
  },
  {
   "cell_type": "code",
   "execution_count": 19,
   "metadata": {},
   "outputs": [
    {
     "name": "stdout",
     "output_type": "stream",
     "text": [
      "0\n",
      "0\n",
      "1\n",
      "1\n",
      "2\n",
      "2\n",
      "3\n",
      "continue\n",
      "4\n",
      "4\n"
     ]
    }
   ],
   "source": [
    "for _ in range(5):\n",
    "    print(_)\n",
    "    if _ ==3:\n",
    "        print('continue')\n",
    "        continue\n",
    "    print(_)"
   ]
  },
  {
   "cell_type": "code",
   "execution_count": 20,
   "metadata": {},
   "outputs": [
    {
     "name": "stdout",
     "output_type": "stream",
     "text": [
      "0\n",
      "0\n",
      "1\n",
      "1\n",
      "2\n",
      "2\n",
      "3\n",
      "pass\n",
      "3\n",
      "4\n",
      "4\n"
     ]
    }
   ],
   "source": [
    "for _ in range(5):\n",
    "    print(_)\n",
    "    if _ ==3:\n",
    "        print('pass')\n",
    "        pass\n",
    "    print(_)"
   ]
  },
  {
   "cell_type": "code",
   "execution_count": 21,
   "metadata": {},
   "outputs": [
    {
     "name": "stdout",
     "output_type": "stream",
     "text": [
      "쇠, 여기 없습니다.\n",
      "달, 여기 없습니다.\n",
      "되, 여기 없습니다.\n",
      "닭, 찾았습니다!\n"
     ]
    }
   ],
   "source": [
    "animals = ['닭', '소', '돼지']\n",
    "\n",
    "while True:\n",
    "    look_for = input('어떤 동물을 찾으시나요?')\n",
    "    if look_for not in animals:\n",
    "        print(f'{look_for}, 여기 없습니다.')\n",
    "        continue\n",
    "    print(f'{look_for}, 찾았습니다!')\n",
    "    break"
   ]
  },
  {
   "cell_type": "code",
   "execution_count": null,
   "metadata": {},
   "outputs": [],
   "source": [
    "animals = ['닭','소','돼지','오리','꿩','노루']\n",
    "\n",
    "input_animal = input('검색하고 싶은 가축의 이름을 입력하세요. : ')\n",
    "for animal in animals:\n",
    "    if input_animal == animal:\n",
    "        print(f'{input_animal}, 있습니다!')\n",
    "        break"
   ]
  },
  {
   "cell_type": "code",
   "execution_count": 27,
   "metadata": {},
   "outputs": [
    {
     "name": "stdout",
     "output_type": "stream",
     "text": [
      "제일농장 - 닭\n",
      "우리농장 - 소\n",
      "한국농장 - 돼지\n",
      "1 - 개\n"
     ]
    }
   ],
   "source": [
    "farms = ['제일농장', '우리농장', '한국농장',1 ,2 ]\n",
    "animals = ['닭', '소', '돼지', '개']\n",
    "\n",
    "for f, a in zip(farms,animals):\n",
    "    print(f'{f} - {a}')"
   ]
  },
  {
   "cell_type": "code",
   "execution_count": 38,
   "metadata": {},
   "outputs": [
    {
     "name": "stdout",
     "output_type": "stream",
     "text": [
      "제일농장 - 닭\n",
      "우리농장 - 소\n",
      "한국농장 - 돼지\n"
     ]
    }
   ],
   "source": [
    "farms = ['제일농장', '우리농장', '한국농장']\n",
    "animals = ['닭', '소', '돼지', '개']\n",
    "\n",
    "print(\"\\n\".join([f'{f} - {i}' for f, i in zip(farms,animals)]))"
   ]
  },
  {
   "cell_type": "code",
   "execution_count": 23,
   "metadata": {},
   "outputs": [
    {
     "name": "stdout",
     "output_type": "stream",
     "text": [
      "월요일에는 사과를 3개 먹습니다.\n",
      "화요일에는 바나나를 6개 먹습니다.\n",
      "수요일에는 포도를 4개 먹습니다.\n"
     ]
    }
   ],
   "source": [
    "days = ['월', '화', '수']\n",
    "fruits = ['사과', '바나나', '포도']\n",
    "quantities = [3, 6, 4]\n",
    "\n",
    "for i in range(len(days)):\n",
    "    print(f'{days[i]}요일에는 {fruits[i]}를 {quantities[i]}개 먹습니다.')"
   ]
  },
  {
   "cell_type": "code",
   "execution_count": 58,
   "metadata": {},
   "outputs": [
    {
     "data": {
      "text/plain": [
       "[10, 30, 50]"
      ]
     },
     "execution_count": 58,
     "metadata": {},
     "output_type": "execute_result"
    }
   ],
   "source": [
    "[i*10 for i in range(7) if i%2]"
   ]
  },
  {
   "cell_type": "code",
   "execution_count": 59,
   "metadata": {},
   "outputs": [
    {
     "data": {
      "text/plain": [
       "[0, 10, 0, 30, 0, 50, 0]"
      ]
     },
     "execution_count": 59,
     "metadata": {},
     "output_type": "execute_result"
    }
   ],
   "source": [
    "[i*10 if i%2 else 0 for i in range(7)]"
   ]
  },
  {
   "cell_type": "code",
   "execution_count": 60,
   "metadata": {},
   "outputs": [
    {
     "data": {
      "text/plain": [
       "[0, 0, 10, 0, 10, 20, 0, 10, 20, 30, 0, 10, 20, 30, 40, 0, 10, 20, 30, 40, 50]"
      ]
     },
     "execution_count": 60,
     "metadata": {},
     "output_type": "execute_result"
    }
   ],
   "source": [
    "[j*10 for i in range(7) for j in range(i)]"
   ]
  },
  {
   "cell_type": "code",
   "execution_count": 61,
   "metadata": {},
   "outputs": [
    {
     "data": {
      "text/plain": [
       "[10, 10, 10, 30, 10, 30, 10, 30, 50]"
      ]
     },
     "execution_count": 61,
     "metadata": {},
     "output_type": "execute_result"
    }
   ],
   "source": [
    "[j*10 for i in range(7) for j in range(i) if j%2]"
   ]
  },
  {
   "cell_type": "code",
   "execution_count": 62,
   "metadata": {},
   "outputs": [
    {
     "data": {
      "text/plain": [
       "[0, 0, 10, 0, 10, 0, 0, 10, 0, 30, 0, 10, 0, 30, 0, 0, 10, 0, 30, 0, 50]"
      ]
     },
     "execution_count": 62,
     "metadata": {},
     "output_type": "execute_result"
    }
   ],
   "source": [
    "[j*10 if j%2 else 0 for i in range(7) for j in range(i)]"
   ]
  },
  {
   "cell_type": "code",
   "execution_count": 64,
   "metadata": {},
   "outputs": [
    {
     "name": "stdout",
     "output_type": "stream",
     "text": [
      "['Keily', 'Michael']\n"
     ]
    }
   ],
   "source": [
    "names = ['John', 'Keily', 'Michael']\n",
    "print([name for name in names if len(name)>4])"
   ]
  },
  {
   "cell_type": "code",
   "execution_count": 66,
   "metadata": {},
   "outputs": [
    {
     "name": "stdout",
     "output_type": "stream",
     "text": [
      "당신이 입력한 값은 3, 5입니다.\n",
      "두 값의 합은 8입니다.\n"
     ]
    }
   ],
   "source": [
    "def cal_two(n1,n2):\n",
    "    result = n1 + n2\n",
    "    print(\"당신이 입력한 값은 {}, {}입니다.\".format(n1, n2))\n",
    "    print(\"두 값의 합은 {}입니다.\".format(result))\n",
    "\n",
    "cal_two(3, 5)"
   ]
  },
  {
   "cell_type": "code",
   "execution_count": 69,
   "metadata": {},
   "outputs": [
    {
     "ename": "SyntaxError",
     "evalue": "non-default argument follows default argument (1705073809.py, line 1)",
     "output_type": "error",
     "traceback": [
      "\u001b[1;36m  Cell \u001b[1;32mIn[69], line 1\u001b[1;36m\u001b[0m\n\u001b[1;33m    def report(message, who=\"Everyone\",asd):\u001b[0m\n\u001b[1;37m                                       ^\u001b[0m\n\u001b[1;31mSyntaxError\u001b[0m\u001b[1;31m:\u001b[0m non-default argument follows default argument\n"
     ]
    }
   ],
   "source": [
    "def report(message, who=\"Everyone\",asd):\n",
    "    print(message, who)\n",
    "report(\"Good Morning\")\n",
    "report(\"Good Morning\", \"Mr. Choi\")"
   ]
  },
  {
   "cell_type": "code",
   "execution_count": 77,
   "metadata": {},
   "outputs": [
    {
     "data": {
      "text/plain": [
       "[('월', '사과', 3), ('화', '바나나', 6), ('수', '포도', 4)]"
      ]
     },
     "execution_count": 77,
     "metadata": {},
     "output_type": "execute_result"
    }
   ],
   "source": [
    "d_2=(('월', '화', '수'),('사과', '바나나', '포도'),(3, 6, 4))\n",
    "\n",
    "list(zip(*d_2))\n"
   ]
  },
  {
   "cell_type": "code",
   "execution_count": null,
   "metadata": {},
   "outputs": [],
   "source": []
  }
 ],
 "metadata": {
  "kernelspec": {
   "display_name": "Python 3",
   "language": "python",
   "name": "python3"
  },
  "language_info": {
   "codemirror_mode": {
    "name": "ipython",
    "version": 3
   },
   "file_extension": ".py",
   "mimetype": "text/x-python",
   "name": "python",
   "nbconvert_exporter": "python",
   "pygments_lexer": "ipython3",
   "version": "3.10.13"
  }
 },
 "nbformat": 4,
 "nbformat_minor": 2
}
