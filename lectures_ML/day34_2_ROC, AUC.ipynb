{
 "cells": [
  {
   "cell_type": "code",
   "execution_count": 1,
   "metadata": {},
   "outputs": [],
   "source": [
    "import pandas as pd\n",
    "import os\n",
    "\n",
    "path = r'D:\\elice_python\\GAS_5\\pytest_machine'\n",
    "os.chdir(path)"
   ]
  },
  {
   "cell_type": "code",
   "execution_count": 9,
   "metadata": {},
   "outputs": [
    {
     "name": "stdout",
     "output_type": "stream",
     "text": [
      "(569, 31)\n"
     ]
    }
   ],
   "source": [
    "data = pd.read_csv('cancer.csv')\n",
    "print(data.shape)\n",
    "# print(data.info())"
   ]
  },
  {
   "cell_type": "code",
   "execution_count": 3,
   "metadata": {},
   "outputs": [],
   "source": [
    "X = data.iloc[:,:-1]\n",
    "y = data.iloc[:,-1]"
   ]
  },
  {
   "cell_type": "code",
   "execution_count": 6,
   "metadata": {},
   "outputs": [],
   "source": [
    "from sklearn.model_selection import train_test_split\n",
    "X_train, X_test, y_train, y_test = train_test_split(X,y,stratify=y,random_state=42)"
   ]
  },
  {
   "cell_type": "code",
   "execution_count": 7,
   "metadata": {},
   "outputs": [
    {
     "name": "stdout",
     "output_type": "stream",
     "text": [
      "test accuracy :  0.958041958041958\n"
     ]
    }
   ],
   "source": [
    "from sklearn.linear_model import LogisticRegression\n",
    "logreg = LogisticRegression(solver='liblinear')\n",
    "logreg.fit(X_train, y_train)\n",
    "prediction = logreg.predict(X_test)\n",
    "\n",
    "#일반적인 평가\n",
    "print('test accuracy : ', logreg.score(X_test,y_test))"
   ]
  },
  {
   "cell_type": "code",
   "execution_count": 8,
   "metadata": {},
   "outputs": [
    {
     "name": "stdout",
     "output_type": "stream",
     "text": [
      "ROC AUC score :  0.9472746331236898\n"
     ]
    }
   ],
   "source": [
    "from sklearn.metrics import roc_auc_score\n",
    "roc_auc = roc_auc_score(y_test, prediction)\n",
    "print('ROC AUC score : ', roc_auc)"
   ]
  },
  {
   "cell_type": "markdown",
   "metadata": {},
   "source": [
    "#### ROC 커브 그리기"
   ]
  },
  {
   "cell_type": "code",
   "execution_count": 10,
   "metadata": {},
   "outputs": [
    {
     "data": {
      "text/plain": [
       "array([[1.90451227e-02, 9.80954877e-01],\n",
       "       [9.99012089e-01, 9.87911270e-04],\n",
       "       [1.13207378e-01, 8.86792622e-01],\n",
       "       [1.30467967e-01, 8.69532033e-01],\n",
       "       [1.40854731e-01, 8.59145269e-01],\n",
       "       [9.99999952e-01, 4.75026598e-08],\n",
       "       [8.90913985e-01, 1.09086015e-01],\n",
       "       [9.99993645e-01, 6.35511635e-06],\n",
       "       [9.83609541e-01, 1.63904586e-02],\n",
       "       [5.51174138e-03, 9.94488259e-01]])"
      ]
     },
     "execution_count": 10,
     "metadata": {},
     "output_type": "execute_result"
    }
   ],
   "source": [
    "logreg.predict_proba(X_test)[:10]"
   ]
  },
  {
   "cell_type": "code",
   "execution_count": 12,
   "metadata": {},
   "outputs": [],
   "source": [
    "# 1이 될 확률만을 구한다.(기준값)\n",
    "proba = logreg.predict_proba(X_test)[:,1]"
   ]
  },
  {
   "cell_type": "markdown",
   "metadata": {},
   "source": [
    "predict_proba 메서드는 대부분의 모델에서 사용할 수 있지만,\n",
    "- DecisionTree의 경우 확률값이 아닌 단순히 0,1로 된 결정값을 준다. \n",
    "  (확률 정보를 구할 수 없다)\n",
    "- SVC의 경우 probability=True 로 하면 확률값을 얻을 수 있으나,\n",
    "  모델의 속도가 느려지고 확률값의 내용이 정확하지 않을 수 있다.\n",
    "  - SVR 등 회귀분석의 경우에는 적용 가능하다."
   ]
  },
  {
   "cell_type": "markdown",
   "metadata": {},
   "source": [
    "##### FP, TP Rate\n",
    "- roc_curve()를 통하여 FP rate와 TP rate를 구한다.\n",
    "    - roc_curve 메서드는 FPR, TPR, 그리고 기준값 thresholds를 출력한다."
   ]
  },
  {
   "cell_type": "code",
   "execution_count": 13,
   "metadata": {},
   "outputs": [
    {
     "name": "stdout",
     "output_type": "stream",
     "text": [
      "\n",
      "      FP rate :\n",
      "      [0.         0.         0.         0.01886792 0.01886792 0.03773585\n",
      " 0.03773585 0.05660377 0.05660377 0.09433962 0.09433962 0.11320755\n",
      " 0.11320755 1.        ]\n",
      "      \n",
      "      TP rate :\n",
      "      [0.         0.01111111 0.91111111 0.91111111 0.95555556 0.95555556\n",
      " 0.96666667 0.96666667 0.97777778 0.97777778 0.98888889 0.98888889\n",
      " 1.         1.        ]\n",
      "      \n",
      "      thresholds : \n",
      "      [           inf 9.99923744e-01 8.69532033e-01 8.59145269e-01\n",
      " 8.10861986e-01 7.83901879e-01 7.26167710e-01 7.21390666e-01\n",
      " 6.84714970e-01 5.94708933e-01 5.10860484e-01 4.33408263e-01\n",
      " 3.36640973e-01 1.22756174e-47]\n",
      "      \n"
     ]
    }
   ],
   "source": [
    "from sklearn.metrics import roc_curve\n",
    "fpr, tpr, thr = roc_curve(y_test, proba)\n",
    "\n",
    "print(f'''\n",
    "      FP rate :\n",
    "      {fpr}\n",
    "      \n",
    "      TP rate :\n",
    "      {tpr}\n",
    "      \n",
    "      thresholds : \n",
    "      {thr}\n",
    "      ''')"
   ]
  },
  {
   "cell_type": "markdown",
   "metadata": {},
   "source": [
    "##### ROC 커브\n",
    "- FPR과 TPR을 이용하여 그래프를 그린다."
   ]
  },
  {
   "cell_type": "code",
   "execution_count": 14,
   "metadata": {},
   "outputs": [
    {
     "data": {
      "image/png": "[encoded data removed]",
      "text/plain": [
       "<Figure size 640x480 with 1 Axes>"
      ]
     },
     "metadata": {},
     "output_type": "display_data"
    }
   ],
   "source": [
    "import matplotlib.pyplot as plt\n",
    "plt.plot(fpr, tpr)\n",
    "plt.xlabel('False Positive Rate')\n",
    "plt.ylabel('True Positive Rate')\n",
    "plt.show()"
   ]
  },
  {
   "cell_type": "code",
   "execution_count": null,
   "metadata": {},
   "outputs": [],
   "source": []
  }
 ],
 "metadata": {
  "kernelspec": {
   "display_name": "base",
   "language": "python",
   "name": "python3"
  },
  "language_info": {
   "codemirror_mode": {
    "name": "ipython",
    "version": 3
   },
   "file_extension": ".py",
   "mimetype": "text/x-python",
   "name": "python",
   "nbconvert_exporter": "python",
   "pygments_lexer": "ipython3",
   "version": "3.10.13"
  }
 },
 "nbformat": 4,
 "nbformat_minor": 2
}
