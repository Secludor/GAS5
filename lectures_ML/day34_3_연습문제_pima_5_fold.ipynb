{
 "cells": [
  {
   "cell_type": "markdown",
   "metadata": {},
   "source": [
    "### 연습문제 1\n",
    "\n",
    "Pima 인디언 당뇨 분석 데이터에 대하여\n",
    "- 5–fold 교차 검증을 수행하시오\n",
    "- 모델은 자유롭게 2가지를 선택하고,\n",
    "- 데이터 스케일링을 하시오"
   ]
  },
  {
   "cell_type": "code",
   "execution_count": 7,
   "metadata": {},
   "outputs": [],
   "source": [
    "import pandas as pd\n",
    "import os\n",
    "\n",
    "path = r'D:\\elice_python\\GAS_5\\pytest_machine'\n",
    "os.chdir(path)"
   ]
  },
  {
   "cell_type": "code",
   "execution_count": 8,
   "metadata": {},
   "outputs": [],
   "source": [
    "data = pd.read_csv('pima-indians-diabetes.csv')"
   ]
  },
  {
   "cell_type": "code",
   "execution_count": 9,
   "metadata": {},
   "outputs": [
    {
     "name": "stdout",
     "output_type": "stream",
     "text": [
      "   pregnant  plasma  pressure  thickness  insulin   bmi  pedigree  age  \\\n",
      "0         6     148        72         35        0  33.6     0.627   50   \n",
      "1         1      85        66         29        0  26.6     0.351   31   \n",
      "2         8     183        64          0        0  23.3     0.672   32   \n",
      "3         1      89        66         23       94  28.1     0.167   21   \n",
      "4         0     137        40         35      168  43.1     2.288   33   \n",
      "\n",
      "   diabetes  \n",
      "0         1  \n",
      "1         0  \n",
      "2         1  \n",
      "3         0  \n",
      "4         1  \n",
      "(768, 9)\n",
      "<class 'pandas.core.frame.DataFrame'>\n",
      "RangeIndex: 768 entries, 0 to 767\n",
      "Data columns (total 9 columns):\n",
      " #   Column     Non-Null Count  Dtype  \n",
      "---  ------     --------------  -----  \n",
      " 0   pregnant   768 non-null    int64  \n",
      " 1   plasma     768 non-null    int64  \n",
      " 2   pressure   768 non-null    int64  \n",
      " 3   thickness  768 non-null    int64  \n",
      " 4   insulin    768 non-null    int64  \n",
      " 5   bmi        768 non-null    float64\n",
      " 6   pedigree   768 non-null    float64\n",
      " 7   age        768 non-null    int64  \n",
      " 8   diabetes   768 non-null    int64  \n",
      "dtypes: float64(2), int64(7)\n",
      "memory usage: 54.1 KB\n",
      "None\n"
     ]
    }
   ],
   "source": [
    "print(data.head())\n",
    "print(data.shape)\n",
    "print(data.info())"
   ]
  },
  {
   "cell_type": "code",
   "execution_count": 10,
   "metadata": {},
   "outputs": [
    {
     "name": "stdout",
     "output_type": "stream",
     "text": [
      "(768, 8) (768,)\n"
     ]
    }
   ],
   "source": [
    "X = data.iloc[:,:-1]\n",
    "y = data.iloc[:,-1]\n",
    "\n",
    "print(X.shape, y.shape)"
   ]
  },
  {
   "cell_type": "code",
   "execution_count": 11,
   "metadata": {},
   "outputs": [],
   "source": [
    "from sklearn.model_selection import StratifiedKFold, train_test_split, cross_val_score\n",
    "X_train, X_test, y_train, y_test = train_test_split(X,y, stratify= y, random_state=42)\n",
    "skf = StratifiedKFold(n_splits=5, shuffle=True)"
   ]
  },
  {
   "cell_type": "code",
   "execution_count": 12,
   "metadata": {},
   "outputs": [],
   "source": [
    "from sklearn.preprocessing import MinMaxScaler, StandardScaler\n",
    "mms = MinMaxScaler()\n",
    "X_train_mms = mms.fit_transform(X_train)\n",
    "X_test_mms = mms.transform(X_test)"
   ]
  },
  {
   "cell_type": "code",
   "execution_count": 23,
   "metadata": {},
   "outputs": [],
   "source": [
    "from sklearn.linear_model import LogisticRegression\n",
    "from sklearn.svm import SVC\n",
    "logreg = LogisticRegression(solver='saga', penalty='elasticnet', C=5.0, l1_ratio=0.1, max_iter=10000)\n",
    "svc = SVC(kernel='rbf', C=5.0, gamma=0.2)"
   ]
  },
  {
   "cell_type": "code",
   "execution_count": 24,
   "metadata": {},
   "outputs": [
    {
     "name": "stdout",
     "output_type": "stream",
     "text": [
      "[0.64935065 0.64935065 0.64935065 0.65359477 0.65359477] \n",
      " 0.6510482981071216\n"
     ]
    }
   ],
   "source": [
    "score_svc_mms = cross_val_score(svc, X, y, cv=skf)\n",
    "print(score_svc_mms,'\\n', score_svc_mms.mean())"
   ]
  },
  {
   "cell_type": "code",
   "execution_count": 25,
   "metadata": {},
   "outputs": [
    {
     "name": "stdout",
     "output_type": "stream",
     "text": [
      "[0.70779221 0.72727273 0.63636364 0.65359477 0.76470588] \n",
      " 0.6979458450046685\n"
     ]
    }
   ],
   "source": [
    "score_logleg_mms = cross_val_score(logreg, X, y, cv=skf)\n",
    "print(score_logleg_mms,'\\n', score_logleg_mms.mean())"
   ]
  },
  {
   "cell_type": "markdown",
   "metadata": {},
   "source": [
    "### 연습문제 2\n",
    "- 위에서 선택한 모델들로 GridSearchCV를 수행하시오\n",
    "- 사이킷런 공식 문서를 보고 적용할 수 있는 파라미터를 찾으시오\n",
    "- 찾은 최적의 값과 스케일된 데이터로 다시 모델을 만들어\n",
    "- 테스트 데이터 정확도를 각각 산출하시오\n",
    "- 또한, .predict()를 이용하여 테스트 데이터에 대한 예측 결과를 도출하시오"
   ]
  },
  {
   "cell_type": "code",
   "execution_count": 17,
   "metadata": {},
   "outputs": [],
   "source": [
    "from sklearn.model_selection import GridSearchCV\n",
    "import numpy as np\n",
    "arange = np.concatenate((\n",
    "    np.arange(0.001, 0.01, 0.001),\n",
    "    np.arange(0.01, 0.1, 0.01),\n",
    "    np.arange(0.1, 1, 0.1),\n",
    "    np.arange(1, 10, 1),\n",
    "    np.arange(10, 100, 10)\n",
    "))"
   ]
  },
  {
   "cell_type": "code",
   "execution_count": 19,
   "metadata": {},
   "outputs": [
    {
     "name": "stdout",
     "output_type": "stream",
     "text": [
      "0.79167916041979\n",
      "{'C': 20.0, 'gamma': 0.060000000000000005, 'random_state': 42}\n"
     ]
    }
   ],
   "source": [
    "param_grid_svc = {'C':arange,\n",
    "                  'gamma':arange,\n",
    "                  'random_state':[42]}\n",
    "\n",
    "gsvc = GridSearchCV(SVC(), param_grid=param_grid_svc, cv = 5)\n",
    "gsvc.fit(X_train_mms,y_train)\n",
    "\n",
    "print(gsvc.best_score_)\n",
    "print(gsvc.best_params_)"
   ]
  },
  {
   "cell_type": "code",
   "execution_count": 29,
   "metadata": {},
   "outputs": [
    {
     "name": "stdout",
     "output_type": "stream",
     "text": [
      "0.7916941529235382\n",
      "{'C': 6.0, 'l1_ratio': 0.0, 'max_iter': 10000, 'penalty': 'elasticnet', 'solver': 'saga'}\n"
     ]
    }
   ],
   "source": [
    "param_grid_logleg = {\n",
    "    'l1_ratio': np.arange(0.0,1,0.05),\n",
    "    'C': arange,\n",
    "    'solver' : ['saga'],\n",
    "    'penalty':['elasticnet'],\n",
    "    'max_iter':[10000]\n",
    "}\n",
    "\n",
    "glogreg = GridSearchCV(LogisticRegression(), param_grid=param_grid_logleg, cv = 5)\n",
    "glogreg.fit(X_train_mms,y_train)\n",
    "\n",
    "print(glogreg.best_score_)\n",
    "print(glogreg.best_params_)"
   ]
  },
  {
   "cell_type": "markdown",
   "metadata": {},
   "source": [
    "### 연습문제 3\n",
    "앞의 결과를 바탕으로\n",
    "- 두 모델 각각에 대하여 혼동행렬(오차행렬)을 구하시오\n",
    "- 또한, Precision, Recall, F1 score를 구하시오"
   ]
  },
  {
   "cell_type": "code",
   "execution_count": 31,
   "metadata": {},
   "outputs": [],
   "source": [
    "from sklearn.metrics import confusion_matrix, precision_score, recall_score, f1_score\n",
    "prediction_gsvc= gsvc.predict(X_test_mms)\n",
    "prediction_glogleg = glogreg.predict(X_test_mms)"
   ]
  },
  {
   "cell_type": "code",
   "execution_count": 40,
   "metadata": {},
   "outputs": [],
   "source": [
    "def cprf(y_true, y_pred):\n",
    "    confusion = confusion_matrix(y_true, y_pred,)\n",
    "    precision = precision_score(y_true, y_pred)\n",
    "    recall = recall_score(y_true, y_pred)\n",
    "    f1 = f1_score(y_true, y_pred)\n",
    "    print(' confusion_matrix : \\n', confusion)\n",
    "    print(' precision : ', precision)\n",
    "    print(' recall : ', recall)\n",
    "    print(' f1 score : ', f1)\n",
    "    print()"
   ]
  },
  {
   "cell_type": "code",
   "execution_count": 41,
   "metadata": {},
   "outputs": [
    {
     "name": "stdout",
     "output_type": "stream",
     "text": [
      " confusion_matrix : \n",
      " [[108  17]\n",
      " [ 35  32]]\n",
      " precision :  0.6530612244897959\n",
      " recall :  0.47761194029850745\n",
      " f1 score :  0.5517241379310345\n",
      "\n"
     ]
    }
   ],
   "source": [
    "cprf(y_test, prediction_gsvc)"
   ]
  },
  {
   "cell_type": "code",
   "execution_count": 42,
   "metadata": {},
   "outputs": [
    {
     "name": "stdout",
     "output_type": "stream",
     "text": [
      " confusion_matrix : \n",
      " [[107  18]\n",
      " [ 33  34]]\n",
      " precision :  0.6538461538461539\n",
      " recall :  0.5074626865671642\n",
      " f1 score :  0.5714285714285714\n",
      "\n"
     ]
    }
   ],
   "source": [
    "cprf(y_test, prediction_glogleg)"
   ]
  },
  {
   "cell_type": "markdown",
   "metadata": {},
   "source": [
    "### 연습문제 4\n",
    "- 앞에서 만든 모델로 ROC AUC score를 구하시오\n",
    "- 0과 1의 확률이 나오는 모델을 대상으로 ROC 커브를 그리시오"
   ]
  },
  {
   "cell_type": "code",
   "execution_count": null,
   "metadata": {},
   "outputs": [],
   "source": []
  }
 ],
 "metadata": {
  "kernelspec": {
   "display_name": "base",
   "language": "python",
   "name": "python3"
  },
  "language_info": {
   "codemirror_mode": {
    "name": "ipython",
    "version": 3
   },
   "file_extension": ".py",
   "mimetype": "text/x-python",
   "name": "python",
   "nbconvert_exporter": "python",
   "pygments_lexer": "ipython3",
   "version": "3.10.13"
  }
 },
 "nbformat": 4,
 "nbformat_minor": 2
}
