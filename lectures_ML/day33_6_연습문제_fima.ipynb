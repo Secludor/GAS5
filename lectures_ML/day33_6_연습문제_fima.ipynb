{
 "cells": [
  {
   "cell_type": "code",
   "execution_count": 1,
   "metadata": {},
   "outputs": [],
   "source": [
    "import pandas as pd\n",
    "import os\n",
    "\n",
    "path = r'D:\\elice_python\\GAS_5\\pytest_machine'\n",
    "os.chdir(path)"
   ]
  },
  {
   "cell_type": "code",
   "execution_count": 2,
   "metadata": {},
   "outputs": [],
   "source": [
    "data = pd.read_csv('pima-indians-diabetes.csv')"
   ]
  },
  {
   "cell_type": "code",
   "execution_count": 3,
   "metadata": {},
   "outputs": [
    {
     "data": {
      "text/html": [
       "<div>\n",
       "<style scoped>\n",
       "    .dataframe tbody tr th:only-of-type {\n",
       "        vertical-align: middle;\n",
       "    }\n",
       "\n",
       "    .dataframe tbody tr th {\n",
       "        vertical-align: top;\n",
       "    }\n",
       "\n",
       "    .dataframe thead th {\n",
       "        text-align: right;\n",
       "    }\n",
       "</style>\n",
       "<table border=\"1\" class=\"dataframe\">\n",
       "  <thead>\n",
       "    <tr style=\"text-align: right;\">\n",
       "      <th></th>\n",
       "      <th>pregnant</th>\n",
       "      <th>plasma</th>\n",
       "      <th>pressure</th>\n",
       "      <th>thickness</th>\n",
       "      <th>insulin</th>\n",
       "      <th>bmi</th>\n",
       "      <th>pedigree</th>\n",
       "      <th>age</th>\n",
       "      <th>diabetes</th>\n",
       "    </tr>\n",
       "  </thead>\n",
       "  <tbody>\n",
       "    <tr>\n",
       "      <th>0</th>\n",
       "      <td>6</td>\n",
       "      <td>148</td>\n",
       "      <td>72</td>\n",
       "      <td>35</td>\n",
       "      <td>0</td>\n",
       "      <td>33.6</td>\n",
       "      <td>0.627</td>\n",
       "      <td>50</td>\n",
       "      <td>1</td>\n",
       "    </tr>\n",
       "    <tr>\n",
       "      <th>1</th>\n",
       "      <td>1</td>\n",
       "      <td>85</td>\n",
       "      <td>66</td>\n",
       "      <td>29</td>\n",
       "      <td>0</td>\n",
       "      <td>26.6</td>\n",
       "      <td>0.351</td>\n",
       "      <td>31</td>\n",
       "      <td>0</td>\n",
       "    </tr>\n",
       "    <tr>\n",
       "      <th>2</th>\n",
       "      <td>8</td>\n",
       "      <td>183</td>\n",
       "      <td>64</td>\n",
       "      <td>0</td>\n",
       "      <td>0</td>\n",
       "      <td>23.3</td>\n",
       "      <td>0.672</td>\n",
       "      <td>32</td>\n",
       "      <td>1</td>\n",
       "    </tr>\n",
       "    <tr>\n",
       "      <th>3</th>\n",
       "      <td>1</td>\n",
       "      <td>89</td>\n",
       "      <td>66</td>\n",
       "      <td>23</td>\n",
       "      <td>94</td>\n",
       "      <td>28.1</td>\n",
       "      <td>0.167</td>\n",
       "      <td>21</td>\n",
       "      <td>0</td>\n",
       "    </tr>\n",
       "    <tr>\n",
       "      <th>4</th>\n",
       "      <td>0</td>\n",
       "      <td>137</td>\n",
       "      <td>40</td>\n",
       "      <td>35</td>\n",
       "      <td>168</td>\n",
       "      <td>43.1</td>\n",
       "      <td>2.288</td>\n",
       "      <td>33</td>\n",
       "      <td>1</td>\n",
       "    </tr>\n",
       "  </tbody>\n",
       "</table>\n",
       "</div>"
      ],
      "text/plain": [
       "   pregnant  plasma  pressure  thickness  insulin   bmi  pedigree  age  \\\n",
       "0         6     148        72         35        0  33.6     0.627   50   \n",
       "1         1      85        66         29        0  26.6     0.351   31   \n",
       "2         8     183        64          0        0  23.3     0.672   32   \n",
       "3         1      89        66         23       94  28.1     0.167   21   \n",
       "4         0     137        40         35      168  43.1     2.288   33   \n",
       "\n",
       "   diabetes  \n",
       "0         1  \n",
       "1         0  \n",
       "2         1  \n",
       "3         0  \n",
       "4         1  "
      ]
     },
     "execution_count": 3,
     "metadata": {},
     "output_type": "execute_result"
    }
   ],
   "source": [
    "data.head()"
   ]
  },
  {
   "cell_type": "code",
   "execution_count": 4,
   "metadata": {},
   "outputs": [
    {
     "name": "stdout",
     "output_type": "stream",
     "text": [
      "<class 'pandas.core.frame.DataFrame'>\n",
      "RangeIndex: 768 entries, 0 to 767\n",
      "Data columns (total 9 columns):\n",
      " #   Column     Non-Null Count  Dtype  \n",
      "---  ------     --------------  -----  \n",
      " 0   pregnant   768 non-null    int64  \n",
      " 1   plasma     768 non-null    int64  \n",
      " 2   pressure   768 non-null    int64  \n",
      " 3   thickness  768 non-null    int64  \n",
      " 4   insulin    768 non-null    int64  \n",
      " 5   bmi        768 non-null    float64\n",
      " 6   pedigree   768 non-null    float64\n",
      " 7   age        768 non-null    int64  \n",
      " 8   diabetes   768 non-null    int64  \n",
      "dtypes: float64(2), int64(7)\n",
      "memory usage: 54.1 KB\n"
     ]
    }
   ],
   "source": [
    "data.info()"
   ]
  },
  {
   "cell_type": "code",
   "execution_count": 5,
   "metadata": {},
   "outputs": [
    {
     "data": {
      "text/plain": [
       "(768, 9)"
      ]
     },
     "execution_count": 5,
     "metadata": {},
     "output_type": "execute_result"
    }
   ],
   "source": [
    "data.shape"
   ]
  },
  {
   "cell_type": "code",
   "execution_count": 8,
   "metadata": {},
   "outputs": [],
   "source": [
    "from sklearn.model_selection import train_test_split\n"
   ]
  },
  {
   "cell_type": "code",
   "execution_count": 9,
   "metadata": {},
   "outputs": [
    {
     "name": "stdout",
     "output_type": "stream",
     "text": [
      "(768, 8) (768,)\n"
     ]
    }
   ],
   "source": [
    "X = data.iloc[:,:-1]\n",
    "y = data.iloc[:,-1]\n",
    "\n",
    "print(X.shape, y.shape)"
   ]
  },
  {
   "cell_type": "code",
   "execution_count": 10,
   "metadata": {},
   "outputs": [
    {
     "name": "stdout",
     "output_type": "stream",
     "text": [
      "           pregnant  plasma  pressure  thickness  insulin   bmi  pedigree  \\\n",
      "pregnant       1.00    0.13      0.14      -0.08    -0.07  0.02     -0.03   \n",
      "plasma         0.13    1.00      0.15       0.06     0.33  0.22      0.14   \n",
      "pressure       0.14    0.15      1.00       0.21     0.09  0.28      0.04   \n",
      "thickness     -0.08    0.06      0.21       1.00     0.44  0.39      0.18   \n",
      "insulin       -0.07    0.33      0.09       0.44     1.00  0.20      0.19   \n",
      "bmi            0.02    0.22      0.28       0.39     0.20  1.00      0.14   \n",
      "pedigree      -0.03    0.14      0.04       0.18     0.19  0.14      1.00   \n",
      "age            0.54    0.26      0.24      -0.11    -0.04  0.04      0.03   \n",
      "diabetes       0.22    0.47      0.07       0.07     0.13  0.29      0.17   \n",
      "\n",
      "            age  diabetes  \n",
      "pregnant   0.54      0.22  \n",
      "plasma     0.26      0.47  \n",
      "pressure   0.24      0.07  \n",
      "thickness -0.11      0.07  \n",
      "insulin   -0.04      0.13  \n",
      "bmi        0.04      0.29  \n",
      "pedigree   0.03      0.17  \n",
      "age        1.00      0.24  \n",
      "diabetes   0.24      1.00  \n"
     ]
    }
   ],
   "source": [
    "correlation_matrix = data.corr().round(2)\n",
    "print(correlation_matrix)"
   ]
  },
  {
   "cell_type": "code",
   "execution_count": 18,
   "metadata": {},
   "outputs": [
    {
     "data": {
      "image/png": "[encoded data removed]",
      "text/plain": [
       "<Figure size 1200x800 with 2 Axes>"
      ]
     },
     "metadata": {},
     "output_type": "display_data"
    }
   ],
   "source": [
    "import matplotlib.pyplot as plt\n",
    "import seaborn as sns\n",
    "plt.figure(figsize=(12, 8))\n",
    "sns.heatmap(data=correlation_matrix, annot=True, cmap='coolwarm')\n",
    "plt.show()"
   ]
  },
  {
   "cell_type": "code",
   "execution_count": 23,
   "metadata": {},
   "outputs": [
    {
     "name": "stderr",
     "output_type": "stream",
     "text": [
      "C:\\Users\\Caelu\\AppData\\Local\\Temp\\ipykernel_18492\\2967314755.py:2: FutureWarning: DataFrame.applymap has been deprecated. Use DataFrame.map instead.\n",
      "  filtered_corr_matrix = correlation_matrix.applymap(lambda x: x if abs(x) >= 0.0 and abs(x)!=1 else 0)\n",
      "c:\\Users\\Caelu\\anaconda3\\lib\\site-packages\\seaborn\\matrix.py:260: FutureWarning: Format strings passed to MaskedConstant are ignored, but in future may error or produce different behavior\n",
      "  annotation = (\"{:\" + self.fmt + \"}\").format(val)\n"
     ]
    },
    {
     "data": {
      "image/png": "[encoded data removed]",
      "text/plain": [
       "<Figure size 1200x800 with 2 Axes>"
      ]
     },
     "metadata": {},
     "output_type": "display_data"
    }
   ],
   "source": [
    "import numpy as np\n",
    "filtered_corr_matrix = correlation_matrix.applymap(lambda x: x if abs(x) >= 0.0 and abs(x)!=1 else 0)\n",
    "plt.figure(figsize=(12, 8))\n",
    "mask = np.triu(np.ones_like(filtered_corr_matrix, dtype=bool))\n",
    "sns.heatmap(data=filtered_corr_matrix, annot=True, cmap='coolwarm', mask=mask)\n",
    "# sns.heatmap(data=filtered_corr_matrix, annot=True, cmap='coolwarm')\n",
    "plt.show()"
   ]
  },
  {
   "cell_type": "code",
   "execution_count": 32,
   "metadata": {},
   "outputs": [
    {
     "data": {
      "text/html": [
       "<div>\n",
       "<style scoped>\n",
       "    .dataframe tbody tr th:only-of-type {\n",
       "        vertical-align: middle;\n",
       "    }\n",
       "\n",
       "    .dataframe tbody tr th {\n",
       "        vertical-align: top;\n",
       "    }\n",
       "\n",
       "    .dataframe thead th {\n",
       "        text-align: right;\n",
       "    }\n",
       "</style>\n",
       "<table border=\"1\" class=\"dataframe\">\n",
       "  <thead>\n",
       "    <tr style=\"text-align: right;\">\n",
       "      <th></th>\n",
       "      <th>pregnant</th>\n",
       "      <th>plasma</th>\n",
       "      <th>pressure</th>\n",
       "      <th>thickness</th>\n",
       "      <th>insulin</th>\n",
       "      <th>bmi</th>\n",
       "      <th>pedigree</th>\n",
       "      <th>age</th>\n",
       "      <th>diabetes</th>\n",
       "    </tr>\n",
       "  </thead>\n",
       "  <tbody>\n",
       "    <tr>\n",
       "      <th>diabetes</th>\n",
       "      <td>0.221898</td>\n",
       "      <td>0.466581</td>\n",
       "      <td>0.065068</td>\n",
       "      <td>0.074752</td>\n",
       "      <td>0.130548</td>\n",
       "      <td>0.292695</td>\n",
       "      <td>0.173844</td>\n",
       "      <td>0.238356</td>\n",
       "      <td>1.0</td>\n",
       "    </tr>\n",
       "  </tbody>\n",
       "</table>\n",
       "</div>"
      ],
      "text/plain": [
       "          pregnant    plasma  pressure  thickness   insulin       bmi  \\\n",
       "diabetes  0.221898  0.466581  0.065068   0.074752  0.130548  0.292695   \n",
       "\n",
       "          pedigree       age  diabetes  \n",
       "diabetes  0.173844  0.238356       1.0  "
      ]
     },
     "execution_count": 32,
     "metadata": {},
     "output_type": "execute_result"
    }
   ],
   "source": [
    "data.corr().iloc[-1:]\n"
   ]
  },
  {
   "cell_type": "code",
   "execution_count": 72,
   "metadata": {},
   "outputs": [],
   "source": [
    "X_train, X_test, y_train, y_test = train_test_split(X,y,stratify=y, random_state=42)"
   ]
  },
  {
   "cell_type": "code",
   "execution_count": 78,
   "metadata": {},
   "outputs": [],
   "source": [
    "from sklearn.preprocessing import MinMaxScaler\n",
    "mms = MinMaxScaler()\n",
    "X_train_mms = mms.fit_transform(X_train)\n",
    "X_test_mms = mms.fit_transform(X_test)"
   ]
  },
  {
   "cell_type": "code",
   "execution_count": 79,
   "metadata": {},
   "outputs": [],
   "source": [
    "from sklearn.preprocessing import StandardScaler\n",
    "ss = StandardScaler()\n",
    "X_train_ss = ss.fit_transform(X_train)\n",
    "X_test_ss = ss.fit_transform(X_test)"
   ]
  },
  {
   "cell_type": "code",
   "execution_count": 53,
   "metadata": {},
   "outputs": [
    {
     "name": "stdout",
     "output_type": "stream",
     "text": [
      "0 0.7291666666666666\n",
      "0 0.7447916666666666\n"
     ]
    }
   ],
   "source": [
    "from sklearn.svm import SVC\n",
    "\n",
    "svc_mms_list=[]\n",
    "svc_ss_list=[]\n",
    "\n",
    "for c in np.arange(0.01,10, 0.01) :\n",
    "    svc = SVC(C=0.5, gamma='auto', kernel='rbf')\n",
    "    svc_mms = svc.fit(X_train_mms, y_train)\n",
    "    # print(f'''\n",
    "    #     train data score : {svc_mms.score(X_train_mms, y_train)}\n",
    "    #     test data score : {svc_mms.score(X_test_mms, y_test)}\n",
    "    #     ''')\n",
    "    svc_mms_list.append(svc_mms.score(X_test_mms, y_test))\n",
    "    svc_ss = svc.fit(X_train_ss, y_train)\n",
    "    # print(f'''\n",
    "    #     train data score : {svc_ss.score(X_train_mms, y_train)}\n",
    "    #     test data score : {svc_ss.score(X_test_mms, y_test)}\n",
    "    #     ''')\n",
    "    svc_ss_list.append(svc_ss.score(X_test_ss, y_test))\n",
    "\n",
    "print(np.argmax(svc_mms_list), max(svc_mms_list))\n",
    "print(np.argmax(svc_ss_list), max(svc_ss_list))    "
   ]
  },
  {
   "cell_type": "code",
   "execution_count": 59,
   "metadata": {},
   "outputs": [
    {
     "name": "stdout",
     "output_type": "stream",
     "text": [
      "458 0.7604166666666666\n",
      "2 0.7395833333333334\n"
     ]
    }
   ],
   "source": [
    "from sklearn.linear_model import LogisticRegression\n",
    "\n",
    "lr_mms_list=[]\n",
    "lr_ss_list=[]\n",
    "\n",
    "for c in np.arange(0.01,10, 0.01) :\n",
    "    lr = LogisticRegression(C=c, solver='liblinear', max_iter=10000,penalty='l1')\n",
    "    lr_mms = lr.fit(X_train_mms, y_train)\n",
    "    # print(f'''\n",
    "    #     train data score : {svc_mms.score(X_train_mms, y_train)}\n",
    "    #     test data score : {svc_mms.score(X_test_mms, y_test)}\n",
    "    #     ''')\n",
    "    lr_mms_list.append(lr_mms.score(X_test_mms, y_test))\n",
    "    lr_ss = lr.fit(X_train_ss, y_train)\n",
    "    # print(f'''\n",
    "    #     train data score : {svc_ss.score(X_train_mms, y_train)}\n",
    "    #     test data score : {svc_ss.score(X_test_mms, y_test)}\n",
    "    #     ''')\n",
    "    lr_ss_list.append(lr_ss.score(X_test_ss, y_test))\n",
    "\n",
    "print(np.argmax(lr_mms_list), max(lr_mms_list))\n",
    "print(np.argmax(lr_ss_list), max(lr_ss_list))    "
   ]
  },
  {
   "cell_type": "code",
   "execution_count": 61,
   "metadata": {},
   "outputs": [],
   "source": [
    "Q1 = data['insulin'].quantile(0.25)\n",
    "Q3 = data['insulin'].quantile(0.75)\n",
    "IQR = Q3 -Q1\n",
    "\n",
    "lower_bound = Q1 - 1.5*IQR\n",
    "upper_bound = Q3 + 1.5*IQR\n",
    "\n",
    "data_no_outliers = data[(data['insulin'] >= lower_bound) & (data['insulin'] <= upper_bound)]\n"
   ]
  },
  {
   "cell_type": "code",
   "execution_count": 62,
   "metadata": {},
   "outputs": [],
   "source": [
    "X_no = data_no_outliers.iloc[:,:-1]\n",
    "y_no = data_no_outliers.iloc[:,-1]\n"
   ]
  },
  {
   "cell_type": "code",
   "execution_count": 74,
   "metadata": {},
   "outputs": [],
   "source": [
    "X_no_train, X_no_test, y_no_train, y_no_test = train_test_split(X_no,y_no,stratify=y_no, random_state=42)"
   ]
  },
  {
   "cell_type": "code",
   "execution_count": 75,
   "metadata": {},
   "outputs": [],
   "source": [
    "X_no_train_mms = mms.fit_transform(X_no_train)\n",
    "X_no_test_mms = mms.fit_transform(X_no_test)\n",
    "\n",
    "X_no_train_ss = ss.fit_transform(X_no_train)\n",
    "X_no_test_ss = ss.fit_transform(X_no_test)"
   ]
  },
  {
   "cell_type": "code",
   "execution_count": 80,
   "metadata": {},
   "outputs": [
    {
     "name": "stdout",
     "output_type": "stream",
     "text": [
      "X_no_train_mms shape: (550, 8)\n",
      "y_no_train shape: (550,)\n",
      "X_test_mms shape: (192, 8)\n",
      "y_test shape: (192,)\n",
      "X_no_train_ss shape: (550, 8)\n",
      "X_test_ss shape: (192, 8)\n",
      "85 0.75\n",
      "600 0.8125\n"
     ]
    }
   ],
   "source": [
    "import numpy as np\n",
    "from sklearn.svm import SVC\n",
    "\n",
    "# 데이터셋 크기 확인\n",
    "print(f\"X_no_train_mms shape: {X_no_train_mms.shape}\")\n",
    "print(f\"y_no_train shape: {y_no_train.shape}\")\n",
    "print(f\"X_test_mms shape: {X_test_mms.shape}\")\n",
    "print(f\"y_test shape: {y_test.shape}\")\n",
    "\n",
    "print(f\"X_no_train_ss shape: {X_no_train_ss.shape}\")\n",
    "print(f\"X_test_ss shape: {X_test_ss.shape}\")\n",
    "\n",
    "# 데이터셋 크기가 일치하는지 확인\n",
    "if X_no_train_mms.shape[0] != y_no_train.shape[0]:\n",
    "    print(\"X_no_train_mms와 y_no_train의 샘플 수가 일치하지 않습니다.\")\n",
    "if X_test_mms.shape[0] != y_test.shape[0]:\n",
    "    print(\"X_test_mms와 y_test의 샘플 수가 일치하지 않습니다.\")\n",
    "if X_no_train_ss.shape[0] != y_no_train.shape[0]:\n",
    "    print(\"X_no_train_ss와 y_no_train의 샘플 수가 일치하지 않습니다.\")\n",
    "if X_test_ss.shape[0] != y_test.shape[0]:\n",
    "    print(\"X_test_ss와 y_test의 샘플 수가 일치하지 않습니다.\")\n",
    "\n",
    "# 오류가 없을 경우에만 모델 학습 및 평가\n",
    "svc_no_mms_list = []\n",
    "svc_no_ss_list = []\n",
    "\n",
    "for c in np.arange(0.01, 10, 0.01):\n",
    "    svc = SVC(C=c, gamma='auto', kernel='rbf')  # C 값을 반복문에서 설정\n",
    "    \n",
    "    svc_no_mms = svc.fit(X_no_train_mms, y_no_train)\n",
    "    svc_no_mms_list.append(svc_no_mms.score(X_test_mms, y_test))  # svc_no_mms 사용\n",
    "    \n",
    "    svc_no_ss = svc.fit(X_no_train_ss, y_no_train)\n",
    "    svc_no_ss_list.append(svc_no_ss.score(X_test_ss, y_test))  # svc_no_ss 사용\n",
    "\n",
    "print(np.argmax(svc_no_mms_list), max(svc_no_mms_list))\n",
    "print(np.argmax(svc_no_ss_list), max(svc_no_ss_list))\n"
   ]
  },
  {
   "cell_type": "code",
   "execution_count": 81,
   "metadata": {},
   "outputs": [
    {
     "name": "stdout",
     "output_type": "stream",
     "text": [
      "102 0.7447916666666666\n",
      "168 0.7395833333333334\n"
     ]
    }
   ],
   "source": [
    "from sklearn.linear_model import LogisticRegression\n",
    "\n",
    "lr_no_mms_list = []\n",
    "lr_no_ss_list = []\n",
    "\n",
    "for c in np.arange(0.01, 10, 0.01):\n",
    "    lr = LogisticRegression(C=c, solver='liblinear', max_iter=10000,penalty='l1')\n",
    "    \n",
    "    lr_no_mms = lr.fit(X_no_train_mms, y_no_train)\n",
    "    lr_no_mms_list.append(lr_no_mms.score(X_test_mms, y_test))  # svc_no_mms 사용\n",
    "    \n",
    "    lr_no_ss = lr.fit(X_no_train_ss, y_no_train)\n",
    "    lr_no_ss_list.append(lr_no_ss.score(X_test_ss, y_test))  # svc_no_ss 사용\n",
    "\n",
    "print(np.argmax(lr_no_mms_list), max(lr_no_mms_list))\n",
    "print(np.argmax(lr_no_ss_list), max(lr_no_ss_list))"
   ]
  },
  {
   "cell_type": "code",
   "execution_count": null,
   "metadata": {},
   "outputs": [],
   "source": []
  }
 ],
 "metadata": {
  "kernelspec": {
   "display_name": "base",
   "language": "python",
   "name": "python3"
  },
  "language_info": {
   "codemirror_mode": {
    "name": "ipython",
    "version": 3
   },
   "file_extension": ".py",
   "mimetype": "text/x-python",
   "name": "python",
   "nbconvert_exporter": "python",
   "pygments_lexer": "ipython3",
   "version": "3.10.13"
  }
 },
 "nbformat": 4,
 "nbformat_minor": 2
}
