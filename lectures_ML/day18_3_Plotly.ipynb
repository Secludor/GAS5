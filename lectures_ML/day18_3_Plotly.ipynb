{
 "cells": [
  {
   "cell_type": "markdown",
   "metadata": {},
   "source": [
    "## Plotly\n",
    "\n",
    "깔끔한 이미지와 상호작용 가능한 그래프를 특징으로 한다."
   ]
  },
  {
   "cell_type": "code",
   "execution_count": 1,
   "metadata": {},
   "outputs": [],
   "source": [
    "import pandas as pd\n",
    "import plotly.express as px\n",
    "import os\n",
    "\n",
    "path = 'D:\\\\elice_python\\\\GAS_5\\\\pytest_python\\\\'"
   ]
  },
  {
   "cell_type": "code",
   "execution_count": 2,
   "metadata": {},
   "outputs": [
    {
     "name": "stdout",
     "output_type": "stream",
     "text": [
      "<class 'pandas.core.frame.DataFrame'>\n",
      "RangeIndex: 77 entries, 0 to 76\n",
      "Data columns (total 17 columns):\n",
      " #   Column    Non-Null Count  Dtype  \n",
      "---  ------    --------------  -----  \n",
      " 0   name      77 non-null     object \n",
      " 1   mfr       77 non-null     object \n",
      " 2   type      77 non-null     object \n",
      " 3   calories  77 non-null     int64  \n",
      " 4   protein   77 non-null     int64  \n",
      " 5   fat       77 non-null     int64  \n",
      " 6   sodium    77 non-null     int64  \n",
      " 7   fiber     77 non-null     float64\n",
      " 8   carbo     77 non-null     float64\n",
      " 9   sugars    77 non-null     int64  \n",
      " 10  potass    77 non-null     int64  \n",
      " 11  vitamins  77 non-null     int64  \n",
      " 12  shelf     77 non-null     object \n",
      " 13  weight    77 non-null     float64\n",
      " 14  cups      77 non-null     float64\n",
      " 15  rating    77 non-null     float64\n",
      " 16  cereal    77 non-null     int64  \n",
      "dtypes: float64(5), int64(8), object(4)\n",
      "memory usage: 10.4+ KB\n"
     ]
    }
   ],
   "source": [
    "df = pd.read_csv(os.path.join(path, 'cereal.csv'))\n",
    "df.info()"
   ]
  },
  {
   "cell_type": "code",
   "execution_count": 5,
   "metadata": {},
   "outputs": [
    {
     "data": {
      "text/html": [
       "<div>\n",
       "<style scoped>\n",
       "    .dataframe tbody tr th:only-of-type {\n",
       "        vertical-align: middle;\n",
       "    }\n",
       "\n",
       "    .dataframe tbody tr th {\n",
       "        vertical-align: top;\n",
       "    }\n",
       "\n",
       "    .dataframe thead th {\n",
       "        text-align: right;\n",
       "    }\n",
       "</style>\n",
       "<table border=\"1\" class=\"dataframe\">\n",
       "  <thead>\n",
       "    <tr style=\"text-align: right;\">\n",
       "      <th></th>\n",
       "      <th>name</th>\n",
       "      <th>mfr</th>\n",
       "      <th>type</th>\n",
       "      <th>calories</th>\n",
       "      <th>protein</th>\n",
       "      <th>fat</th>\n",
       "      <th>sodium</th>\n",
       "      <th>fiber</th>\n",
       "      <th>carbo</th>\n",
       "      <th>sugars</th>\n",
       "      <th>potass</th>\n",
       "      <th>vitamins</th>\n",
       "      <th>shelf</th>\n",
       "      <th>weight</th>\n",
       "      <th>cups</th>\n",
       "      <th>rating</th>\n",
       "      <th>cereal</th>\n",
       "    </tr>\n",
       "  </thead>\n",
       "  <tbody>\n",
       "    <tr>\n",
       "      <th>0</th>\n",
       "      <td>100% Bran</td>\n",
       "      <td>Nabisco</td>\n",
       "      <td>Cold</td>\n",
       "      <td>70</td>\n",
       "      <td>4</td>\n",
       "      <td>1</td>\n",
       "      <td>130</td>\n",
       "      <td>10.0</td>\n",
       "      <td>5.0</td>\n",
       "      <td>6</td>\n",
       "      <td>280</td>\n",
       "      <td>25</td>\n",
       "      <td>Top</td>\n",
       "      <td>1.0</td>\n",
       "      <td>0.33</td>\n",
       "      <td>68.40</td>\n",
       "      <td>1</td>\n",
       "    </tr>\n",
       "    <tr>\n",
       "      <th>1</th>\n",
       "      <td>100% Natural Bran</td>\n",
       "      <td>Quaker Oats</td>\n",
       "      <td>Cold</td>\n",
       "      <td>120</td>\n",
       "      <td>3</td>\n",
       "      <td>5</td>\n",
       "      <td>15</td>\n",
       "      <td>2.0</td>\n",
       "      <td>8.0</td>\n",
       "      <td>8</td>\n",
       "      <td>135</td>\n",
       "      <td>0</td>\n",
       "      <td>Top</td>\n",
       "      <td>1.0</td>\n",
       "      <td>1.00</td>\n",
       "      <td>33.98</td>\n",
       "      <td>1</td>\n",
       "    </tr>\n",
       "    <tr>\n",
       "      <th>2</th>\n",
       "      <td>All-Bran</td>\n",
       "      <td>Kellogs</td>\n",
       "      <td>Cold</td>\n",
       "      <td>70</td>\n",
       "      <td>4</td>\n",
       "      <td>1</td>\n",
       "      <td>260</td>\n",
       "      <td>9.0</td>\n",
       "      <td>7.0</td>\n",
       "      <td>5</td>\n",
       "      <td>320</td>\n",
       "      <td>25</td>\n",
       "      <td>Top</td>\n",
       "      <td>1.0</td>\n",
       "      <td>0.33</td>\n",
       "      <td>59.43</td>\n",
       "      <td>1</td>\n",
       "    </tr>\n",
       "    <tr>\n",
       "      <th>3</th>\n",
       "      <td>All-Bran with Extra Fiber</td>\n",
       "      <td>Kellogs</td>\n",
       "      <td>Cold</td>\n",
       "      <td>50</td>\n",
       "      <td>4</td>\n",
       "      <td>0</td>\n",
       "      <td>140</td>\n",
       "      <td>14.0</td>\n",
       "      <td>8.0</td>\n",
       "      <td>0</td>\n",
       "      <td>330</td>\n",
       "      <td>25</td>\n",
       "      <td>Top</td>\n",
       "      <td>1.0</td>\n",
       "      <td>0.50</td>\n",
       "      <td>93.70</td>\n",
       "      <td>1</td>\n",
       "    </tr>\n",
       "    <tr>\n",
       "      <th>4</th>\n",
       "      <td>Almond Delight</td>\n",
       "      <td>Ralston Purina</td>\n",
       "      <td>Cold</td>\n",
       "      <td>110</td>\n",
       "      <td>2</td>\n",
       "      <td>2</td>\n",
       "      <td>200</td>\n",
       "      <td>1.0</td>\n",
       "      <td>14.0</td>\n",
       "      <td>8</td>\n",
       "      <td>-1</td>\n",
       "      <td>25</td>\n",
       "      <td>Top</td>\n",
       "      <td>1.0</td>\n",
       "      <td>0.75</td>\n",
       "      <td>34.38</td>\n",
       "      <td>1</td>\n",
       "    </tr>\n",
       "  </tbody>\n",
       "</table>\n",
       "</div>"
      ],
      "text/plain": [
       "                        name             mfr  type  calories  protein  fat  \\\n",
       "0                  100% Bran         Nabisco  Cold        70        4    1   \n",
       "1          100% Natural Bran     Quaker Oats  Cold       120        3    5   \n",
       "2                   All-Bran         Kellogs  Cold        70        4    1   \n",
       "3  All-Bran with Extra Fiber         Kellogs  Cold        50        4    0   \n",
       "4             Almond Delight  Ralston Purina  Cold       110        2    2   \n",
       "\n",
       "   sodium  fiber  carbo  sugars  potass  vitamins shelf  weight  cups  rating  \\\n",
       "0     130   10.0    5.0       6     280        25   Top     1.0  0.33   68.40   \n",
       "1      15    2.0    8.0       8     135         0   Top     1.0  1.00   33.98   \n",
       "2     260    9.0    7.0       5     320        25   Top     1.0  0.33   59.43   \n",
       "3     140   14.0    8.0       0     330        25   Top     1.0  0.50   93.70   \n",
       "4     200    1.0   14.0       8      -1        25   Top     1.0  0.75   34.38   \n",
       "\n",
       "   cereal  \n",
       "0       1  \n",
       "1       1  \n",
       "2       1  \n",
       "3       1  \n",
       "4       1  "
      ]
     },
     "execution_count": 5,
     "metadata": {},
     "output_type": "execute_result"
    }
   ],
   "source": [
    "df.head()"
   ]
  },
  {
   "cell_type": "code",
   "execution_count": 11,
   "metadata": {},
   "outputs": [
    {
     "data": {
      "application/vnd.plotly.v1+json": {
       "config": {
        "plotlyServerURL": "https://plot.ly"
       },
       "data": [
        {
         "hovertemplate": "<b>%{hovertext}</b><br><br>sugars=%{x}<br>rating=%{y}<extra></extra>",
         "hovertext": [
          "100% Bran",
          "100% Natural Bran",
          "All-Bran",
          "All-Bran with Extra Fiber",
          "Almond Delight",
          "Apple Cinnamon Cheerios",
          "Apple Jacks",
          "Basic 4",
          "Bran Chex",
          "Bran Flakes",
          "Cap'n'Crunch",
          "Cheerios",
          "Cinnamon Toast Crunch",
          "Clusters",
          "Cocoa Puffs",
          "Corn Chex",
          "Corn Flakes",
          "Corn Pops",
          "Count Chocula",
          "Cracklin' Oat Bran",
          "Cream of Wheat (Quick)",
          "Crispix",
          "Crispy Wheat & Raisins",
          "Double Chex",
          "Froot Loops",
          "Frosted Flakes",
          "Frosted Mini-Wheats",
          "Fruit & Fibre Dates, Walnuts, and Oats",
          "Fruitful Bran",
          "Fruity Pebbles",
          "Golden Crisp",
          "Golden Grahams",
          "Grape Nuts Flakes",
          "Grape-Nuts",
          "Great Grains Pecan",
          "Honey Graham Ohs",
          "Honey Nut Cheerios",
          "Honey-comb",
          "Just Right Crunchy  Nuggets",
          "Just Right Fruit & Nut",
          "Kix",
          "Life",
          "Lucky Charms",
          "Maypo",
          "Muesli Raisins, Dates, & Almonds",
          "Muesli Raisins, Peaches, & Pecans",
          "Mueslix Crispy Blend",
          "Multi-Grain Cheerios",
          "Nut&Honey Crunch",
          "Nutri-Grain Almond-Raisin",
          "Nutri-grain Wheat",
          "Oatmeal Raisin Crisp",
          "Post Nat. Raisin Bran",
          "Product 19",
          "Puffed Rice",
          "Puffed Wheat",
          "Quaker Oat Squares",
          "Quaker Oatmeal",
          "Raisin Bran",
          "Raisin Nut Bran",
          "Raisin Squares",
          "Rice Chex",
          "Rice Krispies",
          "Shredded Wheat",
          "Shredded Wheat 'n'Bran",
          "Shredded Wheat spoon size",
          "Smacks",
          "Special K",
          "Strawberry Fruit Wheats",
          "Total Corn Flakes",
          "Total Raisin Bran",
          "Total Whole Grain",
          "Triples",
          "Trix",
          "Wheat Chex",
          "Wheaties",
          "Wheaties Honey Gold"
         ],
         "legendgroup": "",
         "marker": {
          "color": "#636efa",
          "symbol": "circle"
         },
         "mode": "markers",
         "name": "",
         "orientation": "v",
         "showlegend": false,
         "type": "scatter",
         "x": [
          6,
          8,
          5,
          0,
          8,
          10,
          14,
          8,
          6,
          5,
          12,
          1,
          9,
          7,
          13,
          3,
          2,
          12,
          13,
          7,
          0,
          3,
          10,
          5,
          13,
          11,
          7,
          10,
          12,
          12,
          15,
          9,
          5,
          3,
          4,
          11,
          10,
          11,
          6,
          9,
          3,
          6,
          12,
          3,
          11,
          11,
          13,
          6,
          9,
          7,
          2,
          10,
          14,
          3,
          0,
          0,
          6,
          -1,
          12,
          8,
          6,
          2,
          3,
          0,
          0,
          0,
          15,
          3,
          5,
          3,
          14,
          3,
          3,
          12,
          3,
          3,
          8
         ],
         "xaxis": "x",
         "y": [
          68.4,
          33.98,
          59.43,
          93.7,
          34.38,
          29.51,
          33.17,
          37.04,
          49.12,
          53.31,
          18.04,
          50.76,
          19.82,
          40.4,
          22.74,
          41.45,
          45.86,
          35.78,
          22.4,
          40.45,
          64.53,
          46.9,
          36.18,
          44.33,
          32.21,
          31.44,
          58.35,
          40.92,
          41.02,
          28.03,
          35.25,
          23.8,
          52.08,
          53.37,
          45.81,
          21.87,
          31.07,
          28.74,
          36.52,
          36.47,
          39.24,
          45.33,
          26.73,
          54.85,
          37.14,
          34.14,
          30.31,
          40.11,
          29.92,
          40.69,
          59.64,
          30.45,
          37.84,
          41.5,
          60.76,
          63.01,
          49.51,
          50.83,
          39.26,
          39.7,
          55.33,
          42,
          40.56,
          68.24,
          74.47,
          72.8,
          31.23,
          53.13,
          59.36,
          38.84,
          28.59,
          46.66,
          39.11,
          27.75,
          49.79,
          51.59,
          36.19
         ],
         "yaxis": "y"
        }
       ],
       "layout": {
        "legend": {
         "tracegroupgap": 0
        },
        "template": {
         "data": {
          "bar": [
           {
            "error_x": {
             "color": "#2a3f5f"
            },
            "error_y": {
             "color": "#2a3f5f"
            },
            "marker": {
             "line": {
              "color": "#E5ECF6",
              "width": 0.5
             },
             "pattern": {
              "fillmode": "overlay",
              "size": 10,
              "solidity": 0.2
             }
            },
            "type": "bar"
           }
          ],
          "barpolar": [
           {
            "marker": {
             "line": {
              "color": "#E5ECF6",
              "width": 0.5
             },
             "pattern": {
              "fillmode": "overlay",
              "size": 10,
              "solidity": 0.2
             }
            },
            "type": "barpolar"
           }
          ],
          "carpet": [
           {
            "aaxis": {
             "endlinecolor": "#2a3f5f",
             "gridcolor": "white",
             "linecolor": "white",
             "minorgridcolor": "white",
             "startlinecolor": "#2a3f5f"
            },
            "baxis": {
             "endlinecolor": "#2a3f5f",
             "gridcolor": "white",
             "linecolor": "white",
             "minorgridcolor": "white",
             "startlinecolor": "#2a3f5f"
            },
            "type": "carpet"
           }
          ],
          "choropleth": [
           {
            "colorbar": {
             "outlinewidth": 0,
             "ticks": ""
            },
            "type": "choropleth"
           }
          ],
          "contour": [
           {
            "colorbar": {
             "outlinewidth": 0,
             "ticks": ""
            },
            "colorscale": [
             [
              0,
              "#0d0887"
             ],
             [
              0.1111111111111111,
              "#46039f"
             ],
             [
              0.2222222222222222,
              "#7201a8"
             ],
             [
              0.3333333333333333,
              "#9c179e"
             ],
             [
              0.4444444444444444,
              "#bd3786"
             ],
             [
              0.5555555555555556,
              "#d8576b"
             ],
             [
              0.6666666666666666,
              "#ed7953"
             ],
             [
              0.7777777777777778,
              "#fb9f3a"
             ],
             [
              0.8888888888888888,
              "#fdca26"
             ],
             [
              1,
              "#f0f921"
             ]
            ],
            "type": "contour"
           }
          ],
          "contourcarpet": [
           {
            "colorbar": {
             "outlinewidth": 0,
             "ticks": ""
            },
            "type": "contourcarpet"
           }
          ],
          "heatmap": [
           {
            "colorbar": {
             "outlinewidth": 0,
             "ticks": ""
            },
            "colorscale": [
             [
              0,
              "#0d0887"
             ],
             [
              0.1111111111111111,
              "#46039f"
             ],
             [
              0.2222222222222222,
              "#7201a8"
             ],
             [
              0.3333333333333333,
              "#9c179e"
             ],
             [
              0.4444444444444444,
              "#bd3786"
             ],
             [
              0.5555555555555556,
              "#d8576b"
             ],
             [
              0.6666666666666666,
              "#ed7953"
             ],
             [
              0.7777777777777778,
              "#fb9f3a"
             ],
             [
              0.8888888888888888,
              "#fdca26"
             ],
             [
              1,
              "#f0f921"
             ]
            ],
            "type": "heatmap"
           }
          ],
          "heatmapgl": [
           {
            "colorbar": {
             "outlinewidth": 0,
             "ticks": ""
            },
            "colorscale": [
             [
              0,
              "#0d0887"
             ],
             [
              0.1111111111111111,
              "#46039f"
             ],
             [
              0.2222222222222222,
              "#7201a8"
             ],
             [
              0.3333333333333333,
              "#9c179e"
             ],
             [
              0.4444444444444444,
              "#bd3786"
             ],
             [
              0.5555555555555556,
              "#d8576b"
             ],
             [
              0.6666666666666666,
              "#ed7953"
             ],
             [
              0.7777777777777778,
              "#fb9f3a"
             ],
             [
              0.8888888888888888,
              "#fdca26"
             ],
             [
              1,
              "#f0f921"
             ]
            ],
            "type": "heatmapgl"
           }
          ],
          "histogram": [
           {
            "marker": {
             "pattern": {
              "fillmode": "overlay",
              "size": 10,
              "solidity": 0.2
             }
            },
            "type": "histogram"
           }
          ],
          "histogram2d": [
           {
            "colorbar": {
             "outlinewidth": 0,
             "ticks": ""
            },
            "colorscale": [
             [
              0,
              "#0d0887"
             ],
             [
              0.1111111111111111,
              "#46039f"
             ],
             [
              0.2222222222222222,
              "#7201a8"
             ],
             [
              0.3333333333333333,
              "#9c179e"
             ],
             [
              0.4444444444444444,
              "#bd3786"
             ],
             [
              0.5555555555555556,
              "#d8576b"
             ],
             [
              0.6666666666666666,
              "#ed7953"
             ],
             [
              0.7777777777777778,
              "#fb9f3a"
             ],
             [
              0.8888888888888888,
              "#fdca26"
             ],
             [
              1,
              "#f0f921"
             ]
            ],
            "type": "histogram2d"
           }
          ],
          "histogram2dcontour": [
           {
            "colorbar": {
             "outlinewidth": 0,
             "ticks": ""
            },
            "colorscale": [
             [
              0,
              "#0d0887"
             ],
             [
              0.1111111111111111,
              "#46039f"
             ],
             [
              0.2222222222222222,
              "#7201a8"
             ],
             [
              0.3333333333333333,
              "#9c179e"
             ],
             [
              0.4444444444444444,
              "#bd3786"
             ],
             [
              0.5555555555555556,
              "#d8576b"
             ],
             [
              0.6666666666666666,
              "#ed7953"
             ],
             [
              0.7777777777777778,
              "#fb9f3a"
             ],
             [
              0.8888888888888888,
              "#fdca26"
             ],
             [
              1,
              "#f0f921"
             ]
            ],
            "type": "histogram2dcontour"
           }
          ],
          "mesh3d": [
           {
            "colorbar": {
             "outlinewidth": 0,
             "ticks": ""
            },
            "type": "mesh3d"
           }
          ],
          "parcoords": [
           {
            "line": {
             "colorbar": {
              "outlinewidth": 0,
              "ticks": ""
             }
            },
            "type": "parcoords"
           }
          ],
          "pie": [
           {
            "automargin": true,
            "type": "pie"
           }
          ],
          "scatter": [
           {
            "fillpattern": {
             "fillmode": "overlay",
             "size": 10,
             "solidity": 0.2
            },
            "type": "scatter"
           }
          ],
          "scatter3d": [
           {
            "line": {
             "colorbar": {
              "outlinewidth": 0,
              "ticks": ""
             }
            },
            "marker": {
             "colorbar": {
              "outlinewidth": 0,
              "ticks": ""
             }
            },
            "type": "scatter3d"
           }
          ],
          "scattercarpet": [
           {
            "marker": {
             "colorbar": {
              "outlinewidth": 0,
              "ticks": ""
             }
            },
            "type": "scattercarpet"
           }
          ],
          "scattergeo": [
           {
            "marker": {
             "colorbar": {
              "outlinewidth": 0,
              "ticks": ""
             }
            },
            "type": "scattergeo"
           }
          ],
          "scattergl": [
           {
            "marker": {
             "colorbar": {
              "outlinewidth": 0,
              "ticks": ""
             }
            },
            "type": "scattergl"
           }
          ],
          "scattermapbox": [
           {
            "marker": {
             "colorbar": {
              "outlinewidth": 0,
              "ticks": ""
             }
            },
            "type": "scattermapbox"
           }
          ],
          "scatterpolar": [
           {
            "marker": {
             "colorbar": {
              "outlinewidth": 0,
              "ticks": ""
             }
            },
            "type": "scatterpolar"
           }
          ],
          "scatterpolargl": [
           {
            "marker": {
             "colorbar": {
              "outlinewidth": 0,
              "ticks": ""
             }
            },
            "type": "scatterpolargl"
           }
          ],
          "scatterternary": [
           {
            "marker": {
             "colorbar": {
              "outlinewidth": 0,
              "ticks": ""
             }
            },
            "type": "scatterternary"
           }
          ],
          "surface": [
           {
            "colorbar": {
             "outlinewidth": 0,
             "ticks": ""
            },
            "colorscale": [
             [
              0,
              "#0d0887"
             ],
             [
              0.1111111111111111,
              "#46039f"
             ],
             [
              0.2222222222222222,
              "#7201a8"
             ],
             [
              0.3333333333333333,
              "#9c179e"
             ],
             [
              0.4444444444444444,
              "#bd3786"
             ],
             [
              0.5555555555555556,
              "#d8576b"
             ],
             [
              0.6666666666666666,
              "#ed7953"
             ],
             [
              0.7777777777777778,
              "#fb9f3a"
             ],
             [
              0.8888888888888888,
              "#fdca26"
             ],
             [
              1,
              "#f0f921"
             ]
            ],
            "type": "surface"
           }
          ],
          "table": [
           {
            "cells": {
             "fill": {
              "color": "#EBF0F8"
             },
             "line": {
              "color": "white"
             }
            },
            "header": {
             "fill": {
              "color": "#C8D4E3"
             },
             "line": {
              "color": "white"
             }
            },
            "type": "table"
           }
          ]
         },
         "layout": {
          "annotationdefaults": {
           "arrowcolor": "#2a3f5f",
           "arrowhead": 0,
           "arrowwidth": 1
          },
          "autotypenumbers": "strict",
          "coloraxis": {
           "colorbar": {
            "outlinewidth": 0,
            "ticks": ""
           }
          },
          "colorscale": {
           "diverging": [
            [
             0,
             "#8e0152"
            ],
            [
             0.1,
             "#c51b7d"
            ],
            [
             0.2,
             "#de77ae"
            ],
            [
             0.3,
             "#f1b6da"
            ],
            [
             0.4,
             "#fde0ef"
            ],
            [
             0.5,
             "#f7f7f7"
            ],
            [
             0.6,
             "#e6f5d0"
            ],
            [
             0.7,
             "#b8e186"
            ],
            [
             0.8,
             "#7fbc41"
            ],
            [
             0.9,
             "#4d9221"
            ],
            [
             1,
             "#276419"
            ]
           ],
           "sequential": [
            [
             0,
             "#0d0887"
            ],
            [
             0.1111111111111111,
             "#46039f"
            ],
            [
             0.2222222222222222,
             "#7201a8"
            ],
            [
             0.3333333333333333,
             "#9c179e"
            ],
            [
             0.4444444444444444,
             "#bd3786"
            ],
            [
             0.5555555555555556,
             "#d8576b"
            ],
            [
             0.6666666666666666,
             "#ed7953"
            ],
            [
             0.7777777777777778,
             "#fb9f3a"
            ],
            [
             0.8888888888888888,
             "#fdca26"
            ],
            [
             1,
             "#f0f921"
            ]
           ],
           "sequentialminus": [
            [
             0,
             "#0d0887"
            ],
            [
             0.1111111111111111,
             "#46039f"
            ],
            [
             0.2222222222222222,
             "#7201a8"
            ],
            [
             0.3333333333333333,
             "#9c179e"
            ],
            [
             0.4444444444444444,
             "#bd3786"
            ],
            [
             0.5555555555555556,
             "#d8576b"
            ],
            [
             0.6666666666666666,
             "#ed7953"
            ],
            [
             0.7777777777777778,
             "#fb9f3a"
            ],
            [
             0.8888888888888888,
             "#fdca26"
            ],
            [
             1,
             "#f0f921"
            ]
           ]
          },
          "colorway": [
           "#636efa",
           "#EF553B",
           "#00cc96",
           "#ab63fa",
           "#FFA15A",
           "#19d3f3",
           "#FF6692",
           "#B6E880",
           "#FF97FF",
           "#FECB52"
          ],
          "font": {
           "color": "#2a3f5f"
          },
          "geo": {
           "bgcolor": "white",
           "lakecolor": "white",
           "landcolor": "#E5ECF6",
           "showlakes": true,
           "showland": true,
           "subunitcolor": "white"
          },
          "hoverlabel": {
           "align": "left"
          },
          "hovermode": "closest",
          "mapbox": {
           "style": "light"
          },
          "paper_bgcolor": "white",
          "plot_bgcolor": "#E5ECF6",
          "polar": {
           "angularaxis": {
            "gridcolor": "white",
            "linecolor": "white",
            "ticks": ""
           },
           "bgcolor": "#E5ECF6",
           "radialaxis": {
            "gridcolor": "white",
            "linecolor": "white",
            "ticks": ""
           }
          },
          "scene": {
           "xaxis": {
            "backgroundcolor": "#E5ECF6",
            "gridcolor": "white",
            "gridwidth": 2,
            "linecolor": "white",
            "showbackground": true,
            "ticks": "",
            "zerolinecolor": "white"
           },
           "yaxis": {
            "backgroundcolor": "#E5ECF6",
            "gridcolor": "white",
            "gridwidth": 2,
            "linecolor": "white",
            "showbackground": true,
            "ticks": "",
            "zerolinecolor": "white"
           },
           "zaxis": {
            "backgroundcolor": "#E5ECF6",
            "gridcolor": "white",
            "gridwidth": 2,
            "linecolor": "white",
            "showbackground": true,
            "ticks": "",
            "zerolinecolor": "white"
           }
          },
          "shapedefaults": {
           "line": {
            "color": "#2a3f5f"
           }
          },
          "ternary": {
           "aaxis": {
            "gridcolor": "white",
            "linecolor": "white",
            "ticks": ""
           },
           "baxis": {
            "gridcolor": "white",
            "linecolor": "white",
            "ticks": ""
           },
           "bgcolor": "#E5ECF6",
           "caxis": {
            "gridcolor": "white",
            "linecolor": "white",
            "ticks": ""
           }
          },
          "title": {
           "x": 0.05
          },
          "xaxis": {
           "automargin": true,
           "gridcolor": "white",
           "linecolor": "white",
           "ticks": "",
           "title": {
            "standoff": 15
           },
           "zerolinecolor": "white",
           "zerolinewidth": 2
          },
          "yaxis": {
           "automargin": true,
           "gridcolor": "white",
           "linecolor": "white",
           "ticks": "",
           "title": {
            "standoff": 15
           },
           "zerolinecolor": "white",
           "zerolinewidth": 2
          }
         }
        },
        "title": {
         "text": "Cereal ratings vs. sugars"
        },
        "xaxis": {
         "anchor": "y",
         "domain": [
          0,
          1
         ],
         "title": {
          "text": "sugars"
         }
        },
        "yaxis": {
         "anchor": "x",
         "domain": [
          0,
          1
         ],
         "title": {
          "text": "rating"
         }
        }
       }
      }
     },
     "metadata": {},
     "output_type": "display_data"
    }
   ],
   "source": [
    "fig = px.scatter(df, x='sugars', y='rating', hover_name='name', title='Cereal ratings vs. sugars')\n",
    "fig.show()"
   ]
  },
  {
   "cell_type": "code",
   "execution_count": 17,
   "metadata": {},
   "outputs": [
    {
     "data": {
      "application/vnd.plotly.v1+json": {
       "config": {
        "plotlyServerURL": "https://plot.ly"
       },
       "data": [
        {
         "hovertemplate": "<b>%{hovertext}</b><br><br>mfr=Nabisco<br>shelf=Top<br>type=Cold<br>sugars=%{x}<br>rating=%{y}<br>calories=%{marker.size}<extra></extra>",
         "hovertext": [
          "100% Bran"
         ],
         "legendgroup": "Nabisco",
         "marker": {
          "color": "#636efa",
          "size": [
           70
          ],
          "sizemode": "area",
          "sizeref": 0.4,
          "symbol": "circle"
         },
         "mode": "markers",
         "name": "Nabisco",
         "orientation": "v",
         "showlegend": true,
         "type": "scatter",
         "x": [
          6
         ],
         "xaxis": "x5",
         "y": [
          68.4
         ],
         "yaxis": "y5"
        },
        {
         "hovertemplate": "<b>%{hovertext}</b><br><br>mfr=Nabisco<br>shelf=Middle<br>type=Cold<br>sugars=%{x}<br>rating=%{y}<br>calories=%{marker.size}<extra></extra>",
         "hovertext": [
          "Strawberry Fruit Wheats"
         ],
         "legendgroup": "Nabisco",
         "marker": {
          "color": "#636efa",
          "size": [
           90
          ],
          "sizemode": "area",
          "sizeref": 0.4,
          "symbol": "circle"
         },
         "mode": "markers",
         "name": "Nabisco",
         "orientation": "v",
         "showlegend": false,
         "type": "scatter",
         "x": [
          5
         ],
         "xaxis": "x3",
         "y": [
          59.36
         ],
         "yaxis": "y3"
        },
        {
         "hovertemplate": "<b>%{hovertext}</b><br><br>mfr=Nabisco<br>shelf=Middle<br>type=Hot<br>sugars=%{x}<br>rating=%{y}<br>calories=%{marker.size}<extra></extra>",
         "hovertext": [
          "Cream of Wheat (Quick)"
         ],
         "legendgroup": "Nabisco",
         "marker": {
          "color": "#636efa",
          "size": [
           100
          ],
          "sizemode": "area",
          "sizeref": 0.4,
          "symbol": "circle"
         },
         "mode": "markers",
         "name": "Nabisco",
         "orientation": "v",
         "showlegend": false,
         "type": "scatter",
         "x": [
          0
         ],
         "xaxis": "x4",
         "y": [
          64.53
         ],
         "yaxis": "y4"
        },
        {
         "hovertemplate": "<b>%{hovertext}</b><br><br>mfr=Nabisco<br>shelf=Bottom<br>type=Cold<br>sugars=%{x}<br>rating=%{y}<br>calories=%{marker.size}<extra></extra>",
         "hovertext": [
          "Shredded Wheat",
          "Shredded Wheat 'n'Bran",
          "Shredded Wheat spoon size"
         ],
         "legendgroup": "Nabisco",
         "marker": {
          "color": "#636efa",
          "size": [
           80,
           90,
           90
          ],
          "sizemode": "area",
          "sizeref": 0.4,
          "symbol": "circle"
         },
         "mode": "markers",
         "name": "Nabisco",
         "orientation": "v",
         "showlegend": false,
         "type": "scatter",
         "x": [
          0,
          0,
          0
         ],
         "xaxis": "x",
         "y": [
          68.24,
          74.47,
          72.8
         ],
         "yaxis": "y"
        },
        {
         "hovertemplate": "<b>%{hovertext}</b><br><br>mfr=Quaker Oats<br>shelf=Top<br>type=Cold<br>sugars=%{x}<br>rating=%{y}<br>calories=%{marker.size}<extra></extra>",
         "hovertext": [
          "100% Natural Bran",
          "Puffed Rice",
          "Puffed Wheat",
          "Quaker Oat Squares"
         ],
         "legendgroup": "Quaker Oats",
         "marker": {
          "color": "#EF553B",
          "size": [
           120,
           50,
           50,
           100
          ],
          "sizemode": "area",
          "sizeref": 0.4,
          "symbol": "circle"
         },
         "mode": "markers",
         "name": "Quaker Oats",
         "orientation": "v",
         "showlegend": true,
         "type": "scatter",
         "x": [
          8,
          0,
          0,
          6
         ],
         "xaxis": "x5",
         "y": [
          33.98,
          60.76,
          63.01,
          49.51
         ],
         "yaxis": "y5"
        },
        {
         "hovertemplate": "<b>%{hovertext}</b><br><br>mfr=Quaker Oats<br>shelf=Middle<br>type=Cold<br>sugars=%{x}<br>rating=%{y}<br>calories=%{marker.size}<extra></extra>",
         "hovertext": [
          "Cap'n'Crunch",
          "Honey Graham Ohs",
          "Life"
         ],
         "legendgroup": "Quaker Oats",
         "marker": {
          "color": "#EF553B",
          "size": [
           120,
           120,
           100
          ],
          "sizemode": "area",
          "sizeref": 0.4,
          "symbol": "circle"
         },
         "mode": "markers",
         "name": "Quaker Oats",
         "orientation": "v",
         "showlegend": false,
         "type": "scatter",
         "x": [
          12,
          11,
          6
         ],
         "xaxis": "x3",
         "y": [
          18.04,
          21.87,
          45.33
         ],
         "yaxis": "y3"
        },
        {
         "hovertemplate": "<b>%{hovertext}</b><br><br>mfr=Quaker Oats<br>shelf=Bottom<br>type=Hot<br>sugars=%{x}<br>rating=%{y}<br>calories=%{marker.size}<extra></extra>",
         "hovertext": [
          "Quaker Oatmeal"
         ],
         "legendgroup": "Quaker Oats",
         "marker": {
          "color": "#EF553B",
          "size": [
           100
          ],
          "sizemode": "area",
          "sizeref": 0.4,
          "symbol": "circle"
         },
         "mode": "markers",
         "name": "Quaker Oats",
         "orientation": "v",
         "showlegend": false,
         "type": "scatter",
         "x": [
          -1
         ],
         "xaxis": "x2",
         "y": [
          50.83
         ],
         "yaxis": "y2"
        },
        {
         "hovertemplate": "<b>%{hovertext}</b><br><br>mfr=Kellogs<br>shelf=Top<br>type=Cold<br>sugars=%{x}<br>rating=%{y}<br>calories=%{marker.size}<extra></extra>",
         "hovertext": [
          "All-Bran",
          "All-Bran with Extra Fiber",
          "Cracklin' Oat Bran",
          "Crispix",
          "Fruitful Bran",
          "Just Right Crunchy  Nuggets",
          "Just Right Fruit & Nut",
          "Mueslix Crispy Blend",
          "Nutri-Grain Almond-Raisin",
          "Nutri-grain Wheat",
          "Product 19",
          "Raisin Squares"
         ],
         "legendgroup": "Kellogs",
         "marker": {
          "color": "#00cc96",
          "size": [
           70,
           50,
           110,
           110,
           120,
           110,
           140,
           160,
           140,
           90,
           100,
           90
          ],
          "sizemode": "area",
          "sizeref": 0.4,
          "symbol": "circle"
         },
         "mode": "markers",
         "name": "Kellogs",
         "orientation": "v",
         "showlegend": true,
         "type": "scatter",
         "x": [
          5,
          0,
          7,
          3,
          12,
          6,
          9,
          13,
          7,
          2,
          3,
          6
         ],
         "xaxis": "x5",
         "y": [
          59.43,
          93.7,
          40.45,
          46.9,
          41.02,
          36.52,
          36.47,
          30.31,
          40.69,
          59.64,
          41.5,
          55.33
         ],
         "yaxis": "y5"
        },
        {
         "hovertemplate": "<b>%{hovertext}</b><br><br>mfr=Kellogs<br>shelf=Middle<br>type=Cold<br>sugars=%{x}<br>rating=%{y}<br>calories=%{marker.size}<extra></extra>",
         "hovertext": [
          "Apple Jacks",
          "Corn Pops",
          "Froot Loops",
          "Frosted Mini-Wheats",
          "Nut&Honey Crunch",
          "Raisin Bran",
          "Smacks"
         ],
         "legendgroup": "Kellogs",
         "marker": {
          "color": "#00cc96",
          "size": [
           110,
           110,
           110,
           100,
           120,
           120,
           110
          ],
          "sizemode": "area",
          "sizeref": 0.4,
          "symbol": "circle"
         },
         "mode": "markers",
         "name": "Kellogs",
         "orientation": "v",
         "showlegend": false,
         "type": "scatter",
         "x": [
          14,
          12,
          13,
          7,
          9,
          12,
          15
         ],
         "xaxis": "x3",
         "y": [
          33.17,
          35.78,
          32.21,
          58.35,
          29.92,
          39.26,
          31.23
         ],
         "yaxis": "y3"
        },
        {
         "hovertemplate": "<b>%{hovertext}</b><br><br>mfr=Kellogs<br>shelf=Bottom<br>type=Cold<br>sugars=%{x}<br>rating=%{y}<br>calories=%{marker.size}<extra></extra>",
         "hovertext": [
          "Corn Flakes",
          "Frosted Flakes",
          "Rice Krispies",
          "Special K"
         ],
         "legendgroup": "Kellogs",
         "marker": {
          "color": "#00cc96",
          "size": [
           100,
           110,
           110,
           110
          ],
          "sizemode": "area",
          "sizeref": 0.4,
          "symbol": "circle"
         },
         "mode": "markers",
         "name": "Kellogs",
         "orientation": "v",
         "showlegend": false,
         "type": "scatter",
         "x": [
          2,
          11,
          3,
          3
         ],
         "xaxis": "x",
         "y": [
          45.86,
          31.44,
          40.56,
          53.13
         ],
         "yaxis": "y"
        },
        {
         "hovertemplate": "<b>%{hovertext}</b><br><br>mfr=Ralston Purina<br>shelf=Top<br>type=Cold<br>sugars=%{x}<br>rating=%{y}<br>calories=%{marker.size}<extra></extra>",
         "hovertext": [
          "Almond Delight",
          "Double Chex",
          "Muesli Raisins, Dates, & Almonds",
          "Muesli Raisins, Peaches, & Pecans"
         ],
         "legendgroup": "Ralston Purina",
         "marker": {
          "color": "#ab63fa",
          "size": [
           110,
           100,
           150,
           150
          ],
          "sizemode": "area",
          "sizeref": 0.4,
          "symbol": "circle"
         },
         "mode": "markers",
         "name": "Ralston Purina",
         "orientation": "v",
         "showlegend": true,
         "type": "scatter",
         "x": [
          8,
          5,
          11,
          11
         ],
         "xaxis": "x5",
         "y": [
          34.38,
          44.33,
          37.14,
          34.14
         ],
         "yaxis": "y5"
        },
        {
         "hovertemplate": "<b>%{hovertext}</b><br><br>mfr=Ralston Purina<br>shelf=Bottom<br>type=Cold<br>sugars=%{x}<br>rating=%{y}<br>calories=%{marker.size}<extra></extra>",
         "hovertext": [
          "Bran Chex",
          "Corn Chex",
          "Rice Chex",
          "Wheat Chex"
         ],
         "legendgroup": "Ralston Purina",
         "marker": {
          "color": "#ab63fa",
          "size": [
           90,
           110,
           110,
           100
          ],
          "sizemode": "area",
          "sizeref": 0.4,
          "symbol": "circle"
         },
         "mode": "markers",
         "name": "Ralston Purina",
         "orientation": "v",
         "showlegend": false,
         "type": "scatter",
         "x": [
          6,
          3,
          2,
          3
         ],
         "xaxis": "x",
         "y": [
          49.12,
          41.45,
          42,
          49.79
         ],
         "yaxis": "y"
        },
        {
         "hovertemplate": "<b>%{hovertext}</b><br><br>mfr=General Mills<br>shelf=Top<br>type=Cold<br>sugars=%{x}<br>rating=%{y}<br>calories=%{marker.size}<extra></extra>",
         "hovertext": [
          "Basic 4",
          "Clusters",
          "Crispy Wheat & Raisins",
          "Oatmeal Raisin Crisp",
          "Raisin Nut Bran",
          "Total Corn Flakes",
          "Total Raisin Bran",
          "Total Whole Grain",
          "Triples"
         ],
         "legendgroup": "General Mills",
         "marker": {
          "color": "#FFA15A",
          "size": [
           130,
           110,
           100,
           130,
           100,
           110,
           140,
           100,
           110
          ],
          "sizemode": "area",
          "sizeref": 0.4,
          "symbol": "circle"
         },
         "mode": "markers",
         "name": "General Mills",
         "orientation": "v",
         "showlegend": true,
         "type": "scatter",
         "x": [
          8,
          7,
          10,
          10,
          8,
          3,
          14,
          3,
          3
         ],
         "xaxis": "x5",
         "y": [
          37.04,
          40.4,
          36.18,
          30.45,
          39.7,
          38.84,
          28.59,
          46.66,
          39.11
         ],
         "yaxis": "y5"
        },
        {
         "hovertemplate": "<b>%{hovertext}</b><br><br>mfr=General Mills<br>shelf=Middle<br>type=Cold<br>sugars=%{x}<br>rating=%{y}<br>calories=%{marker.size}<extra></extra>",
         "hovertext": [
          "Cinnamon Toast Crunch",
          "Cocoa Puffs",
          "Count Chocula",
          "Golden Grahams",
          "Kix",
          "Lucky Charms",
          "Trix"
         ],
         "legendgroup": "General Mills",
         "marker": {
          "color": "#FFA15A",
          "size": [
           120,
           110,
           110,
           110,
           110,
           110,
           110
          ],
          "sizemode": "area",
          "sizeref": 0.4,
          "symbol": "circle"
         },
         "mode": "markers",
         "name": "General Mills",
         "orientation": "v",
         "showlegend": false,
         "type": "scatter",
         "x": [
          9,
          13,
          13,
          9,
          3,
          12,
          12
         ],
         "xaxis": "x3",
         "y": [
          19.82,
          22.74,
          22.4,
          23.8,
          39.24,
          26.73,
          27.75
         ],
         "yaxis": "y3"
        },
        {
         "hovertemplate": "<b>%{hovertext}</b><br><br>mfr=General Mills<br>shelf=Bottom<br>type=Cold<br>sugars=%{x}<br>rating=%{y}<br>calories=%{marker.size}<extra></extra>",
         "hovertext": [
          "Apple Cinnamon Cheerios",
          "Cheerios",
          "Honey Nut Cheerios",
          "Multi-Grain Cheerios",
          "Wheaties",
          "Wheaties Honey Gold"
         ],
         "legendgroup": "General Mills",
         "marker": {
          "color": "#FFA15A",
          "size": [
           110,
           110,
           110,
           100,
           100,
           110
          ],
          "sizemode": "area",
          "sizeref": 0.4,
          "symbol": "circle"
         },
         "mode": "markers",
         "name": "General Mills",
         "orientation": "v",
         "showlegend": false,
         "type": "scatter",
         "x": [
          10,
          1,
          10,
          6,
          3,
          8
         ],
         "xaxis": "x",
         "y": [
          29.51,
          50.76,
          31.07,
          40.11,
          51.59,
          36.19
         ],
         "yaxis": "y"
        },
        {
         "hovertemplate": "<b>%{hovertext}</b><br><br>mfr=Post<br>shelf=Top<br>type=Cold<br>sugars=%{x}<br>rating=%{y}<br>calories=%{marker.size}<extra></extra>",
         "hovertext": [
          "Bran Flakes",
          "Fruit & Fibre Dates, Walnuts, and Oats",
          "Grape Nuts Flakes",
          "Grape-Nuts",
          "Great Grains Pecan",
          "Post Nat. Raisin Bran"
         ],
         "legendgroup": "Post",
         "marker": {
          "color": "#19d3f3",
          "size": [
           90,
           120,
           100,
           110,
           120,
           120
          ],
          "sizemode": "area",
          "sizeref": 0.4,
          "symbol": "circle"
         },
         "mode": "markers",
         "name": "Post",
         "orientation": "v",
         "showlegend": true,
         "type": "scatter",
         "x": [
          5,
          10,
          5,
          3,
          4,
          14
         ],
         "xaxis": "x5",
         "y": [
          53.31,
          40.92,
          52.08,
          53.37,
          45.81,
          37.84
         ],
         "yaxis": "y5"
        },
        {
         "hovertemplate": "<b>%{hovertext}</b><br><br>mfr=Post<br>shelf=Middle<br>type=Cold<br>sugars=%{x}<br>rating=%{y}<br>calories=%{marker.size}<extra></extra>",
         "hovertext": [
          "Fruity Pebbles"
         ],
         "legendgroup": "Post",
         "marker": {
          "color": "#19d3f3",
          "size": [
           110
          ],
          "sizemode": "area",
          "sizeref": 0.4,
          "symbol": "circle"
         },
         "mode": "markers",
         "name": "Post",
         "orientation": "v",
         "showlegend": false,
         "type": "scatter",
         "x": [
          12
         ],
         "xaxis": "x3",
         "y": [
          28.03
         ],
         "yaxis": "y3"
        },
        {
         "hovertemplate": "<b>%{hovertext}</b><br><br>mfr=Post<br>shelf=Bottom<br>type=Cold<br>sugars=%{x}<br>rating=%{y}<br>calories=%{marker.size}<extra></extra>",
         "hovertext": [
          "Golden Crisp",
          "Honey-comb"
         ],
         "legendgroup": "Post",
         "marker": {
          "color": "#19d3f3",
          "size": [
           100,
           110
          ],
          "sizemode": "area",
          "sizeref": 0.4,
          "symbol": "circle"
         },
         "mode": "markers",
         "name": "Post",
         "orientation": "v",
         "showlegend": false,
         "type": "scatter",
         "x": [
          15,
          11
         ],
         "xaxis": "x",
         "y": [
          35.25,
          28.74
         ],
         "yaxis": "y"
        },
        {
         "hovertemplate": "<b>%{hovertext}</b><br><br>mfr=AM Home Food<br>shelf=Middle<br>type=Hot<br>sugars=%{x}<br>rating=%{y}<br>calories=%{marker.size}<extra></extra>",
         "hovertext": [
          "Maypo"
         ],
         "legendgroup": "AM Home Food",
         "marker": {
          "color": "#FF6692",
          "size": [
           100
          ],
          "sizemode": "area",
          "sizeref": 0.4,
          "symbol": "circle"
         },
         "mode": "markers",
         "name": "AM Home Food",
         "orientation": "v",
         "showlegend": true,
         "type": "scatter",
         "x": [
          3
         ],
         "xaxis": "x4",
         "y": [
          54.85
         ],
         "yaxis": "y4"
        }
       ],
       "layout": {
        "annotations": [
         {
          "font": {},
          "showarrow": false,
          "text": "type=Cold",
          "x": 0.24,
          "xanchor": "center",
          "xref": "paper",
          "y": 0.9999999999999998,
          "yanchor": "bottom",
          "yref": "paper"
         },
         {
          "font": {},
          "showarrow": false,
          "text": "type=Hot",
          "x": 0.74,
          "xanchor": "center",
          "xref": "paper",
          "y": 0.9999999999999998,
          "yanchor": "bottom",
          "yref": "paper"
         },
         {
          "font": {},
          "showarrow": false,
          "text": "shelf=Bottom",
          "textangle": 90,
          "x": 0.98,
          "xanchor": "left",
          "xref": "paper",
          "y": 0.15666666666666665,
          "yanchor": "middle",
          "yref": "paper"
         },
         {
          "font": {},
          "showarrow": false,
          "text": "shelf=Middle",
          "textangle": 90,
          "x": 0.98,
          "xanchor": "left",
          "xref": "paper",
          "y": 0.4999999999999999,
          "yanchor": "middle",
          "yref": "paper"
         },
         {
          "font": {},
          "showarrow": false,
          "text": "shelf=Top",
          "textangle": 90,
          "x": 0.98,
          "xanchor": "left",
          "xref": "paper",
          "y": 0.8433333333333332,
          "yanchor": "middle",
          "yref": "paper"
         }
        ],
        "legend": {
         "itemsizing": "constant",
         "title": {
          "text": "mfr"
         },
         "tracegroupgap": 0
        },
        "margin": {
         "t": 60
        },
        "template": {
         "data": {
          "bar": [
           {
            "error_x": {
             "color": "#2a3f5f"
            },
            "error_y": {
             "color": "#2a3f5f"
            },
            "marker": {
             "line": {
              "color": "#E5ECF6",
              "width": 0.5
             },
             "pattern": {
              "fillmode": "overlay",
              "size": 10,
              "solidity": 0.2
             }
            },
            "type": "bar"
           }
          ],
          "barpolar": [
           {
            "marker": {
             "line": {
              "color": "#E5ECF6",
              "width": 0.5
             },
             "pattern": {
              "fillmode": "overlay",
              "size": 10,
              "solidity": 0.2
             }
            },
            "type": "barpolar"
           }
          ],
          "carpet": [
           {
            "aaxis": {
             "endlinecolor": "#2a3f5f",
             "gridcolor": "white",
             "linecolor": "white",
             "minorgridcolor": "white",
             "startlinecolor": "#2a3f5f"
            },
            "baxis": {
             "endlinecolor": "#2a3f5f",
             "gridcolor": "white",
             "linecolor": "white",
             "minorgridcolor": "white",
             "startlinecolor": "#2a3f5f"
            },
            "type": "carpet"
           }
          ],
          "choropleth": [
           {
            "colorbar": {
             "outlinewidth": 0,
             "ticks": ""
            },
            "type": "choropleth"
           }
          ],
          "contour": [
           {
            "colorbar": {
             "outlinewidth": 0,
             "ticks": ""
            },
            "colorscale": [
             [
              0,
              "#0d0887"
             ],
             [
              0.1111111111111111,
              "#46039f"
             ],
             [
              0.2222222222222222,
              "#7201a8"
             ],
             [
              0.3333333333333333,
              "#9c179e"
             ],
             [
              0.4444444444444444,
              "#bd3786"
             ],
             [
              0.5555555555555556,
              "#d8576b"
             ],
             [
              0.6666666666666666,
              "#ed7953"
             ],
             [
              0.7777777777777778,
              "#fb9f3a"
             ],
             [
              0.8888888888888888,
              "#fdca26"
             ],
             [
              1,
              "#f0f921"
             ]
            ],
            "type": "contour"
           }
          ],
          "contourcarpet": [
           {
            "colorbar": {
             "outlinewidth": 0,
             "ticks": ""
            },
            "type": "contourcarpet"
           }
          ],
          "heatmap": [
           {
            "colorbar": {
             "outlinewidth": 0,
             "ticks": ""
            },
            "colorscale": [
             [
              0,
              "#0d0887"
             ],
             [
              0.1111111111111111,
              "#46039f"
             ],
             [
              0.2222222222222222,
              "#7201a8"
             ],
             [
              0.3333333333333333,
              "#9c179e"
             ],
             [
              0.4444444444444444,
              "#bd3786"
             ],
             [
              0.5555555555555556,
              "#d8576b"
             ],
             [
              0.6666666666666666,
              "#ed7953"
             ],
             [
              0.7777777777777778,
              "#fb9f3a"
             ],
             [
              0.8888888888888888,
              "#fdca26"
             ],
             [
              1,
              "#f0f921"
             ]
            ],
            "type": "heatmap"
           }
          ],
          "heatmapgl": [
           {
            "colorbar": {
             "outlinewidth": 0,
             "ticks": ""
            },
            "colorscale": [
             [
              0,
              "#0d0887"
             ],
             [
              0.1111111111111111,
              "#46039f"
             ],
             [
              0.2222222222222222,
              "#7201a8"
             ],
             [
              0.3333333333333333,
              "#9c179e"
             ],
             [
              0.4444444444444444,
              "#bd3786"
             ],
             [
              0.5555555555555556,
              "#d8576b"
             ],
             [
              0.6666666666666666,
              "#ed7953"
             ],
             [
              0.7777777777777778,
              "#fb9f3a"
             ],
             [
              0.8888888888888888,
              "#fdca26"
             ],
             [
              1,
              "#f0f921"
             ]
            ],
            "type": "heatmapgl"
           }
          ],
          "histogram": [
           {
            "marker": {
             "pattern": {
              "fillmode": "overlay",
              "size": 10,
              "solidity": 0.2
             }
            },
            "type": "histogram"
           }
          ],
          "histogram2d": [
           {
            "colorbar": {
             "outlinewidth": 0,
             "ticks": ""
            },
            "colorscale": [
             [
              0,
              "#0d0887"
             ],
             [
              0.1111111111111111,
              "#46039f"
             ],
             [
              0.2222222222222222,
              "#7201a8"
             ],
             [
              0.3333333333333333,
              "#9c179e"
             ],
             [
              0.4444444444444444,
              "#bd3786"
             ],
             [
              0.5555555555555556,
              "#d8576b"
             ],
             [
              0.6666666666666666,
              "#ed7953"
             ],
             [
              0.7777777777777778,
              "#fb9f3a"
             ],
             [
              0.8888888888888888,
              "#fdca26"
             ],
             [
              1,
              "#f0f921"
             ]
            ],
            "type": "histogram2d"
           }
          ],
          "histogram2dcontour": [
           {
            "colorbar": {
             "outlinewidth": 0,
             "ticks": ""
            },
            "colorscale": [
             [
              0,
              "#0d0887"
             ],
             [
              0.1111111111111111,
              "#46039f"
             ],
             [
              0.2222222222222222,
              "#7201a8"
             ],
             [
              0.3333333333333333,
              "#9c179e"
             ],
             [
              0.4444444444444444,
              "#bd3786"
             ],
             [
              0.5555555555555556,
              "#d8576b"
             ],
             [
              0.6666666666666666,
              "#ed7953"
             ],
             [
              0.7777777777777778,
              "#fb9f3a"
             ],
             [
              0.8888888888888888,
              "#fdca26"
             ],
             [
              1,
              "#f0f921"
             ]
            ],
            "type": "histogram2dcontour"
           }
          ],
          "mesh3d": [
           {
            "colorbar": {
             "outlinewidth": 0,
             "ticks": ""
            },
            "type": "mesh3d"
           }
          ],
          "parcoords": [
           {
            "line": {
             "colorbar": {
              "outlinewidth": 0,
              "ticks": ""
             }
            },
            "type": "parcoords"
           }
          ],
          "pie": [
           {
            "automargin": true,
            "type": "pie"
           }
          ],
          "scatter": [
           {
            "fillpattern": {
             "fillmode": "overlay",
             "size": 10,
             "solidity": 0.2
            },
            "type": "scatter"
           }
          ],
          "scatter3d": [
           {
            "line": {
             "colorbar": {
              "outlinewidth": 0,
              "ticks": ""
             }
            },
            "marker": {
             "colorbar": {
              "outlinewidth": 0,
              "ticks": ""
             }
            },
            "type": "scatter3d"
           }
          ],
          "scattercarpet": [
           {
            "marker": {
             "colorbar": {
              "outlinewidth": 0,
              "ticks": ""
             }
            },
            "type": "scattercarpet"
           }
          ],
          "scattergeo": [
           {
            "marker": {
             "colorbar": {
              "outlinewidth": 0,
              "ticks": ""
             }
            },
            "type": "scattergeo"
           }
          ],
          "scattergl": [
           {
            "marker": {
             "colorbar": {
              "outlinewidth": 0,
              "ticks": ""
             }
            },
            "type": "scattergl"
           }
          ],
          "scattermapbox": [
           {
            "marker": {
             "colorbar": {
              "outlinewidth": 0,
              "ticks": ""
             }
            },
            "type": "scattermapbox"
           }
          ],
          "scatterpolar": [
           {
            "marker": {
             "colorbar": {
              "outlinewidth": 0,
              "ticks": ""
             }
            },
            "type": "scatterpolar"
           }
          ],
          "scatterpolargl": [
           {
            "marker": {
             "colorbar": {
              "outlinewidth": 0,
              "ticks": ""
             }
            },
            "type": "scatterpolargl"
           }
          ],
          "scatterternary": [
           {
            "marker": {
             "colorbar": {
              "outlinewidth": 0,
              "ticks": ""
             }
            },
            "type": "scatterternary"
           }
          ],
          "surface": [
           {
            "colorbar": {
             "outlinewidth": 0,
             "ticks": ""
            },
            "colorscale": [
             [
              0,
              "#0d0887"
             ],
             [
              0.1111111111111111,
              "#46039f"
             ],
             [
              0.2222222222222222,
              "#7201a8"
             ],
             [
              0.3333333333333333,
              "#9c179e"
             ],
             [
              0.4444444444444444,
              "#bd3786"
             ],
             [
              0.5555555555555556,
              "#d8576b"
             ],
             [
              0.6666666666666666,
              "#ed7953"
             ],
             [
              0.7777777777777778,
              "#fb9f3a"
             ],
             [
              0.8888888888888888,
              "#fdca26"
             ],
             [
              1,
              "#f0f921"
             ]
            ],
            "type": "surface"
           }
          ],
          "table": [
           {
            "cells": {
             "fill": {
              "color": "#EBF0F8"
             },
             "line": {
              "color": "white"
             }
            },
            "header": {
             "fill": {
              "color": "#C8D4E3"
             },
             "line": {
              "color": "white"
             }
            },
            "type": "table"
           }
          ]
         },
         "layout": {
          "annotationdefaults": {
           "arrowcolor": "#2a3f5f",
           "arrowhead": 0,
           "arrowwidth": 1
          },
          "autotypenumbers": "strict",
          "coloraxis": {
           "colorbar": {
            "outlinewidth": 0,
            "ticks": ""
           }
          },
          "colorscale": {
           "diverging": [
            [
             0,
             "#8e0152"
            ],
            [
             0.1,
             "#c51b7d"
            ],
            [
             0.2,
             "#de77ae"
            ],
            [
             0.3,
             "#f1b6da"
            ],
            [
             0.4,
             "#fde0ef"
            ],
            [
             0.5,
             "#f7f7f7"
            ],
            [
             0.6,
             "#e6f5d0"
            ],
            [
             0.7,
             "#b8e186"
            ],
            [
             0.8,
             "#7fbc41"
            ],
            [
             0.9,
             "#4d9221"
            ],
            [
             1,
             "#276419"
            ]
           ],
           "sequential": [
            [
             0,
             "#0d0887"
            ],
            [
             0.1111111111111111,
             "#46039f"
            ],
            [
             0.2222222222222222,
             "#7201a8"
            ],
            [
             0.3333333333333333,
             "#9c179e"
            ],
            [
             0.4444444444444444,
             "#bd3786"
            ],
            [
             0.5555555555555556,
             "#d8576b"
            ],
            [
             0.6666666666666666,
             "#ed7953"
            ],
            [
             0.7777777777777778,
             "#fb9f3a"
            ],
            [
             0.8888888888888888,
             "#fdca26"
            ],
            [
             1,
             "#f0f921"
            ]
           ],
           "sequentialminus": [
            [
             0,
             "#0d0887"
            ],
            [
             0.1111111111111111,
             "#46039f"
            ],
            [
             0.2222222222222222,
             "#7201a8"
            ],
            [
             0.3333333333333333,
             "#9c179e"
            ],
            [
             0.4444444444444444,
             "#bd3786"
            ],
            [
             0.5555555555555556,
             "#d8576b"
            ],
            [
             0.6666666666666666,
             "#ed7953"
            ],
            [
             0.7777777777777778,
             "#fb9f3a"
            ],
            [
             0.8888888888888888,
             "#fdca26"
            ],
            [
             1,
             "#f0f921"
            ]
           ]
          },
          "colorway": [
           "#636efa",
           "#EF553B",
           "#00cc96",
           "#ab63fa",
           "#FFA15A",
           "#19d3f3",
           "#FF6692",
           "#B6E880",
           "#FF97FF",
           "#FECB52"
          ],
          "font": {
           "color": "#2a3f5f"
          },
          "geo": {
           "bgcolor": "white",
           "lakecolor": "white",
           "landcolor": "#E5ECF6",
           "showlakes": true,
           "showland": true,
           "subunitcolor": "white"
          },
          "hoverlabel": {
           "align": "left"
          },
          "hovermode": "closest",
          "mapbox": {
           "style": "light"
          },
          "paper_bgcolor": "white",
          "plot_bgcolor": "#E5ECF6",
          "polar": {
           "angularaxis": {
            "gridcolor": "white",
            "linecolor": "white",
            "ticks": ""
           },
           "bgcolor": "#E5ECF6",
           "radialaxis": {
            "gridcolor": "white",
            "linecolor": "white",
            "ticks": ""
           }
          },
          "scene": {
           "xaxis": {
            "backgroundcolor": "#E5ECF6",
            "gridcolor": "white",
            "gridwidth": 2,
            "linecolor": "white",
            "showbackground": true,
            "ticks": "",
            "zerolinecolor": "white"
           },
           "yaxis": {
            "backgroundcolor": "#E5ECF6",
            "gridcolor": "white",
            "gridwidth": 2,
            "linecolor": "white",
            "showbackground": true,
            "ticks": "",
            "zerolinecolor": "white"
           },
           "zaxis": {
            "backgroundcolor": "#E5ECF6",
            "gridcolor": "white",
            "gridwidth": 2,
            "linecolor": "white",
            "showbackground": true,
            "ticks": "",
            "zerolinecolor": "white"
           }
          },
          "shapedefaults": {
           "line": {
            "color": "#2a3f5f"
           }
          },
          "ternary": {
           "aaxis": {
            "gridcolor": "white",
            "linecolor": "white",
            "ticks": ""
           },
           "baxis": {
            "gridcolor": "white",
            "linecolor": "white",
            "ticks": ""
           },
           "bgcolor": "#E5ECF6",
           "caxis": {
            "gridcolor": "white",
            "linecolor": "white",
            "ticks": ""
           }
          },
          "title": {
           "x": 0.05
          },
          "xaxis": {
           "automargin": true,
           "gridcolor": "white",
           "linecolor": "white",
           "ticks": "",
           "title": {
            "standoff": 15
           },
           "zerolinecolor": "white",
           "zerolinewidth": 2
          },
          "yaxis": {
           "automargin": true,
           "gridcolor": "white",
           "linecolor": "white",
           "ticks": "",
           "title": {
            "standoff": 15
           },
           "zerolinecolor": "white",
           "zerolinewidth": 2
          }
         }
        },
        "xaxis": {
         "anchor": "y",
         "domain": [
          0,
          0.48
         ],
         "title": {
          "text": "sugars"
         }
        },
        "xaxis2": {
         "anchor": "y2",
         "domain": [
          0.5,
          0.98
         ],
         "matches": "x",
         "title": {
          "text": "sugars"
         }
        },
        "xaxis3": {
         "anchor": "y3",
         "domain": [
          0,
          0.48
         ],
         "matches": "x",
         "showticklabels": false
        },
        "xaxis4": {
         "anchor": "y4",
         "domain": [
          0.5,
          0.98
         ],
         "matches": "x",
         "showticklabels": false
        },
        "xaxis5": {
         "anchor": "y5",
         "domain": [
          0,
          0.48
         ],
         "matches": "x",
         "showticklabels": false
        },
        "xaxis6": {
         "anchor": "y6",
         "domain": [
          0.5,
          0.98
         ],
         "matches": "x",
         "showticklabels": false
        },
        "yaxis": {
         "anchor": "x",
         "domain": [
          0,
          0.3133333333333333
         ],
         "title": {
          "text": "rating"
         }
        },
        "yaxis2": {
         "anchor": "x2",
         "domain": [
          0,
          0.3133333333333333
         ],
         "matches": "y",
         "showticklabels": false
        },
        "yaxis3": {
         "anchor": "x3",
         "domain": [
          0.34333333333333327,
          0.6566666666666665
         ],
         "matches": "y",
         "title": {
          "text": "rating"
         }
        },
        "yaxis4": {
         "anchor": "x4",
         "domain": [
          0.34333333333333327,
          0.6566666666666665
         ],
         "matches": "y",
         "showticklabels": false
        },
        "yaxis5": {
         "anchor": "x5",
         "domain": [
          0.6866666666666665,
          0.9999999999999998
         ],
         "matches": "y",
         "title": {
          "text": "rating"
         }
        },
        "yaxis6": {
         "anchor": "x6",
         "domain": [
          0.6866666666666665,
          0.9999999999999998
         ],
         "matches": "y",
         "showticklabels": false
        }
       }
      }
     },
     "metadata": {},
     "output_type": "display_data"
    }
   ],
   "source": [
    "fig = px.scatter(df, x='sugars', \n",
    "                 y='rating', \n",
    "                 color='mfr', \n",
    "                 size='calories', \n",
    "                 facet_row = 'shelf',\n",
    "                 facet_col='type', \n",
    "                 hover_name='name',\n",
    "                 category_orders={'shelf':['Top', 'Middle', 'Bottom']}\n",
    "                 )\n",
    "\n",
    "fig.show()"
   ]
  },
  {
   "cell_type": "markdown",
   "metadata": {},
   "source": [
    "### 히스토그램\n",
    "px.histogram()\n",
    "최적화된 값으로 적절히 구간을 나눈다."
   ]
  },
  {
   "cell_type": "code",
   "execution_count": 21,
   "metadata": {},
   "outputs": [
    {
     "data": {
      "application/vnd.plotly.v1+json": {
       "config": {
        "plotlyServerURL": "https://plot.ly"
       },
       "data": [
        {
         "alignmentgroup": "True",
         "bingroup": "x",
         "hovertemplate": "rating=%{x}<br>count=%{y}<extra></extra>",
         "legendgroup": "",
         "marker": {
          "color": "#636efa",
          "pattern": {
           "shape": ""
          }
         },
         "name": "",
         "offsetgroup": "",
         "orientation": "v",
         "showlegend": false,
         "type": "histogram",
         "x": [
          68.4,
          33.98,
          59.43,
          93.7,
          34.38,
          29.51,
          33.17,
          37.04,
          49.12,
          53.31,
          18.04,
          50.76,
          19.82,
          40.4,
          22.74,
          41.45,
          45.86,
          35.78,
          22.4,
          40.45,
          64.53,
          46.9,
          36.18,
          44.33,
          32.21,
          31.44,
          58.35,
          40.92,
          41.02,
          28.03,
          35.25,
          23.8,
          52.08,
          53.37,
          45.81,
          21.87,
          31.07,
          28.74,
          36.52,
          36.47,
          39.24,
          45.33,
          26.73,
          54.85,
          37.14,
          34.14,
          30.31,
          40.11,
          29.92,
          40.69,
          59.64,
          30.45,
          37.84,
          41.5,
          60.76,
          63.01,
          49.51,
          50.83,
          39.26,
          39.7,
          55.33,
          42,
          40.56,
          68.24,
          74.47,
          72.8,
          31.23,
          53.13,
          59.36,
          38.84,
          28.59,
          46.66,
          39.11,
          27.75,
          49.79,
          51.59,
          36.19
         ],
         "xaxis": "x",
         "yaxis": "y"
        }
       ],
       "layout": {
        "barmode": "relative",
        "legend": {
         "tracegroupgap": 0
        },
        "template": {
         "data": {
          "bar": [
           {
            "error_x": {
             "color": "#2a3f5f"
            },
            "error_y": {
             "color": "#2a3f5f"
            },
            "marker": {
             "line": {
              "color": "#E5ECF6",
              "width": 0.5
             },
             "pattern": {
              "fillmode": "overlay",
              "size": 10,
              "solidity": 0.2
             }
            },
            "type": "bar"
           }
          ],
          "barpolar": [
           {
            "marker": {
             "line": {
              "color": "#E5ECF6",
              "width": 0.5
             },
             "pattern": {
              "fillmode": "overlay",
              "size": 10,
              "solidity": 0.2
             }
            },
            "type": "barpolar"
           }
          ],
          "carpet": [
           {
            "aaxis": {
             "endlinecolor": "#2a3f5f",
             "gridcolor": "white",
             "linecolor": "white",
             "minorgridcolor": "white",
             "startlinecolor": "#2a3f5f"
            },
            "baxis": {
             "endlinecolor": "#2a3f5f",
             "gridcolor": "white",
             "linecolor": "white",
             "minorgridcolor": "white",
             "startlinecolor": "#2a3f5f"
            },
            "type": "carpet"
           }
          ],
          "choropleth": [
           {
            "colorbar": {
             "outlinewidth": 0,
             "ticks": ""
            },
            "type": "choropleth"
           }
          ],
          "contour": [
           {
            "colorbar": {
             "outlinewidth": 0,
             "ticks": ""
            },
            "colorscale": [
             [
              0,
              "#0d0887"
             ],
             [
              0.1111111111111111,
              "#46039f"
             ],
             [
              0.2222222222222222,
              "#7201a8"
             ],
             [
              0.3333333333333333,
              "#9c179e"
             ],
             [
              0.4444444444444444,
              "#bd3786"
             ],
             [
              0.5555555555555556,
              "#d8576b"
             ],
             [
              0.6666666666666666,
              "#ed7953"
             ],
             [
              0.7777777777777778,
              "#fb9f3a"
             ],
             [
              0.8888888888888888,
              "#fdca26"
             ],
             [
              1,
              "#f0f921"
             ]
            ],
            "type": "contour"
           }
          ],
          "contourcarpet": [
           {
            "colorbar": {
             "outlinewidth": 0,
             "ticks": ""
            },
            "type": "contourcarpet"
           }
          ],
          "heatmap": [
           {
            "colorbar": {
             "outlinewidth": 0,
             "ticks": ""
            },
            "colorscale": [
             [
              0,
              "#0d0887"
             ],
             [
              0.1111111111111111,
              "#46039f"
             ],
             [
              0.2222222222222222,
              "#7201a8"
             ],
             [
              0.3333333333333333,
              "#9c179e"
             ],
             [
              0.4444444444444444,
              "#bd3786"
             ],
             [
              0.5555555555555556,
              "#d8576b"
             ],
             [
              0.6666666666666666,
              "#ed7953"
             ],
             [
              0.7777777777777778,
              "#fb9f3a"
             ],
             [
              0.8888888888888888,
              "#fdca26"
             ],
             [
              1,
              "#f0f921"
             ]
            ],
            "type": "heatmap"
           }
          ],
          "heatmapgl": [
           {
            "colorbar": {
             "outlinewidth": 0,
             "ticks": ""
            },
            "colorscale": [
             [
              0,
              "#0d0887"
             ],
             [
              0.1111111111111111,
              "#46039f"
             ],
             [
              0.2222222222222222,
              "#7201a8"
             ],
             [
              0.3333333333333333,
              "#9c179e"
             ],
             [
              0.4444444444444444,
              "#bd3786"
             ],
             [
              0.5555555555555556,
              "#d8576b"
             ],
             [
              0.6666666666666666,
              "#ed7953"
             ],
             [
              0.7777777777777778,
              "#fb9f3a"
             ],
             [
              0.8888888888888888,
              "#fdca26"
             ],
             [
              1,
              "#f0f921"
             ]
            ],
            "type": "heatmapgl"
           }
          ],
          "histogram": [
           {
            "marker": {
             "pattern": {
              "fillmode": "overlay",
              "size": 10,
              "solidity": 0.2
             }
            },
            "type": "histogram"
           }
          ],
          "histogram2d": [
           {
            "colorbar": {
             "outlinewidth": 0,
             "ticks": ""
            },
            "colorscale": [
             [
              0,
              "#0d0887"
             ],
             [
              0.1111111111111111,
              "#46039f"
             ],
             [
              0.2222222222222222,
              "#7201a8"
             ],
             [
              0.3333333333333333,
              "#9c179e"
             ],
             [
              0.4444444444444444,
              "#bd3786"
             ],
             [
              0.5555555555555556,
              "#d8576b"
             ],
             [
              0.6666666666666666,
              "#ed7953"
             ],
             [
              0.7777777777777778,
              "#fb9f3a"
             ],
             [
              0.8888888888888888,
              "#fdca26"
             ],
             [
              1,
              "#f0f921"
             ]
            ],
            "type": "histogram2d"
           }
          ],
          "histogram2dcontour": [
           {
            "colorbar": {
             "outlinewidth": 0,
             "ticks": ""
            },
            "colorscale": [
             [
              0,
              "#0d0887"
             ],
             [
              0.1111111111111111,
              "#46039f"
             ],
             [
              0.2222222222222222,
              "#7201a8"
             ],
             [
              0.3333333333333333,
              "#9c179e"
             ],
             [
              0.4444444444444444,
              "#bd3786"
             ],
             [
              0.5555555555555556,
              "#d8576b"
             ],
             [
              0.6666666666666666,
              "#ed7953"
             ],
             [
              0.7777777777777778,
              "#fb9f3a"
             ],
             [
              0.8888888888888888,
              "#fdca26"
             ],
             [
              1,
              "#f0f921"
             ]
            ],
            "type": "histogram2dcontour"
           }
          ],
          "mesh3d": [
           {
            "colorbar": {
             "outlinewidth": 0,
             "ticks": ""
            },
            "type": "mesh3d"
           }
          ],
          "parcoords": [
           {
            "line": {
             "colorbar": {
              "outlinewidth": 0,
              "ticks": ""
             }
            },
            "type": "parcoords"
           }
          ],
          "pie": [
           {
            "automargin": true,
            "type": "pie"
           }
          ],
          "scatter": [
           {
            "fillpattern": {
             "fillmode": "overlay",
             "size": 10,
             "solidity": 0.2
            },
            "type": "scatter"
           }
          ],
          "scatter3d": [
           {
            "line": {
             "colorbar": {
              "outlinewidth": 0,
              "ticks": ""
             }
            },
            "marker": {
             "colorbar": {
              "outlinewidth": 0,
              "ticks": ""
             }
            },
            "type": "scatter3d"
           }
          ],
          "scattercarpet": [
           {
            "marker": {
             "colorbar": {
              "outlinewidth": 0,
              "ticks": ""
             }
            },
            "type": "scattercarpet"
           }
          ],
          "scattergeo": [
           {
            "marker": {
             "colorbar": {
              "outlinewidth": 0,
              "ticks": ""
             }
            },
            "type": "scattergeo"
           }
          ],
          "scattergl": [
           {
            "marker": {
             "colorbar": {
              "outlinewidth": 0,
              "ticks": ""
             }
            },
            "type": "scattergl"
           }
          ],
          "scattermapbox": [
           {
            "marker": {
             "colorbar": {
              "outlinewidth": 0,
              "ticks": ""
             }
            },
            "type": "scattermapbox"
           }
          ],
          "scatterpolar": [
           {
            "marker": {
             "colorbar": {
              "outlinewidth": 0,
              "ticks": ""
             }
            },
            "type": "scatterpolar"
           }
          ],
          "scatterpolargl": [
           {
            "marker": {
             "colorbar": {
              "outlinewidth": 0,
              "ticks": ""
             }
            },
            "type": "scatterpolargl"
           }
          ],
          "scatterternary": [
           {
            "marker": {
             "colorbar": {
              "outlinewidth": 0,
              "ticks": ""
             }
            },
            "type": "scatterternary"
           }
          ],
          "surface": [
           {
            "colorbar": {
             "outlinewidth": 0,
             "ticks": ""
            },
            "colorscale": [
             [
              0,
              "#0d0887"
             ],
             [
              0.1111111111111111,
              "#46039f"
             ],
             [
              0.2222222222222222,
              "#7201a8"
             ],
             [
              0.3333333333333333,
              "#9c179e"
             ],
             [
              0.4444444444444444,
              "#bd3786"
             ],
             [
              0.5555555555555556,
              "#d8576b"
             ],
             [
              0.6666666666666666,
              "#ed7953"
             ],
             [
              0.7777777777777778,
              "#fb9f3a"
             ],
             [
              0.8888888888888888,
              "#fdca26"
             ],
             [
              1,
              "#f0f921"
             ]
            ],
            "type": "surface"
           }
          ],
          "table": [
           {
            "cells": {
             "fill": {
              "color": "#EBF0F8"
             },
             "line": {
              "color": "white"
             }
            },
            "header": {
             "fill": {
              "color": "#C8D4E3"
             },
             "line": {
              "color": "white"
             }
            },
            "type": "table"
           }
          ]
         },
         "layout": {
          "annotationdefaults": {
           "arrowcolor": "#2a3f5f",
           "arrowhead": 0,
           "arrowwidth": 1
          },
          "autotypenumbers": "strict",
          "coloraxis": {
           "colorbar": {
            "outlinewidth": 0,
            "ticks": ""
           }
          },
          "colorscale": {
           "diverging": [
            [
             0,
             "#8e0152"
            ],
            [
             0.1,
             "#c51b7d"
            ],
            [
             0.2,
             "#de77ae"
            ],
            [
             0.3,
             "#f1b6da"
            ],
            [
             0.4,
             "#fde0ef"
            ],
            [
             0.5,
             "#f7f7f7"
            ],
            [
             0.6,
             "#e6f5d0"
            ],
            [
             0.7,
             "#b8e186"
            ],
            [
             0.8,
             "#7fbc41"
            ],
            [
             0.9,
             "#4d9221"
            ],
            [
             1,
             "#276419"
            ]
           ],
           "sequential": [
            [
             0,
             "#0d0887"
            ],
            [
             0.1111111111111111,
             "#46039f"
            ],
            [
             0.2222222222222222,
             "#7201a8"
            ],
            [
             0.3333333333333333,
             "#9c179e"
            ],
            [
             0.4444444444444444,
             "#bd3786"
            ],
            [
             0.5555555555555556,
             "#d8576b"
            ],
            [
             0.6666666666666666,
             "#ed7953"
            ],
            [
             0.7777777777777778,
             "#fb9f3a"
            ],
            [
             0.8888888888888888,
             "#fdca26"
            ],
            [
             1,
             "#f0f921"
            ]
           ],
           "sequentialminus": [
            [
             0,
             "#0d0887"
            ],
            [
             0.1111111111111111,
             "#46039f"
            ],
            [
             0.2222222222222222,
             "#7201a8"
            ],
            [
             0.3333333333333333,
             "#9c179e"
            ],
            [
             0.4444444444444444,
             "#bd3786"
            ],
            [
             0.5555555555555556,
             "#d8576b"
            ],
            [
             0.6666666666666666,
             "#ed7953"
            ],
            [
             0.7777777777777778,
             "#fb9f3a"
            ],
            [
             0.8888888888888888,
             "#fdca26"
            ],
            [
             1,
             "#f0f921"
            ]
           ]
          },
          "colorway": [
           "#636efa",
           "#EF553B",
           "#00cc96",
           "#ab63fa",
           "#FFA15A",
           "#19d3f3",
           "#FF6692",
           "#B6E880",
           "#FF97FF",
           "#FECB52"
          ],
          "font": {
           "color": "#2a3f5f"
          },
          "geo": {
           "bgcolor": "white",
           "lakecolor": "white",
           "landcolor": "#E5ECF6",
           "showlakes": true,
           "showland": true,
           "subunitcolor": "white"
          },
          "hoverlabel": {
           "align": "left"
          },
          "hovermode": "closest",
          "mapbox": {
           "style": "light"
          },
          "paper_bgcolor": "white",
          "plot_bgcolor": "#E5ECF6",
          "polar": {
           "angularaxis": {
            "gridcolor": "white",
            "linecolor": "white",
            "ticks": ""
           },
           "bgcolor": "#E5ECF6",
           "radialaxis": {
            "gridcolor": "white",
            "linecolor": "white",
            "ticks": ""
           }
          },
          "scene": {
           "xaxis": {
            "backgroundcolor": "#E5ECF6",
            "gridcolor": "white",
            "gridwidth": 2,
            "linecolor": "white",
            "showbackground": true,
            "ticks": "",
            "zerolinecolor": "white"
           },
           "yaxis": {
            "backgroundcolor": "#E5ECF6",
            "gridcolor": "white",
            "gridwidth": 2,
            "linecolor": "white",
            "showbackground": true,
            "ticks": "",
            "zerolinecolor": "white"
           },
           "zaxis": {
            "backgroundcolor": "#E5ECF6",
            "gridcolor": "white",
            "gridwidth": 2,
            "linecolor": "white",
            "showbackground": true,
            "ticks": "",
            "zerolinecolor": "white"
           }
          },
          "shapedefaults": {
           "line": {
            "color": "#2a3f5f"
           }
          },
          "ternary": {
           "aaxis": {
            "gridcolor": "white",
            "linecolor": "white",
            "ticks": ""
           },
           "baxis": {
            "gridcolor": "white",
            "linecolor": "white",
            "ticks": ""
           },
           "bgcolor": "#E5ECF6",
           "caxis": {
            "gridcolor": "white",
            "linecolor": "white",
            "ticks": ""
           }
          },
          "title": {
           "x": 0.05
          },
          "xaxis": {
           "automargin": true,
           "gridcolor": "white",
           "linecolor": "white",
           "ticks": "",
           "title": {
            "standoff": 15
           },
           "zerolinecolor": "white",
           "zerolinewidth": 2
          },
          "yaxis": {
           "automargin": true,
           "gridcolor": "white",
           "linecolor": "white",
           "ticks": "",
           "title": {
            "standoff": 15
           },
           "zerolinecolor": "white",
           "zerolinewidth": 2
          }
         }
        },
        "title": {
         "text": "Rating distribution"
        },
        "xaxis": {
         "anchor": "y",
         "domain": [
          0,
          1
         ],
         "title": {
          "text": "rating"
         }
        },
        "yaxis": {
         "anchor": "x",
         "domain": [
          0,
          1
         ],
         "title": {
          "text": "count"
         }
        }
       }
      }
     },
     "metadata": {},
     "output_type": "display_data"
    }
   ],
   "source": [
    "fig = px.histogram(df, x='rating', title='Rating distribution',)\n",
    "fig.show()"
   ]
  },
  {
   "cell_type": "markdown",
   "metadata": {},
   "source": [
    "### 도넛 그래프\n",
    "px.sunburst()"
   ]
  },
  {
   "cell_type": "code",
   "execution_count": 22,
   "metadata": {},
   "outputs": [
    {
     "data": {
      "application/vnd.plotly.v1+json": {
       "config": {
        "plotlyServerURL": "https://plot.ly"
       },
       "data": [
        {
         "branchvalues": "total",
         "domain": {
          "x": [
           0,
           1
          ],
          "y": [
           0,
           1
          ]
         },
         "hovertemplate": "labels=%{label}<br>cereal=%{value}<br>parent=%{parent}<br>id=%{id}<extra></extra>",
         "ids": [
          "General Mills/Bottom",
          "Kellogs/Bottom",
          "Nabisco/Bottom",
          "Post/Bottom",
          "Quaker Oats/Bottom",
          "Ralston Purina/Bottom",
          "AM Home Food/Middle",
          "General Mills/Middle",
          "Kellogs/Middle",
          "Nabisco/Middle",
          "Post/Middle",
          "Quaker Oats/Middle",
          "General Mills/Top",
          "Kellogs/Top",
          "Nabisco/Top",
          "Post/Top",
          "Quaker Oats/Top",
          "Ralston Purina/Top",
          "AM Home Food",
          "General Mills",
          "Kellogs",
          "Nabisco",
          "Post",
          "Quaker Oats",
          "Ralston Purina"
         ],
         "labels": [
          "Bottom",
          "Bottom",
          "Bottom",
          "Bottom",
          "Bottom",
          "Bottom",
          "Middle",
          "Middle",
          "Middle",
          "Middle",
          "Middle",
          "Middle",
          "Top",
          "Top",
          "Top",
          "Top",
          "Top",
          "Top",
          "AM Home Food",
          "General Mills",
          "Kellogs",
          "Nabisco",
          "Post",
          "Quaker Oats",
          "Ralston Purina"
         ],
         "name": "",
         "parents": [
          "General Mills",
          "Kellogs",
          "Nabisco",
          "Post",
          "Quaker Oats",
          "Ralston Purina",
          "AM Home Food",
          "General Mills",
          "Kellogs",
          "Nabisco",
          "Post",
          "Quaker Oats",
          "General Mills",
          "Kellogs",
          "Nabisco",
          "Post",
          "Quaker Oats",
          "Ralston Purina",
          "",
          "",
          "",
          "",
          "",
          "",
          ""
         ],
         "type": "sunburst",
         "values": [
          6,
          4,
          3,
          2,
          1,
          4,
          1,
          7,
          7,
          2,
          1,
          3,
          9,
          12,
          1,
          6,
          4,
          4,
          1,
          22,
          23,
          6,
          9,
          8,
          8
         ]
        }
       ],
       "layout": {
        "legend": {
         "tracegroupgap": 0
        },
        "margin": {
         "t": 60
        },
        "template": {
         "data": {
          "bar": [
           {
            "error_x": {
             "color": "#2a3f5f"
            },
            "error_y": {
             "color": "#2a3f5f"
            },
            "marker": {
             "line": {
              "color": "#E5ECF6",
              "width": 0.5
             },
             "pattern": {
              "fillmode": "overlay",
              "size": 10,
              "solidity": 0.2
             }
            },
            "type": "bar"
           }
          ],
          "barpolar": [
           {
            "marker": {
             "line": {
              "color": "#E5ECF6",
              "width": 0.5
             },
             "pattern": {
              "fillmode": "overlay",
              "size": 10,
              "solidity": 0.2
             }
            },
            "type": "barpolar"
           }
          ],
          "carpet": [
           {
            "aaxis": {
             "endlinecolor": "#2a3f5f",
             "gridcolor": "white",
             "linecolor": "white",
             "minorgridcolor": "white",
             "startlinecolor": "#2a3f5f"
            },
            "baxis": {
             "endlinecolor": "#2a3f5f",
             "gridcolor": "white",
             "linecolor": "white",
             "minorgridcolor": "white",
             "startlinecolor": "#2a3f5f"
            },
            "type": "carpet"
           }
          ],
          "choropleth": [
           {
            "colorbar": {
             "outlinewidth": 0,
             "ticks": ""
            },
            "type": "choropleth"
           }
          ],
          "contour": [
           {
            "colorbar": {
             "outlinewidth": 0,
             "ticks": ""
            },
            "colorscale": [
             [
              0,
              "#0d0887"
             ],
             [
              0.1111111111111111,
              "#46039f"
             ],
             [
              0.2222222222222222,
              "#7201a8"
             ],
             [
              0.3333333333333333,
              "#9c179e"
             ],
             [
              0.4444444444444444,
              "#bd3786"
             ],
             [
              0.5555555555555556,
              "#d8576b"
             ],
             [
              0.6666666666666666,
              "#ed7953"
             ],
             [
              0.7777777777777778,
              "#fb9f3a"
             ],
             [
              0.8888888888888888,
              "#fdca26"
             ],
             [
              1,
              "#f0f921"
             ]
            ],
            "type": "contour"
           }
          ],
          "contourcarpet": [
           {
            "colorbar": {
             "outlinewidth": 0,
             "ticks": ""
            },
            "type": "contourcarpet"
           }
          ],
          "heatmap": [
           {
            "colorbar": {
             "outlinewidth": 0,
             "ticks": ""
            },
            "colorscale": [
             [
              0,
              "#0d0887"
             ],
             [
              0.1111111111111111,
              "#46039f"
             ],
             [
              0.2222222222222222,
              "#7201a8"
             ],
             [
              0.3333333333333333,
              "#9c179e"
             ],
             [
              0.4444444444444444,
              "#bd3786"
             ],
             [
              0.5555555555555556,
              "#d8576b"
             ],
             [
              0.6666666666666666,
              "#ed7953"
             ],
             [
              0.7777777777777778,
              "#fb9f3a"
             ],
             [
              0.8888888888888888,
              "#fdca26"
             ],
             [
              1,
              "#f0f921"
             ]
            ],
            "type": "heatmap"
           }
          ],
          "heatmapgl": [
           {
            "colorbar": {
             "outlinewidth": 0,
             "ticks": ""
            },
            "colorscale": [
             [
              0,
              "#0d0887"
             ],
             [
              0.1111111111111111,
              "#46039f"
             ],
             [
              0.2222222222222222,
              "#7201a8"
             ],
             [
              0.3333333333333333,
              "#9c179e"
             ],
             [
              0.4444444444444444,
              "#bd3786"
             ],
             [
              0.5555555555555556,
              "#d8576b"
             ],
             [
              0.6666666666666666,
              "#ed7953"
             ],
             [
              0.7777777777777778,
              "#fb9f3a"
             ],
             [
              0.8888888888888888,
              "#fdca26"
             ],
             [
              1,
              "#f0f921"
             ]
            ],
            "type": "heatmapgl"
           }
          ],
          "histogram": [
           {
            "marker": {
             "pattern": {
              "fillmode": "overlay",
              "size": 10,
              "solidity": 0.2
             }
            },
            "type": "histogram"
           }
          ],
          "histogram2d": [
           {
            "colorbar": {
             "outlinewidth": 0,
             "ticks": ""
            },
            "colorscale": [
             [
              0,
              "#0d0887"
             ],
             [
              0.1111111111111111,
              "#46039f"
             ],
             [
              0.2222222222222222,
              "#7201a8"
             ],
             [
              0.3333333333333333,
              "#9c179e"
             ],
             [
              0.4444444444444444,
              "#bd3786"
             ],
             [
              0.5555555555555556,
              "#d8576b"
             ],
             [
              0.6666666666666666,
              "#ed7953"
             ],
             [
              0.7777777777777778,
              "#fb9f3a"
             ],
             [
              0.8888888888888888,
              "#fdca26"
             ],
             [
              1,
              "#f0f921"
             ]
            ],
            "type": "histogram2d"
           }
          ],
          "histogram2dcontour": [
           {
            "colorbar": {
             "outlinewidth": 0,
             "ticks": ""
            },
            "colorscale": [
             [
              0,
              "#0d0887"
             ],
             [
              0.1111111111111111,
              "#46039f"
             ],
             [
              0.2222222222222222,
              "#7201a8"
             ],
             [
              0.3333333333333333,
              "#9c179e"
             ],
             [
              0.4444444444444444,
              "#bd3786"
             ],
             [
              0.5555555555555556,
              "#d8576b"
             ],
             [
              0.6666666666666666,
              "#ed7953"
             ],
             [
              0.7777777777777778,
              "#fb9f3a"
             ],
             [
              0.8888888888888888,
              "#fdca26"
             ],
             [
              1,
              "#f0f921"
             ]
            ],
            "type": "histogram2dcontour"
           }
          ],
          "mesh3d": [
           {
            "colorbar": {
             "outlinewidth": 0,
             "ticks": ""
            },
            "type": "mesh3d"
           }
          ],
          "parcoords": [
           {
            "line": {
             "colorbar": {
              "outlinewidth": 0,
              "ticks": ""
             }
            },
            "type": "parcoords"
           }
          ],
          "pie": [
           {
            "automargin": true,
            "type": "pie"
           }
          ],
          "scatter": [
           {
            "fillpattern": {
             "fillmode": "overlay",
             "size": 10,
             "solidity": 0.2
            },
            "type": "scatter"
           }
          ],
          "scatter3d": [
           {
            "line": {
             "colorbar": {
              "outlinewidth": 0,
              "ticks": ""
             }
            },
            "marker": {
             "colorbar": {
              "outlinewidth": 0,
              "ticks": ""
             }
            },
            "type": "scatter3d"
           }
          ],
          "scattercarpet": [
           {
            "marker": {
             "colorbar": {
              "outlinewidth": 0,
              "ticks": ""
             }
            },
            "type": "scattercarpet"
           }
          ],
          "scattergeo": [
           {
            "marker": {
             "colorbar": {
              "outlinewidth": 0,
              "ticks": ""
             }
            },
            "type": "scattergeo"
           }
          ],
          "scattergl": [
           {
            "marker": {
             "colorbar": {
              "outlinewidth": 0,
              "ticks": ""
             }
            },
            "type": "scattergl"
           }
          ],
          "scattermapbox": [
           {
            "marker": {
             "colorbar": {
              "outlinewidth": 0,
              "ticks": ""
             }
            },
            "type": "scattermapbox"
           }
          ],
          "scatterpolar": [
           {
            "marker": {
             "colorbar": {
              "outlinewidth": 0,
              "ticks": ""
             }
            },
            "type": "scatterpolar"
           }
          ],
          "scatterpolargl": [
           {
            "marker": {
             "colorbar": {
              "outlinewidth": 0,
              "ticks": ""
             }
            },
            "type": "scatterpolargl"
           }
          ],
          "scatterternary": [
           {
            "marker": {
             "colorbar": {
              "outlinewidth": 0,
              "ticks": ""
             }
            },
            "type": "scatterternary"
           }
          ],
          "surface": [
           {
            "colorbar": {
             "outlinewidth": 0,
             "ticks": ""
            },
            "colorscale": [
             [
              0,
              "#0d0887"
             ],
             [
              0.1111111111111111,
              "#46039f"
             ],
             [
              0.2222222222222222,
              "#7201a8"
             ],
             [
              0.3333333333333333,
              "#9c179e"
             ],
             [
              0.4444444444444444,
              "#bd3786"
             ],
             [
              0.5555555555555556,
              "#d8576b"
             ],
             [
              0.6666666666666666,
              "#ed7953"
             ],
             [
              0.7777777777777778,
              "#fb9f3a"
             ],
             [
              0.8888888888888888,
              "#fdca26"
             ],
             [
              1,
              "#f0f921"
             ]
            ],
            "type": "surface"
           }
          ],
          "table": [
           {
            "cells": {
             "fill": {
              "color": "#EBF0F8"
             },
             "line": {
              "color": "white"
             }
            },
            "header": {
             "fill": {
              "color": "#C8D4E3"
             },
             "line": {
              "color": "white"
             }
            },
            "type": "table"
           }
          ]
         },
         "layout": {
          "annotationdefaults": {
           "arrowcolor": "#2a3f5f",
           "arrowhead": 0,
           "arrowwidth": 1
          },
          "autotypenumbers": "strict",
          "coloraxis": {
           "colorbar": {
            "outlinewidth": 0,
            "ticks": ""
           }
          },
          "colorscale": {
           "diverging": [
            [
             0,
             "#8e0152"
            ],
            [
             0.1,
             "#c51b7d"
            ],
            [
             0.2,
             "#de77ae"
            ],
            [
             0.3,
             "#f1b6da"
            ],
            [
             0.4,
             "#fde0ef"
            ],
            [
             0.5,
             "#f7f7f7"
            ],
            [
             0.6,
             "#e6f5d0"
            ],
            [
             0.7,
             "#b8e186"
            ],
            [
             0.8,
             "#7fbc41"
            ],
            [
             0.9,
             "#4d9221"
            ],
            [
             1,
             "#276419"
            ]
           ],
           "sequential": [
            [
             0,
             "#0d0887"
            ],
            [
             0.1111111111111111,
             "#46039f"
            ],
            [
             0.2222222222222222,
             "#7201a8"
            ],
            [
             0.3333333333333333,
             "#9c179e"
            ],
            [
             0.4444444444444444,
             "#bd3786"
            ],
            [
             0.5555555555555556,
             "#d8576b"
            ],
            [
             0.6666666666666666,
             "#ed7953"
            ],
            [
             0.7777777777777778,
             "#fb9f3a"
            ],
            [
             0.8888888888888888,
             "#fdca26"
            ],
            [
             1,
             "#f0f921"
            ]
           ],
           "sequentialminus": [
            [
             0,
             "#0d0887"
            ],
            [
             0.1111111111111111,
             "#46039f"
            ],
            [
             0.2222222222222222,
             "#7201a8"
            ],
            [
             0.3333333333333333,
             "#9c179e"
            ],
            [
             0.4444444444444444,
             "#bd3786"
            ],
            [
             0.5555555555555556,
             "#d8576b"
            ],
            [
             0.6666666666666666,
             "#ed7953"
            ],
            [
             0.7777777777777778,
             "#fb9f3a"
            ],
            [
             0.8888888888888888,
             "#fdca26"
            ],
            [
             1,
             "#f0f921"
            ]
           ]
          },
          "colorway": [
           "#636efa",
           "#EF553B",
           "#00cc96",
           "#ab63fa",
           "#FFA15A",
           "#19d3f3",
           "#FF6692",
           "#B6E880",
           "#FF97FF",
           "#FECB52"
          ],
          "font": {
           "color": "#2a3f5f"
          },
          "geo": {
           "bgcolor": "white",
           "lakecolor": "white",
           "landcolor": "#E5ECF6",
           "showlakes": true,
           "showland": true,
           "subunitcolor": "white"
          },
          "hoverlabel": {
           "align": "left"
          },
          "hovermode": "closest",
          "mapbox": {
           "style": "light"
          },
          "paper_bgcolor": "white",
          "plot_bgcolor": "#E5ECF6",
          "polar": {
           "angularaxis": {
            "gridcolor": "white",
            "linecolor": "white",
            "ticks": ""
           },
           "bgcolor": "#E5ECF6",
           "radialaxis": {
            "gridcolor": "white",
            "linecolor": "white",
            "ticks": ""
           }
          },
          "scene": {
           "xaxis": {
            "backgroundcolor": "#E5ECF6",
            "gridcolor": "white",
            "gridwidth": 2,
            "linecolor": "white",
            "showbackground": true,
            "ticks": "",
            "zerolinecolor": "white"
           },
           "yaxis": {
            "backgroundcolor": "#E5ECF6",
            "gridcolor": "white",
            "gridwidth": 2,
            "linecolor": "white",
            "showbackground": true,
            "ticks": "",
            "zerolinecolor": "white"
           },
           "zaxis": {
            "backgroundcolor": "#E5ECF6",
            "gridcolor": "white",
            "gridwidth": 2,
            "linecolor": "white",
            "showbackground": true,
            "ticks": "",
            "zerolinecolor": "white"
           }
          },
          "shapedefaults": {
           "line": {
            "color": "#2a3f5f"
           }
          },
          "ternary": {
           "aaxis": {
            "gridcolor": "white",
            "linecolor": "white",
            "ticks": ""
           },
           "baxis": {
            "gridcolor": "white",
            "linecolor": "white",
            "ticks": ""
           },
           "bgcolor": "#E5ECF6",
           "caxis": {
            "gridcolor": "white",
            "linecolor": "white",
            "ticks": ""
           }
          },
          "title": {
           "x": 0.05
          },
          "xaxis": {
           "automargin": true,
           "gridcolor": "white",
           "linecolor": "white",
           "ticks": "",
           "title": {
            "standoff": 15
           },
           "zerolinecolor": "white",
           "zerolinewidth": 2
          },
          "yaxis": {
           "automargin": true,
           "gridcolor": "white",
           "linecolor": "white",
           "ticks": "",
           "title": {
            "standoff": 15
           },
           "zerolinecolor": "white",
           "zerolinewidth": 2
          }
         }
        }
       }
      }
     },
     "metadata": {},
     "output_type": "display_data"
    }
   ],
   "source": [
    "fig = px.sunburst(df, path=['mfr', 'shelf'], values='cereal')\n",
    "fig.show()"
   ]
  },
  {
   "cell_type": "markdown",
   "metadata": {},
   "source": [
    "mfr 컬럼 내의 shelf 컬럼의 비율을 보여준다."
   ]
  },
  {
   "cell_type": "markdown",
   "metadata": {},
   "source": [
    "### 영역 그래프\n",
    "px.treemap()\n",
    "- path ; 분리 기준\n",
    "- values ; 넓이 기준"
   ]
  },
  {
   "cell_type": "code",
   "execution_count": 23,
   "metadata": {},
   "outputs": [
    {
     "data": {
      "application/vnd.plotly.v1+json": {
       "config": {
        "plotlyServerURL": "https://plot.ly"
       },
       "data": [
        {
         "branchvalues": "total",
         "domain": {
          "x": [
           0,
           1
          ],
          "y": [
           0,
           1
          ]
         },
         "hovertemplate": "labels=%{label}<br>cereal=%{value}<br>parent=%{parent}<br>id=%{id}<extra></extra>",
         "ids": [
          "Middle/AM Home Food",
          "Bottom/General Mills",
          "Middle/General Mills",
          "Top/General Mills",
          "Bottom/Kellogs",
          "Middle/Kellogs",
          "Top/Kellogs",
          "Bottom/Nabisco",
          "Middle/Nabisco",
          "Top/Nabisco",
          "Bottom/Post",
          "Middle/Post",
          "Top/Post",
          "Bottom/Quaker Oats",
          "Middle/Quaker Oats",
          "Top/Quaker Oats",
          "Bottom/Ralston Purina",
          "Top/Ralston Purina",
          "Bottom",
          "Middle",
          "Top"
         ],
         "labels": [
          "AM Home Food",
          "General Mills",
          "General Mills",
          "General Mills",
          "Kellogs",
          "Kellogs",
          "Kellogs",
          "Nabisco",
          "Nabisco",
          "Nabisco",
          "Post",
          "Post",
          "Post",
          "Quaker Oats",
          "Quaker Oats",
          "Quaker Oats",
          "Ralston Purina",
          "Ralston Purina",
          "Bottom",
          "Middle",
          "Top"
         ],
         "name": "",
         "parents": [
          "Middle",
          "Bottom",
          "Middle",
          "Top",
          "Bottom",
          "Middle",
          "Top",
          "Bottom",
          "Middle",
          "Top",
          "Bottom",
          "Middle",
          "Top",
          "Bottom",
          "Middle",
          "Top",
          "Bottom",
          "Top",
          "",
          "",
          ""
         ],
         "type": "treemap",
         "values": [
          1,
          6,
          7,
          9,
          4,
          7,
          12,
          3,
          2,
          1,
          2,
          1,
          6,
          1,
          3,
          4,
          4,
          4,
          20,
          21,
          36
         ]
        }
       ],
       "layout": {
        "legend": {
         "tracegroupgap": 0
        },
        "template": {
         "data": {
          "bar": [
           {
            "error_x": {
             "color": "#2a3f5f"
            },
            "error_y": {
             "color": "#2a3f5f"
            },
            "marker": {
             "line": {
              "color": "#E5ECF6",
              "width": 0.5
             },
             "pattern": {
              "fillmode": "overlay",
              "size": 10,
              "solidity": 0.2
             }
            },
            "type": "bar"
           }
          ],
          "barpolar": [
           {
            "marker": {
             "line": {
              "color": "#E5ECF6",
              "width": 0.5
             },
             "pattern": {
              "fillmode": "overlay",
              "size": 10,
              "solidity": 0.2
             }
            },
            "type": "barpolar"
           }
          ],
          "carpet": [
           {
            "aaxis": {
             "endlinecolor": "#2a3f5f",
             "gridcolor": "white",
             "linecolor": "white",
             "minorgridcolor": "white",
             "startlinecolor": "#2a3f5f"
            },
            "baxis": {
             "endlinecolor": "#2a3f5f",
             "gridcolor": "white",
             "linecolor": "white",
             "minorgridcolor": "white",
             "startlinecolor": "#2a3f5f"
            },
            "type": "carpet"
           }
          ],
          "choropleth": [
           {
            "colorbar": {
             "outlinewidth": 0,
             "ticks": ""
            },
            "type": "choropleth"
           }
          ],
          "contour": [
           {
            "colorbar": {
             "outlinewidth": 0,
             "ticks": ""
            },
            "colorscale": [
             [
              0,
              "#0d0887"
             ],
             [
              0.1111111111111111,
              "#46039f"
             ],
             [
              0.2222222222222222,
              "#7201a8"
             ],
             [
              0.3333333333333333,
              "#9c179e"
             ],
             [
              0.4444444444444444,
              "#bd3786"
             ],
             [
              0.5555555555555556,
              "#d8576b"
             ],
             [
              0.6666666666666666,
              "#ed7953"
             ],
             [
              0.7777777777777778,
              "#fb9f3a"
             ],
             [
              0.8888888888888888,
              "#fdca26"
             ],
             [
              1,
              "#f0f921"
             ]
            ],
            "type": "contour"
           }
          ],
          "contourcarpet": [
           {
            "colorbar": {
             "outlinewidth": 0,
             "ticks": ""
            },
            "type": "contourcarpet"
           }
          ],
          "heatmap": [
           {
            "colorbar": {
             "outlinewidth": 0,
             "ticks": ""
            },
            "colorscale": [
             [
              0,
              "#0d0887"
             ],
             [
              0.1111111111111111,
              "#46039f"
             ],
             [
              0.2222222222222222,
              "#7201a8"
             ],
             [
              0.3333333333333333,
              "#9c179e"
             ],
             [
              0.4444444444444444,
              "#bd3786"
             ],
             [
              0.5555555555555556,
              "#d8576b"
             ],
             [
              0.6666666666666666,
              "#ed7953"
             ],
             [
              0.7777777777777778,
              "#fb9f3a"
             ],
             [
              0.8888888888888888,
              "#fdca26"
             ],
             [
              1,
              "#f0f921"
             ]
            ],
            "type": "heatmap"
           }
          ],
          "heatmapgl": [
           {
            "colorbar": {
             "outlinewidth": 0,
             "ticks": ""
            },
            "colorscale": [
             [
              0,
              "#0d0887"
             ],
             [
              0.1111111111111111,
              "#46039f"
             ],
             [
              0.2222222222222222,
              "#7201a8"
             ],
             [
              0.3333333333333333,
              "#9c179e"
             ],
             [
              0.4444444444444444,
              "#bd3786"
             ],
             [
              0.5555555555555556,
              "#d8576b"
             ],
             [
              0.6666666666666666,
              "#ed7953"
             ],
             [
              0.7777777777777778,
              "#fb9f3a"
             ],
             [
              0.8888888888888888,
              "#fdca26"
             ],
             [
              1,
              "#f0f921"
             ]
            ],
            "type": "heatmapgl"
           }
          ],
          "histogram": [
           {
            "marker": {
             "pattern": {
              "fillmode": "overlay",
              "size": 10,
              "solidity": 0.2
             }
            },
            "type": "histogram"
           }
          ],
          "histogram2d": [
           {
            "colorbar": {
             "outlinewidth": 0,
             "ticks": ""
            },
            "colorscale": [
             [
              0,
              "#0d0887"
             ],
             [
              0.1111111111111111,
              "#46039f"
             ],
             [
              0.2222222222222222,
              "#7201a8"
             ],
             [
              0.3333333333333333,
              "#9c179e"
             ],
             [
              0.4444444444444444,
              "#bd3786"
             ],
             [
              0.5555555555555556,
              "#d8576b"
             ],
             [
              0.6666666666666666,
              "#ed7953"
             ],
             [
              0.7777777777777778,
              "#fb9f3a"
             ],
             [
              0.8888888888888888,
              "#fdca26"
             ],
             [
              1,
              "#f0f921"
             ]
            ],
            "type": "histogram2d"
           }
          ],
          "histogram2dcontour": [
           {
            "colorbar": {
             "outlinewidth": 0,
             "ticks": ""
            },
            "colorscale": [
             [
              0,
              "#0d0887"
             ],
             [
              0.1111111111111111,
              "#46039f"
             ],
             [
              0.2222222222222222,
              "#7201a8"
             ],
             [
              0.3333333333333333,
              "#9c179e"
             ],
             [
              0.4444444444444444,
              "#bd3786"
             ],
             [
              0.5555555555555556,
              "#d8576b"
             ],
             [
              0.6666666666666666,
              "#ed7953"
             ],
             [
              0.7777777777777778,
              "#fb9f3a"
             ],
             [
              0.8888888888888888,
              "#fdca26"
             ],
             [
              1,
              "#f0f921"
             ]
            ],
            "type": "histogram2dcontour"
           }
          ],
          "mesh3d": [
           {
            "colorbar": {
             "outlinewidth": 0,
             "ticks": ""
            },
            "type": "mesh3d"
           }
          ],
          "parcoords": [
           {
            "line": {
             "colorbar": {
              "outlinewidth": 0,
              "ticks": ""
             }
            },
            "type": "parcoords"
           }
          ],
          "pie": [
           {
            "automargin": true,
            "type": "pie"
           }
          ],
          "scatter": [
           {
            "fillpattern": {
             "fillmode": "overlay",
             "size": 10,
             "solidity": 0.2
            },
            "type": "scatter"
           }
          ],
          "scatter3d": [
           {
            "line": {
             "colorbar": {
              "outlinewidth": 0,
              "ticks": ""
             }
            },
            "marker": {
             "colorbar": {
              "outlinewidth": 0,
              "ticks": ""
             }
            },
            "type": "scatter3d"
           }
          ],
          "scattercarpet": [
           {
            "marker": {
             "colorbar": {
              "outlinewidth": 0,
              "ticks": ""
             }
            },
            "type": "scattercarpet"
           }
          ],
          "scattergeo": [
           {
            "marker": {
             "colorbar": {
              "outlinewidth": 0,
              "ticks": ""
             }
            },
            "type": "scattergeo"
           }
          ],
          "scattergl": [
           {
            "marker": {
             "colorbar": {
              "outlinewidth": 0,
              "ticks": ""
             }
            },
            "type": "scattergl"
           }
          ],
          "scattermapbox": [
           {
            "marker": {
             "colorbar": {
              "outlinewidth": 0,
              "ticks": ""
             }
            },
            "type": "scattermapbox"
           }
          ],
          "scatterpolar": [
           {
            "marker": {
             "colorbar": {
              "outlinewidth": 0,
              "ticks": ""
             }
            },
            "type": "scatterpolar"
           }
          ],
          "scatterpolargl": [
           {
            "marker": {
             "colorbar": {
              "outlinewidth": 0,
              "ticks": ""
             }
            },
            "type": "scatterpolargl"
           }
          ],
          "scatterternary": [
           {
            "marker": {
             "colorbar": {
              "outlinewidth": 0,
              "ticks": ""
             }
            },
            "type": "scatterternary"
           }
          ],
          "surface": [
           {
            "colorbar": {
             "outlinewidth": 0,
             "ticks": ""
            },
            "colorscale": [
             [
              0,
              "#0d0887"
             ],
             [
              0.1111111111111111,
              "#46039f"
             ],
             [
              0.2222222222222222,
              "#7201a8"
             ],
             [
              0.3333333333333333,
              "#9c179e"
             ],
             [
              0.4444444444444444,
              "#bd3786"
             ],
             [
              0.5555555555555556,
              "#d8576b"
             ],
             [
              0.6666666666666666,
              "#ed7953"
             ],
             [
              0.7777777777777778,
              "#fb9f3a"
             ],
             [
              0.8888888888888888,
              "#fdca26"
             ],
             [
              1,
              "#f0f921"
             ]
            ],
            "type": "surface"
           }
          ],
          "table": [
           {
            "cells": {
             "fill": {
              "color": "#EBF0F8"
             },
             "line": {
              "color": "white"
             }
            },
            "header": {
             "fill": {
              "color": "#C8D4E3"
             },
             "line": {
              "color": "white"
             }
            },
            "type": "table"
           }
          ]
         },
         "layout": {
          "annotationdefaults": {
           "arrowcolor": "#2a3f5f",
           "arrowhead": 0,
           "arrowwidth": 1
          },
          "autotypenumbers": "strict",
          "coloraxis": {
           "colorbar": {
            "outlinewidth": 0,
            "ticks": ""
           }
          },
          "colorscale": {
           "diverging": [
            [
             0,
             "#8e0152"
            ],
            [
             0.1,
             "#c51b7d"
            ],
            [
             0.2,
             "#de77ae"
            ],
            [
             0.3,
             "#f1b6da"
            ],
            [
             0.4,
             "#fde0ef"
            ],
            [
             0.5,
             "#f7f7f7"
            ],
            [
             0.6,
             "#e6f5d0"
            ],
            [
             0.7,
             "#b8e186"
            ],
            [
             0.8,
             "#7fbc41"
            ],
            [
             0.9,
             "#4d9221"
            ],
            [
             1,
             "#276419"
            ]
           ],
           "sequential": [
            [
             0,
             "#0d0887"
            ],
            [
             0.1111111111111111,
             "#46039f"
            ],
            [
             0.2222222222222222,
             "#7201a8"
            ],
            [
             0.3333333333333333,
             "#9c179e"
            ],
            [
             0.4444444444444444,
             "#bd3786"
            ],
            [
             0.5555555555555556,
             "#d8576b"
            ],
            [
             0.6666666666666666,
             "#ed7953"
            ],
            [
             0.7777777777777778,
             "#fb9f3a"
            ],
            [
             0.8888888888888888,
             "#fdca26"
            ],
            [
             1,
             "#f0f921"
            ]
           ],
           "sequentialminus": [
            [
             0,
             "#0d0887"
            ],
            [
             0.1111111111111111,
             "#46039f"
            ],
            [
             0.2222222222222222,
             "#7201a8"
            ],
            [
             0.3333333333333333,
             "#9c179e"
            ],
            [
             0.4444444444444444,
             "#bd3786"
            ],
            [
             0.5555555555555556,
             "#d8576b"
            ],
            [
             0.6666666666666666,
             "#ed7953"
            ],
            [
             0.7777777777777778,
             "#fb9f3a"
            ],
            [
             0.8888888888888888,
             "#fdca26"
            ],
            [
             1,
             "#f0f921"
            ]
           ]
          },
          "colorway": [
           "#636efa",
           "#EF553B",
           "#00cc96",
           "#ab63fa",
           "#FFA15A",
           "#19d3f3",
           "#FF6692",
           "#B6E880",
           "#FF97FF",
           "#FECB52"
          ],
          "font": {
           "color": "#2a3f5f"
          },
          "geo": {
           "bgcolor": "white",
           "lakecolor": "white",
           "landcolor": "#E5ECF6",
           "showlakes": true,
           "showland": true,
           "subunitcolor": "white"
          },
          "hoverlabel": {
           "align": "left"
          },
          "hovermode": "closest",
          "mapbox": {
           "style": "light"
          },
          "paper_bgcolor": "white",
          "plot_bgcolor": "#E5ECF6",
          "polar": {
           "angularaxis": {
            "gridcolor": "white",
            "linecolor": "white",
            "ticks": ""
           },
           "bgcolor": "#E5ECF6",
           "radialaxis": {
            "gridcolor": "white",
            "linecolor": "white",
            "ticks": ""
           }
          },
          "scene": {
           "xaxis": {
            "backgroundcolor": "#E5ECF6",
            "gridcolor": "white",
            "gridwidth": 2,
            "linecolor": "white",
            "showbackground": true,
            "ticks": "",
            "zerolinecolor": "white"
           },
           "yaxis": {
            "backgroundcolor": "#E5ECF6",
            "gridcolor": "white",
            "gridwidth": 2,
            "linecolor": "white",
            "showbackground": true,
            "ticks": "",
            "zerolinecolor": "white"
           },
           "zaxis": {
            "backgroundcolor": "#E5ECF6",
            "gridcolor": "white",
            "gridwidth": 2,
            "linecolor": "white",
            "showbackground": true,
            "ticks": "",
            "zerolinecolor": "white"
           }
          },
          "shapedefaults": {
           "line": {
            "color": "#2a3f5f"
           }
          },
          "ternary": {
           "aaxis": {
            "gridcolor": "white",
            "linecolor": "white",
            "ticks": ""
           },
           "baxis": {
            "gridcolor": "white",
            "linecolor": "white",
            "ticks": ""
           },
           "bgcolor": "#E5ECF6",
           "caxis": {
            "gridcolor": "white",
            "linecolor": "white",
            "ticks": ""
           }
          },
          "title": {
           "x": 0.05
          },
          "xaxis": {
           "automargin": true,
           "gridcolor": "white",
           "linecolor": "white",
           "ticks": "",
           "title": {
            "standoff": 15
           },
           "zerolinecolor": "white",
           "zerolinewidth": 2
          },
          "yaxis": {
           "automargin": true,
           "gridcolor": "white",
           "linecolor": "white",
           "ticks": "",
           "title": {
            "standoff": 15
           },
           "zerolinecolor": "white",
           "zerolinewidth": 2
          }
         }
        },
        "title": {
         "text": "Cereals by shelf location"
        }
       }
      }
     },
     "metadata": {},
     "output_type": "display_data"
    }
   ],
   "source": [
    "fig = px. treemap(df,path=['shelf','mfr'], values='cereal', title='Cereals by shelf location')\n",
    "fig.show()"
   ]
  },
  {
   "cell_type": "markdown",
   "metadata": {},
   "source": [
    "### 연습문제"
   ]
  },
  {
   "cell_type": "code",
   "execution_count": 57,
   "metadata": {},
   "outputs": [
    {
     "name": "stdout",
     "output_type": "stream",
     "text": [
      "<class 'pandas.core.frame.DataFrame'>\n",
      "RangeIndex: 1338 entries, 0 to 1337\n",
      "Data columns (total 7 columns):\n",
      " #   Column    Non-Null Count  Dtype  \n",
      "---  ------    --------------  -----  \n",
      " 0   age       1338 non-null   int64  \n",
      " 1   sex       1338 non-null   object \n",
      " 2   bmi       1338 non-null   float64\n",
      " 3   children  1338 non-null   int64  \n",
      " 4   smoker    1338 non-null   object \n",
      " 5   region    1338 non-null   object \n",
      " 6   charges   1338 non-null   float64\n",
      "dtypes: float64(2), int64(2), object(3)\n",
      "memory usage: 73.3+ KB\n"
     ]
    }
   ],
   "source": [
    "df = pd.read_csv(os.path.join(path,'insurance.csv'))\n",
    "df.info()"
   ]
  },
  {
   "cell_type": "code",
   "execution_count": 25,
   "metadata": {},
   "outputs": [
    {
     "data": {
      "text/html": [
       "<div>\n",
       "<style scoped>\n",
       "    .dataframe tbody tr th:only-of-type {\n",
       "        vertical-align: middle;\n",
       "    }\n",
       "\n",
       "    .dataframe tbody tr th {\n",
       "        vertical-align: top;\n",
       "    }\n",
       "\n",
       "    .dataframe thead th {\n",
       "        text-align: right;\n",
       "    }\n",
       "</style>\n",
       "<table border=\"1\" class=\"dataframe\">\n",
       "  <thead>\n",
       "    <tr style=\"text-align: right;\">\n",
       "      <th></th>\n",
       "      <th>age</th>\n",
       "      <th>sex</th>\n",
       "      <th>bmi</th>\n",
       "      <th>children</th>\n",
       "      <th>smoker</th>\n",
       "      <th>region</th>\n",
       "      <th>charges</th>\n",
       "    </tr>\n",
       "  </thead>\n",
       "  <tbody>\n",
       "    <tr>\n",
       "      <th>0</th>\n",
       "      <td>19</td>\n",
       "      <td>female</td>\n",
       "      <td>27.900</td>\n",
       "      <td>0</td>\n",
       "      <td>yes</td>\n",
       "      <td>southwest</td>\n",
       "      <td>16884.92400</td>\n",
       "    </tr>\n",
       "    <tr>\n",
       "      <th>1</th>\n",
       "      <td>18</td>\n",
       "      <td>male</td>\n",
       "      <td>33.770</td>\n",
       "      <td>1</td>\n",
       "      <td>no</td>\n",
       "      <td>southeast</td>\n",
       "      <td>1725.55230</td>\n",
       "    </tr>\n",
       "    <tr>\n",
       "      <th>2</th>\n",
       "      <td>28</td>\n",
       "      <td>male</td>\n",
       "      <td>33.000</td>\n",
       "      <td>3</td>\n",
       "      <td>no</td>\n",
       "      <td>southeast</td>\n",
       "      <td>4449.46200</td>\n",
       "    </tr>\n",
       "    <tr>\n",
       "      <th>3</th>\n",
       "      <td>33</td>\n",
       "      <td>male</td>\n",
       "      <td>22.705</td>\n",
       "      <td>0</td>\n",
       "      <td>no</td>\n",
       "      <td>northwest</td>\n",
       "      <td>21984.47061</td>\n",
       "    </tr>\n",
       "    <tr>\n",
       "      <th>4</th>\n",
       "      <td>32</td>\n",
       "      <td>male</td>\n",
       "      <td>28.880</td>\n",
       "      <td>0</td>\n",
       "      <td>no</td>\n",
       "      <td>northwest</td>\n",
       "      <td>3866.85520</td>\n",
       "    </tr>\n",
       "  </tbody>\n",
       "</table>\n",
       "</div>"
      ],
      "text/plain": [
       "   age     sex     bmi  children smoker     region      charges\n",
       "0   19  female  27.900         0    yes  southwest  16884.92400\n",
       "1   18    male  33.770         1     no  southeast   1725.55230\n",
       "2   28    male  33.000         3     no  southeast   4449.46200\n",
       "3   33    male  22.705         0     no  northwest  21984.47061\n",
       "4   32    male  28.880         0     no  northwest   3866.85520"
      ]
     },
     "execution_count": 25,
     "metadata": {},
     "output_type": "execute_result"
    }
   ],
   "source": [
    "df.head()"
   ]
  },
  {
   "cell_type": "code",
   "execution_count": 29,
   "metadata": {},
   "outputs": [
    {
     "data": {
      "application/vnd.plotly.v1+json": {
       "config": {
        "plotlyServerURL": "https://plot.ly"
       },
       "data": [
        {
         "hovertemplate": "region=southwest<br>age=%{x}<br>charges=%{y}<extra></extra>",
         "legendgroup": "southwest",
         "marker": {
          "color": "#636efa",
          "symbol": "circle"
         },
         "mode": "markers",
         "name": "southwest",
         "showlegend": true,
         "type": "scattergl",
         "x": [
          19,
          23,
          19,
          56,
          30,
          30,
          31,
          22,
          19,
          28,
          26,
          60,
          55,
          48,
          19,
          61,
          53,
          44,
          37,
          56,
          64,
          54,
          38,
          41,
          34,
          19,
          55,
          37,
          44,
          19,
          52,
          38,
          53,
          19,
          22,
          19,
          54,
          32,
          20,
          49,
          35,
          63,
          54,
          46,
          30,
          41,
          36,
          39,
          46,
          63,
          20,
          45,
          41,
          34,
          32,
          19,
          19,
          59,
          55,
          40,
          19,
          63,
          27,
          58,
          45,
          50,
          22,
          52,
          28,
          25,
          19,
          57,
          28,
          50,
          19,
          27,
          34,
          29,
          64,
          52,
          64,
          24,
          50,
          30,
          46,
          35,
          19,
          21,
          26,
          19,
          43,
          64,
          51,
          31,
          47,
          25,
          36,
          48,
          19,
          42,
          60,
          35,
          33,
          45,
          40,
          35,
          39,
          24,
          59,
          56,
          42,
          60,
          19,
          54,
          51,
          48,
          19,
          19,
          61,
          21,
          31,
          45,
          62,
          29,
          57,
          19,
          39,
          58,
          35,
          51,
          33,
          46,
          34,
          54,
          63,
          62,
          28,
          27,
          49,
          31,
          52,
          19,
          58,
          43,
          56,
          30,
          38,
          49,
          55,
          30,
          37,
          49,
          58,
          53,
          24,
          51,
          33,
          26,
          49,
          56,
          21,
          19,
          39,
          33,
          47,
          47,
          27,
          33,
          24,
          60,
          53,
          62,
          19,
          53,
          24,
          59,
          26,
          29,
          34,
          47,
          23,
          33,
          47,
          42,
          64,
          61,
          53,
          30,
          50,
          35,
          19,
          58,
          21,
          46,
          23,
          45,
          63,
          36,
          21,
          51,
          27,
          20,
          57,
          37,
          38,
          51,
          40,
          57,
          25,
          50,
          43,
          49,
          41,
          37,
          22,
          22,
          61,
          60,
          63,
          32,
          44,
          61,
          62,
          62,
          38,
          43,
          19,
          57,
          39,
          46,
          45,
          59,
          56,
          42,
          25,
          44,
          29,
          35,
          19,
          31,
          44,
          26,
          50,
          39,
          24,
          24,
          48,
          48,
          38,
          26,
          51,
          21,
          54,
          54,
          28,
          49,
          47,
          48,
          29,
          42,
          47,
          32,
          39,
          56,
          23,
          50,
          53,
          37,
          26,
          23,
          55,
          34,
          19,
          27,
          44,
          41,
          50,
          60,
          55,
          42,
          32,
          29,
          32,
          43,
          22,
          40,
          25,
          23,
          31,
          59,
          36,
          59,
          52,
          46,
          20,
          58,
          28,
          45,
          33,
          19,
          20,
          40,
          42,
          28,
          43,
          55,
          20,
          45,
          57,
          61,
          36,
          20,
          19,
          20,
          25,
          43,
          25,
          41,
          34,
          19,
          19,
          52,
          23,
          52,
          21
         ],
         "xaxis": "x",
         "y": [
          16884.924,
          1826.843,
          1837.237,
          10602.385,
          36837.467,
          4149.736,
          38711,
          35585.576,
          4687.797,
          51194.55914,
          2302.3,
          48173.361,
          20630.28351,
          23568.272,
          1743.214,
          14235.072,
          11741.726,
          7726.854,
          39836.519,
          11073.176,
          47291.055,
          12105.32,
          15820.699,
          6186.127,
          5003.853,
          2331.519,
          11881.358,
          4646.759,
          7740.337,
          17081.08,
          9634.538,
          6082.405,
          11163.568,
          1261.442,
          2166.732,
          1842.519,
          10450.552,
          5152.134,
          4830.63,
          8116.68,
          5246.047,
          48824.45,
          10436.096,
          8823.279,
          5325.651,
          6775.961,
          4883.866,
          5649.715,
          7147.105,
          13880.949,
          1980.07,
          8520.026,
          7371.772,
          5012.471,
          5253.524,
          34779.615,
          1727.785,
          12333.828,
          35160.13457,
          7196.867,
          1832.094,
          47305.305,
          4260.744,
          11837.16,
          7441.053,
          42856.838,
          2150.469,
          9625.92,
          3172.018,
          3906.127,
          16297.846,
          12646.207,
          20177.67113,
          8444.474,
          1737.376,
          34838.873,
          35491.64,
          2866.091,
          47928.03,
          9144.565,
          13822.803,
          18955.22017,
          8932.084,
          3554.203,
          24603.04837,
          4751.07,
          13844.506,
          2597.779,
          36085.219,
          1261.859,
          8522.003,
          14988.432,
          9264.797,
          3260.199,
          8539.671,
          5080.096,
          18608.262,
          8968.33,
          23082.95533,
          5969.723,
          12638.195,
          5926.846,
          37079.372,
          7345.084,
          5910.944,
          4762.329,
          7512.267,
          1969.614,
          21797.0004,
          10601.412,
          22144.032,
          13224.693,
          1744.465,
          25382.297,
          9880.068,
          9563.029,
          1253.936,
          1748.774,
          12574.049,
          17942.106,
          4931.647,
          8027.968,
          13470.86,
          36197.699,
          11455.28,
          1256.299,
          21082.16,
          11362.755,
          5240.765,
          9861.025,
          5972.378,
          8825.086,
          6196.448,
          11538.421,
          13390.559,
          12957.118,
          3847.674,
          2494.022,
          11552.904,
          3761.292,
          9724.53,
          1242.816,
          11842.442,
          7441.501,
          11070.535,
          39241.442,
          6571.544,
          23306.547,
          10713.644,
          3659.346,
          40182.246,
          9182.17,
          11365.952,
          10085.846,
          1977.815,
          9391.346,
          6666.243,
          3410.324,
          8703.456,
          12363.547,
          2585.269,
          1242.26,
          40103.89,
          4766.022,
          26236.57997,
          8068.185,
          3577.999,
          5375.038,
          2457.502,
          12146.971,
          11264.541,
          12979.358,
          1263.249,
          10065.413,
          4234.927,
          14007.222,
          3484.331,
          44585.45587,
          11737.84884,
          8556.907,
          2416.955,
          19040.876,
          8062.764,
          7050.642,
          14319.031,
          27941.28758,
          11150.78,
          18259.216,
          24520.264,
          6414.178,
          1252.407,
          11848.141,
          2103.08,
          9414.92,
          3597.596,
          7445.918,
          13393.756,
          4402.233,
          1526.312,
          9872.701,
          2974.126,
          1875.344,
          10965.446,
          46113.511,
          7151.092,
          8782.469,
          6600.361,
          11576.13,
          4391.652,
          8457.818,
          6849.026,
          26140.3603,
          6282.235,
          6311.952,
          3443.064,
          1682.597,
          13063.883,
          12644.589,
          15170.069,
          17496.306,
          7626.993,
          13041.921,
          13451.122,
          13462.52,
          5488.262,
          6250.435,
          2913.569,
          12032.326,
          6238.298,
          10096.97,
          7348.142,
          12233.828,
          11674.13,
          7160.094,
          19933.458,
          38998.546,
          3353.284,
          4746.344,
          1759.338,
          19199.944,
          7624.63,
          3378.91,
          10118.424,
          7418.522,
          34472.841,
          1972.95,
          21232.18226,
          8269.044,
          5383.536,
          3987.926,
          8798.593,
          2020.177,
          9850.432,
          12094.478,
          3161.454,
          39727.614,
          25309.489,
          8277.523,
          5708.867,
          7045.499,
          8551.347,
          4076.497,
          19023.26,
          10577.087,
          3591.48,
          11299.343,
          11253.421,
          20420.60465,
          2904.088,
          34166.273,
          10214.636,
          14358.36437,
          1728.897,
          3693.428,
          7623.518,
          7954.517,
          9630.397,
          52590.82939,
          10791.96,
          5979.731,
          3989.841,
          4529.477,
          4670.64,
          22478.6,
          2154.361,
          6496.886,
          2632.992,
          13126.67745,
          4934.705,
          36910.60803,
          38415.474,
          12347.172,
          10806.839,
          41661.602,
          20167.33603,
          11345.519,
          5615.369,
          9101.798,
          6059.173,
          1241.565,
          16232.847,
          15828.82173,
          6474.013,
          3277.161,
          7337.748,
          10704.47,
          1880.487,
          8615.3,
          10959.33,
          47403.88,
          5472.449,
          38344.566,
          34828.654,
          1964.78,
          3208.787,
          37829.7242,
          33900.653,
          6875.961,
          4536.259,
          36397.576,
          1731.677,
          10325.206,
          10795.93733,
          11411.685,
          2007.945
         ],
         "yaxis": "y"
        },
        {
         "hovertemplate": "region=southeast<br>age=%{x}<br>charges=%{y}<extra></extra>",
         "legendgroup": "southeast",
         "marker": {
          "color": "#EF553B",
          "symbol": "circle"
         },
         "mode": "markers",
         "name": "southeast",
         "showlegend": true,
         "type": "scattergl",
         "x": [
          18,
          28,
          31,
          46,
          62,
          56,
          27,
          18,
          59,
          31,
          41,
          37,
          60,
          36,
          36,
          18,
          53,
          25,
          40,
          28,
          27,
          58,
          29,
          21,
          22,
          21,
          28,
          55,
          61,
          29,
          63,
          58,
          29,
          49,
          22,
          54,
          34,
          29,
          51,
          48,
          48,
          30,
          50,
          18,
          63,
          18,
          44,
          26,
          61,
          25,
          18,
          45,
          48,
          27,
          59,
          34,
          27,
          26,
          24,
          42,
          55,
          28,
          58,
          59,
          40,
          18,
          31,
          44,
          60,
          24,
          54,
          38,
          20,
          53,
          46,
          40,
          18,
          59,
          51,
          46,
          52,
          25,
          22,
          47,
          56,
          28,
          30,
          43,
          49,
          27,
          60,
          46,
          49,
          34,
          33,
          36,
          18,
          46,
          23,
          18,
          21,
          20,
          24,
          62,
          55,
          35,
          58,
          21,
          18,
          47,
          33,
          38,
          32,
          43,
          52,
          64,
          64,
          61,
          45,
          60,
          52,
          18,
          59,
          32,
          55,
          40,
          49,
          30,
          18,
          27,
          21,
          23,
          49,
          18,
          44,
          61,
          44,
          51,
          19,
          38,
          27,
          20,
          32,
          38,
          42,
          18,
          57,
          59,
          37,
          64,
          46,
          53,
          20,
          63,
          54,
          43,
          32,
          34,
          50,
          18,
          18,
          30,
          22,
          39,
          32,
          33,
          38,
          20,
          41,
          42,
          18,
          64,
          51,
          47,
          20,
          47,
          19,
          33,
          29,
          56,
          43,
          49,
          53,
          48,
          45,
          59,
          52,
          37,
          57,
          18,
          64,
          43,
          40,
          30,
          36,
          41,
          44,
          55,
          40,
          27,
          41,
          23,
          21,
          53,
          51,
          18,
          50,
          30,
          41,
          35,
          37,
          27,
          31,
          37,
          58,
          47,
          18,
          51,
          35,
          18,
          51,
          31,
          62,
          39,
          53,
          30,
          42,
          64,
          18,
          23,
          18,
          54,
          36,
          20,
          18,
          44,
          56,
          42,
          23,
          57,
          60,
          23,
          48,
          25,
          18,
          26,
          42,
          33,
          32,
          36,
          47,
          18,
          60,
          49,
          44,
          24,
          35,
          62,
          41,
          26,
          32,
          18,
          53,
          18,
          50,
          62,
          51,
          31,
          54,
          63,
          39,
          50,
          26,
          48,
          26,
          36,
          38,
          63,
          43,
          61,
          22,
          47,
          18,
          47,
          55,
          22,
          22,
          45,
          24,
          24,
          57,
          59,
          48,
          54,
          37,
          32,
          28,
          63,
          18,
          52,
          47,
          22,
          25,
          29,
          58,
          54,
          45,
          38,
          48,
          55,
          25,
          33,
          46,
          35,
          39,
          33,
          50,
          52,
          39,
          43,
          19,
          34,
          30,
          57,
          56,
          31,
          23,
          41,
          18,
          39,
          40,
          29,
          40,
          50,
          20,
          33,
          42,
          56,
          45,
          25,
          52,
          64,
          28,
          18,
          18,
          34,
          41,
          64,
          43,
          35,
          26,
          48,
          18,
          44,
          21,
          28,
          45,
          24,
          18,
          62,
          42,
          51,
          57,
          18
         ],
         "xaxis": "x",
         "y": [
          1725.5523,
          4449.462,
          3756.6216,
          8240.5896,
          27808.7251,
          11090.7178,
          39611.7577,
          1137.011,
          14001.1338,
          4949.7587,
          6272.4772,
          6313.759,
          12629.8967,
          38709.176,
          37742.5757,
          34303.1672,
          23244.7902,
          4504.6624,
          5920.1041,
          17663.1442,
          16577.7795,
          11946.6259,
          3947.4131,
          1532.4697,
          37165.1638,
          2026.9741,
          3766.8838,
          10226.2842,
          30942.1918,
          2867.1196,
          47055.5321,
          11381.3254,
          19107.7796,
          8601.3293,
          2155.6815,
          27322.73386,
          18972.495,
          5138.2567,
          9877.6077,
          7789.635,
          21223.6758,
          36950.2567,
          19749.38338,
          36149.4835,
          13405.3903,
          1631.8212,
          7731.4271,
          3981.9768,
          12557.6053,
          2137.6536,
          1137.4697,
          8516.829,
          8871.1517,
          37133.8982,
          11743.299,
          5002.7827,
          2483.736,
          3392.9768,
          25081.76784,
          19515.5416,
          11987.1682,
          2689.4954,
          24227.33724,
          14001.2867,
          19444.2658,
          1615.7667,
          4463.2051,
          7152.6714,
          12648.7034,
          1986.9334,
          44260.7499,
          5400.9805,
          17085.2676,
          20462.99766,
          46151.1245,
          17179.522,
          1719.4363,
          12928.7911,
          9855.1314,
          7742.1098,
          25992.82104,
          42112.2356,
          2156.7518,
          21978.6769,
          12265.5069,
          4349.462,
          4151.0287,
          42124.5153,
          8124.4084,
          3561.8889,
          12142.5786,
          8232.6388,
          10977.2063,
          6184.2994,
          4889.9995,
          5478.0368,
          14133.03775,
          8944.1151,
          1837.2819,
          1607.5101,
          3180.5101,
          1391.5287,
          38126.2465,
          27000.98473,
          20781.48892,
          5846.9176,
          11856.4115,
          16586.49771,
          1631.6683,
          8083.9198,
          4185.0979,
          6652.5288,
          4074.4537,
          7345.7266,
          9140.951,
          14418.2804,
          46889.2612,
          46599.1084,
          9788.8659,
          13919.8229,
          12592.5345,
          1149.3959,
          28287.89766,
          4686.3887,
          11881.9696,
          7682.67,
          10381.4787,
          19521.9682,
          2201.0971,
          2497.0383,
          1534.3045,
          1824.2854,
          9304.7019,
          1622.1885,
          48885.13561,
          24513.09126,
          8211.1002,
          22218.1149,
          32548.3405,
          5974.3847,
          2498.4144,
          27724.28875,
          3994.1778,
          5397.6167,
          38245.59327,
          11482.63485,
          48675.5177,
          12925.886,
          19214.70553,
          13831.1152,
          8233.0975,
          27346.04207,
          3056.3881,
          13887.204,
          63770.42801,
          45863.205,
          3972.9247,
          3935.1799,
          9058.7303,
          2801.2588,
          2219.4451,
          4753.6368,
          1664.9996,
          6356.2707,
          17626.23951,
          4779.6023,
          5976.8311,
          2566.4707,
          5709.1644,
          7640.3092,
          1633.0444,
          16085.1275,
          9283.562,
          8547.6913,
          1880.07,
          42969.8527,
          34439.8559,
          11326.71487,
          3366.6697,
          12949.1554,
          18806.14547,
          9800.8882,
          10579.711,
          8280.6227,
          8527.532,
          12244.531,
          24667.419,
          6435.6237,
          22192.43711,
          1136.3994,
          27037.9141,
          42560.4304,
          6500.2359,
          4837.5823,
          4399.731,
          6185.3208,
          46200.9851,
          12485.8009,
          5438.7491,
          34806.4677,
          40273.6455,
          3500.6123,
          2020.5523,
          9504.3103,
          44400.4064,
          1727.54,
          10107.2206,
          40932.4295,
          6781.3542,
          19361.9988,
          40419.0191,
          18246.4955,
          3757.8448,
          19539.243,
          11833.7823,
          23065.4207,
          36307.7983,
          10560.4917,
          5934.3798,
          1146.7966,
          9386.1613,
          4350.5144,
          13457.9608,
          5662.225,
          21195.818,
          4266.1658,
          7046.7222,
          14313.8463,
          38792.6856,
          1815.8759,
          1131.5066,
          11013.7119,
          5584.3057,
          1877.9294,
          1621.8827,
          8219.2039,
          43813.8661,
          7160.3303,
          36021.0112,
          27533.9129,
          45008.9555,
          2438.0552,
          40974.1649,
          18218.16139,
          1141.4451,
          3392.3652,
          5966.8874,
          6653.7886,
          19719.6947,
          7243.8136,
          44202.6536,
          1634.5734,
          48673.5588,
          8125.7845,
          7633.7206,
          2473.3341,
          5245.2269,
          13470.8044,
          6289.7549,
          2927.0647,
          4673.3922,
          2304.0022,
          9487.6442,
          1121.8739,
          9549.5651,
          12982.8747,
          47462.894,
          3875.7341,
          41999.52,
          14474.675,
          8596.8278,
          10702.6424,
          2322.6218,
          7804.1605,
          2902.9065,
          4889.0368,
          5484.4673,
          13887.9685,
          18767.7377,
          36580.28216,
          35595.5898,
          42211.1382,
          1711.0268,
          8569.8618,
          44423.803,
          37484.4493,
          44501.3982,
          17929.30337,
          2480.9791,
          1981.5819,
          11554.2236,
          48970.2476,
          8978.1851,
          10928.849,
          39871.7043,
          4562.8421,
          34672.1472,
          15161.5344,
          11884.04858,
          9748.9106,
          41676.0811,
          1674.6323,
          3227.1211,
          3471.4096,
          11363.2832,
          10338.9316,
          8605.3615,
          41949.2441,
          24180.9335,
          10807.4863,
          36124.5737,
          38282.7495,
          8347.1643,
          5836.5204,
          8582.3023,
          3704.3545,
          9048.0273,
          27117.99378,
          6338.0756,
          40941.2854,
          39722.7462,
          5124.1887,
          18963.17192,
          10982.5013,
          11093.6229,
          19350.3689,
          18328.2381,
          5699.8375,
          18223.4512,
          23563.01618,
          5415.6612,
          4058.1161,
          6593.5083,
          8442.667,
          26125.67477,
          4795.6568,
          7162.0122,
          10594.2257,
          8515.7587,
          3238.4357,
          47269.854,
          49577.6624,
          3171.6149,
          1135.9407,
          1633.9618,
          4415.1588,
          6770.1925,
          26926.5144,
          14478.33015,
          4747.0529,
          17043.3414,
          8283.6807,
          1720.3537,
          7147.4728,
          1515.3449,
          4340.4409,
          62592.87309,
          2464.6188,
          1163.4627,
          12981.3457,
          43896.3763,
          9377.9047,
          12629.1656,
          1629.8335
         ],
         "yaxis": "y"
        },
        {
         "hovertemplate": "region=northwest<br>age=%{x}<br>charges=%{y}<extra></extra>",
         "legendgroup": "northwest",
         "marker": {
          "color": "#00cc96",
          "symbol": "circle"
         },
         "mode": "markers",
         "name": "northwest",
         "showlegend": true,
         "type": "scattergl",
         "x": [
          33,
          32,
          37,
          60,
          37,
          55,
          23,
          63,
          19,
          62,
          28,
          21,
          40,
          58,
          34,
          64,
          28,
          20,
          40,
          57,
          41,
          48,
          45,
          57,
          46,
          55,
          53,
          35,
          20,
          26,
          54,
          21,
          37,
          20,
          47,
          32,
          19,
          22,
          29,
          30,
          46,
          53,
          35,
          44,
          42,
          37,
          32,
          19,
          24,
          38,
          58,
          44,
          29,
          56,
          19,
          51,
          19,
          60,
          40,
          24,
          53,
          42,
          39,
          19,
          54,
          56,
          51,
          19,
          19,
          41,
          25,
          19,
          63,
          31,
          48,
          29,
          41,
          50,
          44,
          34,
          45,
          52,
          61,
          62,
          62,
          19,
          57,
          47,
          42,
          44,
          61,
          23,
          64,
          50,
          26,
          24,
          19,
          46,
          64,
          49,
          19,
          19,
          63,
          27,
          29,
          31,
          31,
          56,
          56,
          30,
          20,
          57,
          19,
          56,
          61,
          25,
          63,
          54,
          53,
          37,
          22,
          21,
          45,
          19,
          54,
          49,
          52,
          35,
          19,
          46,
          19,
          38,
          41,
          48,
          58,
          19,
          34,
          47,
          52,
          51,
          19,
          59,
          59,
          29,
          44,
          19,
          42,
          23,
          39,
          27,
          40,
          45,
          60,
          49,
          53,
          20,
          24,
          26,
          56,
          34,
          47,
          49,
          43,
          49,
          60,
          51,
          58,
          41,
          49,
          50,
          50,
          19,
          28,
          21,
          64,
          57,
          38,
          19,
          41,
          40,
          53,
          21,
          39,
          27,
          45,
          40,
          19,
          33,
          24,
          33,
          26,
          60,
          39,
          36,
          28,
          58,
          36,
          59,
          55,
          61,
          25,
          55,
          23,
          23,
          25,
          36,
          57,
          64,
          19,
          19,
          22,
          59,
          33,
          43,
          34,
          39,
          19,
          42,
          30,
          34,
          24,
          48,
          19,
          52,
          51,
          44,
          22,
          43,
          45,
          27,
          36,
          30,
          29,
          47,
          48,
          59,
          19,
          54,
          21,
          19,
          23,
          46,
          61,
          45,
          19,
          35,
          43,
          25,
          44,
          27,
          55,
          32,
          36,
          63,
          21,
          32,
          38,
          62,
          57,
          22,
          49,
          50,
          28,
          30,
          53,
          63,
          52,
          28,
          50,
          26,
          19,
          52,
          20,
          58,
          35,
          48,
          23,
          43,
          41,
          37,
          38,
          29,
          52,
          24,
          20,
          62,
          31,
          48,
          31,
          19,
          19,
          40,
          37,
          46,
          22,
          35,
          36,
          27,
          38,
          52,
          54,
          26,
          58,
          22,
          51,
          54,
          55,
          26,
          25,
          32,
          25,
          47,
          46,
          33,
          19,
          62,
          32,
          42,
          33,
          30,
          39,
          31,
          31,
          50,
          61
         ],
         "xaxis": "x",
         "y": [
          21984.47061,
          3866.8552,
          7281.5056,
          28923.13692,
          6203.90175,
          12268.63225,
          2775.19215,
          13770.0979,
          1625.43375,
          15612.19335,
          3556.9223,
          3579.8287,
          8059.6791,
          47496.49445,
          5989.52365,
          30166.61817,
          4133.64165,
          14711.7438,
          6389.37785,
          11356.6609,
          6571.02435,
          11033.6617,
          21098.55405,
          43578.9394,
          8026.6666,
          11082.5772,
          10942.13205,
          5729.0053,
          17560.37975,
          3877.30425,
          10825.2537,
          2404.7338,
          6686.4313,
          2257.47525,
          10115.00885,
          32734.1863,
          1632.56445,
          2045.68525,
          18157.876,
          20745.9891,
          40720.55105,
          10959.6947,
          5125.2157,
          6948.7008,
          21348.706,
          5028.1466,
          6128.79745,
          2719.27975,
          2855.43755,
          6455.86265,
          11735.87905,
          7419.4779,
          4922.9159,
          12044.342,
          1639.5631,
          9644.2525,
          2130.6759,
          13012.20865,
          8162.71625,
          3537.703,
          10355.641,
          7443.64305,
          6710.1919,
          17352.6803,
          24476.47851,
          43921.1837,
          11520.09985,
          33750.2918,
          36219.40545,
          7265.7025,
          2523.1695,
          2803.69785,
          14256.1928,
          38746.3551,
          9249.4952,
          19442.3535,
          7749.1564,
          8835.26495,
          7421.19455,
          4894.7533,
          42760.5022,
          24393.6224,
          13429.0354,
          13937.6665,
          13352.0998,
          1635.73365,
          11830.6072,
          9620.3307,
          8017.06115,
          8116.26885,
          13415.0381,
          18033.9679,
          16455.70785,
          30284.64294,
          3176.8159,
          4618.0799,
          2138.0707,
          7526.70645,
          14692.66935,
          10269.46,
          1621.3402,
          2134.9015,
          28950.4692,
          18804.7524,
          4906.40965,
          4243.59005,
          4738.2682,
          26109.32905,
          11454.0215,
          4032.2407,
          1769.53165,
          11840.77505,
          1632.03625,
          12643.3778,
          28868.6639,
          2534.39375,
          15555.18875,
          12475.3513,
          10461.9794,
          6796.86325,
          2643.2685,
          3077.0955,
          8413.46305,
          24059.68019,
          10231.4999,
          23807.2406,
          11187.6567,
          39983.42595,
          1646.4297,
          9193.8385,
          2128.43105,
          6373.55735,
          7256.7231,
          45702.02235,
          12222.8983,
          1639.5631,
          43943.8761,
          8428.0693,
          33471.97189,
          9174.13565,
          17468.9839,
          25678.77845,
          12129.61415,
          3736.4647,
          42983.4585,
          2709.1119,
          32787.45859,
          4466.6214,
          6123.5688,
          4058.71245,
          40003.33225,
          7222.78625,
          46130.5265,
          10156.7832,
          9863.4718,
          2362.22905,
          2352.96845,
          3201.24515,
          10976.24575,
          5385.3379,
          8930.93455,
          10264.4421,
          8310.83915,
          9566.9909,
          13112.6048,
          10848.1343,
          12231.6136,
          6664.68595,
          9583.8933,
          8827.2099,
          9910.35985,
          1627.28245,
          3062.50825,
          1906.35825,
          14210.53595,
          11842.62375,
          6933.24225,
          17748.5062,
          7261.741,
          6986.697,
          9869.8102,
          1917.3184,
          7209.4918,
          18310.742,
          7731.85785,
          28476.73499,
          2136.88225,
          6360.9936,
          2842.76075,
          55135.40209,
          2680.9493,
          12523.6048,
          6117.4945,
          5266.3656,
          4719.73655,
          11743.9341,
          5377.4578,
          12622.1795,
          10601.63225,
          14119.62,
          15817.9857,
          12269.68865,
          2690.1138,
          2789.0574,
          4877.98105,
          5272.1758,
          11945.1327,
          29330.98315,
          2221.56445,
          2117.33885,
          2639.0429,
          14382.70905,
          5257.50795,
          21774.32215,
          4320.41085,
          8965.79575,
          1628.4709,
          6358.77645,
          4527.18295,
          20009.63365,
          12609.88702,
          28468.91901,
          2730.10785,
          26467.09737,
          23967.38305,
          7518.02535,
          2527.81865,
          8410.04685,
          28340.18885,
          16420.49455,
          5267.81815,
          17361.7661,
          4433.3877,
          24915.22085,
          8765.249,
          12124.9924,
          2709.24395,
          12495.29085,
          26018.95052,
          16450.8947,
          21595.38229,
          21677.28345,
          12950.0712,
          39725.51805,
          22493.65964,
          20234.85475,
          21880.82,
          3594.17085,
          8023.13545,
          3353.4703,
          10594.50155,
          4462.7218,
          6548.19505,
          14349.8544,
          1909.52745,
          4454.40265,
          5855.9025,
          15019.76005,
          11353.2276,
          33907.548,
          8988.15875,
          10493.9458,
          5312.16985,
          5693.4305,
          46661.4424,
          14254.6082,
          9991.03765,
          19673.33573,
          11085.5868,
          3176.2877,
          36898.73308,
          11289.10925,
          2261.5688,
          12235.8392,
          5630.45785,
          11015.1747,
          14426.07385,
          7727.2532,
          7153.5539,
          6112.35295,
          6457.8434,
          4433.9159,
          23887.6627,
          2850.68375,
          37465.34375,
          13844.7972,
          5327.40025,
          8671.19125,
          4134.08245,
          18838.70366,
          33307.5508,
          6393.60345,
          6198.7518,
          8733.22925,
          2055.3249,
          5116.5004,
          5373.36425,
          3956.07145,
          7537.1639,
          60021.39897,
          12479.70895,
          2699.56835,
          12224.35085,
          4296.2712,
          11436.73815,
          11305.93455,
          30063.58055,
          3292.52985,
          3021.80915,
          4357.04365,
          4189.1131,
          24535.69855,
          9301.89355,
          5261.46945,
          2710.82855,
          46718.16325,
          21472.4788,
          6940.90985,
          4571.41305,
          18765.87545,
          7201.70085,
          5425.02335,
          4239.89265,
          10600.5483,
          29141.3603
         ],
         "yaxis": "y"
        },
        {
         "hovertemplate": "region=northeast<br>age=%{x}<br>charges=%{y}<extra></extra>",
         "legendgroup": "northeast",
         "marker": {
          "color": "#ab63fa",
          "symbol": "circle"
         },
         "mode": "markers",
         "name": "northeast",
         "showlegend": true,
         "type": "scattergl",
         "x": [
          37,
          25,
          52,
          23,
          60,
          34,
          63,
          18,
          35,
          24,
          38,
          18,
          18,
          58,
          43,
          31,
          22,
          31,
          45,
          59,
          56,
          30,
          18,
          52,
          60,
          18,
          44,
          26,
          59,
          61,
          20,
          34,
          26,
          32,
          42,
          40,
          18,
          47,
          27,
          18,
          41,
          22,
          36,
          64,
          28,
          35,
          40,
          53,
          41,
          47,
          23,
          33,
          63,
          29,
          18,
          50,
          55,
          52,
          59,
          49,
          50,
          47,
          40,
          54,
          30,
          55,
          46,
          59,
          29,
          18,
          36,
          53,
          58,
          52,
          54,
          32,
          26,
          57,
          40,
          61,
          56,
          43,
          50,
          60,
          63,
          46,
          33,
          48,
          49,
          56,
          18,
          57,
          42,
          39,
          27,
          55,
          44,
          48,
          48,
          49,
          46,
          52,
          44,
          26,
          40,
          25,
          38,
          18,
          21,
          22,
          26,
          60,
          62,
          56,
          28,
          18,
          47,
          24,
          31,
          18,
          20,
          43,
          24,
          56,
          51,
          31,
          50,
          51,
          46,
          18,
          62,
          38,
          28,
          25,
          25,
          46,
          54,
          62,
          57,
          31,
          25,
          59,
          21,
          61,
          21,
          46,
          34,
          27,
          28,
          18,
          34,
          56,
          18,
          36,
          40,
          64,
          35,
          39,
          61,
          48,
          40,
          18,
          58,
          48,
          57,
          32,
          62,
          29,
          53,
          42,
          21,
          53,
          50,
          31,
          36,
          20,
          51,
          50,
          29,
          18,
          48,
          23,
          45,
          53,
          24,
          31,
          39,
          30,
          22,
          27,
          45,
          44,
          45,
          60,
          29,
          22,
          30,
          33,
          25,
          28,
          47,
          64,
          36,
          41,
          56,
          35,
          59,
          53,
          37,
          46,
          53,
          49,
          36,
          61,
          44,
          21,
          51,
          57,
          54,
          62,
          43,
          49,
          26,
          26,
          27,
          18,
          45,
          50,
          44,
          18,
          37,
          57,
          43,
          46,
          21,
          34,
          29,
          45,
          54,
          34,
          27,
          20,
          34,
          24,
          38,
          39,
          33,
          47,
          28,
          25,
          51,
          37,
          30,
          18,
          22,
          18,
          20,
          55,
          43,
          64,
          49,
          39,
          63,
          54,
          60,
          21,
          55,
          55,
          18,
          51,
          52,
          33,
          54,
          23,
          41,
          27,
          23,
          57,
          18,
          36,
          20,
          18,
          35,
          18,
          23,
          42,
          48,
          45,
          43,
          41,
          58,
          51,
          37,
          18,
          18,
          30,
          41,
          38,
          58,
          63,
          37,
          32,
          24,
          52,
          32,
          49,
          24,
          22,
          39,
          18,
          47,
          28,
          38,
          58,
          18,
          42,
          29,
          18,
          35,
          62,
          61,
          42,
          23,
          18
         ],
         "xaxis": "x",
         "y": [
          6406.4107,
          2721.3208,
          10797.3362,
          2395.17155,
          13228.84695,
          37701.8768,
          14451.83515,
          2198.18985,
          39774.2763,
          3046.062,
          6079.6715,
          3393.35635,
          2211.13075,
          13607.36875,
          8606.2174,
          6799.458,
          2755.02095,
          4441.21315,
          7935.29115,
          30184.9367,
          22412.6485,
          3645.0894,
          21344.8467,
          11488.31695,
          30259.99556,
          1705.6245,
          39556.4945,
          3385.39915,
          12815.44495,
          13616.3586,
          2457.21115,
          27375.90478,
          3490.5491,
          6334.34355,
          19964.7463,
          7077.1894,
          15518.18025,
          10407.08585,
          4827.90495,
          1694.7964,
          8538.28845,
          4005.4225,
          43753.33705,
          14901.5167,
          4337.7352,
          20984.0936,
          6610.1097,
          10564.8845,
          7358.17565,
          9225.2564,
          38511.6283,
          5354.07465,
          29523.1656,
          4040.55825,
          12829.4551,
          41097.16175,
          13047.33235,
          24869.8368,
          14590.63205,
          9282.4806,
          9617.66245,
          9715.841,
          22331.5668,
          48549.17835,
          4237.12655,
          11879.10405,
          9432.9253,
          47896.79135,
          20277.80751,
          1704.5681,
          6746.7425,
          24873.3849,
          11944.59435,
          9722.7695,
          10435.06525,
          4667.60765,
          24671.66334,
          11566.30055,
          6600.20595,
          48517.56315,
          11658.37915,
          19144.57652,
          41919.097,
          13217.0945,
          13981.85035,
          8334.45755,
          12404.8791,
          10043.249,
          9778.3472,
          13430.265,
          3481.868,
          12029.2867,
          7639.41745,
          21659.9301,
          15006.57945,
          42303.69215,
          8302.53565,
          10736.87075,
          8964.06055,
          9290.1395,
          9411.005,
          11396.9002,
          19594.80965,
          14455.64405,
          39125.33225,
          2727.3951,
          6555.07035,
          7323.734819,
          3167.45585,
          2254.7967,
          2897.3235,
          12730.9996,
          15230.32405,
          11165.41765,
          23288.9284,
          2203.47185,
          20878.78443,
          35147.52848,
          4347.02335,
          2196.4732,
          1967.0227,
          6837.3687,
          3044.2133,
          11763.0009,
          9361.3268,
          3857.75925,
          25656.57526,
          9866.30485,
          8342.90875,
          1708.0014,
          14043.4767,
          6067.12675,
          3268.84665,
          3213.62205,
          17878.90068,
          8334.5896,
          10923.9332,
          31620.00106,
          13224.05705,
          58571.07448,
          3206.49135,
          12913.9924,
          3861.20965,
          13635.6379,
          15359.1045,
          8823.98575,
          5594.8455,
          3558.62025,
          4435.0942,
          2207.69745,
          6753.038,
          11658.11505,
          34617.84065,
          6748.5912,
          7173.35995,
          14410.9321,
          24915.04626,
          20149.3229,
          13143.86485,
          10141.1362,
          8252.2843,
          1712.227,
          12430.95335,
          26392.26029,
          14394.39815,
          5148.5526,
          45710.20785,
          3943.5954,
          11244.3769,
          7729.64575,
          2104.1134,
          29186.48236,
          9541.69555,
          6113.23105,
          5469.0066,
          1984.4533,
          9875.6804,
          10106.13425,
          16657.71745,
          2217.6012,
          9447.25035,
          36189.1017,
          8604.48365,
          43254.41795,
          17128.42608,
          5031.26955,
          7985.815,
          5428.7277,
          3925.7582,
          3070.8087,
          9095.06825,
          12797.20962,
          7448.40395,
          12741.16745,
          5209.57885,
          2731.9122,
          4719.52405,
          17904.52705,
          3309.7926,
          4428.88785,
          23401.30575,
          16069.08475,
          20773.62775,
          39597.4072,
          11657.7189,
          6402.29135,
          12323.936,
          10072.05505,
          37270.1512,
          42111.6647,
          11729.6795,
          24106.91255,
          5458.04645,
          13129.60345,
          8891.1395,
          2585.85065,
          46255.1125,
          27218.43725,
          10422.91665,
          13555.0049,
          19798.05455,
          8688.85885,
          4661.28635,
          4564.19145,
          4846.92015,
          33732.6867,
          35069.37452,
          25333.33284,
          32108.66282,
          2217.46915,
          39047.285,
          11534.87265,
          41034.2214,
          9500.57305,
          3279.86855,
          4992.3764,
          16138.76205,
          9704.66805,
          25517.11363,
          4500.33925,
          16796.41194,
          4915.05985,
          4518.82625,
          14571.8908,
          7144.86265,
          7986.47525,
          6551.7501,
          8627.5411,
          4438.2634,
          23241.47453,
          9957.7216,
          6877.9801,
          4137.5227,
          13747.87235,
          2250.8352,
          1704.70015,
          33475.81715,
          11394.06555,
          7325.0482,
          14394.5579,
          9288.0267,
          5757.41345,
          13974.45555,
          12096.6512,
          13204.28565,
          2102.2647,
          10796.35025,
          11286.5387,
          4561.1885,
          44641.1974,
          23045.56616,
          16776.30405,
          11512.405,
          2396.0959,
          9222.4026,
          18903.49141,
          40904.1995,
          20709.02034,
          2203.73595,
          7228.21565,
          2459.7201,
          2200.83085,
          5227.98875,
          17178.6824,
          2899.48935,
          7650.77375,
          9447.3824,
          8603.8234,
          21771.3423,
          13725.47184,
          13019.16105,
          9964.06,
          20296.86345,
          1702.4553,
          12890.05765,
          4718.20355,
          6858.4796,
          6640.54485,
          11938.25595,
          14449.8544,
          6985.50695,
          37607.5277,
          18648.4217,
          10197.7722,
          4544.2348,
          10370.91255,
          34254.05335,
          2741.948,
          22462.04375,
          14283.4594,
          8534.6718,
          3732.6251,
          7133.9025,
          11931.12525,
          1708.92575,
          21259.37795,
          16115.3045,
          11272.33139,
          19496.71917,
          28101.33305,
          13143.33665,
          7050.0213,
          22395.74424,
          2205.9808
         ],
         "yaxis": "y"
        }
       ],
       "layout": {
        "legend": {
         "title": {
          "text": "region"
         },
         "tracegroupgap": 0
        },
        "margin": {
         "t": 60
        },
        "template": {
         "data": {
          "bar": [
           {
            "error_x": {
             "color": "#2a3f5f"
            },
            "error_y": {
             "color": "#2a3f5f"
            },
            "marker": {
             "line": {
              "color": "#E5ECF6",
              "width": 0.5
             },
             "pattern": {
              "fillmode": "overlay",
              "size": 10,
              "solidity": 0.2
             }
            },
            "type": "bar"
           }
          ],
          "barpolar": [
           {
            "marker": {
             "line": {
              "color": "#E5ECF6",
              "width": 0.5
             },
             "pattern": {
              "fillmode": "overlay",
              "size": 10,
              "solidity": 0.2
             }
            },
            "type": "barpolar"
           }
          ],
          "carpet": [
           {
            "aaxis": {
             "endlinecolor": "#2a3f5f",
             "gridcolor": "white",
             "linecolor": "white",
             "minorgridcolor": "white",
             "startlinecolor": "#2a3f5f"
            },
            "baxis": {
             "endlinecolor": "#2a3f5f",
             "gridcolor": "white",
             "linecolor": "white",
             "minorgridcolor": "white",
             "startlinecolor": "#2a3f5f"
            },
            "type": "carpet"
           }
          ],
          "choropleth": [
           {
            "colorbar": {
             "outlinewidth": 0,
             "ticks": ""
            },
            "type": "choropleth"
           }
          ],
          "contour": [
           {
            "colorbar": {
             "outlinewidth": 0,
             "ticks": ""
            },
            "colorscale": [
             [
              0,
              "#0d0887"
             ],
             [
              0.1111111111111111,
              "#46039f"
             ],
             [
              0.2222222222222222,
              "#7201a8"
             ],
             [
              0.3333333333333333,
              "#9c179e"
             ],
             [
              0.4444444444444444,
              "#bd3786"
             ],
             [
              0.5555555555555556,
              "#d8576b"
             ],
             [
              0.6666666666666666,
              "#ed7953"
             ],
             [
              0.7777777777777778,
              "#fb9f3a"
             ],
             [
              0.8888888888888888,
              "#fdca26"
             ],
             [
              1,
              "#f0f921"
             ]
            ],
            "type": "contour"
           }
          ],
          "contourcarpet": [
           {
            "colorbar": {
             "outlinewidth": 0,
             "ticks": ""
            },
            "type": "contourcarpet"
           }
          ],
          "heatmap": [
           {
            "colorbar": {
             "outlinewidth": 0,
             "ticks": ""
            },
            "colorscale": [
             [
              0,
              "#0d0887"
             ],
             [
              0.1111111111111111,
              "#46039f"
             ],
             [
              0.2222222222222222,
              "#7201a8"
             ],
             [
              0.3333333333333333,
              "#9c179e"
             ],
             [
              0.4444444444444444,
              "#bd3786"
             ],
             [
              0.5555555555555556,
              "#d8576b"
             ],
             [
              0.6666666666666666,
              "#ed7953"
             ],
             [
              0.7777777777777778,
              "#fb9f3a"
             ],
             [
              0.8888888888888888,
              "#fdca26"
             ],
             [
              1,
              "#f0f921"
             ]
            ],
            "type": "heatmap"
           }
          ],
          "heatmapgl": [
           {
            "colorbar": {
             "outlinewidth": 0,
             "ticks": ""
            },
            "colorscale": [
             [
              0,
              "#0d0887"
             ],
             [
              0.1111111111111111,
              "#46039f"
             ],
             [
              0.2222222222222222,
              "#7201a8"
             ],
             [
              0.3333333333333333,
              "#9c179e"
             ],
             [
              0.4444444444444444,
              "#bd3786"
             ],
             [
              0.5555555555555556,
              "#d8576b"
             ],
             [
              0.6666666666666666,
              "#ed7953"
             ],
             [
              0.7777777777777778,
              "#fb9f3a"
             ],
             [
              0.8888888888888888,
              "#fdca26"
             ],
             [
              1,
              "#f0f921"
             ]
            ],
            "type": "heatmapgl"
           }
          ],
          "histogram": [
           {
            "marker": {
             "pattern": {
              "fillmode": "overlay",
              "size": 10,
              "solidity": 0.2
             }
            },
            "type": "histogram"
           }
          ],
          "histogram2d": [
           {
            "colorbar": {
             "outlinewidth": 0,
             "ticks": ""
            },
            "colorscale": [
             [
              0,
              "#0d0887"
             ],
             [
              0.1111111111111111,
              "#46039f"
             ],
             [
              0.2222222222222222,
              "#7201a8"
             ],
             [
              0.3333333333333333,
              "#9c179e"
             ],
             [
              0.4444444444444444,
              "#bd3786"
             ],
             [
              0.5555555555555556,
              "#d8576b"
             ],
             [
              0.6666666666666666,
              "#ed7953"
             ],
             [
              0.7777777777777778,
              "#fb9f3a"
             ],
             [
              0.8888888888888888,
              "#fdca26"
             ],
             [
              1,
              "#f0f921"
             ]
            ],
            "type": "histogram2d"
           }
          ],
          "histogram2dcontour": [
           {
            "colorbar": {
             "outlinewidth": 0,
             "ticks": ""
            },
            "colorscale": [
             [
              0,
              "#0d0887"
             ],
             [
              0.1111111111111111,
              "#46039f"
             ],
             [
              0.2222222222222222,
              "#7201a8"
             ],
             [
              0.3333333333333333,
              "#9c179e"
             ],
             [
              0.4444444444444444,
              "#bd3786"
             ],
             [
              0.5555555555555556,
              "#d8576b"
             ],
             [
              0.6666666666666666,
              "#ed7953"
             ],
             [
              0.7777777777777778,
              "#fb9f3a"
             ],
             [
              0.8888888888888888,
              "#fdca26"
             ],
             [
              1,
              "#f0f921"
             ]
            ],
            "type": "histogram2dcontour"
           }
          ],
          "mesh3d": [
           {
            "colorbar": {
             "outlinewidth": 0,
             "ticks": ""
            },
            "type": "mesh3d"
           }
          ],
          "parcoords": [
           {
            "line": {
             "colorbar": {
              "outlinewidth": 0,
              "ticks": ""
             }
            },
            "type": "parcoords"
           }
          ],
          "pie": [
           {
            "automargin": true,
            "type": "pie"
           }
          ],
          "scatter": [
           {
            "fillpattern": {
             "fillmode": "overlay",
             "size": 10,
             "solidity": 0.2
            },
            "type": "scatter"
           }
          ],
          "scatter3d": [
           {
            "line": {
             "colorbar": {
              "outlinewidth": 0,
              "ticks": ""
             }
            },
            "marker": {
             "colorbar": {
              "outlinewidth": 0,
              "ticks": ""
             }
            },
            "type": "scatter3d"
           }
          ],
          "scattercarpet": [
           {
            "marker": {
             "colorbar": {
              "outlinewidth": 0,
              "ticks": ""
             }
            },
            "type": "scattercarpet"
           }
          ],
          "scattergeo": [
           {
            "marker": {
             "colorbar": {
              "outlinewidth": 0,
              "ticks": ""
             }
            },
            "type": "scattergeo"
           }
          ],
          "scattergl": [
           {
            "marker": {
             "colorbar": {
              "outlinewidth": 0,
              "ticks": ""
             }
            },
            "type": "scattergl"
           }
          ],
          "scattermapbox": [
           {
            "marker": {
             "colorbar": {
              "outlinewidth": 0,
              "ticks": ""
             }
            },
            "type": "scattermapbox"
           }
          ],
          "scatterpolar": [
           {
            "marker": {
             "colorbar": {
              "outlinewidth": 0,
              "ticks": ""
             }
            },
            "type": "scatterpolar"
           }
          ],
          "scatterpolargl": [
           {
            "marker": {
             "colorbar": {
              "outlinewidth": 0,
              "ticks": ""
             }
            },
            "type": "scatterpolargl"
           }
          ],
          "scatterternary": [
           {
            "marker": {
             "colorbar": {
              "outlinewidth": 0,
              "ticks": ""
             }
            },
            "type": "scatterternary"
           }
          ],
          "surface": [
           {
            "colorbar": {
             "outlinewidth": 0,
             "ticks": ""
            },
            "colorscale": [
             [
              0,
              "#0d0887"
             ],
             [
              0.1111111111111111,
              "#46039f"
             ],
             [
              0.2222222222222222,
              "#7201a8"
             ],
             [
              0.3333333333333333,
              "#9c179e"
             ],
             [
              0.4444444444444444,
              "#bd3786"
             ],
             [
              0.5555555555555556,
              "#d8576b"
             ],
             [
              0.6666666666666666,
              "#ed7953"
             ],
             [
              0.7777777777777778,
              "#fb9f3a"
             ],
             [
              0.8888888888888888,
              "#fdca26"
             ],
             [
              1,
              "#f0f921"
             ]
            ],
            "type": "surface"
           }
          ],
          "table": [
           {
            "cells": {
             "fill": {
              "color": "#EBF0F8"
             },
             "line": {
              "color": "white"
             }
            },
            "header": {
             "fill": {
              "color": "#C8D4E3"
             },
             "line": {
              "color": "white"
             }
            },
            "type": "table"
           }
          ]
         },
         "layout": {
          "annotationdefaults": {
           "arrowcolor": "#2a3f5f",
           "arrowhead": 0,
           "arrowwidth": 1
          },
          "autotypenumbers": "strict",
          "coloraxis": {
           "colorbar": {
            "outlinewidth": 0,
            "ticks": ""
           }
          },
          "colorscale": {
           "diverging": [
            [
             0,
             "#8e0152"
            ],
            [
             0.1,
             "#c51b7d"
            ],
            [
             0.2,
             "#de77ae"
            ],
            [
             0.3,
             "#f1b6da"
            ],
            [
             0.4,
             "#fde0ef"
            ],
            [
             0.5,
             "#f7f7f7"
            ],
            [
             0.6,
             "#e6f5d0"
            ],
            [
             0.7,
             "#b8e186"
            ],
            [
             0.8,
             "#7fbc41"
            ],
            [
             0.9,
             "#4d9221"
            ],
            [
             1,
             "#276419"
            ]
           ],
           "sequential": [
            [
             0,
             "#0d0887"
            ],
            [
             0.1111111111111111,
             "#46039f"
            ],
            [
             0.2222222222222222,
             "#7201a8"
            ],
            [
             0.3333333333333333,
             "#9c179e"
            ],
            [
             0.4444444444444444,
             "#bd3786"
            ],
            [
             0.5555555555555556,
             "#d8576b"
            ],
            [
             0.6666666666666666,
             "#ed7953"
            ],
            [
             0.7777777777777778,
             "#fb9f3a"
            ],
            [
             0.8888888888888888,
             "#fdca26"
            ],
            [
             1,
             "#f0f921"
            ]
           ],
           "sequentialminus": [
            [
             0,
             "#0d0887"
            ],
            [
             0.1111111111111111,
             "#46039f"
            ],
            [
             0.2222222222222222,
             "#7201a8"
            ],
            [
             0.3333333333333333,
             "#9c179e"
            ],
            [
             0.4444444444444444,
             "#bd3786"
            ],
            [
             0.5555555555555556,
             "#d8576b"
            ],
            [
             0.6666666666666666,
             "#ed7953"
            ],
            [
             0.7777777777777778,
             "#fb9f3a"
            ],
            [
             0.8888888888888888,
             "#fdca26"
            ],
            [
             1,
             "#f0f921"
            ]
           ]
          },
          "colorway": [
           "#636efa",
           "#EF553B",
           "#00cc96",
           "#ab63fa",
           "#FFA15A",
           "#19d3f3",
           "#FF6692",
           "#B6E880",
           "#FF97FF",
           "#FECB52"
          ],
          "font": {
           "color": "#2a3f5f"
          },
          "geo": {
           "bgcolor": "white",
           "lakecolor": "white",
           "landcolor": "#E5ECF6",
           "showlakes": true,
           "showland": true,
           "subunitcolor": "white"
          },
          "hoverlabel": {
           "align": "left"
          },
          "hovermode": "closest",
          "mapbox": {
           "style": "light"
          },
          "paper_bgcolor": "white",
          "plot_bgcolor": "#E5ECF6",
          "polar": {
           "angularaxis": {
            "gridcolor": "white",
            "linecolor": "white",
            "ticks": ""
           },
           "bgcolor": "#E5ECF6",
           "radialaxis": {
            "gridcolor": "white",
            "linecolor": "white",
            "ticks": ""
           }
          },
          "scene": {
           "xaxis": {
            "backgroundcolor": "#E5ECF6",
            "gridcolor": "white",
            "gridwidth": 2,
            "linecolor": "white",
            "showbackground": true,
            "ticks": "",
            "zerolinecolor": "white"
           },
           "yaxis": {
            "backgroundcolor": "#E5ECF6",
            "gridcolor": "white",
            "gridwidth": 2,
            "linecolor": "white",
            "showbackground": true,
            "ticks": "",
            "zerolinecolor": "white"
           },
           "zaxis": {
            "backgroundcolor": "#E5ECF6",
            "gridcolor": "white",
            "gridwidth": 2,
            "linecolor": "white",
            "showbackground": true,
            "ticks": "",
            "zerolinecolor": "white"
           }
          },
          "shapedefaults": {
           "line": {
            "color": "#2a3f5f"
           }
          },
          "ternary": {
           "aaxis": {
            "gridcolor": "white",
            "linecolor": "white",
            "ticks": ""
           },
           "baxis": {
            "gridcolor": "white",
            "linecolor": "white",
            "ticks": ""
           },
           "bgcolor": "#E5ECF6",
           "caxis": {
            "gridcolor": "white",
            "linecolor": "white",
            "ticks": ""
           }
          },
          "title": {
           "x": 0.05
          },
          "xaxis": {
           "automargin": true,
           "gridcolor": "white",
           "linecolor": "white",
           "ticks": "",
           "title": {
            "standoff": 15
           },
           "zerolinecolor": "white",
           "zerolinewidth": 2
          },
          "yaxis": {
           "automargin": true,
           "gridcolor": "white",
           "linecolor": "white",
           "ticks": "",
           "title": {
            "standoff": 15
           },
           "zerolinecolor": "white",
           "zerolinewidth": 2
          }
         }
        },
        "xaxis": {
         "anchor": "y",
         "domain": [
          0,
          1
         ],
         "title": {
          "text": "age"
         }
        },
        "yaxis": {
         "anchor": "x",
         "domain": [
          0,
          1
         ],
         "title": {
          "text": "charges"
         }
        }
       }
      }
     },
     "metadata": {},
     "output_type": "display_data"
    }
   ],
   "source": [
    "px.scatter(df, x='age', y='charges',\n",
    "           color='region')"
   ]
  },
  {
   "cell_type": "code",
   "execution_count": 31,
   "metadata": {},
   "outputs": [
    {
     "data": {
      "application/vnd.plotly.v1+json": {
       "config": {
        "plotlyServerURL": "https://plot.ly"
       },
       "data": [
        {
         "alignmentgroup": "True",
         "bingroup": "x",
         "hovertemplate": "region=southwest<br>age=%{x}<br>count=%{y}<extra></extra>",
         "legendgroup": "southwest",
         "marker": {
          "color": "#636efa",
          "pattern": {
           "shape": ""
          }
         },
         "name": "southwest",
         "offsetgroup": "southwest",
         "orientation": "v",
         "showlegend": true,
         "type": "histogram",
         "x": [
          19,
          23,
          19,
          56,
          30,
          30,
          31,
          22,
          19,
          28,
          26,
          60,
          55,
          48,
          19,
          61,
          53,
          44,
          37,
          56,
          64,
          54,
          38,
          41,
          34,
          19,
          55,
          37,
          44,
          19,
          52,
          38,
          53,
          19,
          22,
          19,
          54,
          32,
          20,
          49,
          35,
          63,
          54,
          46,
          30,
          41,
          36,
          39,
          46,
          63,
          20,
          45,
          41,
          34,
          32,
          19,
          19,
          59,
          55,
          40,
          19,
          63,
          27,
          58,
          45,
          50,
          22,
          52,
          28,
          25,
          19,
          57,
          28,
          50,
          19,
          27,
          34,
          29,
          64,
          52,
          64,
          24,
          50,
          30,
          46,
          35,
          19,
          21,
          26,
          19,
          43,
          64,
          51,
          31,
          47,
          25,
          36,
          48,
          19,
          42,
          60,
          35,
          33,
          45,
          40,
          35,
          39,
          24,
          59,
          56,
          42,
          60,
          19,
          54,
          51,
          48,
          19,
          19,
          61,
          21,
          31,
          45,
          62,
          29,
          57,
          19,
          39,
          58,
          35,
          51,
          33,
          46,
          34,
          54,
          63,
          62,
          28,
          27,
          49,
          31,
          52,
          19,
          58,
          43,
          56,
          30,
          38,
          49,
          55,
          30,
          37,
          49,
          58,
          53,
          24,
          51,
          33,
          26,
          49,
          56,
          21,
          19,
          39,
          33,
          47,
          47,
          27,
          33,
          24,
          60,
          53,
          62,
          19,
          53,
          24,
          59,
          26,
          29,
          34,
          47,
          23,
          33,
          47,
          42,
          64,
          61,
          53,
          30,
          50,
          35,
          19,
          58,
          21,
          46,
          23,
          45,
          63,
          36,
          21,
          51,
          27,
          20,
          57,
          37,
          38,
          51,
          40,
          57,
          25,
          50,
          43,
          49,
          41,
          37,
          22,
          22,
          61,
          60,
          63,
          32,
          44,
          61,
          62,
          62,
          38,
          43,
          19,
          57,
          39,
          46,
          45,
          59,
          56,
          42,
          25,
          44,
          29,
          35,
          19,
          31,
          44,
          26,
          50,
          39,
          24,
          24,
          48,
          48,
          38,
          26,
          51,
          21,
          54,
          54,
          28,
          49,
          47,
          48,
          29,
          42,
          47,
          32,
          39,
          56,
          23,
          50,
          53,
          37,
          26,
          23,
          55,
          34,
          19,
          27,
          44,
          41,
          50,
          60,
          55,
          42,
          32,
          29,
          32,
          43,
          22,
          40,
          25,
          23,
          31,
          59,
          36,
          59,
          52,
          46,
          20,
          58,
          28,
          45,
          33,
          19,
          20,
          40,
          42,
          28,
          43,
          55,
          20,
          45,
          57,
          61,
          36,
          20,
          19,
          20,
          25,
          43,
          25,
          41,
          34,
          19,
          19,
          52,
          23,
          52,
          21
         ],
         "xaxis": "x",
         "yaxis": "y"
        },
        {
         "alignmentgroup": "True",
         "bingroup": "x",
         "hovertemplate": "region=southeast<br>age=%{x}<br>count=%{y}<extra></extra>",
         "legendgroup": "southeast",
         "marker": {
          "color": "#EF553B",
          "pattern": {
           "shape": ""
          }
         },
         "name": "southeast",
         "offsetgroup": "southeast",
         "orientation": "v",
         "showlegend": true,
         "type": "histogram",
         "x": [
          18,
          28,
          31,
          46,
          62,
          56,
          27,
          18,
          59,
          31,
          41,
          37,
          60,
          36,
          36,
          18,
          53,
          25,
          40,
          28,
          27,
          58,
          29,
          21,
          22,
          21,
          28,
          55,
          61,
          29,
          63,
          58,
          29,
          49,
          22,
          54,
          34,
          29,
          51,
          48,
          48,
          30,
          50,
          18,
          63,
          18,
          44,
          26,
          61,
          25,
          18,
          45,
          48,
          27,
          59,
          34,
          27,
          26,
          24,
          42,
          55,
          28,
          58,
          59,
          40,
          18,
          31,
          44,
          60,
          24,
          54,
          38,
          20,
          53,
          46,
          40,
          18,
          59,
          51,
          46,
          52,
          25,
          22,
          47,
          56,
          28,
          30,
          43,
          49,
          27,
          60,
          46,
          49,
          34,
          33,
          36,
          18,
          46,
          23,
          18,
          21,
          20,
          24,
          62,
          55,
          35,
          58,
          21,
          18,
          47,
          33,
          38,
          32,
          43,
          52,
          64,
          64,
          61,
          45,
          60,
          52,
          18,
          59,
          32,
          55,
          40,
          49,
          30,
          18,
          27,
          21,
          23,
          49,
          18,
          44,
          61,
          44,
          51,
          19,
          38,
          27,
          20,
          32,
          38,
          42,
          18,
          57,
          59,
          37,
          64,
          46,
          53,
          20,
          63,
          54,
          43,
          32,
          34,
          50,
          18,
          18,
          30,
          22,
          39,
          32,
          33,
          38,
          20,
          41,
          42,
          18,
          64,
          51,
          47,
          20,
          47,
          19,
          33,
          29,
          56,
          43,
          49,
          53,
          48,
          45,
          59,
          52,
          37,
          57,
          18,
          64,
          43,
          40,
          30,
          36,
          41,
          44,
          55,
          40,
          27,
          41,
          23,
          21,
          53,
          51,
          18,
          50,
          30,
          41,
          35,
          37,
          27,
          31,
          37,
          58,
          47,
          18,
          51,
          35,
          18,
          51,
          31,
          62,
          39,
          53,
          30,
          42,
          64,
          18,
          23,
          18,
          54,
          36,
          20,
          18,
          44,
          56,
          42,
          23,
          57,
          60,
          23,
          48,
          25,
          18,
          26,
          42,
          33,
          32,
          36,
          47,
          18,
          60,
          49,
          44,
          24,
          35,
          62,
          41,
          26,
          32,
          18,
          53,
          18,
          50,
          62,
          51,
          31,
          54,
          63,
          39,
          50,
          26,
          48,
          26,
          36,
          38,
          63,
          43,
          61,
          22,
          47,
          18,
          47,
          55,
          22,
          22,
          45,
          24,
          24,
          57,
          59,
          48,
          54,
          37,
          32,
          28,
          63,
          18,
          52,
          47,
          22,
          25,
          29,
          58,
          54,
          45,
          38,
          48,
          55,
          25,
          33,
          46,
          35,
          39,
          33,
          50,
          52,
          39,
          43,
          19,
          34,
          30,
          57,
          56,
          31,
          23,
          41,
          18,
          39,
          40,
          29,
          40,
          50,
          20,
          33,
          42,
          56,
          45,
          25,
          52,
          64,
          28,
          18,
          18,
          34,
          41,
          64,
          43,
          35,
          26,
          48,
          18,
          44,
          21,
          28,
          45,
          24,
          18,
          62,
          42,
          51,
          57,
          18
         ],
         "xaxis": "x",
         "yaxis": "y"
        },
        {
         "alignmentgroup": "True",
         "bingroup": "x",
         "hovertemplate": "region=northwest<br>age=%{x}<br>count=%{y}<extra></extra>",
         "legendgroup": "northwest",
         "marker": {
          "color": "#00cc96",
          "pattern": {
           "shape": ""
          }
         },
         "name": "northwest",
         "offsetgroup": "northwest",
         "orientation": "v",
         "showlegend": true,
         "type": "histogram",
         "x": [
          33,
          32,
          37,
          60,
          37,
          55,
          23,
          63,
          19,
          62,
          28,
          21,
          40,
          58,
          34,
          64,
          28,
          20,
          40,
          57,
          41,
          48,
          45,
          57,
          46,
          55,
          53,
          35,
          20,
          26,
          54,
          21,
          37,
          20,
          47,
          32,
          19,
          22,
          29,
          30,
          46,
          53,
          35,
          44,
          42,
          37,
          32,
          19,
          24,
          38,
          58,
          44,
          29,
          56,
          19,
          51,
          19,
          60,
          40,
          24,
          53,
          42,
          39,
          19,
          54,
          56,
          51,
          19,
          19,
          41,
          25,
          19,
          63,
          31,
          48,
          29,
          41,
          50,
          44,
          34,
          45,
          52,
          61,
          62,
          62,
          19,
          57,
          47,
          42,
          44,
          61,
          23,
          64,
          50,
          26,
          24,
          19,
          46,
          64,
          49,
          19,
          19,
          63,
          27,
          29,
          31,
          31,
          56,
          56,
          30,
          20,
          57,
          19,
          56,
          61,
          25,
          63,
          54,
          53,
          37,
          22,
          21,
          45,
          19,
          54,
          49,
          52,
          35,
          19,
          46,
          19,
          38,
          41,
          48,
          58,
          19,
          34,
          47,
          52,
          51,
          19,
          59,
          59,
          29,
          44,
          19,
          42,
          23,
          39,
          27,
          40,
          45,
          60,
          49,
          53,
          20,
          24,
          26,
          56,
          34,
          47,
          49,
          43,
          49,
          60,
          51,
          58,
          41,
          49,
          50,
          50,
          19,
          28,
          21,
          64,
          57,
          38,
          19,
          41,
          40,
          53,
          21,
          39,
          27,
          45,
          40,
          19,
          33,
          24,
          33,
          26,
          60,
          39,
          36,
          28,
          58,
          36,
          59,
          55,
          61,
          25,
          55,
          23,
          23,
          25,
          36,
          57,
          64,
          19,
          19,
          22,
          59,
          33,
          43,
          34,
          39,
          19,
          42,
          30,
          34,
          24,
          48,
          19,
          52,
          51,
          44,
          22,
          43,
          45,
          27,
          36,
          30,
          29,
          47,
          48,
          59,
          19,
          54,
          21,
          19,
          23,
          46,
          61,
          45,
          19,
          35,
          43,
          25,
          44,
          27,
          55,
          32,
          36,
          63,
          21,
          32,
          38,
          62,
          57,
          22,
          49,
          50,
          28,
          30,
          53,
          63,
          52,
          28,
          50,
          26,
          19,
          52,
          20,
          58,
          35,
          48,
          23,
          43,
          41,
          37,
          38,
          29,
          52,
          24,
          20,
          62,
          31,
          48,
          31,
          19,
          19,
          40,
          37,
          46,
          22,
          35,
          36,
          27,
          38,
          52,
          54,
          26,
          58,
          22,
          51,
          54,
          55,
          26,
          25,
          32,
          25,
          47,
          46,
          33,
          19,
          62,
          32,
          42,
          33,
          30,
          39,
          31,
          31,
          50,
          61
         ],
         "xaxis": "x",
         "yaxis": "y"
        },
        {
         "alignmentgroup": "True",
         "bingroup": "x",
         "hovertemplate": "region=northeast<br>age=%{x}<br>count=%{y}<extra></extra>",
         "legendgroup": "northeast",
         "marker": {
          "color": "#ab63fa",
          "pattern": {
           "shape": ""
          }
         },
         "name": "northeast",
         "offsetgroup": "northeast",
         "orientation": "v",
         "showlegend": true,
         "type": "histogram",
         "x": [
          37,
          25,
          52,
          23,
          60,
          34,
          63,
          18,
          35,
          24,
          38,
          18,
          18,
          58,
          43,
          31,
          22,
          31,
          45,
          59,
          56,
          30,
          18,
          52,
          60,
          18,
          44,
          26,
          59,
          61,
          20,
          34,
          26,
          32,
          42,
          40,
          18,
          47,
          27,
          18,
          41,
          22,
          36,
          64,
          28,
          35,
          40,
          53,
          41,
          47,
          23,
          33,
          63,
          29,
          18,
          50,
          55,
          52,
          59,
          49,
          50,
          47,
          40,
          54,
          30,
          55,
          46,
          59,
          29,
          18,
          36,
          53,
          58,
          52,
          54,
          32,
          26,
          57,
          40,
          61,
          56,
          43,
          50,
          60,
          63,
          46,
          33,
          48,
          49,
          56,
          18,
          57,
          42,
          39,
          27,
          55,
          44,
          48,
          48,
          49,
          46,
          52,
          44,
          26,
          40,
          25,
          38,
          18,
          21,
          22,
          26,
          60,
          62,
          56,
          28,
          18,
          47,
          24,
          31,
          18,
          20,
          43,
          24,
          56,
          51,
          31,
          50,
          51,
          46,
          18,
          62,
          38,
          28,
          25,
          25,
          46,
          54,
          62,
          57,
          31,
          25,
          59,
          21,
          61,
          21,
          46,
          34,
          27,
          28,
          18,
          34,
          56,
          18,
          36,
          40,
          64,
          35,
          39,
          61,
          48,
          40,
          18,
          58,
          48,
          57,
          32,
          62,
          29,
          53,
          42,
          21,
          53,
          50,
          31,
          36,
          20,
          51,
          50,
          29,
          18,
          48,
          23,
          45,
          53,
          24,
          31,
          39,
          30,
          22,
          27,
          45,
          44,
          45,
          60,
          29,
          22,
          30,
          33,
          25,
          28,
          47,
          64,
          36,
          41,
          56,
          35,
          59,
          53,
          37,
          46,
          53,
          49,
          36,
          61,
          44,
          21,
          51,
          57,
          54,
          62,
          43,
          49,
          26,
          26,
          27,
          18,
          45,
          50,
          44,
          18,
          37,
          57,
          43,
          46,
          21,
          34,
          29,
          45,
          54,
          34,
          27,
          20,
          34,
          24,
          38,
          39,
          33,
          47,
          28,
          25,
          51,
          37,
          30,
          18,
          22,
          18,
          20,
          55,
          43,
          64,
          49,
          39,
          63,
          54,
          60,
          21,
          55,
          55,
          18,
          51,
          52,
          33,
          54,
          23,
          41,
          27,
          23,
          57,
          18,
          36,
          20,
          18,
          35,
          18,
          23,
          42,
          48,
          45,
          43,
          41,
          58,
          51,
          37,
          18,
          18,
          30,
          41,
          38,
          58,
          63,
          37,
          32,
          24,
          52,
          32,
          49,
          24,
          22,
          39,
          18,
          47,
          28,
          38,
          58,
          18,
          42,
          29,
          18,
          35,
          62,
          61,
          42,
          23,
          18
         ],
         "xaxis": "x",
         "yaxis": "y"
        }
       ],
       "layout": {
        "barmode": "relative",
        "legend": {
         "title": {
          "text": "region"
         },
         "tracegroupgap": 0
        },
        "margin": {
         "t": 60
        },
        "template": {
         "data": {
          "bar": [
           {
            "error_x": {
             "color": "#2a3f5f"
            },
            "error_y": {
             "color": "#2a3f5f"
            },
            "marker": {
             "line": {
              "color": "#E5ECF6",
              "width": 0.5
             },
             "pattern": {
              "fillmode": "overlay",
              "size": 10,
              "solidity": 0.2
             }
            },
            "type": "bar"
           }
          ],
          "barpolar": [
           {
            "marker": {
             "line": {
              "color": "#E5ECF6",
              "width": 0.5
             },
             "pattern": {
              "fillmode": "overlay",
              "size": 10,
              "solidity": 0.2
             }
            },
            "type": "barpolar"
           }
          ],
          "carpet": [
           {
            "aaxis": {
             "endlinecolor": "#2a3f5f",
             "gridcolor": "white",
             "linecolor": "white",
             "minorgridcolor": "white",
             "startlinecolor": "#2a3f5f"
            },
            "baxis": {
             "endlinecolor": "#2a3f5f",
             "gridcolor": "white",
             "linecolor": "white",
             "minorgridcolor": "white",
             "startlinecolor": "#2a3f5f"
            },
            "type": "carpet"
           }
          ],
          "choropleth": [
           {
            "colorbar": {
             "outlinewidth": 0,
             "ticks": ""
            },
            "type": "choropleth"
           }
          ],
          "contour": [
           {
            "colorbar": {
             "outlinewidth": 0,
             "ticks": ""
            },
            "colorscale": [
             [
              0,
              "#0d0887"
             ],
             [
              0.1111111111111111,
              "#46039f"
             ],
             [
              0.2222222222222222,
              "#7201a8"
             ],
             [
              0.3333333333333333,
              "#9c179e"
             ],
             [
              0.4444444444444444,
              "#bd3786"
             ],
             [
              0.5555555555555556,
              "#d8576b"
             ],
             [
              0.6666666666666666,
              "#ed7953"
             ],
             [
              0.7777777777777778,
              "#fb9f3a"
             ],
             [
              0.8888888888888888,
              "#fdca26"
             ],
             [
              1,
              "#f0f921"
             ]
            ],
            "type": "contour"
           }
          ],
          "contourcarpet": [
           {
            "colorbar": {
             "outlinewidth": 0,
             "ticks": ""
            },
            "type": "contourcarpet"
           }
          ],
          "heatmap": [
           {
            "colorbar": {
             "outlinewidth": 0,
             "ticks": ""
            },
            "colorscale": [
             [
              0,
              "#0d0887"
             ],
             [
              0.1111111111111111,
              "#46039f"
             ],
             [
              0.2222222222222222,
              "#7201a8"
             ],
             [
              0.3333333333333333,
              "#9c179e"
             ],
             [
              0.4444444444444444,
              "#bd3786"
             ],
             [
              0.5555555555555556,
              "#d8576b"
             ],
             [
              0.6666666666666666,
              "#ed7953"
             ],
             [
              0.7777777777777778,
              "#fb9f3a"
             ],
             [
              0.8888888888888888,
              "#fdca26"
             ],
             [
              1,
              "#f0f921"
             ]
            ],
            "type": "heatmap"
           }
          ],
          "heatmapgl": [
           {
            "colorbar": {
             "outlinewidth": 0,
             "ticks": ""
            },
            "colorscale": [
             [
              0,
              "#0d0887"
             ],
             [
              0.1111111111111111,
              "#46039f"
             ],
             [
              0.2222222222222222,
              "#7201a8"
             ],
             [
              0.3333333333333333,
              "#9c179e"
             ],
             [
              0.4444444444444444,
              "#bd3786"
             ],
             [
              0.5555555555555556,
              "#d8576b"
             ],
             [
              0.6666666666666666,
              "#ed7953"
             ],
             [
              0.7777777777777778,
              "#fb9f3a"
             ],
             [
              0.8888888888888888,
              "#fdca26"
             ],
             [
              1,
              "#f0f921"
             ]
            ],
            "type": "heatmapgl"
           }
          ],
          "histogram": [
           {
            "marker": {
             "pattern": {
              "fillmode": "overlay",
              "size": 10,
              "solidity": 0.2
             }
            },
            "type": "histogram"
           }
          ],
          "histogram2d": [
           {
            "colorbar": {
             "outlinewidth": 0,
             "ticks": ""
            },
            "colorscale": [
             [
              0,
              "#0d0887"
             ],
             [
              0.1111111111111111,
              "#46039f"
             ],
             [
              0.2222222222222222,
              "#7201a8"
             ],
             [
              0.3333333333333333,
              "#9c179e"
             ],
             [
              0.4444444444444444,
              "#bd3786"
             ],
             [
              0.5555555555555556,
              "#d8576b"
             ],
             [
              0.6666666666666666,
              "#ed7953"
             ],
             [
              0.7777777777777778,
              "#fb9f3a"
             ],
             [
              0.8888888888888888,
              "#fdca26"
             ],
             [
              1,
              "#f0f921"
             ]
            ],
            "type": "histogram2d"
           }
          ],
          "histogram2dcontour": [
           {
            "colorbar": {
             "outlinewidth": 0,
             "ticks": ""
            },
            "colorscale": [
             [
              0,
              "#0d0887"
             ],
             [
              0.1111111111111111,
              "#46039f"
             ],
             [
              0.2222222222222222,
              "#7201a8"
             ],
             [
              0.3333333333333333,
              "#9c179e"
             ],
             [
              0.4444444444444444,
              "#bd3786"
             ],
             [
              0.5555555555555556,
              "#d8576b"
             ],
             [
              0.6666666666666666,
              "#ed7953"
             ],
             [
              0.7777777777777778,
              "#fb9f3a"
             ],
             [
              0.8888888888888888,
              "#fdca26"
             ],
             [
              1,
              "#f0f921"
             ]
            ],
            "type": "histogram2dcontour"
           }
          ],
          "mesh3d": [
           {
            "colorbar": {
             "outlinewidth": 0,
             "ticks": ""
            },
            "type": "mesh3d"
           }
          ],
          "parcoords": [
           {
            "line": {
             "colorbar": {
              "outlinewidth": 0,
              "ticks": ""
             }
            },
            "type": "parcoords"
           }
          ],
          "pie": [
           {
            "automargin": true,
            "type": "pie"
           }
          ],
          "scatter": [
           {
            "fillpattern": {
             "fillmode": "overlay",
             "size": 10,
             "solidity": 0.2
            },
            "type": "scatter"
           }
          ],
          "scatter3d": [
           {
            "line": {
             "colorbar": {
              "outlinewidth": 0,
              "ticks": ""
             }
            },
            "marker": {
             "colorbar": {
              "outlinewidth": 0,
              "ticks": ""
             }
            },
            "type": "scatter3d"
           }
          ],
          "scattercarpet": [
           {
            "marker": {
             "colorbar": {
              "outlinewidth": 0,
              "ticks": ""
             }
            },
            "type": "scattercarpet"
           }
          ],
          "scattergeo": [
           {
            "marker": {
             "colorbar": {
              "outlinewidth": 0,
              "ticks": ""
             }
            },
            "type": "scattergeo"
           }
          ],
          "scattergl": [
           {
            "marker": {
             "colorbar": {
              "outlinewidth": 0,
              "ticks": ""
             }
            },
            "type": "scattergl"
           }
          ],
          "scattermapbox": [
           {
            "marker": {
             "colorbar": {
              "outlinewidth": 0,
              "ticks": ""
             }
            },
            "type": "scattermapbox"
           }
          ],
          "scatterpolar": [
           {
            "marker": {
             "colorbar": {
              "outlinewidth": 0,
              "ticks": ""
             }
            },
            "type": "scatterpolar"
           }
          ],
          "scatterpolargl": [
           {
            "marker": {
             "colorbar": {
              "outlinewidth": 0,
              "ticks": ""
             }
            },
            "type": "scatterpolargl"
           }
          ],
          "scatterternary": [
           {
            "marker": {
             "colorbar": {
              "outlinewidth": 0,
              "ticks": ""
             }
            },
            "type": "scatterternary"
           }
          ],
          "surface": [
           {
            "colorbar": {
             "outlinewidth": 0,
             "ticks": ""
            },
            "colorscale": [
             [
              0,
              "#0d0887"
             ],
             [
              0.1111111111111111,
              "#46039f"
             ],
             [
              0.2222222222222222,
              "#7201a8"
             ],
             [
              0.3333333333333333,
              "#9c179e"
             ],
             [
              0.4444444444444444,
              "#bd3786"
             ],
             [
              0.5555555555555556,
              "#d8576b"
             ],
             [
              0.6666666666666666,
              "#ed7953"
             ],
             [
              0.7777777777777778,
              "#fb9f3a"
             ],
             [
              0.8888888888888888,
              "#fdca26"
             ],
             [
              1,
              "#f0f921"
             ]
            ],
            "type": "surface"
           }
          ],
          "table": [
           {
            "cells": {
             "fill": {
              "color": "#EBF0F8"
             },
             "line": {
              "color": "white"
             }
            },
            "header": {
             "fill": {
              "color": "#C8D4E3"
             },
             "line": {
              "color": "white"
             }
            },
            "type": "table"
           }
          ]
         },
         "layout": {
          "annotationdefaults": {
           "arrowcolor": "#2a3f5f",
           "arrowhead": 0,
           "arrowwidth": 1
          },
          "autotypenumbers": "strict",
          "coloraxis": {
           "colorbar": {
            "outlinewidth": 0,
            "ticks": ""
           }
          },
          "colorscale": {
           "diverging": [
            [
             0,
             "#8e0152"
            ],
            [
             0.1,
             "#c51b7d"
            ],
            [
             0.2,
             "#de77ae"
            ],
            [
             0.3,
             "#f1b6da"
            ],
            [
             0.4,
             "#fde0ef"
            ],
            [
             0.5,
             "#f7f7f7"
            ],
            [
             0.6,
             "#e6f5d0"
            ],
            [
             0.7,
             "#b8e186"
            ],
            [
             0.8,
             "#7fbc41"
            ],
            [
             0.9,
             "#4d9221"
            ],
            [
             1,
             "#276419"
            ]
           ],
           "sequential": [
            [
             0,
             "#0d0887"
            ],
            [
             0.1111111111111111,
             "#46039f"
            ],
            [
             0.2222222222222222,
             "#7201a8"
            ],
            [
             0.3333333333333333,
             "#9c179e"
            ],
            [
             0.4444444444444444,
             "#bd3786"
            ],
            [
             0.5555555555555556,
             "#d8576b"
            ],
            [
             0.6666666666666666,
             "#ed7953"
            ],
            [
             0.7777777777777778,
             "#fb9f3a"
            ],
            [
             0.8888888888888888,
             "#fdca26"
            ],
            [
             1,
             "#f0f921"
            ]
           ],
           "sequentialminus": [
            [
             0,
             "#0d0887"
            ],
            [
             0.1111111111111111,
             "#46039f"
            ],
            [
             0.2222222222222222,
             "#7201a8"
            ],
            [
             0.3333333333333333,
             "#9c179e"
            ],
            [
             0.4444444444444444,
             "#bd3786"
            ],
            [
             0.5555555555555556,
             "#d8576b"
            ],
            [
             0.6666666666666666,
             "#ed7953"
            ],
            [
             0.7777777777777778,
             "#fb9f3a"
            ],
            [
             0.8888888888888888,
             "#fdca26"
            ],
            [
             1,
             "#f0f921"
            ]
           ]
          },
          "colorway": [
           "#636efa",
           "#EF553B",
           "#00cc96",
           "#ab63fa",
           "#FFA15A",
           "#19d3f3",
           "#FF6692",
           "#B6E880",
           "#FF97FF",
           "#FECB52"
          ],
          "font": {
           "color": "#2a3f5f"
          },
          "geo": {
           "bgcolor": "white",
           "lakecolor": "white",
           "landcolor": "#E5ECF6",
           "showlakes": true,
           "showland": true,
           "subunitcolor": "white"
          },
          "hoverlabel": {
           "align": "left"
          },
          "hovermode": "closest",
          "mapbox": {
           "style": "light"
          },
          "paper_bgcolor": "white",
          "plot_bgcolor": "#E5ECF6",
          "polar": {
           "angularaxis": {
            "gridcolor": "white",
            "linecolor": "white",
            "ticks": ""
           },
           "bgcolor": "#E5ECF6",
           "radialaxis": {
            "gridcolor": "white",
            "linecolor": "white",
            "ticks": ""
           }
          },
          "scene": {
           "xaxis": {
            "backgroundcolor": "#E5ECF6",
            "gridcolor": "white",
            "gridwidth": 2,
            "linecolor": "white",
            "showbackground": true,
            "ticks": "",
            "zerolinecolor": "white"
           },
           "yaxis": {
            "backgroundcolor": "#E5ECF6",
            "gridcolor": "white",
            "gridwidth": 2,
            "linecolor": "white",
            "showbackground": true,
            "ticks": "",
            "zerolinecolor": "white"
           },
           "zaxis": {
            "backgroundcolor": "#E5ECF6",
            "gridcolor": "white",
            "gridwidth": 2,
            "linecolor": "white",
            "showbackground": true,
            "ticks": "",
            "zerolinecolor": "white"
           }
          },
          "shapedefaults": {
           "line": {
            "color": "#2a3f5f"
           }
          },
          "ternary": {
           "aaxis": {
            "gridcolor": "white",
            "linecolor": "white",
            "ticks": ""
           },
           "baxis": {
            "gridcolor": "white",
            "linecolor": "white",
            "ticks": ""
           },
           "bgcolor": "#E5ECF6",
           "caxis": {
            "gridcolor": "white",
            "linecolor": "white",
            "ticks": ""
           }
          },
          "title": {
           "x": 0.05
          },
          "xaxis": {
           "automargin": true,
           "gridcolor": "white",
           "linecolor": "white",
           "ticks": "",
           "title": {
            "standoff": 15
           },
           "zerolinecolor": "white",
           "zerolinewidth": 2
          },
          "yaxis": {
           "automargin": true,
           "gridcolor": "white",
           "linecolor": "white",
           "ticks": "",
           "title": {
            "standoff": 15
           },
           "zerolinecolor": "white",
           "zerolinewidth": 2
          }
         }
        },
        "xaxis": {
         "anchor": "y",
         "domain": [
          0,
          1
         ],
         "title": {
          "text": "age"
         }
        },
        "yaxis": {
         "anchor": "x",
         "domain": [
          0,
          1
         ],
         "title": {
          "text": "count"
         }
        }
       }
      }
     },
     "metadata": {},
     "output_type": "display_data"
    }
   ],
   "source": [
    "px.histogram(df,x='age', color='region')"
   ]
  },
  {
   "cell_type": "code",
   "execution_count": 33,
   "metadata": {},
   "outputs": [
    {
     "data": {
      "application/vnd.plotly.v1+json": {
       "config": {
        "plotlyServerURL": "https://plot.ly"
       },
       "data": [
        {
         "alignmentgroup": "True",
         "bingroup": "x",
         "hovertemplate": "region=southwest<br>charges=%{x}<br>count=%{y}<extra></extra>",
         "legendgroup": "southwest",
         "marker": {
          "color": "#636efa",
          "pattern": {
           "shape": ""
          }
         },
         "name": "southwest",
         "offsetgroup": "southwest",
         "orientation": "v",
         "showlegend": true,
         "type": "histogram",
         "x": [
          16884.924,
          1826.843,
          1837.237,
          10602.385,
          36837.467,
          4149.736,
          38711,
          35585.576,
          4687.797,
          51194.55914,
          2302.3,
          48173.361,
          20630.28351,
          23568.272,
          1743.214,
          14235.072,
          11741.726,
          7726.854,
          39836.519,
          11073.176,
          47291.055,
          12105.32,
          15820.699,
          6186.127,
          5003.853,
          2331.519,
          11881.358,
          4646.759,
          7740.337,
          17081.08,
          9634.538,
          6082.405,
          11163.568,
          1261.442,
          2166.732,
          1842.519,
          10450.552,
          5152.134,
          4830.63,
          8116.68,
          5246.047,
          48824.45,
          10436.096,
          8823.279,
          5325.651,
          6775.961,
          4883.866,
          5649.715,
          7147.105,
          13880.949,
          1980.07,
          8520.026,
          7371.772,
          5012.471,
          5253.524,
          34779.615,
          1727.785,
          12333.828,
          35160.13457,
          7196.867,
          1832.094,
          47305.305,
          4260.744,
          11837.16,
          7441.053,
          42856.838,
          2150.469,
          9625.92,
          3172.018,
          3906.127,
          16297.846,
          12646.207,
          20177.67113,
          8444.474,
          1737.376,
          34838.873,
          35491.64,
          2866.091,
          47928.03,
          9144.565,
          13822.803,
          18955.22017,
          8932.084,
          3554.203,
          24603.04837,
          4751.07,
          13844.506,
          2597.779,
          36085.219,
          1261.859,
          8522.003,
          14988.432,
          9264.797,
          3260.199,
          8539.671,
          5080.096,
          18608.262,
          8968.33,
          23082.95533,
          5969.723,
          12638.195,
          5926.846,
          37079.372,
          7345.084,
          5910.944,
          4762.329,
          7512.267,
          1969.614,
          21797.0004,
          10601.412,
          22144.032,
          13224.693,
          1744.465,
          25382.297,
          9880.068,
          9563.029,
          1253.936,
          1748.774,
          12574.049,
          17942.106,
          4931.647,
          8027.968,
          13470.86,
          36197.699,
          11455.28,
          1256.299,
          21082.16,
          11362.755,
          5240.765,
          9861.025,
          5972.378,
          8825.086,
          6196.448,
          11538.421,
          13390.559,
          12957.118,
          3847.674,
          2494.022,
          11552.904,
          3761.292,
          9724.53,
          1242.816,
          11842.442,
          7441.501,
          11070.535,
          39241.442,
          6571.544,
          23306.547,
          10713.644,
          3659.346,
          40182.246,
          9182.17,
          11365.952,
          10085.846,
          1977.815,
          9391.346,
          6666.243,
          3410.324,
          8703.456,
          12363.547,
          2585.269,
          1242.26,
          40103.89,
          4766.022,
          26236.57997,
          8068.185,
          3577.999,
          5375.038,
          2457.502,
          12146.971,
          11264.541,
          12979.358,
          1263.249,
          10065.413,
          4234.927,
          14007.222,
          3484.331,
          44585.45587,
          11737.84884,
          8556.907,
          2416.955,
          19040.876,
          8062.764,
          7050.642,
          14319.031,
          27941.28758,
          11150.78,
          18259.216,
          24520.264,
          6414.178,
          1252.407,
          11848.141,
          2103.08,
          9414.92,
          3597.596,
          7445.918,
          13393.756,
          4402.233,
          1526.312,
          9872.701,
          2974.126,
          1875.344,
          10965.446,
          46113.511,
          7151.092,
          8782.469,
          6600.361,
          11576.13,
          4391.652,
          8457.818,
          6849.026,
          26140.3603,
          6282.235,
          6311.952,
          3443.064,
          1682.597,
          13063.883,
          12644.589,
          15170.069,
          17496.306,
          7626.993,
          13041.921,
          13451.122,
          13462.52,
          5488.262,
          6250.435,
          2913.569,
          12032.326,
          6238.298,
          10096.97,
          7348.142,
          12233.828,
          11674.13,
          7160.094,
          19933.458,
          38998.546,
          3353.284,
          4746.344,
          1759.338,
          19199.944,
          7624.63,
          3378.91,
          10118.424,
          7418.522,
          34472.841,
          1972.95,
          21232.18226,
          8269.044,
          5383.536,
          3987.926,
          8798.593,
          2020.177,
          9850.432,
          12094.478,
          3161.454,
          39727.614,
          25309.489,
          8277.523,
          5708.867,
          7045.499,
          8551.347,
          4076.497,
          19023.26,
          10577.087,
          3591.48,
          11299.343,
          11253.421,
          20420.60465,
          2904.088,
          34166.273,
          10214.636,
          14358.36437,
          1728.897,
          3693.428,
          7623.518,
          7954.517,
          9630.397,
          52590.82939,
          10791.96,
          5979.731,
          3989.841,
          4529.477,
          4670.64,
          22478.6,
          2154.361,
          6496.886,
          2632.992,
          13126.67745,
          4934.705,
          36910.60803,
          38415.474,
          12347.172,
          10806.839,
          41661.602,
          20167.33603,
          11345.519,
          5615.369,
          9101.798,
          6059.173,
          1241.565,
          16232.847,
          15828.82173,
          6474.013,
          3277.161,
          7337.748,
          10704.47,
          1880.487,
          8615.3,
          10959.33,
          47403.88,
          5472.449,
          38344.566,
          34828.654,
          1964.78,
          3208.787,
          37829.7242,
          33900.653,
          6875.961,
          4536.259,
          36397.576,
          1731.677,
          10325.206,
          10795.93733,
          11411.685,
          2007.945
         ],
         "xaxis": "x",
         "yaxis": "y"
        },
        {
         "alignmentgroup": "True",
         "bingroup": "x",
         "hovertemplate": "region=southeast<br>charges=%{x}<br>count=%{y}<extra></extra>",
         "legendgroup": "southeast",
         "marker": {
          "color": "#EF553B",
          "pattern": {
           "shape": ""
          }
         },
         "name": "southeast",
         "offsetgroup": "southeast",
         "orientation": "v",
         "showlegend": true,
         "type": "histogram",
         "x": [
          1725.5523,
          4449.462,
          3756.6216,
          8240.5896,
          27808.7251,
          11090.7178,
          39611.7577,
          1137.011,
          14001.1338,
          4949.7587,
          6272.4772,
          6313.759,
          12629.8967,
          38709.176,
          37742.5757,
          34303.1672,
          23244.7902,
          4504.6624,
          5920.1041,
          17663.1442,
          16577.7795,
          11946.6259,
          3947.4131,
          1532.4697,
          37165.1638,
          2026.9741,
          3766.8838,
          10226.2842,
          30942.1918,
          2867.1196,
          47055.5321,
          11381.3254,
          19107.7796,
          8601.3293,
          2155.6815,
          27322.73386,
          18972.495,
          5138.2567,
          9877.6077,
          7789.635,
          21223.6758,
          36950.2567,
          19749.38338,
          36149.4835,
          13405.3903,
          1631.8212,
          7731.4271,
          3981.9768,
          12557.6053,
          2137.6536,
          1137.4697,
          8516.829,
          8871.1517,
          37133.8982,
          11743.299,
          5002.7827,
          2483.736,
          3392.9768,
          25081.76784,
          19515.5416,
          11987.1682,
          2689.4954,
          24227.33724,
          14001.2867,
          19444.2658,
          1615.7667,
          4463.2051,
          7152.6714,
          12648.7034,
          1986.9334,
          44260.7499,
          5400.9805,
          17085.2676,
          20462.99766,
          46151.1245,
          17179.522,
          1719.4363,
          12928.7911,
          9855.1314,
          7742.1098,
          25992.82104,
          42112.2356,
          2156.7518,
          21978.6769,
          12265.5069,
          4349.462,
          4151.0287,
          42124.5153,
          8124.4084,
          3561.8889,
          12142.5786,
          8232.6388,
          10977.2063,
          6184.2994,
          4889.9995,
          5478.0368,
          14133.03775,
          8944.1151,
          1837.2819,
          1607.5101,
          3180.5101,
          1391.5287,
          38126.2465,
          27000.98473,
          20781.48892,
          5846.9176,
          11856.4115,
          16586.49771,
          1631.6683,
          8083.9198,
          4185.0979,
          6652.5288,
          4074.4537,
          7345.7266,
          9140.951,
          14418.2804,
          46889.2612,
          46599.1084,
          9788.8659,
          13919.8229,
          12592.5345,
          1149.3959,
          28287.89766,
          4686.3887,
          11881.9696,
          7682.67,
          10381.4787,
          19521.9682,
          2201.0971,
          2497.0383,
          1534.3045,
          1824.2854,
          9304.7019,
          1622.1885,
          48885.13561,
          24513.09126,
          8211.1002,
          22218.1149,
          32548.3405,
          5974.3847,
          2498.4144,
          27724.28875,
          3994.1778,
          5397.6167,
          38245.59327,
          11482.63485,
          48675.5177,
          12925.886,
          19214.70553,
          13831.1152,
          8233.0975,
          27346.04207,
          3056.3881,
          13887.204,
          63770.42801,
          45863.205,
          3972.9247,
          3935.1799,
          9058.7303,
          2801.2588,
          2219.4451,
          4753.6368,
          1664.9996,
          6356.2707,
          17626.23951,
          4779.6023,
          5976.8311,
          2566.4707,
          5709.1644,
          7640.3092,
          1633.0444,
          16085.1275,
          9283.562,
          8547.6913,
          1880.07,
          42969.8527,
          34439.8559,
          11326.71487,
          3366.6697,
          12949.1554,
          18806.14547,
          9800.8882,
          10579.711,
          8280.6227,
          8527.532,
          12244.531,
          24667.419,
          6435.6237,
          22192.43711,
          1136.3994,
          27037.9141,
          42560.4304,
          6500.2359,
          4837.5823,
          4399.731,
          6185.3208,
          46200.9851,
          12485.8009,
          5438.7491,
          34806.4677,
          40273.6455,
          3500.6123,
          2020.5523,
          9504.3103,
          44400.4064,
          1727.54,
          10107.2206,
          40932.4295,
          6781.3542,
          19361.9988,
          40419.0191,
          18246.4955,
          3757.8448,
          19539.243,
          11833.7823,
          23065.4207,
          36307.7983,
          10560.4917,
          5934.3798,
          1146.7966,
          9386.1613,
          4350.5144,
          13457.9608,
          5662.225,
          21195.818,
          4266.1658,
          7046.7222,
          14313.8463,
          38792.6856,
          1815.8759,
          1131.5066,
          11013.7119,
          5584.3057,
          1877.9294,
          1621.8827,
          8219.2039,
          43813.8661,
          7160.3303,
          36021.0112,
          27533.9129,
          45008.9555,
          2438.0552,
          40974.1649,
          18218.16139,
          1141.4451,
          3392.3652,
          5966.8874,
          6653.7886,
          19719.6947,
          7243.8136,
          44202.6536,
          1634.5734,
          48673.5588,
          8125.7845,
          7633.7206,
          2473.3341,
          5245.2269,
          13470.8044,
          6289.7549,
          2927.0647,
          4673.3922,
          2304.0022,
          9487.6442,
          1121.8739,
          9549.5651,
          12982.8747,
          47462.894,
          3875.7341,
          41999.52,
          14474.675,
          8596.8278,
          10702.6424,
          2322.6218,
          7804.1605,
          2902.9065,
          4889.0368,
          5484.4673,
          13887.9685,
          18767.7377,
          36580.28216,
          35595.5898,
          42211.1382,
          1711.0268,
          8569.8618,
          44423.803,
          37484.4493,
          44501.3982,
          17929.30337,
          2480.9791,
          1981.5819,
          11554.2236,
          48970.2476,
          8978.1851,
          10928.849,
          39871.7043,
          4562.8421,
          34672.1472,
          15161.5344,
          11884.04858,
          9748.9106,
          41676.0811,
          1674.6323,
          3227.1211,
          3471.4096,
          11363.2832,
          10338.9316,
          8605.3615,
          41949.2441,
          24180.9335,
          10807.4863,
          36124.5737,
          38282.7495,
          8347.1643,
          5836.5204,
          8582.3023,
          3704.3545,
          9048.0273,
          27117.99378,
          6338.0756,
          40941.2854,
          39722.7462,
          5124.1887,
          18963.17192,
          10982.5013,
          11093.6229,
          19350.3689,
          18328.2381,
          5699.8375,
          18223.4512,
          23563.01618,
          5415.6612,
          4058.1161,
          6593.5083,
          8442.667,
          26125.67477,
          4795.6568,
          7162.0122,
          10594.2257,
          8515.7587,
          3238.4357,
          47269.854,
          49577.6624,
          3171.6149,
          1135.9407,
          1633.9618,
          4415.1588,
          6770.1925,
          26926.5144,
          14478.33015,
          4747.0529,
          17043.3414,
          8283.6807,
          1720.3537,
          7147.4728,
          1515.3449,
          4340.4409,
          62592.87309,
          2464.6188,
          1163.4627,
          12981.3457,
          43896.3763,
          9377.9047,
          12629.1656,
          1629.8335
         ],
         "xaxis": "x",
         "yaxis": "y"
        },
        {
         "alignmentgroup": "True",
         "bingroup": "x",
         "hovertemplate": "region=northwest<br>charges=%{x}<br>count=%{y}<extra></extra>",
         "legendgroup": "northwest",
         "marker": {
          "color": "#00cc96",
          "pattern": {
           "shape": ""
          }
         },
         "name": "northwest",
         "offsetgroup": "northwest",
         "orientation": "v",
         "showlegend": true,
         "type": "histogram",
         "x": [
          21984.47061,
          3866.8552,
          7281.5056,
          28923.13692,
          6203.90175,
          12268.63225,
          2775.19215,
          13770.0979,
          1625.43375,
          15612.19335,
          3556.9223,
          3579.8287,
          8059.6791,
          47496.49445,
          5989.52365,
          30166.61817,
          4133.64165,
          14711.7438,
          6389.37785,
          11356.6609,
          6571.02435,
          11033.6617,
          21098.55405,
          43578.9394,
          8026.6666,
          11082.5772,
          10942.13205,
          5729.0053,
          17560.37975,
          3877.30425,
          10825.2537,
          2404.7338,
          6686.4313,
          2257.47525,
          10115.00885,
          32734.1863,
          1632.56445,
          2045.68525,
          18157.876,
          20745.9891,
          40720.55105,
          10959.6947,
          5125.2157,
          6948.7008,
          21348.706,
          5028.1466,
          6128.79745,
          2719.27975,
          2855.43755,
          6455.86265,
          11735.87905,
          7419.4779,
          4922.9159,
          12044.342,
          1639.5631,
          9644.2525,
          2130.6759,
          13012.20865,
          8162.71625,
          3537.703,
          10355.641,
          7443.64305,
          6710.1919,
          17352.6803,
          24476.47851,
          43921.1837,
          11520.09985,
          33750.2918,
          36219.40545,
          7265.7025,
          2523.1695,
          2803.69785,
          14256.1928,
          38746.3551,
          9249.4952,
          19442.3535,
          7749.1564,
          8835.26495,
          7421.19455,
          4894.7533,
          42760.5022,
          24393.6224,
          13429.0354,
          13937.6665,
          13352.0998,
          1635.73365,
          11830.6072,
          9620.3307,
          8017.06115,
          8116.26885,
          13415.0381,
          18033.9679,
          16455.70785,
          30284.64294,
          3176.8159,
          4618.0799,
          2138.0707,
          7526.70645,
          14692.66935,
          10269.46,
          1621.3402,
          2134.9015,
          28950.4692,
          18804.7524,
          4906.40965,
          4243.59005,
          4738.2682,
          26109.32905,
          11454.0215,
          4032.2407,
          1769.53165,
          11840.77505,
          1632.03625,
          12643.3778,
          28868.6639,
          2534.39375,
          15555.18875,
          12475.3513,
          10461.9794,
          6796.86325,
          2643.2685,
          3077.0955,
          8413.46305,
          24059.68019,
          10231.4999,
          23807.2406,
          11187.6567,
          39983.42595,
          1646.4297,
          9193.8385,
          2128.43105,
          6373.55735,
          7256.7231,
          45702.02235,
          12222.8983,
          1639.5631,
          43943.8761,
          8428.0693,
          33471.97189,
          9174.13565,
          17468.9839,
          25678.77845,
          12129.61415,
          3736.4647,
          42983.4585,
          2709.1119,
          32787.45859,
          4466.6214,
          6123.5688,
          4058.71245,
          40003.33225,
          7222.78625,
          46130.5265,
          10156.7832,
          9863.4718,
          2362.22905,
          2352.96845,
          3201.24515,
          10976.24575,
          5385.3379,
          8930.93455,
          10264.4421,
          8310.83915,
          9566.9909,
          13112.6048,
          10848.1343,
          12231.6136,
          6664.68595,
          9583.8933,
          8827.2099,
          9910.35985,
          1627.28245,
          3062.50825,
          1906.35825,
          14210.53595,
          11842.62375,
          6933.24225,
          17748.5062,
          7261.741,
          6986.697,
          9869.8102,
          1917.3184,
          7209.4918,
          18310.742,
          7731.85785,
          28476.73499,
          2136.88225,
          6360.9936,
          2842.76075,
          55135.40209,
          2680.9493,
          12523.6048,
          6117.4945,
          5266.3656,
          4719.73655,
          11743.9341,
          5377.4578,
          12622.1795,
          10601.63225,
          14119.62,
          15817.9857,
          12269.68865,
          2690.1138,
          2789.0574,
          4877.98105,
          5272.1758,
          11945.1327,
          29330.98315,
          2221.56445,
          2117.33885,
          2639.0429,
          14382.70905,
          5257.50795,
          21774.32215,
          4320.41085,
          8965.79575,
          1628.4709,
          6358.77645,
          4527.18295,
          20009.63365,
          12609.88702,
          28468.91901,
          2730.10785,
          26467.09737,
          23967.38305,
          7518.02535,
          2527.81865,
          8410.04685,
          28340.18885,
          16420.49455,
          5267.81815,
          17361.7661,
          4433.3877,
          24915.22085,
          8765.249,
          12124.9924,
          2709.24395,
          12495.29085,
          26018.95052,
          16450.8947,
          21595.38229,
          21677.28345,
          12950.0712,
          39725.51805,
          22493.65964,
          20234.85475,
          21880.82,
          3594.17085,
          8023.13545,
          3353.4703,
          10594.50155,
          4462.7218,
          6548.19505,
          14349.8544,
          1909.52745,
          4454.40265,
          5855.9025,
          15019.76005,
          11353.2276,
          33907.548,
          8988.15875,
          10493.9458,
          5312.16985,
          5693.4305,
          46661.4424,
          14254.6082,
          9991.03765,
          19673.33573,
          11085.5868,
          3176.2877,
          36898.73308,
          11289.10925,
          2261.5688,
          12235.8392,
          5630.45785,
          11015.1747,
          14426.07385,
          7727.2532,
          7153.5539,
          6112.35295,
          6457.8434,
          4433.9159,
          23887.6627,
          2850.68375,
          37465.34375,
          13844.7972,
          5327.40025,
          8671.19125,
          4134.08245,
          18838.70366,
          33307.5508,
          6393.60345,
          6198.7518,
          8733.22925,
          2055.3249,
          5116.5004,
          5373.36425,
          3956.07145,
          7537.1639,
          60021.39897,
          12479.70895,
          2699.56835,
          12224.35085,
          4296.2712,
          11436.73815,
          11305.93455,
          30063.58055,
          3292.52985,
          3021.80915,
          4357.04365,
          4189.1131,
          24535.69855,
          9301.89355,
          5261.46945,
          2710.82855,
          46718.16325,
          21472.4788,
          6940.90985,
          4571.41305,
          18765.87545,
          7201.70085,
          5425.02335,
          4239.89265,
          10600.5483,
          29141.3603
         ],
         "xaxis": "x",
         "yaxis": "y"
        },
        {
         "alignmentgroup": "True",
         "bingroup": "x",
         "hovertemplate": "region=northeast<br>charges=%{x}<br>count=%{y}<extra></extra>",
         "legendgroup": "northeast",
         "marker": {
          "color": "#ab63fa",
          "pattern": {
           "shape": ""
          }
         },
         "name": "northeast",
         "offsetgroup": "northeast",
         "orientation": "v",
         "showlegend": true,
         "type": "histogram",
         "x": [
          6406.4107,
          2721.3208,
          10797.3362,
          2395.17155,
          13228.84695,
          37701.8768,
          14451.83515,
          2198.18985,
          39774.2763,
          3046.062,
          6079.6715,
          3393.35635,
          2211.13075,
          13607.36875,
          8606.2174,
          6799.458,
          2755.02095,
          4441.21315,
          7935.29115,
          30184.9367,
          22412.6485,
          3645.0894,
          21344.8467,
          11488.31695,
          30259.99556,
          1705.6245,
          39556.4945,
          3385.39915,
          12815.44495,
          13616.3586,
          2457.21115,
          27375.90478,
          3490.5491,
          6334.34355,
          19964.7463,
          7077.1894,
          15518.18025,
          10407.08585,
          4827.90495,
          1694.7964,
          8538.28845,
          4005.4225,
          43753.33705,
          14901.5167,
          4337.7352,
          20984.0936,
          6610.1097,
          10564.8845,
          7358.17565,
          9225.2564,
          38511.6283,
          5354.07465,
          29523.1656,
          4040.55825,
          12829.4551,
          41097.16175,
          13047.33235,
          24869.8368,
          14590.63205,
          9282.4806,
          9617.66245,
          9715.841,
          22331.5668,
          48549.17835,
          4237.12655,
          11879.10405,
          9432.9253,
          47896.79135,
          20277.80751,
          1704.5681,
          6746.7425,
          24873.3849,
          11944.59435,
          9722.7695,
          10435.06525,
          4667.60765,
          24671.66334,
          11566.30055,
          6600.20595,
          48517.56315,
          11658.37915,
          19144.57652,
          41919.097,
          13217.0945,
          13981.85035,
          8334.45755,
          12404.8791,
          10043.249,
          9778.3472,
          13430.265,
          3481.868,
          12029.2867,
          7639.41745,
          21659.9301,
          15006.57945,
          42303.69215,
          8302.53565,
          10736.87075,
          8964.06055,
          9290.1395,
          9411.005,
          11396.9002,
          19594.80965,
          14455.64405,
          39125.33225,
          2727.3951,
          6555.07035,
          7323.734819,
          3167.45585,
          2254.7967,
          2897.3235,
          12730.9996,
          15230.32405,
          11165.41765,
          23288.9284,
          2203.47185,
          20878.78443,
          35147.52848,
          4347.02335,
          2196.4732,
          1967.0227,
          6837.3687,
          3044.2133,
          11763.0009,
          9361.3268,
          3857.75925,
          25656.57526,
          9866.30485,
          8342.90875,
          1708.0014,
          14043.4767,
          6067.12675,
          3268.84665,
          3213.62205,
          17878.90068,
          8334.5896,
          10923.9332,
          31620.00106,
          13224.05705,
          58571.07448,
          3206.49135,
          12913.9924,
          3861.20965,
          13635.6379,
          15359.1045,
          8823.98575,
          5594.8455,
          3558.62025,
          4435.0942,
          2207.69745,
          6753.038,
          11658.11505,
          34617.84065,
          6748.5912,
          7173.35995,
          14410.9321,
          24915.04626,
          20149.3229,
          13143.86485,
          10141.1362,
          8252.2843,
          1712.227,
          12430.95335,
          26392.26029,
          14394.39815,
          5148.5526,
          45710.20785,
          3943.5954,
          11244.3769,
          7729.64575,
          2104.1134,
          29186.48236,
          9541.69555,
          6113.23105,
          5469.0066,
          1984.4533,
          9875.6804,
          10106.13425,
          16657.71745,
          2217.6012,
          9447.25035,
          36189.1017,
          8604.48365,
          43254.41795,
          17128.42608,
          5031.26955,
          7985.815,
          5428.7277,
          3925.7582,
          3070.8087,
          9095.06825,
          12797.20962,
          7448.40395,
          12741.16745,
          5209.57885,
          2731.9122,
          4719.52405,
          17904.52705,
          3309.7926,
          4428.88785,
          23401.30575,
          16069.08475,
          20773.62775,
          39597.4072,
          11657.7189,
          6402.29135,
          12323.936,
          10072.05505,
          37270.1512,
          42111.6647,
          11729.6795,
          24106.91255,
          5458.04645,
          13129.60345,
          8891.1395,
          2585.85065,
          46255.1125,
          27218.43725,
          10422.91665,
          13555.0049,
          19798.05455,
          8688.85885,
          4661.28635,
          4564.19145,
          4846.92015,
          33732.6867,
          35069.37452,
          25333.33284,
          32108.66282,
          2217.46915,
          39047.285,
          11534.87265,
          41034.2214,
          9500.57305,
          3279.86855,
          4992.3764,
          16138.76205,
          9704.66805,
          25517.11363,
          4500.33925,
          16796.41194,
          4915.05985,
          4518.82625,
          14571.8908,
          7144.86265,
          7986.47525,
          6551.7501,
          8627.5411,
          4438.2634,
          23241.47453,
          9957.7216,
          6877.9801,
          4137.5227,
          13747.87235,
          2250.8352,
          1704.70015,
          33475.81715,
          11394.06555,
          7325.0482,
          14394.5579,
          9288.0267,
          5757.41345,
          13974.45555,
          12096.6512,
          13204.28565,
          2102.2647,
          10796.35025,
          11286.5387,
          4561.1885,
          44641.1974,
          23045.56616,
          16776.30405,
          11512.405,
          2396.0959,
          9222.4026,
          18903.49141,
          40904.1995,
          20709.02034,
          2203.73595,
          7228.21565,
          2459.7201,
          2200.83085,
          5227.98875,
          17178.6824,
          2899.48935,
          7650.77375,
          9447.3824,
          8603.8234,
          21771.3423,
          13725.47184,
          13019.16105,
          9964.06,
          20296.86345,
          1702.4553,
          12890.05765,
          4718.20355,
          6858.4796,
          6640.54485,
          11938.25595,
          14449.8544,
          6985.50695,
          37607.5277,
          18648.4217,
          10197.7722,
          4544.2348,
          10370.91255,
          34254.05335,
          2741.948,
          22462.04375,
          14283.4594,
          8534.6718,
          3732.6251,
          7133.9025,
          11931.12525,
          1708.92575,
          21259.37795,
          16115.3045,
          11272.33139,
          19496.71917,
          28101.33305,
          13143.33665,
          7050.0213,
          22395.74424,
          2205.9808
         ],
         "xaxis": "x",
         "yaxis": "y"
        }
       ],
       "layout": {
        "barmode": "relative",
        "legend": {
         "title": {
          "text": "region"
         },
         "tracegroupgap": 0
        },
        "margin": {
         "t": 60
        },
        "template": {
         "data": {
          "bar": [
           {
            "error_x": {
             "color": "#2a3f5f"
            },
            "error_y": {
             "color": "#2a3f5f"
            },
            "marker": {
             "line": {
              "color": "#E5ECF6",
              "width": 0.5
             },
             "pattern": {
              "fillmode": "overlay",
              "size": 10,
              "solidity": 0.2
             }
            },
            "type": "bar"
           }
          ],
          "barpolar": [
           {
            "marker": {
             "line": {
              "color": "#E5ECF6",
              "width": 0.5
             },
             "pattern": {
              "fillmode": "overlay",
              "size": 10,
              "solidity": 0.2
             }
            },
            "type": "barpolar"
           }
          ],
          "carpet": [
           {
            "aaxis": {
             "endlinecolor": "#2a3f5f",
             "gridcolor": "white",
             "linecolor": "white",
             "minorgridcolor": "white",
             "startlinecolor": "#2a3f5f"
            },
            "baxis": {
             "endlinecolor": "#2a3f5f",
             "gridcolor": "white",
             "linecolor": "white",
             "minorgridcolor": "white",
             "startlinecolor": "#2a3f5f"
            },
            "type": "carpet"
           }
          ],
          "choropleth": [
           {
            "colorbar": {
             "outlinewidth": 0,
             "ticks": ""
            },
            "type": "choropleth"
           }
          ],
          "contour": [
           {
            "colorbar": {
             "outlinewidth": 0,
             "ticks": ""
            },
            "colorscale": [
             [
              0,
              "#0d0887"
             ],
             [
              0.1111111111111111,
              "#46039f"
             ],
             [
              0.2222222222222222,
              "#7201a8"
             ],
             [
              0.3333333333333333,
              "#9c179e"
             ],
             [
              0.4444444444444444,
              "#bd3786"
             ],
             [
              0.5555555555555556,
              "#d8576b"
             ],
             [
              0.6666666666666666,
              "#ed7953"
             ],
             [
              0.7777777777777778,
              "#fb9f3a"
             ],
             [
              0.8888888888888888,
              "#fdca26"
             ],
             [
              1,
              "#f0f921"
             ]
            ],
            "type": "contour"
           }
          ],
          "contourcarpet": [
           {
            "colorbar": {
             "outlinewidth": 0,
             "ticks": ""
            },
            "type": "contourcarpet"
           }
          ],
          "heatmap": [
           {
            "colorbar": {
             "outlinewidth": 0,
             "ticks": ""
            },
            "colorscale": [
             [
              0,
              "#0d0887"
             ],
             [
              0.1111111111111111,
              "#46039f"
             ],
             [
              0.2222222222222222,
              "#7201a8"
             ],
             [
              0.3333333333333333,
              "#9c179e"
             ],
             [
              0.4444444444444444,
              "#bd3786"
             ],
             [
              0.5555555555555556,
              "#d8576b"
             ],
             [
              0.6666666666666666,
              "#ed7953"
             ],
             [
              0.7777777777777778,
              "#fb9f3a"
             ],
             [
              0.8888888888888888,
              "#fdca26"
             ],
             [
              1,
              "#f0f921"
             ]
            ],
            "type": "heatmap"
           }
          ],
          "heatmapgl": [
           {
            "colorbar": {
             "outlinewidth": 0,
             "ticks": ""
            },
            "colorscale": [
             [
              0,
              "#0d0887"
             ],
             [
              0.1111111111111111,
              "#46039f"
             ],
             [
              0.2222222222222222,
              "#7201a8"
             ],
             [
              0.3333333333333333,
              "#9c179e"
             ],
             [
              0.4444444444444444,
              "#bd3786"
             ],
             [
              0.5555555555555556,
              "#d8576b"
             ],
             [
              0.6666666666666666,
              "#ed7953"
             ],
             [
              0.7777777777777778,
              "#fb9f3a"
             ],
             [
              0.8888888888888888,
              "#fdca26"
             ],
             [
              1,
              "#f0f921"
             ]
            ],
            "type": "heatmapgl"
           }
          ],
          "histogram": [
           {
            "marker": {
             "pattern": {
              "fillmode": "overlay",
              "size": 10,
              "solidity": 0.2
             }
            },
            "type": "histogram"
           }
          ],
          "histogram2d": [
           {
            "colorbar": {
             "outlinewidth": 0,
             "ticks": ""
            },
            "colorscale": [
             [
              0,
              "#0d0887"
             ],
             [
              0.1111111111111111,
              "#46039f"
             ],
             [
              0.2222222222222222,
              "#7201a8"
             ],
             [
              0.3333333333333333,
              "#9c179e"
             ],
             [
              0.4444444444444444,
              "#bd3786"
             ],
             [
              0.5555555555555556,
              "#d8576b"
             ],
             [
              0.6666666666666666,
              "#ed7953"
             ],
             [
              0.7777777777777778,
              "#fb9f3a"
             ],
             [
              0.8888888888888888,
              "#fdca26"
             ],
             [
              1,
              "#f0f921"
             ]
            ],
            "type": "histogram2d"
           }
          ],
          "histogram2dcontour": [
           {
            "colorbar": {
             "outlinewidth": 0,
             "ticks": ""
            },
            "colorscale": [
             [
              0,
              "#0d0887"
             ],
             [
              0.1111111111111111,
              "#46039f"
             ],
             [
              0.2222222222222222,
              "#7201a8"
             ],
             [
              0.3333333333333333,
              "#9c179e"
             ],
             [
              0.4444444444444444,
              "#bd3786"
             ],
             [
              0.5555555555555556,
              "#d8576b"
             ],
             [
              0.6666666666666666,
              "#ed7953"
             ],
             [
              0.7777777777777778,
              "#fb9f3a"
             ],
             [
              0.8888888888888888,
              "#fdca26"
             ],
             [
              1,
              "#f0f921"
             ]
            ],
            "type": "histogram2dcontour"
           }
          ],
          "mesh3d": [
           {
            "colorbar": {
             "outlinewidth": 0,
             "ticks": ""
            },
            "type": "mesh3d"
           }
          ],
          "parcoords": [
           {
            "line": {
             "colorbar": {
              "outlinewidth": 0,
              "ticks": ""
             }
            },
            "type": "parcoords"
           }
          ],
          "pie": [
           {
            "automargin": true,
            "type": "pie"
           }
          ],
          "scatter": [
           {
            "fillpattern": {
             "fillmode": "overlay",
             "size": 10,
             "solidity": 0.2
            },
            "type": "scatter"
           }
          ],
          "scatter3d": [
           {
            "line": {
             "colorbar": {
              "outlinewidth": 0,
              "ticks": ""
             }
            },
            "marker": {
             "colorbar": {
              "outlinewidth": 0,
              "ticks": ""
             }
            },
            "type": "scatter3d"
           }
          ],
          "scattercarpet": [
           {
            "marker": {
             "colorbar": {
              "outlinewidth": 0,
              "ticks": ""
             }
            },
            "type": "scattercarpet"
           }
          ],
          "scattergeo": [
           {
            "marker": {
             "colorbar": {
              "outlinewidth": 0,
              "ticks": ""
             }
            },
            "type": "scattergeo"
           }
          ],
          "scattergl": [
           {
            "marker": {
             "colorbar": {
              "outlinewidth": 0,
              "ticks": ""
             }
            },
            "type": "scattergl"
           }
          ],
          "scattermapbox": [
           {
            "marker": {
             "colorbar": {
              "outlinewidth": 0,
              "ticks": ""
             }
            },
            "type": "scattermapbox"
           }
          ],
          "scatterpolar": [
           {
            "marker": {
             "colorbar": {
              "outlinewidth": 0,
              "ticks": ""
             }
            },
            "type": "scatterpolar"
           }
          ],
          "scatterpolargl": [
           {
            "marker": {
             "colorbar": {
              "outlinewidth": 0,
              "ticks": ""
             }
            },
            "type": "scatterpolargl"
           }
          ],
          "scatterternary": [
           {
            "marker": {
             "colorbar": {
              "outlinewidth": 0,
              "ticks": ""
             }
            },
            "type": "scatterternary"
           }
          ],
          "surface": [
           {
            "colorbar": {
             "outlinewidth": 0,
             "ticks": ""
            },
            "colorscale": [
             [
              0,
              "#0d0887"
             ],
             [
              0.1111111111111111,
              "#46039f"
             ],
             [
              0.2222222222222222,
              "#7201a8"
             ],
             [
              0.3333333333333333,
              "#9c179e"
             ],
             [
              0.4444444444444444,
              "#bd3786"
             ],
             [
              0.5555555555555556,
              "#d8576b"
             ],
             [
              0.6666666666666666,
              "#ed7953"
             ],
             [
              0.7777777777777778,
              "#fb9f3a"
             ],
             [
              0.8888888888888888,
              "#fdca26"
             ],
             [
              1,
              "#f0f921"
             ]
            ],
            "type": "surface"
           }
          ],
          "table": [
           {
            "cells": {
             "fill": {
              "color": "#EBF0F8"
             },
             "line": {
              "color": "white"
             }
            },
            "header": {
             "fill": {
              "color": "#C8D4E3"
             },
             "line": {
              "color": "white"
             }
            },
            "type": "table"
           }
          ]
         },
         "layout": {
          "annotationdefaults": {
           "arrowcolor": "#2a3f5f",
           "arrowhead": 0,
           "arrowwidth": 1
          },
          "autotypenumbers": "strict",
          "coloraxis": {
           "colorbar": {
            "outlinewidth": 0,
            "ticks": ""
           }
          },
          "colorscale": {
           "diverging": [
            [
             0,
             "#8e0152"
            ],
            [
             0.1,
             "#c51b7d"
            ],
            [
             0.2,
             "#de77ae"
            ],
            [
             0.3,
             "#f1b6da"
            ],
            [
             0.4,
             "#fde0ef"
            ],
            [
             0.5,
             "#f7f7f7"
            ],
            [
             0.6,
             "#e6f5d0"
            ],
            [
             0.7,
             "#b8e186"
            ],
            [
             0.8,
             "#7fbc41"
            ],
            [
             0.9,
             "#4d9221"
            ],
            [
             1,
             "#276419"
            ]
           ],
           "sequential": [
            [
             0,
             "#0d0887"
            ],
            [
             0.1111111111111111,
             "#46039f"
            ],
            [
             0.2222222222222222,
             "#7201a8"
            ],
            [
             0.3333333333333333,
             "#9c179e"
            ],
            [
             0.4444444444444444,
             "#bd3786"
            ],
            [
             0.5555555555555556,
             "#d8576b"
            ],
            [
             0.6666666666666666,
             "#ed7953"
            ],
            [
             0.7777777777777778,
             "#fb9f3a"
            ],
            [
             0.8888888888888888,
             "#fdca26"
            ],
            [
             1,
             "#f0f921"
            ]
           ],
           "sequentialminus": [
            [
             0,
             "#0d0887"
            ],
            [
             0.1111111111111111,
             "#46039f"
            ],
            [
             0.2222222222222222,
             "#7201a8"
            ],
            [
             0.3333333333333333,
             "#9c179e"
            ],
            [
             0.4444444444444444,
             "#bd3786"
            ],
            [
             0.5555555555555556,
             "#d8576b"
            ],
            [
             0.6666666666666666,
             "#ed7953"
            ],
            [
             0.7777777777777778,
             "#fb9f3a"
            ],
            [
             0.8888888888888888,
             "#fdca26"
            ],
            [
             1,
             "#f0f921"
            ]
           ]
          },
          "colorway": [
           "#636efa",
           "#EF553B",
           "#00cc96",
           "#ab63fa",
           "#FFA15A",
           "#19d3f3",
           "#FF6692",
           "#B6E880",
           "#FF97FF",
           "#FECB52"
          ],
          "font": {
           "color": "#2a3f5f"
          },
          "geo": {
           "bgcolor": "white",
           "lakecolor": "white",
           "landcolor": "#E5ECF6",
           "showlakes": true,
           "showland": true,
           "subunitcolor": "white"
          },
          "hoverlabel": {
           "align": "left"
          },
          "hovermode": "closest",
          "mapbox": {
           "style": "light"
          },
          "paper_bgcolor": "white",
          "plot_bgcolor": "#E5ECF6",
          "polar": {
           "angularaxis": {
            "gridcolor": "white",
            "linecolor": "white",
            "ticks": ""
           },
           "bgcolor": "#E5ECF6",
           "radialaxis": {
            "gridcolor": "white",
            "linecolor": "white",
            "ticks": ""
           }
          },
          "scene": {
           "xaxis": {
            "backgroundcolor": "#E5ECF6",
            "gridcolor": "white",
            "gridwidth": 2,
            "linecolor": "white",
            "showbackground": true,
            "ticks": "",
            "zerolinecolor": "white"
           },
           "yaxis": {
            "backgroundcolor": "#E5ECF6",
            "gridcolor": "white",
            "gridwidth": 2,
            "linecolor": "white",
            "showbackground": true,
            "ticks": "",
            "zerolinecolor": "white"
           },
           "zaxis": {
            "backgroundcolor": "#E5ECF6",
            "gridcolor": "white",
            "gridwidth": 2,
            "linecolor": "white",
            "showbackground": true,
            "ticks": "",
            "zerolinecolor": "white"
           }
          },
          "shapedefaults": {
           "line": {
            "color": "#2a3f5f"
           }
          },
          "ternary": {
           "aaxis": {
            "gridcolor": "white",
            "linecolor": "white",
            "ticks": ""
           },
           "baxis": {
            "gridcolor": "white",
            "linecolor": "white",
            "ticks": ""
           },
           "bgcolor": "#E5ECF6",
           "caxis": {
            "gridcolor": "white",
            "linecolor": "white",
            "ticks": ""
           }
          },
          "title": {
           "x": 0.05
          },
          "xaxis": {
           "automargin": true,
           "gridcolor": "white",
           "linecolor": "white",
           "ticks": "",
           "title": {
            "standoff": 15
           },
           "zerolinecolor": "white",
           "zerolinewidth": 2
          },
          "yaxis": {
           "automargin": true,
           "gridcolor": "white",
           "linecolor": "white",
           "ticks": "",
           "title": {
            "standoff": 15
           },
           "zerolinecolor": "white",
           "zerolinewidth": 2
          }
         }
        },
        "xaxis": {
         "anchor": "y",
         "domain": [
          0,
          1
         ],
         "title": {
          "text": "charges"
         }
        },
        "yaxis": {
         "anchor": "x",
         "domain": [
          0,
          1
         ],
         "title": {
          "text": "count"
         }
        }
       }
      }
     },
     "metadata": {},
     "output_type": "display_data"
    }
   ],
   "source": [
    "px.histogram(df,x='charges', color='region')"
   ]
  },
  {
   "cell_type": "code",
   "execution_count": 40,
   "metadata": {},
   "outputs": [
    {
     "data": {
      "application/vnd.plotly.v1+json": {
       "config": {
        "plotlyServerURL": "https://plot.ly"
       },
       "data": [
        {
         "branchvalues": "total",
         "domain": {
          "x": [
           0,
           1
          ],
          "y": [
           0,
           1
          ]
         },
         "hovertemplate": "labels=%{label}<br>count=%{value}<br>parent=%{parent}<br>id=%{id}<extra></extra>",
         "ids": [
          "northeast/no/female",
          "northwest/no/female",
          "southeast/no/female",
          "southwest/no/female",
          "northeast/yes/female",
          "northwest/yes/female",
          "southeast/yes/female",
          "southwest/yes/female",
          "northeast/no/male",
          "northwest/no/male",
          "southeast/no/male",
          "southwest/no/male",
          "northeast/yes/male",
          "northwest/yes/male",
          "southeast/yes/male",
          "southwest/yes/male",
          "northeast/no",
          "northwest/no",
          "southeast/no",
          "southwest/no",
          "northeast/yes",
          "northwest/yes",
          "southeast/yes",
          "southwest/yes",
          "northeast",
          "northwest",
          "southeast",
          "southwest"
         ],
         "labels": [
          "female",
          "female",
          "female",
          "female",
          "female",
          "female",
          "female",
          "female",
          "male",
          "male",
          "male",
          "male",
          "male",
          "male",
          "male",
          "male",
          "no",
          "no",
          "no",
          "no",
          "yes",
          "yes",
          "yes",
          "yes",
          "northeast",
          "northwest",
          "southeast",
          "southwest"
         ],
         "name": "",
         "parents": [
          "northeast/no",
          "northwest/no",
          "southeast/no",
          "southwest/no",
          "northeast/yes",
          "northwest/yes",
          "southeast/yes",
          "southwest/yes",
          "northeast/no",
          "northwest/no",
          "southeast/no",
          "southwest/no",
          "northeast/yes",
          "northwest/yes",
          "southeast/yes",
          "southwest/yes",
          "northeast",
          "northwest",
          "southeast",
          "southwest",
          "northeast",
          "northwest",
          "southeast",
          "southwest",
          "",
          "",
          "",
          ""
         ],
         "type": "treemap",
         "values": [
          132,
          135,
          139,
          141,
          29,
          29,
          36,
          21,
          125,
          132,
          134,
          126,
          38,
          29,
          55,
          37,
          257,
          267,
          273,
          267,
          67,
          58,
          91,
          58,
          324,
          325,
          364,
          325
         ]
        }
       ],
       "layout": {
        "legend": {
         "tracegroupgap": 0
        },
        "margin": {
         "t": 60
        },
        "template": {
         "data": {
          "bar": [
           {
            "error_x": {
             "color": "#2a3f5f"
            },
            "error_y": {
             "color": "#2a3f5f"
            },
            "marker": {
             "line": {
              "color": "#E5ECF6",
              "width": 0.5
             },
             "pattern": {
              "fillmode": "overlay",
              "size": 10,
              "solidity": 0.2
             }
            },
            "type": "bar"
           }
          ],
          "barpolar": [
           {
            "marker": {
             "line": {
              "color": "#E5ECF6",
              "width": 0.5
             },
             "pattern": {
              "fillmode": "overlay",
              "size": 10,
              "solidity": 0.2
             }
            },
            "type": "barpolar"
           }
          ],
          "carpet": [
           {
            "aaxis": {
             "endlinecolor": "#2a3f5f",
             "gridcolor": "white",
             "linecolor": "white",
             "minorgridcolor": "white",
             "startlinecolor": "#2a3f5f"
            },
            "baxis": {
             "endlinecolor": "#2a3f5f",
             "gridcolor": "white",
             "linecolor": "white",
             "minorgridcolor": "white",
             "startlinecolor": "#2a3f5f"
            },
            "type": "carpet"
           }
          ],
          "choropleth": [
           {
            "colorbar": {
             "outlinewidth": 0,
             "ticks": ""
            },
            "type": "choropleth"
           }
          ],
          "contour": [
           {
            "colorbar": {
             "outlinewidth": 0,
             "ticks": ""
            },
            "colorscale": [
             [
              0,
              "#0d0887"
             ],
             [
              0.1111111111111111,
              "#46039f"
             ],
             [
              0.2222222222222222,
              "#7201a8"
             ],
             [
              0.3333333333333333,
              "#9c179e"
             ],
             [
              0.4444444444444444,
              "#bd3786"
             ],
             [
              0.5555555555555556,
              "#d8576b"
             ],
             [
              0.6666666666666666,
              "#ed7953"
             ],
             [
              0.7777777777777778,
              "#fb9f3a"
             ],
             [
              0.8888888888888888,
              "#fdca26"
             ],
             [
              1,
              "#f0f921"
             ]
            ],
            "type": "contour"
           }
          ],
          "contourcarpet": [
           {
            "colorbar": {
             "outlinewidth": 0,
             "ticks": ""
            },
            "type": "contourcarpet"
           }
          ],
          "heatmap": [
           {
            "colorbar": {
             "outlinewidth": 0,
             "ticks": ""
            },
            "colorscale": [
             [
              0,
              "#0d0887"
             ],
             [
              0.1111111111111111,
              "#46039f"
             ],
             [
              0.2222222222222222,
              "#7201a8"
             ],
             [
              0.3333333333333333,
              "#9c179e"
             ],
             [
              0.4444444444444444,
              "#bd3786"
             ],
             [
              0.5555555555555556,
              "#d8576b"
             ],
             [
              0.6666666666666666,
              "#ed7953"
             ],
             [
              0.7777777777777778,
              "#fb9f3a"
             ],
             [
              0.8888888888888888,
              "#fdca26"
             ],
             [
              1,
              "#f0f921"
             ]
            ],
            "type": "heatmap"
           }
          ],
          "heatmapgl": [
           {
            "colorbar": {
             "outlinewidth": 0,
             "ticks": ""
            },
            "colorscale": [
             [
              0,
              "#0d0887"
             ],
             [
              0.1111111111111111,
              "#46039f"
             ],
             [
              0.2222222222222222,
              "#7201a8"
             ],
             [
              0.3333333333333333,
              "#9c179e"
             ],
             [
              0.4444444444444444,
              "#bd3786"
             ],
             [
              0.5555555555555556,
              "#d8576b"
             ],
             [
              0.6666666666666666,
              "#ed7953"
             ],
             [
              0.7777777777777778,
              "#fb9f3a"
             ],
             [
              0.8888888888888888,
              "#fdca26"
             ],
             [
              1,
              "#f0f921"
             ]
            ],
            "type": "heatmapgl"
           }
          ],
          "histogram": [
           {
            "marker": {
             "pattern": {
              "fillmode": "overlay",
              "size": 10,
              "solidity": 0.2
             }
            },
            "type": "histogram"
           }
          ],
          "histogram2d": [
           {
            "colorbar": {
             "outlinewidth": 0,
             "ticks": ""
            },
            "colorscale": [
             [
              0,
              "#0d0887"
             ],
             [
              0.1111111111111111,
              "#46039f"
             ],
             [
              0.2222222222222222,
              "#7201a8"
             ],
             [
              0.3333333333333333,
              "#9c179e"
             ],
             [
              0.4444444444444444,
              "#bd3786"
             ],
             [
              0.5555555555555556,
              "#d8576b"
             ],
             [
              0.6666666666666666,
              "#ed7953"
             ],
             [
              0.7777777777777778,
              "#fb9f3a"
             ],
             [
              0.8888888888888888,
              "#fdca26"
             ],
             [
              1,
              "#f0f921"
             ]
            ],
            "type": "histogram2d"
           }
          ],
          "histogram2dcontour": [
           {
            "colorbar": {
             "outlinewidth": 0,
             "ticks": ""
            },
            "colorscale": [
             [
              0,
              "#0d0887"
             ],
             [
              0.1111111111111111,
              "#46039f"
             ],
             [
              0.2222222222222222,
              "#7201a8"
             ],
             [
              0.3333333333333333,
              "#9c179e"
             ],
             [
              0.4444444444444444,
              "#bd3786"
             ],
             [
              0.5555555555555556,
              "#d8576b"
             ],
             [
              0.6666666666666666,
              "#ed7953"
             ],
             [
              0.7777777777777778,
              "#fb9f3a"
             ],
             [
              0.8888888888888888,
              "#fdca26"
             ],
             [
              1,
              "#f0f921"
             ]
            ],
            "type": "histogram2dcontour"
           }
          ],
          "mesh3d": [
           {
            "colorbar": {
             "outlinewidth": 0,
             "ticks": ""
            },
            "type": "mesh3d"
           }
          ],
          "parcoords": [
           {
            "line": {
             "colorbar": {
              "outlinewidth": 0,
              "ticks": ""
             }
            },
            "type": "parcoords"
           }
          ],
          "pie": [
           {
            "automargin": true,
            "type": "pie"
           }
          ],
          "scatter": [
           {
            "fillpattern": {
             "fillmode": "overlay",
             "size": 10,
             "solidity": 0.2
            },
            "type": "scatter"
           }
          ],
          "scatter3d": [
           {
            "line": {
             "colorbar": {
              "outlinewidth": 0,
              "ticks": ""
             }
            },
            "marker": {
             "colorbar": {
              "outlinewidth": 0,
              "ticks": ""
             }
            },
            "type": "scatter3d"
           }
          ],
          "scattercarpet": [
           {
            "marker": {
             "colorbar": {
              "outlinewidth": 0,
              "ticks": ""
             }
            },
            "type": "scattercarpet"
           }
          ],
          "scattergeo": [
           {
            "marker": {
             "colorbar": {
              "outlinewidth": 0,
              "ticks": ""
             }
            },
            "type": "scattergeo"
           }
          ],
          "scattergl": [
           {
            "marker": {
             "colorbar": {
              "outlinewidth": 0,
              "ticks": ""
             }
            },
            "type": "scattergl"
           }
          ],
          "scattermapbox": [
           {
            "marker": {
             "colorbar": {
              "outlinewidth": 0,
              "ticks": ""
             }
            },
            "type": "scattermapbox"
           }
          ],
          "scatterpolar": [
           {
            "marker": {
             "colorbar": {
              "outlinewidth": 0,
              "ticks": ""
             }
            },
            "type": "scatterpolar"
           }
          ],
          "scatterpolargl": [
           {
            "marker": {
             "colorbar": {
              "outlinewidth": 0,
              "ticks": ""
             }
            },
            "type": "scatterpolargl"
           }
          ],
          "scatterternary": [
           {
            "marker": {
             "colorbar": {
              "outlinewidth": 0,
              "ticks": ""
             }
            },
            "type": "scatterternary"
           }
          ],
          "surface": [
           {
            "colorbar": {
             "outlinewidth": 0,
             "ticks": ""
            },
            "colorscale": [
             [
              0,
              "#0d0887"
             ],
             [
              0.1111111111111111,
              "#46039f"
             ],
             [
              0.2222222222222222,
              "#7201a8"
             ],
             [
              0.3333333333333333,
              "#9c179e"
             ],
             [
              0.4444444444444444,
              "#bd3786"
             ],
             [
              0.5555555555555556,
              "#d8576b"
             ],
             [
              0.6666666666666666,
              "#ed7953"
             ],
             [
              0.7777777777777778,
              "#fb9f3a"
             ],
             [
              0.8888888888888888,
              "#fdca26"
             ],
             [
              1,
              "#f0f921"
             ]
            ],
            "type": "surface"
           }
          ],
          "table": [
           {
            "cells": {
             "fill": {
              "color": "#EBF0F8"
             },
             "line": {
              "color": "white"
             }
            },
            "header": {
             "fill": {
              "color": "#C8D4E3"
             },
             "line": {
              "color": "white"
             }
            },
            "type": "table"
           }
          ]
         },
         "layout": {
          "annotationdefaults": {
           "arrowcolor": "#2a3f5f",
           "arrowhead": 0,
           "arrowwidth": 1
          },
          "autotypenumbers": "strict",
          "coloraxis": {
           "colorbar": {
            "outlinewidth": 0,
            "ticks": ""
           }
          },
          "colorscale": {
           "diverging": [
            [
             0,
             "#8e0152"
            ],
            [
             0.1,
             "#c51b7d"
            ],
            [
             0.2,
             "#de77ae"
            ],
            [
             0.3,
             "#f1b6da"
            ],
            [
             0.4,
             "#fde0ef"
            ],
            [
             0.5,
             "#f7f7f7"
            ],
            [
             0.6,
             "#e6f5d0"
            ],
            [
             0.7,
             "#b8e186"
            ],
            [
             0.8,
             "#7fbc41"
            ],
            [
             0.9,
             "#4d9221"
            ],
            [
             1,
             "#276419"
            ]
           ],
           "sequential": [
            [
             0,
             "#0d0887"
            ],
            [
             0.1111111111111111,
             "#46039f"
            ],
            [
             0.2222222222222222,
             "#7201a8"
            ],
            [
             0.3333333333333333,
             "#9c179e"
            ],
            [
             0.4444444444444444,
             "#bd3786"
            ],
            [
             0.5555555555555556,
             "#d8576b"
            ],
            [
             0.6666666666666666,
             "#ed7953"
            ],
            [
             0.7777777777777778,
             "#fb9f3a"
            ],
            [
             0.8888888888888888,
             "#fdca26"
            ],
            [
             1,
             "#f0f921"
            ]
           ],
           "sequentialminus": [
            [
             0,
             "#0d0887"
            ],
            [
             0.1111111111111111,
             "#46039f"
            ],
            [
             0.2222222222222222,
             "#7201a8"
            ],
            [
             0.3333333333333333,
             "#9c179e"
            ],
            [
             0.4444444444444444,
             "#bd3786"
            ],
            [
             0.5555555555555556,
             "#d8576b"
            ],
            [
             0.6666666666666666,
             "#ed7953"
            ],
            [
             0.7777777777777778,
             "#fb9f3a"
            ],
            [
             0.8888888888888888,
             "#fdca26"
            ],
            [
             1,
             "#f0f921"
            ]
           ]
          },
          "colorway": [
           "#636efa",
           "#EF553B",
           "#00cc96",
           "#ab63fa",
           "#FFA15A",
           "#19d3f3",
           "#FF6692",
           "#B6E880",
           "#FF97FF",
           "#FECB52"
          ],
          "font": {
           "color": "#2a3f5f"
          },
          "geo": {
           "bgcolor": "white",
           "lakecolor": "white",
           "landcolor": "#E5ECF6",
           "showlakes": true,
           "showland": true,
           "subunitcolor": "white"
          },
          "hoverlabel": {
           "align": "left"
          },
          "hovermode": "closest",
          "mapbox": {
           "style": "light"
          },
          "paper_bgcolor": "white",
          "plot_bgcolor": "#E5ECF6",
          "polar": {
           "angularaxis": {
            "gridcolor": "white",
            "linecolor": "white",
            "ticks": ""
           },
           "bgcolor": "#E5ECF6",
           "radialaxis": {
            "gridcolor": "white",
            "linecolor": "white",
            "ticks": ""
           }
          },
          "scene": {
           "xaxis": {
            "backgroundcolor": "#E5ECF6",
            "gridcolor": "white",
            "gridwidth": 2,
            "linecolor": "white",
            "showbackground": true,
            "ticks": "",
            "zerolinecolor": "white"
           },
           "yaxis": {
            "backgroundcolor": "#E5ECF6",
            "gridcolor": "white",
            "gridwidth": 2,
            "linecolor": "white",
            "showbackground": true,
            "ticks": "",
            "zerolinecolor": "white"
           },
           "zaxis": {
            "backgroundcolor": "#E5ECF6",
            "gridcolor": "white",
            "gridwidth": 2,
            "linecolor": "white",
            "showbackground": true,
            "ticks": "",
            "zerolinecolor": "white"
           }
          },
          "shapedefaults": {
           "line": {
            "color": "#2a3f5f"
           }
          },
          "ternary": {
           "aaxis": {
            "gridcolor": "white",
            "linecolor": "white",
            "ticks": ""
           },
           "baxis": {
            "gridcolor": "white",
            "linecolor": "white",
            "ticks": ""
           },
           "bgcolor": "#E5ECF6",
           "caxis": {
            "gridcolor": "white",
            "linecolor": "white",
            "ticks": ""
           }
          },
          "title": {
           "x": 0.05
          },
          "xaxis": {
           "automargin": true,
           "gridcolor": "white",
           "linecolor": "white",
           "ticks": "",
           "title": {
            "standoff": 15
           },
           "zerolinecolor": "white",
           "zerolinewidth": 2
          },
          "yaxis": {
           "automargin": true,
           "gridcolor": "white",
           "linecolor": "white",
           "ticks": "",
           "title": {
            "standoff": 15
           },
           "zerolinecolor": "white",
           "zerolinewidth": 2
          }
         }
        }
       }
      }
     },
     "metadata": {},
     "output_type": "display_data"
    }
   ],
   "source": [
    "px.treemap(df, path=['region','smoker','sex'])"
   ]
  },
  {
   "cell_type": "code",
   "execution_count": 39,
   "metadata": {},
   "outputs": [
    {
     "data": {
      "application/vnd.plotly.v1+json": {
       "config": {
        "plotlyServerURL": "https://plot.ly"
       },
       "data": [
        {
         "branchvalues": "total",
         "domain": {
          "x": [
           0,
           1
          ],
          "y": [
           0,
           1
          ]
         },
         "hovertemplate": "labels=%{label}<br>charges=%{value}<br>parent=%{parent}<br>id=%{id}<extra></extra>",
         "ids": [
          "northeast/no/female",
          "northwest/no/female",
          "southeast/no/female",
          "southwest/no/female",
          "northeast/yes/female",
          "northwest/yes/female",
          "southeast/yes/female",
          "southwest/yes/female",
          "northeast/no/male",
          "northwest/no/male",
          "southeast/no/male",
          "southwest/no/male",
          "northeast/yes/male",
          "northwest/yes/male",
          "southeast/yes/male",
          "southwest/yes/male",
          "northeast/no",
          "northwest/no",
          "southeast/no",
          "southwest/no",
          "northeast/yes",
          "northwest/yes",
          "southeast/yes",
          "southwest/yes",
          "northeast",
          "northwest",
          "southeast",
          "southwest"
         ],
         "labels": [
          "female",
          "female",
          "female",
          "female",
          "female",
          "female",
          "female",
          "female",
          "male",
          "male",
          "male",
          "male",
          "male",
          "male",
          "male",
          "male",
          "no",
          "no",
          "no",
          "no",
          "yes",
          "yes",
          "yes",
          "yes",
          "northeast",
          "northwest",
          "southeast",
          "southwest"
         ],
         "name": "",
         "parents": [
          "northeast/no",
          "northwest/no",
          "southeast/no",
          "southwest/no",
          "northeast/yes",
          "northwest/yes",
          "southeast/yes",
          "southwest/yes",
          "northeast/no",
          "northwest/no",
          "southeast/no",
          "southwest/no",
          "northeast/yes",
          "northwest/yes",
          "southeast/yes",
          "southwest/yes",
          "northeast",
          "northwest",
          "southeast",
          "southwest",
          "northeast",
          "northwest",
          "southeast",
          "southwest",
          "",
          "",
          "",
          ""
         ],
         "type": "treemap",
         "values": [
          1272536.361829,
          1186244.82162,
          1173188.5717200001,
          1161006.86768,
          812929.34553,
          860453.92342,
          1189253.54579,
          665447.75703,
          1083005.2778,
          1098330.99034,
          1019606.48062,
          980142.09731,
          1175197.59815,
          890682.26116,
          1981641.16516,
          1206157.9256,
          2355541.639629,
          2284575.81196,
          2192795.05234,
          2141148.96499,
          1988126.94368,
          1751136.1845800001,
          3170894.71095,
          1871605.68263,
          4343668.583309,
          4035711.99654,
          5363689.76329,
          4012754.64762
         ]
        }
       ],
       "layout": {
        "legend": {
         "tracegroupgap": 0
        },
        "margin": {
         "t": 60
        },
        "template": {
         "data": {
          "bar": [
           {
            "error_x": {
             "color": "#2a3f5f"
            },
            "error_y": {
             "color": "#2a3f5f"
            },
            "marker": {
             "line": {
              "color": "#E5ECF6",
              "width": 0.5
             },
             "pattern": {
              "fillmode": "overlay",
              "size": 10,
              "solidity": 0.2
             }
            },
            "type": "bar"
           }
          ],
          "barpolar": [
           {
            "marker": {
             "line": {
              "color": "#E5ECF6",
              "width": 0.5
             },
             "pattern": {
              "fillmode": "overlay",
              "size": 10,
              "solidity": 0.2
             }
            },
            "type": "barpolar"
           }
          ],
          "carpet": [
           {
            "aaxis": {
             "endlinecolor": "#2a3f5f",
             "gridcolor": "white",
             "linecolor": "white",
             "minorgridcolor": "white",
             "startlinecolor": "#2a3f5f"
            },
            "baxis": {
             "endlinecolor": "#2a3f5f",
             "gridcolor": "white",
             "linecolor": "white",
             "minorgridcolor": "white",
             "startlinecolor": "#2a3f5f"
            },
            "type": "carpet"
           }
          ],
          "choropleth": [
           {
            "colorbar": {
             "outlinewidth": 0,
             "ticks": ""
            },
            "type": "choropleth"
           }
          ],
          "contour": [
           {
            "colorbar": {
             "outlinewidth": 0,
             "ticks": ""
            },
            "colorscale": [
             [
              0,
              "#0d0887"
             ],
             [
              0.1111111111111111,
              "#46039f"
             ],
             [
              0.2222222222222222,
              "#7201a8"
             ],
             [
              0.3333333333333333,
              "#9c179e"
             ],
             [
              0.4444444444444444,
              "#bd3786"
             ],
             [
              0.5555555555555556,
              "#d8576b"
             ],
             [
              0.6666666666666666,
              "#ed7953"
             ],
             [
              0.7777777777777778,
              "#fb9f3a"
             ],
             [
              0.8888888888888888,
              "#fdca26"
             ],
             [
              1,
              "#f0f921"
             ]
            ],
            "type": "contour"
           }
          ],
          "contourcarpet": [
           {
            "colorbar": {
             "outlinewidth": 0,
             "ticks": ""
            },
            "type": "contourcarpet"
           }
          ],
          "heatmap": [
           {
            "colorbar": {
             "outlinewidth": 0,
             "ticks": ""
            },
            "colorscale": [
             [
              0,
              "#0d0887"
             ],
             [
              0.1111111111111111,
              "#46039f"
             ],
             [
              0.2222222222222222,
              "#7201a8"
             ],
             [
              0.3333333333333333,
              "#9c179e"
             ],
             [
              0.4444444444444444,
              "#bd3786"
             ],
             [
              0.5555555555555556,
              "#d8576b"
             ],
             [
              0.6666666666666666,
              "#ed7953"
             ],
             [
              0.7777777777777778,
              "#fb9f3a"
             ],
             [
              0.8888888888888888,
              "#fdca26"
             ],
             [
              1,
              "#f0f921"
             ]
            ],
            "type": "heatmap"
           }
          ],
          "heatmapgl": [
           {
            "colorbar": {
             "outlinewidth": 0,
             "ticks": ""
            },
            "colorscale": [
             [
              0,
              "#0d0887"
             ],
             [
              0.1111111111111111,
              "#46039f"
             ],
             [
              0.2222222222222222,
              "#7201a8"
             ],
             [
              0.3333333333333333,
              "#9c179e"
             ],
             [
              0.4444444444444444,
              "#bd3786"
             ],
             [
              0.5555555555555556,
              "#d8576b"
             ],
             [
              0.6666666666666666,
              "#ed7953"
             ],
             [
              0.7777777777777778,
              "#fb9f3a"
             ],
             [
              0.8888888888888888,
              "#fdca26"
             ],
             [
              1,
              "#f0f921"
             ]
            ],
            "type": "heatmapgl"
           }
          ],
          "histogram": [
           {
            "marker": {
             "pattern": {
              "fillmode": "overlay",
              "size": 10,
              "solidity": 0.2
             }
            },
            "type": "histogram"
           }
          ],
          "histogram2d": [
           {
            "colorbar": {
             "outlinewidth": 0,
             "ticks": ""
            },
            "colorscale": [
             [
              0,
              "#0d0887"
             ],
             [
              0.1111111111111111,
              "#46039f"
             ],
             [
              0.2222222222222222,
              "#7201a8"
             ],
             [
              0.3333333333333333,
              "#9c179e"
             ],
             [
              0.4444444444444444,
              "#bd3786"
             ],
             [
              0.5555555555555556,
              "#d8576b"
             ],
             [
              0.6666666666666666,
              "#ed7953"
             ],
             [
              0.7777777777777778,
              "#fb9f3a"
             ],
             [
              0.8888888888888888,
              "#fdca26"
             ],
             [
              1,
              "#f0f921"
             ]
            ],
            "type": "histogram2d"
           }
          ],
          "histogram2dcontour": [
           {
            "colorbar": {
             "outlinewidth": 0,
             "ticks": ""
            },
            "colorscale": [
             [
              0,
              "#0d0887"
             ],
             [
              0.1111111111111111,
              "#46039f"
             ],
             [
              0.2222222222222222,
              "#7201a8"
             ],
             [
              0.3333333333333333,
              "#9c179e"
             ],
             [
              0.4444444444444444,
              "#bd3786"
             ],
             [
              0.5555555555555556,
              "#d8576b"
             ],
             [
              0.6666666666666666,
              "#ed7953"
             ],
             [
              0.7777777777777778,
              "#fb9f3a"
             ],
             [
              0.8888888888888888,
              "#fdca26"
             ],
             [
              1,
              "#f0f921"
             ]
            ],
            "type": "histogram2dcontour"
           }
          ],
          "mesh3d": [
           {
            "colorbar": {
             "outlinewidth": 0,
             "ticks": ""
            },
            "type": "mesh3d"
           }
          ],
          "parcoords": [
           {
            "line": {
             "colorbar": {
              "outlinewidth": 0,
              "ticks": ""
             }
            },
            "type": "parcoords"
           }
          ],
          "pie": [
           {
            "automargin": true,
            "type": "pie"
           }
          ],
          "scatter": [
           {
            "fillpattern": {
             "fillmode": "overlay",
             "size": 10,
             "solidity": 0.2
            },
            "type": "scatter"
           }
          ],
          "scatter3d": [
           {
            "line": {
             "colorbar": {
              "outlinewidth": 0,
              "ticks": ""
             }
            },
            "marker": {
             "colorbar": {
              "outlinewidth": 0,
              "ticks": ""
             }
            },
            "type": "scatter3d"
           }
          ],
          "scattercarpet": [
           {
            "marker": {
             "colorbar": {
              "outlinewidth": 0,
              "ticks": ""
             }
            },
            "type": "scattercarpet"
           }
          ],
          "scattergeo": [
           {
            "marker": {
             "colorbar": {
              "outlinewidth": 0,
              "ticks": ""
             }
            },
            "type": "scattergeo"
           }
          ],
          "scattergl": [
           {
            "marker": {
             "colorbar": {
              "outlinewidth": 0,
              "ticks": ""
             }
            },
            "type": "scattergl"
           }
          ],
          "scattermapbox": [
           {
            "marker": {
             "colorbar": {
              "outlinewidth": 0,
              "ticks": ""
             }
            },
            "type": "scattermapbox"
           }
          ],
          "scatterpolar": [
           {
            "marker": {
             "colorbar": {
              "outlinewidth": 0,
              "ticks": ""
             }
            },
            "type": "scatterpolar"
           }
          ],
          "scatterpolargl": [
           {
            "marker": {
             "colorbar": {
              "outlinewidth": 0,
              "ticks": ""
             }
            },
            "type": "scatterpolargl"
           }
          ],
          "scatterternary": [
           {
            "marker": {
             "colorbar": {
              "outlinewidth": 0,
              "ticks": ""
             }
            },
            "type": "scatterternary"
           }
          ],
          "surface": [
           {
            "colorbar": {
             "outlinewidth": 0,
             "ticks": ""
            },
            "colorscale": [
             [
              0,
              "#0d0887"
             ],
             [
              0.1111111111111111,
              "#46039f"
             ],
             [
              0.2222222222222222,
              "#7201a8"
             ],
             [
              0.3333333333333333,
              "#9c179e"
             ],
             [
              0.4444444444444444,
              "#bd3786"
             ],
             [
              0.5555555555555556,
              "#d8576b"
             ],
             [
              0.6666666666666666,
              "#ed7953"
             ],
             [
              0.7777777777777778,
              "#fb9f3a"
             ],
             [
              0.8888888888888888,
              "#fdca26"
             ],
             [
              1,
              "#f0f921"
             ]
            ],
            "type": "surface"
           }
          ],
          "table": [
           {
            "cells": {
             "fill": {
              "color": "#EBF0F8"
             },
             "line": {
              "color": "white"
             }
            },
            "header": {
             "fill": {
              "color": "#C8D4E3"
             },
             "line": {
              "color": "white"
             }
            },
            "type": "table"
           }
          ]
         },
         "layout": {
          "annotationdefaults": {
           "arrowcolor": "#2a3f5f",
           "arrowhead": 0,
           "arrowwidth": 1
          },
          "autotypenumbers": "strict",
          "coloraxis": {
           "colorbar": {
            "outlinewidth": 0,
            "ticks": ""
           }
          },
          "colorscale": {
           "diverging": [
            [
             0,
             "#8e0152"
            ],
            [
             0.1,
             "#c51b7d"
            ],
            [
             0.2,
             "#de77ae"
            ],
            [
             0.3,
             "#f1b6da"
            ],
            [
             0.4,
             "#fde0ef"
            ],
            [
             0.5,
             "#f7f7f7"
            ],
            [
             0.6,
             "#e6f5d0"
            ],
            [
             0.7,
             "#b8e186"
            ],
            [
             0.8,
             "#7fbc41"
            ],
            [
             0.9,
             "#4d9221"
            ],
            [
             1,
             "#276419"
            ]
           ],
           "sequential": [
            [
             0,
             "#0d0887"
            ],
            [
             0.1111111111111111,
             "#46039f"
            ],
            [
             0.2222222222222222,
             "#7201a8"
            ],
            [
             0.3333333333333333,
             "#9c179e"
            ],
            [
             0.4444444444444444,
             "#bd3786"
            ],
            [
             0.5555555555555556,
             "#d8576b"
            ],
            [
             0.6666666666666666,
             "#ed7953"
            ],
            [
             0.7777777777777778,
             "#fb9f3a"
            ],
            [
             0.8888888888888888,
             "#fdca26"
            ],
            [
             1,
             "#f0f921"
            ]
           ],
           "sequentialminus": [
            [
             0,
             "#0d0887"
            ],
            [
             0.1111111111111111,
             "#46039f"
            ],
            [
             0.2222222222222222,
             "#7201a8"
            ],
            [
             0.3333333333333333,
             "#9c179e"
            ],
            [
             0.4444444444444444,
             "#bd3786"
            ],
            [
             0.5555555555555556,
             "#d8576b"
            ],
            [
             0.6666666666666666,
             "#ed7953"
            ],
            [
             0.7777777777777778,
             "#fb9f3a"
            ],
            [
             0.8888888888888888,
             "#fdca26"
            ],
            [
             1,
             "#f0f921"
            ]
           ]
          },
          "colorway": [
           "#636efa",
           "#EF553B",
           "#00cc96",
           "#ab63fa",
           "#FFA15A",
           "#19d3f3",
           "#FF6692",
           "#B6E880",
           "#FF97FF",
           "#FECB52"
          ],
          "font": {
           "color": "#2a3f5f"
          },
          "geo": {
           "bgcolor": "white",
           "lakecolor": "white",
           "landcolor": "#E5ECF6",
           "showlakes": true,
           "showland": true,
           "subunitcolor": "white"
          },
          "hoverlabel": {
           "align": "left"
          },
          "hovermode": "closest",
          "mapbox": {
           "style": "light"
          },
          "paper_bgcolor": "white",
          "plot_bgcolor": "#E5ECF6",
          "polar": {
           "angularaxis": {
            "gridcolor": "white",
            "linecolor": "white",
            "ticks": ""
           },
           "bgcolor": "#E5ECF6",
           "radialaxis": {
            "gridcolor": "white",
            "linecolor": "white",
            "ticks": ""
           }
          },
          "scene": {
           "xaxis": {
            "backgroundcolor": "#E5ECF6",
            "gridcolor": "white",
            "gridwidth": 2,
            "linecolor": "white",
            "showbackground": true,
            "ticks": "",
            "zerolinecolor": "white"
           },
           "yaxis": {
            "backgroundcolor": "#E5ECF6",
            "gridcolor": "white",
            "gridwidth": 2,
            "linecolor": "white",
            "showbackground": true,
            "ticks": "",
            "zerolinecolor": "white"
           },
           "zaxis": {
            "backgroundcolor": "#E5ECF6",
            "gridcolor": "white",
            "gridwidth": 2,
            "linecolor": "white",
            "showbackground": true,
            "ticks": "",
            "zerolinecolor": "white"
           }
          },
          "shapedefaults": {
           "line": {
            "color": "#2a3f5f"
           }
          },
          "ternary": {
           "aaxis": {
            "gridcolor": "white",
            "linecolor": "white",
            "ticks": ""
           },
           "baxis": {
            "gridcolor": "white",
            "linecolor": "white",
            "ticks": ""
           },
           "bgcolor": "#E5ECF6",
           "caxis": {
            "gridcolor": "white",
            "linecolor": "white",
            "ticks": ""
           }
          },
          "title": {
           "x": 0.05
          },
          "xaxis": {
           "automargin": true,
           "gridcolor": "white",
           "linecolor": "white",
           "ticks": "",
           "title": {
            "standoff": 15
           },
           "zerolinecolor": "white",
           "zerolinewidth": 2
          },
          "yaxis": {
           "automargin": true,
           "gridcolor": "white",
           "linecolor": "white",
           "ticks": "",
           "title": {
            "standoff": 15
           },
           "zerolinecolor": "white",
           "zerolinewidth": 2
          }
         }
        }
       }
      }
     },
     "metadata": {},
     "output_type": "display_data"
    }
   ],
   "source": [
    "px.treemap(df, path=['region','smoker','sex'],values='charges')"
   ]
  },
  {
   "cell_type": "code",
   "execution_count": 100,
   "metadata": {},
   "outputs": [
    {
     "data": {
      "application/vnd.plotly.v1+json": {
       "config": {
        "plotlyServerURL": "https://plot.ly"
       },
       "data": [
        {
         "hovertemplate": "region=southwest<br>bmi=%{x}<br>charges=%{y}<extra></extra>",
         "legendgroup": "southwest",
         "marker": {
          "color": "#636efa",
          "symbol": "circle"
         },
         "mode": "markers",
         "name": "southwest",
         "showlegend": true,
         "type": "scattergl",
         "x": [
          27.9,
          34.4,
          24.6,
          40.3,
          35.3,
          32.4,
          36.3,
          35.6,
          28.6,
          36.4,
          20.8,
          39.9,
          37.3,
          28,
          28.9,
          39.1,
          28.1,
          27.4,
          34.8,
          27.2,
          31.3,
          30.8,
          19.3,
          31.6,
          27.5,
          28.4,
          29.7,
          30.8,
          37.1,
          28.3,
          37.4,
          34.7,
          35.9,
          34.1,
          36,
          28.4,
          39.6,
          29.8,
          37,
          30.3,
          34.8,
          37.7,
          29.2,
          28.9,
          30.9,
          32.2,
          26.2,
          32.8,
          22.3,
          31.8,
          33,
          30.9,
          37.1,
          33.7,
          30.8,
          34.8,
          17.8,
          27.5,
          26.8,
          35.3,
          20.9,
          32.2,
          30.3,
          25.2,
          30.2,
          34.2,
          24.3,
          31.2,
          33.4,
          26.8,
          27.7,
          38,
          27.5,
          26.6,
          24.7,
          31.4,
          30.8,
          27.2,
          33.8,
          36.7,
          34.5,
          27.6,
          25.6,
          27.7,
          27.6,
          30.5,
          21.7,
          26.4,
          32.9,
          34.4,
          34.4,
          25.6,
          20.6,
          20.4,
          23.6,
          23.9,
          22.6,
          30.2,
          33.1,
          26.9,
          30.5,
          28.9,
          33.5,
          33.1,
          29.6,
          38.6,
          29.6,
          23.4,
          37.4,
          39.6,
          30,
          28.7,
          29.8,
          25.1,
          39.5,
          34.3,
          28.7,
          32.9,
          43.4,
          25.7,
          23.6,
          28.7,
          39.2,
          34.4,
          28.7,
          30.4,
          28.3,
          35.7,
          31,
          25.8,
          38.9,
          30.2,
          38,
          46.7,
          30.8,
          21.4,
          23.8,
          30.5,
          31.9,
          29.1,
          30.2,
          20.7,
          29,
          32.6,
          25.3,
          37.8,
          34.8,
          25.6,
          37.1,
          31.4,
          34.1,
          21.3,
          38,
          36.1,
          29.3,
          39.7,
          42.4,
          42.4,
          28.7,
          36.1,
          17.4,
          20.3,
          35.3,
          18.5,
          24.1,
          36.2,
          34.8,
          32.9,
          22.6,
          28.9,
          36.6,
          37.4,
          35.4,
          21.4,
          30.1,
          32.1,
          23.7,
          35.5,
          27,
          36,
          35.2,
          27.1,
          32.3,
          29,
          39.7,
          36.1,
          26.7,
          24.4,
          27.6,
          27.7,
          27.6,
          33.1,
          22.3,
          30.8,
          37.1,
          33.7,
          33.1,
          31.5,
          31.1,
          34.2,
          24.1,
          29.6,
          28.1,
          47.6,
          28,
          25.4,
          29.9,
          43.7,
          24.3,
          36.2,
          30.1,
          27.1,
          28.8,
          29.5,
          34.8,
          39.5,
          44,
          35.1,
          39.8,
          24.6,
          27.5,
          28.2,
          25,
          33.2,
          31,
          23.2,
          23.4,
          20.1,
          32.5,
          25.8,
          35.3,
          27.5,
          35.8,
          35.8,
          29.7,
          30.2,
          25.9,
          27.1,
          40.5,
          25.9,
          25.8,
          19.8,
          31.6,
          34.1,
          32.7,
          25.8,
          29.6,
          22.8,
          27.6,
          34.2,
          37,
          34.6,
          31.6,
          23,
          25.8,
          30.9,
          29.8,
          28.9,
          25.6,
          25.3,
          32,
          31.5,
          18.3,
          22.1,
          32.7,
          33.7,
          28.6,
          29.8,
          30,
          31.4,
          29.9,
          32.8,
          18.6,
          45.9,
          25,
          32.6,
          32.3,
          32.8,
          21.5,
          34.1,
          41.1,
          24.6,
          35.2,
          26.7,
          27.1,
          27.4,
          30.3,
          28,
          25.8,
          34.8,
          33.4,
          37.1,
          33.3,
          34.6,
          21.8,
          23.3,
          24.3,
          25.7,
          29.4,
          19.8,
          27.3,
          29.3,
          37.9,
          37.1,
          29.9,
          30.5,
          33.3,
          27.5,
          23.7,
          36.3,
          25.9,
          39.4,
          34.9,
          22,
          20.8,
          27.8,
          30.2,
          32.2,
          42.9,
          34.7,
          20.6,
          38.6,
          33.4,
          44.7,
          25.8
         ],
         "xaxis": "x",
         "y": [
          16884.924,
          1826.843,
          1837.237,
          10602.385,
          36837.467,
          4149.736,
          38711,
          35585.576,
          4687.797,
          51194.55914,
          2302.3,
          48173.361,
          20630.28351,
          23568.272,
          1743.214,
          14235.072,
          11741.726,
          7726.854,
          39836.519,
          11073.176,
          47291.055,
          12105.32,
          15820.699,
          6186.127,
          5003.853,
          2331.519,
          11881.358,
          4646.759,
          7740.337,
          17081.08,
          9634.538,
          6082.405,
          11163.568,
          1261.442,
          2166.732,
          1842.519,
          10450.552,
          5152.134,
          4830.63,
          8116.68,
          5246.047,
          48824.45,
          10436.096,
          8823.279,
          5325.651,
          6775.961,
          4883.866,
          5649.715,
          7147.105,
          13880.949,
          1980.07,
          8520.026,
          7371.772,
          5012.471,
          5253.524,
          34779.615,
          1727.785,
          12333.828,
          35160.13457,
          7196.867,
          1832.094,
          47305.305,
          4260.744,
          11837.16,
          7441.053,
          42856.838,
          2150.469,
          9625.92,
          3172.018,
          3906.127,
          16297.846,
          12646.207,
          20177.67113,
          8444.474,
          1737.376,
          34838.873,
          35491.64,
          2866.091,
          47928.03,
          9144.565,
          13822.803,
          18955.22017,
          8932.084,
          3554.203,
          24603.04837,
          4751.07,
          13844.506,
          2597.779,
          36085.219,
          1261.859,
          8522.003,
          14988.432,
          9264.797,
          3260.199,
          8539.671,
          5080.096,
          18608.262,
          8968.33,
          23082.95533,
          5969.723,
          12638.195,
          5926.846,
          37079.372,
          7345.084,
          5910.944,
          4762.329,
          7512.267,
          1969.614,
          21797.0004,
          10601.412,
          22144.032,
          13224.693,
          1744.465,
          25382.297,
          9880.068,
          9563.029,
          1253.936,
          1748.774,
          12574.049,
          17942.106,
          4931.647,
          8027.968,
          13470.86,
          36197.699,
          11455.28,
          1256.299,
          21082.16,
          11362.755,
          5240.765,
          9861.025,
          5972.378,
          8825.086,
          6196.448,
          11538.421,
          13390.559,
          12957.118,
          3847.674,
          2494.022,
          11552.904,
          3761.292,
          9724.53,
          1242.816,
          11842.442,
          7441.501,
          11070.535,
          39241.442,
          6571.544,
          23306.547,
          10713.644,
          3659.346,
          40182.246,
          9182.17,
          11365.952,
          10085.846,
          1977.815,
          9391.346,
          6666.243,
          3410.324,
          8703.456,
          12363.547,
          2585.269,
          1242.26,
          40103.89,
          4766.022,
          26236.57997,
          8068.185,
          3577.999,
          5375.038,
          2457.502,
          12146.971,
          11264.541,
          12979.358,
          1263.249,
          10065.413,
          4234.927,
          14007.222,
          3484.331,
          44585.45587,
          11737.84884,
          8556.907,
          2416.955,
          19040.876,
          8062.764,
          7050.642,
          14319.031,
          27941.28758,
          11150.78,
          18259.216,
          24520.264,
          6414.178,
          1252.407,
          11848.141,
          2103.08,
          9414.92,
          3597.596,
          7445.918,
          13393.756,
          4402.233,
          1526.312,
          9872.701,
          2974.126,
          1875.344,
          10965.446,
          46113.511,
          7151.092,
          8782.469,
          6600.361,
          11576.13,
          4391.652,
          8457.818,
          6849.026,
          26140.3603,
          6282.235,
          6311.952,
          3443.064,
          1682.597,
          13063.883,
          12644.589,
          15170.069,
          17496.306,
          7626.993,
          13041.921,
          13451.122,
          13462.52,
          5488.262,
          6250.435,
          2913.569,
          12032.326,
          6238.298,
          10096.97,
          7348.142,
          12233.828,
          11674.13,
          7160.094,
          19933.458,
          38998.546,
          3353.284,
          4746.344,
          1759.338,
          19199.944,
          7624.63,
          3378.91,
          10118.424,
          7418.522,
          34472.841,
          1972.95,
          21232.18226,
          8269.044,
          5383.536,
          3987.926,
          8798.593,
          2020.177,
          9850.432,
          12094.478,
          3161.454,
          39727.614,
          25309.489,
          8277.523,
          5708.867,
          7045.499,
          8551.347,
          4076.497,
          19023.26,
          10577.087,
          3591.48,
          11299.343,
          11253.421,
          20420.60465,
          2904.088,
          34166.273,
          10214.636,
          14358.36437,
          1728.897,
          3693.428,
          7623.518,
          7954.517,
          9630.397,
          52590.82939,
          10791.96,
          5979.731,
          3989.841,
          4529.477,
          4670.64,
          22478.6,
          2154.361,
          6496.886,
          2632.992,
          13126.67745,
          4934.705,
          36910.60803,
          38415.474,
          12347.172,
          10806.839,
          41661.602,
          20167.33603,
          11345.519,
          5615.369,
          9101.798,
          6059.173,
          1241.565,
          16232.847,
          15828.82173,
          6474.013,
          3277.161,
          7337.748,
          10704.47,
          1880.487,
          8615.3,
          10959.33,
          47403.88,
          5472.449,
          38344.566,
          34828.654,
          1964.78,
          3208.787,
          37829.7242,
          33900.653,
          6875.961,
          4536.259,
          36397.576,
          1731.677,
          10325.206,
          10795.93733,
          11411.685,
          2007.945
         ],
         "yaxis": "y"
        },
        {
         "hovertemplate": "region=southeast<br>bmi=%{x}<br>charges=%{y}<extra></extra>",
         "legendgroup": "southeast",
         "marker": {
          "color": "#EF553B",
          "symbol": "circle"
         },
         "mode": "markers",
         "name": "southeast",
         "showlegend": true,
         "type": "scattergl",
         "x": [
          33.77,
          33,
          25.74,
          33.44,
          26.29,
          39.82,
          42.13,
          34.1,
          27.72,
          36.63,
          21.78,
          30.8,
          24.53,
          35.2,
          34.43,
          31.68,
          22.88,
          33.66,
          36.19,
          23.98,
          24.75,
          32.01,
          29.59,
          35.53,
          37.62,
          39.49,
          37.62,
          38.28,
          29.92,
          27.94,
          35.09,
          49.06,
          27.94,
          27.17,
          28.05,
          31.9,
          25.3,
          38.83,
          37.73,
          29.7,
          24.42,
          35.53,
          27.83,
          36.85,
          41.47,
          38.28,
          30.69,
          29.92,
          31.57,
          25.74,
          34.43,
          28.6,
          32.23,
          36.08,
          26.4,
          26.73,
          23.1,
          29.92,
          23.21,
          24.64,
          33.88,
          38.06,
          41.91,
          27.83,
          22.22,
          26.73,
          38.39,
          38.06,
          38.06,
          35.86,
          34.21,
          40.15,
          26.84,
          38.06,
          42.35,
          19.8,
          29.37,
          31.79,
          21.56,
          26.62,
          26.4,
          45.54,
          28.82,
          25.41,
          37.51,
          33,
          33.33,
          35.97,
          35.86,
          23.21,
          25.74,
          27.72,
          41.47,
          29.26,
          35.75,
          29.92,
          38.28,
          43.89,
          41.91,
          20.79,
          21.89,
          33.33,
          40.15,
          31.46,
          33,
          43.34,
          39.05,
          31.02,
          38.17,
          47.52,
          24.31,
          21.12,
          30.03,
          35.64,
          34.1,
          39.16,
          33.88,
          35.86,
          24.31,
          33.11,
          46.75,
          43.01,
          36.52,
          46.53,
          30.14,
          33,
          36.63,
          28.38,
          24.09,
          32.67,
          36.85,
          32.56,
          37.51,
          31.35,
          38.06,
          25.08,
          23.98,
          23.21,
          30.25,
          28.93,
          33.66,
          35.31,
          44.22,
          37.73,
          26.07,
          33.88,
          42.13,
          29.7,
          36.19,
          40.48,
          28.05,
          31.35,
          31.79,
          36.3,
          47.41,
          46.2,
          28.93,
          34.21,
          44.77,
          32.12,
          37.29,
          43.12,
          26.84,
          45.43,
          23.65,
          28.27,
          30.69,
          31.13,
          40.26,
          29.48,
          39.16,
          39.05,
          34.1,
          29.37,
          33,
          36.63,
          33.11,
          42.46,
          35.53,
          33.66,
          35.31,
          42.68,
          39.6,
          31.13,
          36.3,
          35.2,
          25.3,
          46.53,
          23.98,
          33.66,
          22.99,
          38.06,
          29.81,
          31.57,
          29.7,
          31.02,
          43.89,
          40.81,
          41.69,
          31.13,
          35.75,
          39.27,
          34.87,
          41.47,
          38.06,
          35.2,
          23.54,
          39.05,
          36.08,
          24.42,
          38.39,
          29.15,
          26.62,
          26.4,
          22.77,
          27.83,
          38.17,
          33.33,
          34.32,
          41.14,
          35.97,
          29.26,
          29.92,
          41.8,
          20.9,
          44.22,
          26.18,
          35.97,
          42.24,
          26.51,
          30.14,
          21.01,
          34.43,
          31.46,
          31.13,
          29.81,
          31.79,
          35.97,
          32.78,
          29.81,
          32.45,
          50.38,
          33.11,
          32.23,
          37.29,
          29.48,
          24.86,
          33.44,
          28.93,
          29.04,
          38.94,
          40.26,
          40.92,
          36.85,
          32.34,
          33.99,
          34.21,
          39.16,
          34.21,
          46.53,
          37.18,
          26.18,
          29.48,
          23.21,
          46.09,
          39.93,
          42.9,
          39.49,
          30.8,
          35.2,
          34.32,
          28.16,
          35.42,
          40.15,
          29.15,
          29.92,
          28.27,
          36.85,
          20.13,
          33.33,
          31.02,
          36.08,
          23.32,
          45.32,
          35.2,
          37.07,
          52.58,
          31.79,
          39.49,
          32.01,
          27.94,
          41.14,
          37.29,
          31.9,
          37.07,
          29.59,
          31.68,
          33.66,
          21.78,
          47.74,
          36.19,
          33.77,
          33.99,
          38.94,
          36.08,
          31.24,
          20.35,
          38.39,
          25.85,
          32.67,
          33.33,
          35.75,
          38.17,
          35.86,
          23.87,
          30.25,
          37.07,
          24.86,
          32.34,
          32.56,
          44.88,
          42.13,
          38.83,
          40.37,
          41.91,
          29.81,
          28.49,
          33.55,
          27.28,
          34.1,
          25.08,
          37.29,
          24.97,
          25.3,
          24.42,
          39.82,
          37.18,
          34.43,
          27.83,
          42.13,
          41.8,
          36.96,
          33.11,
          33.33,
          39.82,
          27.72,
          28.05,
          23.76,
          25.52,
          27.61,
          27.06,
          33.33,
          30.03,
          34.32,
          23.21,
          26.51,
          30.36,
          27.72,
          53.13,
          38.83,
          40.37,
          30.03,
          25.74,
          36.85
         ],
         "xaxis": "x",
         "y": [
          1725.5523,
          4449.462,
          3756.6216,
          8240.5896,
          27808.7251,
          11090.7178,
          39611.7577,
          1137.011,
          14001.1338,
          4949.7587,
          6272.4772,
          6313.759,
          12629.8967,
          38709.176,
          37742.5757,
          34303.1672,
          23244.7902,
          4504.6624,
          5920.1041,
          17663.1442,
          16577.7795,
          11946.6259,
          3947.4131,
          1532.4697,
          37165.1638,
          2026.9741,
          3766.8838,
          10226.2842,
          30942.1918,
          2867.1196,
          47055.5321,
          11381.3254,
          19107.7796,
          8601.3293,
          2155.6815,
          27322.73386,
          18972.495,
          5138.2567,
          9877.6077,
          7789.635,
          21223.6758,
          36950.2567,
          19749.38338,
          36149.4835,
          13405.3903,
          1631.8212,
          7731.4271,
          3981.9768,
          12557.6053,
          2137.6536,
          1137.4697,
          8516.829,
          8871.1517,
          37133.8982,
          11743.299,
          5002.7827,
          2483.736,
          3392.9768,
          25081.76784,
          19515.5416,
          11987.1682,
          2689.4954,
          24227.33724,
          14001.2867,
          19444.2658,
          1615.7667,
          4463.2051,
          7152.6714,
          12648.7034,
          1986.9334,
          44260.7499,
          5400.9805,
          17085.2676,
          20462.99766,
          46151.1245,
          17179.522,
          1719.4363,
          12928.7911,
          9855.1314,
          7742.1098,
          25992.82104,
          42112.2356,
          2156.7518,
          21978.6769,
          12265.5069,
          4349.462,
          4151.0287,
          42124.5153,
          8124.4084,
          3561.8889,
          12142.5786,
          8232.6388,
          10977.2063,
          6184.2994,
          4889.9995,
          5478.0368,
          14133.03775,
          8944.1151,
          1837.2819,
          1607.5101,
          3180.5101,
          1391.5287,
          38126.2465,
          27000.98473,
          20781.48892,
          5846.9176,
          11856.4115,
          16586.49771,
          1631.6683,
          8083.9198,
          4185.0979,
          6652.5288,
          4074.4537,
          7345.7266,
          9140.951,
          14418.2804,
          46889.2612,
          46599.1084,
          9788.8659,
          13919.8229,
          12592.5345,
          1149.3959,
          28287.89766,
          4686.3887,
          11881.9696,
          7682.67,
          10381.4787,
          19521.9682,
          2201.0971,
          2497.0383,
          1534.3045,
          1824.2854,
          9304.7019,
          1622.1885,
          48885.13561,
          24513.09126,
          8211.1002,
          22218.1149,
          32548.3405,
          5974.3847,
          2498.4144,
          27724.28875,
          3994.1778,
          5397.6167,
          38245.59327,
          11482.63485,
          48675.5177,
          12925.886,
          19214.70553,
          13831.1152,
          8233.0975,
          27346.04207,
          3056.3881,
          13887.204,
          63770.42801,
          45863.205,
          3972.9247,
          3935.1799,
          9058.7303,
          2801.2588,
          2219.4451,
          4753.6368,
          1664.9996,
          6356.2707,
          17626.23951,
          4779.6023,
          5976.8311,
          2566.4707,
          5709.1644,
          7640.3092,
          1633.0444,
          16085.1275,
          9283.562,
          8547.6913,
          1880.07,
          42969.8527,
          34439.8559,
          11326.71487,
          3366.6697,
          12949.1554,
          18806.14547,
          9800.8882,
          10579.711,
          8280.6227,
          8527.532,
          12244.531,
          24667.419,
          6435.6237,
          22192.43711,
          1136.3994,
          27037.9141,
          42560.4304,
          6500.2359,
          4837.5823,
          4399.731,
          6185.3208,
          46200.9851,
          12485.8009,
          5438.7491,
          34806.4677,
          40273.6455,
          3500.6123,
          2020.5523,
          9504.3103,
          44400.4064,
          1727.54,
          10107.2206,
          40932.4295,
          6781.3542,
          19361.9988,
          40419.0191,
          18246.4955,
          3757.8448,
          19539.243,
          11833.7823,
          23065.4207,
          36307.7983,
          10560.4917,
          5934.3798,
          1146.7966,
          9386.1613,
          4350.5144,
          13457.9608,
          5662.225,
          21195.818,
          4266.1658,
          7046.7222,
          14313.8463,
          38792.6856,
          1815.8759,
          1131.5066,
          11013.7119,
          5584.3057,
          1877.9294,
          1621.8827,
          8219.2039,
          43813.8661,
          7160.3303,
          36021.0112,
          27533.9129,
          45008.9555,
          2438.0552,
          40974.1649,
          18218.16139,
          1141.4451,
          3392.3652,
          5966.8874,
          6653.7886,
          19719.6947,
          7243.8136,
          44202.6536,
          1634.5734,
          48673.5588,
          8125.7845,
          7633.7206,
          2473.3341,
          5245.2269,
          13470.8044,
          6289.7549,
          2927.0647,
          4673.3922,
          2304.0022,
          9487.6442,
          1121.8739,
          9549.5651,
          12982.8747,
          47462.894,
          3875.7341,
          41999.52,
          14474.675,
          8596.8278,
          10702.6424,
          2322.6218,
          7804.1605,
          2902.9065,
          4889.0368,
          5484.4673,
          13887.9685,
          18767.7377,
          36580.28216,
          35595.5898,
          42211.1382,
          1711.0268,
          8569.8618,
          44423.803,
          37484.4493,
          44501.3982,
          17929.30337,
          2480.9791,
          1981.5819,
          11554.2236,
          48970.2476,
          8978.1851,
          10928.849,
          39871.7043,
          4562.8421,
          34672.1472,
          15161.5344,
          11884.04858,
          9748.9106,
          41676.0811,
          1674.6323,
          3227.1211,
          3471.4096,
          11363.2832,
          10338.9316,
          8605.3615,
          41949.2441,
          24180.9335,
          10807.4863,
          36124.5737,
          38282.7495,
          8347.1643,
          5836.5204,
          8582.3023,
          3704.3545,
          9048.0273,
          27117.99378,
          6338.0756,
          40941.2854,
          39722.7462,
          5124.1887,
          18963.17192,
          10982.5013,
          11093.6229,
          19350.3689,
          18328.2381,
          5699.8375,
          18223.4512,
          23563.01618,
          5415.6612,
          4058.1161,
          6593.5083,
          8442.667,
          26125.67477,
          4795.6568,
          7162.0122,
          10594.2257,
          8515.7587,
          3238.4357,
          47269.854,
          49577.6624,
          3171.6149,
          1135.9407,
          1633.9618,
          4415.1588,
          6770.1925,
          26926.5144,
          14478.33015,
          4747.0529,
          17043.3414,
          8283.6807,
          1720.3537,
          7147.4728,
          1515.3449,
          4340.4409,
          62592.87309,
          2464.6188,
          1163.4627,
          12981.3457,
          43896.3763,
          9377.9047,
          12629.1656,
          1629.8335
         ],
         "yaxis": "y"
        },
        {
         "hovertemplate": "region=northwest<br>bmi=%{x}<br>charges=%{y}<extra></extra>",
         "legendgroup": "northwest",
         "marker": {
          "color": "#00cc96",
          "symbol": "circle"
         },
         "mode": "markers",
         "name": "northwest",
         "showlegend": true,
         "type": "scattergl",
         "x": [
          22.705,
          28.88,
          27.74,
          25.84,
          28.025,
          32.775,
          17.385,
          28.31,
          20.425,
          32.965,
          34.77,
          33.63,
          28.69,
          36.955,
          37.335,
          24.7,
          25.935,
          22.42,
          26.315,
          34.01,
          32.965,
          41.23,
          22.895,
          31.16,
          27.74,
          26.98,
          24.795,
          34.77,
          28.025,
          30.875,
          33.63,
          35.72,
          23.37,
          28.975,
          33.915,
          17.765,
          25.555,
          25.175,
          29.735,
          28.69,
          30.495,
          37.43,
          24.13,
          39.52,
          26.6,
          29.64,
          33.155,
          31.825,
          33.345,
          27.835,
          28.595,
          26.41,
          32.11,
          26.6,
          30.59,
          18.05,
          32.11,
          24.035,
          30.875,
          28.5,
          26.6,
          36.195,
          24.51,
          29.07,
          30.02,
          33.63,
          24.415,
          31.92,
          36.955,
          37.05,
          27.55,
          20.615,
          26.22,
          34.39,
          28.88,
          33.345,
          33.06,
          32.205,
          27.645,
          25.27,
          36.48,
          27.36,
          31.16,
          27.55,
          30.02,
          27.835,
          23.18,
          29.83,
          24.985,
          32.015,
          21.09,
          28.31,
          30.115,
          25.365,
          22.61,
          30.21,
          37.43,
          19.855,
          32.965,
          32.3,
          17.48,
          35.15,
          26.98,
          30.4,
          20.235,
          28.595,
          32.68,
          26.695,
          25.65,
          24.13,
          29.735,
          30.495,
          25.175,
          33.82,
          28.31,
          35.625,
          41.325,
          21.47,
          31.16,
          30.875,
          31.35,
          23.75,
          30.495,
          30.59,
          30.21,
          25.84,
          31.73,
          34.105,
          35.53,
          19.95,
          30.495,
          40.565,
          30.59,
          40.565,
          27.17,
          30.59,
          30.21,
          19.57,
          37.525,
          31.635,
          28.31,
          23.655,
          28.785,
          26.03,
          38.95,
          24.51,
          28.31,
          34.96,
          26.22,
          33.155,
          32.775,
          21.375,
          31.35,
          23.18,
          24.32,
          32.395,
          23.655,
          40.185,
          33.725,
          26.41,
          29.545,
          28.69,
          30.685,
          22.61,
          24.32,
          36.67,
          33.44,
          28.405,
          34.77,
          26.41,
          30.115,
          21.755,
          30.875,
          28.975,
          37.905,
          31.825,
          19.475,
          28.88,
          34.2,
          32.3,
          28.88,
          36.86,
          31.92,
          28.5,
          35.815,
          41.42,
          36.575,
          42.94,
          24.225,
          35.53,
          17.67,
          24.32,
          21.85,
          25.84,
          23.845,
          34.39,
          33.82,
          31.35,
          32.775,
          32.3,
          24.13,
          33.535,
          28.12,
          27.36,
          26.695,
          30.02,
          33.63,
          26.885,
          25.555,
          22.515,
          28.31,
          26.695,
          24.605,
          26.885,
          35.815,
          24.225,
          22.61,
          31.255,
          28.405,
          27.835,
          26.79,
          36.67,
          39.615,
          36.765,
          24.795,
          25.365,
          20.235,
          30.115,
          27.645,
          20.045,
          26.885,
          22.99,
          31.73,
          28.215,
          32.3,
          25.46,
          24.605,
          35.815,
          32.68,
          26.03,
          18.715,
          23.655,
          38.38,
          30.495,
          27.265,
          28.025,
          24.7,
          22.515,
          36.955,
          21.47,
          27.645,
          33.82,
          28.595,
          21.66,
          31.255,
          27.835,
          19.95,
          30.495,
          31.54,
          30.4,
          29.925,
          26.22,
          26.315,
          19.95,
          36.86,
          25.08,
          18.335,
          33.82,
          28.12,
          22.23,
          32.49,
          32.775,
          31.92,
          36.48,
          35.815,
          27.93,
          23.18,
          34.58,
          28.31,
          34.105,
          29.26,
          32.11,
          24.13,
          29.925,
          35.625,
          32.68,
          32.775,
          36.575,
          21.755,
          27.93,
          30.02,
          29.355,
          24.32,
          40.375,
          32.11,
          17.86,
          30.875,
          31.255,
          30.21,
          34.485,
          24.605,
          31.065,
          28.215,
          21.28,
          36.385,
          27.645,
          37.715,
          33.915,
          34.485,
          29.735,
          26.79,
          27.645,
          25.745,
          27.455,
          25.745,
          30.875,
          28.12,
          26.315,
          26.695,
          23.655,
          26.315,
          31.065,
          25.935,
          30.97,
          29.07
         ],
         "xaxis": "x",
         "y": [
          21984.47061,
          3866.8552,
          7281.5056,
          28923.13692,
          6203.90175,
          12268.63225,
          2775.19215,
          13770.0979,
          1625.43375,
          15612.19335,
          3556.9223,
          3579.8287,
          8059.6791,
          47496.49445,
          5989.52365,
          30166.61817,
          4133.64165,
          14711.7438,
          6389.37785,
          11356.6609,
          6571.02435,
          11033.6617,
          21098.55405,
          43578.9394,
          8026.6666,
          11082.5772,
          10942.13205,
          5729.0053,
          17560.37975,
          3877.30425,
          10825.2537,
          2404.7338,
          6686.4313,
          2257.47525,
          10115.00885,
          32734.1863,
          1632.56445,
          2045.68525,
          18157.876,
          20745.9891,
          40720.55105,
          10959.6947,
          5125.2157,
          6948.7008,
          21348.706,
          5028.1466,
          6128.79745,
          2719.27975,
          2855.43755,
          6455.86265,
          11735.87905,
          7419.4779,
          4922.9159,
          12044.342,
          1639.5631,
          9644.2525,
          2130.6759,
          13012.20865,
          8162.71625,
          3537.703,
          10355.641,
          7443.64305,
          6710.1919,
          17352.6803,
          24476.47851,
          43921.1837,
          11520.09985,
          33750.2918,
          36219.40545,
          7265.7025,
          2523.1695,
          2803.69785,
          14256.1928,
          38746.3551,
          9249.4952,
          19442.3535,
          7749.1564,
          8835.26495,
          7421.19455,
          4894.7533,
          42760.5022,
          24393.6224,
          13429.0354,
          13937.6665,
          13352.0998,
          1635.73365,
          11830.6072,
          9620.3307,
          8017.06115,
          8116.26885,
          13415.0381,
          18033.9679,
          16455.70785,
          30284.64294,
          3176.8159,
          4618.0799,
          2138.0707,
          7526.70645,
          14692.66935,
          10269.46,
          1621.3402,
          2134.9015,
          28950.4692,
          18804.7524,
          4906.40965,
          4243.59005,
          4738.2682,
          26109.32905,
          11454.0215,
          4032.2407,
          1769.53165,
          11840.77505,
          1632.03625,
          12643.3778,
          28868.6639,
          2534.39375,
          15555.18875,
          12475.3513,
          10461.9794,
          6796.86325,
          2643.2685,
          3077.0955,
          8413.46305,
          24059.68019,
          10231.4999,
          23807.2406,
          11187.6567,
          39983.42595,
          1646.4297,
          9193.8385,
          2128.43105,
          6373.55735,
          7256.7231,
          45702.02235,
          12222.8983,
          1639.5631,
          43943.8761,
          8428.0693,
          33471.97189,
          9174.13565,
          17468.9839,
          25678.77845,
          12129.61415,
          3736.4647,
          42983.4585,
          2709.1119,
          32787.45859,
          4466.6214,
          6123.5688,
          4058.71245,
          40003.33225,
          7222.78625,
          46130.5265,
          10156.7832,
          9863.4718,
          2362.22905,
          2352.96845,
          3201.24515,
          10976.24575,
          5385.3379,
          8930.93455,
          10264.4421,
          8310.83915,
          9566.9909,
          13112.6048,
          10848.1343,
          12231.6136,
          6664.68595,
          9583.8933,
          8827.2099,
          9910.35985,
          1627.28245,
          3062.50825,
          1906.35825,
          14210.53595,
          11842.62375,
          6933.24225,
          17748.5062,
          7261.741,
          6986.697,
          9869.8102,
          1917.3184,
          7209.4918,
          18310.742,
          7731.85785,
          28476.73499,
          2136.88225,
          6360.9936,
          2842.76075,
          55135.40209,
          2680.9493,
          12523.6048,
          6117.4945,
          5266.3656,
          4719.73655,
          11743.9341,
          5377.4578,
          12622.1795,
          10601.63225,
          14119.62,
          15817.9857,
          12269.68865,
          2690.1138,
          2789.0574,
          4877.98105,
          5272.1758,
          11945.1327,
          29330.98315,
          2221.56445,
          2117.33885,
          2639.0429,
          14382.70905,
          5257.50795,
          21774.32215,
          4320.41085,
          8965.79575,
          1628.4709,
          6358.77645,
          4527.18295,
          20009.63365,
          12609.88702,
          28468.91901,
          2730.10785,
          26467.09737,
          23967.38305,
          7518.02535,
          2527.81865,
          8410.04685,
          28340.18885,
          16420.49455,
          5267.81815,
          17361.7661,
          4433.3877,
          24915.22085,
          8765.249,
          12124.9924,
          2709.24395,
          12495.29085,
          26018.95052,
          16450.8947,
          21595.38229,
          21677.28345,
          12950.0712,
          39725.51805,
          22493.65964,
          20234.85475,
          21880.82,
          3594.17085,
          8023.13545,
          3353.4703,
          10594.50155,
          4462.7218,
          6548.19505,
          14349.8544,
          1909.52745,
          4454.40265,
          5855.9025,
          15019.76005,
          11353.2276,
          33907.548,
          8988.15875,
          10493.9458,
          5312.16985,
          5693.4305,
          46661.4424,
          14254.6082,
          9991.03765,
          19673.33573,
          11085.5868,
          3176.2877,
          36898.73308,
          11289.10925,
          2261.5688,
          12235.8392,
          5630.45785,
          11015.1747,
          14426.07385,
          7727.2532,
          7153.5539,
          6112.35295,
          6457.8434,
          4433.9159,
          23887.6627,
          2850.68375,
          37465.34375,
          13844.7972,
          5327.40025,
          8671.19125,
          4134.08245,
          18838.70366,
          33307.5508,
          6393.60345,
          6198.7518,
          8733.22925,
          2055.3249,
          5116.5004,
          5373.36425,
          3956.07145,
          7537.1639,
          60021.39897,
          12479.70895,
          2699.56835,
          12224.35085,
          4296.2712,
          11436.73815,
          11305.93455,
          30063.58055,
          3292.52985,
          3021.80915,
          4357.04365,
          4189.1131,
          24535.69855,
          9301.89355,
          5261.46945,
          2710.82855,
          46718.16325,
          21472.4788,
          6940.90985,
          4571.41305,
          18765.87545,
          7201.70085,
          5425.02335,
          4239.89265,
          10600.5483,
          29141.3603
         ],
         "yaxis": "y"
        },
        {
         "hovertemplate": "region=northeast<br>bmi=%{x}<br>charges=%{y}<extra></extra>",
         "legendgroup": "northeast",
         "marker": {
          "color": "#ab63fa",
          "symbol": "circle"
         },
         "mode": "markers",
         "name": "northeast",
         "showlegend": true,
         "type": "scattergl",
         "x": [
          29.83,
          26.22,
          30.78,
          23.845,
          36.005,
          31.92,
          23.085,
          26.315,
          36.67,
          26.6,
          37.05,
          38.665,
          35.625,
          31.825,
          27.36,
          28.5,
          39.805,
          26.885,
          38.285,
          29.83,
          19.95,
          25.46,
          30.115,
          32.205,
          28.595,
          23.75,
          31.35,
          28.785,
          26.505,
          22.04,
          28.785,
          22.42,
          32.49,
          37.145,
          23.37,
          25.46,
          25.175,
          28.215,
          18.905,
          15.96,
          33.155,
          19.95,
          41.895,
          39.33,
          28.88,
          27.74,
          41.23,
          33.25,
          31.635,
          25.46,
          36.67,
          22.135,
          27.74,
          28.975,
          17.29,
          31.825,
          25.365,
          24.32,
          32.395,
          25.84,
          27.455,
          26.6,
          28.12,
          40.565,
          27.645,
          32.395,
          48.07,
          36.765,
          29.64,
          22.99,
          27.55,
          22.61,
          34.865,
          33.25,
          32.775,
          37.335,
          29.64,
          40.945,
          34.105,
          36.385,
          28.785,
          35.72,
          32.3,
          27.55,
          36.765,
          33.345,
          35.245,
          32.3,
          30.78,
          32.3,
          30.4,
          22.23,
          33.155,
          24.89,
          17.955,
          30.685,
          22.135,
          35.625,
          31.445,
          31.35,
          32.3,
          38.38,
          20.235,
          17.195,
          32.775,
          30.59,
          27.265,
          29.165,
          16.815,
          31.73,
          29.45,
          29.64,
          38.095,
          25.935,
          24.32,
          30.115,
          33.345,
          28.5,
          31.065,
          25.08,
          27.93,
          26.03,
          25.27,
          32.11,
          22.42,
          30.875,
          27.36,
          33.915,
          39.425,
          25.46,
          31.73,
          28.025,
          35.435,
          28.595,
          41.325,
          33.44,
          32.68,
          36.86,
          34.295,
          38.095,
          23.465,
          25.46,
          20.235,
          35.91,
          21.85,
          33.725,
          33.25,
          25.175,
          26.98,
          33.155,
          19,
          28.595,
          33.535,
          28.88,
          22.705,
          38.19,
          38.095,
          26.41,
          33.915,
          30.78,
          23.37,
          28.5,
          32.965,
          35.91,
          28.785,
          31.54,
          32.015,
          31.16,
          26.41,
          26.125,
          27.36,
          32.3,
          44.745,
          30.495,
          27.74,
          40.47,
          40.66,
          27.075,
          21.755,
          40.28,
          27.265,
          31.73,
          24.035,
          34.105,
          33.63,
          27.645,
          22.8,
          37.43,
          34.58,
          26.03,
          25.175,
          36.48,
          39.805,
          36.955,
          22.515,
          23.18,
          22.895,
          24.795,
          25.84,
          22.515,
          26.125,
          31.825,
          28.025,
          30.78,
          28.31,
          23.465,
          24.7,
          30.495,
          30.78,
          35.53,
          23.75,
          23.845,
          19.855,
          23.655,
          21.85,
          22.135,
          37.05,
          28.975,
          24.035,
          32.11,
          20.045,
          22.515,
          27.265,
          29.355,
          32.585,
          31.73,
          22.895,
          32.11,
          29.735,
          40.185,
          34.2,
          18.335,
          34.96,
          24.795,
          25.745,
          23.56,
          22.895,
          39.995,
          25.46,
          21.375,
          30.59,
          30.115,
          34.675,
          20.52,
          27.835,
          23.275,
          36.29,
          19.19,
          29.26,
          24.985,
          27.74,
          17.29,
          27.93,
          21.565,
          28.88,
          23.085,
          30.685,
          35.245,
          25.08,
          26.41,
          29.83,
          42.655,
          31.445,
          28.88,
          18.335,
          26.03,
          28.975,
          29.83,
          31.35,
          34.96,
          30.875,
          19.095,
          32.3,
          24.51,
          29.64,
          32.395,
          42.75,
          40.28,
          30.305,
          22.135,
          30.59,
          28.215,
          26.125,
          27.36,
          34.865,
          41.325,
          27.36,
          23.56,
          25.27,
          21.755,
          32.395,
          32.3,
          25.555,
          21.47,
          39.14,
          21.945,
          23.94,
          16.815,
          30.305,
          21.66,
          22.705,
          33.63,
          29.83,
          23.18,
          20.52,
          33.345,
          31.065,
          30.4,
          29.925,
          21.66,
          24.32,
          17.29,
          19.95,
          25.175,
          26.125,
          24.605,
          21.85,
          28.31,
          39.71,
          26.695,
          33.535,
          32.87,
          24.225,
          31.92
         ],
         "xaxis": "x",
         "y": [
          6406.4107,
          2721.3208,
          10797.3362,
          2395.17155,
          13228.84695,
          37701.8768,
          14451.83515,
          2198.18985,
          39774.2763,
          3046.062,
          6079.6715,
          3393.35635,
          2211.13075,
          13607.36875,
          8606.2174,
          6799.458,
          2755.02095,
          4441.21315,
          7935.29115,
          30184.9367,
          22412.6485,
          3645.0894,
          21344.8467,
          11488.31695,
          30259.99556,
          1705.6245,
          39556.4945,
          3385.39915,
          12815.44495,
          13616.3586,
          2457.21115,
          27375.90478,
          3490.5491,
          6334.34355,
          19964.7463,
          7077.1894,
          15518.18025,
          10407.08585,
          4827.90495,
          1694.7964,
          8538.28845,
          4005.4225,
          43753.33705,
          14901.5167,
          4337.7352,
          20984.0936,
          6610.1097,
          10564.8845,
          7358.17565,
          9225.2564,
          38511.6283,
          5354.07465,
          29523.1656,
          4040.55825,
          12829.4551,
          41097.16175,
          13047.33235,
          24869.8368,
          14590.63205,
          9282.4806,
          9617.66245,
          9715.841,
          22331.5668,
          48549.17835,
          4237.12655,
          11879.10405,
          9432.9253,
          47896.79135,
          20277.80751,
          1704.5681,
          6746.7425,
          24873.3849,
          11944.59435,
          9722.7695,
          10435.06525,
          4667.60765,
          24671.66334,
          11566.30055,
          6600.20595,
          48517.56315,
          11658.37915,
          19144.57652,
          41919.097,
          13217.0945,
          13981.85035,
          8334.45755,
          12404.8791,
          10043.249,
          9778.3472,
          13430.265,
          3481.868,
          12029.2867,
          7639.41745,
          21659.9301,
          15006.57945,
          42303.69215,
          8302.53565,
          10736.87075,
          8964.06055,
          9290.1395,
          9411.005,
          11396.9002,
          19594.80965,
          14455.64405,
          39125.33225,
          2727.3951,
          6555.07035,
          7323.734819,
          3167.45585,
          2254.7967,
          2897.3235,
          12730.9996,
          15230.32405,
          11165.41765,
          23288.9284,
          2203.47185,
          20878.78443,
          35147.52848,
          4347.02335,
          2196.4732,
          1967.0227,
          6837.3687,
          3044.2133,
          11763.0009,
          9361.3268,
          3857.75925,
          25656.57526,
          9866.30485,
          8342.90875,
          1708.0014,
          14043.4767,
          6067.12675,
          3268.84665,
          3213.62205,
          17878.90068,
          8334.5896,
          10923.9332,
          31620.00106,
          13224.05705,
          58571.07448,
          3206.49135,
          12913.9924,
          3861.20965,
          13635.6379,
          15359.1045,
          8823.98575,
          5594.8455,
          3558.62025,
          4435.0942,
          2207.69745,
          6753.038,
          11658.11505,
          34617.84065,
          6748.5912,
          7173.35995,
          14410.9321,
          24915.04626,
          20149.3229,
          13143.86485,
          10141.1362,
          8252.2843,
          1712.227,
          12430.95335,
          26392.26029,
          14394.39815,
          5148.5526,
          45710.20785,
          3943.5954,
          11244.3769,
          7729.64575,
          2104.1134,
          29186.48236,
          9541.69555,
          6113.23105,
          5469.0066,
          1984.4533,
          9875.6804,
          10106.13425,
          16657.71745,
          2217.6012,
          9447.25035,
          36189.1017,
          8604.48365,
          43254.41795,
          17128.42608,
          5031.26955,
          7985.815,
          5428.7277,
          3925.7582,
          3070.8087,
          9095.06825,
          12797.20962,
          7448.40395,
          12741.16745,
          5209.57885,
          2731.9122,
          4719.52405,
          17904.52705,
          3309.7926,
          4428.88785,
          23401.30575,
          16069.08475,
          20773.62775,
          39597.4072,
          11657.7189,
          6402.29135,
          12323.936,
          10072.05505,
          37270.1512,
          42111.6647,
          11729.6795,
          24106.91255,
          5458.04645,
          13129.60345,
          8891.1395,
          2585.85065,
          46255.1125,
          27218.43725,
          10422.91665,
          13555.0049,
          19798.05455,
          8688.85885,
          4661.28635,
          4564.19145,
          4846.92015,
          33732.6867,
          35069.37452,
          25333.33284,
          32108.66282,
          2217.46915,
          39047.285,
          11534.87265,
          41034.2214,
          9500.57305,
          3279.86855,
          4992.3764,
          16138.76205,
          9704.66805,
          25517.11363,
          4500.33925,
          16796.41194,
          4915.05985,
          4518.82625,
          14571.8908,
          7144.86265,
          7986.47525,
          6551.7501,
          8627.5411,
          4438.2634,
          23241.47453,
          9957.7216,
          6877.9801,
          4137.5227,
          13747.87235,
          2250.8352,
          1704.70015,
          33475.81715,
          11394.06555,
          7325.0482,
          14394.5579,
          9288.0267,
          5757.41345,
          13974.45555,
          12096.6512,
          13204.28565,
          2102.2647,
          10796.35025,
          11286.5387,
          4561.1885,
          44641.1974,
          23045.56616,
          16776.30405,
          11512.405,
          2396.0959,
          9222.4026,
          18903.49141,
          40904.1995,
          20709.02034,
          2203.73595,
          7228.21565,
          2459.7201,
          2200.83085,
          5227.98875,
          17178.6824,
          2899.48935,
          7650.77375,
          9447.3824,
          8603.8234,
          21771.3423,
          13725.47184,
          13019.16105,
          9964.06,
          20296.86345,
          1702.4553,
          12890.05765,
          4718.20355,
          6858.4796,
          6640.54485,
          11938.25595,
          14449.8544,
          6985.50695,
          37607.5277,
          18648.4217,
          10197.7722,
          4544.2348,
          10370.91255,
          34254.05335,
          2741.948,
          22462.04375,
          14283.4594,
          8534.6718,
          3732.6251,
          7133.9025,
          11931.12525,
          1708.92575,
          21259.37795,
          16115.3045,
          11272.33139,
          19496.71917,
          28101.33305,
          13143.33665,
          7050.0213,
          22395.74424,
          2205.9808
         ],
         "yaxis": "y"
        }
       ],
       "layout": {
        "legend": {
         "title": {
          "text": "region"
         },
         "tracegroupgap": 0
        },
        "margin": {
         "t": 60
        },
        "template": {
         "data": {
          "bar": [
           {
            "error_x": {
             "color": "#2a3f5f"
            },
            "error_y": {
             "color": "#2a3f5f"
            },
            "marker": {
             "line": {
              "color": "#E5ECF6",
              "width": 0.5
             },
             "pattern": {
              "fillmode": "overlay",
              "size": 10,
              "solidity": 0.2
             }
            },
            "type": "bar"
           }
          ],
          "barpolar": [
           {
            "marker": {
             "line": {
              "color": "#E5ECF6",
              "width": 0.5
             },
             "pattern": {
              "fillmode": "overlay",
              "size": 10,
              "solidity": 0.2
             }
            },
            "type": "barpolar"
           }
          ],
          "carpet": [
           {
            "aaxis": {
             "endlinecolor": "#2a3f5f",
             "gridcolor": "white",
             "linecolor": "white",
             "minorgridcolor": "white",
             "startlinecolor": "#2a3f5f"
            },
            "baxis": {
             "endlinecolor": "#2a3f5f",
             "gridcolor": "white",
             "linecolor": "white",
             "minorgridcolor": "white",
             "startlinecolor": "#2a3f5f"
            },
            "type": "carpet"
           }
          ],
          "choropleth": [
           {
            "colorbar": {
             "outlinewidth": 0,
             "ticks": ""
            },
            "type": "choropleth"
           }
          ],
          "contour": [
           {
            "colorbar": {
             "outlinewidth": 0,
             "ticks": ""
            },
            "colorscale": [
             [
              0,
              "#0d0887"
             ],
             [
              0.1111111111111111,
              "#46039f"
             ],
             [
              0.2222222222222222,
              "#7201a8"
             ],
             [
              0.3333333333333333,
              "#9c179e"
             ],
             [
              0.4444444444444444,
              "#bd3786"
             ],
             [
              0.5555555555555556,
              "#d8576b"
             ],
             [
              0.6666666666666666,
              "#ed7953"
             ],
             [
              0.7777777777777778,
              "#fb9f3a"
             ],
             [
              0.8888888888888888,
              "#fdca26"
             ],
             [
              1,
              "#f0f921"
             ]
            ],
            "type": "contour"
           }
          ],
          "contourcarpet": [
           {
            "colorbar": {
             "outlinewidth": 0,
             "ticks": ""
            },
            "type": "contourcarpet"
           }
          ],
          "heatmap": [
           {
            "colorbar": {
             "outlinewidth": 0,
             "ticks": ""
            },
            "colorscale": [
             [
              0,
              "#0d0887"
             ],
             [
              0.1111111111111111,
              "#46039f"
             ],
             [
              0.2222222222222222,
              "#7201a8"
             ],
             [
              0.3333333333333333,
              "#9c179e"
             ],
             [
              0.4444444444444444,
              "#bd3786"
             ],
             [
              0.5555555555555556,
              "#d8576b"
             ],
             [
              0.6666666666666666,
              "#ed7953"
             ],
             [
              0.7777777777777778,
              "#fb9f3a"
             ],
             [
              0.8888888888888888,
              "#fdca26"
             ],
             [
              1,
              "#f0f921"
             ]
            ],
            "type": "heatmap"
           }
          ],
          "heatmapgl": [
           {
            "colorbar": {
             "outlinewidth": 0,
             "ticks": ""
            },
            "colorscale": [
             [
              0,
              "#0d0887"
             ],
             [
              0.1111111111111111,
              "#46039f"
             ],
             [
              0.2222222222222222,
              "#7201a8"
             ],
             [
              0.3333333333333333,
              "#9c179e"
             ],
             [
              0.4444444444444444,
              "#bd3786"
             ],
             [
              0.5555555555555556,
              "#d8576b"
             ],
             [
              0.6666666666666666,
              "#ed7953"
             ],
             [
              0.7777777777777778,
              "#fb9f3a"
             ],
             [
              0.8888888888888888,
              "#fdca26"
             ],
             [
              1,
              "#f0f921"
             ]
            ],
            "type": "heatmapgl"
           }
          ],
          "histogram": [
           {
            "marker": {
             "pattern": {
              "fillmode": "overlay",
              "size": 10,
              "solidity": 0.2
             }
            },
            "type": "histogram"
           }
          ],
          "histogram2d": [
           {
            "colorbar": {
             "outlinewidth": 0,
             "ticks": ""
            },
            "colorscale": [
             [
              0,
              "#0d0887"
             ],
             [
              0.1111111111111111,
              "#46039f"
             ],
             [
              0.2222222222222222,
              "#7201a8"
             ],
             [
              0.3333333333333333,
              "#9c179e"
             ],
             [
              0.4444444444444444,
              "#bd3786"
             ],
             [
              0.5555555555555556,
              "#d8576b"
             ],
             [
              0.6666666666666666,
              "#ed7953"
             ],
             [
              0.7777777777777778,
              "#fb9f3a"
             ],
             [
              0.8888888888888888,
              "#fdca26"
             ],
             [
              1,
              "#f0f921"
             ]
            ],
            "type": "histogram2d"
           }
          ],
          "histogram2dcontour": [
           {
            "colorbar": {
             "outlinewidth": 0,
             "ticks": ""
            },
            "colorscale": [
             [
              0,
              "#0d0887"
             ],
             [
              0.1111111111111111,
              "#46039f"
             ],
             [
              0.2222222222222222,
              "#7201a8"
             ],
             [
              0.3333333333333333,
              "#9c179e"
             ],
             [
              0.4444444444444444,
              "#bd3786"
             ],
             [
              0.5555555555555556,
              "#d8576b"
             ],
             [
              0.6666666666666666,
              "#ed7953"
             ],
             [
              0.7777777777777778,
              "#fb9f3a"
             ],
             [
              0.8888888888888888,
              "#fdca26"
             ],
             [
              1,
              "#f0f921"
             ]
            ],
            "type": "histogram2dcontour"
           }
          ],
          "mesh3d": [
           {
            "colorbar": {
             "outlinewidth": 0,
             "ticks": ""
            },
            "type": "mesh3d"
           }
          ],
          "parcoords": [
           {
            "line": {
             "colorbar": {
              "outlinewidth": 0,
              "ticks": ""
             }
            },
            "type": "parcoords"
           }
          ],
          "pie": [
           {
            "automargin": true,
            "type": "pie"
           }
          ],
          "scatter": [
           {
            "fillpattern": {
             "fillmode": "overlay",
             "size": 10,
             "solidity": 0.2
            },
            "type": "scatter"
           }
          ],
          "scatter3d": [
           {
            "line": {
             "colorbar": {
              "outlinewidth": 0,
              "ticks": ""
             }
            },
            "marker": {
             "colorbar": {
              "outlinewidth": 0,
              "ticks": ""
             }
            },
            "type": "scatter3d"
           }
          ],
          "scattercarpet": [
           {
            "marker": {
             "colorbar": {
              "outlinewidth": 0,
              "ticks": ""
             }
            },
            "type": "scattercarpet"
           }
          ],
          "scattergeo": [
           {
            "marker": {
             "colorbar": {
              "outlinewidth": 0,
              "ticks": ""
             }
            },
            "type": "scattergeo"
           }
          ],
          "scattergl": [
           {
            "marker": {
             "colorbar": {
              "outlinewidth": 0,
              "ticks": ""
             }
            },
            "type": "scattergl"
           }
          ],
          "scattermapbox": [
           {
            "marker": {
             "colorbar": {
              "outlinewidth": 0,
              "ticks": ""
             }
            },
            "type": "scattermapbox"
           }
          ],
          "scatterpolar": [
           {
            "marker": {
             "colorbar": {
              "outlinewidth": 0,
              "ticks": ""
             }
            },
            "type": "scatterpolar"
           }
          ],
          "scatterpolargl": [
           {
            "marker": {
             "colorbar": {
              "outlinewidth": 0,
              "ticks": ""
             }
            },
            "type": "scatterpolargl"
           }
          ],
          "scatterternary": [
           {
            "marker": {
             "colorbar": {
              "outlinewidth": 0,
              "ticks": ""
             }
            },
            "type": "scatterternary"
           }
          ],
          "surface": [
           {
            "colorbar": {
             "outlinewidth": 0,
             "ticks": ""
            },
            "colorscale": [
             [
              0,
              "#0d0887"
             ],
             [
              0.1111111111111111,
              "#46039f"
             ],
             [
              0.2222222222222222,
              "#7201a8"
             ],
             [
              0.3333333333333333,
              "#9c179e"
             ],
             [
              0.4444444444444444,
              "#bd3786"
             ],
             [
              0.5555555555555556,
              "#d8576b"
             ],
             [
              0.6666666666666666,
              "#ed7953"
             ],
             [
              0.7777777777777778,
              "#fb9f3a"
             ],
             [
              0.8888888888888888,
              "#fdca26"
             ],
             [
              1,
              "#f0f921"
             ]
            ],
            "type": "surface"
           }
          ],
          "table": [
           {
            "cells": {
             "fill": {
              "color": "#EBF0F8"
             },
             "line": {
              "color": "white"
             }
            },
            "header": {
             "fill": {
              "color": "#C8D4E3"
             },
             "line": {
              "color": "white"
             }
            },
            "type": "table"
           }
          ]
         },
         "layout": {
          "annotationdefaults": {
           "arrowcolor": "#2a3f5f",
           "arrowhead": 0,
           "arrowwidth": 1
          },
          "autotypenumbers": "strict",
          "coloraxis": {
           "colorbar": {
            "outlinewidth": 0,
            "ticks": ""
           }
          },
          "colorscale": {
           "diverging": [
            [
             0,
             "#8e0152"
            ],
            [
             0.1,
             "#c51b7d"
            ],
            [
             0.2,
             "#de77ae"
            ],
            [
             0.3,
             "#f1b6da"
            ],
            [
             0.4,
             "#fde0ef"
            ],
            [
             0.5,
             "#f7f7f7"
            ],
            [
             0.6,
             "#e6f5d0"
            ],
            [
             0.7,
             "#b8e186"
            ],
            [
             0.8,
             "#7fbc41"
            ],
            [
             0.9,
             "#4d9221"
            ],
            [
             1,
             "#276419"
            ]
           ],
           "sequential": [
            [
             0,
             "#0d0887"
            ],
            [
             0.1111111111111111,
             "#46039f"
            ],
            [
             0.2222222222222222,
             "#7201a8"
            ],
            [
             0.3333333333333333,
             "#9c179e"
            ],
            [
             0.4444444444444444,
             "#bd3786"
            ],
            [
             0.5555555555555556,
             "#d8576b"
            ],
            [
             0.6666666666666666,
             "#ed7953"
            ],
            [
             0.7777777777777778,
             "#fb9f3a"
            ],
            [
             0.8888888888888888,
             "#fdca26"
            ],
            [
             1,
             "#f0f921"
            ]
           ],
           "sequentialminus": [
            [
             0,
             "#0d0887"
            ],
            [
             0.1111111111111111,
             "#46039f"
            ],
            [
             0.2222222222222222,
             "#7201a8"
            ],
            [
             0.3333333333333333,
             "#9c179e"
            ],
            [
             0.4444444444444444,
             "#bd3786"
            ],
            [
             0.5555555555555556,
             "#d8576b"
            ],
            [
             0.6666666666666666,
             "#ed7953"
            ],
            [
             0.7777777777777778,
             "#fb9f3a"
            ],
            [
             0.8888888888888888,
             "#fdca26"
            ],
            [
             1,
             "#f0f921"
            ]
           ]
          },
          "colorway": [
           "#636efa",
           "#EF553B",
           "#00cc96",
           "#ab63fa",
           "#FFA15A",
           "#19d3f3",
           "#FF6692",
           "#B6E880",
           "#FF97FF",
           "#FECB52"
          ],
          "font": {
           "color": "#2a3f5f"
          },
          "geo": {
           "bgcolor": "white",
           "lakecolor": "white",
           "landcolor": "#E5ECF6",
           "showlakes": true,
           "showland": true,
           "subunitcolor": "white"
          },
          "hoverlabel": {
           "align": "left"
          },
          "hovermode": "closest",
          "mapbox": {
           "style": "light"
          },
          "paper_bgcolor": "white",
          "plot_bgcolor": "#E5ECF6",
          "polar": {
           "angularaxis": {
            "gridcolor": "white",
            "linecolor": "white",
            "ticks": ""
           },
           "bgcolor": "#E5ECF6",
           "radialaxis": {
            "gridcolor": "white",
            "linecolor": "white",
            "ticks": ""
           }
          },
          "scene": {
           "xaxis": {
            "backgroundcolor": "#E5ECF6",
            "gridcolor": "white",
            "gridwidth": 2,
            "linecolor": "white",
            "showbackground": true,
            "ticks": "",
            "zerolinecolor": "white"
           },
           "yaxis": {
            "backgroundcolor": "#E5ECF6",
            "gridcolor": "white",
            "gridwidth": 2,
            "linecolor": "white",
            "showbackground": true,
            "ticks": "",
            "zerolinecolor": "white"
           },
           "zaxis": {
            "backgroundcolor": "#E5ECF6",
            "gridcolor": "white",
            "gridwidth": 2,
            "linecolor": "white",
            "showbackground": true,
            "ticks": "",
            "zerolinecolor": "white"
           }
          },
          "shapedefaults": {
           "line": {
            "color": "#2a3f5f"
           }
          },
          "ternary": {
           "aaxis": {
            "gridcolor": "white",
            "linecolor": "white",
            "ticks": ""
           },
           "baxis": {
            "gridcolor": "white",
            "linecolor": "white",
            "ticks": ""
           },
           "bgcolor": "#E5ECF6",
           "caxis": {
            "gridcolor": "white",
            "linecolor": "white",
            "ticks": ""
           }
          },
          "title": {
           "x": 0.05
          },
          "xaxis": {
           "automargin": true,
           "gridcolor": "white",
           "linecolor": "white",
           "ticks": "",
           "title": {
            "standoff": 15
           },
           "zerolinecolor": "white",
           "zerolinewidth": 2
          },
          "yaxis": {
           "automargin": true,
           "gridcolor": "white",
           "linecolor": "white",
           "ticks": "",
           "title": {
            "standoff": 15
           },
           "zerolinecolor": "white",
           "zerolinewidth": 2
          }
         }
        },
        "xaxis": {
         "anchor": "y",
         "domain": [
          0,
          1
         ],
         "title": {
          "text": "bmi"
         }
        },
        "yaxis": {
         "anchor": "x",
         "domain": [
          0,
          1
         ],
         "title": {
          "text": "charges"
         }
        }
       }
      }
     },
     "metadata": {},
     "output_type": "display_data"
    }
   ],
   "source": [
    "px.scatter(df, x='bmi', y='charges', color='region')"
   ]
  },
  {
   "cell_type": "code",
   "execution_count": 45,
   "metadata": {},
   "outputs": [],
   "source": [
    "import seaborn as sns\n"
   ]
  },
  {
   "cell_type": "markdown",
   "metadata": {},
   "source": [
    "전처리 기준\n",
    "bmi\n",
    "18.5,\n",
    "23.0,\n",
    "25.0,\n",
    "30.0,\n",
    "35.0\n",
    "\n",
    "sex : {male : 0, female : 1}\n",
    "\n",
    "smoker : {no:0,yes:1}\n"
   ]
  },
  {
   "cell_type": "code",
   "execution_count": 90,
   "metadata": {},
   "outputs": [],
   "source": [
    "df_h = df.copy()"
   ]
  },
  {
   "cell_type": "code",
   "execution_count": 60,
   "metadata": {},
   "outputs": [],
   "source": [
    "df_h.loc[df_h.bmi < 18.5, 'bmi'] = 0\n",
    "df_h.loc[(df_h.bmi >= 18.5) & (df_h.bmi < 23.0), 'bmi'] = 1\n",
    "df_h.loc[(df_h.bmi >= 23.0) & (df_h.bmi < 25.0), 'bmi'] = 2\n",
    "df_h.loc[(df_h.bmi >= 25.0) & (df_h.bmi < 30.0), 'bmi'] = 3\n",
    "df_h.loc[(df_h.bmi >= 30.0) & (df_h.bmi < 35.0), 'bmi'] = 4\n",
    "df_h.loc[df_h.bmi >= 35.0, 'bmi'] = 5"
   ]
  },
  {
   "cell_type": "code",
   "execution_count": 91,
   "metadata": {},
   "outputs": [],
   "source": [
    "df_h.loc[df_h.sex == 'male','sex'] = 0\n",
    "df_h.loc[df_h.sex == 'female','sex'] = 1"
   ]
  },
  {
   "cell_type": "code",
   "execution_count": 92,
   "metadata": {},
   "outputs": [],
   "source": [
    "df_h.loc[df_h.smoker == 'no','smoker'] = 0\n",
    "df_h.loc[df_h.smoker == 'yes','smoker'] = 1"
   ]
  },
  {
   "cell_type": "code",
   "execution_count": 93,
   "metadata": {},
   "outputs": [],
   "source": [
    "df_h.loc[df_h.region == 'southeast','region'] = 0\n",
    "df_h.loc[df_h.region == 'southwest','region'] = 1\n",
    "df_h.loc[df_h.region == 'northeast','region'] = 2\n",
    "df_h.loc[df_h.region == 'northwest','region'] = 3"
   ]
  },
  {
   "cell_type": "code",
   "execution_count": 69,
   "metadata": {},
   "outputs": [],
   "source": [
    "df_h.bmi = df_h.bmi.astype(int)"
   ]
  },
  {
   "cell_type": "code",
   "execution_count": 94,
   "metadata": {},
   "outputs": [],
   "source": [
    "df_h.sex = df_h.sex.astype(int)\n",
    "df_h.smoker = df_h.smoker.astype(int)"
   ]
  },
  {
   "cell_type": "code",
   "execution_count": 95,
   "metadata": {},
   "outputs": [],
   "source": [
    "\n",
    "df_h.region = df_h.region.astype(int)"
   ]
  },
  {
   "cell_type": "code",
   "execution_count": 96,
   "metadata": {},
   "outputs": [
    {
     "name": "stdout",
     "output_type": "stream",
     "text": [
      "<class 'pandas.core.frame.DataFrame'>\n",
      "RangeIndex: 1338 entries, 0 to 1337\n",
      "Data columns (total 7 columns):\n",
      " #   Column    Non-Null Count  Dtype  \n",
      "---  ------    --------------  -----  \n",
      " 0   age       1338 non-null   int64  \n",
      " 1   sex       1338 non-null   int32  \n",
      " 2   bmi       1338 non-null   float64\n",
      " 3   children  1338 non-null   int64  \n",
      " 4   smoker    1338 non-null   int32  \n",
      " 5   region    1338 non-null   int32  \n",
      " 6   charges   1338 non-null   float64\n",
      "dtypes: float64(2), int32(3), int64(2)\n",
      "memory usage: 57.6 KB\n"
     ]
    }
   ],
   "source": [
    "df_h.info()"
   ]
  },
  {
   "cell_type": "code",
   "execution_count": 97,
   "metadata": {},
   "outputs": [
    {
     "data": {
      "text/html": [
       "<div>\n",
       "<style scoped>\n",
       "    .dataframe tbody tr th:only-of-type {\n",
       "        vertical-align: middle;\n",
       "    }\n",
       "\n",
       "    .dataframe tbody tr th {\n",
       "        vertical-align: top;\n",
       "    }\n",
       "\n",
       "    .dataframe thead th {\n",
       "        text-align: right;\n",
       "    }\n",
       "</style>\n",
       "<table border=\"1\" class=\"dataframe\">\n",
       "  <thead>\n",
       "    <tr style=\"text-align: right;\">\n",
       "      <th></th>\n",
       "      <th>age</th>\n",
       "      <th>sex</th>\n",
       "      <th>bmi</th>\n",
       "      <th>children</th>\n",
       "      <th>smoker</th>\n",
       "      <th>region</th>\n",
       "      <th>charges</th>\n",
       "    </tr>\n",
       "  </thead>\n",
       "  <tbody>\n",
       "    <tr>\n",
       "      <th>0</th>\n",
       "      <td>19</td>\n",
       "      <td>female</td>\n",
       "      <td>27.900</td>\n",
       "      <td>0</td>\n",
       "      <td>yes</td>\n",
       "      <td>southwest</td>\n",
       "      <td>16884.92400</td>\n",
       "    </tr>\n",
       "    <tr>\n",
       "      <th>1</th>\n",
       "      <td>18</td>\n",
       "      <td>male</td>\n",
       "      <td>33.770</td>\n",
       "      <td>1</td>\n",
       "      <td>no</td>\n",
       "      <td>southeast</td>\n",
       "      <td>1725.55230</td>\n",
       "    </tr>\n",
       "    <tr>\n",
       "      <th>2</th>\n",
       "      <td>28</td>\n",
       "      <td>male</td>\n",
       "      <td>33.000</td>\n",
       "      <td>3</td>\n",
       "      <td>no</td>\n",
       "      <td>southeast</td>\n",
       "      <td>4449.46200</td>\n",
       "    </tr>\n",
       "    <tr>\n",
       "      <th>3</th>\n",
       "      <td>33</td>\n",
       "      <td>male</td>\n",
       "      <td>22.705</td>\n",
       "      <td>0</td>\n",
       "      <td>no</td>\n",
       "      <td>northwest</td>\n",
       "      <td>21984.47061</td>\n",
       "    </tr>\n",
       "    <tr>\n",
       "      <th>4</th>\n",
       "      <td>32</td>\n",
       "      <td>male</td>\n",
       "      <td>28.880</td>\n",
       "      <td>0</td>\n",
       "      <td>no</td>\n",
       "      <td>northwest</td>\n",
       "      <td>3866.85520</td>\n",
       "    </tr>\n",
       "  </tbody>\n",
       "</table>\n",
       "</div>"
      ],
      "text/plain": [
       "   age     sex     bmi  children smoker     region      charges\n",
       "0   19  female  27.900         0    yes  southwest  16884.92400\n",
       "1   18    male  33.770         1     no  southeast   1725.55230\n",
       "2   28    male  33.000         3     no  southeast   4449.46200\n",
       "3   33    male  22.705         0     no  northwest  21984.47061\n",
       "4   32    male  28.880         0     no  northwest   3866.85520"
      ]
     },
     "execution_count": 97,
     "metadata": {},
     "output_type": "execute_result"
    }
   ],
   "source": [
    "df.head()"
   ]
  },
  {
   "cell_type": "code",
   "execution_count": 98,
   "metadata": {},
   "outputs": [
    {
     "data": {
      "text/plain": [
       "<Axes: >"
      ]
     },
     "execution_count": 98,
     "metadata": {},
     "output_type": "execute_result"
    },
    {
     "data": {
      "image/png": "[encoded data removed]",
      "text/plain": [
       "<Figure size 640x480 with 2 Axes>"
      ]
     },
     "metadata": {},
     "output_type": "display_data"
    }
   ],
   "source": [
    "sns.heatmap(df_h.corr(numeric_only=True), annot=True, cmap='Reds')\n"
   ]
  },
  {
   "cell_type": "code",
   "execution_count": 107,
   "metadata": {},
   "outputs": [
    {
     "data": {
      "application/vnd.plotly.v1+json": {
       "config": {
        "plotlyServerURL": "https://plot.ly"
       },
       "data": [
        {
         "hovertemplate": "smoker=yes<br>bmi=%{x}<br>charges=%{y}<extra></extra>",
         "legendgroup": "yes",
         "marker": {
          "color": "#636efa",
          "symbol": "circle"
         },
         "mode": "markers",
         "name": "yes",
         "showlegend": true,
         "type": "scattergl",
         "x": [
          27.9,
          26.29,
          42.13,
          35.3,
          31.92,
          36.3,
          35.6,
          36.4,
          36.67,
          39.9,
          35.2,
          28,
          34.43,
          36.955,
          31.68,
          22.88,
          22.42,
          23.98,
          24.75,
          37.62,
          34.8,
          22.895,
          31.16,
          29.83,
          31.3,
          19.95,
          19.3,
          29.92,
          28.025,
          35.09,
          27.94,
          31.35,
          28.3,
          17.765,
          25.3,
          28.69,
          30.495,
          23.37,
          24.42,
          25.175,
          35.53,
          26.6,
          36.85,
          37.7,
          41.895,
          36.08,
          27.74,
          34.8,
          24.64,
          22.22,
          29.07,
          36.67,
          27.74,
          17.29,
          32.2,
          34.21,
          31.825,
          33.63,
          31.92,
          26.84,
          24.32,
          36.955,
          42.35,
          19.8,
          34.2,
          28.12,
          40.565,
          36.765,
          45.54,
          27.7,
          25.41,
          34.39,
          22.61,
          35.97,
          31.4,
          30.8,
          36.48,
          33.8,
          36.385,
          27.36,
          32.3,
          21.7,
          32.9,
          28.31,
          24.89,
          40.15,
          17.955,
          30.685,
          20.235,
          17.195,
          22.6,
          26.98,
          33.88,
          35.86,
          32.775,
          33.5,
          26.695,
          30,
          28.38,
          25.1,
          28.31,
          28.5,
          38.06,
          25.7,
          34.4,
          23.21,
          30.25,
          28.3,
          26.07,
          42.13,
          47.41,
          25.84,
          46.2,
          34.105,
          40.565,
          38.095,
          30.21,
          21.85,
          28.31,
          23.655,
          37.8,
          36.63,
          25.6,
          33.11,
          34.1,
          33.535,
          38.95,
          26.41,
          28.31,
          25.3,
          22.99,
          38.06,
          32.775,
          32.015,
          43.89,
          31.35,
          35.3,
          31.13,
          35.75,
          38.06,
          39.05,
          21.755,
          24.42,
          38.39,
          31.73,
          35.5,
          29.15,
          34.105,
          26.4,
          27.83,
          38.17,
          27.1,
          28.88,
          24.4,
          27.6,
          20.9,
          28.5,
          24.795,
          42.24,
          26.125,
          35.53,
          31.79,
          28.025,
          30.78,
          32.78,
          29.81,
          32.45,
          30.78,
          35.53,
          23.845,
          33.11,
          24.13,
          47.6,
          37.05,
          28.93,
          28.975,
          26.885,
          38.94,
          20.045,
          40.92,
          24.6,
          31.73,
          26.885,
          22.895,
          34.2,
          29.7,
          42.9,
          30.2,
          27.835,
          30.8,
          34.96,
          24.795,
          22.895,
          25.9,
          20.52,
          20.045,
          22.99,
          32.7,
          28.215,
          20.13,
          31.02,
          36.08,
          26.03,
          23.655,
          35.2,
          21.565,
          37.07,
          30.495,
          28.025,
          30.685,
          24.7,
          52.58,
          30.9,
          29.8,
          41.14,
          37.07,
          31.68,
          18.3,
          36.19,
          30.4,
          34.96,
          19.095,
          38.39,
          25.85,
          33.33,
          35.75,
          31.4,
          36.86,
          42.75,
          32.49,
          32.8,
          32.56,
          44.88,
          27.36,
          26.7,
          24.13,
          29.81,
          28.49,
          35.625,
          25.27,
          30.02,
          27.28,
          33.4,
          25.555,
          34.6,
          24.42,
          34.485,
          21.8,
          41.8,
          36.96,
          33.63,
          29.83,
          27.3,
          23.76,
          31.065,
          27.06,
          29.925,
          27.645,
          21.66,
          36.3,
          39.4,
          34.9,
          30.36,
          30.875,
          27.8,
          24.605,
          21.85,
          28.12,
          30.2,
          34.7,
          23.655,
          26.695,
          40.37,
          29.07
         ],
         "xaxis": "x",
         "y": [
          16884.924,
          27808.7251,
          39611.7577,
          36837.467,
          37701.8768,
          38711,
          35585.576,
          51194.55914,
          39774.2763,
          48173.361,
          38709.176,
          23568.272,
          37742.5757,
          47496.49445,
          34303.1672,
          23244.7902,
          14711.7438,
          17663.1442,
          16577.7795,
          37165.1638,
          39836.519,
          21098.55405,
          43578.9394,
          30184.9367,
          47291.055,
          22412.6485,
          15820.699,
          30942.1918,
          17560.37975,
          47055.5321,
          19107.7796,
          39556.4945,
          17081.08,
          32734.1863,
          18972.495,
          20745.9891,
          40720.55105,
          19964.7463,
          21223.6758,
          15518.18025,
          36950.2567,
          21348.706,
          36149.4835,
          48824.45,
          43753.33705,
          37133.8982,
          20984.0936,
          34779.615,
          19515.5416,
          19444.2658,
          17352.6803,
          38511.6283,
          29523.1656,
          12829.4551,
          47305.305,
          44260.7499,
          41097.16175,
          43921.1837,
          33750.2918,
          17085.2676,
          24869.8368,
          36219.40545,
          46151.1245,
          17179.522,
          42856.838,
          22331.5668,
          48549.17835,
          47896.79135,
          42112.2356,
          16297.846,
          21978.6769,
          38746.3551,
          24873.3849,
          42124.5153,
          34838.873,
          35491.64,
          42760.5022,
          47928.03,
          48517.56315,
          24393.6224,
          41919.097,
          13844.506,
          36085.219,
          18033.9679,
          21659.9301,
          38126.2465,
          15006.57945,
          42303.69215,
          19594.80965,
          14455.64405,
          18608.262,
          28950.4692,
          46889.2612,
          46599.1084,
          39125.33225,
          37079.372,
          26109.32905,
          22144.032,
          19521.9682,
          25382.297,
          28868.6639,
          35147.52848,
          48885.13561,
          17942.106,
          36197.699,
          22218.1149,
          32548.3405,
          21082.16,
          38245.59327,
          48675.5177,
          63770.42801,
          23807.2406,
          45863.205,
          39983.42595,
          45702.02235,
          58571.07448,
          43943.8761,
          15359.1045,
          17468.9839,
          25678.77845,
          39241.442,
          42969.8527,
          23306.547,
          34439.8559,
          40182.246,
          34617.84065,
          42983.4585,
          20149.3229,
          32787.45859,
          24667.419,
          27037.9141,
          42560.4304,
          40003.33225,
          45710.20785,
          46200.9851,
          46130.5265,
          40103.89,
          34806.4677,
          40273.6455,
          44400.4064,
          40932.4295,
          16657.71745,
          19361.9988,
          40419.0191,
          36189.1017,
          44585.45587,
          18246.4955,
          43254.41795,
          19539.243,
          23065.4207,
          36307.7983,
          19040.876,
          17748.5062,
          18259.216,
          24520.264,
          21195.818,
          18310.742,
          17904.52705,
          38792.6856,
          23401.30575,
          55135.40209,
          43813.8661,
          20773.62775,
          39597.4072,
          36021.0112,
          27533.9129,
          45008.9555,
          37270.1512,
          42111.6647,
          24106.91255,
          40974.1649,
          15817.9857,
          46113.511,
          46255.1125,
          19719.6947,
          27218.43725,
          29330.98315,
          44202.6536,
          19798.05455,
          48673.5588,
          17496.306,
          33732.6867,
          21774.32215,
          35069.37452,
          39047.285,
          19933.458,
          47462.894,
          38998.546,
          20009.63365,
          41999.52,
          41034.2214,
          23967.38305,
          16138.76205,
          19199.944,
          14571.8908,
          16420.49455,
          17361.7661,
          34472.841,
          24915.22085,
          18767.7377,
          35595.5898,
          42211.1382,
          16450.8947,
          21677.28345,
          44423.803,
          13747.87235,
          37484.4493,
          39725.51805,
          20234.85475,
          33475.81715,
          21880.82,
          44501.3982,
          39727.614,
          25309.489,
          48970.2476,
          39871.7043,
          34672.1472,
          19023.26,
          41676.0811,
          33907.548,
          44641.1974,
          16776.30405,
          41949.2441,
          24180.9335,
          36124.5737,
          38282.7495,
          34166.273,
          46661.4424,
          40904.1995,
          36898.73308,
          52590.82939,
          40941.2854,
          39722.7462,
          17178.6824,
          22478.6,
          23887.6627,
          19350.3689,
          18328.2381,
          37465.34375,
          21771.3423,
          33307.5508,
          18223.4512,
          38415.474,
          20296.86345,
          41661.602,
          26125.67477,
          60021.39897,
          20167.33603,
          47269.854,
          49577.6624,
          37607.5277,
          18648.4217,
          16232.847,
          26926.5144,
          34254.05335,
          17043.3414,
          22462.04375,
          24535.69855,
          14283.4594,
          47403.88,
          38344.566,
          34828.654,
          62592.87309,
          46718.16325,
          37829.7242,
          21259.37795,
          16115.3045,
          21472.4788,
          33900.653,
          36397.576,
          18765.87545,
          28101.33305,
          43896.3763,
          29141.3603
         ],
         "yaxis": "y"
        },
        {
         "hovertemplate": "smoker=no<br>bmi=%{x}<br>charges=%{y}<extra></extra>",
         "legendgroup": "no",
         "marker": {
          "color": "#EF553B",
          "symbol": "circle"
         },
         "mode": "markers",
         "name": "no",
         "showlegend": true,
         "type": "scattergl",
         "x": [
          33.77,
          33,
          22.705,
          28.88,
          25.74,
          33.44,
          27.74,
          29.83,
          25.84,
          26.22,
          34.4,
          39.82,
          24.6,
          30.78,
          23.845,
          40.3,
          36.005,
          32.4,
          34.1,
          28.025,
          27.72,
          23.085,
          32.775,
          17.385,
          26.315,
          28.6,
          28.31,
          20.425,
          32.965,
          20.8,
          26.6,
          36.63,
          21.78,
          30.8,
          37.05,
          37.3,
          38.665,
          34.77,
          24.53,
          35.625,
          33.63,
          28.69,
          31.825,
          37.335,
          27.36,
          33.66,
          24.7,
          25.935,
          28.9,
          39.1,
          26.315,
          36.19,
          28.5,
          28.1,
          32.01,
          27.4,
          34.01,
          29.59,
          35.53,
          39.805,
          32.965,
          26.885,
          38.285,
          41.23,
          27.2,
          27.74,
          26.98,
          39.49,
          24.795,
          34.77,
          37.62,
          30.8,
          38.28,
          31.6,
          25.46,
          30.115,
          27.5,
          28.4,
          30.875,
          27.94,
          33.63,
          29.7,
          30.8,
          35.72,
          32.205,
          28.595,
          49.06,
          27.17,
          23.37,
          37.1,
          23.75,
          28.975,
          33.915,
          28.785,
          37.4,
          34.7,
          26.505,
          22.04,
          35.9,
          25.555,
          28.785,
          28.05,
          34.1,
          25.175,
          31.9,
          36,
          22.42,
          32.49,
          29.735,
          38.83,
          37.73,
          37.43,
          28.4,
          24.13,
          29.7,
          37.145,
          25.46,
          39.52,
          27.83,
          39.6,
          29.8,
          29.64,
          28.215,
          37,
          33.155,
          31.825,
          18.905,
          41.47,
          30.3,
          15.96,
          34.8,
          33.345,
          27.835,
          29.2,
          28.9,
          33.155,
          28.595,
          38.28,
          19.95,
          26.41,
          30.69,
          29.92,
          30.9,
          32.2,
          32.11,
          31.57,
          26.2,
          25.74,
          26.6,
          34.43,
          30.59,
          32.8,
          28.6,
          18.05,
          39.33,
          32.11,
          32.23,
          24.035,
          22.3,
          28.88,
          26.4,
          31.8,
          41.23,
          33,
          30.875,
          28.5,
          26.73,
          30.9,
          37.1,
          26.6,
          23.1,
          29.92,
          23.21,
          33.7,
          33.25,
          30.8,
          33.88,
          38.06,
          41.91,
          31.635,
          25.46,
          36.195,
          27.83,
          17.8,
          27.5,
          24.51,
          26.73,
          38.39,
          38.06,
          22.135,
          26.8,
          35.3,
          30.02,
          38.06,
          35.86,
          20.9,
          28.975,
          30.3,
          25.365,
          40.15,
          24.415,
          25.2,
          38.06,
          32.395,
          30.2,
          25.84,
          29.37,
          37.05,
          27.455,
          27.55,
          26.6,
          20.615,
          24.3,
          31.79,
          21.56,
          27.645,
          32.395,
          31.2,
          26.62,
          48.07,
          26.22,
          26.4,
          33.4,
          29.64,
          28.82,
          26.8,
          22.99,
          28.88,
          27.55,
          37.51,
          33,
          38,
          33.345,
          27.5,
          33.33,
          34.865,
          33.06,
          26.6,
          24.7,
          35.86,
          33.25,
          32.205,
          32.775,
          27.645,
          37.335,
          25.27,
          29.64,
          40.945,
          27.2,
          34.105,
          23.21,
          36.7,
          31.16,
          28.785,
          35.72,
          34.5,
          25.74,
          27.55,
          27.72,
          27.6,
          30.02,
          27.55,
          36.765,
          41.47,
          29.26,
          35.75,
          33.345,
          29.92,
          27.835,
          23.18,
          25.6,
          27.7,
          35.245,
          38.28,
          27.6,
          43.89,
          29.83,
          41.91,
          20.79,
          32.3,
          30.5,
          26.4,
          21.89,
          30.78,
          32.3,
          24.985,
          32.015,
          30.4,
          21.09,
          22.23,
          33.155,
          33.33,
          30.115,
          31.46,
          33,
          43.34,
          22.135,
          34.4,
          39.05,
          25.365,
          22.61,
          30.21,
          35.625,
          37.43,
          31.445,
          31.35,
          32.3,
          19.855,
          34.4,
          31.02,
          25.6,
          38.17,
          20.6,
          47.52,
          32.965,
          32.3,
          20.4,
          38.38,
          24.31,
          23.6,
          21.12,
          30.03,
          17.48,
          23.9,
          35.15,
          35.64,
          34.1,
          39.16,
          30.59,
          30.2,
          24.31,
          27.265,
          29.165,
          16.815,
          30.4,
          33.1,
          20.235,
          26.9,
          30.5,
          28.595,
          33.11,
          31.73,
          28.9,
          46.75,
          29.45,
          32.68,
          43.01,
          36.52,
          33.1,
          29.64,
          25.65,
          29.6,
          38.6,
          29.6,
          24.13,
          23.4,
          29.735,
          46.53,
          37.4,
          30.14,
          30.495,
          39.6,
          33,
          36.63,
          38.095,
          25.935,
          25.175,
          28.7,
          33.82,
          24.32,
          24.09,
          32.67,
          30.115,
          29.8,
          33.345,
          35.625,
          36.85,
          32.56,
          41.325,
          37.51,
          31.35,
          39.5,
          34.3,
          31.065,
          21.47,
          28.7,
          31.16,
          32.9,
          25.08,
          25.08,
          43.4,
          27.93,
          23.6,
          28.7,
          23.98,
          39.2,
          26.03,
          28.93,
          30.875,
          31.35,
          23.75,
          25.27,
          28.7,
          32.11,
          33.66,
          22.42,
          30.4,
          35.7,
          35.31,
          30.495,
          31,
          30.875,
          27.36,
          44.22,
          33.915,
          37.73,
          33.88,
          30.59,
          25.8,
          39.425,
          25.46,
          31.73,
          29.7,
          36.19,
          40.48,
          28.025,
          38.9,
          30.2,
          28.05,
          31.35,
          38,
          31.79,
          36.3,
          30.21,
          35.435,
          46.7,
          28.595,
          30.8,
          28.93,
          21.4,
          31.73,
          41.325,
          23.8,
          33.44,
          34.21,
          35.53,
          19.95,
          32.68,
          30.5,
          44.77,
          32.12,
          30.495,
          40.565,
          30.59,
          31.9,
          29.1,
          37.29,
          43.12,
          36.86,
          34.295,
          27.17,
          26.84,
          30.2,
          23.465,
          25.46,
          30.59,
          45.43,
          23.65,
          20.7,
          28.27,
          20.235,
          35.91,
          30.69,
          29,
          19.57,
          31.13,
          40.26,
          33.725,
          29.48,
          33.25,
          32.6,
          37.525,
          39.16,
          31.635,
          25.3,
          39.05,
          34.1,
          25.175,
          26.98,
          29.37,
          34.8,
          33.155,
          19,
          33,
          28.595,
          37.1,
          31.4,
          21.3,
          28.785,
          26.03,
          28.88,
          42.46,
          38,
          36.1,
          29.3,
          35.53,
          22.705,
          39.7,
          38.19,
          24.51,
          38.095,
          33.66,
          42.4,
          33.915,
          34.96,
          35.31,
          30.78,
          26.22,
          23.37,
          28.5,
          32.965,
          42.68,
          39.6,
          31.13,
          36.3,
          35.2,
          42.4,
          33.155,
          35.91,
          28.785,
          46.53,
          23.98,
          31.54,
          33.66,
          28.7,
          29.81,
          31.57,
          31.16,
          29.7,
          31.02,
          21.375,
          40.81,
          36.1,
          23.18,
          17.4,
          20.3,
          24.32,
          18.5,
          26.41,
          26.125,
          41.69,
          24.1,
          27.36,
          36.2,
          32.395,
          23.655,
          34.8,
          40.185,
          32.3,
          33.725,
          39.27,
          34.87,
          44.745,
          41.47,
          26.41,
          29.545,
          32.9,
          28.69,
          30.495,
          27.74,
          35.2,
          23.54,
          30.685,
          40.47,
          22.6,
          28.9,
          22.61,
          24.32,
          36.67,
          33.44,
          40.66,
          36.6,
          37.4,
          35.4,
          27.075,
          28.405,
          40.28,
          36.08,
          21.4,
          30.1,
          27.265,
          32.1,
          34.77,
          23.7,
          24.035,
          26.62,
          26.41,
          30.115,
          27,
          21.755,
          36,
          30.875,
          28.975,
          37.905,
          22.77,
          33.63,
          27.645,
          22.8,
          37.43,
          34.58,
          35.2,
          26.03,
          25.175,
          31.825,
          32.3,
          29,
          39.7,
          19.475,
          36.1,
          26.7,
          36.48,
          34.2,
          33.33,
          32.3,
          39.805,
          34.32,
          28.88,
          41.14,
          35.97,
          29.26,
          27.7,
          36.955,
          36.86,
          22.515,
          29.92,
          41.8,
          27.6,
          23.18,
          31.92,
          44.22,
          22.895,
          33.1,
          26.18,
          35.97,
          22.3,
          26.51,
          35.815,
          41.42,
          36.575,
          30.14,
          25.84,
          30.8,
          42.94,
          21.01,
          22.515,
          34.43,
          31.46,
          24.225,
          37.1,
          33.7,
          17.67,
          31.13,
          29.81,
          24.32,
          31.825,
          21.85,
          33.1,
          25.84,
          23.845,
          34.39,
          33.82,
          35.97,
          31.5,
          28.31,
          23.465,
          31.35,
          31.1,
          24.7,
          30.495,
          34.2,
          50.38,
          24.1,
          32.775,
          32.3,
          23.75,
          29.6,
          32.23,
          28.1,
          28,
          33.535,
          19.855,
          25.4,
          29.9,
          37.29,
          43.7,
          23.655,
          24.3,
          36.2,
          29.48,
          24.86,
          30.1,
          21.85,
          28.12,
          27.1,
          33.44,
          28.8,
          29.5,
          34.8,
          27.36,
          22.135,
          26.695,
          30.02,
          39.5,
          33.63,
          29.04,
          24.035,
          32.11,
          44,
          25.555,
          40.26,
          22.515,
          22.515,
          27.265,
          36.85,
          35.1,
          29.355,
          32.585,
          32.34,
          39.8,
          28.31,
          26.695,
          27.5,
          24.605,
          33.99,
          28.2,
          34.21,
          25,
          33.2,
          31,
          35.815,
          23.2,
          32.11,
          23.4,
          20.1,
          39.16,
          34.21,
          46.53,
          32.5,
          25.8,
          35.3,
          37.18,
          27.5,
          29.735,
          24.225,
          26.18,
          29.48,
          23.21,
          46.09,
          40.185,
          22.61,
          39.93,
          35.8,
          35.8,
          31.255,
          18.335,
          28.405,
          39.49,
          26.79,
          36.67,
          39.615,
          25.9,
          35.2,
          24.795,
          36.765,
          27.1,
          25.365,
          25.745,
          34.32,
          28.16,
          23.56,
          20.235,
          40.5,
          35.42,
          40.15,
          29.15,
          39.995,
          29.92,
          25.46,
          21.375,
          30.59,
          30.115,
          25.8,
          30.115,
          27.645,
          34.675,
          19.8,
          27.835,
          31.6,
          28.27,
          23.275,
          34.1,
          36.85,
          36.29,
          26.885,
          25.8,
          29.6,
          19.19,
          31.73,
          29.26,
          24.985,
          27.74,
          22.8,
          33.33,
          32.3,
          27.6,
          25.46,
          24.605,
          34.2,
          35.815,
          32.68,
          37,
          23.32,
          45.32,
          34.6,
          18.715,
          31.6,
          17.29,
          27.93,
          38.38,
          23,
          28.88,
          27.265,
          23.085,
          25.8,
          35.245,
          25.08,
          22.515,
          36.955,
          26.41,
          29.83,
          21.47,
          27.645,
          28.9,
          31.79,
          39.49,
          33.82,
          32.01,
          27.94,
          28.595,
          25.6,
          25.3,
          37.29,
          42.655,
          21.66,
          31.9,
          31.445,
          31.255,
          28.88,
          18.335,
          29.59,
          32,
          26.03,
          33.66,
          21.78,
          27.835,
          19.95,
          31.5,
          30.495,
          28.975,
          31.54,
          47.74,
          22.1,
          29.83,
          32.7,
          33.7,
          31.35,
          33.77,
          30.875,
          33.99,
          28.6,
          38.94,
          36.08,
          29.8,
          31.24,
          29.925,
          26.22,
          30,
          20.35,
          32.3,
          26.315,
          24.51,
          32.67,
          29.64,
          19.95,
          38.17,
          32.395,
          25.08,
          29.9,
          35.86,
          32.8,
          18.6,
          23.87,
          45.9,
          40.28,
          18.335,
          33.82,
          28.12,
          25,
          22.23,
          30.25,
          37.07,
          32.6,
          24.86,
          32.34,
          32.3,
          32.775,
          31.92,
          21.5,
          34.1,
          30.305,
          36.48,
          35.815,
          27.93,
          22.135,
          23.18,
          30.59,
          41.1,
          34.58,
          42.13,
          38.83,
          28.215,
          28.31,
          26.125,
          40.37,
          24.6,
          35.2,
          34.105,
          41.91,
          29.26,
          32.11,
          27.1,
          27.4,
          34.865,
          41.325,
          29.925,
          30.3,
          27.36,
          23.56,
          32.68,
          28,
          32.775,
          21.755,
          32.395,
          36.575,
          21.755,
          27.93,
          33.55,
          29.355,
          25.8,
          24.32,
          40.375,
          32.11,
          32.3,
          17.86,
          34.8,
          37.1,
          30.875,
          34.1,
          21.47,
          33.3,
          31.255,
          39.14,
          25.08,
          37.29,
          30.21,
          21.945,
          24.97,
          25.3,
          23.94,
          39.82,
          16.815,
          37.18,
          34.43,
          30.305,
          24.605,
          23.3,
          27.83,
          31.065,
          21.66,
          28.215,
          22.705,
          42.13,
          21.28,
          33.11,
          33.33,
          24.3,
          25.7,
          29.4,
          39.82,
          19.8,
          29.3,
          27.72,
          37.9,
          36.385,
          27.645,
          37.715,
          23.18,
          20.52,
          37.1,
          28.05,
          29.9,
          33.345,
          30.5,
          33.3,
          27.5,
          33.915,
          34.485,
          25.52,
          27.61,
          23.7,
          30.4,
          29.735,
          26.79,
          33.33,
          30.03,
          24.32,
          17.29,
          25.9,
          34.32,
          19.95,
          23.21,
          25.745,
          25.175,
          22,
          26.125,
          26.51,
          27.455,
          25.745,
          20.8,
          27.72,
          32.2,
          26.315,
          26.695,
          42.9,
          28.31,
          20.6,
          53.13,
          39.71,
          26.315,
          31.065,
          38.83,
          25.935,
          33.535,
          32.87,
          30.03,
          24.225,
          38.6,
          25.74,
          33.4,
          44.7,
          30.97,
          31.92,
          36.85,
          25.8
         ],
         "xaxis": "x",
         "y": [
          1725.5523,
          4449.462,
          21984.47061,
          3866.8552,
          3756.6216,
          8240.5896,
          7281.5056,
          6406.4107,
          28923.13692,
          2721.3208,
          1826.843,
          11090.7178,
          1837.237,
          10797.3362,
          2395.17155,
          10602.385,
          13228.84695,
          4149.736,
          1137.011,
          6203.90175,
          14001.1338,
          14451.83515,
          12268.63225,
          2775.19215,
          2198.18985,
          4687.797,
          13770.0979,
          1625.43375,
          15612.19335,
          2302.3,
          3046.062,
          4949.7587,
          6272.4772,
          6313.759,
          6079.6715,
          20630.28351,
          3393.35635,
          3556.9223,
          12629.8967,
          2211.13075,
          3579.8287,
          8059.6791,
          13607.36875,
          5989.52365,
          8606.2174,
          4504.6624,
          30166.61817,
          4133.64165,
          1743.214,
          14235.072,
          6389.37785,
          5920.1041,
          6799.458,
          11741.726,
          11946.6259,
          7726.854,
          11356.6609,
          3947.4131,
          1532.4697,
          2755.02095,
          6571.02435,
          4441.21315,
          7935.29115,
          11033.6617,
          11073.176,
          8026.6666,
          11082.5772,
          2026.9741,
          10942.13205,
          5729.0053,
          3766.8838,
          12105.32,
          10226.2842,
          6186.127,
          3645.0894,
          21344.8467,
          5003.853,
          2331.519,
          3877.30425,
          2867.1196,
          10825.2537,
          11881.358,
          4646.759,
          2404.7338,
          11488.31695,
          30259.99556,
          11381.3254,
          8601.3293,
          6686.4313,
          7740.337,
          1705.6245,
          2257.47525,
          10115.00885,
          3385.39915,
          9634.538,
          6082.405,
          12815.44495,
          13616.3586,
          11163.568,
          1632.56445,
          2457.21115,
          2155.6815,
          1261.442,
          2045.68525,
          27322.73386,
          2166.732,
          27375.90478,
          3490.5491,
          18157.876,
          5138.2567,
          9877.6077,
          10959.6947,
          1842.519,
          5125.2157,
          7789.635,
          6334.34355,
          7077.1894,
          6948.7008,
          19749.38338,
          10450.552,
          5152.134,
          5028.1466,
          10407.08585,
          4830.63,
          6128.79745,
          2719.27975,
          4827.90495,
          13405.3903,
          8116.68,
          1694.7964,
          5246.047,
          2855.43755,
          6455.86265,
          10436.096,
          8823.279,
          8538.28845,
          11735.87905,
          1631.8212,
          4005.4225,
          7419.4779,
          7731.4271,
          3981.9768,
          5325.651,
          6775.961,
          4922.9159,
          12557.6053,
          4883.866,
          2137.6536,
          12044.342,
          1137.4697,
          1639.5631,
          5649.715,
          8516.829,
          9644.2525,
          14901.5167,
          2130.6759,
          8871.1517,
          13012.20865,
          7147.105,
          4337.7352,
          11743.299,
          13880.949,
          6610.1097,
          1980.07,
          8162.71625,
          3537.703,
          5002.7827,
          8520.026,
          7371.772,
          10355.641,
          2483.736,
          3392.9768,
          25081.76784,
          5012.471,
          10564.8845,
          5253.524,
          11987.1682,
          2689.4954,
          24227.33724,
          7358.17565,
          9225.2564,
          7443.64305,
          14001.2867,
          1727.785,
          12333.828,
          6710.1919,
          1615.7667,
          4463.2051,
          7152.6714,
          5354.07465,
          35160.13457,
          7196.867,
          24476.47851,
          12648.7034,
          1986.9334,
          1832.094,
          4040.55825,
          4260.744,
          13047.33235,
          5400.9805,
          11520.09985,
          11837.16,
          20462.99766,
          14590.63205,
          7441.053,
          9282.4806,
          1719.4363,
          7265.7025,
          9617.66245,
          2523.1695,
          9715.841,
          2803.69785,
          2150.469,
          12928.7911,
          9855.1314,
          4237.12655,
          11879.10405,
          9625.92,
          7742.1098,
          9432.9253,
          14256.1928,
          25992.82104,
          3172.018,
          20277.80751,
          2156.7518,
          3906.127,
          1704.5681,
          9249.4952,
          6746.7425,
          12265.5069,
          4349.462,
          12646.207,
          19442.3535,
          20177.67113,
          4151.0287,
          11944.59435,
          7749.1564,
          8444.474,
          1737.376,
          8124.4084,
          9722.7695,
          8835.26495,
          10435.06525,
          7421.19455,
          4667.60765,
          4894.7533,
          24671.66334,
          11566.30055,
          2866.091,
          6600.20595,
          3561.8889,
          9144.565,
          13429.0354,
          11658.37915,
          19144.57652,
          13822.803,
          12142.5786,
          13937.6665,
          8232.6388,
          18955.22017,
          13352.0998,
          13217.0945,
          13981.85035,
          10977.2063,
          6184.2994,
          4889.9995,
          8334.45755,
          5478.0368,
          1635.73365,
          11830.6072,
          8932.084,
          3554.203,
          12404.8791,
          14133.03775,
          24603.04837,
          8944.1151,
          9620.3307,
          1837.2819,
          1607.5101,
          10043.249,
          4751.07,
          2597.779,
          3180.5101,
          9778.3472,
          13430.265,
          8017.06115,
          8116.26885,
          3481.868,
          13415.0381,
          12029.2867,
          7639.41745,
          1391.5287,
          16455.70785,
          27000.98473,
          20781.48892,
          5846.9176,
          8302.53565,
          1261.859,
          11856.4115,
          30284.64294,
          3176.8159,
          4618.0799,
          10736.87075,
          2138.0707,
          8964.06055,
          9290.1395,
          9411.005,
          7526.70645,
          8522.003,
          16586.49771,
          14988.432,
          1631.6683,
          9264.797,
          8083.9198,
          14692.66935,
          10269.46,
          3260.199,
          11396.9002,
          4185.0979,
          8539.671,
          6652.5288,
          4074.4537,
          1621.3402,
          5080.096,
          2134.9015,
          7345.7266,
          9140.951,
          14418.2804,
          2727.3951,
          8968.33,
          9788.8659,
          6555.07035,
          7323.734819,
          3167.45585,
          18804.7524,
          23082.95533,
          4906.40965,
          5969.723,
          12638.195,
          4243.59005,
          13919.8229,
          2254.7967,
          5926.846,
          12592.5345,
          2897.3235,
          4738.2682,
          1149.3959,
          28287.89766,
          7345.084,
          12730.9996,
          11454.0215,
          5910.944,
          4762.329,
          7512.267,
          4032.2407,
          1969.614,
          1769.53165,
          4686.3887,
          21797.0004,
          11881.9696,
          11840.77505,
          10601.412,
          7682.67,
          10381.4787,
          15230.32405,
          11165.41765,
          1632.03625,
          13224.693,
          12643.3778,
          23288.9284,
          2201.0971,
          2497.0383,
          2203.47185,
          1744.465,
          20878.78443,
          2534.39375,
          1534.3045,
          1824.2854,
          15555.18875,
          9304.7019,
          1622.1885,
          9880.068,
          9563.029,
          4347.02335,
          12475.3513,
          1253.936,
          10461.9794,
          1748.774,
          24513.09126,
          2196.4732,
          12574.049,
          1967.0227,
          4931.647,
          8027.968,
          8211.1002,
          13470.86,
          6837.3687,
          5974.3847,
          6796.86325,
          2643.2685,
          3077.0955,
          3044.2133,
          11455.28,
          11763.0009,
          2498.4144,
          9361.3268,
          1256.299,
          11362.755,
          27724.28875,
          8413.46305,
          5240.765,
          3857.75925,
          25656.57526,
          3994.1778,
          9866.30485,
          5397.6167,
          11482.63485,
          24059.68019,
          9861.025,
          8342.90875,
          1708.0014,
          14043.4767,
          12925.886,
          19214.70553,
          13831.1152,
          6067.12675,
          5972.378,
          8825.086,
          8233.0975,
          27346.04207,
          6196.448,
          3056.3881,
          13887.204,
          10231.4999,
          3268.84665,
          11538.421,
          3213.62205,
          13390.559,
          3972.9247,
          12957.118,
          11187.6567,
          17878.90068,
          3847.674,
          8334.5896,
          3935.1799,
          1646.4297,
          9193.8385,
          10923.9332,
          2494.022,
          9058.7303,
          2801.2588,
          2128.43105,
          6373.55735,
          7256.7231,
          11552.904,
          3761.292,
          2219.4451,
          4753.6368,
          31620.00106,
          13224.05705,
          12222.8983,
          1664.9996,
          9724.53,
          3206.49135,
          12913.9924,
          1639.5631,
          6356.2707,
          17626.23951,
          1242.816,
          4779.6023,
          3861.20965,
          13635.6379,
          5976.8311,
          11842.442,
          8428.0693,
          2566.4707,
          5709.1644,
          8823.98575,
          7640.3092,
          5594.8455,
          7441.501,
          33471.97189,
          1633.0444,
          9174.13565,
          11070.535,
          16085.1275,
          9283.562,
          3558.62025,
          4435.0942,
          8547.6913,
          6571.544,
          2207.69745,
          6753.038,
          1880.07,
          11658.11505,
          10713.644,
          3659.346,
          9182.17,
          12129.61415,
          3736.4647,
          6748.5912,
          11326.71487,
          11365.952,
          10085.846,
          1977.815,
          3366.6697,
          7173.35995,
          9391.346,
          14410.9321,
          2709.1119,
          24915.04626,
          12949.1554,
          6666.243,
          13143.86485,
          4466.6214,
          18806.14547,
          10141.1362,
          6123.5688,
          8252.2843,
          1712.227,
          12430.95335,
          9800.8882,
          10579.711,
          8280.6227,
          8527.532,
          12244.531,
          3410.324,
          4058.71245,
          26392.26029,
          14394.39815,
          6435.6237,
          22192.43711,
          5148.5526,
          1136.3994,
          8703.456,
          6500.2359,
          4837.5823,
          3943.5954,
          4399.731,
          6185.3208,
          7222.78625,
          12485.8009,
          12363.547,
          10156.7832,
          2585.269,
          1242.26,
          9863.4718,
          4766.022,
          11244.3769,
          7729.64575,
          5438.7491,
          26236.57997,
          2104.1134,
          8068.185,
          2362.22905,
          2352.96845,
          3577.999,
          3201.24515,
          29186.48236,
          10976.24575,
          3500.6123,
          2020.5523,
          9541.69555,
          9504.3103,
          5385.3379,
          8930.93455,
          5375.038,
          10264.4421,
          6113.23105,
          5469.0066,
          1727.54,
          10107.2206,
          8310.83915,
          1984.4533,
          2457.502,
          12146.971,
          9566.9909,
          13112.6048,
          10848.1343,
          12231.6136,
          9875.6804,
          11264.541,
          12979.358,
          1263.249,
          10106.13425,
          6664.68595,
          2217.6012,
          6781.3542,
          10065.413,
          4234.927,
          9447.25035,
          14007.222,
          9583.8933,
          3484.331,
          8604.48365,
          3757.8448,
          8827.2099,
          9910.35985,
          11737.84884,
          1627.28245,
          8556.907,
          3062.50825,
          1906.35825,
          14210.53595,
          11833.7823,
          17128.42608,
          5031.26955,
          7985.815,
          5428.7277,
          3925.7582,
          2416.955,
          3070.8087,
          9095.06825,
          11842.62375,
          8062.764,
          7050.642,
          14319.031,
          6933.24225,
          27941.28758,
          11150.78,
          12797.20962,
          7261.741,
          10560.4917,
          6986.697,
          7448.40395,
          5934.3798,
          9869.8102,
          1146.7966,
          9386.1613,
          4350.5144,
          6414.178,
          12741.16745,
          1917.3184,
          5209.57885,
          13457.9608,
          5662.225,
          1252.407,
          2731.9122,
          7209.4918,
          4266.1658,
          4719.52405,
          11848.141,
          7046.7222,
          14313.8463,
          2103.08,
          1815.8759,
          7731.85785,
          28476.73499,
          2136.88225,
          1131.5066,
          3309.7926,
          9414.92,
          6360.9936,
          11013.7119,
          4428.88785,
          5584.3057,
          1877.9294,
          2842.76075,
          3597.596,
          7445.918,
          2680.9493,
          1621.8827,
          8219.2039,
          12523.6048,
          16069.08475,
          6117.4945,
          13393.756,
          5266.3656,
          4719.73655,
          11743.9341,
          5377.4578,
          7160.3303,
          4402.233,
          11657.7189,
          6402.29135,
          12622.1795,
          1526.312,
          12323.936,
          10072.05505,
          9872.701,
          2438.0552,
          2974.126,
          10601.63225,
          14119.62,
          11729.6795,
          1875.344,
          18218.16139,
          10965.446,
          7151.092,
          12269.68865,
          5458.04645,
          8782.469,
          6600.361,
          1141.4451,
          11576.13,
          13129.60345,
          4391.652,
          8457.818,
          3392.3652,
          5966.8874,
          6849.026,
          8891.1395,
          2690.1138,
          26140.3603,
          6653.7886,
          6282.235,
          6311.952,
          3443.064,
          2789.0574,
          2585.85065,
          4877.98105,
          5272.1758,
          1682.597,
          11945.1327,
          7243.8136,
          10422.91665,
          13555.0049,
          13063.883,
          2221.56445,
          1634.5734,
          2117.33885,
          8688.85885,
          4661.28635,
          8125.7845,
          12644.589,
          4564.19145,
          4846.92015,
          7633.7206,
          15170.069,
          2639.0429,
          14382.70905,
          7626.993,
          5257.50795,
          2473.3341,
          13041.921,
          5245.2269,
          13451.122,
          13462.52,
          5488.262,
          4320.41085,
          6250.435,
          25333.33284,
          2913.569,
          12032.326,
          13470.8044,
          6289.7549,
          2927.0647,
          6238.298,
          10096.97,
          7348.142,
          4673.3922,
          12233.828,
          32108.66282,
          8965.79575,
          2304.0022,
          9487.6442,
          1121.8739,
          9549.5651,
          2217.46915,
          1628.4709,
          12982.8747,
          11674.13,
          7160.094,
          6358.77645,
          11534.87265,
          4527.18295,
          3875.7341,
          12609.88702,
          28468.91901,
          2730.10785,
          3353.284,
          14474.675,
          9500.57305,
          26467.09737,
          4746.344,
          7518.02535,
          3279.86855,
          8596.8278,
          10702.6424,
          4992.3764,
          2527.81865,
          1759.338,
          2322.6218,
          7804.1605,
          2902.9065,
          9704.66805,
          4889.0368,
          25517.11363,
          4500.33925,
          16796.41194,
          4915.05985,
          7624.63,
          8410.04685,
          28340.18885,
          4518.82625,
          3378.91,
          7144.86265,
          10118.424,
          5484.4673,
          7986.47525,
          7418.522,
          13887.9685,
          6551.7501,
          5267.81815,
          1972.95,
          21232.18226,
          8627.5411,
          4433.3877,
          4438.2634,
          23241.47453,
          9957.7216,
          8269.044,
          36580.28216,
          8765.249,
          5383.536,
          12124.9924,
          2709.24395,
          3987.926,
          12495.29085,
          26018.95052,
          8798.593,
          1711.0268,
          8569.8618,
          2020.177,
          21595.38229,
          9850.432,
          6877.9801,
          4137.5227,
          12950.0712,
          12094.478,
          2250.8352,
          22493.65964,
          1704.70015,
          3161.454,
          11394.06555,
          7325.0482,
          3594.17085,
          8023.13545,
          14394.5579,
          9288.0267,
          3353.4703,
          10594.50155,
          8277.523,
          17929.30337,
          2480.9791,
          4462.7218,
          1981.5819,
          11554.2236,
          6548.19505,
          5708.867,
          7045.499,
          8978.1851,
          5757.41345,
          14349.8544,
          10928.849,
          13974.45555,
          1909.52745,
          12096.6512,
          13204.28565,
          4562.8421,
          8551.347,
          2102.2647,
          15161.5344,
          11884.04858,
          4454.40265,
          5855.9025,
          4076.497,
          15019.76005,
          10796.35025,
          11353.2276,
          9748.9106,
          10577.087,
          11286.5387,
          3591.48,
          11299.343,
          4561.1885,
          1674.6323,
          23045.56616,
          3227.1211,
          11253.421,
          3471.4096,
          11363.2832,
          20420.60465,
          10338.9316,
          8988.15875,
          10493.9458,
          2904.088,
          8605.3615,
          11512.405,
          5312.16985,
          2396.0959,
          10807.4863,
          9222.4026,
          5693.4305,
          8347.1643,
          18903.49141,
          14254.6082,
          10214.636,
          5836.5204,
          14358.36437,
          1728.897,
          8582.3023,
          3693.428,
          20709.02034,
          9991.03765,
          19673.33573,
          11085.5868,
          7623.518,
          3176.2877,
          3704.3545,
          9048.0273,
          7954.517,
          27117.99378,
          6338.0756,
          9630.397,
          11289.10925,
          2261.5688,
          10791.96,
          5979.731,
          2203.73595,
          12235.8392,
          5630.45785,
          11015.1747,
          7228.21565,
          14426.07385,
          2459.7201,
          3989.841,
          7727.2532,
          5124.1887,
          18963.17192,
          2200.83085,
          7153.5539,
          5227.98875,
          10982.5013,
          4529.477,
          4670.64,
          6112.35295,
          11093.6229,
          6457.8434,
          4433.9159,
          2154.361,
          6496.886,
          2899.48935,
          7650.77375,
          2850.68375,
          2632.992,
          9447.3824,
          8603.8234,
          13844.7972,
          13126.67745,
          5327.40025,
          13725.47184,
          13019.16105,
          8671.19125,
          4134.08245,
          18838.70366,
          5699.8375,
          6393.60345,
          4934.705,
          6198.7518,
          8733.22925,
          2055.3249,
          9964.06,
          5116.5004,
          36910.60803,
          12347.172,
          5373.36425,
          23563.01618,
          1702.4553,
          10806.839,
          3956.07145,
          12890.05765,
          5415.6612,
          4058.1161,
          7537.1639,
          4718.20355,
          6593.5083,
          8442.667,
          6858.4796,
          4795.6568,
          6640.54485,
          7162.0122,
          10594.2257,
          11938.25595,
          12479.70895,
          11345.519,
          8515.7587,
          2699.56835,
          14449.8544,
          12224.35085,
          6985.50695,
          3238.4357,
          4296.2712,
          3171.6149,
          1135.9407,
          5615.369,
          9101.798,
          6059.173,
          1633.9618,
          1241.565,
          15828.82173,
          4415.1588,
          6474.013,
          11436.73815,
          11305.93455,
          30063.58055,
          10197.7722,
          4544.2348,
          3277.161,
          6770.1925,
          7337.748,
          10370.91255,
          10704.47,
          1880.487,
          8615.3,
          3292.52985,
          3021.80915,
          14478.33015,
          4747.0529,
          10959.33,
          2741.948,
          4357.04365,
          4189.1131,
          8283.6807,
          1720.3537,
          8534.6718,
          3732.6251,
          5472.449,
          7147.4728,
          7133.9025,
          1515.3449,
          9301.89355,
          11931.12525,
          1964.78,
          1708.92575,
          4340.4409,
          5261.46945,
          2710.82855,
          3208.787,
          2464.6188,
          6875.961,
          6940.90985,
          4571.41305,
          4536.259,
          11272.33139,
          1731.677,
          1163.4627,
          19496.71917,
          7201.70085,
          5425.02335,
          12981.3457,
          4239.89265,
          13143.33665,
          7050.0213,
          9377.9047,
          22395.74424,
          10325.206,
          12629.1656,
          10795.93733,
          11411.685,
          10600.5483,
          2205.9808,
          1629.8335,
          2007.945
         ],
         "yaxis": "y"
        }
       ],
       "layout": {
        "legend": {
         "title": {
          "text": "smoker"
         },
         "tracegroupgap": 0
        },
        "margin": {
         "t": 60
        },
        "template": {
         "data": {
          "bar": [
           {
            "error_x": {
             "color": "#2a3f5f"
            },
            "error_y": {
             "color": "#2a3f5f"
            },
            "marker": {
             "line": {
              "color": "#E5ECF6",
              "width": 0.5
             },
             "pattern": {
              "fillmode": "overlay",
              "size": 10,
              "solidity": 0.2
             }
            },
            "type": "bar"
           }
          ],
          "barpolar": [
           {
            "marker": {
             "line": {
              "color": "#E5ECF6",
              "width": 0.5
             },
             "pattern": {
              "fillmode": "overlay",
              "size": 10,
              "solidity": 0.2
             }
            },
            "type": "barpolar"
           }
          ],
          "carpet": [
           {
            "aaxis": {
             "endlinecolor": "#2a3f5f",
             "gridcolor": "white",
             "linecolor": "white",
             "minorgridcolor": "white",
             "startlinecolor": "#2a3f5f"
            },
            "baxis": {
             "endlinecolor": "#2a3f5f",
             "gridcolor": "white",
             "linecolor": "white",
             "minorgridcolor": "white",
             "startlinecolor": "#2a3f5f"
            },
            "type": "carpet"
           }
          ],
          "choropleth": [
           {
            "colorbar": {
             "outlinewidth": 0,
             "ticks": ""
            },
            "type": "choropleth"
           }
          ],
          "contour": [
           {
            "colorbar": {
             "outlinewidth": 0,
             "ticks": ""
            },
            "colorscale": [
             [
              0,
              "#0d0887"
             ],
             [
              0.1111111111111111,
              "#46039f"
             ],
             [
              0.2222222222222222,
              "#7201a8"
             ],
             [
              0.3333333333333333,
              "#9c179e"
             ],
             [
              0.4444444444444444,
              "#bd3786"
             ],
             [
              0.5555555555555556,
              "#d8576b"
             ],
             [
              0.6666666666666666,
              "#ed7953"
             ],
             [
              0.7777777777777778,
              "#fb9f3a"
             ],
             [
              0.8888888888888888,
              "#fdca26"
             ],
             [
              1,
              "#f0f921"
             ]
            ],
            "type": "contour"
           }
          ],
          "contourcarpet": [
           {
            "colorbar": {
             "outlinewidth": 0,
             "ticks": ""
            },
            "type": "contourcarpet"
           }
          ],
          "heatmap": [
           {
            "colorbar": {
             "outlinewidth": 0,
             "ticks": ""
            },
            "colorscale": [
             [
              0,
              "#0d0887"
             ],
             [
              0.1111111111111111,
              "#46039f"
             ],
             [
              0.2222222222222222,
              "#7201a8"
             ],
             [
              0.3333333333333333,
              "#9c179e"
             ],
             [
              0.4444444444444444,
              "#bd3786"
             ],
             [
              0.5555555555555556,
              "#d8576b"
             ],
             [
              0.6666666666666666,
              "#ed7953"
             ],
             [
              0.7777777777777778,
              "#fb9f3a"
             ],
             [
              0.8888888888888888,
              "#fdca26"
             ],
             [
              1,
              "#f0f921"
             ]
            ],
            "type": "heatmap"
           }
          ],
          "heatmapgl": [
           {
            "colorbar": {
             "outlinewidth": 0,
             "ticks": ""
            },
            "colorscale": [
             [
              0,
              "#0d0887"
             ],
             [
              0.1111111111111111,
              "#46039f"
             ],
             [
              0.2222222222222222,
              "#7201a8"
             ],
             [
              0.3333333333333333,
              "#9c179e"
             ],
             [
              0.4444444444444444,
              "#bd3786"
             ],
             [
              0.5555555555555556,
              "#d8576b"
             ],
             [
              0.6666666666666666,
              "#ed7953"
             ],
             [
              0.7777777777777778,
              "#fb9f3a"
             ],
             [
              0.8888888888888888,
              "#fdca26"
             ],
             [
              1,
              "#f0f921"
             ]
            ],
            "type": "heatmapgl"
           }
          ],
          "histogram": [
           {
            "marker": {
             "pattern": {
              "fillmode": "overlay",
              "size": 10,
              "solidity": 0.2
             }
            },
            "type": "histogram"
           }
          ],
          "histogram2d": [
           {
            "colorbar": {
             "outlinewidth": 0,
             "ticks": ""
            },
            "colorscale": [
             [
              0,
              "#0d0887"
             ],
             [
              0.1111111111111111,
              "#46039f"
             ],
             [
              0.2222222222222222,
              "#7201a8"
             ],
             [
              0.3333333333333333,
              "#9c179e"
             ],
             [
              0.4444444444444444,
              "#bd3786"
             ],
             [
              0.5555555555555556,
              "#d8576b"
             ],
             [
              0.6666666666666666,
              "#ed7953"
             ],
             [
              0.7777777777777778,
              "#fb9f3a"
             ],
             [
              0.8888888888888888,
              "#fdca26"
             ],
             [
              1,
              "#f0f921"
             ]
            ],
            "type": "histogram2d"
           }
          ],
          "histogram2dcontour": [
           {
            "colorbar": {
             "outlinewidth": 0,
             "ticks": ""
            },
            "colorscale": [
             [
              0,
              "#0d0887"
             ],
             [
              0.1111111111111111,
              "#46039f"
             ],
             [
              0.2222222222222222,
              "#7201a8"
             ],
             [
              0.3333333333333333,
              "#9c179e"
             ],
             [
              0.4444444444444444,
              "#bd3786"
             ],
             [
              0.5555555555555556,
              "#d8576b"
             ],
             [
              0.6666666666666666,
              "#ed7953"
             ],
             [
              0.7777777777777778,
              "#fb9f3a"
             ],
             [
              0.8888888888888888,
              "#fdca26"
             ],
             [
              1,
              "#f0f921"
             ]
            ],
            "type": "histogram2dcontour"
           }
          ],
          "mesh3d": [
           {
            "colorbar": {
             "outlinewidth": 0,
             "ticks": ""
            },
            "type": "mesh3d"
           }
          ],
          "parcoords": [
           {
            "line": {
             "colorbar": {
              "outlinewidth": 0,
              "ticks": ""
             }
            },
            "type": "parcoords"
           }
          ],
          "pie": [
           {
            "automargin": true,
            "type": "pie"
           }
          ],
          "scatter": [
           {
            "fillpattern": {
             "fillmode": "overlay",
             "size": 10,
             "solidity": 0.2
            },
            "type": "scatter"
           }
          ],
          "scatter3d": [
           {
            "line": {
             "colorbar": {
              "outlinewidth": 0,
              "ticks": ""
             }
            },
            "marker": {
             "colorbar": {
              "outlinewidth": 0,
              "ticks": ""
             }
            },
            "type": "scatter3d"
           }
          ],
          "scattercarpet": [
           {
            "marker": {
             "colorbar": {
              "outlinewidth": 0,
              "ticks": ""
             }
            },
            "type": "scattercarpet"
           }
          ],
          "scattergeo": [
           {
            "marker": {
             "colorbar": {
              "outlinewidth": 0,
              "ticks": ""
             }
            },
            "type": "scattergeo"
           }
          ],
          "scattergl": [
           {
            "marker": {
             "colorbar": {
              "outlinewidth": 0,
              "ticks": ""
             }
            },
            "type": "scattergl"
           }
          ],
          "scattermapbox": [
           {
            "marker": {
             "colorbar": {
              "outlinewidth": 0,
              "ticks": ""
             }
            },
            "type": "scattermapbox"
           }
          ],
          "scatterpolar": [
           {
            "marker": {
             "colorbar": {
              "outlinewidth": 0,
              "ticks": ""
             }
            },
            "type": "scatterpolar"
           }
          ],
          "scatterpolargl": [
           {
            "marker": {
             "colorbar": {
              "outlinewidth": 0,
              "ticks": ""
             }
            },
            "type": "scatterpolargl"
           }
          ],
          "scatterternary": [
           {
            "marker": {
             "colorbar": {
              "outlinewidth": 0,
              "ticks": ""
             }
            },
            "type": "scatterternary"
           }
          ],
          "surface": [
           {
            "colorbar": {
             "outlinewidth": 0,
             "ticks": ""
            },
            "colorscale": [
             [
              0,
              "#0d0887"
             ],
             [
              0.1111111111111111,
              "#46039f"
             ],
             [
              0.2222222222222222,
              "#7201a8"
             ],
             [
              0.3333333333333333,
              "#9c179e"
             ],
             [
              0.4444444444444444,
              "#bd3786"
             ],
             [
              0.5555555555555556,
              "#d8576b"
             ],
             [
              0.6666666666666666,
              "#ed7953"
             ],
             [
              0.7777777777777778,
              "#fb9f3a"
             ],
             [
              0.8888888888888888,
              "#fdca26"
             ],
             [
              1,
              "#f0f921"
             ]
            ],
            "type": "surface"
           }
          ],
          "table": [
           {
            "cells": {
             "fill": {
              "color": "#EBF0F8"
             },
             "line": {
              "color": "white"
             }
            },
            "header": {
             "fill": {
              "color": "#C8D4E3"
             },
             "line": {
              "color": "white"
             }
            },
            "type": "table"
           }
          ]
         },
         "layout": {
          "annotationdefaults": {
           "arrowcolor": "#2a3f5f",
           "arrowhead": 0,
           "arrowwidth": 1
          },
          "autotypenumbers": "strict",
          "coloraxis": {
           "colorbar": {
            "outlinewidth": 0,
            "ticks": ""
           }
          },
          "colorscale": {
           "diverging": [
            [
             0,
             "#8e0152"
            ],
            [
             0.1,
             "#c51b7d"
            ],
            [
             0.2,
             "#de77ae"
            ],
            [
             0.3,
             "#f1b6da"
            ],
            [
             0.4,
             "#fde0ef"
            ],
            [
             0.5,
             "#f7f7f7"
            ],
            [
             0.6,
             "#e6f5d0"
            ],
            [
             0.7,
             "#b8e186"
            ],
            [
             0.8,
             "#7fbc41"
            ],
            [
             0.9,
             "#4d9221"
            ],
            [
             1,
             "#276419"
            ]
           ],
           "sequential": [
            [
             0,
             "#0d0887"
            ],
            [
             0.1111111111111111,
             "#46039f"
            ],
            [
             0.2222222222222222,
             "#7201a8"
            ],
            [
             0.3333333333333333,
             "#9c179e"
            ],
            [
             0.4444444444444444,
             "#bd3786"
            ],
            [
             0.5555555555555556,
             "#d8576b"
            ],
            [
             0.6666666666666666,
             "#ed7953"
            ],
            [
             0.7777777777777778,
             "#fb9f3a"
            ],
            [
             0.8888888888888888,
             "#fdca26"
            ],
            [
             1,
             "#f0f921"
            ]
           ],
           "sequentialminus": [
            [
             0,
             "#0d0887"
            ],
            [
             0.1111111111111111,
             "#46039f"
            ],
            [
             0.2222222222222222,
             "#7201a8"
            ],
            [
             0.3333333333333333,
             "#9c179e"
            ],
            [
             0.4444444444444444,
             "#bd3786"
            ],
            [
             0.5555555555555556,
             "#d8576b"
            ],
            [
             0.6666666666666666,
             "#ed7953"
            ],
            [
             0.7777777777777778,
             "#fb9f3a"
            ],
            [
             0.8888888888888888,
             "#fdca26"
            ],
            [
             1,
             "#f0f921"
            ]
           ]
          },
          "colorway": [
           "#636efa",
           "#EF553B",
           "#00cc96",
           "#ab63fa",
           "#FFA15A",
           "#19d3f3",
           "#FF6692",
           "#B6E880",
           "#FF97FF",
           "#FECB52"
          ],
          "font": {
           "color": "#2a3f5f"
          },
          "geo": {
           "bgcolor": "white",
           "lakecolor": "white",
           "landcolor": "#E5ECF6",
           "showlakes": true,
           "showland": true,
           "subunitcolor": "white"
          },
          "hoverlabel": {
           "align": "left"
          },
          "hovermode": "closest",
          "mapbox": {
           "style": "light"
          },
          "paper_bgcolor": "white",
          "plot_bgcolor": "#E5ECF6",
          "polar": {
           "angularaxis": {
            "gridcolor": "white",
            "linecolor": "white",
            "ticks": ""
           },
           "bgcolor": "#E5ECF6",
           "radialaxis": {
            "gridcolor": "white",
            "linecolor": "white",
            "ticks": ""
           }
          },
          "scene": {
           "xaxis": {
            "backgroundcolor": "#E5ECF6",
            "gridcolor": "white",
            "gridwidth": 2,
            "linecolor": "white",
            "showbackground": true,
            "ticks": "",
            "zerolinecolor": "white"
           },
           "yaxis": {
            "backgroundcolor": "#E5ECF6",
            "gridcolor": "white",
            "gridwidth": 2,
            "linecolor": "white",
            "showbackground": true,
            "ticks": "",
            "zerolinecolor": "white"
           },
           "zaxis": {
            "backgroundcolor": "#E5ECF6",
            "gridcolor": "white",
            "gridwidth": 2,
            "linecolor": "white",
            "showbackground": true,
            "ticks": "",
            "zerolinecolor": "white"
           }
          },
          "shapedefaults": {
           "line": {
            "color": "#2a3f5f"
           }
          },
          "ternary": {
           "aaxis": {
            "gridcolor": "white",
            "linecolor": "white",
            "ticks": ""
           },
           "baxis": {
            "gridcolor": "white",
            "linecolor": "white",
            "ticks": ""
           },
           "bgcolor": "#E5ECF6",
           "caxis": {
            "gridcolor": "white",
            "linecolor": "white",
            "ticks": ""
           }
          },
          "title": {
           "x": 0.05
          },
          "xaxis": {
           "automargin": true,
           "gridcolor": "white",
           "linecolor": "white",
           "ticks": "",
           "title": {
            "standoff": 15
           },
           "zerolinecolor": "white",
           "zerolinewidth": 2
          },
          "yaxis": {
           "automargin": true,
           "gridcolor": "white",
           "linecolor": "white",
           "ticks": "",
           "title": {
            "standoff": 15
           },
           "zerolinecolor": "white",
           "zerolinewidth": 2
          }
         }
        },
        "xaxis": {
         "anchor": "y",
         "domain": [
          0,
          1
         ],
         "title": {
          "text": "bmi"
         }
        },
        "yaxis": {
         "anchor": "x",
         "domain": [
          0,
          1
         ],
         "title": {
          "text": "charges"
         }
        }
       }
      }
     },
     "metadata": {},
     "output_type": "display_data"
    }
   ],
   "source": [
    "px.scatter(df, x='bmi', y='charges', color='smoker')"
   ]
  },
  {
   "cell_type": "code",
   "execution_count": 118,
   "metadata": {},
   "outputs": [
    {
     "data": {
      "application/vnd.plotly.v1+json": {
       "config": {
        "plotlyServerURL": "https://plot.ly"
       },
       "data": [
        {
         "hovertemplate": "bmi=%{x}<br>charges=%{y}<br>age=%{marker.color}<extra></extra>",
         "legendgroup": "",
         "marker": {
          "color": [
           18,
           28,
           33,
           32,
           37,
           25,
           23,
           19,
           23,
           56,
           18,
           37,
           23,
           63,
           19,
           26,
           41,
           38,
           55,
           43,
           25,
           64,
           40,
           31,
           58,
           44,
           57,
           21,
           31,
           35,
           55,
           30,
           26,
           29,
           54,
           37,
           52,
           60,
           58,
           44,
           18,
           38,
           19,
           19,
           22,
           34,
           26,
           29,
           19,
           35,
           48,
           44,
           54,
           37,
           47,
           27,
           63,
           49,
           18,
           38,
           54,
           58,
           22,
           44,
           61,
           25,
           18,
           19,
           46,
           59,
           40,
           20,
           40,
           24,
           27,
           32,
           55,
           28,
           47,
           59,
           39,
           31,
           44,
           40,
           54,
           24,
           19,
           29,
           27,
           51,
           45,
           49,
           18,
           41,
           50,
           25,
           19,
           59,
           30,
           46,
           52,
           29,
           25,
           18,
           36,
           29,
           58,
           50,
           49,
           52,
           50,
           54,
           32,
           34,
           57,
           29,
           40,
           52,
           64,
           60,
           62,
           62,
           63,
           33,
           46,
           19,
           33,
           46,
           46,
           47,
           23,
           35,
           44,
           18,
           20,
           62,
           55,
           44,
           19,
           50,
           48,
           48,
           49,
           46,
           21,
           64,
           47,
           49,
           31,
           38,
           32,
           19,
           25,
           52,
           64,
           25,
           48,
           45,
           19,
           42,
           31,
           60,
           22,
           35,
           26,
           18,
           60,
           35,
           39,
           30,
           24,
           20,
           32,
           59,
           56,
           56,
           19,
           27,
           25,
           21,
           23,
           63,
           49,
           48,
           19,
           53,
           61,
           20,
           45,
           43,
           37,
           22,
           21,
           56,
           27,
           51,
           19,
           58,
           20,
           45,
           31,
           46,
           18,
           59,
           37,
           64,
           38,
           53,
           54,
           28,
           63,
           62,
           28,
           46,
           34,
           19,
           27,
           50,
           41,
           22,
           52,
           59,
           19,
           39,
           19,
           21,
           47,
           20,
           41,
           43,
           51,
           28,
           30,
           59,
           36,
           33,
           58,
           53,
           24,
           40,
           51,
           64,
           56,
           33,
           61,
           43,
           48,
           39,
           18,
           27,
           37,
           18,
           49,
           30,
           36,
           45,
           56,
           19,
           53,
           53,
           42,
           40,
           21,
           47,
           20,
           24,
           56,
           53,
           49,
           18,
           20,
           60,
           60,
           53,
           62,
           19,
           41,
           53,
           26,
           45,
           50,
           34,
           19,
           28,
           21,
           64,
           24,
           31,
           30,
           23,
           27,
           47,
           61,
           41,
           51,
           40,
           45,
           35,
           53,
           18,
           51,
           60,
           21,
           29,
           19,
           30,
           21,
           23,
           18,
           25,
           54,
           28,
           36,
           23,
           45,
           26,
           60,
           39,
           63,
           58,
           36,
           42,
           36,
           21,
           59,
           53,
           23,
           55,
           61,
           57,
           51,
           40,
           18,
           57,
           61,
           50,
           42,
           43,
           44,
           33,
           41,
           22,
           23,
           25,
           22,
           57,
           54,
           62,
           19,
           49,
           26,
           49,
           27,
           63,
           22,
           33,
           38,
           34,
           43,
           50,
           41,
           26,
           46,
           32,
           44,
           18,
           53,
           18,
           19,
           62,
           42,
           42,
           57,
           31,
           24,
           48,
           46,
           52,
           35,
           44,
           21,
           26,
           48,
           26,
           54,
           34,
           20,
           43,
           34,
           38,
           24,
           48,
           47,
           29,
           28,
           25,
           51,
           48,
           59,
           51,
           18,
           23,
           54,
           61,
           22,
           19,
           18,
           55,
           64,
           49,
           55,
           32,
           24,
           57,
           36,
           48,
           39,
           63,
           63,
           21,
           21,
           63,
           18,
           32,
           38,
           32,
           55,
           57,
           52,
           56,
           23,
           22,
           53,
           29,
           58,
           37,
           26,
           45,
           23,
           55,
           41,
           46,
           55,
           34,
           27,
           57,
           28,
           33,
           50,
           39,
           50,
           52,
           55,
           42,
           34,
           30,
           57,
           32,
           38,
           29,
           45,
           41,
           40,
           37,
           46,
           22,
           51,
           35,
           59,
           36,
           39,
           18,
           18,
           40,
           29,
           40,
           50,
           41,
           38,
           42,
           56,
           58,
           58,
           26,
           37,
           18,
           28,
           33,
           19,
           55,
           28,
           45,
           26,
           43,
           35,
           57,
           18,
           44,
           21,
           46,
           58,
           20,
           18,
           33,
           41,
           42,
           34,
           18,
           18,
           35,
           31,
           62,
           31,
           61,
           51,
           52,
           50
          ],
          "coloraxis": "coloraxis",
          "symbol": "circle"
         },
         "mode": "markers",
         "name": "",
         "orientation": "v",
         "showlegend": false,
         "type": "scatter",
         "x": [
          33.77,
          33,
          22.705,
          28.88,
          29.83,
          26.22,
          34.4,
          24.6,
          23.845,
          40.3,
          34.1,
          28.025,
          17.385,
          28.31,
          20.425,
          20.8,
          21.78,
          37.05,
          37.3,
          27.36,
          33.66,
          24.7,
          26.315,
          28.5,
          32.01,
          27.4,
          34.01,
          35.53,
          26.885,
          34.77,
          38.28,
          25.46,
          30.875,
          27.94,
          33.63,
          30.8,
          32.205,
          28.595,
          49.06,
          37.1,
          23.75,
          34.7,
          25.555,
          34.1,
          25.175,
          22.42,
          32.49,
          29.735,
          28.4,
          24.13,
          29.7,
          39.52,
          39.6,
          29.64,
          28.215,
          18.905,
          41.47,
          30.3,
          15.96,
          27.835,
          29.2,
          28.595,
          19.95,
          30.69,
          31.57,
          25.74,
          34.43,
          30.59,
          22.3,
          26.4,
          41.23,
          33,
          30.875,
          28.5,
          23.1,
          30.8,
          33.88,
          38.06,
          25.46,
          27.5,
          24.51,
          38.39,
          38.06,
          35.3,
          30.02,
          35.86,
          20.9,
          28.975,
          30.3,
          24.415,
          30.2,
          25.84,
          29.37,
          37.05,
          27.455,
          27.55,
          20.615,
          31.79,
          27.645,
          26.62,
          26.4,
          29.64,
          26.8,
          22.99,
          27.55,
          33.345,
          34.865,
          26.6,
          35.86,
          33.25,
          32.205,
          32.775,
          37.335,
          25.27,
          40.945,
          27.2,
          34.105,
          36.7,
          34.5,
          25.74,
          27.55,
          30.02,
          36.765,
          35.75,
          33.345,
          27.835,
          35.245,
          27.6,
          43.89,
          29.83,
          41.91,
          30.5,
          32.015,
          30.4,
          33.33,
          31.46,
          33,
          22.135,
          34.4,
          25.365,
          35.625,
          31.445,
          31.35,
          19.855,
          31.02,
          25.6,
          47.52,
          32.3,
          20.4,
          21.12,
          30.03,
          17.48,
          23.9,
          34.1,
          39.16,
          30.59,
          30.2,
          24.31,
          33.1,
          26.9,
          28.595,
          33.11,
          31.73,
          28.9,
          29.45,
          43.01,
          29.64,
          38.6,
          29.6,
          24.13,
          23.4,
          29.735,
          46.53,
          37.4,
          39.6,
          25.935,
          25.175,
          32.67,
          35.625,
          36.85,
          32.56,
          41.325,
          37.51,
          34.3,
          28.7,
          31.16,
          43.4,
          27.93,
          28.7,
          26.03,
          30.875,
          31.35,
          23.75,
          32.11,
          33.66,
          22.42,
          30.4,
          35.7,
          35.31,
          30.495,
          30.875,
          39.425,
          25.46,
          29.7,
          36.19,
          40.48,
          28.025,
          31.35,
          30.21,
          35.435,
          30.8,
          21.4,
          23.8,
          33.44,
          34.21,
          35.53,
          30.5,
          44.77,
          30.59,
          26.84,
          30.2,
          25.46,
          30.59,
          45.43,
          20.7,
          20.235,
          19.57,
          31.13,
          40.26,
          32.6,
          31.635,
          26.98,
          31.4,
          28.785,
          28.88,
          42.46,
          38,
          36.1,
          29.3,
          22.705,
          39.7,
          38.19,
          33.66,
          42.4,
          33.915,
          35.31,
          30.78,
          26.22,
          28.5,
          33.155,
          46.53,
          33.66,
          28.7,
          31.57,
          29.7,
          21.375,
          36.1,
          20.3,
          24.32,
          26.41,
          26.125,
          41.69,
          27.36,
          36.2,
          32.395,
          23.655,
          33.725,
          41.47,
          28.69,
          35.2,
          40.47,
          28.9,
          24.32,
          36.6,
          37.4,
          35.4,
          28.405,
          21.4,
          23.7,
          24.035,
          26.41,
          27,
          21.755,
          30.875,
          28.975,
          37.905,
          33.63,
          27.645,
          37.43,
          35.2,
          26.03,
          32.3,
          36.1,
          34.2,
          33.33,
          32.3,
          39.805,
          34.32,
          28.88,
          41.14,
          35.97,
          36.955,
          36.86,
          22.515,
          27.6,
          44.22,
          22.3,
          26.51,
          30.14,
          25.84,
          21.01,
          22.515,
          34.43,
          37.1,
          33.7,
          17.67,
          24.32,
          21.85,
          33.1,
          34.39,
          33.82,
          35.97,
          31.5,
          31.1,
          24.7,
          30.495,
          50.38,
          32.775,
          32.3,
          28.1,
          25.4,
          29.9,
          37.29,
          43.7,
          23.655,
          36.2,
          24.86,
          30.1,
          21.85,
          33.44,
          28.8,
          34.8,
          27.36,
          26.695,
          39.5,
          33.63,
          24.035,
          32.11,
          25.555,
          22.515,
          27.265,
          36.85,
          32.585,
          39.8,
          28.31,
          24.605,
          31,
          35.815,
          23.2,
          32.11,
          34.21,
          46.53,
          25.8,
          37.18,
          29.735,
          26.18,
          29.48,
          23.21,
          22.61,
          39.93,
          35.8,
          31.255,
          18.335,
          39.49,
          26.79,
          36.67,
          24.795,
          36.765,
          27.1,
          25.365,
          25.745,
          35.42,
          40.15,
          29.15,
          25.46,
          21.375,
          30.115,
          30.115,
          34.675,
          28.27,
          25.8,
          29.6,
          19.19,
          31.73,
          29.26,
          24.985,
          27.74,
          32.3,
          25.46,
          37,
          23.32,
          18.715,
          31.6,
          38.38,
          28.88,
          27.265,
          23.085,
          35.245,
          26.41,
          29.83,
          27.645,
          33.82,
          32.01,
          27.94,
          28.595,
          37.29,
          42.655,
          21.66,
          31.445,
          31.255,
          26.03,
          33.66,
          21.78,
          27.835,
          19.95,
          31.5,
          28.975,
          31.54,
          47.74,
          22.1,
          32.7,
          33.77,
          28.6,
          38.94,
          36.08,
          29.8,
          30,
          20.35,
          24.51,
          32.67,
          29.64,
          38.17,
          29.9,
          32.8,
          45.9,
          40.28,
          33.82,
          30.25,
          37.07,
          32.34,
          32.3,
          32.775,
          21.5,
          34.1,
          42.13,
          38.83,
          40.37,
          35.2,
          29.26,
          32.11,
          23.56,
          33.55,
          29.355,
          24.32,
          40.375,
          32.11,
          32.3,
          17.86,
          37.1,
          30.875,
          34.1,
          21.47,
          39.14,
          25.08,
          37.29,
          24.97,
          25.3,
          23.94,
          16.815,
          37.18,
          34.43,
          30.305,
          23.3,
          31.065,
          22.705,
          33.33,
          24.3,
          29.4,
          19.8,
          37.715,
          37.1,
          27.5,
          33.915,
          25.52,
          27.61,
          23.7,
          30.03,
          34.32,
          23.21,
          25.745,
          25.175,
          22,
          26.125,
          27.455,
          32.2,
          26.315,
          42.9,
          28.31,
          53.13,
          39.71,
          31.065,
          38.83,
          25.935,
          33.535,
          30.03,
          38.6,
          30.97
         ],
         "xaxis": "x",
         "y": [
          1725.5523,
          4449.462,
          21984.47061,
          3866.8552,
          6406.4107,
          2721.3208,
          1826.843,
          1837.237,
          2395.17155,
          10602.385,
          1137.011,
          6203.90175,
          2775.19215,
          13770.0979,
          1625.43375,
          2302.3,
          6272.4772,
          6079.6715,
          20630.28351,
          8606.2174,
          4504.6624,
          30166.61817,
          6389.37785,
          6799.458,
          11946.6259,
          7726.854,
          11356.6609,
          1532.4697,
          4441.21315,
          5729.0053,
          10226.2842,
          3645.0894,
          3877.30425,
          2867.1196,
          10825.2537,
          4646.759,
          11488.31695,
          30259.99556,
          11381.3254,
          7740.337,
          1705.6245,
          6082.405,
          1632.56445,
          1261.442,
          2045.68525,
          27375.90478,
          3490.5491,
          18157.876,
          1842.519,
          5125.2157,
          7789.635,
          6948.7008,
          10450.552,
          5028.1466,
          10407.08585,
          4827.90495,
          13405.3903,
          8116.68,
          1694.7964,
          6455.86265,
          10436.096,
          11735.87905,
          4005.4225,
          7731.4271,
          12557.6053,
          2137.6536,
          1137.4697,
          1639.5631,
          7147.105,
          11743.299,
          6610.1097,
          1980.07,
          8162.71625,
          3537.703,
          2483.736,
          5253.524,
          11987.1682,
          2689.4954,
          9225.2564,
          12333.828,
          6710.1919,
          4463.2051,
          7152.6714,
          7196.867,
          24476.47851,
          1986.9334,
          1832.094,
          4040.55825,
          4260.744,
          11520.09985,
          7441.053,
          9282.4806,
          1719.4363,
          7265.7025,
          9617.66245,
          2523.1695,
          2803.69785,
          12928.7911,
          4237.12655,
          7742.1098,
          25992.82104,
          20277.80751,
          3906.127,
          1704.5681,
          6746.7425,
          19442.3535,
          11944.59435,
          8444.474,
          8124.4084,
          9722.7695,
          8835.26495,
          10435.06525,
          4667.60765,
          4894.7533,
          11566.30055,
          2866.091,
          6600.20595,
          9144.565,
          13822.803,
          12142.5786,
          13937.6665,
          13352.0998,
          13981.85035,
          4889.9995,
          8334.45755,
          1635.73365,
          12404.8791,
          24603.04837,
          8944.1151,
          9620.3307,
          1837.2819,
          4751.07,
          8116.26885,
          3481.868,
          1391.5287,
          27000.98473,
          20781.48892,
          8302.53565,
          1261.859,
          30284.64294,
          10736.87075,
          8964.06055,
          9290.1395,
          7526.70645,
          16586.49771,
          14988.432,
          8083.9198,
          10269.46,
          3260.199,
          6652.5288,
          4074.4537,
          1621.3402,
          5080.096,
          9140.951,
          14418.2804,
          2727.3951,
          8968.33,
          9788.8659,
          23082.95533,
          5969.723,
          4243.59005,
          13919.8229,
          2254.7967,
          5926.846,
          2897.3235,
          1149.3959,
          12730.9996,
          4762.329,
          7512.267,
          4032.2407,
          1969.614,
          1769.53165,
          4686.3887,
          21797.0004,
          10601.412,
          11165.41765,
          1632.03625,
          2497.0383,
          2534.39375,
          1534.3045,
          1824.2854,
          15555.18875,
          9304.7019,
          9563.029,
          1253.936,
          10461.9794,
          12574.049,
          1967.0227,
          8027.968,
          6837.3687,
          6796.86325,
          2643.2685,
          3077.0955,
          11763.0009,
          2498.4144,
          9361.3268,
          1256.299,
          11362.755,
          27724.28875,
          8413.46305,
          3857.75925,
          8342.90875,
          1708.0014,
          12925.886,
          19214.70553,
          13831.1152,
          6067.12675,
          27346.04207,
          10231.4999,
          3268.84665,
          13390.559,
          12957.118,
          3847.674,
          8334.5896,
          3935.1799,
          1646.4297,
          2494.022,
          9058.7303,
          7256.7231,
          1664.9996,
          9724.53,
          12913.9924,
          1639.5631,
          6356.2707,
          1242.816,
          3861.20965,
          8428.0693,
          2566.4707,
          5709.1644,
          7441.501,
          9174.13565,
          4435.0942,
          3659.346,
          12129.61415,
          6748.5912,
          11326.71487,
          11365.952,
          10085.846,
          1977.815,
          7173.35995,
          9391.346,
          14410.9321,
          12949.1554,
          6666.243,
          13143.86485,
          18806.14547,
          10141.1362,
          6123.5688,
          1712.227,
          4058.71245,
          6435.6237,
          1136.3994,
          8703.456,
          4837.5823,
          4399.731,
          7222.78625,
          12363.547,
          1242.26,
          9863.4718,
          11244.3769,
          7729.64575,
          5438.7491,
          2104.1134,
          8068.185,
          2362.22905,
          2352.96845,
          10976.24575,
          9504.3103,
          10264.4421,
          1727.54,
          1984.4533,
          12146.971,
          13112.6048,
          11264.541,
          12979.358,
          1263.249,
          6664.68595,
          10065.413,
          3484.331,
          8604.48365,
          8827.2099,
          11737.84884,
          1627.28245,
          3062.50825,
          1906.35825,
          14210.53595,
          17128.42608,
          5031.26955,
          5428.7277,
          2416.955,
          3070.8087,
          8062.764,
          27941.28758,
          7261.741,
          10560.4917,
          6986.697,
          7448.40395,
          5934.3798,
          9869.8102,
          1146.7966,
          9386.1613,
          12741.16745,
          1917.3184,
          5209.57885,
          1252.407,
          4266.1658,
          2103.08,
          1815.8759,
          1131.5066,
          3309.7926,
          11013.7119,
          4428.88785,
          5584.3057,
          3597.596,
          7445.918,
          2680.9493,
          12523.6048,
          6117.4945,
          13393.756,
          11743.9341,
          5377.4578,
          7160.3303,
          4402.233,
          1526.312,
          12323.936,
          10072.05505,
          2438.0552,
          10601.63225,
          14119.62,
          10965.446,
          8782.469,
          6600.361,
          1141.4451,
          11576.13,
          13129.60345,
          8457.818,
          5966.8874,
          6849.026,
          8891.1395,
          6653.7886,
          6282.235,
          3443.064,
          2789.0574,
          4877.98105,
          1682.597,
          11945.1327,
          10422.91665,
          13555.0049,
          2221.56445,
          8688.85885,
          4661.28635,
          8125.7845,
          4846.92015,
          15170.069,
          2639.0429,
          5257.50795,
          5488.262,
          4320.41085,
          6250.435,
          25333.33284,
          6289.7549,
          2927.0647,
          10096.97,
          4673.3922,
          32108.66282,
          2304.0022,
          9487.6442,
          1121.8739,
          1628.4709,
          12982.8747,
          7160.094,
          6358.77645,
          11534.87265,
          3875.7341,
          12609.88702,
          28468.91901,
          9500.57305,
          26467.09737,
          4746.344,
          7518.02535,
          3279.86855,
          2322.6218,
          7804.1605,
          2902.9065,
          25517.11363,
          4500.33925,
          4915.05985,
          8410.04685,
          4518.82625,
          5484.4673,
          1972.95,
          21232.18226,
          8627.5411,
          4433.3877,
          4438.2634,
          23241.47453,
          9957.7216,
          8765.249,
          12124.9924,
          8798.593,
          1711.0268,
          21595.38229,
          9850.432,
          12950.0712,
          2250.8352,
          22493.65964,
          1704.70015,
          11394.06555,
          14394.5579,
          9288.0267,
          10594.50155,
          4462.7218,
          1981.5819,
          11554.2236,
          6548.19505,
          8978.1851,
          5757.41345,
          14349.8544,
          13974.45555,
          1909.52745,
          2102.2647,
          15161.5344,
          11884.04858,
          4454.40265,
          5855.9025,
          4076.497,
          10796.35025,
          11353.2276,
          9748.9106,
          10577.087,
          3591.48,
          1674.6323,
          11253.421,
          3471.4096,
          11363.2832,
          20420.60465,
          2904.088,
          8605.3615,
          2396.0959,
          10807.4863,
          9222.4026,
          8347.1643,
          10214.636,
          14358.36437,
          3693.428,
          20709.02034,
          19673.33573,
          3704.3545,
          9048.0273,
          6338.0756,
          9630.397,
          11289.10925,
          10791.96,
          5979.731,
          5124.1887,
          18963.17192,
          10982.5013,
          4670.64,
          6457.8434,
          4433.9159,
          8603.8234,
          5699.8375,
          6393.60345,
          6198.7518,
          8733.22925,
          2055.3249,
          9964.06,
          5116.5004,
          12347.172,
          5373.36425,
          23563.01618,
          1702.4553,
          12890.05765,
          5415.6612,
          4058.1161,
          6593.5083,
          8442.667,
          6858.4796,
          6640.54485,
          7162.0122,
          10594.2257,
          11938.25595,
          11345.519,
          2699.56835,
          6985.50695,
          1135.9407,
          5615.369,
          6059.173,
          1241.565,
          30063.58055,
          3277.161,
          8615.3,
          3292.52985,
          14478.33015,
          4747.0529,
          10959.33,
          1720.3537,
          7147.4728,
          1515.3449,
          9301.89355,
          11931.12525,
          1964.78,
          1708.92575,
          5261.46945,
          6875.961,
          6940.90985,
          4536.259,
          11272.33139,
          1163.4627,
          19496.71917,
          5425.02335,
          12981.3457,
          4239.89265,
          13143.33665,
          9377.9047,
          10325.206,
          10600.5483
         ],
         "yaxis": "y"
        }
       ],
       "layout": {
        "coloraxis": {
         "colorbar": {
          "title": {
           "text": "age"
          }
         },
         "colorscale": [
          [
           0,
           "#0d0887"
          ],
          [
           0.1111111111111111,
           "#46039f"
          ],
          [
           0.2222222222222222,
           "#7201a8"
          ],
          [
           0.3333333333333333,
           "#9c179e"
          ],
          [
           0.4444444444444444,
           "#bd3786"
          ],
          [
           0.5555555555555556,
           "#d8576b"
          ],
          [
           0.6666666666666666,
           "#ed7953"
          ],
          [
           0.7777777777777778,
           "#fb9f3a"
          ],
          [
           0.8888888888888888,
           "#fdca26"
          ],
          [
           1,
           "#f0f921"
          ]
         ]
        },
        "legend": {
         "tracegroupgap": 0
        },
        "margin": {
         "t": 60
        },
        "template": {
         "data": {
          "bar": [
           {
            "error_x": {
             "color": "#2a3f5f"
            },
            "error_y": {
             "color": "#2a3f5f"
            },
            "marker": {
             "line": {
              "color": "#E5ECF6",
              "width": 0.5
             },
             "pattern": {
              "fillmode": "overlay",
              "size": 10,
              "solidity": 0.2
             }
            },
            "type": "bar"
           }
          ],
          "barpolar": [
           {
            "marker": {
             "line": {
              "color": "#E5ECF6",
              "width": 0.5
             },
             "pattern": {
              "fillmode": "overlay",
              "size": 10,
              "solidity": 0.2
             }
            },
            "type": "barpolar"
           }
          ],
          "carpet": [
           {
            "aaxis": {
             "endlinecolor": "#2a3f5f",
             "gridcolor": "white",
             "linecolor": "white",
             "minorgridcolor": "white",
             "startlinecolor": "#2a3f5f"
            },
            "baxis": {
             "endlinecolor": "#2a3f5f",
             "gridcolor": "white",
             "linecolor": "white",
             "minorgridcolor": "white",
             "startlinecolor": "#2a3f5f"
            },
            "type": "carpet"
           }
          ],
          "choropleth": [
           {
            "colorbar": {
             "outlinewidth": 0,
             "ticks": ""
            },
            "type": "choropleth"
           }
          ],
          "contour": [
           {
            "colorbar": {
             "outlinewidth": 0,
             "ticks": ""
            },
            "colorscale": [
             [
              0,
              "#0d0887"
             ],
             [
              0.1111111111111111,
              "#46039f"
             ],
             [
              0.2222222222222222,
              "#7201a8"
             ],
             [
              0.3333333333333333,
              "#9c179e"
             ],
             [
              0.4444444444444444,
              "#bd3786"
             ],
             [
              0.5555555555555556,
              "#d8576b"
             ],
             [
              0.6666666666666666,
              "#ed7953"
             ],
             [
              0.7777777777777778,
              "#fb9f3a"
             ],
             [
              0.8888888888888888,
              "#fdca26"
             ],
             [
              1,
              "#f0f921"
             ]
            ],
            "type": "contour"
           }
          ],
          "contourcarpet": [
           {
            "colorbar": {
             "outlinewidth": 0,
             "ticks": ""
            },
            "type": "contourcarpet"
           }
          ],
          "heatmap": [
           {
            "colorbar": {
             "outlinewidth": 0,
             "ticks": ""
            },
            "colorscale": [
             [
              0,
              "#0d0887"
             ],
             [
              0.1111111111111111,
              "#46039f"
             ],
             [
              0.2222222222222222,
              "#7201a8"
             ],
             [
              0.3333333333333333,
              "#9c179e"
             ],
             [
              0.4444444444444444,
              "#bd3786"
             ],
             [
              0.5555555555555556,
              "#d8576b"
             ],
             [
              0.6666666666666666,
              "#ed7953"
             ],
             [
              0.7777777777777778,
              "#fb9f3a"
             ],
             [
              0.8888888888888888,
              "#fdca26"
             ],
             [
              1,
              "#f0f921"
             ]
            ],
            "type": "heatmap"
           }
          ],
          "heatmapgl": [
           {
            "colorbar": {
             "outlinewidth": 0,
             "ticks": ""
            },
            "colorscale": [
             [
              0,
              "#0d0887"
             ],
             [
              0.1111111111111111,
              "#46039f"
             ],
             [
              0.2222222222222222,
              "#7201a8"
             ],
             [
              0.3333333333333333,
              "#9c179e"
             ],
             [
              0.4444444444444444,
              "#bd3786"
             ],
             [
              0.5555555555555556,
              "#d8576b"
             ],
             [
              0.6666666666666666,
              "#ed7953"
             ],
             [
              0.7777777777777778,
              "#fb9f3a"
             ],
             [
              0.8888888888888888,
              "#fdca26"
             ],
             [
              1,
              "#f0f921"
             ]
            ],
            "type": "heatmapgl"
           }
          ],
          "histogram": [
           {
            "marker": {
             "pattern": {
              "fillmode": "overlay",
              "size": 10,
              "solidity": 0.2
             }
            },
            "type": "histogram"
           }
          ],
          "histogram2d": [
           {
            "colorbar": {
             "outlinewidth": 0,
             "ticks": ""
            },
            "colorscale": [
             [
              0,
              "#0d0887"
             ],
             [
              0.1111111111111111,
              "#46039f"
             ],
             [
              0.2222222222222222,
              "#7201a8"
             ],
             [
              0.3333333333333333,
              "#9c179e"
             ],
             [
              0.4444444444444444,
              "#bd3786"
             ],
             [
              0.5555555555555556,
              "#d8576b"
             ],
             [
              0.6666666666666666,
              "#ed7953"
             ],
             [
              0.7777777777777778,
              "#fb9f3a"
             ],
             [
              0.8888888888888888,
              "#fdca26"
             ],
             [
              1,
              "#f0f921"
             ]
            ],
            "type": "histogram2d"
           }
          ],
          "histogram2dcontour": [
           {
            "colorbar": {
             "outlinewidth": 0,
             "ticks": ""
            },
            "colorscale": [
             [
              0,
              "#0d0887"
             ],
             [
              0.1111111111111111,
              "#46039f"
             ],
             [
              0.2222222222222222,
              "#7201a8"
             ],
             [
              0.3333333333333333,
              "#9c179e"
             ],
             [
              0.4444444444444444,
              "#bd3786"
             ],
             [
              0.5555555555555556,
              "#d8576b"
             ],
             [
              0.6666666666666666,
              "#ed7953"
             ],
             [
              0.7777777777777778,
              "#fb9f3a"
             ],
             [
              0.8888888888888888,
              "#fdca26"
             ],
             [
              1,
              "#f0f921"
             ]
            ],
            "type": "histogram2dcontour"
           }
          ],
          "mesh3d": [
           {
            "colorbar": {
             "outlinewidth": 0,
             "ticks": ""
            },
            "type": "mesh3d"
           }
          ],
          "parcoords": [
           {
            "line": {
             "colorbar": {
              "outlinewidth": 0,
              "ticks": ""
             }
            },
            "type": "parcoords"
           }
          ],
          "pie": [
           {
            "automargin": true,
            "type": "pie"
           }
          ],
          "scatter": [
           {
            "fillpattern": {
             "fillmode": "overlay",
             "size": 10,
             "solidity": 0.2
            },
            "type": "scatter"
           }
          ],
          "scatter3d": [
           {
            "line": {
             "colorbar": {
              "outlinewidth": 0,
              "ticks": ""
             }
            },
            "marker": {
             "colorbar": {
              "outlinewidth": 0,
              "ticks": ""
             }
            },
            "type": "scatter3d"
           }
          ],
          "scattercarpet": [
           {
            "marker": {
             "colorbar": {
              "outlinewidth": 0,
              "ticks": ""
             }
            },
            "type": "scattercarpet"
           }
          ],
          "scattergeo": [
           {
            "marker": {
             "colorbar": {
              "outlinewidth": 0,
              "ticks": ""
             }
            },
            "type": "scattergeo"
           }
          ],
          "scattergl": [
           {
            "marker": {
             "colorbar": {
              "outlinewidth": 0,
              "ticks": ""
             }
            },
            "type": "scattergl"
           }
          ],
          "scattermapbox": [
           {
            "marker": {
             "colorbar": {
              "outlinewidth": 0,
              "ticks": ""
             }
            },
            "type": "scattermapbox"
           }
          ],
          "scatterpolar": [
           {
            "marker": {
             "colorbar": {
              "outlinewidth": 0,
              "ticks": ""
             }
            },
            "type": "scatterpolar"
           }
          ],
          "scatterpolargl": [
           {
            "marker": {
             "colorbar": {
              "outlinewidth": 0,
              "ticks": ""
             }
            },
            "type": "scatterpolargl"
           }
          ],
          "scatterternary": [
           {
            "marker": {
             "colorbar": {
              "outlinewidth": 0,
              "ticks": ""
             }
            },
            "type": "scatterternary"
           }
          ],
          "surface": [
           {
            "colorbar": {
             "outlinewidth": 0,
             "ticks": ""
            },
            "colorscale": [
             [
              0,
              "#0d0887"
             ],
             [
              0.1111111111111111,
              "#46039f"
             ],
             [
              0.2222222222222222,
              "#7201a8"
             ],
             [
              0.3333333333333333,
              "#9c179e"
             ],
             [
              0.4444444444444444,
              "#bd3786"
             ],
             [
              0.5555555555555556,
              "#d8576b"
             ],
             [
              0.6666666666666666,
              "#ed7953"
             ],
             [
              0.7777777777777778,
              "#fb9f3a"
             ],
             [
              0.8888888888888888,
              "#fdca26"
             ],
             [
              1,
              "#f0f921"
             ]
            ],
            "type": "surface"
           }
          ],
          "table": [
           {
            "cells": {
             "fill": {
              "color": "#EBF0F8"
             },
             "line": {
              "color": "white"
             }
            },
            "header": {
             "fill": {
              "color": "#C8D4E3"
             },
             "line": {
              "color": "white"
             }
            },
            "type": "table"
           }
          ]
         },
         "layout": {
          "annotationdefaults": {
           "arrowcolor": "#2a3f5f",
           "arrowhead": 0,
           "arrowwidth": 1
          },
          "autotypenumbers": "strict",
          "coloraxis": {
           "colorbar": {
            "outlinewidth": 0,
            "ticks": ""
           }
          },
          "colorscale": {
           "diverging": [
            [
             0,
             "#8e0152"
            ],
            [
             0.1,
             "#c51b7d"
            ],
            [
             0.2,
             "#de77ae"
            ],
            [
             0.3,
             "#f1b6da"
            ],
            [
             0.4,
             "#fde0ef"
            ],
            [
             0.5,
             "#f7f7f7"
            ],
            [
             0.6,
             "#e6f5d0"
            ],
            [
             0.7,
             "#b8e186"
            ],
            [
             0.8,
             "#7fbc41"
            ],
            [
             0.9,
             "#4d9221"
            ],
            [
             1,
             "#276419"
            ]
           ],
           "sequential": [
            [
             0,
             "#0d0887"
            ],
            [
             0.1111111111111111,
             "#46039f"
            ],
            [
             0.2222222222222222,
             "#7201a8"
            ],
            [
             0.3333333333333333,
             "#9c179e"
            ],
            [
             0.4444444444444444,
             "#bd3786"
            ],
            [
             0.5555555555555556,
             "#d8576b"
            ],
            [
             0.6666666666666666,
             "#ed7953"
            ],
            [
             0.7777777777777778,
             "#fb9f3a"
            ],
            [
             0.8888888888888888,
             "#fdca26"
            ],
            [
             1,
             "#f0f921"
            ]
           ],
           "sequentialminus": [
            [
             0,
             "#0d0887"
            ],
            [
             0.1111111111111111,
             "#46039f"
            ],
            [
             0.2222222222222222,
             "#7201a8"
            ],
            [
             0.3333333333333333,
             "#9c179e"
            ],
            [
             0.4444444444444444,
             "#bd3786"
            ],
            [
             0.5555555555555556,
             "#d8576b"
            ],
            [
             0.6666666666666666,
             "#ed7953"
            ],
            [
             0.7777777777777778,
             "#fb9f3a"
            ],
            [
             0.8888888888888888,
             "#fdca26"
            ],
            [
             1,
             "#f0f921"
            ]
           ]
          },
          "colorway": [
           "#636efa",
           "#EF553B",
           "#00cc96",
           "#ab63fa",
           "#FFA15A",
           "#19d3f3",
           "#FF6692",
           "#B6E880",
           "#FF97FF",
           "#FECB52"
          ],
          "font": {
           "color": "#2a3f5f"
          },
          "geo": {
           "bgcolor": "white",
           "lakecolor": "white",
           "landcolor": "#E5ECF6",
           "showlakes": true,
           "showland": true,
           "subunitcolor": "white"
          },
          "hoverlabel": {
           "align": "left"
          },
          "hovermode": "closest",
          "mapbox": {
           "style": "light"
          },
          "paper_bgcolor": "white",
          "plot_bgcolor": "#E5ECF6",
          "polar": {
           "angularaxis": {
            "gridcolor": "white",
            "linecolor": "white",
            "ticks": ""
           },
           "bgcolor": "#E5ECF6",
           "radialaxis": {
            "gridcolor": "white",
            "linecolor": "white",
            "ticks": ""
           }
          },
          "scene": {
           "xaxis": {
            "backgroundcolor": "#E5ECF6",
            "gridcolor": "white",
            "gridwidth": 2,
            "linecolor": "white",
            "showbackground": true,
            "ticks": "",
            "zerolinecolor": "white"
           },
           "yaxis": {
            "backgroundcolor": "#E5ECF6",
            "gridcolor": "white",
            "gridwidth": 2,
            "linecolor": "white",
            "showbackground": true,
            "ticks": "",
            "zerolinecolor": "white"
           },
           "zaxis": {
            "backgroundcolor": "#E5ECF6",
            "gridcolor": "white",
            "gridwidth": 2,
            "linecolor": "white",
            "showbackground": true,
            "ticks": "",
            "zerolinecolor": "white"
           }
          },
          "shapedefaults": {
           "line": {
            "color": "#2a3f5f"
           }
          },
          "ternary": {
           "aaxis": {
            "gridcolor": "white",
            "linecolor": "white",
            "ticks": ""
           },
           "baxis": {
            "gridcolor": "white",
            "linecolor": "white",
            "ticks": ""
           },
           "bgcolor": "#E5ECF6",
           "caxis": {
            "gridcolor": "white",
            "linecolor": "white",
            "ticks": ""
           }
          },
          "title": {
           "x": 0.05
          },
          "xaxis": {
           "automargin": true,
           "gridcolor": "white",
           "linecolor": "white",
           "ticks": "",
           "title": {
            "standoff": 15
           },
           "zerolinecolor": "white",
           "zerolinewidth": 2
          },
          "yaxis": {
           "automargin": true,
           "gridcolor": "white",
           "linecolor": "white",
           "ticks": "",
           "title": {
            "standoff": 15
           },
           "zerolinecolor": "white",
           "zerolinewidth": 2
          }
         }
        },
        "xaxis": {
         "anchor": "y",
         "domain": [
          0,
          1
         ],
         "title": {
          "text": "bmi"
         }
        },
        "yaxis": {
         "anchor": "x",
         "domain": [
          0,
          1
         ],
         "title": {
          "text": "charges"
         }
        }
       }
      }
     },
     "metadata": {},
     "output_type": "display_data"
    }
   ],
   "source": [
    "px.scatter(df[(df.sex=='male')&(df.smoker=='no')], x='bmi', y='charges', color='age')"
   ]
  },
  {
   "cell_type": "code",
   "execution_count": 112,
   "metadata": {},
   "outputs": [
    {
     "data": {
      "application/vnd.plotly.v1+json": {
       "config": {
        "plotlyServerURL": "https://plot.ly"
       },
       "data": [
        {
         "hovertemplate": "bmi=%{x}<br>charges=%{y}<br>age=%{marker.color}<extra></extra>",
         "legendgroup": "",
         "marker": {
          "color": [
           31,
           46,
           37,
           60,
           56,
           52,
           60,
           30,
           59,
           63,
           55,
           18,
           19,
           62,
           24,
           31,
           37,
           18,
           28,
           60,
           18,
           21,
           40,
           58,
           34,
           28,
           19,
           61,
           40,
           53,
           29,
           22,
           41,
           45,
           48,
           56,
           46,
           55,
           21,
           53,
           28,
           54,
           41,
           18,
           34,
           19,
           55,
           21,
           49,
           37,
           20,
           47,
           26,
           52,
           59,
           61,
           53,
           20,
           22,
           54,
           22,
           29,
           51,
           53,
           32,
           40,
           50,
           32,
           20,
           32,
           19,
           35,
           24,
           46,
           41,
           18,
           44,
           26,
           30,
           41,
           29,
           36,
           56,
           39,
           45,
           51,
           64,
           19,
           48,
           60,
           28,
           63,
           34,
           45,
           41,
           53,
           26,
           24,
           34,
           53,
           58,
           41,
           42,
           59,
           19,
           18,
           33,
           55,
           60,
           55,
           38,
           58,
           53,
           59,
           47,
           22,
           51,
           55,
           52,
           46,
           63,
           28,
           22,
           48,
           56,
           28,
           57,
           28,
           30,
           41,
           19,
           44,
           26,
           27,
           61,
           56,
           43,
           46,
           24,
           60,
           49,
           34,
           36,
           57,
           50,
           30,
           18,
           18,
           48,
           21,
           21,
           49,
           56,
           42,
           61,
           57,
           42,
           64,
           35,
           58,
           26,
           24,
           19,
           46,
           43,
           18,
           51,
           64,
           52,
           33,
           47,
           19,
           43,
           38,
           18,
           21,
           27,
           29,
           60,
           52,
           31,
           59,
           45,
           56,
           40,
           55,
           57,
           40,
           49,
           62,
           60,
           56,
           28,
           18,
           18,
           19,
           47,
           18,
           51,
           31,
           54,
           19,
           61,
           18,
           31,
           44,
           62,
           38,
           24,
           57,
           35,
           50,
           32,
           51,
           38,
           18,
           19,
           51,
           62,
           33,
           46,
           46,
           34,
           20,
           63,
           54,
           25,
           32,
           52,
           25,
           46,
           54,
           18,
           19,
           38,
           49,
           31,
           18,
           30,
           62,
           57,
           58,
           25,
           32,
           33,
           61,
           38,
           58,
           46,
           42,
           34,
           52,
           18,
           56,
           64,
           51,
           27,
           47,
           38,
           18,
           34,
           20,
           56,
           55,
           49,
           29,
           29,
           19,
           35,
           23,
           40,
           58,
           49,
           53,
           48,
           45,
           59,
           26,
           48,
           57,
           57,
           32,
           40,
           29,
           41,
           55,
           49,
           21,
           33,
           47,
           27,
           26,
           53,
           23,
           21,
           50,
           34,
           47,
           33,
           31,
           36,
           50,
           43,
           24,
           49,
           51,
           58,
           51,
           50,
           18,
           41,
           24,
           48,
           59,
           49,
           31,
           50,
           47,
           58,
           39,
           22,
           45,
           57,
           42,
           64,
           38,
           53,
           44,
           31,
           35,
           62,
           39,
           22,
           39,
           30,
           58,
           42,
           64,
           45,
           40,
           19,
           46,
           33,
           20,
           24,
           18,
           44,
           64,
           36,
           28,
           56,
           35,
           59,
           51,
           27,
           53,
           20,
           25,
           38,
           55,
           36,
           25,
           26,
           23,
           49,
           37,
           21,
           36,
           36,
           61,
           18,
           19,
           60,
           26,
           44,
           59,
           44,
           24,
           61,
           35,
           62,
           62,
           19,
           57,
           62,
           39,
           45,
           59,
           39,
           50,
           18,
           56,
           30,
           19,
           29,
           63,
           39,
           50,
           34,
           22,
           19,
           45,
           36,
           27,
           44,
           45,
           26,
           38,
           50,
           39,
           39,
           63,
           33,
           36,
           48,
           61,
           38,
           19,
           26,
           54,
           21,
           47,
           21,
           37,
           30,
           54,
           28,
           43,
           25,
           44,
           27,
           48,
           45,
           24,
           29,
           42,
           54,
           54,
           60,
           32,
           47,
           62,
           55,
           50,
           18,
           52,
           25,
           54,
           49,
           50,
           54,
           28,
           30,
           27,
           63,
           35,
           19,
           39,
           52,
           50,
           44,
           26,
           41,
           52,
           20,
           18,
           58,
           35,
           48,
           36,
           23,
           20,
           32,
           43,
           18,
           41,
           35,
           29,
           37,
           56,
           22,
           40,
           23,
           42,
           24,
           25,
           48,
           62,
           23,
           31,
           41,
           58,
           48,
           31,
           19,
           31,
           59,
           52,
           27,
           38,
           30,
           33,
           54,
           45,
           63,
           58,
           25,
           22,
           28,
           45,
           18,
           40,
           34,
           42,
           51,
           54,
           52,
           32,
           41,
           43,
           49,
           55,
           20,
           25,
           22,
           32,
           25,
           48,
           47,
           28,
           36,
           38,
           28,
           19,
           25,
           24,
           33,
           19,
           39,
           42,
           23,
           57,
           23,
           52,
           18,
           18,
           21
          ],
          "coloraxis": "coloraxis",
          "symbol": "circle"
         },
         "mode": "markers",
         "name": "",
         "orientation": "v",
         "showlegend": false,
         "type": "scatter",
         "x": [
          25.74,
          33.44,
          27.74,
          25.84,
          39.82,
          30.78,
          36.005,
          32.4,
          27.72,
          23.085,
          32.775,
          26.315,
          28.6,
          32.965,
          26.6,
          36.63,
          30.8,
          38.665,
          34.77,
          24.53,
          35.625,
          33.63,
          28.69,
          31.825,
          37.335,
          25.935,
          28.9,
          39.1,
          36.19,
          28.1,
          29.59,
          39.805,
          32.965,
          38.285,
          41.23,
          27.2,
          27.74,
          26.98,
          39.49,
          24.795,
          37.62,
          30.8,
          31.6,
          30.115,
          27.5,
          28.4,
          29.7,
          35.72,
          27.17,
          23.37,
          28.975,
          33.915,
          28.785,
          37.4,
          26.505,
          22.04,
          35.9,
          28.785,
          28.05,
          31.9,
          36,
          38.83,
          37.73,
          37.43,
          37.145,
          25.46,
          27.83,
          29.8,
          37,
          33.155,
          31.825,
          34.8,
          33.345,
          28.9,
          33.155,
          38.28,
          26.41,
          29.92,
          30.9,
          32.2,
          32.11,
          26.2,
          26.6,
          32.8,
          28.6,
          18.05,
          39.33,
          32.11,
          32.23,
          24.035,
          28.88,
          31.8,
          26.73,
          30.9,
          37.1,
          26.6,
          29.92,
          23.21,
          33.7,
          33.25,
          41.91,
          31.635,
          36.195,
          27.83,
          17.8,
          26.73,
          22.135,
          26.8,
          38.06,
          25.365,
          40.15,
          25.2,
          38.06,
          32.395,
          26.6,
          24.3,
          21.56,
          32.395,
          31.2,
          48.07,
          26.22,
          33.4,
          28.82,
          28.88,
          37.51,
          33,
          38,
          27.5,
          33.33,
          33.06,
          24.7,
          27.645,
          29.64,
          23.21,
          31.16,
          28.785,
          35.72,
          27.72,
          27.6,
          27.55,
          41.47,
          29.26,
          29.92,
          23.18,
          25.6,
          27.7,
          38.28,
          20.79,
          32.3,
          26.4,
          21.89,
          30.78,
          32.3,
          24.985,
          21.09,
          22.23,
          33.155,
          30.115,
          43.34,
          39.05,
          22.61,
          30.21,
          37.43,
          32.3,
          34.4,
          38.17,
          20.6,
          32.965,
          38.38,
          24.31,
          23.6,
          35.15,
          35.64,
          27.265,
          29.165,
          16.815,
          30.4,
          20.235,
          30.5,
          46.75,
          32.68,
          36.52,
          33.1,
          25.65,
          29.6,
          30.14,
          30.495,
          33,
          36.63,
          38.095,
          28.7,
          33.82,
          24.32,
          24.09,
          30.115,
          29.8,
          33.345,
          31.35,
          39.5,
          31.065,
          21.47,
          32.9,
          25.08,
          25.08,
          23.6,
          23.98,
          39.2,
          28.93,
          25.27,
          28.7,
          31,
          27.36,
          44.22,
          33.915,
          37.73,
          33.88,
          30.59,
          25.8,
          31.73,
          38.9,
          30.2,
          28.05,
          38,
          31.79,
          36.3,
          46.7,
          28.595,
          28.93,
          31.73,
          41.325,
          19.95,
          32.68,
          32.12,
          30.495,
          40.565,
          31.9,
          29.1,
          37.29,
          43.12,
          36.86,
          34.295,
          27.17,
          23.465,
          23.65,
          28.27,
          35.91,
          30.69,
          29,
          33.725,
          29.48,
          33.25,
          37.525,
          39.16,
          25.3,
          39.05,
          34.1,
          25.175,
          29.37,
          34.8,
          33.155,
          19,
          33,
          28.595,
          37.1,
          21.3,
          26.03,
          35.53,
          24.51,
          38.095,
          34.96,
          23.37,
          32.965,
          42.68,
          39.6,
          31.13,
          36.3,
          35.2,
          42.4,
          35.91,
          28.785,
          23.98,
          31.54,
          29.81,
          31.16,
          31.02,
          40.81,
          23.18,
          17.4,
          18.5,
          24.1,
          34.8,
          40.185,
          32.3,
          39.27,
          34.87,
          44.745,
          26.41,
          29.545,
          32.9,
          30.495,
          27.74,
          23.54,
          30.685,
          22.6,
          22.61,
          36.67,
          33.44,
          40.66,
          27.075,
          40.28,
          36.08,
          30.1,
          27.265,
          32.1,
          34.77,
          26.62,
          30.115,
          36,
          22.77,
          22.8,
          34.58,
          25.175,
          31.825,
          29,
          39.7,
          19.475,
          26.7,
          36.48,
          29.26,
          27.7,
          29.92,
          41.8,
          23.18,
          31.92,
          22.895,
          33.1,
          26.18,
          35.97,
          35.815,
          41.42,
          36.575,
          30.8,
          42.94,
          31.46,
          24.225,
          31.13,
          29.81,
          31.825,
          25.84,
          23.845,
          28.31,
          23.465,
          31.35,
          34.2,
          24.1,
          23.75,
          29.6,
          32.23,
          28,
          33.535,
          19.855,
          24.3,
          29.48,
          28.12,
          27.1,
          29.5,
          22.135,
          30.02,
          29.04,
          44,
          40.26,
          22.515,
          35.1,
          29.355,
          32.34,
          26.695,
          27.5,
          33.99,
          28.2,
          34.21,
          25,
          33.2,
          23.4,
          20.1,
          39.16,
          32.5,
          35.3,
          27.5,
          24.225,
          46.09,
          40.185,
          35.8,
          28.405,
          39.615,
          25.9,
          35.2,
          34.32,
          28.16,
          23.56,
          20.235,
          40.5,
          39.995,
          29.92,
          30.59,
          25.8,
          27.645,
          19.8,
          27.835,
          31.6,
          23.275,
          34.1,
          36.85,
          36.29,
          26.885,
          22.8,
          33.33,
          27.6,
          24.605,
          34.2,
          35.815,
          32.68,
          45.32,
          34.6,
          17.29,
          27.93,
          23,
          25.8,
          25.08,
          22.515,
          36.955,
          21.47,
          28.9,
          31.79,
          39.49,
          25.6,
          25.3,
          31.9,
          28.88,
          18.335,
          29.59,
          32,
          30.495,
          29.83,
          33.7,
          31.35,
          30.875,
          33.99,
          31.24,
          29.925,
          26.22,
          32.3,
          26.315,
          19.95,
          32.395,
          25.08,
          35.86,
          18.6,
          23.87,
          18.335,
          28.12,
          25,
          22.23,
          32.6,
          24.86,
          31.92,
          30.305,
          36.48,
          35.815,
          27.93,
          22.135,
          23.18,
          30.59,
          41.1,
          34.58,
          28.215,
          28.31,
          26.125,
          24.6,
          34.105,
          41.91,
          27.1,
          27.4,
          34.865,
          41.325,
          29.925,
          30.3,
          27.36,
          32.68,
          28,
          32.775,
          21.755,
          32.395,
          36.575,
          21.755,
          27.93,
          25.8,
          34.8,
          33.3,
          31.255,
          30.21,
          21.945,
          39.82,
          24.605,
          27.83,
          21.66,
          28.215,
          42.13,
          21.28,
          33.11,
          25.7,
          39.82,
          29.3,
          27.72,
          37.9,
          36.385,
          27.645,
          23.18,
          20.52,
          28.05,
          29.9,
          33.345,
          30.5,
          33.3,
          34.485,
          30.4,
          29.735,
          26.79,
          33.33,
          24.32,
          17.29,
          25.9,
          19.95,
          26.51,
          25.745,
          20.8,
          27.72,
          26.695,
          20.6,
          26.315,
          32.87,
          24.225,
          25.74,
          33.4,
          44.7,
          31.92,
          36.85,
          25.8
         ],
         "xaxis": "x",
         "y": [
          3756.6216,
          8240.5896,
          7281.5056,
          28923.13692,
          11090.7178,
          10797.3362,
          13228.84695,
          4149.736,
          14001.1338,
          14451.83515,
          12268.63225,
          2198.18985,
          4687.797,
          15612.19335,
          3046.062,
          4949.7587,
          6313.759,
          3393.35635,
          3556.9223,
          12629.8967,
          2211.13075,
          3579.8287,
          8059.6791,
          13607.36875,
          5989.52365,
          4133.64165,
          1743.214,
          14235.072,
          5920.1041,
          11741.726,
          3947.4131,
          2755.02095,
          6571.02435,
          7935.29115,
          11033.6617,
          11073.176,
          8026.6666,
          11082.5772,
          2026.9741,
          10942.13205,
          3766.8838,
          12105.32,
          6186.127,
          21344.8467,
          5003.853,
          2331.519,
          11881.358,
          2404.7338,
          8601.3293,
          6686.4313,
          2257.47525,
          10115.00885,
          3385.39915,
          9634.538,
          12815.44495,
          13616.3586,
          11163.568,
          2457.21115,
          2155.6815,
          27322.73386,
          2166.732,
          5138.2567,
          9877.6077,
          10959.6947,
          6334.34355,
          7077.1894,
          19749.38338,
          5152.134,
          4830.63,
          6128.79745,
          2719.27975,
          5246.047,
          2855.43755,
          8823.279,
          8538.28845,
          1631.8212,
          7419.4779,
          3981.9768,
          5325.651,
          6775.961,
          4922.9159,
          4883.866,
          12044.342,
          5649.715,
          8516.829,
          9644.2525,
          14901.5167,
          2130.6759,
          8871.1517,
          13012.20865,
          4337.7352,
          13880.949,
          5002.7827,
          8520.026,
          7371.772,
          10355.641,
          3392.9768,
          25081.76784,
          5012.471,
          10564.8845,
          24227.33724,
          7358.17565,
          7443.64305,
          14001.2867,
          1727.785,
          1615.7667,
          5354.07465,
          35160.13457,
          12648.7034,
          13047.33235,
          5400.9805,
          11837.16,
          20462.99766,
          14590.63205,
          9715.841,
          2150.469,
          9855.1314,
          11879.10405,
          9625.92,
          9432.9253,
          14256.1928,
          3172.018,
          2156.7518,
          9249.4952,
          12265.5069,
          4349.462,
          12646.207,
          20177.67113,
          4151.0287,
          7749.1564,
          1737.376,
          7421.19455,
          24671.66334,
          3561.8889,
          13429.0354,
          11658.37915,
          19144.57652,
          8232.6388,
          18955.22017,
          13217.0945,
          10977.2063,
          6184.2994,
          5478.0368,
          11830.6072,
          8932.084,
          3554.203,
          14133.03775,
          1607.5101,
          10043.249,
          2597.779,
          3180.5101,
          9778.3472,
          13430.265,
          8017.06115,
          13415.0381,
          12029.2867,
          7639.41745,
          16455.70785,
          5846.9176,
          11856.4115,
          3176.8159,
          4618.0799,
          2138.0707,
          9411.005,
          8522.003,
          1631.6683,
          9264.797,
          14692.66935,
          11396.9002,
          4185.0979,
          8539.671,
          2134.9015,
          7345.7266,
          6555.07035,
          7323.734819,
          3167.45585,
          18804.7524,
          4906.40965,
          12638.195,
          12592.5345,
          4738.2682,
          28287.89766,
          7345.084,
          11454.0215,
          5910.944,
          11881.9696,
          11840.77505,
          7682.67,
          10381.4787,
          15230.32405,
          13224.693,
          12643.3778,
          23288.9284,
          2201.0971,
          2203.47185,
          1744.465,
          20878.78443,
          1622.1885,
          9880.068,
          4347.02335,
          12475.3513,
          1748.774,
          24513.09126,
          2196.4732,
          4931.647,
          8211.1002,
          13470.86,
          5974.3847,
          3044.2133,
          11455.28,
          5240.765,
          25656.57526,
          3994.1778,
          9866.30485,
          5397.6167,
          11482.63485,
          24059.68019,
          9861.025,
          14043.4767,
          5972.378,
          8825.086,
          8233.0975,
          6196.448,
          3056.3881,
          13887.204,
          11538.421,
          3213.62205,
          3972.9247,
          11187.6567,
          17878.90068,
          9193.8385,
          10923.9332,
          2801.2588,
          2128.43105,
          6373.55735,
          11552.904,
          3761.292,
          2219.4451,
          4753.6368,
          31620.00106,
          13224.05705,
          12222.8983,
          3206.49135,
          17626.23951,
          4779.6023,
          13635.6379,
          5976.8311,
          11842.442,
          8823.98575,
          7640.3092,
          5594.8455,
          33471.97189,
          1633.0444,
          11070.535,
          16085.1275,
          9283.562,
          3558.62025,
          8547.6913,
          6571.544,
          2207.69745,
          6753.038,
          1880.07,
          11658.11505,
          10713.644,
          9182.17,
          3736.4647,
          3366.6697,
          2709.1119,
          24915.04626,
          4466.6214,
          8252.2843,
          12430.95335,
          9800.8882,
          10579.711,
          8280.6227,
          8527.532,
          12244.531,
          3410.324,
          26392.26029,
          14394.39815,
          22192.43711,
          5148.5526,
          6500.2359,
          3943.5954,
          6185.3208,
          12485.8009,
          10156.7832,
          2585.269,
          4766.022,
          26236.57997,
          3577.999,
          3201.24515,
          29186.48236,
          3500.6123,
          2020.5523,
          9541.69555,
          5385.3379,
          8930.93455,
          5375.038,
          6113.23105,
          5469.0066,
          10107.2206,
          8310.83915,
          2457.502,
          9566.9909,
          10848.1343,
          12231.6136,
          9875.6804,
          10106.13425,
          2217.6012,
          6781.3542,
          4234.927,
          9447.25035,
          14007.222,
          9583.8933,
          3757.8448,
          9910.35985,
          8556.907,
          11833.7823,
          7985.815,
          3925.7582,
          9095.06825,
          11842.62375,
          7050.642,
          14319.031,
          6933.24225,
          11150.78,
          12797.20962,
          4350.5144,
          6414.178,
          13457.9608,
          5662.225,
          2731.9122,
          7209.4918,
          4719.52405,
          11848.141,
          7046.7222,
          14313.8463,
          7731.85785,
          28476.73499,
          2136.88225,
          9414.92,
          6360.9936,
          1877.9294,
          2842.76075,
          1621.8827,
          8219.2039,
          16069.08475,
          5266.3656,
          4719.73655,
          11657.7189,
          6402.29135,
          12622.1795,
          9872.701,
          2974.126,
          11729.6795,
          1875.344,
          18218.16139,
          7151.092,
          12269.68865,
          5458.04645,
          4391.652,
          3392.3652,
          2690.1138,
          26140.3603,
          6311.952,
          2585.85065,
          5272.1758,
          7243.8136,
          13063.883,
          1634.5734,
          2117.33885,
          12644.589,
          4564.19145,
          7633.7206,
          14382.70905,
          7626.993,
          2473.3341,
          13041.921,
          5245.2269,
          13451.122,
          13462.52,
          2913.569,
          12032.326,
          13470.8044,
          6238.298,
          7348.142,
          12233.828,
          8965.79575,
          9549.5651,
          2217.46915,
          11674.13,
          4527.18295,
          2730.10785,
          3353.284,
          14474.675,
          8596.8278,
          10702.6424,
          4992.3764,
          2527.81865,
          1759.338,
          9704.66805,
          4889.0368,
          16796.41194,
          7624.63,
          28340.18885,
          3378.91,
          7144.86265,
          10118.424,
          7986.47525,
          7418.522,
          13887.9685,
          6551.7501,
          5267.81815,
          8269.044,
          36580.28216,
          5383.536,
          2709.24395,
          3987.926,
          12495.29085,
          26018.95052,
          8569.8618,
          2020.177,
          6877.9801,
          4137.5227,
          12094.478,
          3161.454,
          7325.0482,
          3594.17085,
          8023.13545,
          3353.4703,
          8277.523,
          17929.30337,
          2480.9791,
          5708.867,
          7045.499,
          10928.849,
          12096.6512,
          13204.28565,
          4562.8421,
          8551.347,
          15019.76005,
          11286.5387,
          11299.343,
          4561.1885,
          23045.56616,
          3227.1211,
          10338.9316,
          8988.15875,
          10493.9458,
          11512.405,
          5312.16985,
          5693.4305,
          18903.49141,
          14254.6082,
          5836.5204,
          1728.897,
          8582.3023,
          9991.03765,
          11085.5868,
          7623.518,
          3176.2877,
          7954.517,
          27117.99378,
          2261.5688,
          2203.73595,
          12235.8392,
          5630.45785,
          11015.1747,
          7228.21565,
          14426.07385,
          2459.7201,
          3989.841,
          7727.2532,
          2200.83085,
          7153.5539,
          5227.98875,
          4529.477,
          6112.35295,
          11093.6229,
          2154.361,
          6496.886,
          2899.48935,
          7650.77375,
          2850.68375,
          2632.992,
          9447.3824,
          13844.7972,
          13126.67745,
          5327.40025,
          13725.47184,
          13019.16105,
          8671.19125,
          4134.08245,
          18838.70366,
          4934.705,
          36910.60803,
          10806.839,
          3956.07145,
          7537.1639,
          4718.20355,
          4795.6568,
          12479.70895,
          8515.7587,
          14449.8544,
          12224.35085,
          3238.4357,
          4296.2712,
          3171.6149,
          9101.798,
          1633.9618,
          15828.82173,
          4415.1588,
          6474.013,
          11436.73815,
          11305.93455,
          10197.7722,
          4544.2348,
          6770.1925,
          7337.748,
          10370.91255,
          10704.47,
          1880.487,
          3021.80915,
          2741.948,
          4357.04365,
          4189.1131,
          8283.6807,
          8534.6718,
          3732.6251,
          5472.449,
          7133.9025,
          4340.4409,
          2710.82855,
          3208.787,
          2464.6188,
          4571.41305,
          1731.677,
          7201.70085,
          7050.0213,
          22395.74424,
          12629.1656,
          10795.93733,
          11411.685,
          2205.9808,
          1629.8335,
          2007.945
         ],
         "yaxis": "y"
        }
       ],
       "layout": {
        "coloraxis": {
         "colorbar": {
          "title": {
           "text": "age"
          }
         },
         "colorscale": [
          [
           0,
           "#0d0887"
          ],
          [
           0.1111111111111111,
           "#46039f"
          ],
          [
           0.2222222222222222,
           "#7201a8"
          ],
          [
           0.3333333333333333,
           "#9c179e"
          ],
          [
           0.4444444444444444,
           "#bd3786"
          ],
          [
           0.5555555555555556,
           "#d8576b"
          ],
          [
           0.6666666666666666,
           "#ed7953"
          ],
          [
           0.7777777777777778,
           "#fb9f3a"
          ],
          [
           0.8888888888888888,
           "#fdca26"
          ],
          [
           1,
           "#f0f921"
          ]
         ]
        },
        "legend": {
         "tracegroupgap": 0
        },
        "margin": {
         "t": 60
        },
        "template": {
         "data": {
          "bar": [
           {
            "error_x": {
             "color": "#2a3f5f"
            },
            "error_y": {
             "color": "#2a3f5f"
            },
            "marker": {
             "line": {
              "color": "#E5ECF6",
              "width": 0.5
             },
             "pattern": {
              "fillmode": "overlay",
              "size": 10,
              "solidity": 0.2
             }
            },
            "type": "bar"
           }
          ],
          "barpolar": [
           {
            "marker": {
             "line": {
              "color": "#E5ECF6",
              "width": 0.5
             },
             "pattern": {
              "fillmode": "overlay",
              "size": 10,
              "solidity": 0.2
             }
            },
            "type": "barpolar"
           }
          ],
          "carpet": [
           {
            "aaxis": {
             "endlinecolor": "#2a3f5f",
             "gridcolor": "white",
             "linecolor": "white",
             "minorgridcolor": "white",
             "startlinecolor": "#2a3f5f"
            },
            "baxis": {
             "endlinecolor": "#2a3f5f",
             "gridcolor": "white",
             "linecolor": "white",
             "minorgridcolor": "white",
             "startlinecolor": "#2a3f5f"
            },
            "type": "carpet"
           }
          ],
          "choropleth": [
           {
            "colorbar": {
             "outlinewidth": 0,
             "ticks": ""
            },
            "type": "choropleth"
           }
          ],
          "contour": [
           {
            "colorbar": {
             "outlinewidth": 0,
             "ticks": ""
            },
            "colorscale": [
             [
              0,
              "#0d0887"
             ],
             [
              0.1111111111111111,
              "#46039f"
             ],
             [
              0.2222222222222222,
              "#7201a8"
             ],
             [
              0.3333333333333333,
              "#9c179e"
             ],
             [
              0.4444444444444444,
              "#bd3786"
             ],
             [
              0.5555555555555556,
              "#d8576b"
             ],
             [
              0.6666666666666666,
              "#ed7953"
             ],
             [
              0.7777777777777778,
              "#fb9f3a"
             ],
             [
              0.8888888888888888,
              "#fdca26"
             ],
             [
              1,
              "#f0f921"
             ]
            ],
            "type": "contour"
           }
          ],
          "contourcarpet": [
           {
            "colorbar": {
             "outlinewidth": 0,
             "ticks": ""
            },
            "type": "contourcarpet"
           }
          ],
          "heatmap": [
           {
            "colorbar": {
             "outlinewidth": 0,
             "ticks": ""
            },
            "colorscale": [
             [
              0,
              "#0d0887"
             ],
             [
              0.1111111111111111,
              "#46039f"
             ],
             [
              0.2222222222222222,
              "#7201a8"
             ],
             [
              0.3333333333333333,
              "#9c179e"
             ],
             [
              0.4444444444444444,
              "#bd3786"
             ],
             [
              0.5555555555555556,
              "#d8576b"
             ],
             [
              0.6666666666666666,
              "#ed7953"
             ],
             [
              0.7777777777777778,
              "#fb9f3a"
             ],
             [
              0.8888888888888888,
              "#fdca26"
             ],
             [
              1,
              "#f0f921"
             ]
            ],
            "type": "heatmap"
           }
          ],
          "heatmapgl": [
           {
            "colorbar": {
             "outlinewidth": 0,
             "ticks": ""
            },
            "colorscale": [
             [
              0,
              "#0d0887"
             ],
             [
              0.1111111111111111,
              "#46039f"
             ],
             [
              0.2222222222222222,
              "#7201a8"
             ],
             [
              0.3333333333333333,
              "#9c179e"
             ],
             [
              0.4444444444444444,
              "#bd3786"
             ],
             [
              0.5555555555555556,
              "#d8576b"
             ],
             [
              0.6666666666666666,
              "#ed7953"
             ],
             [
              0.7777777777777778,
              "#fb9f3a"
             ],
             [
              0.8888888888888888,
              "#fdca26"
             ],
             [
              1,
              "#f0f921"
             ]
            ],
            "type": "heatmapgl"
           }
          ],
          "histogram": [
           {
            "marker": {
             "pattern": {
              "fillmode": "overlay",
              "size": 10,
              "solidity": 0.2
             }
            },
            "type": "histogram"
           }
          ],
          "histogram2d": [
           {
            "colorbar": {
             "outlinewidth": 0,
             "ticks": ""
            },
            "colorscale": [
             [
              0,
              "#0d0887"
             ],
             [
              0.1111111111111111,
              "#46039f"
             ],
             [
              0.2222222222222222,
              "#7201a8"
             ],
             [
              0.3333333333333333,
              "#9c179e"
             ],
             [
              0.4444444444444444,
              "#bd3786"
             ],
             [
              0.5555555555555556,
              "#d8576b"
             ],
             [
              0.6666666666666666,
              "#ed7953"
             ],
             [
              0.7777777777777778,
              "#fb9f3a"
             ],
             [
              0.8888888888888888,
              "#fdca26"
             ],
             [
              1,
              "#f0f921"
             ]
            ],
            "type": "histogram2d"
           }
          ],
          "histogram2dcontour": [
           {
            "colorbar": {
             "outlinewidth": 0,
             "ticks": ""
            },
            "colorscale": [
             [
              0,
              "#0d0887"
             ],
             [
              0.1111111111111111,
              "#46039f"
             ],
             [
              0.2222222222222222,
              "#7201a8"
             ],
             [
              0.3333333333333333,
              "#9c179e"
             ],
             [
              0.4444444444444444,
              "#bd3786"
             ],
             [
              0.5555555555555556,
              "#d8576b"
             ],
             [
              0.6666666666666666,
              "#ed7953"
             ],
             [
              0.7777777777777778,
              "#fb9f3a"
             ],
             [
              0.8888888888888888,
              "#fdca26"
             ],
             [
              1,
              "#f0f921"
             ]
            ],
            "type": "histogram2dcontour"
           }
          ],
          "mesh3d": [
           {
            "colorbar": {
             "outlinewidth": 0,
             "ticks": ""
            },
            "type": "mesh3d"
           }
          ],
          "parcoords": [
           {
            "line": {
             "colorbar": {
              "outlinewidth": 0,
              "ticks": ""
             }
            },
            "type": "parcoords"
           }
          ],
          "pie": [
           {
            "automargin": true,
            "type": "pie"
           }
          ],
          "scatter": [
           {
            "fillpattern": {
             "fillmode": "overlay",
             "size": 10,
             "solidity": 0.2
            },
            "type": "scatter"
           }
          ],
          "scatter3d": [
           {
            "line": {
             "colorbar": {
              "outlinewidth": 0,
              "ticks": ""
             }
            },
            "marker": {
             "colorbar": {
              "outlinewidth": 0,
              "ticks": ""
             }
            },
            "type": "scatter3d"
           }
          ],
          "scattercarpet": [
           {
            "marker": {
             "colorbar": {
              "outlinewidth": 0,
              "ticks": ""
             }
            },
            "type": "scattercarpet"
           }
          ],
          "scattergeo": [
           {
            "marker": {
             "colorbar": {
              "outlinewidth": 0,
              "ticks": ""
             }
            },
            "type": "scattergeo"
           }
          ],
          "scattergl": [
           {
            "marker": {
             "colorbar": {
              "outlinewidth": 0,
              "ticks": ""
             }
            },
            "type": "scattergl"
           }
          ],
          "scattermapbox": [
           {
            "marker": {
             "colorbar": {
              "outlinewidth": 0,
              "ticks": ""
             }
            },
            "type": "scattermapbox"
           }
          ],
          "scatterpolar": [
           {
            "marker": {
             "colorbar": {
              "outlinewidth": 0,
              "ticks": ""
             }
            },
            "type": "scatterpolar"
           }
          ],
          "scatterpolargl": [
           {
            "marker": {
             "colorbar": {
              "outlinewidth": 0,
              "ticks": ""
             }
            },
            "type": "scatterpolargl"
           }
          ],
          "scatterternary": [
           {
            "marker": {
             "colorbar": {
              "outlinewidth": 0,
              "ticks": ""
             }
            },
            "type": "scatterternary"
           }
          ],
          "surface": [
           {
            "colorbar": {
             "outlinewidth": 0,
             "ticks": ""
            },
            "colorscale": [
             [
              0,
              "#0d0887"
             ],
             [
              0.1111111111111111,
              "#46039f"
             ],
             [
              0.2222222222222222,
              "#7201a8"
             ],
             [
              0.3333333333333333,
              "#9c179e"
             ],
             [
              0.4444444444444444,
              "#bd3786"
             ],
             [
              0.5555555555555556,
              "#d8576b"
             ],
             [
              0.6666666666666666,
              "#ed7953"
             ],
             [
              0.7777777777777778,
              "#fb9f3a"
             ],
             [
              0.8888888888888888,
              "#fdca26"
             ],
             [
              1,
              "#f0f921"
             ]
            ],
            "type": "surface"
           }
          ],
          "table": [
           {
            "cells": {
             "fill": {
              "color": "#EBF0F8"
             },
             "line": {
              "color": "white"
             }
            },
            "header": {
             "fill": {
              "color": "#C8D4E3"
             },
             "line": {
              "color": "white"
             }
            },
            "type": "table"
           }
          ]
         },
         "layout": {
          "annotationdefaults": {
           "arrowcolor": "#2a3f5f",
           "arrowhead": 0,
           "arrowwidth": 1
          },
          "autotypenumbers": "strict",
          "coloraxis": {
           "colorbar": {
            "outlinewidth": 0,
            "ticks": ""
           }
          },
          "colorscale": {
           "diverging": [
            [
             0,
             "#8e0152"
            ],
            [
             0.1,
             "#c51b7d"
            ],
            [
             0.2,
             "#de77ae"
            ],
            [
             0.3,
             "#f1b6da"
            ],
            [
             0.4,
             "#fde0ef"
            ],
            [
             0.5,
             "#f7f7f7"
            ],
            [
             0.6,
             "#e6f5d0"
            ],
            [
             0.7,
             "#b8e186"
            ],
            [
             0.8,
             "#7fbc41"
            ],
            [
             0.9,
             "#4d9221"
            ],
            [
             1,
             "#276419"
            ]
           ],
           "sequential": [
            [
             0,
             "#0d0887"
            ],
            [
             0.1111111111111111,
             "#46039f"
            ],
            [
             0.2222222222222222,
             "#7201a8"
            ],
            [
             0.3333333333333333,
             "#9c179e"
            ],
            [
             0.4444444444444444,
             "#bd3786"
            ],
            [
             0.5555555555555556,
             "#d8576b"
            ],
            [
             0.6666666666666666,
             "#ed7953"
            ],
            [
             0.7777777777777778,
             "#fb9f3a"
            ],
            [
             0.8888888888888888,
             "#fdca26"
            ],
            [
             1,
             "#f0f921"
            ]
           ],
           "sequentialminus": [
            [
             0,
             "#0d0887"
            ],
            [
             0.1111111111111111,
             "#46039f"
            ],
            [
             0.2222222222222222,
             "#7201a8"
            ],
            [
             0.3333333333333333,
             "#9c179e"
            ],
            [
             0.4444444444444444,
             "#bd3786"
            ],
            [
             0.5555555555555556,
             "#d8576b"
            ],
            [
             0.6666666666666666,
             "#ed7953"
            ],
            [
             0.7777777777777778,
             "#fb9f3a"
            ],
            [
             0.8888888888888888,
             "#fdca26"
            ],
            [
             1,
             "#f0f921"
            ]
           ]
          },
          "colorway": [
           "#636efa",
           "#EF553B",
           "#00cc96",
           "#ab63fa",
           "#FFA15A",
           "#19d3f3",
           "#FF6692",
           "#B6E880",
           "#FF97FF",
           "#FECB52"
          ],
          "font": {
           "color": "#2a3f5f"
          },
          "geo": {
           "bgcolor": "white",
           "lakecolor": "white",
           "landcolor": "#E5ECF6",
           "showlakes": true,
           "showland": true,
           "subunitcolor": "white"
          },
          "hoverlabel": {
           "align": "left"
          },
          "hovermode": "closest",
          "mapbox": {
           "style": "light"
          },
          "paper_bgcolor": "white",
          "plot_bgcolor": "#E5ECF6",
          "polar": {
           "angularaxis": {
            "gridcolor": "white",
            "linecolor": "white",
            "ticks": ""
           },
           "bgcolor": "#E5ECF6",
           "radialaxis": {
            "gridcolor": "white",
            "linecolor": "white",
            "ticks": ""
           }
          },
          "scene": {
           "xaxis": {
            "backgroundcolor": "#E5ECF6",
            "gridcolor": "white",
            "gridwidth": 2,
            "linecolor": "white",
            "showbackground": true,
            "ticks": "",
            "zerolinecolor": "white"
           },
           "yaxis": {
            "backgroundcolor": "#E5ECF6",
            "gridcolor": "white",
            "gridwidth": 2,
            "linecolor": "white",
            "showbackground": true,
            "ticks": "",
            "zerolinecolor": "white"
           },
           "zaxis": {
            "backgroundcolor": "#E5ECF6",
            "gridcolor": "white",
            "gridwidth": 2,
            "linecolor": "white",
            "showbackground": true,
            "ticks": "",
            "zerolinecolor": "white"
           }
          },
          "shapedefaults": {
           "line": {
            "color": "#2a3f5f"
           }
          },
          "ternary": {
           "aaxis": {
            "gridcolor": "white",
            "linecolor": "white",
            "ticks": ""
           },
           "baxis": {
            "gridcolor": "white",
            "linecolor": "white",
            "ticks": ""
           },
           "bgcolor": "#E5ECF6",
           "caxis": {
            "gridcolor": "white",
            "linecolor": "white",
            "ticks": ""
           }
          },
          "title": {
           "x": 0.05
          },
          "xaxis": {
           "automargin": true,
           "gridcolor": "white",
           "linecolor": "white",
           "ticks": "",
           "title": {
            "standoff": 15
           },
           "zerolinecolor": "white",
           "zerolinewidth": 2
          },
          "yaxis": {
           "automargin": true,
           "gridcolor": "white",
           "linecolor": "white",
           "ticks": "",
           "title": {
            "standoff": 15
           },
           "zerolinecolor": "white",
           "zerolinewidth": 2
          }
         }
        },
        "xaxis": {
         "anchor": "y",
         "domain": [
          0,
          1
         ],
         "title": {
          "text": "bmi"
         }
        },
        "yaxis": {
         "anchor": "x",
         "domain": [
          0,
          1
         ],
         "title": {
          "text": "charges"
         }
        }
       }
      }
     },
     "metadata": {},
     "output_type": "display_data"
    }
   ],
   "source": [
    "px.scatter(df[(df.sex=='female')&(df.smoker=='no')], x='bmi', y='charges', color='age')"
   ]
  },
  {
   "cell_type": "code",
   "execution_count": 128,
   "metadata": {},
   "outputs": [
    {
     "data": {
      "application/vnd.plotly.v1+json": {
       "config": {
        "plotlyServerURL": "https://plot.ly"
       },
       "data": [
        {
         "alignmentgroup": "True",
         "bingroup": "x",
         "histfunc": "sum",
         "hovertemplate": "sex=%{x}<br>sum of smoker=%{y}<extra></extra>",
         "legendgroup": "1",
         "marker": {
          "color": "#636efa",
          "pattern": {
           "shape": ""
          }
         },
         "name": "1",
         "offsetgroup": "1",
         "orientation": "v",
         "showlegend": true,
         "type": "histogram",
         "x": [
          1,
          1,
          1,
          1,
          1,
          1,
          1,
          1,
          1,
          1,
          1,
          1,
          1,
          1,
          1,
          1,
          1,
          1,
          1,
          1,
          1,
          1,
          1,
          1,
          1,
          1,
          1,
          1,
          1,
          1,
          1,
          1,
          1,
          1,
          1,
          1,
          1,
          1,
          1,
          1,
          1,
          1,
          1,
          1,
          1,
          1,
          1,
          1,
          1,
          1,
          1,
          1,
          1,
          1,
          1,
          1,
          1,
          1,
          1,
          1,
          1,
          1,
          1,
          1,
          1,
          1,
          1,
          1,
          1,
          1,
          1,
          1,
          1,
          1,
          1,
          1,
          1,
          1,
          1,
          1,
          1,
          1,
          1,
          1,
          1,
          1,
          1,
          1,
          1,
          1,
          1,
          1,
          1,
          1,
          1,
          1,
          1,
          1,
          1,
          1,
          1,
          1,
          1,
          1,
          1,
          1,
          1,
          1,
          1,
          1,
          1,
          1,
          1,
          1,
          1,
          1,
          1,
          1,
          1,
          1,
          1,
          1,
          1,
          1,
          1,
          1,
          1,
          1,
          1,
          1,
          1,
          1,
          1,
          1,
          1,
          1,
          1,
          1,
          1,
          1,
          1,
          1,
          1,
          1,
          1,
          1,
          1,
          1,
          1,
          1,
          1,
          1,
          1,
          1,
          1,
          1,
          1,
          1,
          1,
          1,
          1,
          1,
          1,
          1,
          1,
          1,
          1,
          1,
          1,
          1,
          1,
          1,
          1,
          1,
          1,
          1,
          1,
          1,
          1,
          1,
          1,
          1,
          1,
          1,
          1,
          1,
          1,
          1,
          1,
          1,
          1,
          1,
          1,
          1,
          1,
          1,
          1,
          1,
          1,
          1,
          1,
          1,
          1,
          1,
          1,
          1,
          1,
          1,
          1,
          1,
          1,
          1,
          1,
          1,
          1,
          1,
          1,
          1,
          1,
          1,
          1,
          1,
          1,
          1,
          1,
          1,
          1,
          1,
          1,
          1,
          1,
          1,
          1,
          1,
          1,
          1,
          1,
          1,
          1,
          1,
          1,
          1,
          1,
          1,
          1,
          1,
          1,
          1,
          1,
          1,
          1,
          1,
          1,
          1,
          1,
          1,
          1,
          1,
          1,
          1,
          1,
          1,
          1,
          1,
          1,
          1,
          1,
          1,
          1,
          1,
          1,
          1,
          1,
          1,
          1,
          1,
          1,
          1,
          1,
          1,
          1,
          1,
          1,
          1,
          1,
          1,
          1,
          1,
          1,
          1,
          1,
          1,
          1,
          1,
          1,
          1,
          1,
          1,
          1,
          1,
          1,
          1,
          1,
          1,
          1,
          1,
          1,
          1,
          1,
          1,
          1,
          1,
          1,
          1,
          1,
          1,
          1,
          1,
          1,
          1,
          1,
          1,
          1,
          1,
          1,
          1,
          1,
          1,
          1,
          1,
          1,
          1,
          1,
          1,
          1,
          1,
          1,
          1,
          1,
          1,
          1,
          1,
          1,
          1,
          1,
          1,
          1,
          1,
          1,
          1,
          1,
          1,
          1,
          1,
          1,
          1,
          1,
          1,
          1,
          1,
          1,
          1,
          1,
          1,
          1,
          1,
          1,
          1,
          1,
          1,
          1,
          1,
          1,
          1,
          1,
          1,
          1,
          1,
          1,
          1,
          1,
          1,
          1,
          1,
          1,
          1,
          1,
          1,
          1,
          1,
          1,
          1,
          1,
          1,
          1,
          1,
          1,
          1,
          1,
          1,
          1,
          1,
          1,
          1,
          1,
          1,
          1,
          1,
          1,
          1,
          1,
          1,
          1,
          1,
          1,
          1,
          1,
          1,
          1,
          1,
          1,
          1,
          1,
          1,
          1,
          1,
          1,
          1,
          1,
          1,
          1,
          1,
          1,
          1,
          1,
          1,
          1,
          1,
          1,
          1,
          1,
          1,
          1,
          1,
          1,
          1,
          1,
          1,
          1,
          1,
          1,
          1,
          1,
          1,
          1,
          1,
          1,
          1,
          1,
          1,
          1,
          1,
          1,
          1,
          1,
          1,
          1,
          1,
          1,
          1,
          1,
          1,
          1,
          1,
          1,
          1,
          1,
          1,
          1,
          1,
          1,
          1,
          1,
          1,
          1,
          1,
          1,
          1,
          1,
          1,
          1,
          1,
          1,
          1,
          1,
          1,
          1,
          1,
          1,
          1,
          1,
          1,
          1,
          1,
          1,
          1,
          1,
          1,
          1,
          1,
          1,
          1,
          1,
          1,
          1,
          1,
          1,
          1,
          1,
          1,
          1,
          1,
          1,
          1,
          1,
          1,
          1,
          1,
          1,
          1,
          1,
          1,
          1,
          1,
          1,
          1,
          1,
          1,
          1,
          1,
          1,
          1,
          1,
          1,
          1,
          1,
          1,
          1,
          1,
          1,
          1,
          1,
          1,
          1,
          1,
          1,
          1,
          1,
          1,
          1,
          1,
          1,
          1,
          1,
          1,
          1,
          1,
          1,
          1,
          1,
          1,
          1,
          1,
          1,
          1,
          1,
          1,
          1,
          1,
          1,
          1,
          1,
          1,
          1,
          1,
          1,
          1,
          1,
          1,
          1,
          1,
          1,
          1,
          1,
          1,
          1,
          1,
          1,
          1,
          1,
          1,
          1,
          1,
          1,
          1,
          1,
          1,
          1,
          1,
          1,
          1,
          1,
          1,
          1,
          1,
          1,
          1,
          1,
          1,
          1,
          1,
          1,
          1,
          1,
          1,
          1,
          1,
          1,
          1,
          1,
          1,
          1,
          1,
          1,
          1,
          1,
          1,
          1,
          1,
          1,
          1,
          1,
          1,
          1,
          1,
          1,
          1,
          1,
          1,
          1,
          1,
          1,
          1,
          1,
          1,
          1,
          1,
          1,
          1,
          1,
          1,
          1
         ],
         "xaxis": "x",
         "y": [
          1,
          0,
          0,
          0,
          0,
          1,
          0,
          0,
          0,
          0,
          1,
          0,
          0,
          0,
          0,
          0,
          0,
          0,
          0,
          0,
          0,
          0,
          0,
          0,
          0,
          0,
          0,
          1,
          0,
          0,
          1,
          0,
          0,
          0,
          1,
          0,
          0,
          0,
          0,
          0,
          0,
          1,
          1,
          0,
          0,
          0,
          0,
          0,
          1,
          0,
          0,
          0,
          0,
          1,
          0,
          0,
          0,
          0,
          1,
          0,
          0,
          0,
          0,
          0,
          1,
          0,
          1,
          0,
          0,
          0,
          0,
          0,
          0,
          0,
          0,
          0,
          0,
          0,
          1,
          0,
          0,
          1,
          1,
          0,
          0,
          0,
          0,
          0,
          0,
          1,
          0,
          0,
          0,
          0,
          0,
          0,
          0,
          0,
          0,
          0,
          0,
          0,
          0,
          0,
          0,
          0,
          0,
          1,
          0,
          0,
          0,
          0,
          0,
          0,
          0,
          0,
          0,
          0,
          0,
          0,
          0,
          0,
          0,
          1,
          0,
          1,
          0,
          0,
          1,
          0,
          1,
          0,
          0,
          0,
          1,
          0,
          0,
          0,
          0,
          0,
          1,
          0,
          0,
          0,
          0,
          1,
          0,
          0,
          0,
          1,
          0,
          0,
          0,
          0,
          0,
          0,
          0,
          1,
          0,
          0,
          0,
          1,
          1,
          0,
          0,
          0,
          0,
          0,
          0,
          0,
          0,
          0,
          0,
          0,
          0,
          0,
          0,
          0,
          1,
          0,
          0,
          0,
          0,
          0,
          0,
          0,
          0,
          1,
          1,
          0,
          1,
          0,
          0,
          0,
          0,
          0,
          0,
          0,
          0,
          0,
          0,
          0,
          0,
          0,
          1,
          1,
          0,
          0,
          1,
          1,
          0,
          0,
          0,
          0,
          0,
          0,
          0,
          0,
          1,
          0,
          0,
          0,
          0,
          0,
          0,
          0,
          0,
          0,
          1,
          0,
          0,
          0,
          0,
          0,
          0,
          0,
          0,
          0,
          0,
          0,
          1,
          0,
          0,
          0,
          0,
          0,
          0,
          0,
          0,
          0,
          0,
          0,
          0,
          0,
          0,
          0,
          0,
          0,
          0,
          0,
          0,
          0,
          0,
          0,
          0,
          1,
          0,
          0,
          1,
          0,
          0,
          0,
          1,
          0,
          0,
          0,
          0,
          0,
          0,
          0,
          0,
          0,
          0,
          0,
          0,
          1,
          0,
          0,
          0,
          1,
          0,
          0,
          0,
          1,
          0,
          0,
          0,
          0,
          0,
          0,
          0,
          1,
          0,
          0,
          1,
          0,
          0,
          0,
          0,
          0,
          1,
          0,
          1,
          0,
          0,
          0,
          1,
          0,
          0,
          0,
          0,
          0,
          0,
          0,
          0,
          0,
          0,
          0,
          1,
          0,
          0,
          0,
          0,
          0,
          1,
          1,
          0,
          0,
          0,
          1,
          0,
          0,
          0,
          0,
          0,
          0,
          0,
          0,
          0,
          0,
          0,
          0,
          0,
          0,
          1,
          0,
          0,
          0,
          0,
          0,
          0,
          0,
          0,
          0,
          0,
          1,
          1,
          0,
          0,
          0,
          0,
          0,
          0,
          1,
          0,
          0,
          0,
          1,
          0,
          0,
          1,
          0,
          0,
          0,
          0,
          0,
          0,
          0,
          0,
          1,
          1,
          0,
          0,
          0,
          0,
          0,
          0,
          0,
          0,
          0,
          0,
          1,
          0,
          0,
          0,
          0,
          0,
          0,
          0,
          1,
          1,
          0,
          0,
          0,
          0,
          0,
          0,
          0,
          0,
          1,
          1,
          1,
          0,
          0,
          1,
          1,
          0,
          1,
          0,
          1,
          0,
          1,
          0,
          0,
          0,
          0,
          0,
          0,
          0,
          0,
          0,
          1,
          0,
          1,
          0,
          0,
          1,
          0,
          0,
          0,
          0,
          0,
          1,
          0,
          0,
          0,
          1,
          0,
          0,
          0,
          0,
          0,
          0,
          0,
          0,
          0,
          0,
          0,
          0,
          0,
          0,
          0,
          0,
          0,
          0,
          0,
          0,
          0,
          0,
          0,
          0,
          0,
          0,
          0,
          0,
          1,
          0,
          0,
          0,
          1,
          0,
          0,
          0,
          0,
          0,
          0,
          0,
          0,
          0,
          0,
          0,
          0,
          1,
          0,
          0,
          0,
          1,
          1,
          0,
          0,
          1,
          1,
          0,
          1,
          0,
          0,
          0,
          0,
          0,
          0,
          0,
          0,
          0,
          0,
          0,
          0,
          0,
          0,
          0,
          1,
          0,
          1,
          0,
          0,
          1,
          0,
          0,
          1,
          0,
          0,
          0,
          0,
          1,
          0,
          0,
          1,
          1,
          0,
          1,
          0,
          0,
          0,
          0,
          0,
          0,
          0,
          0,
          1,
          0,
          0,
          0,
          0,
          0,
          1,
          0,
          0,
          0,
          0,
          0,
          0,
          0,
          0,
          0,
          0,
          0,
          0,
          1,
          0,
          0,
          1,
          0,
          0,
          0,
          0,
          0,
          0,
          1,
          0,
          1,
          0,
          0,
          0,
          0,
          0,
          0,
          0,
          1,
          0,
          1,
          0,
          1,
          0,
          0,
          1,
          0,
          0,
          1,
          0,
          1,
          0,
          0,
          0,
          0,
          0,
          0,
          0,
          0,
          0,
          0,
          0,
          0,
          0,
          0,
          0,
          0,
          0,
          0,
          0,
          0,
          0,
          0,
          0,
          0,
          0,
          0,
          1,
          1,
          0,
          0,
          0,
          0,
          0,
          0,
          0,
          0,
          1,
          1,
          0,
          1,
          1,
          0,
          0,
          1,
          0,
          0,
          0,
          0,
          0,
          0,
          0,
          0,
          1
         ],
         "yaxis": "y"
        },
        {
         "alignmentgroup": "True",
         "bingroup": "x",
         "histfunc": "sum",
         "hovertemplate": "sex=%{x}<br>sum of smoker=%{y}<extra></extra>",
         "legendgroup": "0",
         "marker": {
          "color": "#EF553B",
          "pattern": {
           "shape": ""
          }
         },
         "name": "0",
         "offsetgroup": "0",
         "orientation": "v",
         "showlegend": true,
         "type": "histogram",
         "x": [
          0,
          0,
          0,
          0,
          0,
          0,
          0,
          0,
          0,
          0,
          0,
          0,
          0,
          0,
          0,
          0,
          0,
          0,
          0,
          0,
          0,
          0,
          0,
          0,
          0,
          0,
          0,
          0,
          0,
          0,
          0,
          0,
          0,
          0,
          0,
          0,
          0,
          0,
          0,
          0,
          0,
          0,
          0,
          0,
          0,
          0,
          0,
          0,
          0,
          0,
          0,
          0,
          0,
          0,
          0,
          0,
          0,
          0,
          0,
          0,
          0,
          0,
          0,
          0,
          0,
          0,
          0,
          0,
          0,
          0,
          0,
          0,
          0,
          0,
          0,
          0,
          0,
          0,
          0,
          0,
          0,
          0,
          0,
          0,
          0,
          0,
          0,
          0,
          0,
          0,
          0,
          0,
          0,
          0,
          0,
          0,
          0,
          0,
          0,
          0,
          0,
          0,
          0,
          0,
          0,
          0,
          0,
          0,
          0,
          0,
          0,
          0,
          0,
          0,
          0,
          0,
          0,
          0,
          0,
          0,
          0,
          0,
          0,
          0,
          0,
          0,
          0,
          0,
          0,
          0,
          0,
          0,
          0,
          0,
          0,
          0,
          0,
          0,
          0,
          0,
          0,
          0,
          0,
          0,
          0,
          0,
          0,
          0,
          0,
          0,
          0,
          0,
          0,
          0,
          0,
          0,
          0,
          0,
          0,
          0,
          0,
          0,
          0,
          0,
          0,
          0,
          0,
          0,
          0,
          0,
          0,
          0,
          0,
          0,
          0,
          0,
          0,
          0,
          0,
          0,
          0,
          0,
          0,
          0,
          0,
          0,
          0,
          0,
          0,
          0,
          0,
          0,
          0,
          0,
          0,
          0,
          0,
          0,
          0,
          0,
          0,
          0,
          0,
          0,
          0,
          0,
          0,
          0,
          0,
          0,
          0,
          0,
          0,
          0,
          0,
          0,
          0,
          0,
          0,
          0,
          0,
          0,
          0,
          0,
          0,
          0,
          0,
          0,
          0,
          0,
          0,
          0,
          0,
          0,
          0,
          0,
          0,
          0,
          0,
          0,
          0,
          0,
          0,
          0,
          0,
          0,
          0,
          0,
          0,
          0,
          0,
          0,
          0,
          0,
          0,
          0,
          0,
          0,
          0,
          0,
          0,
          0,
          0,
          0,
          0,
          0,
          0,
          0,
          0,
          0,
          0,
          0,
          0,
          0,
          0,
          0,
          0,
          0,
          0,
          0,
          0,
          0,
          0,
          0,
          0,
          0,
          0,
          0,
          0,
          0,
          0,
          0,
          0,
          0,
          0,
          0,
          0,
          0,
          0,
          0,
          0,
          0,
          0,
          0,
          0,
          0,
          0,
          0,
          0,
          0,
          0,
          0,
          0,
          0,
          0,
          0,
          0,
          0,
          0,
          0,
          0,
          0,
          0,
          0,
          0,
          0,
          0,
          0,
          0,
          0,
          0,
          0,
          0,
          0,
          0,
          0,
          0,
          0,
          0,
          0,
          0,
          0,
          0,
          0,
          0,
          0,
          0,
          0,
          0,
          0,
          0,
          0,
          0,
          0,
          0,
          0,
          0,
          0,
          0,
          0,
          0,
          0,
          0,
          0,
          0,
          0,
          0,
          0,
          0,
          0,
          0,
          0,
          0,
          0,
          0,
          0,
          0,
          0,
          0,
          0,
          0,
          0,
          0,
          0,
          0,
          0,
          0,
          0,
          0,
          0,
          0,
          0,
          0,
          0,
          0,
          0,
          0,
          0,
          0,
          0,
          0,
          0,
          0,
          0,
          0,
          0,
          0,
          0,
          0,
          0,
          0,
          0,
          0,
          0,
          0,
          0,
          0,
          0,
          0,
          0,
          0,
          0,
          0,
          0,
          0,
          0,
          0,
          0,
          0,
          0,
          0,
          0,
          0,
          0,
          0,
          0,
          0,
          0,
          0,
          0,
          0,
          0,
          0,
          0,
          0,
          0,
          0,
          0,
          0,
          0,
          0,
          0,
          0,
          0,
          0,
          0,
          0,
          0,
          0,
          0,
          0,
          0,
          0,
          0,
          0,
          0,
          0,
          0,
          0,
          0,
          0,
          0,
          0,
          0,
          0,
          0,
          0,
          0,
          0,
          0,
          0,
          0,
          0,
          0,
          0,
          0,
          0,
          0,
          0,
          0,
          0,
          0,
          0,
          0,
          0,
          0,
          0,
          0,
          0,
          0,
          0,
          0,
          0,
          0,
          0,
          0,
          0,
          0,
          0,
          0,
          0,
          0,
          0,
          0,
          0,
          0,
          0,
          0,
          0,
          0,
          0,
          0,
          0,
          0,
          0,
          0,
          0,
          0,
          0,
          0,
          0,
          0,
          0,
          0,
          0,
          0,
          0,
          0,
          0,
          0,
          0,
          0,
          0,
          0,
          0,
          0,
          0,
          0,
          0,
          0,
          0,
          0,
          0,
          0,
          0,
          0,
          0,
          0,
          0,
          0,
          0,
          0,
          0,
          0,
          0,
          0,
          0,
          0,
          0,
          0,
          0,
          0,
          0,
          0,
          0,
          0,
          0,
          0,
          0,
          0,
          0,
          0,
          0,
          0,
          0,
          0,
          0,
          0,
          0,
          0,
          0,
          0,
          0,
          0,
          0,
          0,
          0,
          0,
          0,
          0,
          0,
          0,
          0,
          0,
          0,
          0,
          0,
          0,
          0,
          0,
          0,
          0,
          0,
          0,
          0,
          0,
          0,
          0,
          0,
          0,
          0,
          0,
          0,
          0,
          0,
          0,
          0,
          0,
          0,
          0,
          0,
          0,
          0,
          0,
          0,
          0,
          0,
          0,
          0,
          0,
          0,
          0,
          0,
          0,
          0,
          0,
          0,
          0,
          0,
          0,
          0,
          0,
          0,
          0,
          0,
          0,
          0,
          0,
          0,
          0,
          0,
          0,
          0,
          0,
          0,
          0,
          0,
          0,
          0,
          0,
          0,
          0,
          0,
          0,
          0,
          0
         ],
         "xaxis": "x",
         "y": [
          0,
          0,
          0,
          0,
          0,
          0,
          0,
          1,
          0,
          0,
          0,
          1,
          0,
          0,
          0,
          1,
          1,
          0,
          1,
          0,
          0,
          1,
          1,
          0,
          0,
          0,
          1,
          1,
          1,
          1,
          1,
          0,
          0,
          0,
          0,
          1,
          0,
          0,
          0,
          0,
          0,
          0,
          1,
          1,
          1,
          0,
          0,
          1,
          1,
          0,
          1,
          0,
          0,
          1,
          0,
          0,
          0,
          0,
          0,
          0,
          0,
          1,
          0,
          0,
          0,
          0,
          0,
          0,
          1,
          0,
          1,
          1,
          0,
          0,
          0,
          0,
          1,
          1,
          1,
          0,
          0,
          0,
          0,
          0,
          0,
          0,
          0,
          0,
          0,
          0,
          0,
          1,
          0,
          0,
          0,
          0,
          0,
          0,
          1,
          0,
          0,
          0,
          0,
          0,
          0,
          1,
          1,
          0,
          0,
          0,
          0,
          0,
          0,
          1,
          0,
          0,
          0,
          0,
          0,
          0,
          1,
          1,
          0,
          1,
          1,
          0,
          1,
          1,
          1,
          1,
          1,
          0,
          0,
          0,
          1,
          0,
          0,
          0,
          0,
          0,
          1,
          0,
          0,
          0,
          0,
          1,
          0,
          0,
          1,
          1,
          1,
          0,
          0,
          0,
          0,
          1,
          0,
          0,
          0,
          0,
          0,
          0,
          1,
          0,
          0,
          0,
          1,
          0,
          1,
          0,
          0,
          0,
          1,
          0,
          0,
          0,
          0,
          0,
          0,
          0,
          0,
          0,
          0,
          0,
          0,
          0,
          1,
          0,
          1,
          0,
          1,
          0,
          0,
          0,
          0,
          0,
          0,
          0,
          0,
          0,
          0,
          0,
          0,
          0,
          0,
          0,
          0,
          0,
          0,
          0,
          1,
          1,
          1,
          0,
          0,
          0,
          0,
          0,
          0,
          0,
          0,
          0,
          0,
          0,
          1,
          0,
          0,
          0,
          0,
          0,
          0,
          0,
          0,
          0,
          1,
          0,
          0,
          0,
          1,
          1,
          1,
          0,
          0,
          0,
          0,
          0,
          0,
          0,
          0,
          0,
          1,
          0,
          0,
          1,
          0,
          1,
          1,
          0,
          0,
          0,
          0,
          0,
          0,
          0,
          1,
          0,
          0,
          0,
          0,
          1,
          0,
          0,
          1,
          0,
          0,
          0,
          0,
          0,
          0,
          1,
          0,
          0,
          0,
          0,
          0,
          0,
          0,
          0,
          0,
          0,
          1,
          0,
          0,
          0,
          0,
          0,
          0,
          0,
          0,
          0,
          0,
          0,
          0,
          0,
          1,
          1,
          0,
          1,
          1,
          0,
          0,
          0,
          0,
          0,
          0,
          0,
          0,
          0,
          1,
          0,
          0,
          1,
          0,
          0,
          0,
          0,
          0,
          0,
          0,
          0,
          1,
          0,
          1,
          0,
          0,
          0,
          1,
          0,
          0,
          1,
          0,
          0,
          0,
          0,
          1,
          0,
          0,
          0,
          0,
          1,
          0,
          0,
          0,
          0,
          0,
          0,
          0,
          0,
          0,
          0,
          0,
          1,
          0,
          0,
          1,
          1,
          0,
          1,
          1,
          0,
          0,
          0,
          0,
          0,
          0,
          0,
          0,
          0,
          1,
          0,
          1,
          0,
          0,
          0,
          0,
          0,
          0,
          0,
          0,
          0,
          1,
          0,
          0,
          0,
          0,
          0,
          0,
          1,
          1,
          0,
          1,
          0,
          0,
          0,
          0,
          0,
          0,
          0,
          0,
          0,
          0,
          0,
          1,
          1,
          1,
          0,
          0,
          0,
          0,
          0,
          0,
          0,
          0,
          0,
          0,
          0,
          0,
          1,
          0,
          0,
          0,
          0,
          0,
          0,
          0,
          0,
          0,
          0,
          0,
          0,
          0,
          0,
          0,
          1,
          1,
          0,
          0,
          0,
          1,
          0,
          0,
          0,
          1,
          0,
          0,
          0,
          0,
          0,
          1,
          0,
          1,
          0,
          0,
          0,
          0,
          0,
          0,
          0,
          0,
          0,
          0,
          0,
          0,
          0,
          0,
          0,
          1,
          0,
          1,
          0,
          1,
          1,
          1,
          0,
          1,
          0,
          1,
          0,
          0,
          0,
          0,
          1,
          0,
          0,
          0,
          1,
          0,
          0,
          0,
          0,
          1,
          0,
          0,
          0,
          0,
          1,
          1,
          0,
          0,
          0,
          0,
          0,
          1,
          0,
          0,
          1,
          0,
          0,
          0,
          1,
          0,
          1,
          0,
          0,
          1,
          0,
          1,
          0,
          0,
          0,
          1,
          0,
          1,
          1,
          0,
          0,
          1,
          0,
          0,
          0,
          0,
          1,
          0,
          0,
          0,
          0,
          1,
          0,
          0,
          0,
          1,
          0,
          0,
          0,
          0,
          0,
          0,
          0,
          0,
          0,
          1,
          0,
          0,
          0,
          0,
          0,
          0,
          0,
          0,
          1,
          0,
          0,
          0,
          1,
          1,
          0,
          0,
          0,
          0,
          0,
          0,
          0,
          0,
          0,
          0,
          0,
          1,
          0,
          0,
          1,
          0,
          0,
          0,
          0,
          1,
          0,
          0,
          1,
          0,
          1,
          0,
          0,
          0,
          0,
          0,
          0,
          0,
          1,
          0,
          0,
          0,
          0,
          0,
          0,
          0,
          0,
          0,
          0,
          0,
          0,
          0,
          0,
          1,
          0,
          0,
          0,
          1,
          1,
          0,
          0,
          0,
          1,
          1,
          0,
          1,
          0,
          0,
          1,
          1,
          0,
          0,
          0,
          0,
          1,
          0,
          1,
          0,
          1,
          1,
          0,
          1,
          0,
          0,
          0,
          0,
          0,
          0,
          1,
          1,
          1,
          1,
          1,
          0,
          0,
          0,
          0,
          0,
          0,
          0,
          1,
          0,
          0,
          0,
          0,
          0,
          0
         ],
         "yaxis": "y"
        }
       ],
       "layout": {
        "barmode": "relative",
        "legend": {
         "title": {
          "text": "sex"
         },
         "tracegroupgap": 0
        },
        "margin": {
         "t": 60
        },
        "template": {
         "data": {
          "bar": [
           {
            "error_x": {
             "color": "#2a3f5f"
            },
            "error_y": {
             "color": "#2a3f5f"
            },
            "marker": {
             "line": {
              "color": "#E5ECF6",
              "width": 0.5
             },
             "pattern": {
              "fillmode": "overlay",
              "size": 10,
              "solidity": 0.2
             }
            },
            "type": "bar"
           }
          ],
          "barpolar": [
           {
            "marker": {
             "line": {
              "color": "#E5ECF6",
              "width": 0.5
             },
             "pattern": {
              "fillmode": "overlay",
              "size": 10,
              "solidity": 0.2
             }
            },
            "type": "barpolar"
           }
          ],
          "carpet": [
           {
            "aaxis": {
             "endlinecolor": "#2a3f5f",
             "gridcolor": "white",
             "linecolor": "white",
             "minorgridcolor": "white",
             "startlinecolor": "#2a3f5f"
            },
            "baxis": {
             "endlinecolor": "#2a3f5f",
             "gridcolor": "white",
             "linecolor": "white",
             "minorgridcolor": "white",
             "startlinecolor": "#2a3f5f"
            },
            "type": "carpet"
           }
          ],
          "choropleth": [
           {
            "colorbar": {
             "outlinewidth": 0,
             "ticks": ""
            },
            "type": "choropleth"
           }
          ],
          "contour": [
           {
            "colorbar": {
             "outlinewidth": 0,
             "ticks": ""
            },
            "colorscale": [
             [
              0,
              "#0d0887"
             ],
             [
              0.1111111111111111,
              "#46039f"
             ],
             [
              0.2222222222222222,
              "#7201a8"
             ],
             [
              0.3333333333333333,
              "#9c179e"
             ],
             [
              0.4444444444444444,
              "#bd3786"
             ],
             [
              0.5555555555555556,
              "#d8576b"
             ],
             [
              0.6666666666666666,
              "#ed7953"
             ],
             [
              0.7777777777777778,
              "#fb9f3a"
             ],
             [
              0.8888888888888888,
              "#fdca26"
             ],
             [
              1,
              "#f0f921"
             ]
            ],
            "type": "contour"
           }
          ],
          "contourcarpet": [
           {
            "colorbar": {
             "outlinewidth": 0,
             "ticks": ""
            },
            "type": "contourcarpet"
           }
          ],
          "heatmap": [
           {
            "colorbar": {
             "outlinewidth": 0,
             "ticks": ""
            },
            "colorscale": [
             [
              0,
              "#0d0887"
             ],
             [
              0.1111111111111111,
              "#46039f"
             ],
             [
              0.2222222222222222,
              "#7201a8"
             ],
             [
              0.3333333333333333,
              "#9c179e"
             ],
             [
              0.4444444444444444,
              "#bd3786"
             ],
             [
              0.5555555555555556,
              "#d8576b"
             ],
             [
              0.6666666666666666,
              "#ed7953"
             ],
             [
              0.7777777777777778,
              "#fb9f3a"
             ],
             [
              0.8888888888888888,
              "#fdca26"
             ],
             [
              1,
              "#f0f921"
             ]
            ],
            "type": "heatmap"
           }
          ],
          "heatmapgl": [
           {
            "colorbar": {
             "outlinewidth": 0,
             "ticks": ""
            },
            "colorscale": [
             [
              0,
              "#0d0887"
             ],
             [
              0.1111111111111111,
              "#46039f"
             ],
             [
              0.2222222222222222,
              "#7201a8"
             ],
             [
              0.3333333333333333,
              "#9c179e"
             ],
             [
              0.4444444444444444,
              "#bd3786"
             ],
             [
              0.5555555555555556,
              "#d8576b"
             ],
             [
              0.6666666666666666,
              "#ed7953"
             ],
             [
              0.7777777777777778,
              "#fb9f3a"
             ],
             [
              0.8888888888888888,
              "#fdca26"
             ],
             [
              1,
              "#f0f921"
             ]
            ],
            "type": "heatmapgl"
           }
          ],
          "histogram": [
           {
            "marker": {
             "pattern": {
              "fillmode": "overlay",
              "size": 10,
              "solidity": 0.2
             }
            },
            "type": "histogram"
           }
          ],
          "histogram2d": [
           {
            "colorbar": {
             "outlinewidth": 0,
             "ticks": ""
            },
            "colorscale": [
             [
              0,
              "#0d0887"
             ],
             [
              0.1111111111111111,
              "#46039f"
             ],
             [
              0.2222222222222222,
              "#7201a8"
             ],
             [
              0.3333333333333333,
              "#9c179e"
             ],
             [
              0.4444444444444444,
              "#bd3786"
             ],
             [
              0.5555555555555556,
              "#d8576b"
             ],
             [
              0.6666666666666666,
              "#ed7953"
             ],
             [
              0.7777777777777778,
              "#fb9f3a"
             ],
             [
              0.8888888888888888,
              "#fdca26"
             ],
             [
              1,
              "#f0f921"
             ]
            ],
            "type": "histogram2d"
           }
          ],
          "histogram2dcontour": [
           {
            "colorbar": {
             "outlinewidth": 0,
             "ticks": ""
            },
            "colorscale": [
             [
              0,
              "#0d0887"
             ],
             [
              0.1111111111111111,
              "#46039f"
             ],
             [
              0.2222222222222222,
              "#7201a8"
             ],
             [
              0.3333333333333333,
              "#9c179e"
             ],
             [
              0.4444444444444444,
              "#bd3786"
             ],
             [
              0.5555555555555556,
              "#d8576b"
             ],
             [
              0.6666666666666666,
              "#ed7953"
             ],
             [
              0.7777777777777778,
              "#fb9f3a"
             ],
             [
              0.8888888888888888,
              "#fdca26"
             ],
             [
              1,
              "#f0f921"
             ]
            ],
            "type": "histogram2dcontour"
           }
          ],
          "mesh3d": [
           {
            "colorbar": {
             "outlinewidth": 0,
             "ticks": ""
            },
            "type": "mesh3d"
           }
          ],
          "parcoords": [
           {
            "line": {
             "colorbar": {
              "outlinewidth": 0,
              "ticks": ""
             }
            },
            "type": "parcoords"
           }
          ],
          "pie": [
           {
            "automargin": true,
            "type": "pie"
           }
          ],
          "scatter": [
           {
            "fillpattern": {
             "fillmode": "overlay",
             "size": 10,
             "solidity": 0.2
            },
            "type": "scatter"
           }
          ],
          "scatter3d": [
           {
            "line": {
             "colorbar": {
              "outlinewidth": 0,
              "ticks": ""
             }
            },
            "marker": {
             "colorbar": {
              "outlinewidth": 0,
              "ticks": ""
             }
            },
            "type": "scatter3d"
           }
          ],
          "scattercarpet": [
           {
            "marker": {
             "colorbar": {
              "outlinewidth": 0,
              "ticks": ""
             }
            },
            "type": "scattercarpet"
           }
          ],
          "scattergeo": [
           {
            "marker": {
             "colorbar": {
              "outlinewidth": 0,
              "ticks": ""
             }
            },
            "type": "scattergeo"
           }
          ],
          "scattergl": [
           {
            "marker": {
             "colorbar": {
              "outlinewidth": 0,
              "ticks": ""
             }
            },
            "type": "scattergl"
           }
          ],
          "scattermapbox": [
           {
            "marker": {
             "colorbar": {
              "outlinewidth": 0,
              "ticks": ""
             }
            },
            "type": "scattermapbox"
           }
          ],
          "scatterpolar": [
           {
            "marker": {
             "colorbar": {
              "outlinewidth": 0,
              "ticks": ""
             }
            },
            "type": "scatterpolar"
           }
          ],
          "scatterpolargl": [
           {
            "marker": {
             "colorbar": {
              "outlinewidth": 0,
              "ticks": ""
             }
            },
            "type": "scatterpolargl"
           }
          ],
          "scatterternary": [
           {
            "marker": {
             "colorbar": {
              "outlinewidth": 0,
              "ticks": ""
             }
            },
            "type": "scatterternary"
           }
          ],
          "surface": [
           {
            "colorbar": {
             "outlinewidth": 0,
             "ticks": ""
            },
            "colorscale": [
             [
              0,
              "#0d0887"
             ],
             [
              0.1111111111111111,
              "#46039f"
             ],
             [
              0.2222222222222222,
              "#7201a8"
             ],
             [
              0.3333333333333333,
              "#9c179e"
             ],
             [
              0.4444444444444444,
              "#bd3786"
             ],
             [
              0.5555555555555556,
              "#d8576b"
             ],
             [
              0.6666666666666666,
              "#ed7953"
             ],
             [
              0.7777777777777778,
              "#fb9f3a"
             ],
             [
              0.8888888888888888,
              "#fdca26"
             ],
             [
              1,
              "#f0f921"
             ]
            ],
            "type": "surface"
           }
          ],
          "table": [
           {
            "cells": {
             "fill": {
              "color": "#EBF0F8"
             },
             "line": {
              "color": "white"
             }
            },
            "header": {
             "fill": {
              "color": "#C8D4E3"
             },
             "line": {
              "color": "white"
             }
            },
            "type": "table"
           }
          ]
         },
         "layout": {
          "annotationdefaults": {
           "arrowcolor": "#2a3f5f",
           "arrowhead": 0,
           "arrowwidth": 1
          },
          "autotypenumbers": "strict",
          "coloraxis": {
           "colorbar": {
            "outlinewidth": 0,
            "ticks": ""
           }
          },
          "colorscale": {
           "diverging": [
            [
             0,
             "#8e0152"
            ],
            [
             0.1,
             "#c51b7d"
            ],
            [
             0.2,
             "#de77ae"
            ],
            [
             0.3,
             "#f1b6da"
            ],
            [
             0.4,
             "#fde0ef"
            ],
            [
             0.5,
             "#f7f7f7"
            ],
            [
             0.6,
             "#e6f5d0"
            ],
            [
             0.7,
             "#b8e186"
            ],
            [
             0.8,
             "#7fbc41"
            ],
            [
             0.9,
             "#4d9221"
            ],
            [
             1,
             "#276419"
            ]
           ],
           "sequential": [
            [
             0,
             "#0d0887"
            ],
            [
             0.1111111111111111,
             "#46039f"
            ],
            [
             0.2222222222222222,
             "#7201a8"
            ],
            [
             0.3333333333333333,
             "#9c179e"
            ],
            [
             0.4444444444444444,
             "#bd3786"
            ],
            [
             0.5555555555555556,
             "#d8576b"
            ],
            [
             0.6666666666666666,
             "#ed7953"
            ],
            [
             0.7777777777777778,
             "#fb9f3a"
            ],
            [
             0.8888888888888888,
             "#fdca26"
            ],
            [
             1,
             "#f0f921"
            ]
           ],
           "sequentialminus": [
            [
             0,
             "#0d0887"
            ],
            [
             0.1111111111111111,
             "#46039f"
            ],
            [
             0.2222222222222222,
             "#7201a8"
            ],
            [
             0.3333333333333333,
             "#9c179e"
            ],
            [
             0.4444444444444444,
             "#bd3786"
            ],
            [
             0.5555555555555556,
             "#d8576b"
            ],
            [
             0.6666666666666666,
             "#ed7953"
            ],
            [
             0.7777777777777778,
             "#fb9f3a"
            ],
            [
             0.8888888888888888,
             "#fdca26"
            ],
            [
             1,
             "#f0f921"
            ]
           ]
          },
          "colorway": [
           "#636efa",
           "#EF553B",
           "#00cc96",
           "#ab63fa",
           "#FFA15A",
           "#19d3f3",
           "#FF6692",
           "#B6E880",
           "#FF97FF",
           "#FECB52"
          ],
          "font": {
           "color": "#2a3f5f"
          },
          "geo": {
           "bgcolor": "white",
           "lakecolor": "white",
           "landcolor": "#E5ECF6",
           "showlakes": true,
           "showland": true,
           "subunitcolor": "white"
          },
          "hoverlabel": {
           "align": "left"
          },
          "hovermode": "closest",
          "mapbox": {
           "style": "light"
          },
          "paper_bgcolor": "white",
          "plot_bgcolor": "#E5ECF6",
          "polar": {
           "angularaxis": {
            "gridcolor": "white",
            "linecolor": "white",
            "ticks": ""
           },
           "bgcolor": "#E5ECF6",
           "radialaxis": {
            "gridcolor": "white",
            "linecolor": "white",
            "ticks": ""
           }
          },
          "scene": {
           "xaxis": {
            "backgroundcolor": "#E5ECF6",
            "gridcolor": "white",
            "gridwidth": 2,
            "linecolor": "white",
            "showbackground": true,
            "ticks": "",
            "zerolinecolor": "white"
           },
           "yaxis": {
            "backgroundcolor": "#E5ECF6",
            "gridcolor": "white",
            "gridwidth": 2,
            "linecolor": "white",
            "showbackground": true,
            "ticks": "",
            "zerolinecolor": "white"
           },
           "zaxis": {
            "backgroundcolor": "#E5ECF6",
            "gridcolor": "white",
            "gridwidth": 2,
            "linecolor": "white",
            "showbackground": true,
            "ticks": "",
            "zerolinecolor": "white"
           }
          },
          "shapedefaults": {
           "line": {
            "color": "#2a3f5f"
           }
          },
          "ternary": {
           "aaxis": {
            "gridcolor": "white",
            "linecolor": "white",
            "ticks": ""
           },
           "baxis": {
            "gridcolor": "white",
            "linecolor": "white",
            "ticks": ""
           },
           "bgcolor": "#E5ECF6",
           "caxis": {
            "gridcolor": "white",
            "linecolor": "white",
            "ticks": ""
           }
          },
          "title": {
           "x": 0.05
          },
          "xaxis": {
           "automargin": true,
           "gridcolor": "white",
           "linecolor": "white",
           "ticks": "",
           "title": {
            "standoff": 15
           },
           "zerolinecolor": "white",
           "zerolinewidth": 2
          },
          "yaxis": {
           "automargin": true,
           "gridcolor": "white",
           "linecolor": "white",
           "ticks": "",
           "title": {
            "standoff": 15
           },
           "zerolinecolor": "white",
           "zerolinewidth": 2
          }
         }
        },
        "xaxis": {
         "anchor": "y",
         "categoryarray": [
          1,
          0
         ],
         "categoryorder": "array",
         "domain": [
          0,
          1
         ],
         "title": {
          "text": "sex"
         }
        },
        "yaxis": {
         "anchor": "x",
         "domain": [
          0,
          1
         ],
         "title": {
          "text": "sum of smoker"
         }
        }
       }
      }
     },
     "metadata": {},
     "output_type": "display_data"
    }
   ],
   "source": [
    "px.histogram(df_h, x='sex', y='smoker', color='sex')"
   ]
  },
  {
   "cell_type": "code",
   "execution_count": null,
   "metadata": {},
   "outputs": [],
   "source": []
  }
 ],
 "metadata": {
  "kernelspec": {
   "display_name": "base",
   "language": "python",
   "name": "python3"
  },
  "language_info": {
   "codemirror_mode": {
    "name": "ipython",
    "version": 3
   },
   "file_extension": ".py",
   "mimetype": "text/x-python",
   "name": "python",
   "nbconvert_exporter": "python",
   "pygments_lexer": "ipython3",
   "version": "3.10.13"
  }
 },
 "nbformat": 4,
 "nbformat_minor": 2
}
