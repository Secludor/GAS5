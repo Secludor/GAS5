{
 "cells": [
  {
   "cell_type": "code",
   "execution_count": 1,
   "metadata": {},
   "outputs": [],
   "source": [
    "import pandas as pd\n",
    "import os\n",
    "\n",
    "path = r'D:\\elice_python\\GAS_5\\pytest'"
   ]
  },
  {
   "cell_type": "code",
   "execution_count": 2,
   "metadata": {},
   "outputs": [],
   "source": [
    "os.chdir(path)"
   ]
  },
  {
   "cell_type": "code",
   "execution_count": 3,
   "metadata": {},
   "outputs": [],
   "source": [
    "data = pd.read_csv(os.path.join(path, 'ratings.txt'), encoding='cp949', sep='\\t', header=0)"
   ]
  },
  {
   "cell_type": "code",
   "execution_count": 4,
   "metadata": {},
   "outputs": [
    {
     "data": {
      "text/html": [
       "<div>\n",
       "<style scoped>\n",
       "    .dataframe tbody tr th:only-of-type {\n",
       "        vertical-align: middle;\n",
       "    }\n",
       "\n",
       "    .dataframe tbody tr th {\n",
       "        vertical-align: top;\n",
       "    }\n",
       "\n",
       "    .dataframe thead th {\n",
       "        text-align: right;\n",
       "    }\n",
       "</style>\n",
       "<table border=\"1\" class=\"dataframe\">\n",
       "  <thead>\n",
       "    <tr style=\"text-align: right;\">\n",
       "      <th></th>\n",
       "      <th>id</th>\n",
       "      <th>document</th>\n",
       "      <th>label</th>\n",
       "    </tr>\n",
       "  </thead>\n",
       "  <tbody>\n",
       "    <tr>\n",
       "      <th>0</th>\n",
       "      <td>8112052</td>\n",
       "      <td>어릴때보고 지금다시봐도 재밌어요ㅋㅋ</td>\n",
       "      <td>1</td>\n",
       "    </tr>\n",
       "    <tr>\n",
       "      <th>1</th>\n",
       "      <td>8132799</td>\n",
       "      <td>디자인을 배우는 학생으로, 외국디자이너와 그들이 일군 전통을 통해 발전해가는 문화산...</td>\n",
       "      <td>1</td>\n",
       "    </tr>\n",
       "    <tr>\n",
       "      <th>2</th>\n",
       "      <td>4655635</td>\n",
       "      <td>폴리스스토리 시리즈는 1부터 뉴까지 버릴께 하나도 없음.. 최고.</td>\n",
       "      <td>1</td>\n",
       "    </tr>\n",
       "    <tr>\n",
       "      <th>3</th>\n",
       "      <td>9251303</td>\n",
       "      <td>와.. 연기가 진짜 개쩔구나.. 지루할거라고 생각했는데 몰입해서 봤다.. 그래 이런...</td>\n",
       "      <td>1</td>\n",
       "    </tr>\n",
       "    <tr>\n",
       "      <th>4</th>\n",
       "      <td>10067386</td>\n",
       "      <td>안개 자욱한 밤하늘에 떠 있는 초승달 같은 영화.</td>\n",
       "      <td>1</td>\n",
       "    </tr>\n",
       "  </tbody>\n",
       "</table>\n",
       "</div>"
      ],
      "text/plain": [
       "         id                                           document  label\n",
       "0   8112052                                어릴때보고 지금다시봐도 재밌어요ㅋㅋ      1\n",
       "1   8132799  디자인을 배우는 학생으로, 외국디자이너와 그들이 일군 전통을 통해 발전해가는 문화산...      1\n",
       "2   4655635               폴리스스토리 시리즈는 1부터 뉴까지 버릴께 하나도 없음.. 최고.      1\n",
       "3   9251303  와.. 연기가 진짜 개쩔구나.. 지루할거라고 생각했는데 몰입해서 봤다.. 그래 이런...      1\n",
       "4  10067386                        안개 자욱한 밤하늘에 떠 있는 초승달 같은 영화.      1"
      ]
     },
     "execution_count": 4,
     "metadata": {},
     "output_type": "execute_result"
    }
   ],
   "source": [
    "data.head()"
   ]
  },
  {
   "cell_type": "code",
   "execution_count": 5,
   "metadata": {},
   "outputs": [
    {
     "name": "stdout",
     "output_type": "stream",
     "text": [
      "<class 'pandas.core.frame.DataFrame'>\n",
      "RangeIndex: 200000 entries, 0 to 199999\n",
      "Data columns (total 3 columns):\n",
      " #   Column    Non-Null Count   Dtype \n",
      "---  ------    --------------   ----- \n",
      " 0   id        200000 non-null  int64 \n",
      " 1   document  199992 non-null  object\n",
      " 2   label     200000 non-null  int64 \n",
      "dtypes: int64(2), object(1)\n",
      "memory usage: 4.6+ MB\n"
     ]
    }
   ],
   "source": [
    "data.info()"
   ]
  },
  {
   "cell_type": "code",
   "execution_count": 6,
   "metadata": {},
   "outputs": [
    {
     "name": "stdout",
     "output_type": "stream",
     "text": [
      "0                                  어릴때보고 지금다시봐도 재밌어요ㅋㅋ\n",
      "1    디자인을 배우는 학생으로, 외국디자이너와 그들이 일군 전통을 통해 발전해가는 문화산...\n",
      "2                 폴리스스토리 시리즈는 1부터 뉴까지 버릴께 하나도 없음.. 최고.\n",
      "3    와.. 연기가 진짜 개쩔구나.. 지루할거라고 생각했는데 몰입해서 봤다.. 그래 이런...\n",
      "4                          안개 자욱한 밤하늘에 떠 있는 초승달 같은 영화.\n",
      "Name: document, dtype: object\n",
      "<class 'pandas.core.series.Series'>\n",
      "********************\n",
      "0    1\n",
      "1    1\n",
      "2    1\n",
      "3    1\n",
      "4    1\n",
      "Name: label, dtype: int64\n",
      "<class 'pandas.core.series.Series'>\n"
     ]
    }
   ],
   "source": [
    "data_id=data.iloc[:,0]\n",
    "data_text=data.iloc[:,1]\n",
    "data_senti=data.iloc[:,-1]\n",
    "\n",
    "print(data_text.head())\n",
    "print(type(data_text))\n",
    "print('*'*20)\n",
    "print(data_senti.head())\n",
    "print(type(data_senti))"
   ]
  },
  {
   "cell_type": "code",
   "execution_count": 7,
   "metadata": {},
   "outputs": [
    {
     "name": "stdout",
     "output_type": "stream",
     "text": [
      "filepath:  C:\\Users\\Caelu\\anaconda3\\Lib\\site-packages\n",
      "classpath:  C:\\Users\\Caelu\\anaconda3\\Lib\\site-packages\\rhinoMorph/lib/rhino.jar\n",
      "RHINO started!\n"
     ]
    }
   ],
   "source": [
    "import rhinoMorph\n",
    "\n",
    "# rhinoMorph 실행\n",
    "rn = rhinoMorph.startRhino()\n",
    "\n",
    "morphed_data = ''\n",
    "for i, data_each in enumerate(data_text):\n",
    "    morphed_data_each = rhinoMorph.onlyMorph_list(rn, \n",
    "                                                  str(data_each), \n",
    "                                                  pos=['NNG', 'NNP', \n",
    "                                                       'VV', 'VA', \n",
    "                                                       'XR', 'IC', \n",
    "                                                       'MM', 'MAG', 'MAJ'])\n",
    "    joined_data_each = ' '.join(morphed_data_each)\n",
    "    if joined_data_each:\n",
    "        morphed_data += str(data_id[i]) + ',' + joined_data_each + ',' + str(data_senti[i]) + '\\n'\n"
   ]
  },
  {
   "cell_type": "code",
   "execution_count": 8,
   "metadata": {},
   "outputs": [],
   "source": [
    "with open('ratings_morphed.txt', 'w', encoding= 'utf8') as f :\n",
    "    f.write(morphed_data)"
   ]
  },
  {
   "cell_type": "code",
   "execution_count": 9,
   "metadata": {},
   "outputs": [
    {
     "name": "stdout",
     "output_type": "stream",
     "text": [
      "          0                                                  1  2\n",
      "0   8112052                              어리 때 보 지금 다시 보 재미있 ㅋㅋ  1\n",
      "1   8132799  디자인 배우 학생 외국 디자이너 일구 전통 통하 발전 문화 산업 부럽 사실 우리나라...  1\n",
      "2   4655635                                  폴리스스토리 시리즈 뉴 없 최고  1\n",
      "3   9251303                    와 연기 진짜 쩔 지루 생각하 몰입 그래 이런 진짜 영화  1\n",
      "4  10067386                             안개 자욱 하 밤하늘 뜨 초승달 같 영화  1\n"
     ]
    }
   ],
   "source": [
    "data = pd.read_csv('ratings_morphed.txt', encoding='utf8', header=None)\n",
    "print(data.head())"
   ]
  },
  {
   "cell_type": "code",
   "execution_count": 10,
   "metadata": {},
   "outputs": [
    {
     "name": "stdout",
     "output_type": "stream",
     "text": [
      "0                                어리 때 보 지금 다시 보 재미있 ㅋㅋ\n",
      "1    디자인 배우 학생 외국 디자이너 일구 전통 통하 발전 문화 산업 부럽 사실 우리나라...\n",
      "2                                    폴리스스토리 시리즈 뉴 없 최고\n",
      "3                      와 연기 진짜 쩔 지루 생각하 몰입 그래 이런 진짜 영화\n",
      "4                               안개 자욱 하 밤하늘 뜨 초승달 같 영화\n",
      "Name: 1, dtype: object\n"
     ]
    }
   ],
   "source": [
    "data_text = data.iloc[:,1]\n",
    "print(data_text.head())"
   ]
  },
  {
   "cell_type": "code",
   "execution_count": 11,
   "metadata": {},
   "outputs": [
    {
     "name": "stdout",
     "output_type": "stream",
     "text": [
      "0    1\n",
      "1    1\n",
      "2    1\n",
      "3    1\n",
      "4    1\n",
      "Name: 2, dtype: int64\n"
     ]
    }
   ],
   "source": [
    "data_senti = data.iloc[:,-1]\n",
    "print(data_senti.head())"
   ]
  },
  {
   "cell_type": "code",
   "execution_count": 12,
   "metadata": {},
   "outputs": [
    {
     "name": "stdout",
     "output_type": "stream",
     "text": [
      "<class 'pandas.core.series.Series'> <class 'pandas.core.series.Series'>\n"
     ]
    }
   ],
   "source": [
    "print(type(data_text), type(data_senti))"
   ]
  },
  {
   "cell_type": "code",
   "execution_count": 13,
   "metadata": {},
   "outputs": [],
   "source": [
    "from sklearn.model_selection import train_test_split\n",
    "train_data_text, test_data_text, train_data_senti, test_data_senti = train_test_split(data_text, data_senti, stratify= data_senti, random_state=42)"
   ]
  },
  {
   "cell_type": "code",
   "execution_count": 14,
   "metadata": {},
   "outputs": [
    {
     "name": "stdout",
     "output_type": "stream",
     "text": [
      "Counter({1: 74111, 0: 74052}) Counter({1: 24704, 0: 24684})\n"
     ]
    }
   ],
   "source": [
    "from collections import Counter\n",
    "train_data_senti_freq = Counter(train_data_senti)\n",
    "test_data_senti_freq = Counter(test_data_senti)\n",
    "print(train_data_senti_freq,test_data_senti_freq)"
   ]
  },
  {
   "cell_type": "code",
   "execution_count": 15,
   "metadata": {},
   "outputs": [
    {
     "name": "stdout",
     "output_type": "stream",
     "text": [
      "X_train\n",
      " <148163x10000 sparse matrix of type '<class 'numpy.int64'>'\n",
      "\twith 818547 stored elements in Compressed Sparse Row format>\n"
     ]
    }
   ],
   "source": [
    "from sklearn.feature_extraction.text import CountVectorizer\n",
    "vect = CountVectorizer(max_features=10000).fit(train_data_text)\n",
    "X_train = vect.transform(train_data_text)\n",
    "print('X_train\\n', repr(X_train))"
   ]
  },
  {
   "cell_type": "code",
   "execution_count": 17,
   "metadata": {},
   "outputs": [
    {
     "name": "stdout",
     "output_type": "stream",
     "text": [
      "  (0, 174)\t1\n",
      "  (0, 6038)\t1\n",
      "  (0, 6754)\t1\n",
      "  (0, 7793)\t1\n",
      "  (1, 4077)\t2\n",
      "  (1, 4529)\t2\n",
      "  (1, 7203)\t2\n",
      "  (1, 7521)\t1\n",
      "  (1, 9477)\t1\n",
      "  (2, 3533)\t1\n",
      "  (2, 3776)\t1\n",
      "  (2, 4371)\t1\n",
      "  (2, 6925)\t1\n",
      "  (2, 7196)\t1\n",
      "  (3, 2369)\t1\n",
      "  (3, 6032)\t1\n",
      "  (3, 7477)\t1\n",
      "  (3, 7874)\t1\n",
      "  (4, 6003)\t1\n",
      "  (5, 921)\t1\n",
      "  (5, 2955)\t1\n",
      "  (5, 3104)\t1\n",
      "  (5, 8111)\t1\n",
      "  (6, 43)\t1\n",
      "  (6, 1670)\t2\n",
      "  :\t:\n",
      "  (148155, 7344)\t1\n",
      "  (148155, 7876)\t1\n",
      "  (148155, 8422)\t1\n",
      "  (148156, 1056)\t1\n",
      "  (148157, 1385)\t1\n",
      "  (148157, 1748)\t1\n",
      "  (148157, 2075)\t1\n",
      "  (148157, 5206)\t1\n",
      "  (148157, 5231)\t1\n",
      "  (148157, 6003)\t2\n",
      "  (148157, 6738)\t1\n",
      "  (148157, 8281)\t2\n",
      "  (148158, 6003)\t1\n",
      "  (148158, 6955)\t1\n",
      "  (148158, 7738)\t1\n",
      "  (148159, 3094)\t1\n",
      "  (148159, 5231)\t1\n",
      "  (148159, 8098)\t1\n",
      "  (148160, 1670)\t1\n",
      "  (148160, 3740)\t1\n",
      "  (148160, 4152)\t1\n",
      "  (148161, 1537)\t1\n",
      "  (148162, 1597)\t1\n",
      "  (148162, 4701)\t1\n",
      "  (148162, 6750)\t1\n"
     ]
    }
   ],
   "source": [
    "print(X_train)"
   ]
  },
  {
   "cell_type": "code",
   "execution_count": null,
   "metadata": {},
   "outputs": [],
   "source": []
  }
 ],
 "metadata": {
  "kernelspec": {
   "display_name": "base",
   "language": "python",
   "name": "python3"
  },
  "language_info": {
   "codemirror_mode": {
    "name": "ipython",
    "version": 3
   },
   "file_extension": ".py",
   "mimetype": "text/x-python",
   "name": "python",
   "nbconvert_exporter": "python",
   "pygments_lexer": "ipython3",
   "version": "3.10.13"
  }
 },
 "nbformat": 4,
 "nbformat_minor": 2
}
