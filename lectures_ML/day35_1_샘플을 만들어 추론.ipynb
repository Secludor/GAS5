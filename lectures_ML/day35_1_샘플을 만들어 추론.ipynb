{
 "cells": [
  {
   "cell_type": "code",
   "execution_count": 2,
   "metadata": {},
   "outputs": [
    {
     "name": "stdout",
     "output_type": "stream",
     "text": [
      "(30162, 11)\n",
      "<class 'pandas.core.frame.DataFrame'>\n",
      "Index: 30162 entries, 0 to 32560\n",
      "Data columns (total 11 columns):\n",
      " #   Column           Non-Null Count  Dtype \n",
      "---  ------           --------------  ----- \n",
      " 0   age              30162 non-null  int64 \n",
      " 1   workclass        30162 non-null  object\n",
      " 2   education        30162 non-null  object\n",
      " 3   educationNumber  30162 non-null  int64 \n",
      " 4   maritalStatus    30162 non-null  object\n",
      " 5   occupation       30162 non-null  object\n",
      " 6   relationship     30162 non-null  object\n",
      " 7   race             30162 non-null  object\n",
      " 8   gender           30162 non-null  object\n",
      " 9   hourPerWeek      30162 non-null  int64 \n",
      " 10  nativeCountry    30162 non-null  object\n",
      "dtypes: int64(3), object(8)\n",
      "memory usage: 2.8+ MB\n",
      "None\n"
     ]
    }
   ],
   "source": [
    "import pandas as pd\n",
    "import os\n",
    "\n",
    "path = r'D:\\elice_python\\GAS_5\\pytest_machine'\n",
    "os.chdir(path)\n",
    "\n",
    "import pandas as pd\n",
    "from sklearn.preprocessing import MinMaxScaler\n",
    "\n",
    "data = pd.read_csv('income.csv', skipinitialspace=True)\n",
    "\n",
    "for col in data.columns:\n",
    "    data = data[data[col] != '?']\n",
    "    \n",
    "data_X = data.loc[:,'age':'nativeCountry']\n",
    "print(data_X.shape)\n",
    "\n",
    "race_series = data_X['race'].apply(str)\n",
    "data_X['race'] = race_series\n",
    "print(data_X.info())\n",
    "\n",
    "X_num = data_X[['age','educationNumber', 'hourPerWeek']]\n",
    "X_cat = data_X[['workclass', 'education', 'maritalStatus', 'occupation', \n",
    "           'relationship', 'race', 'gender', 'nativeCountry']]\n",
    "\n",
    "X_hot = pd.get_dummies(X_cat)\n",
    "\n",
    "import joblib\n",
    "\n",
    "model_path = 'D:\\\\elice_python\\GAS_5\\\\pytest_machine\\\\models\\\\'\n",
    "scaler_name = 'dataprocessing_scaler.joblib'\n",
    "model_name = 'dataprocessing_svm.joblib'\n",
    "\n",
    "loaded_scaler = joblib.load(model_path+scaler_name)\n",
    "loaded_model = joblib.load(model_path+model_name)"
   ]
  },
  {
   "cell_type": "code",
   "execution_count": null,
   "metadata": {},
   "outputs": [],
   "source": [
    "import pandas as pd\n",
    "import os\n",
    "\n",
    "path = r'D:\\elice_python\\GAS_5\\pytest_machine'\n",
    "os.chdir(path)\n",
    "\n",
    "import pandas as pd\n",
    "from sklearn.preprocessing import MinMaxScaler\n",
    "\n",
    "data = pd.read_csv('income.csv', skipinitialspace=True)\n",
    "\n",
    "for col in data.columns:\n",
    "    data = data[data[col] != '?']\n",
    "    \n",
    "data_X = data.loc[:,'age':'nativeCountry']\n",
    "print(data_X.shape)\n",
    "\n",
    "race_series = data_X['race'].apply(str)\n",
    "data_X['race'] = race_series\n",
    "print(data_X.info())\n",
    "\n",
    "X_num = data_X[['age','educationNumber', 'hourPerWeek']]\n",
    "X_cat = data_X[['workclass', 'education', 'maritalStatus', 'occupation', \n",
    "           'relationship', 'race', 'gender', 'nativeCountry']]\n",
    "\n",
    "X_hot = pd.get_dummies(X_cat)\n",
    "\n",
    "import joblib\n",
    "\n",
    "model_path = 'D:\\\\elice_python\\GAS_5\\\\pytest_machine\\\\models\\\\'\n",
    "scaler_name = 'dataprocessing_scaler.joblib'\n",
    "model_name = 'dataprocessing_svm.joblib'\n",
    "\n",
    "loaded_scaler = joblib.load(model_path+scaler_name)\n",
    "loaded_model = joblib.load(model_path+model_name)"
   ]
  },
  {
   "cell_type": "code",
   "execution_count": 3,
   "metadata": {},
   "outputs": [
    {
     "name": "stdout",
     "output_type": "stream",
     "text": [
      "   workclass_Private  education_education_Bachelors  \\\n",
      "0               True                           True   \n",
      "\n",
      "   maritalStatus_Married-civ-spouse  occupation_Prof-specialty  \\\n",
      "0                              True                       True   \n",
      "\n",
      "   relationship_relationship_Unmarried  race_2  gender_Male  \\\n",
      "0                                 True    True         True   \n",
      "\n",
      "   nativeCountry_Korea  \n",
      "0                 True  \n",
      "(1, 101)\n",
      "(1, 98)\n",
      "[[0.16438356 0.8        0.39795918]]\n",
      "above 50K [1]\n"
     ]
    },
    {
     "name": "stderr",
     "output_type": "stream",
     "text": [
      "C:\\Users\\Caelu\\AppData\\Local\\Temp\\ipykernel_38724\\3876947624.py:21: PerformanceWarning: DataFrame is highly fragmented.  This is usually the result of calling `frame.insert` many times, which has poor performance.  Consider joining all columns at once using pd.concat(axis=1) instead. To get a de-fragmented frame, use `newframe = frame.copy()`\n",
      "  sample_dummies[col] = False\n"
     ]
    }
   ],
   "source": [
    "sample =  {'age' : 29, \n",
    "          'workclass' : 'Private',\n",
    "          'education' : 'education_Bachelors', \n",
    "          'educationNumber':13, \n",
    "          'maritalStatus':'Married-civ-spouse',\n",
    "       'occupation':'Prof-specialty', \n",
    "       'relationship':'relationship_Unmarried', \n",
    "       'race':'2', \n",
    "       'gender':'Male', \n",
    "       'hourPerWeek': 40,\n",
    "       'nativeCountry':'Korea'}\n",
    "sample_df = pd.DataFrame([sample])\n",
    "sample_df\n",
    "sample_num = sample_df[['age','educationNumber', 'hourPerWeek']]\n",
    "sample_cat = sample_df[['workclass', 'education', 'maritalStatus', 'occupation', \n",
    "           'relationship', 'race', 'gender', 'nativeCountry']]\n",
    "sample_dummies = pd.get_dummies(sample_cat)\n",
    "print(sample_dummies)\n",
    "for col in X_hot.columns:\n",
    "    if col not in sample_dummies.columns:\n",
    "        sample_dummies[col] = False\n",
    "        \n",
    "print(sample_dummies.shape)\n",
    "sample_dummies = sample_dummies[X_hot.columns]\n",
    "print(sample_dummies.shape)\n",
    "sample_scaled = loaded_scaler.transform(sample_num)\n",
    "print(sample_scaled)\n",
    "sample_fin = pd.concat([pd.DataFrame(sample_scaled, columns=['age','educationNumber', 'hourPerWeek']).reset_index(drop=True),\n",
    "                       sample_dummies.reset_index(drop=True)], axis= 1)\n",
    "sample_fin.shape\n",
    "prediction = loaded_model.predict(sample_fin)\n",
    "\n",
    "if prediction:\n",
    "    print('above 50K', prediction)\n",
    "else:\n",
    "    print('below 50K', prediction)"
   ]
  },
  {
   "cell_type": "code",
   "execution_count": null,
   "metadata": {},
   "outputs": [],
   "source": []
  }
 ],
 "metadata": {
  "kernelspec": {
   "display_name": "base",
   "language": "python",
   "name": "python3"
  },
  "language_info": {
   "codemirror_mode": {
    "name": "ipython",
    "version": 3
   },
   "file_extension": ".py",
   "mimetype": "text/x-python",
   "name": "python",
   "nbconvert_exporter": "python",
   "pygments_lexer": "ipython3",
   "version": "3.10.13"
  }
 },
 "nbformat": 4,
 "nbformat_minor": 2
}
