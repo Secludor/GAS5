{
 "cells": [
  {
   "cell_type": "markdown",
   "metadata": {},
   "source": [
    "### 연습문제 1\n",
    "- 아래 E-Commerce Shipping Data의 train set을 참조하여 고객이 주문한 물품의 정시 도착 여부를 예측하시오\n",
    "-  ID와 예측치는 csv 파일로 저장하시오 (EC_result.csv)"
   ]
  },
  {
   "cell_type": "markdown",
   "metadata": {},
   "source": [
    "- RandomForest를 포함하여, 최소 2개 이상의 모델을 만드세요\n",
    "- 계층별 교차 검증 결과 (Stratified K-Fold Cross Validation)를 산출하세요\n",
    "- 추가로, 특성 중요도를 관찰해보세요\n",
    "- EC_result.csv 파일의 양식은 ID, predicted 컬럼을 갖습니다."
   ]
  },
  {
   "cell_type": "code",
   "execution_count": 1,
   "metadata": {},
   "outputs": [],
   "source": [
    "import os\n",
    "import pandas as pd\n",
    "\n",
    "path = r'D:\\elice_python\\GAS_5\\pytest_python'\n",
    "\n",
    "os.chdir(path)"
   ]
  },
  {
   "cell_type": "code",
   "execution_count": 2,
   "metadata": {},
   "outputs": [
    {
     "name": "stdout",
     "output_type": "stream",
     "text": [
      "   ID Warehouse_block Mode_of_Shipment  Customer_care_calls  Customer_rating  \\\n",
      "0   1               B             Ship                    3                4   \n",
      "\n",
      "   Cost_of_the_Product  Prior_purchases Product_importance Gender  \\\n",
      "0                  134                3               high      F   \n",
      "\n",
      "   Discount_offered  Weight_in_gms  \n",
      "0                 6           5680  \n",
      "\n",
      "   ID  Reached.on.Time_Y.N\n",
      "0   1                    0\n"
     ]
    }
   ],
   "source": [
    "X_train = pd.read_csv('EC_X_train.csv', header=0)\n",
    "y_train = pd.read_csv('EC_y_train.csv', header=0)\n",
    "print(X_train.head(1))\n",
    "print()\n",
    "print(y_train.head(1))"
   ]
  },
  {
   "cell_type": "code",
   "execution_count": 3,
   "metadata": {},
   "outputs": [
    {
     "data": {
      "text/plain": [
       "((8799, 11), (8799, 2))"
      ]
     },
     "execution_count": 3,
     "metadata": {},
     "output_type": "execute_result"
    }
   ],
   "source": [
    "X_train.shape, y_train.shape"
   ]
  },
  {
   "cell_type": "code",
   "execution_count": 4,
   "metadata": {},
   "outputs": [
    {
     "name": "stdout",
     "output_type": "stream",
     "text": [
      "<class 'pandas.core.frame.DataFrame'>\n",
      "RangeIndex: 8799 entries, 0 to 8798\n",
      "Data columns (total 11 columns):\n",
      " #   Column               Non-Null Count  Dtype \n",
      "---  ------               --------------  ----- \n",
      " 0   ID                   8799 non-null   int64 \n",
      " 1   Warehouse_block      8799 non-null   object\n",
      " 2   Mode_of_Shipment     8799 non-null   object\n",
      " 3   Customer_care_calls  8799 non-null   int64 \n",
      " 4   Customer_rating      8799 non-null   int64 \n",
      " 5   Cost_of_the_Product  8799 non-null   int64 \n",
      " 6   Prior_purchases      8799 non-null   int64 \n",
      " 7   Product_importance   8799 non-null   object\n",
      " 8   Gender               8799 non-null   object\n",
      " 9   Discount_offered     8799 non-null   int64 \n",
      " 10  Weight_in_gms        8799 non-null   int64 \n",
      "dtypes: int64(7), object(4)\n",
      "memory usage: 756.3+ KB\n"
     ]
    }
   ],
   "source": [
    "X_train.info()"
   ]
  },
  {
   "cell_type": "code",
   "execution_count": 5,
   "metadata": {},
   "outputs": [
    {
     "name": "stdout",
     "output_type": "stream",
     "text": [
      "ID\n",
      "[   1    2    3 ... 8797 8798 8799]\n",
      " \n",
      "Warehouse_block\n",
      "['B' 'F' 'C' 'A' 'D']\n",
      " \n",
      "Mode_of_Shipment\n",
      "['Ship' 'Flight' 'Road']\n",
      " \n",
      "Customer_care_calls\n",
      "[3 4 2 6 5 7]\n",
      " \n",
      "Customer_rating\n",
      "[4 3 1 5 2]\n",
      " \n",
      "Cost_of_the_Product\n",
      "[134 173 192 284 246 211 238 178 198 214 234 146 194 241 260 162 205 240\n",
      " 275 151 181 140 152 157 167 248 249 203 201 243 287 256 190 141 145 135\n",
      " 164 227 274 286 144 222 158 161 250 245 125 252 189 269 231 233 191 257\n",
      " 268 217 163 225 172 133 263 150 199 143 220 216 116 175 208 267 228 242\n",
      " 213 149 202 255 166 244 277 223 295 180 302 171 254 253 276 184 219 307\n",
      " 264 305 271 170 258 159 236 204 265 174 239 187 188 259 272 197 210 229\n",
      " 261 266 221 195 142 212 296 137 182 148 209 237 176 185 139 156 154 155\n",
      " 153 224 132 262 281 270 136 169 104 111 102 207 301 165 283 160 183 226\n",
      " 127 285 291 273 280 292 251 179 230 108 279 118 218  98 177 129 138 289\n",
      " 293 247 200 306 186 193 232 235 278 308 123 110 168 215 196 310 282 128\n",
      " 120 206 119 115 106 103 303 147 117 288 105 304 309 131 130 298 121 126\n",
      " 122 300 294  97 113 101 114 124 290  96 107 112 297  99 299 100 109]\n",
      " \n",
      "Prior_purchases\n",
      "[ 3  4  2  5 10  6  7  8]\n",
      " \n",
      "Product_importance\n",
      "['high' 'medium' 'low']\n",
      " \n",
      "Gender\n",
      "['F' 'M']\n",
      " \n",
      "Discount_offered\n",
      "[ 6  5 46  8 10 39  4  9 20 58 31 11  2  7 44 45 48 12 18 32 23 54  3 40\n",
      " 47  1 51 60 53 24 63 25 57 33 62 27 59 55 49 35 29 26 50 41 42 28 64 16\n",
      " 52 36 56 38 37 34 21 30 15 19 14 13 22 43 61 65 17]\n",
      " \n",
      "Weight_in_gms\n",
      "[5680 5331 3206 ... 4379 2341 7640]\n",
      " \n"
     ]
    }
   ],
   "source": [
    "for column in X_train.columns:\n",
    "    print(column, X_train[column].unique(), ' ', sep='\\n')\n",
    "\n"
   ]
  },
  {
   "cell_type": "code",
   "execution_count": 6,
   "metadata": {},
   "outputs": [
    {
     "data": {
      "text/html": [
       "<div>\n",
       "<style scoped>\n",
       "    .dataframe tbody tr th:only-of-type {\n",
       "        vertical-align: middle;\n",
       "    }\n",
       "\n",
       "    .dataframe tbody tr th {\n",
       "        vertical-align: top;\n",
       "    }\n",
       "\n",
       "    .dataframe thead th {\n",
       "        text-align: right;\n",
       "    }\n",
       "</style>\n",
       "<table border=\"1\" class=\"dataframe\">\n",
       "  <thead>\n",
       "    <tr style=\"text-align: right;\">\n",
       "      <th></th>\n",
       "      <th>ID</th>\n",
       "    </tr>\n",
       "  </thead>\n",
       "  <tbody>\n",
       "    <tr>\n",
       "      <th>0</th>\n",
       "      <td>1</td>\n",
       "    </tr>\n",
       "  </tbody>\n",
       "</table>\n",
       "</div>"
      ],
      "text/plain": [
       "   ID\n",
       "0   1"
      ]
     },
     "execution_count": 6,
     "metadata": {},
     "output_type": "execute_result"
    }
   ],
   "source": [
    "X_train_id = X_train[['ID']]\n",
    "X_train_id.head(1)"
   ]
  },
  {
   "cell_type": "code",
   "execution_count": 7,
   "metadata": {},
   "outputs": [
    {
     "name": "stdout",
     "output_type": "stream",
     "text": [
      "<class 'pandas.core.frame.DataFrame'>\n",
      "RangeIndex: 8799 entries, 0 to 8798\n",
      "Data columns (total 6 columns):\n",
      " #   Column               Non-Null Count  Dtype\n",
      "---  ------               --------------  -----\n",
      " 0   Customer_care_calls  8799 non-null   int64\n",
      " 1   Customer_rating      8799 non-null   int64\n",
      " 2   Cost_of_the_Product  8799 non-null   int64\n",
      " 3   Prior_purchases      8799 non-null   int64\n",
      " 4   Discount_offered     8799 non-null   int64\n",
      " 5   Weight_in_gms        8799 non-null   int64\n",
      "dtypes: int64(6)\n",
      "memory usage: 412.6 KB\n"
     ]
    }
   ],
   "source": [
    "X_train_num = X_train[[\n",
    "    'Customer_care_calls',\n",
    "    'Customer_rating', \n",
    "    'Cost_of_the_Product',\n",
    "    'Prior_purchases',\n",
    "    'Discount_offered',\n",
    "    'Weight_in_gms'\n",
    "    ]]\n",
    "X_train_num.info()"
   ]
  },
  {
   "cell_type": "code",
   "execution_count": null,
   "metadata": {},
   "outputs": [],
   "source": [
    "import matplotlib.pyplot as plt\n",
    "\n",
    "for c in X_train_num.columns:\n",
    "    X_train_num[[c]].boxplot()\n",
    "    plt.show()"
   ]
  },
  {
   "cell_type": "code",
   "execution_count": 9,
   "metadata": {},
   "outputs": [],
   "source": [
    "from sklearn.preprocessing import MinMaxScaler\n",
    "scaler = MinMaxScaler().fit(X_train_num)\n",
    "X_train_num_scaled = scaler.transform(X_train_num)"
   ]
  },
  {
   "cell_type": "code",
   "execution_count": 10,
   "metadata": {},
   "outputs": [
    {
     "name": "stdout",
     "output_type": "stream",
     "text": [
      "(8799, 6)\n"
     ]
    },
    {
     "data": {
      "text/html": [
       "<div>\n",
       "<style scoped>\n",
       "    .dataframe tbody tr th:only-of-type {\n",
       "        vertical-align: middle;\n",
       "    }\n",
       "\n",
       "    .dataframe tbody tr th {\n",
       "        vertical-align: top;\n",
       "    }\n",
       "\n",
       "    .dataframe thead th {\n",
       "        text-align: right;\n",
       "    }\n",
       "</style>\n",
       "<table border=\"1\" class=\"dataframe\">\n",
       "  <thead>\n",
       "    <tr style=\"text-align: right;\">\n",
       "      <th></th>\n",
       "      <th>Customer_care_calls</th>\n",
       "      <th>Customer_rating</th>\n",
       "      <th>Cost_of_the_Product</th>\n",
       "      <th>Prior_purchases</th>\n",
       "      <th>Discount_offered</th>\n",
       "      <th>Weight_in_gms</th>\n",
       "    </tr>\n",
       "  </thead>\n",
       "  <tbody>\n",
       "    <tr>\n",
       "      <th>0</th>\n",
       "      <td>0.2</td>\n",
       "      <td>0.75</td>\n",
       "      <td>0.17757</td>\n",
       "      <td>0.125</td>\n",
       "      <td>0.078125</td>\n",
       "      <td>0.683565</td>\n",
       "    </tr>\n",
       "  </tbody>\n",
       "</table>\n",
       "</div>"
      ],
      "text/plain": [
       "   Customer_care_calls  Customer_rating  Cost_of_the_Product  Prior_purchases  \\\n",
       "0                  0.2             0.75              0.17757            0.125   \n",
       "\n",
       "   Discount_offered  Weight_in_gms  \n",
       "0          0.078125       0.683565  "
      ]
     },
     "execution_count": 10,
     "metadata": {},
     "output_type": "execute_result"
    }
   ],
   "source": [
    "X_train_num_scaled = pd.DataFrame(X_train_num_scaled, columns=X_train_num.columns)\n",
    "print(X_train_num_scaled.shape)\n",
    "X_train_num_scaled.head(1)"
   ]
  },
  {
   "cell_type": "code",
   "execution_count": 11,
   "metadata": {},
   "outputs": [
    {
     "name": "stdout",
     "output_type": "stream",
     "text": [
      "<class 'pandas.core.frame.DataFrame'>\n",
      "RangeIndex: 8799 entries, 0 to 8798\n",
      "Data columns (total 4 columns):\n",
      " #   Column              Non-Null Count  Dtype \n",
      "---  ------              --------------  ----- \n",
      " 0   Warehouse_block     8799 non-null   object\n",
      " 1   Mode_of_Shipment    8799 non-null   object\n",
      " 2   Product_importance  8799 non-null   object\n",
      " 3   Gender              8799 non-null   object\n",
      "dtypes: object(4)\n",
      "memory usage: 275.1+ KB\n"
     ]
    }
   ],
   "source": [
    "X_train_cat = X_train[[\n",
    "    'Warehouse_block',\n",
    "    'Mode_of_Shipment',\n",
    "    'Product_importance',\n",
    "    'Gender'\n",
    "]]\n",
    "X_train_cat.info()"
   ]
  },
  {
   "cell_type": "code",
   "execution_count": 12,
   "metadata": {},
   "outputs": [
    {
     "name": "stdout",
     "output_type": "stream",
     "text": [
      "(8799, 13)\n"
     ]
    },
    {
     "data": {
      "text/html": [
       "<div>\n",
       "<style scoped>\n",
       "    .dataframe tbody tr th:only-of-type {\n",
       "        vertical-align: middle;\n",
       "    }\n",
       "\n",
       "    .dataframe tbody tr th {\n",
       "        vertical-align: top;\n",
       "    }\n",
       "\n",
       "    .dataframe thead th {\n",
       "        text-align: right;\n",
       "    }\n",
       "</style>\n",
       "<table border=\"1\" class=\"dataframe\">\n",
       "  <thead>\n",
       "    <tr style=\"text-align: right;\">\n",
       "      <th></th>\n",
       "      <th>Warehouse_block_A</th>\n",
       "      <th>Warehouse_block_B</th>\n",
       "      <th>Warehouse_block_C</th>\n",
       "      <th>Warehouse_block_D</th>\n",
       "      <th>Warehouse_block_F</th>\n",
       "      <th>Mode_of_Shipment_Flight</th>\n",
       "      <th>Mode_of_Shipment_Road</th>\n",
       "      <th>Mode_of_Shipment_Ship</th>\n",
       "      <th>Product_importance_high</th>\n",
       "      <th>Product_importance_low</th>\n",
       "      <th>Product_importance_medium</th>\n",
       "      <th>Gender_F</th>\n",
       "      <th>Gender_M</th>\n",
       "    </tr>\n",
       "  </thead>\n",
       "  <tbody>\n",
       "    <tr>\n",
       "      <th>0</th>\n",
       "      <td>False</td>\n",
       "      <td>True</td>\n",
       "      <td>False</td>\n",
       "      <td>False</td>\n",
       "      <td>False</td>\n",
       "      <td>False</td>\n",
       "      <td>False</td>\n",
       "      <td>True</td>\n",
       "      <td>True</td>\n",
       "      <td>False</td>\n",
       "      <td>False</td>\n",
       "      <td>True</td>\n",
       "      <td>False</td>\n",
       "    </tr>\n",
       "  </tbody>\n",
       "</table>\n",
       "</div>"
      ],
      "text/plain": [
       "   Warehouse_block_A  Warehouse_block_B  Warehouse_block_C  Warehouse_block_D  \\\n",
       "0              False               True              False              False   \n",
       "\n",
       "   Warehouse_block_F  Mode_of_Shipment_Flight  Mode_of_Shipment_Road  \\\n",
       "0              False                    False                  False   \n",
       "\n",
       "   Mode_of_Shipment_Ship  Product_importance_high  Product_importance_low  \\\n",
       "0                   True                     True                   False   \n",
       "\n",
       "   Product_importance_medium  Gender_F  Gender_M  \n",
       "0                      False      True     False  "
      ]
     },
     "execution_count": 12,
     "metadata": {},
     "output_type": "execute_result"
    }
   ],
   "source": [
    "X_train_hot = pd.get_dummies(X_train_cat)\n",
    "print(X_train_hot.shape)\n",
    "X_train_hot.head(1)"
   ]
  },
  {
   "cell_type": "code",
   "execution_count": 13,
   "metadata": {},
   "outputs": [
    {
     "name": "stdout",
     "output_type": "stream",
     "text": [
      "(8799, 20)\n"
     ]
    }
   ],
   "source": [
    "X_train_pp = pd.concat((X_train_id, X_train_num_scaled, X_train_hot), axis=1)\n",
    "print(X_train_pp.shape)\n"
   ]
  },
  {
   "cell_type": "code",
   "execution_count": 14,
   "metadata": {},
   "outputs": [
    {
     "data": {
      "text/plain": [
       "(   ID  Customer_care_calls  Customer_rating  Cost_of_the_Product  \\\n",
       " 0   1                  0.2             0.75              0.17757   \n",
       " \n",
       "    Prior_purchases  Discount_offered  Weight_in_gms  Warehouse_block_A  \\\n",
       " 0            0.125          0.078125       0.683565              False   \n",
       " \n",
       "    Warehouse_block_B  Warehouse_block_C  Warehouse_block_D  Warehouse_block_F  \\\n",
       " 0               True              False              False              False   \n",
       " \n",
       "    Mode_of_Shipment_Flight  Mode_of_Shipment_Road  Mode_of_Shipment_Ship  \\\n",
       " 0                    False                  False                   True   \n",
       " \n",
       "    Product_importance_high  Product_importance_low  Product_importance_medium  \\\n",
       " 0                     True                   False                      False   \n",
       " \n",
       "    Gender_F  Gender_M  \n",
       " 0      True     False  ,\n",
       "    ID  Reached.on.Time_Y.N\n",
       " 0   1                    0)"
      ]
     },
     "execution_count": 14,
     "metadata": {},
     "output_type": "execute_result"
    }
   ],
   "source": [
    "X_train_pp.head(1), y_train.head(1)"
   ]
  },
  {
   "cell_type": "code",
   "execution_count": 15,
   "metadata": {},
   "outputs": [
    {
     "data": {
      "text/plain": [
       "((8799, 19), (8799,))"
      ]
     },
     "execution_count": 15,
     "metadata": {},
     "output_type": "execute_result"
    }
   ],
   "source": [
    "X = X_train_pp.iloc[:,1:]\n",
    "y = y_train.iloc[:,1]\n",
    "X.shape, y.shape"
   ]
  },
  {
   "cell_type": "code",
   "execution_count": 16,
   "metadata": {},
   "outputs": [
    {
     "data": {
      "text/plain": [
       "<generator object _BaseKFold.split at 0x00000211CD4C0F90>"
      ]
     },
     "execution_count": 16,
     "metadata": {},
     "output_type": "execute_result"
    }
   ],
   "source": [
    "from sklearn.ensemble import RandomForestClassifier\n",
    "from sklearn.svm import SVC\n",
    "from sklearn.model_selection import StratifiedKFold, GridSearchCV\n",
    "\n",
    "skf = StratifiedKFold(n_splits=5)\n",
    "skf.split(X=X, y=y)\n"
   ]
  },
  {
   "cell_type": "code",
   "execution_count": 24,
   "metadata": {},
   "outputs": [],
   "source": [
    "import numpy as np\n",
    "\n",
    "arange = np.concatenate((\n",
    "    np.arange(0.1, 1, 0.5),\n",
    "    np.arange(1, 10, 5),\n",
    "    np.arange(10, 100, 50)\n",
    "))\n",
    "\n",
    "param_grid = {\n",
    "    'rfc' : {'n_estimators' : [10,20,30,40]},\n",
    "    'svc' : {'C' : arange, 'gamma' : arange}\n",
    "}"
   ]
  },
  {
   "cell_type": "code",
   "execution_count": 25,
   "metadata": {},
   "outputs": [
    {
     "name": "stdout",
     "output_type": "stream",
     "text": [
      "rfc\n",
      "RandomForestClassifier(n_estimators=20, random_state=42)\n",
      "{'n_estimators': 20}\n",
      "0.6630285802883871\n",
      "svc\n",
      "SVC(C=0.6, gamma=0.1, random_state=42)\n",
      "{'C': 0.6, 'gamma': 0.1}\n",
      "0.6573487001912244\n"
     ]
    }
   ],
   "source": [
    "for name, model in [\n",
    "    ('rfc',RandomForestClassifier(random_state=42)),\n",
    "    ('svc', SVC(random_state=42))\n",
    "    ]: \n",
    "    gsc = GridSearchCV(estimator=model, param_grid=param_grid[name], cv=skf)\n",
    "    gsc.fit(X,y)\n",
    "    print(name)\n",
    "    print(gsc.best_estimator_)\n",
    "    print(gsc.best_params_)\n",
    "    print(gsc.best_score_)"
   ]
  },
  {
   "cell_type": "code",
   "execution_count": 27,
   "metadata": {},
   "outputs": [
    {
     "name": "stderr",
     "output_type": "stream",
     "text": [
      "c:\\Users\\Caelu\\anaconda3\\lib\\site-packages\\sklearn\\discriminant_analysis.py:935: UserWarning: Variables are collinear\n",
      "  warnings.warn(\"Variables are collinear\")\n"
     ]
    },
    {
     "data": {
      "text/html": [
       "<style>#sk-container-id-1 {\n",
       "  /* Definition of color scheme common for light and dark mode */\n",
       "  --sklearn-color-text: black;\n",
       "  --sklearn-color-line: gray;\n",
       "  /* Definition of color scheme for unfitted estimators */\n",
       "  --sklearn-color-unfitted-level-0: #fff5e6;\n",
       "  --sklearn-color-unfitted-level-1: #f6e4d2;\n",
       "  --sklearn-color-unfitted-level-2: #ffe0b3;\n",
       "  --sklearn-color-unfitted-level-3: chocolate;\n",
       "  /* Definition of color scheme for fitted estimators */\n",
       "  --sklearn-color-fitted-level-0: #f0f8ff;\n",
       "  --sklearn-color-fitted-level-1: #d4ebff;\n",
       "  --sklearn-color-fitted-level-2: #b3dbfd;\n",
       "  --sklearn-color-fitted-level-3: cornflowerblue;\n",
       "\n",
       "  /* Specific color for light theme */\n",
       "  --sklearn-color-text-on-default-background: var(--sg-text-color, var(--theme-code-foreground, var(--jp-content-font-color1, black)));\n",
       "  --sklearn-color-background: var(--sg-background-color, var(--theme-background, var(--jp-layout-color0, white)));\n",
       "  --sklearn-color-border-box: var(--sg-text-color, var(--theme-code-foreground, var(--jp-content-font-color1, black)));\n",
       "  --sklearn-color-icon: #696969;\n",
       "\n",
       "  @media (prefers-color-scheme: dark) {\n",
       "    /* Redefinition of color scheme for dark theme */\n",
       "    --sklearn-color-text-on-default-background: var(--sg-text-color, var(--theme-code-foreground, var(--jp-content-font-color1, white)));\n",
       "    --sklearn-color-background: var(--sg-background-color, var(--theme-background, var(--jp-layout-color0, #111)));\n",
       "    --sklearn-color-border-box: var(--sg-text-color, var(--theme-code-foreground, var(--jp-content-font-color1, white)));\n",
       "    --sklearn-color-icon: #878787;\n",
       "  }\n",
       "}\n",
       "\n",
       "#sk-container-id-1 {\n",
       "  color: var(--sklearn-color-text);\n",
       "}\n",
       "\n",
       "#sk-container-id-1 pre {\n",
       "  padding: 0;\n",
       "}\n",
       "\n",
       "#sk-container-id-1 input.sk-hidden--visually {\n",
       "  border: 0;\n",
       "  clip: rect(1px 1px 1px 1px);\n",
       "  clip: rect(1px, 1px, 1px, 1px);\n",
       "  height: 1px;\n",
       "  margin: -1px;\n",
       "  overflow: hidden;\n",
       "  padding: 0;\n",
       "  position: absolute;\n",
       "  width: 1px;\n",
       "}\n",
       "\n",
       "#sk-container-id-1 div.sk-dashed-wrapped {\n",
       "  border: 1px dashed var(--sklearn-color-line);\n",
       "  margin: 0 0.4em 0.5em 0.4em;\n",
       "  box-sizing: border-box;\n",
       "  padding-bottom: 0.4em;\n",
       "  background-color: var(--sklearn-color-background);\n",
       "}\n",
       "\n",
       "#sk-container-id-1 div.sk-container {\n",
       "  /* jupyter's `normalize.less` sets `[hidden] { display: none; }`\n",
       "     but bootstrap.min.css set `[hidden] { display: none !important; }`\n",
       "     so we also need the `!important` here to be able to override the\n",
       "     default hidden behavior on the sphinx rendered scikit-learn.org.\n",
       "     See: https://github.com/scikit-learn/scikit-learn/issues/21755 */\n",
       "  display: inline-block !important;\n",
       "  position: relative;\n",
       "}\n",
       "\n",
       "#sk-container-id-1 div.sk-text-repr-fallback {\n",
       "  display: none;\n",
       "}\n",
       "\n",
       "div.sk-parallel-item,\n",
       "div.sk-serial,\n",
       "div.sk-item {\n",
       "  /* draw centered vertical line to link estimators */\n",
       "  background-image: linear-gradient(var(--sklearn-color-text-on-default-background), var(--sklearn-color-text-on-default-background));\n",
       "  background-size: 2px 100%;\n",
       "  background-repeat: no-repeat;\n",
       "  background-position: center center;\n",
       "}\n",
       "\n",
       "/* Parallel-specific style estimator block */\n",
       "\n",
       "#sk-container-id-1 div.sk-parallel-item::after {\n",
       "  content: \"\";\n",
       "  width: 100%;\n",
       "  border-bottom: 2px solid var(--sklearn-color-text-on-default-background);\n",
       "  flex-grow: 1;\n",
       "}\n",
       "\n",
       "#sk-container-id-1 div.sk-parallel {\n",
       "  display: flex;\n",
       "  align-items: stretch;\n",
       "  justify-content: center;\n",
       "  background-color: var(--sklearn-color-background);\n",
       "  position: relative;\n",
       "}\n",
       "\n",
       "#sk-container-id-1 div.sk-parallel-item {\n",
       "  display: flex;\n",
       "  flex-direction: column;\n",
       "}\n",
       "\n",
       "#sk-container-id-1 div.sk-parallel-item:first-child::after {\n",
       "  align-self: flex-end;\n",
       "  width: 50%;\n",
       "}\n",
       "\n",
       "#sk-container-id-1 div.sk-parallel-item:last-child::after {\n",
       "  align-self: flex-start;\n",
       "  width: 50%;\n",
       "}\n",
       "\n",
       "#sk-container-id-1 div.sk-parallel-item:only-child::after {\n",
       "  width: 0;\n",
       "}\n",
       "\n",
       "/* Serial-specific style estimator block */\n",
       "\n",
       "#sk-container-id-1 div.sk-serial {\n",
       "  display: flex;\n",
       "  flex-direction: column;\n",
       "  align-items: center;\n",
       "  background-color: var(--sklearn-color-background);\n",
       "  padding-right: 1em;\n",
       "  padding-left: 1em;\n",
       "}\n",
       "\n",
       "\n",
       "/* Toggleable style: style used for estimator/Pipeline/ColumnTransformer box that is\n",
       "clickable and can be expanded/collapsed.\n",
       "- Pipeline and ColumnTransformer use this feature and define the default style\n",
       "- Estimators will overwrite some part of the style using the `sk-estimator` class\n",
       "*/\n",
       "\n",
       "/* Pipeline and ColumnTransformer style (default) */\n",
       "\n",
       "#sk-container-id-1 div.sk-toggleable {\n",
       "  /* Default theme specific background. It is overwritten whether we have a\n",
       "  specific estimator or a Pipeline/ColumnTransformer */\n",
       "  background-color: var(--sklearn-color-background);\n",
       "}\n",
       "\n",
       "/* Toggleable label */\n",
       "#sk-container-id-1 label.sk-toggleable__label {\n",
       "  cursor: pointer;\n",
       "  display: block;\n",
       "  width: 100%;\n",
       "  margin-bottom: 0;\n",
       "  padding: 0.5em;\n",
       "  box-sizing: border-box;\n",
       "  text-align: center;\n",
       "}\n",
       "\n",
       "#sk-container-id-1 label.sk-toggleable__label-arrow:before {\n",
       "  /* Arrow on the left of the label */\n",
       "  content: \"▸\";\n",
       "  float: left;\n",
       "  margin-right: 0.25em;\n",
       "  color: var(--sklearn-color-icon);\n",
       "}\n",
       "\n",
       "#sk-container-id-1 label.sk-toggleable__label-arrow:hover:before {\n",
       "  color: var(--sklearn-color-text);\n",
       "}\n",
       "\n",
       "/* Toggleable content - dropdown */\n",
       "\n",
       "#sk-container-id-1 div.sk-toggleable__content {\n",
       "  max-height: 0;\n",
       "  max-width: 0;\n",
       "  overflow: hidden;\n",
       "  text-align: left;\n",
       "  /* unfitted */\n",
       "  background-color: var(--sklearn-color-unfitted-level-0);\n",
       "}\n",
       "\n",
       "#sk-container-id-1 div.sk-toggleable__content.fitted {\n",
       "  /* fitted */\n",
       "  background-color: var(--sklearn-color-fitted-level-0);\n",
       "}\n",
       "\n",
       "#sk-container-id-1 div.sk-toggleable__content pre {\n",
       "  margin: 0.2em;\n",
       "  border-radius: 0.25em;\n",
       "  color: var(--sklearn-color-text);\n",
       "  /* unfitted */\n",
       "  background-color: var(--sklearn-color-unfitted-level-0);\n",
       "}\n",
       "\n",
       "#sk-container-id-1 div.sk-toggleable__content.fitted pre {\n",
       "  /* unfitted */\n",
       "  background-color: var(--sklearn-color-fitted-level-0);\n",
       "}\n",
       "\n",
       "#sk-container-id-1 input.sk-toggleable__control:checked~div.sk-toggleable__content {\n",
       "  /* Expand drop-down */\n",
       "  max-height: 200px;\n",
       "  max-width: 100%;\n",
       "  overflow: auto;\n",
       "}\n",
       "\n",
       "#sk-container-id-1 input.sk-toggleable__control:checked~label.sk-toggleable__label-arrow:before {\n",
       "  content: \"▾\";\n",
       "}\n",
       "\n",
       "/* Pipeline/ColumnTransformer-specific style */\n",
       "\n",
       "#sk-container-id-1 div.sk-label input.sk-toggleable__control:checked~label.sk-toggleable__label {\n",
       "  color: var(--sklearn-color-text);\n",
       "  background-color: var(--sklearn-color-unfitted-level-2);\n",
       "}\n",
       "\n",
       "#sk-container-id-1 div.sk-label.fitted input.sk-toggleable__control:checked~label.sk-toggleable__label {\n",
       "  background-color: var(--sklearn-color-fitted-level-2);\n",
       "}\n",
       "\n",
       "/* Estimator-specific style */\n",
       "\n",
       "/* Colorize estimator box */\n",
       "#sk-container-id-1 div.sk-estimator input.sk-toggleable__control:checked~label.sk-toggleable__label {\n",
       "  /* unfitted */\n",
       "  background-color: var(--sklearn-color-unfitted-level-2);\n",
       "}\n",
       "\n",
       "#sk-container-id-1 div.sk-estimator.fitted input.sk-toggleable__control:checked~label.sk-toggleable__label {\n",
       "  /* fitted */\n",
       "  background-color: var(--sklearn-color-fitted-level-2);\n",
       "}\n",
       "\n",
       "#sk-container-id-1 div.sk-label label.sk-toggleable__label,\n",
       "#sk-container-id-1 div.sk-label label {\n",
       "  /* The background is the default theme color */\n",
       "  color: var(--sklearn-color-text-on-default-background);\n",
       "}\n",
       "\n",
       "/* On hover, darken the color of the background */\n",
       "#sk-container-id-1 div.sk-label:hover label.sk-toggleable__label {\n",
       "  color: var(--sklearn-color-text);\n",
       "  background-color: var(--sklearn-color-unfitted-level-2);\n",
       "}\n",
       "\n",
       "/* Label box, darken color on hover, fitted */\n",
       "#sk-container-id-1 div.sk-label.fitted:hover label.sk-toggleable__label.fitted {\n",
       "  color: var(--sklearn-color-text);\n",
       "  background-color: var(--sklearn-color-fitted-level-2);\n",
       "}\n",
       "\n",
       "/* Estimator label */\n",
       "\n",
       "#sk-container-id-1 div.sk-label label {\n",
       "  font-family: monospace;\n",
       "  font-weight: bold;\n",
       "  display: inline-block;\n",
       "  line-height: 1.2em;\n",
       "}\n",
       "\n",
       "#sk-container-id-1 div.sk-label-container {\n",
       "  text-align: center;\n",
       "}\n",
       "\n",
       "/* Estimator-specific */\n",
       "#sk-container-id-1 div.sk-estimator {\n",
       "  font-family: monospace;\n",
       "  border: 1px dotted var(--sklearn-color-border-box);\n",
       "  border-radius: 0.25em;\n",
       "  box-sizing: border-box;\n",
       "  margin-bottom: 0.5em;\n",
       "  /* unfitted */\n",
       "  background-color: var(--sklearn-color-unfitted-level-0);\n",
       "}\n",
       "\n",
       "#sk-container-id-1 div.sk-estimator.fitted {\n",
       "  /* fitted */\n",
       "  background-color: var(--sklearn-color-fitted-level-0);\n",
       "}\n",
       "\n",
       "/* on hover */\n",
       "#sk-container-id-1 div.sk-estimator:hover {\n",
       "  /* unfitted */\n",
       "  background-color: var(--sklearn-color-unfitted-level-2);\n",
       "}\n",
       "\n",
       "#sk-container-id-1 div.sk-estimator.fitted:hover {\n",
       "  /* fitted */\n",
       "  background-color: var(--sklearn-color-fitted-level-2);\n",
       "}\n",
       "\n",
       "/* Specification for estimator info (e.g. \"i\" and \"?\") */\n",
       "\n",
       "/* Common style for \"i\" and \"?\" */\n",
       "\n",
       ".sk-estimator-doc-link,\n",
       "a:link.sk-estimator-doc-link,\n",
       "a:visited.sk-estimator-doc-link {\n",
       "  float: right;\n",
       "  font-size: smaller;\n",
       "  line-height: 1em;\n",
       "  font-family: monospace;\n",
       "  background-color: var(--sklearn-color-background);\n",
       "  border-radius: 1em;\n",
       "  height: 1em;\n",
       "  width: 1em;\n",
       "  text-decoration: none !important;\n",
       "  margin-left: 1ex;\n",
       "  /* unfitted */\n",
       "  border: var(--sklearn-color-unfitted-level-1) 1pt solid;\n",
       "  color: var(--sklearn-color-unfitted-level-1);\n",
       "}\n",
       "\n",
       ".sk-estimator-doc-link.fitted,\n",
       "a:link.sk-estimator-doc-link.fitted,\n",
       "a:visited.sk-estimator-doc-link.fitted {\n",
       "  /* fitted */\n",
       "  border: var(--sklearn-color-fitted-level-1) 1pt solid;\n",
       "  color: var(--sklearn-color-fitted-level-1);\n",
       "}\n",
       "\n",
       "/* On hover */\n",
       "div.sk-estimator:hover .sk-estimator-doc-link:hover,\n",
       ".sk-estimator-doc-link:hover,\n",
       "div.sk-label-container:hover .sk-estimator-doc-link:hover,\n",
       ".sk-estimator-doc-link:hover {\n",
       "  /* unfitted */\n",
       "  background-color: var(--sklearn-color-unfitted-level-3);\n",
       "  color: var(--sklearn-color-background);\n",
       "  text-decoration: none;\n",
       "}\n",
       "\n",
       "div.sk-estimator.fitted:hover .sk-estimator-doc-link.fitted:hover,\n",
       ".sk-estimator-doc-link.fitted:hover,\n",
       "div.sk-label-container:hover .sk-estimator-doc-link.fitted:hover,\n",
       ".sk-estimator-doc-link.fitted:hover {\n",
       "  /* fitted */\n",
       "  background-color: var(--sklearn-color-fitted-level-3);\n",
       "  color: var(--sklearn-color-background);\n",
       "  text-decoration: none;\n",
       "}\n",
       "\n",
       "/* Span, style for the box shown on hovering the info icon */\n",
       ".sk-estimator-doc-link span {\n",
       "  display: none;\n",
       "  z-index: 9999;\n",
       "  position: relative;\n",
       "  font-weight: normal;\n",
       "  right: .2ex;\n",
       "  padding: .5ex;\n",
       "  margin: .5ex;\n",
       "  width: min-content;\n",
       "  min-width: 20ex;\n",
       "  max-width: 50ex;\n",
       "  color: var(--sklearn-color-text);\n",
       "  box-shadow: 2pt 2pt 4pt #999;\n",
       "  /* unfitted */\n",
       "  background: var(--sklearn-color-unfitted-level-0);\n",
       "  border: .5pt solid var(--sklearn-color-unfitted-level-3);\n",
       "}\n",
       "\n",
       ".sk-estimator-doc-link.fitted span {\n",
       "  /* fitted */\n",
       "  background: var(--sklearn-color-fitted-level-0);\n",
       "  border: var(--sklearn-color-fitted-level-3);\n",
       "}\n",
       "\n",
       ".sk-estimator-doc-link:hover span {\n",
       "  display: block;\n",
       "}\n",
       "\n",
       "/* \"?\"-specific style due to the `<a>` HTML tag */\n",
       "\n",
       "#sk-container-id-1 a.estimator_doc_link {\n",
       "  float: right;\n",
       "  font-size: 1rem;\n",
       "  line-height: 1em;\n",
       "  font-family: monospace;\n",
       "  background-color: var(--sklearn-color-background);\n",
       "  border-radius: 1rem;\n",
       "  height: 1rem;\n",
       "  width: 1rem;\n",
       "  text-decoration: none;\n",
       "  /* unfitted */\n",
       "  color: var(--sklearn-color-unfitted-level-1);\n",
       "  border: var(--sklearn-color-unfitted-level-1) 1pt solid;\n",
       "}\n",
       "\n",
       "#sk-container-id-1 a.estimator_doc_link.fitted {\n",
       "  /* fitted */\n",
       "  border: var(--sklearn-color-fitted-level-1) 1pt solid;\n",
       "  color: var(--sklearn-color-fitted-level-1);\n",
       "}\n",
       "\n",
       "/* On hover */\n",
       "#sk-container-id-1 a.estimator_doc_link:hover {\n",
       "  /* unfitted */\n",
       "  background-color: var(--sklearn-color-unfitted-level-3);\n",
       "  color: var(--sklearn-color-background);\n",
       "  text-decoration: none;\n",
       "}\n",
       "\n",
       "#sk-container-id-1 a.estimator_doc_link.fitted:hover {\n",
       "  /* fitted */\n",
       "  background-color: var(--sklearn-color-fitted-level-3);\n",
       "}\n",
       "</style><div id=\"sk-container-id-1\" class=\"sk-top-container\"><div class=\"sk-text-repr-fallback\"><pre>QuadraticDiscriminantAnalysis()</pre><b>In a Jupyter environment, please rerun this cell to show the HTML representation or trust the notebook. <br />On GitHub, the HTML representation is unable to render, please try loading this page with nbviewer.org.</b></div><div class=\"sk-container\" hidden><div class=\"sk-item\"><div class=\"sk-estimator fitted sk-toggleable\"><input class=\"sk-toggleable__control sk-hidden--visually\" id=\"sk-estimator-id-1\" type=\"checkbox\" checked><label for=\"sk-estimator-id-1\" class=\"sk-toggleable__label fitted sk-toggleable__label-arrow fitted\">&nbsp;&nbsp;QuadraticDiscriminantAnalysis<a class=\"sk-estimator-doc-link fitted\" rel=\"noreferrer\" target=\"_blank\" href=\"https://scikit-learn.org/1.4/modules/generated/sklearn.discriminant_analysis.QuadraticDiscriminantAnalysis.html\">?<span>Documentation for QuadraticDiscriminantAnalysis</span></a><span class=\"sk-estimator-doc-link fitted\">i<span>Fitted</span></span></label><div class=\"sk-toggleable__content fitted\"><pre>QuadraticDiscriminantAnalysis()</pre></div> </div></div></div></div>"
      ],
      "text/plain": [
       "QuadraticDiscriminantAnalysis()"
      ]
     },
     "execution_count": 27,
     "metadata": {},
     "output_type": "execute_result"
    }
   ],
   "source": [
    "from sklearn.discriminant_analysis import QuadraticDiscriminantAnalysis\n",
    "qda = QuadraticDiscriminantAnalysis()\n",
    "qda.fit(X,y)"
   ]
  },
  {
   "cell_type": "code",
   "execution_count": 28,
   "metadata": {},
   "outputs": [
    {
     "data": {
      "text/plain": [
       "0.6251846800772816"
      ]
     },
     "execution_count": 28,
     "metadata": {},
     "output_type": "execute_result"
    }
   ],
   "source": [
    "qda.score(X,y)"
   ]
  },
  {
   "cell_type": "code",
   "execution_count": 34,
   "metadata": {},
   "outputs": [
    {
     "data": {
      "text/plain": [
       "0.9988635072167291"
      ]
     },
     "execution_count": 34,
     "metadata": {},
     "output_type": "execute_result"
    }
   ],
   "source": [
    "rfc = RandomForestClassifier(random_state=42, n_estimators=25)\n",
    "rfc.fit(X,y)\n",
    "rfc.score(X,y)"
   ]
  },
  {
   "cell_type": "code",
   "execution_count": 35,
   "metadata": {},
   "outputs": [],
   "source": [
    "X_test = pd.read_csv('EC_X_test.csv', header=0)"
   ]
  },
  {
   "cell_type": "code",
   "execution_count": 36,
   "metadata": {},
   "outputs": [
    {
     "name": "stdout",
     "output_type": "stream",
     "text": [
      "     ID\n",
      "0  8800\n",
      "<class 'pandas.core.frame.DataFrame'>\n",
      "RangeIndex: 2200 entries, 0 to 2199\n",
      "Data columns (total 6 columns):\n",
      " #   Column               Non-Null Count  Dtype\n",
      "---  ------               --------------  -----\n",
      " 0   Customer_care_calls  2200 non-null   int64\n",
      " 1   Customer_rating      2200 non-null   int64\n",
      " 2   Cost_of_the_Product  2200 non-null   int64\n",
      " 3   Prior_purchases      2200 non-null   int64\n",
      " 4   Discount_offered     2200 non-null   int64\n",
      " 5   Weight_in_gms        2200 non-null   int64\n",
      "dtypes: int64(6)\n",
      "memory usage: 103.2 KB\n"
     ]
    }
   ],
   "source": [
    "X_test_id = X_test[['ID']]\n",
    "print(X_test_id.head(1))\n",
    "X_test_num = X_test[[\n",
    "    'Customer_care_calls',\n",
    "    'Customer_rating', \n",
    "    'Cost_of_the_Product',\n",
    "    'Prior_purchases',\n",
    "    'Discount_offered',\n",
    "    'Weight_in_gms'\n",
    "    ]]\n",
    "X_test_num.info()"
   ]
  },
  {
   "cell_type": "code",
   "execution_count": 37,
   "metadata": {},
   "outputs": [],
   "source": [
    "X_test_num_scaled = scaler.transform(X_test_num)"
   ]
  },
  {
   "cell_type": "code",
   "execution_count": 38,
   "metadata": {},
   "outputs": [
    {
     "name": "stdout",
     "output_type": "stream",
     "text": [
      "<class 'pandas.core.frame.DataFrame'>\n",
      "RangeIndex: 2200 entries, 0 to 2199\n",
      "Data columns (total 4 columns):\n",
      " #   Column              Non-Null Count  Dtype \n",
      "---  ------              --------------  ----- \n",
      " 0   Warehouse_block     2200 non-null   object\n",
      " 1   Mode_of_Shipment    2200 non-null   object\n",
      " 2   Product_importance  2200 non-null   object\n",
      " 3   Gender              2200 non-null   object\n",
      "dtypes: object(4)\n",
      "memory usage: 68.9+ KB\n",
      "None\n",
      "(8799, 13)\n"
     ]
    }
   ],
   "source": [
    "X_test_cat = X_test[[\n",
    "    'Warehouse_block',\n",
    "    'Mode_of_Shipment',\n",
    "    'Product_importance',\n",
    "    'Gender'\n",
    "]]\n",
    "print(X_test_cat.info())\n",
    "X_test_hot = pd.get_dummies(X_test_cat)\n",
    "print(X_train_hot.shape)"
   ]
  },
  {
   "cell_type": "code",
   "execution_count": 47,
   "metadata": {},
   "outputs": [],
   "source": [
    "X_test_num_scaled= pd.DataFrame(X_test_num_scaled, columns=X_test_num.columns)\n",
    "\n",
    "X_te = pd.concat([X_test_num_scaled, X_test_hot], axis=1)"
   ]
  },
  {
   "cell_type": "code",
   "execution_count": 48,
   "metadata": {},
   "outputs": [
    {
     "data": {
      "text/plain": [
       "(2200, 19)"
      ]
     },
     "execution_count": 48,
     "metadata": {},
     "output_type": "execute_result"
    }
   ],
   "source": [
    "X_te.shape"
   ]
  },
  {
   "cell_type": "code",
   "execution_count": 49,
   "metadata": {},
   "outputs": [],
   "source": [
    "y_te = pd.read_csv('EC_result.csv')\n",
    "y_te = y_te.iloc[:,-1]"
   ]
  },
  {
   "cell_type": "code",
   "execution_count": 50,
   "metadata": {},
   "outputs": [
    {
     "data": {
      "text/plain": [
       "0.7627272727272727"
      ]
     },
     "execution_count": 50,
     "metadata": {},
     "output_type": "execute_result"
    }
   ],
   "source": [
    "rfc.score(X_te, y_te)"
   ]
  },
  {
   "cell_type": "code",
   "execution_count": 51,
   "metadata": {},
   "outputs": [
    {
     "data": {
      "text/plain": [
       "0.7836363636363637"
      ]
     },
     "execution_count": 51,
     "metadata": {},
     "output_type": "execute_result"
    }
   ],
   "source": [
    "svc = SVC(C=0.6, gamma=0.1, random_state=42).fit(X,y)\n",
    "svc.score(X_te, y_te)"
   ]
  },
  {
   "cell_type": "code",
   "execution_count": 56,
   "metadata": {},
   "outputs": [
    {
     "data": {
      "text/plain": [
       "array([ 5,  4,  2,  3,  1,  0, 10, 16, 15, 13, 18,  7,  8, 11, 17,  9, 12,\n",
       "        6, 14], dtype=int64)"
      ]
     },
     "execution_count": 56,
     "metadata": {},
     "output_type": "execute_result"
    }
   ],
   "source": [
    "sorted_importances = np.argsort(rfc.feature_importances_)[::-1]\n",
    "sorted_importances"
   ]
  },
  {
   "cell_type": "code",
   "execution_count": 57,
   "metadata": {},
   "outputs": [
    {
     "name": "stdout",
     "output_type": "stream",
     "text": [
      "(5, 'Weight_in_gms', 0.25953173011158465)\n",
      "(4, 'Discount_offered', 0.23254734858022877)\n",
      "(2, 'Cost_of_the_Product', 0.16871551080413003)\n",
      "(3, 'Prior_purchases', 0.06755971439604243)\n",
      "(1, 'Customer_rating', 0.061779437932311755)\n",
      "(0, 'Customer_care_calls', 0.05618552878225768)\n",
      "(10, 'Warehouse_block_F', 0.015704149863890442)\n",
      "(16, 'Product_importance_medium', 0.01367858289056217)\n",
      "(15, 'Product_importance_low', 0.012699371420001722)\n",
      "(13, 'Mode_of_Shipment_Ship', 0.012670124017851316)\n",
      "(18, 'Gender_M', 0.012582522083635332)\n",
      "(7, 'Warehouse_block_B', 0.01211110116147354)\n",
      "(8, 'Warehouse_block_C', 0.012031553336316319)\n",
      "(11, 'Mode_of_Shipment_Flight', 0.011441055934752833)\n",
      "(17, 'Gender_F', 0.011426558028475212)\n",
      "(9, 'Warehouse_block_D', 0.011367377873915804)\n",
      "(12, 'Mode_of_Shipment_Road', 0.011349601451180705)\n",
      "(6, 'Warehouse_block_A', 0.010144371884244949)\n",
      "(14, 'Product_importance_high', 0.006474359447144193)\n"
     ]
    }
   ],
   "source": [
    "features_ranking = [(i, X_te.columns[i], rfc.feature_importances_[i]) for i in sorted_importances]\n",
    "print(*features_ranking, sep='\\n')"
   ]
  },
  {
   "cell_type": "code",
   "execution_count": 62,
   "metadata": {},
   "outputs": [
    {
     "data": {
      "image/png": "[encoded data removed]",
      "text/plain": [
       "<Figure size 640x480 with 1 Axes>"
      ]
     },
     "metadata": {},
     "output_type": "display_data"
    }
   ],
   "source": [
    "import matplotlib.pyplot as plt\n",
    "var = list(zip(*features_ranking))\n",
    "plt.barh(range(len(features_ranking)), var[2], align='center')\n",
    "plt.yticks(range(len(features_ranking)), var[1])\n",
    "           \n",
    "plt.show()"
   ]
  },
  {
   "cell_type": "markdown",
   "metadata": {},
   "source": [
    "### 연습문제 2\n",
    "- 아래 데이터셋의 여행객 정보를 기반으로 여행보험 상품 가입 여부를 예측하시오\n",
    "- (train 데이터의 TravelInsurance 컬럼이 상품 가입 여부이며, 독립변수로 되어 있는 test\n",
    "데이터로 예측)\n",
    "- ID와 예측치를 csv 파일로 저장하시오 (Travel_result.csv)"
   ]
  },
  {
   "cell_type": "code",
   "execution_count": 1,
   "metadata": {},
   "outputs": [],
   "source": [
    "import os\n",
    "import pandas as pd\n",
    "\n",
    "path = r'D:\\elice_python\\GAS_5\\pytest_python'\n",
    "\n",
    "os.chdir(path)"
   ]
  },
  {
   "cell_type": "code",
   "execution_count": 2,
   "metadata": {},
   "outputs": [
    {
     "data": {
      "text/plain": [
       "((1501, 10), (486, 9))"
      ]
     },
     "execution_count": 2,
     "metadata": {},
     "output_type": "execute_result"
    }
   ],
   "source": [
    "train = pd.read_csv(os.path.join(path,'TravelInsurancePrediction_train.csv'))\n",
    "test = pd.read_csv(os.path.join(path, 'TravelInsurancePrediction_test.csv'))\n",
    "\n",
    "train.shape, test.shape"
   ]
  },
  {
   "cell_type": "code",
   "execution_count": 3,
   "metadata": {},
   "outputs": [
    {
     "data": {
      "text/html": [
       "<div>\n",
       "<style scoped>\n",
       "    .dataframe tbody tr th:only-of-type {\n",
       "        vertical-align: middle;\n",
       "    }\n",
       "\n",
       "    .dataframe tbody tr th {\n",
       "        vertical-align: top;\n",
       "    }\n",
       "\n",
       "    .dataframe thead th {\n",
       "        text-align: right;\n",
       "    }\n",
       "</style>\n",
       "<table border=\"1\" class=\"dataframe\">\n",
       "  <thead>\n",
       "    <tr style=\"text-align: right;\">\n",
       "      <th></th>\n",
       "      <th>ID</th>\n",
       "      <th>Age</th>\n",
       "      <th>Employment Type</th>\n",
       "      <th>GraduateOrNot</th>\n",
       "      <th>AnnualIncome</th>\n",
       "      <th>FamilyMembers</th>\n",
       "      <th>ChronicDiseases</th>\n",
       "      <th>FrequentFlyer</th>\n",
       "      <th>EverTravelledAbroad</th>\n",
       "      <th>TravelInsurance</th>\n",
       "    </tr>\n",
       "  </thead>\n",
       "  <tbody>\n",
       "    <tr>\n",
       "      <th>0</th>\n",
       "      <td>0</td>\n",
       "      <td>31</td>\n",
       "      <td>Government Sector</td>\n",
       "      <td>Yes</td>\n",
       "      <td>400000</td>\n",
       "      <td>6</td>\n",
       "      <td>1</td>\n",
       "      <td>No</td>\n",
       "      <td>No</td>\n",
       "      <td>0</td>\n",
       "    </tr>\n",
       "  </tbody>\n",
       "</table>\n",
       "</div>"
      ],
      "text/plain": [
       "   ID  Age    Employment Type GraduateOrNot  AnnualIncome  FamilyMembers  \\\n",
       "0   0   31  Government Sector           Yes        400000              6   \n",
       "\n",
       "   ChronicDiseases FrequentFlyer EverTravelledAbroad  TravelInsurance  \n",
       "0                1            No                  No                0  "
      ]
     },
     "execution_count": 3,
     "metadata": {},
     "output_type": "execute_result"
    }
   ],
   "source": [
    "train.head(1)"
   ]
  },
  {
   "cell_type": "code",
   "execution_count": 4,
   "metadata": {},
   "outputs": [
    {
     "name": "stdout",
     "output_type": "stream",
     "text": [
      "<class 'pandas.core.frame.DataFrame'>\n",
      "RangeIndex: 1501 entries, 0 to 1500\n",
      "Data columns (total 10 columns):\n",
      " #   Column               Non-Null Count  Dtype \n",
      "---  ------               --------------  ----- \n",
      " 0   ID                   1501 non-null   int64 \n",
      " 1   Age                  1501 non-null   int64 \n",
      " 2   Employment Type      1501 non-null   object\n",
      " 3   GraduateOrNot        1501 non-null   object\n",
      " 4   AnnualIncome         1501 non-null   int64 \n",
      " 5   FamilyMembers        1501 non-null   int64 \n",
      " 6   ChronicDiseases      1501 non-null   int64 \n",
      " 7   FrequentFlyer        1501 non-null   object\n",
      " 8   EverTravelledAbroad  1501 non-null   object\n",
      " 9   TravelInsurance      1501 non-null   int64 \n",
      "dtypes: int64(6), object(4)\n",
      "memory usage: 117.4+ KB\n"
     ]
    }
   ],
   "source": [
    "train.info()"
   ]
  },
  {
   "cell_type": "code",
   "execution_count": 5,
   "metadata": {},
   "outputs": [
    {
     "name": "stdout",
     "output_type": "stream",
     "text": [
      "Age int64\n",
      "[31 34 28 25 33 26 32 29 35 30 27]\n",
      "[28 29 34 27 25 26 32 31 30 33 35]\n",
      "\n",
      "Employment Type object\n",
      "['Government Sector' 'Private Sector/Self Employed']\n",
      "['Private Sector/Self Employed' 'Government Sector']\n",
      "\n",
      "GraduateOrNot object\n",
      "['Yes' 'No']\n",
      "['Yes' 'No']\n",
      "\n",
      "AnnualIncome int64\n",
      "[ 400000 1250000  500000  700000 1150000 1300000 1350000 1450000  800000\n",
      " 1400000  850000 1500000 1050000  350000 1100000  600000  900000  550000\n",
      "  300000  750000 1200000 1000000  950000 1700000 1750000  650000  450000\n",
      " 1650000 1800000 1550000]\n",
      "[ 800000  750000  500000  850000 1150000 1700000 1300000 1450000 1000000\n",
      "  350000 1400000 1250000  300000  600000 1350000  400000 1200000  550000\n",
      " 1750000  650000 1100000 1500000  450000  700000  900000 1050000 1800000\n",
      "  950000 1550000]\n",
      "\n",
      "FamilyMembers int64\n",
      "[6 7 4 3 8 9 5 2]\n",
      "[4 6 2 5 3 8 7 9]\n",
      "\n",
      "ChronicDiseases int64\n",
      "[1 0]\n",
      "[0 1]\n",
      "\n",
      "FrequentFlyer object\n",
      "['No' 'Yes']\n",
      "['No' 'Yes']\n",
      "\n",
      "EverTravelledAbroad object\n",
      "['No' 'Yes']\n",
      "['No' 'Yes']\n",
      "\n"
     ]
    }
   ],
   "source": [
    "for col in test.columns[1:]:\n",
    "    print(col, train[col].dtype)\n",
    "    print(train[col].unique())\n",
    "    print(test[col].unique())\n",
    "    print()"
   ]
  },
  {
   "cell_type": "code",
   "execution_count": 6,
   "metadata": {},
   "outputs": [],
   "source": [
    "train['ChronicDiseases'] = train['ChronicDiseases'].astype(str)\n",
    "test['ChronicDiseases'] = test['ChronicDiseases'].astype(str)\n"
   ]
  },
  {
   "cell_type": "code",
   "execution_count": 7,
   "metadata": {},
   "outputs": [
    {
     "data": {
      "text/html": [
       "<div>\n",
       "<style scoped>\n",
       "    .dataframe tbody tr th:only-of-type {\n",
       "        vertical-align: middle;\n",
       "    }\n",
       "\n",
       "    .dataframe tbody tr th {\n",
       "        vertical-align: top;\n",
       "    }\n",
       "\n",
       "    .dataframe thead th {\n",
       "        text-align: right;\n",
       "    }\n",
       "</style>\n",
       "<table border=\"1\" class=\"dataframe\">\n",
       "  <thead>\n",
       "    <tr style=\"text-align: right;\">\n",
       "      <th></th>\n",
       "      <th>ID</th>\n",
       "      <th>Age</th>\n",
       "      <th>Employment Type</th>\n",
       "      <th>GraduateOrNot</th>\n",
       "      <th>AnnualIncome</th>\n",
       "      <th>FamilyMembers</th>\n",
       "      <th>ChronicDiseases</th>\n",
       "      <th>FrequentFlyer</th>\n",
       "      <th>EverTravelledAbroad</th>\n",
       "      <th>TravelInsurance</th>\n",
       "    </tr>\n",
       "  </thead>\n",
       "  <tbody>\n",
       "    <tr>\n",
       "      <th>0</th>\n",
       "      <td>0</td>\n",
       "      <td>31</td>\n",
       "      <td>Government Sector</td>\n",
       "      <td>Yes</td>\n",
       "      <td>400000</td>\n",
       "      <td>6</td>\n",
       "      <td>1</td>\n",
       "      <td>No</td>\n",
       "      <td>No</td>\n",
       "      <td>0</td>\n",
       "    </tr>\n",
       "  </tbody>\n",
       "</table>\n",
       "</div>"
      ],
      "text/plain": [
       "   ID  Age    Employment Type GraduateOrNot  AnnualIncome  FamilyMembers  \\\n",
       "0   0   31  Government Sector           Yes        400000              6   \n",
       "\n",
       "  ChronicDiseases FrequentFlyer EverTravelledAbroad  TravelInsurance  \n",
       "0               1            No                  No                0  "
      ]
     },
     "execution_count": 7,
     "metadata": {},
     "output_type": "execute_result"
    }
   ],
   "source": [
    "train.head(1)"
   ]
  },
  {
   "cell_type": "code",
   "execution_count": 8,
   "metadata": {},
   "outputs": [
    {
     "data": {
      "text/plain": [
       "((1501, 9), (1501,))"
      ]
     },
     "execution_count": 8,
     "metadata": {},
     "output_type": "execute_result"
    }
   ],
   "source": [
    "X_tr = train.iloc[:,:-1]\n",
    "y_tr = train.iloc[:,-1]\n",
    "X_tr.shape, y_tr.shape"
   ]
  },
  {
   "cell_type": "code",
   "execution_count": 9,
   "metadata": {},
   "outputs": [
    {
     "name": "stdout",
     "output_type": "stream",
     "text": [
      "<class 'pandas.core.frame.DataFrame'>\n",
      "RangeIndex: 1501 entries, 0 to 1500\n",
      "Data columns (total 5 columns):\n",
      " #   Column               Non-Null Count  Dtype \n",
      "---  ------               --------------  ----- \n",
      " 0   Employment Type      1501 non-null   object\n",
      " 1   GraduateOrNot        1501 non-null   object\n",
      " 2   ChronicDiseases      1501 non-null   object\n",
      " 3   FrequentFlyer        1501 non-null   object\n",
      " 4   EverTravelledAbroad  1501 non-null   object\n",
      "dtypes: object(5)\n",
      "memory usage: 58.8+ KB\n"
     ]
    }
   ],
   "source": [
    "X_tr_cat = X_tr.select_dtypes('object')\n",
    "X_tr_cat.info()"
   ]
  },
  {
   "cell_type": "code",
   "execution_count": 10,
   "metadata": {},
   "outputs": [
    {
     "name": "stdout",
     "output_type": "stream",
     "text": [
      "<class 'pandas.core.frame.DataFrame'>\n",
      "RangeIndex: 1501 entries, 0 to 1500\n",
      "Data columns (total 4 columns):\n",
      " #   Column         Non-Null Count  Dtype\n",
      "---  ------         --------------  -----\n",
      " 0   ID             1501 non-null   int64\n",
      " 1   Age            1501 non-null   int64\n",
      " 2   AnnualIncome   1501 non-null   int64\n",
      " 3   FamilyMembers  1501 non-null   int64\n",
      "dtypes: int64(4)\n",
      "memory usage: 47.0 KB\n"
     ]
    }
   ],
   "source": [
    "X_tr_num = X_tr.select_dtypes('int')\n",
    "X_tr_num.info()"
   ]
  },
  {
   "cell_type": "code",
   "execution_count": 11,
   "metadata": {},
   "outputs": [
    {
     "name": "stdout",
     "output_type": "stream",
     "text": [
      "<class 'pandas.core.frame.DataFrame'>\n",
      "RangeIndex: 1501 entries, 0 to 1500\n",
      "Data columns (total 3 columns):\n",
      " #   Column         Non-Null Count  Dtype\n",
      "---  ------         --------------  -----\n",
      " 0   Age            1501 non-null   int64\n",
      " 1   AnnualIncome   1501 non-null   int64\n",
      " 2   FamilyMembers  1501 non-null   int64\n",
      "dtypes: int64(3)\n",
      "memory usage: 35.3 KB\n"
     ]
    }
   ],
   "source": [
    "X_tr_id = X_tr_num.iloc[:,0]\n",
    "X_tr_num = X_tr_num.iloc[:,1:]\n",
    "X_tr_num.info()"
   ]
  },
  {
   "cell_type": "code",
   "execution_count": 12,
   "metadata": {},
   "outputs": [],
   "source": [
    "from sklearn.preprocessing import MinMaxScaler\n",
    "scaler = MinMaxScaler().fit(X_tr_num, y_tr)"
   ]
  },
  {
   "cell_type": "code",
   "execution_count": 13,
   "metadata": {},
   "outputs": [
    {
     "data": {
      "text/plain": [
       "(1501, 3)"
      ]
     },
     "execution_count": 13,
     "metadata": {},
     "output_type": "execute_result"
    }
   ],
   "source": [
    "X_tr_scaled = scaler.transform(X_tr_num)\n",
    "X_tr_scaled.shape"
   ]
  },
  {
   "cell_type": "code",
   "execution_count": 14,
   "metadata": {},
   "outputs": [
    {
     "data": {
      "text/html": [
       "<div>\n",
       "<style scoped>\n",
       "    .dataframe tbody tr th:only-of-type {\n",
       "        vertical-align: middle;\n",
       "    }\n",
       "\n",
       "    .dataframe tbody tr th {\n",
       "        vertical-align: top;\n",
       "    }\n",
       "\n",
       "    .dataframe thead th {\n",
       "        text-align: right;\n",
       "    }\n",
       "</style>\n",
       "<table border=\"1\" class=\"dataframe\">\n",
       "  <thead>\n",
       "    <tr style=\"text-align: right;\">\n",
       "      <th></th>\n",
       "      <th>Age</th>\n",
       "      <th>AnnualIncome</th>\n",
       "      <th>FamilyMembers</th>\n",
       "    </tr>\n",
       "  </thead>\n",
       "  <tbody>\n",
       "    <tr>\n",
       "      <th>0</th>\n",
       "      <td>0.6</td>\n",
       "      <td>0.066667</td>\n",
       "      <td>0.571429</td>\n",
       "    </tr>\n",
       "  </tbody>\n",
       "</table>\n",
       "</div>"
      ],
      "text/plain": [
       "   Age  AnnualIncome  FamilyMembers\n",
       "0  0.6      0.066667       0.571429"
      ]
     },
     "execution_count": 14,
     "metadata": {},
     "output_type": "execute_result"
    }
   ],
   "source": [
    "X_tr_scaled = pd.DataFrame(X_tr_scaled, columns=X_tr_num.columns)\n",
    "X_tr_scaled.head(1)"
   ]
  },
  {
   "cell_type": "code",
   "execution_count": 15,
   "metadata": {},
   "outputs": [
    {
     "data": {
      "text/plain": [
       "(1501, 10)"
      ]
     },
     "execution_count": 15,
     "metadata": {},
     "output_type": "execute_result"
    }
   ],
   "source": [
    "X_tr_hot = pd.get_dummies(X_tr_cat)\n",
    "X_tr_hot.shape"
   ]
  },
  {
   "cell_type": "code",
   "execution_count": 16,
   "metadata": {},
   "outputs": [
    {
     "data": {
      "text/plain": [
       "(1501, 13)"
      ]
     },
     "execution_count": 16,
     "metadata": {},
     "output_type": "execute_result"
    }
   ],
   "source": [
    "X = pd.concat((X_tr_scaled, X_tr_hot), axis=1)\n",
    "X.shape"
   ]
  },
  {
   "cell_type": "code",
   "execution_count": 17,
   "metadata": {},
   "outputs": [],
   "source": [
    "from sklearn.pipeline import Pipeline\n",
    "from sklearn.ensemble import RandomForestClassifier\n",
    "from sklearn.linear_model import LogisticRegression\n",
    "from sklearn.svm import SVC\n",
    "from sklearn.model_selection import StratifiedKFold, GridSearchCV\n",
    "\n",
    "skf = StratifiedKFold(n_splits=5)\n",
    "skf.split(X, y_tr)\n",
    "\n",
    "logisticregression = LogisticRegression(random_state=42, max_iter=1000)\n",
    "randomforestclassifier = RandomForestClassifier(random_state=42)\n",
    "svc = SVC(random_state=42)\n",
    "\n",
    "pipe = Pipeline([('classifier',LogisticRegression())])\n"
   ]
  },
  {
   "cell_type": "code",
   "execution_count": 18,
   "metadata": {},
   "outputs": [
    {
     "name": "stdout",
     "output_type": "stream",
     "text": [
      "[ 0.1  0.6  1.   6.  10.  60. ]\n"
     ]
    }
   ],
   "source": [
    "import numpy as np\n",
    "\n",
    "arange = np.concatenate((\n",
    "    np.arange(0.1, 1, 0.5),\n",
    "    np.arange(1, 10, 5),\n",
    "    np.arange(10, 100, 50)\n",
    "))\n",
    "print(arange)\n",
    "\n",
    "param_grid = [\n",
    "    {\n",
    "        'classifier': [LogisticRegression(random_state=42, max_iter=1000)],\n",
    "        'classifier__C': arange\n",
    "    },\n",
    "    {\n",
    "        'classifier': [RandomForestClassifier(random_state=42)],\n",
    "        'classifier__n_estimators': [10, 50, 100, 150]\n",
    "    },\n",
    "    {\n",
    "        'classifier': [SVC(random_state=42)],\n",
    "        'classifier__C': arange,\n",
    "        'classifier__gamma': arange\n",
    "    }\n",
    "]"
   ]
  },
  {
   "cell_type": "code",
   "execution_count": 19,
   "metadata": {},
   "outputs": [],
   "source": [
    "gsc = GridSearchCV(estimator=pipe, param_grid=param_grid, cv=skf, n_jobs=-1)"
   ]
  },
  {
   "cell_type": "code",
   "execution_count": 20,
   "metadata": {},
   "outputs": [
    {
     "data": {
      "text/html": [
       "<style>#sk-container-id-1 {\n",
       "  /* Definition of color scheme common for light and dark mode */\n",
       "  --sklearn-color-text: black;\n",
       "  --sklearn-color-line: gray;\n",
       "  /* Definition of color scheme for unfitted estimators */\n",
       "  --sklearn-color-unfitted-level-0: #fff5e6;\n",
       "  --sklearn-color-unfitted-level-1: #f6e4d2;\n",
       "  --sklearn-color-unfitted-level-2: #ffe0b3;\n",
       "  --sklearn-color-unfitted-level-3: chocolate;\n",
       "  /* Definition of color scheme for fitted estimators */\n",
       "  --sklearn-color-fitted-level-0: #f0f8ff;\n",
       "  --sklearn-color-fitted-level-1: #d4ebff;\n",
       "  --sklearn-color-fitted-level-2: #b3dbfd;\n",
       "  --sklearn-color-fitted-level-3: cornflowerblue;\n",
       "\n",
       "  /* Specific color for light theme */\n",
       "  --sklearn-color-text-on-default-background: var(--sg-text-color, var(--theme-code-foreground, var(--jp-content-font-color1, black)));\n",
       "  --sklearn-color-background: var(--sg-background-color, var(--theme-background, var(--jp-layout-color0, white)));\n",
       "  --sklearn-color-border-box: var(--sg-text-color, var(--theme-code-foreground, var(--jp-content-font-color1, black)));\n",
       "  --sklearn-color-icon: #696969;\n",
       "\n",
       "  @media (prefers-color-scheme: dark) {\n",
       "    /* Redefinition of color scheme for dark theme */\n",
       "    --sklearn-color-text-on-default-background: var(--sg-text-color, var(--theme-code-foreground, var(--jp-content-font-color1, white)));\n",
       "    --sklearn-color-background: var(--sg-background-color, var(--theme-background, var(--jp-layout-color0, #111)));\n",
       "    --sklearn-color-border-box: var(--sg-text-color, var(--theme-code-foreground, var(--jp-content-font-color1, white)));\n",
       "    --sklearn-color-icon: #878787;\n",
       "  }\n",
       "}\n",
       "\n",
       "#sk-container-id-1 {\n",
       "  color: var(--sklearn-color-text);\n",
       "}\n",
       "\n",
       "#sk-container-id-1 pre {\n",
       "  padding: 0;\n",
       "}\n",
       "\n",
       "#sk-container-id-1 input.sk-hidden--visually {\n",
       "  border: 0;\n",
       "  clip: rect(1px 1px 1px 1px);\n",
       "  clip: rect(1px, 1px, 1px, 1px);\n",
       "  height: 1px;\n",
       "  margin: -1px;\n",
       "  overflow: hidden;\n",
       "  padding: 0;\n",
       "  position: absolute;\n",
       "  width: 1px;\n",
       "}\n",
       "\n",
       "#sk-container-id-1 div.sk-dashed-wrapped {\n",
       "  border: 1px dashed var(--sklearn-color-line);\n",
       "  margin: 0 0.4em 0.5em 0.4em;\n",
       "  box-sizing: border-box;\n",
       "  padding-bottom: 0.4em;\n",
       "  background-color: var(--sklearn-color-background);\n",
       "}\n",
       "\n",
       "#sk-container-id-1 div.sk-container {\n",
       "  /* jupyter's `normalize.less` sets `[hidden] { display: none; }`\n",
       "     but bootstrap.min.css set `[hidden] { display: none !important; }`\n",
       "     so we also need the `!important` here to be able to override the\n",
       "     default hidden behavior on the sphinx rendered scikit-learn.org.\n",
       "     See: https://github.com/scikit-learn/scikit-learn/issues/21755 */\n",
       "  display: inline-block !important;\n",
       "  position: relative;\n",
       "}\n",
       "\n",
       "#sk-container-id-1 div.sk-text-repr-fallback {\n",
       "  display: none;\n",
       "}\n",
       "\n",
       "div.sk-parallel-item,\n",
       "div.sk-serial,\n",
       "div.sk-item {\n",
       "  /* draw centered vertical line to link estimators */\n",
       "  background-image: linear-gradient(var(--sklearn-color-text-on-default-background), var(--sklearn-color-text-on-default-background));\n",
       "  background-size: 2px 100%;\n",
       "  background-repeat: no-repeat;\n",
       "  background-position: center center;\n",
       "}\n",
       "\n",
       "/* Parallel-specific style estimator block */\n",
       "\n",
       "#sk-container-id-1 div.sk-parallel-item::after {\n",
       "  content: \"\";\n",
       "  width: 100%;\n",
       "  border-bottom: 2px solid var(--sklearn-color-text-on-default-background);\n",
       "  flex-grow: 1;\n",
       "}\n",
       "\n",
       "#sk-container-id-1 div.sk-parallel {\n",
       "  display: flex;\n",
       "  align-items: stretch;\n",
       "  justify-content: center;\n",
       "  background-color: var(--sklearn-color-background);\n",
       "  position: relative;\n",
       "}\n",
       "\n",
       "#sk-container-id-1 div.sk-parallel-item {\n",
       "  display: flex;\n",
       "  flex-direction: column;\n",
       "}\n",
       "\n",
       "#sk-container-id-1 div.sk-parallel-item:first-child::after {\n",
       "  align-self: flex-end;\n",
       "  width: 50%;\n",
       "}\n",
       "\n",
       "#sk-container-id-1 div.sk-parallel-item:last-child::after {\n",
       "  align-self: flex-start;\n",
       "  width: 50%;\n",
       "}\n",
       "\n",
       "#sk-container-id-1 div.sk-parallel-item:only-child::after {\n",
       "  width: 0;\n",
       "}\n",
       "\n",
       "/* Serial-specific style estimator block */\n",
       "\n",
       "#sk-container-id-1 div.sk-serial {\n",
       "  display: flex;\n",
       "  flex-direction: column;\n",
       "  align-items: center;\n",
       "  background-color: var(--sklearn-color-background);\n",
       "  padding-right: 1em;\n",
       "  padding-left: 1em;\n",
       "}\n",
       "\n",
       "\n",
       "/* Toggleable style: style used for estimator/Pipeline/ColumnTransformer box that is\n",
       "clickable and can be expanded/collapsed.\n",
       "- Pipeline and ColumnTransformer use this feature and define the default style\n",
       "- Estimators will overwrite some part of the style using the `sk-estimator` class\n",
       "*/\n",
       "\n",
       "/* Pipeline and ColumnTransformer style (default) */\n",
       "\n",
       "#sk-container-id-1 div.sk-toggleable {\n",
       "  /* Default theme specific background. It is overwritten whether we have a\n",
       "  specific estimator or a Pipeline/ColumnTransformer */\n",
       "  background-color: var(--sklearn-color-background);\n",
       "}\n",
       "\n",
       "/* Toggleable label */\n",
       "#sk-container-id-1 label.sk-toggleable__label {\n",
       "  cursor: pointer;\n",
       "  display: block;\n",
       "  width: 100%;\n",
       "  margin-bottom: 0;\n",
       "  padding: 0.5em;\n",
       "  box-sizing: border-box;\n",
       "  text-align: center;\n",
       "}\n",
       "\n",
       "#sk-container-id-1 label.sk-toggleable__label-arrow:before {\n",
       "  /* Arrow on the left of the label */\n",
       "  content: \"▸\";\n",
       "  float: left;\n",
       "  margin-right: 0.25em;\n",
       "  color: var(--sklearn-color-icon);\n",
       "}\n",
       "\n",
       "#sk-container-id-1 label.sk-toggleable__label-arrow:hover:before {\n",
       "  color: var(--sklearn-color-text);\n",
       "}\n",
       "\n",
       "/* Toggleable content - dropdown */\n",
       "\n",
       "#sk-container-id-1 div.sk-toggleable__content {\n",
       "  max-height: 0;\n",
       "  max-width: 0;\n",
       "  overflow: hidden;\n",
       "  text-align: left;\n",
       "  /* unfitted */\n",
       "  background-color: var(--sklearn-color-unfitted-level-0);\n",
       "}\n",
       "\n",
       "#sk-container-id-1 div.sk-toggleable__content.fitted {\n",
       "  /* fitted */\n",
       "  background-color: var(--sklearn-color-fitted-level-0);\n",
       "}\n",
       "\n",
       "#sk-container-id-1 div.sk-toggleable__content pre {\n",
       "  margin: 0.2em;\n",
       "  border-radius: 0.25em;\n",
       "  color: var(--sklearn-color-text);\n",
       "  /* unfitted */\n",
       "  background-color: var(--sklearn-color-unfitted-level-0);\n",
       "}\n",
       "\n",
       "#sk-container-id-1 div.sk-toggleable__content.fitted pre {\n",
       "  /* unfitted */\n",
       "  background-color: var(--sklearn-color-fitted-level-0);\n",
       "}\n",
       "\n",
       "#sk-container-id-1 input.sk-toggleable__control:checked~div.sk-toggleable__content {\n",
       "  /* Expand drop-down */\n",
       "  max-height: 200px;\n",
       "  max-width: 100%;\n",
       "  overflow: auto;\n",
       "}\n",
       "\n",
       "#sk-container-id-1 input.sk-toggleable__control:checked~label.sk-toggleable__label-arrow:before {\n",
       "  content: \"▾\";\n",
       "}\n",
       "\n",
       "/* Pipeline/ColumnTransformer-specific style */\n",
       "\n",
       "#sk-container-id-1 div.sk-label input.sk-toggleable__control:checked~label.sk-toggleable__label {\n",
       "  color: var(--sklearn-color-text);\n",
       "  background-color: var(--sklearn-color-unfitted-level-2);\n",
       "}\n",
       "\n",
       "#sk-container-id-1 div.sk-label.fitted input.sk-toggleable__control:checked~label.sk-toggleable__label {\n",
       "  background-color: var(--sklearn-color-fitted-level-2);\n",
       "}\n",
       "\n",
       "/* Estimator-specific style */\n",
       "\n",
       "/* Colorize estimator box */\n",
       "#sk-container-id-1 div.sk-estimator input.sk-toggleable__control:checked~label.sk-toggleable__label {\n",
       "  /* unfitted */\n",
       "  background-color: var(--sklearn-color-unfitted-level-2);\n",
       "}\n",
       "\n",
       "#sk-container-id-1 div.sk-estimator.fitted input.sk-toggleable__control:checked~label.sk-toggleable__label {\n",
       "  /* fitted */\n",
       "  background-color: var(--sklearn-color-fitted-level-2);\n",
       "}\n",
       "\n",
       "#sk-container-id-1 div.sk-label label.sk-toggleable__label,\n",
       "#sk-container-id-1 div.sk-label label {\n",
       "  /* The background is the default theme color */\n",
       "  color: var(--sklearn-color-text-on-default-background);\n",
       "}\n",
       "\n",
       "/* On hover, darken the color of the background */\n",
       "#sk-container-id-1 div.sk-label:hover label.sk-toggleable__label {\n",
       "  color: var(--sklearn-color-text);\n",
       "  background-color: var(--sklearn-color-unfitted-level-2);\n",
       "}\n",
       "\n",
       "/* Label box, darken color on hover, fitted */\n",
       "#sk-container-id-1 div.sk-label.fitted:hover label.sk-toggleable__label.fitted {\n",
       "  color: var(--sklearn-color-text);\n",
       "  background-color: var(--sklearn-color-fitted-level-2);\n",
       "}\n",
       "\n",
       "/* Estimator label */\n",
       "\n",
       "#sk-container-id-1 div.sk-label label {\n",
       "  font-family: monospace;\n",
       "  font-weight: bold;\n",
       "  display: inline-block;\n",
       "  line-height: 1.2em;\n",
       "}\n",
       "\n",
       "#sk-container-id-1 div.sk-label-container {\n",
       "  text-align: center;\n",
       "}\n",
       "\n",
       "/* Estimator-specific */\n",
       "#sk-container-id-1 div.sk-estimator {\n",
       "  font-family: monospace;\n",
       "  border: 1px dotted var(--sklearn-color-border-box);\n",
       "  border-radius: 0.25em;\n",
       "  box-sizing: border-box;\n",
       "  margin-bottom: 0.5em;\n",
       "  /* unfitted */\n",
       "  background-color: var(--sklearn-color-unfitted-level-0);\n",
       "}\n",
       "\n",
       "#sk-container-id-1 div.sk-estimator.fitted {\n",
       "  /* fitted */\n",
       "  background-color: var(--sklearn-color-fitted-level-0);\n",
       "}\n",
       "\n",
       "/* on hover */\n",
       "#sk-container-id-1 div.sk-estimator:hover {\n",
       "  /* unfitted */\n",
       "  background-color: var(--sklearn-color-unfitted-level-2);\n",
       "}\n",
       "\n",
       "#sk-container-id-1 div.sk-estimator.fitted:hover {\n",
       "  /* fitted */\n",
       "  background-color: var(--sklearn-color-fitted-level-2);\n",
       "}\n",
       "\n",
       "/* Specification for estimator info (e.g. \"i\" and \"?\") */\n",
       "\n",
       "/* Common style for \"i\" and \"?\" */\n",
       "\n",
       ".sk-estimator-doc-link,\n",
       "a:link.sk-estimator-doc-link,\n",
       "a:visited.sk-estimator-doc-link {\n",
       "  float: right;\n",
       "  font-size: smaller;\n",
       "  line-height: 1em;\n",
       "  font-family: monospace;\n",
       "  background-color: var(--sklearn-color-background);\n",
       "  border-radius: 1em;\n",
       "  height: 1em;\n",
       "  width: 1em;\n",
       "  text-decoration: none !important;\n",
       "  margin-left: 1ex;\n",
       "  /* unfitted */\n",
       "  border: var(--sklearn-color-unfitted-level-1) 1pt solid;\n",
       "  color: var(--sklearn-color-unfitted-level-1);\n",
       "}\n",
       "\n",
       ".sk-estimator-doc-link.fitted,\n",
       "a:link.sk-estimator-doc-link.fitted,\n",
       "a:visited.sk-estimator-doc-link.fitted {\n",
       "  /* fitted */\n",
       "  border: var(--sklearn-color-fitted-level-1) 1pt solid;\n",
       "  color: var(--sklearn-color-fitted-level-1);\n",
       "}\n",
       "\n",
       "/* On hover */\n",
       "div.sk-estimator:hover .sk-estimator-doc-link:hover,\n",
       ".sk-estimator-doc-link:hover,\n",
       "div.sk-label-container:hover .sk-estimator-doc-link:hover,\n",
       ".sk-estimator-doc-link:hover {\n",
       "  /* unfitted */\n",
       "  background-color: var(--sklearn-color-unfitted-level-3);\n",
       "  color: var(--sklearn-color-background);\n",
       "  text-decoration: none;\n",
       "}\n",
       "\n",
       "div.sk-estimator.fitted:hover .sk-estimator-doc-link.fitted:hover,\n",
       ".sk-estimator-doc-link.fitted:hover,\n",
       "div.sk-label-container:hover .sk-estimator-doc-link.fitted:hover,\n",
       ".sk-estimator-doc-link.fitted:hover {\n",
       "  /* fitted */\n",
       "  background-color: var(--sklearn-color-fitted-level-3);\n",
       "  color: var(--sklearn-color-background);\n",
       "  text-decoration: none;\n",
       "}\n",
       "\n",
       "/* Span, style for the box shown on hovering the info icon */\n",
       ".sk-estimator-doc-link span {\n",
       "  display: none;\n",
       "  z-index: 9999;\n",
       "  position: relative;\n",
       "  font-weight: normal;\n",
       "  right: .2ex;\n",
       "  padding: .5ex;\n",
       "  margin: .5ex;\n",
       "  width: min-content;\n",
       "  min-width: 20ex;\n",
       "  max-width: 50ex;\n",
       "  color: var(--sklearn-color-text);\n",
       "  box-shadow: 2pt 2pt 4pt #999;\n",
       "  /* unfitted */\n",
       "  background: var(--sklearn-color-unfitted-level-0);\n",
       "  border: .5pt solid var(--sklearn-color-unfitted-level-3);\n",
       "}\n",
       "\n",
       ".sk-estimator-doc-link.fitted span {\n",
       "  /* fitted */\n",
       "  background: var(--sklearn-color-fitted-level-0);\n",
       "  border: var(--sklearn-color-fitted-level-3);\n",
       "}\n",
       "\n",
       ".sk-estimator-doc-link:hover span {\n",
       "  display: block;\n",
       "}\n",
       "\n",
       "/* \"?\"-specific style due to the `<a>` HTML tag */\n",
       "\n",
       "#sk-container-id-1 a.estimator_doc_link {\n",
       "  float: right;\n",
       "  font-size: 1rem;\n",
       "  line-height: 1em;\n",
       "  font-family: monospace;\n",
       "  background-color: var(--sklearn-color-background);\n",
       "  border-radius: 1rem;\n",
       "  height: 1rem;\n",
       "  width: 1rem;\n",
       "  text-decoration: none;\n",
       "  /* unfitted */\n",
       "  color: var(--sklearn-color-unfitted-level-1);\n",
       "  border: var(--sklearn-color-unfitted-level-1) 1pt solid;\n",
       "}\n",
       "\n",
       "#sk-container-id-1 a.estimator_doc_link.fitted {\n",
       "  /* fitted */\n",
       "  border: var(--sklearn-color-fitted-level-1) 1pt solid;\n",
       "  color: var(--sklearn-color-fitted-level-1);\n",
       "}\n",
       "\n",
       "/* On hover */\n",
       "#sk-container-id-1 a.estimator_doc_link:hover {\n",
       "  /* unfitted */\n",
       "  background-color: var(--sklearn-color-unfitted-level-3);\n",
       "  color: var(--sklearn-color-background);\n",
       "  text-decoration: none;\n",
       "}\n",
       "\n",
       "#sk-container-id-1 a.estimator_doc_link.fitted:hover {\n",
       "  /* fitted */\n",
       "  background-color: var(--sklearn-color-fitted-level-3);\n",
       "}\n",
       "</style><div id=\"sk-container-id-1\" class=\"sk-top-container\"><div class=\"sk-text-repr-fallback\"><pre>GridSearchCV(cv=StratifiedKFold(n_splits=5, random_state=None, shuffle=False),\n",
       "             estimator=Pipeline(steps=[(&#x27;classifier&#x27;, LogisticRegression())]),\n",
       "             n_jobs=-1,\n",
       "             param_grid=[{&#x27;classifier&#x27;: [LogisticRegression(max_iter=1000,\n",
       "                                                            random_state=42)],\n",
       "                          &#x27;classifier__C&#x27;: array([ 0.1,  0.6,  1. ,  6. , 10. , 60. ])},\n",
       "                         {&#x27;classifier&#x27;: [RandomForestClassifier(random_state=42)],\n",
       "                          &#x27;classifier__n_estimators&#x27;: [10, 50, 100, 150]},\n",
       "                         {&#x27;classifier&#x27;: [SVC(random_state=42)],\n",
       "                          &#x27;classifier__C&#x27;: array([ 0.1,  0.6,  1. ,  6. , 10. , 60. ]),\n",
       "                          &#x27;classifier__gamma&#x27;: array([ 0.1,  0.6,  1. ,  6. , 10. , 60. ])}])</pre><b>In a Jupyter environment, please rerun this cell to show the HTML representation or trust the notebook. <br />On GitHub, the HTML representation is unable to render, please try loading this page with nbviewer.org.</b></div><div class=\"sk-container\" hidden><div class=\"sk-item sk-dashed-wrapped\"><div class=\"sk-label-container\"><div class=\"sk-label fitted sk-toggleable\"><input class=\"sk-toggleable__control sk-hidden--visually\" id=\"sk-estimator-id-1\" type=\"checkbox\" ><label for=\"sk-estimator-id-1\" class=\"sk-toggleable__label fitted sk-toggleable__label-arrow fitted\">&nbsp;&nbsp;GridSearchCV<a class=\"sk-estimator-doc-link fitted\" rel=\"noreferrer\" target=\"_blank\" href=\"https://scikit-learn.org/1.4/modules/generated/sklearn.model_selection.GridSearchCV.html\">?<span>Documentation for GridSearchCV</span></a><span class=\"sk-estimator-doc-link fitted\">i<span>Fitted</span></span></label><div class=\"sk-toggleable__content fitted\"><pre>GridSearchCV(cv=StratifiedKFold(n_splits=5, random_state=None, shuffle=False),\n",
       "             estimator=Pipeline(steps=[(&#x27;classifier&#x27;, LogisticRegression())]),\n",
       "             n_jobs=-1,\n",
       "             param_grid=[{&#x27;classifier&#x27;: [LogisticRegression(max_iter=1000,\n",
       "                                                            random_state=42)],\n",
       "                          &#x27;classifier__C&#x27;: array([ 0.1,  0.6,  1. ,  6. , 10. , 60. ])},\n",
       "                         {&#x27;classifier&#x27;: [RandomForestClassifier(random_state=42)],\n",
       "                          &#x27;classifier__n_estimators&#x27;: [10, 50, 100, 150]},\n",
       "                         {&#x27;classifier&#x27;: [SVC(random_state=42)],\n",
       "                          &#x27;classifier__C&#x27;: array([ 0.1,  0.6,  1. ,  6. , 10. , 60. ]),\n",
       "                          &#x27;classifier__gamma&#x27;: array([ 0.1,  0.6,  1. ,  6. , 10. , 60. ])}])</pre></div> </div></div><div class=\"sk-parallel\"><div class=\"sk-parallel-item\"><div class=\"sk-item\"><div class=\"sk-label-container\"><div class=\"sk-label fitted sk-toggleable\"><input class=\"sk-toggleable__control sk-hidden--visually\" id=\"sk-estimator-id-2\" type=\"checkbox\" ><label for=\"sk-estimator-id-2\" class=\"sk-toggleable__label fitted sk-toggleable__label-arrow fitted\">estimator: Pipeline</label><div class=\"sk-toggleable__content fitted\"><pre>Pipeline(steps=[(&#x27;classifier&#x27;, LogisticRegression())])</pre></div> </div></div><div class=\"sk-serial\"><div class=\"sk-item\"><div class=\"sk-serial\"><div class=\"sk-item\"><div class=\"sk-estimator fitted sk-toggleable\"><input class=\"sk-toggleable__control sk-hidden--visually\" id=\"sk-estimator-id-3\" type=\"checkbox\" ><label for=\"sk-estimator-id-3\" class=\"sk-toggleable__label fitted sk-toggleable__label-arrow fitted\">&nbsp;LogisticRegression<a class=\"sk-estimator-doc-link fitted\" rel=\"noreferrer\" target=\"_blank\" href=\"https://scikit-learn.org/1.4/modules/generated/sklearn.linear_model.LogisticRegression.html\">?<span>Documentation for LogisticRegression</span></a></label><div class=\"sk-toggleable__content fitted\"><pre>LogisticRegression()</pre></div> </div></div></div></div></div></div></div></div></div></div></div>"
      ],
      "text/plain": [
       "GridSearchCV(cv=StratifiedKFold(n_splits=5, random_state=None, shuffle=False),\n",
       "             estimator=Pipeline(steps=[('classifier', LogisticRegression())]),\n",
       "             n_jobs=-1,\n",
       "             param_grid=[{'classifier': [LogisticRegression(max_iter=1000,\n",
       "                                                            random_state=42)],\n",
       "                          'classifier__C': array([ 0.1,  0.6,  1. ,  6. , 10. , 60. ])},\n",
       "                         {'classifier': [RandomForestClassifier(random_state=42)],\n",
       "                          'classifier__n_estimators': [10, 50, 100, 150]},\n",
       "                         {'classifier': [SVC(random_state=42)],\n",
       "                          'classifier__C': array([ 0.1,  0.6,  1. ,  6. , 10. , 60. ]),\n",
       "                          'classifier__gamma': array([ 0.1,  0.6,  1. ,  6. , 10. , 60. ])}])"
      ]
     },
     "execution_count": 20,
     "metadata": {},
     "output_type": "execute_result"
    }
   ],
   "source": [
    "gsc.fit(X,y_tr)"
   ]
  },
  {
   "cell_type": "code",
   "execution_count": 21,
   "metadata": {},
   "outputs": [
    {
     "name": "stdout",
     "output_type": "stream",
     "text": [
      "Pipeline(steps=[('classifier', RandomForestClassifier(random_state=42))])\n",
      "{'classifier': RandomForestClassifier(random_state=42), 'classifier__n_estimators': 100}\n",
      "0.8041373200442967\n"
     ]
    }
   ],
   "source": [
    "print(gsc.best_estimator_)\n",
    "print(gsc.best_params_)\n",
    "print(gsc.best_score_)"
   ]
  },
  {
   "cell_type": "code",
   "execution_count": 22,
   "metadata": {},
   "outputs": [
    {
     "name": "stdout",
     "output_type": "stream",
     "text": [
      "Model LogisticRegression(max_iter=1000, random_state=42) with parameters {'classifier': LogisticRegression(max_iter=1000, random_state=42), 'classifier__C': 0.1} scored 0.7494950166112957\n",
      "Model LogisticRegression(max_iter=1000, random_state=42) with parameters {'classifier': LogisticRegression(max_iter=1000, random_state=42), 'classifier__C': 0.6} scored 0.7574972314507198\n",
      "Model LogisticRegression(max_iter=1000, random_state=42) with parameters {'classifier': LogisticRegression(max_iter=1000, random_state=42), 'classifier__C': 1.0} scored 0.758828349944629\n",
      "Model LogisticRegression(max_iter=1000, random_state=42) with parameters {'classifier': LogisticRegression(max_iter=1000, random_state=42), 'classifier__C': 6.0} scored 0.7614950166112957\n",
      "Model LogisticRegression(max_iter=1000, random_state=42) with parameters {'classifier': LogisticRegression(max_iter=1000, random_state=42), 'classifier__C': 10.0} scored 0.762828349944629\n",
      "Model LogisticRegression(max_iter=1000, random_state=42) with parameters {'classifier': LogisticRegression(max_iter=1000, random_state=42), 'classifier__C': 60.0} scored 0.7634950166112957\n",
      "Model RandomForestClassifier(random_state=42) with parameters {'classifier': RandomForestClassifier(random_state=42), 'classifier__n_estimators': 10} scored 0.7914772978959025\n",
      "Model RandomForestClassifier(random_state=42) with parameters {'classifier': RandomForestClassifier(random_state=42), 'classifier__n_estimators': 50} scored 0.8008084163898117\n",
      "Model RandomForestClassifier(random_state=42) with parameters {'classifier': RandomForestClassifier(random_state=42), 'classifier__n_estimators': 100} scored 0.8041373200442967\n",
      "Model RandomForestClassifier(random_state=42) with parameters {'classifier': RandomForestClassifier(random_state=42), 'classifier__n_estimators': 150} scored 0.8008084163898117\n",
      "Model SVC(random_state=42) with parameters {'classifier': SVC(random_state=42), 'classifier__C': 0.1, 'classifier__gamma': 0.1} scored 0.7468372093023257\n",
      "Model SVC(random_state=42) with parameters {'classifier': SVC(random_state=42), 'classifier__C': 0.1, 'classifier__gamma': 0.6} scored 0.7528327796234773\n",
      "Model SVC(random_state=42) with parameters {'classifier': SVC(random_state=42), 'classifier__C': 0.1, 'classifier__gamma': 1.0} scored 0.7448416389811738\n",
      "Model SVC(random_state=42) with parameters {'classifier': SVC(random_state=42), 'classifier__C': 0.1, 'classifier__gamma': 6.0} scored 0.7335260243632337\n",
      "Model SVC(random_state=42) with parameters {'classifier': SVC(random_state=42), 'classifier__C': 0.1, 'classifier__gamma': 10.0} scored 0.7221993355481728\n",
      "Model SVC(random_state=42) with parameters {'classifier': SVC(random_state=42), 'classifier__C': 0.1, 'classifier__gamma': 60.0} scored 0.6362436323366556\n",
      "Model SVC(random_state=42) with parameters {'classifier': SVC(random_state=42), 'classifier__C': 0.6, 'classifier__gamma': 0.1} scored 0.7468372093023257\n",
      "Model SVC(random_state=42) with parameters {'classifier': SVC(random_state=42), 'classifier__C': 0.6, 'classifier__gamma': 0.6} scored 0.7661616832779623\n",
      "Model SVC(random_state=42) with parameters {'classifier': SVC(random_state=42), 'classifier__C': 0.6, 'classifier__gamma': 1.0} scored 0.7688239202657806\n",
      "Model SVC(random_state=42) with parameters {'classifier': SVC(random_state=42), 'classifier__C': 0.6, 'classifier__gamma': 6.0} scored 0.7908084163898117\n",
      "Model SVC(random_state=42) with parameters {'classifier': SVC(random_state=42), 'classifier__C': 0.6, 'classifier__gamma': 10.0} scored 0.7861506090808417\n",
      "Model SVC(random_state=42) with parameters {'classifier': SVC(random_state=42), 'classifier__C': 0.6, 'classifier__gamma': 60.0} scored 0.7615127353266888\n",
      "Model SVC(random_state=42) with parameters {'classifier': SVC(random_state=42), 'classifier__C': 1.0, 'classifier__gamma': 0.1} scored 0.7475038759689923\n",
      "Model SVC(random_state=42) with parameters {'classifier': SVC(random_state=42), 'classifier__C': 1.0, 'classifier__gamma': 0.6} scored 0.7701572535991141\n",
      "Model SVC(random_state=42) with parameters {'classifier': SVC(random_state=42), 'classifier__C': 1.0, 'classifier__gamma': 1.0} scored 0.7781506090808417\n",
      "Model SVC(random_state=42) with parameters {'classifier': SVC(random_state=42), 'classifier__C': 1.0, 'classifier__gamma': 6.0} scored 0.792139534883721\n",
      "Model SVC(random_state=42) with parameters {'classifier': SVC(random_state=42), 'classifier__C': 1.0, 'classifier__gamma': 10.0} scored 0.7941417497231451\n",
      "Model SVC(random_state=42) with parameters {'classifier': SVC(random_state=42), 'classifier__C': 1.0, 'classifier__gamma': 60.0} scored 0.7708416389811739\n",
      "Model SVC(random_state=42) with parameters {'classifier': SVC(random_state=42), 'classifier__C': 6.0, 'classifier__gamma': 0.1} scored 0.7668327796234773\n",
      "Model SVC(random_state=42) with parameters {'classifier': SVC(random_state=42), 'classifier__C': 6.0, 'classifier__gamma': 0.6} scored 0.7934706533776301\n",
      "Model SVC(random_state=42) with parameters {'classifier': SVC(random_state=42), 'classifier__C': 6.0, 'classifier__gamma': 1.0} scored 0.7941328903654485\n",
      "Model SVC(random_state=42) with parameters {'classifier': SVC(random_state=42), 'classifier__C': 6.0, 'classifier__gamma': 6.0} scored 0.7954861572535991\n",
      "Model SVC(random_state=42) with parameters {'classifier': SVC(random_state=42), 'classifier__C': 6.0, 'classifier__gamma': 10.0} scored 0.797483942414175\n",
      "Model SVC(random_state=42) with parameters {'classifier': SVC(random_state=42), 'classifier__C': 6.0, 'classifier__gamma': 60.0} scored 0.7728394241417498\n",
      "Model SVC(random_state=42) with parameters {'classifier': SVC(random_state=42), 'classifier__C': 10.0, 'classifier__gamma': 0.1} scored 0.7734950166112957\n",
      "Model SVC(random_state=42) with parameters {'classifier': SVC(random_state=42), 'classifier__C': 10.0, 'classifier__gamma': 0.6} scored 0.7974662236987818\n",
      "Model SVC(random_state=42) with parameters {'classifier': SVC(random_state=42), 'classifier__C': 10.0, 'classifier__gamma': 1.0} scored 0.7961284606866001\n",
      "Model SVC(random_state=42) with parameters {'classifier': SVC(random_state=42), 'classifier__C': 10.0, 'classifier__gamma': 6.0} scored 0.7981550387596898\n",
      "Model SVC(random_state=42) with parameters {'classifier': SVC(random_state=42), 'classifier__C': 10.0, 'classifier__gamma': 10.0} scored 0.7981572535991142\n",
      "Model SVC(random_state=42) with parameters {'classifier': SVC(random_state=42), 'classifier__C': 10.0, 'classifier__gamma': 60.0} scored 0.7701771871539314\n",
      "Model SVC(random_state=42) with parameters {'classifier': SVC(random_state=42), 'classifier__C': 60.0, 'classifier__gamma': 0.1} scored 0.7828150609080842\n",
      "Model SVC(random_state=42) with parameters {'classifier': SVC(random_state=42), 'classifier__C': 60.0, 'classifier__gamma': 0.6} scored 0.7974595791805094\n",
      "Model SVC(random_state=42) with parameters {'classifier': SVC(random_state=42), 'classifier__C': 60.0, 'classifier__gamma': 1.0} scored 0.8007995570321154\n",
      "Model SVC(random_state=42) with parameters {'classifier': SVC(random_state=42), 'classifier__C': 60.0, 'classifier__gamma': 6.0} scored 0.7894928017718715\n",
      "Model SVC(random_state=42) with parameters {'classifier': SVC(random_state=42), 'classifier__C': 60.0, 'classifier__gamma': 10.0} scored 0.7741661129568106\n",
      "Model SVC(random_state=42) with parameters {'classifier': SVC(random_state=42), 'classifier__C': 60.0, 'classifier__gamma': 60.0} scored 0.7628394241417498\n"
     ]
    }
   ],
   "source": [
    "results = gsc.cv_results_\n",
    "for i in range(len(results['params'])):\n",
    "    print(f\"Model {results['params'][i]['classifier']} with parameters {results['params'][i]} scored {results['mean_test_score'][i]}\")"
   ]
  },
  {
   "cell_type": "code",
   "execution_count": 23,
   "metadata": {},
   "outputs": [
    {
     "data": {
      "text/html": [
       "<div>\n",
       "<style scoped>\n",
       "    .dataframe tbody tr th:only-of-type {\n",
       "        vertical-align: middle;\n",
       "    }\n",
       "\n",
       "    .dataframe tbody tr th {\n",
       "        vertical-align: top;\n",
       "    }\n",
       "\n",
       "    .dataframe thead th {\n",
       "        text-align: right;\n",
       "    }\n",
       "</style>\n",
       "<table border=\"1\" class=\"dataframe\">\n",
       "  <thead>\n",
       "    <tr style=\"text-align: right;\">\n",
       "      <th></th>\n",
       "      <th>ID</th>\n",
       "      <th>Age</th>\n",
       "      <th>Employment Type</th>\n",
       "      <th>GraduateOrNot</th>\n",
       "      <th>AnnualIncome</th>\n",
       "      <th>FamilyMembers</th>\n",
       "      <th>ChronicDiseases</th>\n",
       "      <th>FrequentFlyer</th>\n",
       "      <th>EverTravelledAbroad</th>\n",
       "    </tr>\n",
       "  </thead>\n",
       "  <tbody>\n",
       "    <tr>\n",
       "      <th>0</th>\n",
       "      <td>1501</td>\n",
       "      <td>28</td>\n",
       "      <td>Private Sector/Self Employed</td>\n",
       "      <td>Yes</td>\n",
       "      <td>800000</td>\n",
       "      <td>4</td>\n",
       "      <td>0      0\\n1      1\\n2      0\\n3      0\\n4     ...</td>\n",
       "      <td>No</td>\n",
       "      <td>No</td>\n",
       "    </tr>\n",
       "  </tbody>\n",
       "</table>\n",
       "</div>"
      ],
      "text/plain": [
       "     ID  Age               Employment Type GraduateOrNot  AnnualIncome  \\\n",
       "0  1501   28  Private Sector/Self Employed           Yes        800000   \n",
       "\n",
       "   FamilyMembers                                    ChronicDiseases  \\\n",
       "0              4  0      0\\n1      1\\n2      0\\n3      0\\n4     ...   \n",
       "\n",
       "  FrequentFlyer EverTravelledAbroad  \n",
       "0            No                  No  "
      ]
     },
     "execution_count": 23,
     "metadata": {},
     "output_type": "execute_result"
    }
   ],
   "source": [
    "test.head(1)"
   ]
  },
  {
   "cell_type": "code",
   "execution_count": 23,
   "metadata": {},
   "outputs": [],
   "source": [
    "svc = SVC(C=60, gamma=1, random_state=42).fit(X,y_tr)\n",
    "rfc = RandomForestClassifier(n_estimators=100, random_state=42).fit(X,y_tr)"
   ]
  },
  {
   "cell_type": "code",
   "execution_count": 24,
   "metadata": {},
   "outputs": [
    {
     "data": {
      "text/html": [
       "<div>\n",
       "<style scoped>\n",
       "    .dataframe tbody tr th:only-of-type {\n",
       "        vertical-align: middle;\n",
       "    }\n",
       "\n",
       "    .dataframe tbody tr th {\n",
       "        vertical-align: top;\n",
       "    }\n",
       "\n",
       "    .dataframe thead th {\n",
       "        text-align: right;\n",
       "    }\n",
       "</style>\n",
       "<table border=\"1\" class=\"dataframe\">\n",
       "  <thead>\n",
       "    <tr style=\"text-align: right;\">\n",
       "      <th></th>\n",
       "      <th>Age</th>\n",
       "      <th>AnnualIncome</th>\n",
       "      <th>FamilyMembers</th>\n",
       "    </tr>\n",
       "  </thead>\n",
       "  <tbody>\n",
       "    <tr>\n",
       "      <th>0</th>\n",
       "      <td>0.3</td>\n",
       "      <td>0.333333</td>\n",
       "      <td>0.285714</td>\n",
       "    </tr>\n",
       "  </tbody>\n",
       "</table>\n",
       "</div>"
      ],
      "text/plain": [
       "   Age  AnnualIncome  FamilyMembers\n",
       "0  0.3      0.333333       0.285714"
      ]
     },
     "execution_count": 24,
     "metadata": {},
     "output_type": "execute_result"
    }
   ],
   "source": [
    "X_te_cat = test.select_dtypes('object')\n",
    "\n",
    "X_te_num = test.select_dtypes('int')\n",
    "\n",
    "X_te_id = X_te_num.iloc[:,0]\n",
    "X_te_num = X_te_num.iloc[:,1:]\n",
    "\n",
    "X_te_scaled = scaler.transform(X_te_num)\n",
    "X_te_scaled.shape\n",
    "X_te_scaled = pd.DataFrame(X_te_scaled, columns=X_te_num.columns)\n",
    "X_te_scaled.head(1)"
   ]
  },
  {
   "cell_type": "code",
   "execution_count": 27,
   "metadata": {},
   "outputs": [
    {
     "data": {
      "text/plain": [
       "(486, 13)"
      ]
     },
     "execution_count": 27,
     "metadata": {},
     "output_type": "execute_result"
    }
   ],
   "source": [
    "X_te_hot = pd.get_dummies(X_te_cat)\n",
    "X_te_hot.shape\n",
    "X_te = pd.concat((X_te_scaled, X_te_hot), axis=1)\n",
    "X_te.shape"
   ]
  },
  {
   "cell_type": "code",
   "execution_count": 28,
   "metadata": {},
   "outputs": [],
   "source": [
    "y_te = pd.read_csv('Travel_result.csv', header=0)\n",
    "y_te = y_te.iloc[:,-1]"
   ]
  },
  {
   "cell_type": "code",
   "execution_count": 29,
   "metadata": {},
   "outputs": [
    {
     "name": "stdout",
     "output_type": "stream",
     "text": [
      "0.8786008230452675\n",
      "0.9670781893004116\n"
     ]
    }
   ],
   "source": [
    "print(svc.score(X_te,y_te))\n",
    "print(rfc.score(X_te,y_te))"
   ]
  },
  {
   "cell_type": "code",
   "execution_count": 31,
   "metadata": {},
   "outputs": [],
   "source": [
    "import numpy as np\n",
    "sorted_features = np.argsort(rfc.feature_importances_)\n",
    "features_ranking = [(i, X_te.columns[i], rfc.feature_importances_[i]) for i in sorted_features]"
   ]
  },
  {
   "cell_type": "code",
   "execution_count": 33,
   "metadata": {},
   "outputs": [
    {
     "data": {
      "image/png": "[encoded data removed]",
      "text/plain": [
       "<Figure size 640x480 with 1 Axes>"
      ]
     },
     "metadata": {},
     "output_type": "display_data"
    }
   ],
   "source": [
    "import matplotlib.pyplot as plt\n",
    "var = list(zip(*features_ranking))\n",
    "\n",
    "plt.barh(range(len(features_ranking)), var[2], align='center')\n",
    "plt.yticks(range(len(features_ranking)), var[1])\n",
    "plt.show()"
   ]
  },
  {
   "cell_type": "code",
   "execution_count": null,
   "metadata": {},
   "outputs": [],
   "source": []
  }
 ],
 "metadata": {
  "kernelspec": {
   "display_name": "base",
   "language": "python",
   "name": "python3"
  },
  "language_info": {
   "codemirror_mode": {
    "name": "ipython",
    "version": 3
   },
   "file_extension": ".py",
   "mimetype": "text/x-python",
   "name": "python",
   "nbconvert_exporter": "python",
   "pygments_lexer": "ipython3",
   "version": "3.10.13"
  }
 },
 "nbformat": 4,
 "nbformat_minor": 2
}
