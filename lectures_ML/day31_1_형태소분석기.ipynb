{
 "cells": [
  {
   "cell_type": "code",
   "execution_count": 1,
   "metadata": {},
   "outputs": [
    {
     "name": "stdout",
     "output_type": "stream",
     "text": [
      "filepath:  C:\\Users\\Caelu\\anaconda3\\Lib\\site-packages\n",
      "classpath:  C:\\Users\\Caelu\\anaconda3\\Lib\\site-packages\\rhinoMorph/lib/rhino.jar\n",
      "RHINO started!\n"
     ]
    }
   ],
   "source": [
    "import rhinoMorph\n",
    "rn = rhinoMorph.startRhino()"
   ]
  },
  {
   "cell_type": "code",
   "execution_count": 2,
   "metadata": {},
   "outputs": [
    {
     "name": "stdout",
     "output_type": "stream",
     "text": [
      "['한글', '테스트', '글', '을', '남기', '어', '주', '시', '어요', '.']\n"
     ]
    }
   ],
   "source": [
    "text = '한글테스트 글을 남겨주세요.'\n",
    "\n",
    "sample_data = rhinoMorph.onlyMorph_list(rn, text)\n",
    "print(sample_data)"
   ]
  },
  {
   "cell_type": "code",
   "execution_count": 3,
   "metadata": {},
   "outputs": [
    {
     "name": "stdout",
     "output_type": "stream",
     "text": [
      "['한글', '로', '되', 'ㄴ', '한글', '텍스트', '를', '분석', '하', '는', '것', '은', '즐겁', '다', '.', '한글', '텍스트']\n"
     ]
    }
   ],
   "source": [
    "text = '한글로 된 한글 텍스트를 분석하는 것은 즐겁다. 한글텍스트'\n",
    "\n",
    "text_analyzed = rhinoMorph.onlyMorph_list(rn, text)\n",
    "\n",
    "print(text_analyzed)"
   ]
  },
  {
   "cell_type": "code",
   "execution_count": 4,
   "metadata": {},
   "outputs": [
    {
     "name": "stdout",
     "output_type": "stream",
     "text": [
      "\n",
      "2. 형태소 분석 결과: ['한글', '되', '한글', '텍스트', '분석', '즐겁', '한글', '텍스트']\n"
     ]
    }
   ],
   "source": [
    "# 사용 2 : 실질형태소만, 동사의 어말어미는 제외\n",
    "text_analyzed = rhinoMorph.onlyMorph_list(rn, text, pos=['NNG', 'NNP', 'VV',\n",
    "'VA', 'XR', 'IC', 'MM', 'MAG', 'MAJ'])\n",
    "print('\\n2. 형태소 분석 결과:', text_analyzed)"
   ]
  },
  {
   "cell_type": "code",
   "execution_count": 5,
   "metadata": {},
   "outputs": [
    {
     "name": "stdout",
     "output_type": "stream",
     "text": [
      "\n",
      "3. 형태소 분석 결과: ['한글', '되다', '한글', '텍스트', '분석', '즐겁다', '한글', '텍스트']\n"
     ]
    }
   ],
   "source": [
    "# 사용 3 : 실질형태소만, 동사의 어말어미 포함\n",
    "text_analyzed = rhinoMorph.onlyMorph_list(rn, text, pos=['NNG', 'NNP', 'VV',\n",
    "'VA', 'XR', 'IC', 'MM', 'MAG', 'MAJ'], eomi=True)\n",
    "print('\\n3. 형태소 분석 결과:', text_analyzed)"
   ]
  },
  {
   "cell_type": "code",
   "execution_count": 12,
   "metadata": {},
   "outputs": [
    {
     "name": "stdout",
     "output_type": "stream",
     "text": [
      "\n",
      "4. 형태소 분석 결과:\n",
      "morphs: ['한글', '로', '되', 'ㄴ', '한글', '텍스트', '를', '분석', '하', '는', '것', '은', '즐겁', '다', '.', '한글', '텍스트']\n",
      "poses: ['NNG', 'JKB', 'VV', 'ETM', 'NNG', 'NNG', 'JKO', 'XR', 'XSV', 'ETM', 'NNB', 'JX', 'VA', 'EF', 'SF', 'NNG', 'NNG']\n"
     ]
    }
   ],
   "source": [
    "# 사용 4 : 전체형태소, 품사정보도 가져 오기\n",
    "morphs, poses = rhinoMorph.wholeResult_list(rn, text)\n",
    "print('\\n4. 형태소 분석 결과:')\n",
    "print('morphs:', morphs)\n",
    "print('poses:', poses)"
   ]
  },
  {
   "cell_type": "code",
   "execution_count": 14,
   "metadata": {},
   "outputs": [
    {
     "name": "stdout",
     "output_type": "stream",
     "text": [
      "\n",
      "5. 형태소 분석 결과:\n",
      " 한글로\t한글/NNG + 로/JKB\n",
      "된\t되/VV + ㄴ/ETM\n",
      "한글\t한글/NNG\n",
      "텍스트를\t텍스트/NNG + 를/JKO\n",
      "분석하는\t분석/XR + 하/XSV + 는/ETM\n",
      "것은\t것/NNB + 은/JX\n",
      "즐겁다\t즐겁/VA + 다/EF\n",
      ".\t./SF\n",
      "한글텍스트\t한글/NNG + 텍스트/NNG\n",
      "\n"
     ]
    }
   ],
   "source": [
    "# 사용 5 : 원문의 어절 정보를 같이 가져 오기\n",
    "text_analyzed = rhinoMorph.wholeResult_text(rn, text)\n",
    "print('\\n5. 형태소 분석 결과:\\n', text_analyzed)"
   ]
  },
  {
   "cell_type": "code",
   "execution_count": 15,
   "metadata": {},
   "outputs": [
    {
     "name": "stdout",
     "output_type": "stream",
     "text": [
      "\n",
      "6. 형태소 분석 결과:\n",
      " ['한글', '되', '한글', '텍스트', '분석', '즐겁', '한글텍스트']\n",
      "\n",
      "7. 형태소 분석 결과: \n",
      "morphs:  ['한글', '로', '되', 'ㄴ', '한글', '텍스트', '를', '분석', '하', '는', '것', '은', '즐겁', '다', '.', '한글텍스트']\n",
      "poses:  ['NNG', 'JKB', 'VV', 'ETM', 'NNG', 'NNG', 'JKO', 'XR', 'XSV', 'ETM', 'NNB', 'JX', 'VA', 'EF', 'SF', 'NNG']\n"
     ]
    }
   ],
   "source": [
    "# 사용 6, 7 : 한 어절에서 연결된 명사를 하나의 명사로 결합하기\n",
    "# onlyMorph_list와 wholeResult_list에서 사용 가능하다\n",
    "text_analyzed = rhinoMorph.onlyMorph_list(rn, text, pos=['NNG', 'NNP', 'VV', 'VA',\n",
    "'XR', 'IC', 'MM', 'MAG', 'MAJ'], combineN=True)\n",
    "print('\\n6. 형태소 분석 결과:\\n', text_analyzed)\n",
    "\n",
    "morphs, poses = rhinoMorph.wholeResult_list(rn, text, combineN=True)\n",
    "print('\\n7. 형태소 분석 결과: ')\n",
    "print('morphs: ', morphs)\n",
    "print('poses: ', poses)"
   ]
  },
  {
   "cell_type": "code",
   "execution_count": 16,
   "metadata": {},
   "outputs": [
    {
     "name": "stdout",
     "output_type": "stream",
     "text": [
      "\n",
      "8. 형태소 분석 결과:  (['사랑', '하', 'ㅂ니다'], ['XR', 'XSV', 'EF'])\n",
      "\n",
      "9. 형태소 분석 결과:  (['사랑하', 'ㅂ니다'], ['VV', 'EF'])\n"
     ]
    }
   ],
   "source": [
    "# 사용 8, 9 : 어근 + 하 형태를 하나의 동사로 출력하기\n",
    "# xrVv 아규먼트가 담당하며, 기본값은 False로서 둘을 분리하여 출력한다\n",
    "# onlyMorph_list, wholeResult_list, wholeResult_text 등 모든 함수에서 사용 가능하다\n",
    "text_analyzed = rhinoMorph.wholeResult_list(rn, '사랑합니다')\n",
    "print('\\n8. 형태소 분석 결과: ', text_analyzed)\n",
    "text_analyzed = rhinoMorph.wholeResult_list(rn, '사랑합니다', xrVv=True)\n",
    "print('\\n9. 형태소 분석 결과: ', text_analyzed)"
   ]
  },
  {
   "cell_type": "code",
   "execution_count": 1,
   "metadata": {},
   "outputs": [
    {
     "name": "stdout",
     "output_type": "stream",
     "text": [
      "한나눔 전체: ['한글', '로', '되', 'ㄴ', '한글', '텍스트', '를', '분석', '하', '는', '것', '은', '즐겁', '다', '.', '한글텍스트']\n",
      "한나눔 명사: ['한글', '한글', '텍스트', '분석', '것', '한글텍스트']\n",
      "한나눔 품사: [('한글', 'N'), ('로', 'J'), ('되', 'P'), ('ㄴ', 'E'), ('한글', 'N'), ('텍스트', 'N'), ('를', 'J'), ('분석', 'N'), ('하', 'X'), ('는', 'E'), ('것', 'N'), ('은', 'J'), ('즐겁', 'P'), ('다', 'E'), ('.', 'S'), ('한글텍스트', 'N')]\n",
      "한나눔 태그셋: {'E': '어미', 'EC': '연결 어미', 'EF': '종결 어미', 'EP': '선어말어미', 'ET': '전성 어미', 'F': '외국어', 'I': '독립언', 'II': '감탄사', 'J': '관계언', 'JC': '격조사', 'JP': '서술격 조사', 'JX': '보조사', 'M': '수식언', 'MA': '부사', 'MM': '관형사', 'N': '체언', 'NB': '의존명사', 'NC': '보통명사', 'NN': '수사', 'NP': '대명사', 'NQ': '고유명사', 'P': '용언', 'PA': '형용사', 'PV': '동사', 'PX': '보조 용언', 'S': '기호', 'X': '접사', 'XP': '접두사', 'XS': '접미사'}\n",
      "**********\n",
      "꼬꼬마 전체: ['한글', '로', '되', 'ㄴ', '한글', '텍스트', '를', '분석', '하', '는', '것', '은', '즐겁', '다', '.', '한글', '텍스트']\n",
      "꼬꼬마 명사: ['한글', '텍스트', '분석', '한글텍스트']\n",
      "꼬꼬마 품사: [('한글', 'NNG'), ('로', 'JKM'), ('되', 'VV'), ('ㄴ', 'ETD'), ('한글', 'NNG'), ('텍스트', 'NNG'), ('를', 'JKO'), ('분석', 'NNG'), ('하', 'XSV'), ('는', 'ETD'), ('것', 'NNB'), ('은', 'JX'), ('즐겁', 'VA'), ('다', 'EFN'), ('.', 'SF'), ('한글', 'NNG'), ('텍스트', 'NNG')]\n",
      "꼬꼬마 태그셋: {'EC': '연결 어미', 'ECD': '의존적 연결 어미', 'ECE': '대등 연결 어미', 'ECS': '보조적 연결 어미', 'EF': '종결 어미', 'EFA': '청유형 종결 어미', 'EFI': '감탄형 종결 어미', 'EFN': '평서형 종결 어미', 'EFO': '명령형 종결 어미', 'EFQ': '의문형 종결 어미', 'EFR': '존칭형 종결 어미', 'EP': '선어말 어미', 'EPH': '존칭 선어말 어미', 'EPP': '공손 선어말 어미', 'EPT': '시제 선어말 어미', 'ET': '전성 어미', 'ETD': '관형형 전성 어미', 'ETN': '명사형 전성 어미', 'IC': '감탄사', 'JC': '접속 조사', 'JK': '조사', 'JKC': '보격 조사', 'JKG': '관형격 조사', 'JKI': '호격 조사', 'JKM': '부사격 조사', 'JKO': '목적격 조사', 'JKQ': '인용격 조사', 'JKS': '주격 조사', 'JX': '보조사', 'MA': '부사', 'MAC': '접속 부사', 'MAG': '일반 부사', 'MD': '관형사', 'MDN': '수 관형사', 'MDT': '일반 관형사', 'NN': '명사', 'NNB': '일반 의존 명사', 'NNG': '보통명사', 'NNM': '단위 의존 명사', 'NNP': '고유명사', 'NP': '대명사', 'NR': '수사', 'OH': '한자', 'OL': '외국어', 'ON': '숫자', 'SE': '줄임표', 'SF': '마침표, 물음표, 느낌표', 'SO': '붙임표(물결,숨김,빠짐)', 'SP': '쉼표,가운뎃점,콜론,빗금', 'SS': '따옴표,괄호표,줄표', 'SW': '기타기호 (논리수학기호,화폐기호)', 'UN': '명사추정범주', 'VA': '형용사', 'VC': '지정사', 'VCN': \"부정 지정사, 형용사 '아니다'\", 'VCP': \"긍정 지정사, 서술격 조사 '이다'\", 'VV': '동사', 'VX': '보조 용언', 'VXA': '보조 형용사', 'VXV': '보조 동사', 'XP': '접두사', 'XPN': '체언 접두사', 'XPV': '용언 접두사', 'XR': '어근', 'XSA': '형용사 파생 접미사', 'XSN': '명사파생 접미사', 'XSV': '동사 파생 접미사'}\n",
      "*********\n",
      "코모란 전체: ['한글', '로', '되', 'ㄴ', '한글', '텍스트', '를', '분석', '하', '는', '것', '은', '즐겁', '다', '.', '한글', '텍스트']\n",
      "코모란 명사: ['한글', '한글', '텍스트', '분석', '것', '한글', '텍스트']\n",
      "코모란 품사: [('한글', 'NNG'), ('로', 'JKB'), ('되', 'VV'), ('ㄴ', 'ETM'), ('한글', 'NNP'), ('텍스트', 'NNP'), ('를', 'JKO'), ('분석', 'NNG'), ('하', 'XSV'), ('는', 'ETM'), ('것', 'NNB'), ('은', 'JX'), ('즐겁', 'VA'), ('다', 'EF'), ('.', 'SF'), ('한글', 'NNP'), ('텍스트', 'NNP')]\n",
      "코모란 태그셋: {'EC': '연결 어미', 'EF': '종결 어미', 'EP': '선어말어미', 'ETM': '관형형 전성 어미', 'ETN': '명사형 전성 어미', 'IC': '감탄사', 'JC': '접속 조사', 'JKB': '부사격 조사', 'JKC': '보격 조사', 'JKG': '관형격 조사', 'JKO': '목적격 조사', 'JKQ': '인용격 조사', 'JKS': '주격 조사', 'JKV': '호격 조사', 'JX': '보조사', 'MAG': '일반 부사', 'MAJ': '접속 부사', 'MM': '관형사', 'NA': '분석불능범주', 'NF': '명사추정범주', 'NNB': '의존 명사', 'NNG': '일반 명사', 'NNP': '고유 명사', 'NP': '대명사', 'NR': '수사', 'NV': '용언추정범주', 'SE': '줄임표', 'SF': '마침표, 물음표, 느낌표', 'SH': '한자', 'SL': '외국어', 'SN': '숫자', 'SO': '붙임표(물결,숨김,빠짐)', 'SP': '쉼표,가운뎃점,콜론,빗금', 'SS': '따옴표,괄호표,줄표', 'SW': '기타기호 (논리수학기호,화폐기호)', 'VA': '형용사', 'VCN': '부정 지정사', 'VCP': '긍정 지정사', 'VV': '동사', 'VX': '보조 용언', 'XPN': '체언 접두사', 'XR': '어근', 'XSA': '형용사 파생 접미사', 'XSN': '명사파생 접미사', 'XSV': '동사 파생 접미사'}\n",
      "*********\n",
      "Okt 전체: ['한글', '로', '된', '한글', '텍스트', '를', '분석', '하는', '것', '은', '즐겁다', '.', '한글', '텍스트']\n",
      "Okt 전체, 어말어미유지: ['한글', '로', '되다', '한글', '텍스트', '를', '분석', '하다', '것', '은', '즐겁다', '.', '한글', '텍스트']\n",
      "Okt 명사: ['한글', '한글', '텍스트', '분석', '것', '한글', '텍스트']\n",
      "Okt 품사: [('한글', 'Noun'), ('로', 'Josa'), ('된', 'Verb'), ('한글', 'Noun'), ('텍스트', 'Noun'), ('를', 'Josa'), ('분석', 'Noun'), ('하는', 'Verb'), ('것', 'Noun'), ('은', 'Josa'), ('즐겁다', 'Adjective'), ('.', 'Punctuation'), ('한글', 'Noun'), ('텍스트', 'Noun')]\n",
      "Okt 태그셋: {'Adjective': '형용사', 'Adverb': '부사', 'Alpha': '알파벳', 'Conjunction': '접속사', 'Determiner': '관형사', 'Eomi': '어미', 'Exclamation': '감탄사', 'Foreign': '외국어, 한자 및 기타기호', 'Hashtag': '트위터 해쉬태그', 'Josa': '조사', 'KoreanParticle': '(ex: ㅋㅋ)', 'Noun': '명사', 'Number': '숫자', 'PreEomi': '선어말어미', 'Punctuation': '구두점', 'ScreenName': '트위터 아이디', 'Suffix': '접미사', 'Unknown': '미등록어', 'Verb': '동사'}\n"
     ]
    }
   ],
   "source": [
    "text = '한글로 된 한글 텍스트를 분석하는 것은 즐겁다. 한글텍스트'\n",
    "\n",
    "from konlpy.tag import Hannanum\n",
    "\n",
    "han = Hannanum()\n",
    "print(\"한나눔 전체:\", han.morphs(text))\n",
    "print(\"한나눔 명사:\", han.nouns(text))\n",
    "print(\"한나눔 품사:\", han.pos(text))\n",
    "print(\"한나눔 태그셋:\", han.tagset)\n",
    "print(\"**********\")\n",
    "from konlpy.tag import Kkma\n",
    "kkma = Kkma()\n",
    "print(\"꼬꼬마 전체:\", kkma.morphs(text))\n",
    "print(\"꼬꼬마 명사:\", kkma.nouns(text))\n",
    "print(\"꼬꼬마 품사:\", kkma.pos(text))\n",
    "print(\"꼬꼬마 태그셋:\", kkma.tagset)\n",
    "print(\"*********\")\n",
    "from konlpy.tag import Komoran\n",
    "komo = Komoran()\n",
    "print(\"코모란 전체:\", komo.morphs(text))\n",
    "print(\"코모란 명사:\", komo.nouns(text))\n",
    "print(\"코모란 품사:\", komo.pos(text))\n",
    "print(\"코모란 태그셋:\", komo.tagset)\n",
    "print(\"*********\")\n",
    "from konlpy.tag import Okt\n",
    "okt = Okt()\n",
    "print(\"Okt 전체:\", okt.morphs(text))\n",
    "print(\"Okt 전체, 어말어미유지:\", okt.morphs(text, stem=True))\n",
    "print(\"Okt 명사:\", okt.nouns(text))\n",
    "print(\"Okt 품사:\", okt.pos(text))\n",
    "print(\"Okt 태그셋:\", okt.tagset)"
   ]
  },
  {
   "cell_type": "code",
   "execution_count": null,
   "metadata": {},
   "outputs": [],
   "source": []
  }
 ],
 "metadata": {
  "kernelspec": {
   "display_name": "base",
   "language": "python",
   "name": "python3"
  },
  "language_info": {
   "codemirror_mode": {
    "name": "ipython",
    "version": 3
   },
   "file_extension": ".py",
   "mimetype": "text/x-python",
   "name": "python",
   "nbconvert_exporter": "python",
   "pygments_lexer": "ipython3",
   "version": "3.10.13"
  }
 },
 "nbformat": 4,
 "nbformat_minor": 2
}
