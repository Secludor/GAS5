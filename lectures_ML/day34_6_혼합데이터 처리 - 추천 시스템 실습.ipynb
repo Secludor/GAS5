{
 "cells": [
  {
   "cell_type": "code",
   "execution_count": 1,
   "metadata": {},
   "outputs": [],
   "source": [
    "import pandas as pd\n",
    "import os\n",
    "\n",
    "path = r'D:\\elice_python\\GAS_5\\pytest_machine'\n",
    "os.chdir(path)"
   ]
  },
  {
   "cell_type": "code",
   "execution_count": 2,
   "metadata": {},
   "outputs": [
    {
     "name": "stdout",
     "output_type": "stream",
     "text": [
      "['age' 'workclass' 'education' 'educationNumber' 'maritalStatus'\n",
      " 'occupation' 'relationship' 'race' 'gender' 'hourPerWeek' 'nativeCountry'\n",
      " 'income']\n",
      "   age          workclass   education  educationNumber        maritalStatus  \\\n",
      "0   39          State-gov   Bachelors               13        Never-married   \n",
      "1   50   Self-emp-not-inc   Bachelors               13   Married-civ-spouse   \n",
      "2   38            Private     HS-grad                9             Divorced   \n",
      "\n",
      "           occupation    relationship  race gender  hourPerWeek  \\\n",
      "0        Adm-clerical   Not-in-family     4   Male           40   \n",
      "1     Exec-managerial         Husband     4   Male           13   \n",
      "2   Handlers-cleaners   Not-in-family     4   Male           40   \n",
      "\n",
      "    nativeCountry  income  \n",
      "0   United-States       0  \n",
      "1   United-States       0  \n",
      "2   United-States       0  \n",
      "(32561, 12)\n",
      "<class 'pandas.core.frame.DataFrame'>\n",
      "RangeIndex: 32561 entries, 0 to 32560\n",
      "Data columns (total 12 columns):\n",
      " #   Column           Non-Null Count  Dtype \n",
      "---  ------           --------------  ----- \n",
      " 0   age              32561 non-null  int64 \n",
      " 1   workclass        32561 non-null  object\n",
      " 2   education        32561 non-null  object\n",
      " 3   educationNumber  32561 non-null  int64 \n",
      " 4   maritalStatus    32561 non-null  object\n",
      " 5   occupation       32561 non-null  object\n",
      " 6   relationship     32561 non-null  object\n",
      " 7   race             32561 non-null  int64 \n",
      " 8   gender           32561 non-null  object\n",
      " 9   hourPerWeek      32561 non-null  int64 \n",
      " 10  nativeCountry    32561 non-null  object\n",
      " 11  income           32561 non-null  int64 \n",
      "dtypes: int64(5), object(7)\n",
      "memory usage: 3.0+ MB\n",
      "None\n"
     ]
    }
   ],
   "source": [
    "import pandas as pd\n",
    "import os\n",
    "\n",
    "data = pd.read_csv('income.csv')\n",
    "print(data.columns.values)\n",
    "print(data.head(3))\n",
    "print(data.shape)\n",
    "print(data.info())"
   ]
  },
  {
   "cell_type": "code",
   "execution_count": 3,
   "metadata": {},
   "outputs": [
    {
     "data": {
      "text/plain": [
       "Index(['age', 'workclass', 'education', 'educationNumber', 'maritalStatus',\n",
       "       'occupation', 'relationship', 'race', 'gender', 'hourPerWeek',\n",
       "       'nativeCountry', 'income'],\n",
       "      dtype='object')"
      ]
     },
     "execution_count": 3,
     "metadata": {},
     "output_type": "execute_result"
    }
   ],
   "source": [
    "data.columns"
   ]
  },
  {
   "cell_type": "code",
   "execution_count": 4,
   "metadata": {},
   "outputs": [
    {
     "name": "stdout",
     "output_type": "stream",
     "text": [
      "age [17 18 19 20 21 22 23 24 25 26 27 28 29 30 31 32 33 34 35 36 37 38 39 40\n",
      " 41 42 43 44 45 46 47 48 49 50 51 52 53 54 55 56 57 58 59 60 61 62 63 64\n",
      " 65 66 67 68 69 70 71 72 73 74 75 76 77 78 79 80 81 82 83 84 85 86 87 88\n",
      " 90]\n",
      "workclass [' ?' ' Federal-gov' ' Local-gov' ' Never-worked' ' Private'\n",
      " ' Self-emp-inc' ' Self-emp-not-inc' ' State-gov' ' Without-pay']\n",
      "education [' 10th' ' 11th' ' 12th' ' 1st-4th' ' 5th-6th' ' 7th-8th' ' 9th'\n",
      " ' Assoc-acdm' ' Assoc-voc' ' Bachelors' ' Doctorate' ' HS-grad'\n",
      " ' Masters' ' Preschool' ' Prof-school' ' Some-college']\n",
      "educationNumber [ 1  2  3  4  5  6  7  8  9 10 11 12 13 14 15 16]\n",
      "maritalStatus [' Divorced' ' Married-AF-spouse' ' Married-civ-spouse'\n",
      " ' Married-spouse-absent' ' Never-married' ' Separated' ' Widowed']\n",
      "occupation [' ?' ' Adm-clerical' ' Armed-Forces' ' Craft-repair' ' Exec-managerial'\n",
      " ' Farming-fishing' ' Handlers-cleaners' ' Machine-op-inspct'\n",
      " ' Other-service' ' Priv-house-serv' ' Prof-specialty' ' Protective-serv'\n",
      " ' Sales' ' Tech-support' ' Transport-moving']\n",
      "relationship [' Husband' ' Not-in-family' ' Other-relative' ' Own-child' ' Unmarried'\n",
      " ' Wife']\n",
      "race [1 2 3 4 5]\n",
      "gender [' Female' ' Male']\n",
      "hourPerWeek [ 1  2  3  4  5  6  7  8  9 10 11 12 13 14 15 16 17 18 19 20 21 22 23 24\n",
      " 25 26 27 28 29 30 31 32 33 34 35 36 37 38 39 40 41 42 43 44 45 46 47 48\n",
      " 49 50 51 52 53 54 55 56 57 58 59 60 61 62 63 64 65 66 67 68 70 72 73 74\n",
      " 75 76 77 78 80 81 82 84 85 86 87 88 89 90 91 92 94 95 96 97 98 99]\n",
      "nativeCountry [' ?' ' Cambodia' ' Canada' ' China' ' Columbia' ' Cuba'\n",
      " ' Dominican-Republic' ' Ecuador' ' El-Salvador' ' England' ' France'\n",
      " ' Germany' ' Greece' ' Guatemala' ' Haiti' ' Holand-Netherlands'\n",
      " ' Honduras' ' Hong' ' Hungary' ' India' ' Iran' ' Ireland' ' Italy'\n",
      " ' Jamaica' ' Japan' ' Laos' ' Mexico' ' Nicaragua'\n",
      " ' Outlying-US(Guam-USVI-etc)' ' Peru' ' Philippines' ' Poland'\n",
      " ' Portugal' ' Puerto-Rico' ' Scotland' ' South' ' Taiwan' ' Thailand'\n",
      " ' Trinadad&Tobago' ' United-States' ' Vietnam' ' Yugoslavia']\n",
      "income [0 1]\n"
     ]
    }
   ],
   "source": [
    "import numpy as np\n",
    "for col in data.columns:\n",
    "    print(col, np.unique(data[col]))"
   ]
  },
  {
   "cell_type": "markdown",
   "metadata": {},
   "source": [
    "worklcass를 비롯 몇몇 컬럼에 ' ?'라는 NA에 해당하는 값이 들어 있으며, 모든 값의 앞에 공백 문자가 들어가 있다. "
   ]
  },
  {
   "cell_type": "markdown",
   "metadata": {},
   "source": [
    "### skipinitalspace = True\n",
    "로 두고 데이터를 불러오면 값의 처음에 있는 공백들을 remove 해준다."
   ]
  },
  {
   "cell_type": "code",
   "execution_count": 5,
   "metadata": {},
   "outputs": [
    {
     "name": "stdout",
     "output_type": "stream",
     "text": [
      "(32561, 12)\n",
      "age [17 18 19 20 21 22 23 24 25 26 27 28 29 30 31 32 33 34 35 36 37 38 39 40\n",
      " 41 42 43 44 45 46 47 48 49 50 51 52 53 54 55 56 57 58 59 60 61 62 63 64\n",
      " 65 66 67 68 69 70 71 72 73 74 75 76 77 78 79 80 81 82 83 84 85 86 87 88\n",
      " 90]\n",
      "workclass ['?' 'Federal-gov' 'Local-gov' 'Never-worked' 'Private' 'Self-emp-inc'\n",
      " 'Self-emp-not-inc' 'State-gov' 'Without-pay']\n",
      "education ['10th' '11th' '12th' '1st-4th' '5th-6th' '7th-8th' '9th' 'Assoc-acdm'\n",
      " 'Assoc-voc' 'Bachelors' 'Doctorate' 'HS-grad' 'Masters' 'Preschool'\n",
      " 'Prof-school' 'Some-college']\n",
      "educationNumber [ 1  2  3  4  5  6  7  8  9 10 11 12 13 14 15 16]\n",
      "maritalStatus ['Divorced' 'Married-AF-spouse' 'Married-civ-spouse'\n",
      " 'Married-spouse-absent' 'Never-married' 'Separated' 'Widowed']\n",
      "occupation ['?' 'Adm-clerical' 'Armed-Forces' 'Craft-repair' 'Exec-managerial'\n",
      " 'Farming-fishing' 'Handlers-cleaners' 'Machine-op-inspct' 'Other-service'\n",
      " 'Priv-house-serv' 'Prof-specialty' 'Protective-serv' 'Sales'\n",
      " 'Tech-support' 'Transport-moving']\n",
      "relationship ['Husband' 'Not-in-family' 'Other-relative' 'Own-child' 'Unmarried' 'Wife']\n",
      "race [1 2 3 4 5]\n",
      "gender ['Female' 'Male']\n",
      "hourPerWeek [ 1  2  3  4  5  6  7  8  9 10 11 12 13 14 15 16 17 18 19 20 21 22 23 24\n",
      " 25 26 27 28 29 30 31 32 33 34 35 36 37 38 39 40 41 42 43 44 45 46 47 48\n",
      " 49 50 51 52 53 54 55 56 57 58 59 60 61 62 63 64 65 66 67 68 70 72 73 74\n",
      " 75 76 77 78 80 81 82 84 85 86 87 88 89 90 91 92 94 95 96 97 98 99]\n",
      "nativeCountry ['?' 'Cambodia' 'Canada' 'China' 'Columbia' 'Cuba' 'Dominican-Republic'\n",
      " 'Ecuador' 'El-Salvador' 'England' 'France' 'Germany' 'Greece' 'Guatemala'\n",
      " 'Haiti' 'Holand-Netherlands' 'Honduras' 'Hong' 'Hungary' 'India' 'Iran'\n",
      " 'Ireland' 'Italy' 'Jamaica' 'Japan' 'Laos' 'Mexico' 'Nicaragua'\n",
      " 'Outlying-US(Guam-USVI-etc)' 'Peru' 'Philippines' 'Poland' 'Portugal'\n",
      " 'Puerto-Rico' 'Scotland' 'South' 'Taiwan' 'Thailand' 'Trinadad&Tobago'\n",
      " 'United-States' 'Vietnam' 'Yugoslavia']\n",
      "income [0 1]\n"
     ]
    }
   ],
   "source": [
    "data = pd.read_csv('income.csv', skipinitialspace=True)\n",
    "print(data.shape)\n",
    "for col in data.columns:\n",
    "    print(col, np.unique(data[col]))"
   ]
  },
  {
   "cell_type": "markdown",
   "metadata": {},
   "source": [
    "### 특정 문자가  있는 행 삭제"
   ]
  },
  {
   "cell_type": "code",
   "execution_count": 6,
   "metadata": {},
   "outputs": [
    {
     "name": "stdout",
     "output_type": "stream",
     "text": [
      "age [17 18 19 20 21 22 23 24 25 26 27 28 29 30 31 32 33 34 35 36 37 38 39 40\n",
      " 41 42 43 44 45 46 47 48 49 50 51 52 53 54 55 56 57 58 59 60 61 62 63 64\n",
      " 65 66 67 68 69 70 71 72 73 74 75 76 77 78 79 80 81 82 83 84 85 86 88 90]\n",
      "workclass ['Federal-gov' 'Local-gov' 'Private' 'Self-emp-inc' 'Self-emp-not-inc'\n",
      " 'State-gov' 'Without-pay']\n",
      "education ['10th' '11th' '12th' '1st-4th' '5th-6th' '7th-8th' '9th' 'Assoc-acdm'\n",
      " 'Assoc-voc' 'Bachelors' 'Doctorate' 'HS-grad' 'Masters' 'Preschool'\n",
      " 'Prof-school' 'Some-college']\n",
      "educationNumber [ 1  2  3  4  5  6  7  8  9 10 11 12 13 14 15 16]\n",
      "maritalStatus ['Divorced' 'Married-AF-spouse' 'Married-civ-spouse'\n",
      " 'Married-spouse-absent' 'Never-married' 'Separated' 'Widowed']\n",
      "occupation ['Adm-clerical' 'Armed-Forces' 'Craft-repair' 'Exec-managerial'\n",
      " 'Farming-fishing' 'Handlers-cleaners' 'Machine-op-inspct' 'Other-service'\n",
      " 'Priv-house-serv' 'Prof-specialty' 'Protective-serv' 'Sales'\n",
      " 'Tech-support' 'Transport-moving']\n",
      "relationship ['Husband' 'Not-in-family' 'Other-relative' 'Own-child' 'Unmarried' 'Wife']\n",
      "race [1 2 3 4 5]\n",
      "gender ['Female' 'Male']\n",
      "hourPerWeek [ 1  2  3  4  5  6  7  8  9 10 11 12 13 14 15 16 17 18 19 20 21 22 23 24\n",
      " 25 26 27 28 29 30 31 32 33 34 35 36 37 38 39 40 41 42 43 44 45 46 47 48\n",
      " 49 50 51 52 53 54 55 56 57 58 59 60 61 62 63 64 65 66 67 68 70 72 73 74\n",
      " 75 76 77 78 80 81 82 84 85 86 87 88 89 90 91 92 94 95 96 97 98 99]\n",
      "nativeCountry ['Cambodia' 'Canada' 'China' 'Columbia' 'Cuba' 'Dominican-Republic'\n",
      " 'Ecuador' 'El-Salvador' 'England' 'France' 'Germany' 'Greece' 'Guatemala'\n",
      " 'Haiti' 'Holand-Netherlands' 'Honduras' 'Hong' 'Hungary' 'India' 'Iran'\n",
      " 'Ireland' 'Italy' 'Jamaica' 'Japan' 'Laos' 'Mexico' 'Nicaragua'\n",
      " 'Outlying-US(Guam-USVI-etc)' 'Peru' 'Philippines' 'Poland' 'Portugal'\n",
      " 'Puerto-Rico' 'Scotland' 'South' 'Taiwan' 'Thailand' 'Trinadad&Tobago'\n",
      " 'United-States' 'Vietnam' 'Yugoslavia']\n",
      "income [0 1]\n"
     ]
    }
   ],
   "source": [
    "for col in data.columns:\n",
    "    data = data[data[col] !='?']\n",
    "    \n",
    "for col in data.columns:\n",
    "    print(col, np.unique(data[col]))"
   ]
  },
  {
   "cell_type": "code",
   "execution_count": 7,
   "metadata": {},
   "outputs": [
    {
     "name": "stdout",
     "output_type": "stream",
     "text": [
      "(30162, 12)\n"
     ]
    }
   ],
   "source": [
    "print(data.shape)"
   ]
  },
  {
   "cell_type": "code",
   "execution_count": 9,
   "metadata": {},
   "outputs": [
    {
     "name": "stdout",
     "output_type": "stream",
     "text": [
      "['age' 'workclass' 'education' 'educationNumber' 'maritalStatus'\n",
      " 'occupation' 'relationship' 'race' 'gender' 'hourPerWeek' 'nativeCountry'\n",
      " 'income']\n"
     ]
    },
    {
     "data": {
      "text/html": [
       "<div>\n",
       "<style scoped>\n",
       "    .dataframe tbody tr th:only-of-type {\n",
       "        vertical-align: middle;\n",
       "    }\n",
       "\n",
       "    .dataframe tbody tr th {\n",
       "        vertical-align: top;\n",
       "    }\n",
       "\n",
       "    .dataframe thead th {\n",
       "        text-align: right;\n",
       "    }\n",
       "</style>\n",
       "<table border=\"1\" class=\"dataframe\">\n",
       "  <thead>\n",
       "    <tr style=\"text-align: right;\">\n",
       "      <th></th>\n",
       "      <th>age</th>\n",
       "      <th>workclass</th>\n",
       "      <th>education</th>\n",
       "      <th>educationNumber</th>\n",
       "      <th>maritalStatus</th>\n",
       "      <th>occupation</th>\n",
       "      <th>relationship</th>\n",
       "      <th>race</th>\n",
       "      <th>gender</th>\n",
       "      <th>hourPerWeek</th>\n",
       "      <th>nativeCountry</th>\n",
       "      <th>income</th>\n",
       "    </tr>\n",
       "  </thead>\n",
       "  <tbody>\n",
       "    <tr>\n",
       "      <th>0</th>\n",
       "      <td>39</td>\n",
       "      <td>State-gov</td>\n",
       "      <td>Bachelors</td>\n",
       "      <td>13</td>\n",
       "      <td>Never-married</td>\n",
       "      <td>Adm-clerical</td>\n",
       "      <td>Not-in-family</td>\n",
       "      <td>4</td>\n",
       "      <td>Male</td>\n",
       "      <td>40</td>\n",
       "      <td>United-States</td>\n",
       "      <td>0</td>\n",
       "    </tr>\n",
       "    <tr>\n",
       "      <th>1</th>\n",
       "      <td>50</td>\n",
       "      <td>Self-emp-not-inc</td>\n",
       "      <td>Bachelors</td>\n",
       "      <td>13</td>\n",
       "      <td>Married-civ-spouse</td>\n",
       "      <td>Exec-managerial</td>\n",
       "      <td>Husband</td>\n",
       "      <td>4</td>\n",
       "      <td>Male</td>\n",
       "      <td>13</td>\n",
       "      <td>United-States</td>\n",
       "      <td>0</td>\n",
       "    </tr>\n",
       "  </tbody>\n",
       "</table>\n",
       "</div>"
      ],
      "text/plain": [
       "   age         workclass  education  educationNumber       maritalStatus  \\\n",
       "0   39         State-gov  Bachelors               13       Never-married   \n",
       "1   50  Self-emp-not-inc  Bachelors               13  Married-civ-spouse   \n",
       "\n",
       "        occupation   relationship  race gender  hourPerWeek  nativeCountry  \\\n",
       "0     Adm-clerical  Not-in-family     4   Male           40  United-States   \n",
       "1  Exec-managerial        Husband     4   Male           13  United-States   \n",
       "\n",
       "   income  \n",
       "0       0  \n",
       "1       0  "
      ]
     },
     "execution_count": 9,
     "metadata": {},
     "output_type": "execute_result"
    }
   ],
   "source": [
    "print(data.columns.values)\n",
    "data.head(2)"
   ]
  },
  {
   "cell_type": "code",
   "execution_count": 27,
   "metadata": {},
   "outputs": [
    {
     "name": "stdout",
     "output_type": "stream",
     "text": [
      "educationNumber\n",
      "9     9840\n",
      "10    6678\n",
      "13    5044\n",
      "14    1627\n",
      "11    1307\n",
      "7     1048\n",
      "12    1008\n",
      "6      820\n",
      "4      557\n",
      "15     542\n",
      "5      455\n",
      "8      377\n",
      "16     375\n",
      "3      288\n",
      "2      151\n",
      "1       45\n",
      "Name: count, dtype: int64\n"
     ]
    }
   ],
   "source": [
    "print(data.educationNumber.value_counts())"
   ]
  },
  {
   "cell_type": "code",
   "execution_count": null,
   "metadata": {},
   "outputs": [],
   "source": [
    "for col in ['workclass','education','maritalStatus','occupation','relationship','gender' , 'nativeCountry']:\n",
    "    print(data[col].value_counts(),'\\n')"
   ]
  },
  {
   "cell_type": "code",
   "execution_count": 20,
   "metadata": {},
   "outputs": [
    {
     "data": {
      "text/html": [
       "<div>\n",
       "<style scoped>\n",
       "    .dataframe tbody tr th:only-of-type {\n",
       "        vertical-align: middle;\n",
       "    }\n",
       "\n",
       "    .dataframe tbody tr th {\n",
       "        vertical-align: top;\n",
       "    }\n",
       "\n",
       "    .dataframe thead th {\n",
       "        text-align: right;\n",
       "    }\n",
       "</style>\n",
       "<table border=\"1\" class=\"dataframe\">\n",
       "  <thead>\n",
       "    <tr style=\"text-align: right;\">\n",
       "      <th></th>\n",
       "      <th>age</th>\n",
       "      <th>workclass</th>\n",
       "      <th>education</th>\n",
       "      <th>educationNumber</th>\n",
       "      <th>maritalStatus</th>\n",
       "      <th>occupation</th>\n",
       "      <th>relationship</th>\n",
       "      <th>race</th>\n",
       "      <th>gender</th>\n",
       "      <th>hourPerWeek</th>\n",
       "      <th>nativeCountry</th>\n",
       "      <th>income</th>\n",
       "    </tr>\n",
       "  </thead>\n",
       "  <tbody>\n",
       "    <tr>\n",
       "      <th>19609</th>\n",
       "      <td>32</td>\n",
       "      <td>Private</td>\n",
       "      <td>Some-college</td>\n",
       "      <td>10</td>\n",
       "      <td>Never-married</td>\n",
       "      <td>Machine-op-inspct</td>\n",
       "      <td>Other-relative</td>\n",
       "      <td>4</td>\n",
       "      <td>Female</td>\n",
       "      <td>40</td>\n",
       "      <td>Holand-Netherlands</td>\n",
       "      <td>0</td>\n",
       "    </tr>\n",
       "  </tbody>\n",
       "</table>\n",
       "</div>"
      ],
      "text/plain": [
       "       age workclass     education  educationNumber  maritalStatus  \\\n",
       "19609   32   Private  Some-college               10  Never-married   \n",
       "\n",
       "              occupation    relationship  race  gender  hourPerWeek  \\\n",
       "19609  Machine-op-inspct  Other-relative     4  Female           40   \n",
       "\n",
       "            nativeCountry  income  \n",
       "19609  Holand-Netherlands       0  "
      ]
     },
     "execution_count": 20,
     "metadata": {},
     "output_type": "execute_result"
    }
   ],
   "source": [
    "data[data['nativeCountry'] == 'Holand-Netherlands']"
   ]
  },
  {
   "cell_type": "code",
   "execution_count": 22,
   "metadata": {},
   "outputs": [
    {
     "name": "stdout",
     "output_type": "stream",
     "text": [
      "(30162, 12) (30162, 11) (30162,)\n"
     ]
    }
   ],
   "source": [
    "X = data.loc[:, 'age':'nativeCountry']\n",
    "y = data.loc[:,'income']\n",
    "print(data.shape, X.shape, y.shape)"
   ]
  },
  {
   "cell_type": "code",
   "execution_count": 23,
   "metadata": {},
   "outputs": [
    {
     "name": "stdout",
     "output_type": "stream",
     "text": [
      "<class 'pandas.core.frame.DataFrame'>\n",
      "Index: 30162 entries, 0 to 32560\n",
      "Data columns (total 11 columns):\n",
      " #   Column           Non-Null Count  Dtype \n",
      "---  ------           --------------  ----- \n",
      " 0   age              30162 non-null  int64 \n",
      " 1   workclass        30162 non-null  object\n",
      " 2   education        30162 non-null  object\n",
      " 3   educationNumber  30162 non-null  int64 \n",
      " 4   maritalStatus    30162 non-null  object\n",
      " 5   occupation       30162 non-null  object\n",
      " 6   relationship     30162 non-null  object\n",
      " 7   race             30162 non-null  int64 \n",
      " 8   gender           30162 non-null  object\n",
      " 9   hourPerWeek      30162 non-null  int64 \n",
      " 10  nativeCountry    30162 non-null  object\n",
      "dtypes: int64(4), object(7)\n",
      "memory usage: 2.8+ MB\n"
     ]
    }
   ],
   "source": [
    "X.info()"
   ]
  },
  {
   "cell_type": "markdown",
   "metadata": {},
   "source": [
    "race는 dtype이 int64지만 실제로는 범주형이다.\n",
    "\n",
    "이를 숫자형 그대로 사용하게 되면 get_dummies() 메서드가 이를 연속형으로 간주하기 때문에, 컬럼의 성격에 맞게 수정해줄 필요가 있다.\n",
    "\n",
    "- 원-핫 인코딩을 하기 위해 우선 String으로 변환한다."
   ]
  },
  {
   "cell_type": "code",
   "execution_count": 24,
   "metadata": {},
   "outputs": [
    {
     "data": {
      "text/plain": [
       "0        4\n",
       "1        4\n",
       "2        4\n",
       "3        3\n",
       "4        3\n",
       "        ..\n",
       "32556    4\n",
       "32557    4\n",
       "32558    4\n",
       "32559    4\n",
       "32560    4\n",
       "Name: race, Length: 30162, dtype: object"
      ]
     },
     "execution_count": 24,
     "metadata": {},
     "output_type": "execute_result"
    }
   ],
   "source": [
    "race_series = X['race'].apply(str)\n",
    "race_series"
   ]
  },
  {
   "cell_type": "code",
   "execution_count": 25,
   "metadata": {},
   "outputs": [],
   "source": [
    "# del X['race']\n",
    "# X.info()"
   ]
  },
  {
   "cell_type": "code",
   "execution_count": 26,
   "metadata": {},
   "outputs": [
    {
     "name": "stdout",
     "output_type": "stream",
     "text": [
      "<class 'pandas.core.frame.DataFrame'>\n",
      "Index: 30162 entries, 0 to 32560\n",
      "Data columns (total 11 columns):\n",
      " #   Column           Non-Null Count  Dtype \n",
      "---  ------           --------------  ----- \n",
      " 0   age              30162 non-null  int64 \n",
      " 1   workclass        30162 non-null  object\n",
      " 2   education        30162 non-null  object\n",
      " 3   educationNumber  30162 non-null  int64 \n",
      " 4   maritalStatus    30162 non-null  object\n",
      " 5   occupation       30162 non-null  object\n",
      " 6   relationship     30162 non-null  object\n",
      " 7   race             30162 non-null  object\n",
      " 8   gender           30162 non-null  object\n",
      " 9   hourPerWeek      30162 non-null  int64 \n",
      " 10  nativeCountry    30162 non-null  object\n",
      "dtypes: int64(3), object(8)\n",
      "memory usage: 2.8+ MB\n"
     ]
    }
   ],
   "source": [
    "X['race'] = race_series\n",
    "X.info()"
   ]
  },
  {
   "cell_type": "markdown",
   "metadata": {},
   "source": [
    "수치형과 범주형을 분리한다."
   ]
  },
  {
   "cell_type": "code",
   "execution_count": 29,
   "metadata": {},
   "outputs": [],
   "source": [
    "X_num = X[['age','educationNumber', 'hourPerWeek']]\n",
    "X_cat = X[['workclass', 'education', 'maritalStatus', 'occupation', \n",
    "           'relationship', 'race', 'gender', 'nativeCountry']]\n"
   ]
  },
  {
   "cell_type": "markdown",
   "metadata": {},
   "source": [
    "종속변수 income은 범주형이지만, 이미 0, 1로 인코딩되어 있으므로 다시 one-hot 인코딩을 해줄 필요가 없다. (다중분류 상황에서는 해주어야 한다.)"
   ]
  },
  {
   "cell_type": "markdown",
   "metadata": {},
   "source": [
    "수치형 데이터 정규화"
   ]
  },
  {
   "cell_type": "code",
   "execution_count": 30,
   "metadata": {},
   "outputs": [],
   "source": [
    "from sklearn.preprocessing import MinMaxScaler\n",
    "mms = MinMaxScaler()\n",
    "X_mms = mms.fit_transform(X_num)"
   ]
  },
  {
   "cell_type": "code",
   "execution_count": 32,
   "metadata": {},
   "outputs": [
    {
     "name": "stdout",
     "output_type": "stream",
     "text": [
      "[[0.30136986 0.8        0.39795918]\n",
      " [0.45205479 0.8        0.12244898]\n",
      " [0.28767123 0.53333333 0.39795918]\n",
      " ...\n",
      " [0.56164384 0.53333333 0.39795918]\n",
      " [0.06849315 0.53333333 0.19387755]\n",
      " [0.47945205 0.53333333 0.39795918]]\n",
      "<class 'numpy.ndarray'>\n"
     ]
    }
   ],
   "source": [
    "print(X_mms)\n",
    "print(type(X_mms))"
   ]
  },
  {
   "cell_type": "markdown",
   "metadata": {},
   "source": [
    "최소를 0, 최대를 1로 하는 MinMax 정규화 (최소최대정규화).\n",
    "평균을 0, 표준편차를 1로 하는 표준화 정규화(StandardScaler)도 있으나,\n",
    "일반적으로 MinMax 정규화를 더 많이 사용한다"
   ]
  },
  {
   "cell_type": "markdown",
   "metadata": {},
   "source": [
    "범주형 데이터 원핫 인코딩"
   ]
  },
  {
   "cell_type": "code",
   "execution_count": 35,
   "metadata": {},
   "outputs": [
    {
     "name": "stdout",
     "output_type": "stream",
     "text": [
      "['workclass_Federal-gov' 'workclass_Local-gov' 'workclass_Private'\n",
      " 'workclass_Self-emp-inc' 'workclass_Self-emp-not-inc'\n",
      " 'workclass_State-gov' 'workclass_Without-pay' 'education_10th'\n",
      " 'education_11th' 'education_12th' 'education_1st-4th' 'education_5th-6th'\n",
      " 'education_7th-8th' 'education_9th' 'education_Assoc-acdm'\n",
      " 'education_Assoc-voc' 'education_Bachelors' 'education_Doctorate'\n",
      " 'education_HS-grad' 'education_Masters' 'education_Preschool'\n",
      " 'education_Prof-school' 'education_Some-college' 'maritalStatus_Divorced'\n",
      " 'maritalStatus_Married-AF-spouse' 'maritalStatus_Married-civ-spouse'\n",
      " 'maritalStatus_Married-spouse-absent' 'maritalStatus_Never-married'\n",
      " 'maritalStatus_Separated' 'maritalStatus_Widowed'\n",
      " 'occupation_Adm-clerical' 'occupation_Armed-Forces'\n",
      " 'occupation_Craft-repair' 'occupation_Exec-managerial'\n",
      " 'occupation_Farming-fishing' 'occupation_Handlers-cleaners'\n",
      " 'occupation_Machine-op-inspct' 'occupation_Other-service'\n",
      " 'occupation_Priv-house-serv' 'occupation_Prof-specialty'\n",
      " 'occupation_Protective-serv' 'occupation_Sales' 'occupation_Tech-support'\n",
      " 'occupation_Transport-moving' 'relationship_Husband'\n",
      " 'relationship_Not-in-family' 'relationship_Other-relative'\n",
      " 'relationship_Own-child' 'relationship_Unmarried' 'relationship_Wife'\n",
      " 'race_1' 'race_2' 'race_3' 'race_4' 'race_5' 'gender_Female'\n",
      " 'gender_Male' 'nativeCountry_Cambodia' 'nativeCountry_Canada'\n",
      " 'nativeCountry_China' 'nativeCountry_Columbia' 'nativeCountry_Cuba'\n",
      " 'nativeCountry_Dominican-Republic' 'nativeCountry_Ecuador'\n",
      " 'nativeCountry_El-Salvador' 'nativeCountry_England'\n",
      " 'nativeCountry_France' 'nativeCountry_Germany' 'nativeCountry_Greece'\n",
      " 'nativeCountry_Guatemala' 'nativeCountry_Haiti'\n",
      " 'nativeCountry_Holand-Netherlands' 'nativeCountry_Honduras'\n",
      " 'nativeCountry_Hong' 'nativeCountry_Hungary' 'nativeCountry_India'\n",
      " 'nativeCountry_Iran' 'nativeCountry_Ireland' 'nativeCountry_Italy'\n",
      " 'nativeCountry_Jamaica' 'nativeCountry_Japan' 'nativeCountry_Laos'\n",
      " 'nativeCountry_Mexico' 'nativeCountry_Nicaragua'\n",
      " 'nativeCountry_Outlying-US(Guam-USVI-etc)' 'nativeCountry_Peru'\n",
      " 'nativeCountry_Philippines' 'nativeCountry_Poland'\n",
      " 'nativeCountry_Portugal' 'nativeCountry_Puerto-Rico'\n",
      " 'nativeCountry_Scotland' 'nativeCountry_South' 'nativeCountry_Taiwan'\n",
      " 'nativeCountry_Thailand' 'nativeCountry_Trinadad&Tobago'\n",
      " 'nativeCountry_United-States' 'nativeCountry_Vietnam'\n",
      " 'nativeCountry_Yugoslavia']\n",
      "<class 'pandas.core.frame.DataFrame'>\n"
     ]
    },
    {
     "data": {
      "text/html": [
       "<div>\n",
       "<style scoped>\n",
       "    .dataframe tbody tr th:only-of-type {\n",
       "        vertical-align: middle;\n",
       "    }\n",
       "\n",
       "    .dataframe tbody tr th {\n",
       "        vertical-align: top;\n",
       "    }\n",
       "\n",
       "    .dataframe thead th {\n",
       "        text-align: right;\n",
       "    }\n",
       "</style>\n",
       "<table border=\"1\" class=\"dataframe\">\n",
       "  <thead>\n",
       "    <tr style=\"text-align: right;\">\n",
       "      <th></th>\n",
       "      <th>workclass_Federal-gov</th>\n",
       "      <th>workclass_Local-gov</th>\n",
       "      <th>workclass_Private</th>\n",
       "      <th>workclass_Self-emp-inc</th>\n",
       "      <th>workclass_Self-emp-not-inc</th>\n",
       "      <th>workclass_State-gov</th>\n",
       "      <th>workclass_Without-pay</th>\n",
       "      <th>education_10th</th>\n",
       "      <th>education_11th</th>\n",
       "      <th>education_12th</th>\n",
       "      <th>...</th>\n",
       "      <th>nativeCountry_Portugal</th>\n",
       "      <th>nativeCountry_Puerto-Rico</th>\n",
       "      <th>nativeCountry_Scotland</th>\n",
       "      <th>nativeCountry_South</th>\n",
       "      <th>nativeCountry_Taiwan</th>\n",
       "      <th>nativeCountry_Thailand</th>\n",
       "      <th>nativeCountry_Trinadad&amp;Tobago</th>\n",
       "      <th>nativeCountry_United-States</th>\n",
       "      <th>nativeCountry_Vietnam</th>\n",
       "      <th>nativeCountry_Yugoslavia</th>\n",
       "    </tr>\n",
       "  </thead>\n",
       "  <tbody>\n",
       "    <tr>\n",
       "      <th>0</th>\n",
       "      <td>False</td>\n",
       "      <td>False</td>\n",
       "      <td>False</td>\n",
       "      <td>False</td>\n",
       "      <td>False</td>\n",
       "      <td>True</td>\n",
       "      <td>False</td>\n",
       "      <td>False</td>\n",
       "      <td>False</td>\n",
       "      <td>False</td>\n",
       "      <td>...</td>\n",
       "      <td>False</td>\n",
       "      <td>False</td>\n",
       "      <td>False</td>\n",
       "      <td>False</td>\n",
       "      <td>False</td>\n",
       "      <td>False</td>\n",
       "      <td>False</td>\n",
       "      <td>True</td>\n",
       "      <td>False</td>\n",
       "      <td>False</td>\n",
       "    </tr>\n",
       "    <tr>\n",
       "      <th>1</th>\n",
       "      <td>False</td>\n",
       "      <td>False</td>\n",
       "      <td>False</td>\n",
       "      <td>False</td>\n",
       "      <td>True</td>\n",
       "      <td>False</td>\n",
       "      <td>False</td>\n",
       "      <td>False</td>\n",
       "      <td>False</td>\n",
       "      <td>False</td>\n",
       "      <td>...</td>\n",
       "      <td>False</td>\n",
       "      <td>False</td>\n",
       "      <td>False</td>\n",
       "      <td>False</td>\n",
       "      <td>False</td>\n",
       "      <td>False</td>\n",
       "      <td>False</td>\n",
       "      <td>True</td>\n",
       "      <td>False</td>\n",
       "      <td>False</td>\n",
       "    </tr>\n",
       "    <tr>\n",
       "      <th>2</th>\n",
       "      <td>False</td>\n",
       "      <td>False</td>\n",
       "      <td>True</td>\n",
       "      <td>False</td>\n",
       "      <td>False</td>\n",
       "      <td>False</td>\n",
       "      <td>False</td>\n",
       "      <td>False</td>\n",
       "      <td>False</td>\n",
       "      <td>False</td>\n",
       "      <td>...</td>\n",
       "      <td>False</td>\n",
       "      <td>False</td>\n",
       "      <td>False</td>\n",
       "      <td>False</td>\n",
       "      <td>False</td>\n",
       "      <td>False</td>\n",
       "      <td>False</td>\n",
       "      <td>True</td>\n",
       "      <td>False</td>\n",
       "      <td>False</td>\n",
       "    </tr>\n",
       "    <tr>\n",
       "      <th>3</th>\n",
       "      <td>False</td>\n",
       "      <td>False</td>\n",
       "      <td>True</td>\n",
       "      <td>False</td>\n",
       "      <td>False</td>\n",
       "      <td>False</td>\n",
       "      <td>False</td>\n",
       "      <td>False</td>\n",
       "      <td>True</td>\n",
       "      <td>False</td>\n",
       "      <td>...</td>\n",
       "      <td>False</td>\n",
       "      <td>False</td>\n",
       "      <td>False</td>\n",
       "      <td>False</td>\n",
       "      <td>False</td>\n",
       "      <td>False</td>\n",
       "      <td>False</td>\n",
       "      <td>True</td>\n",
       "      <td>False</td>\n",
       "      <td>False</td>\n",
       "    </tr>\n",
       "    <tr>\n",
       "      <th>4</th>\n",
       "      <td>False</td>\n",
       "      <td>False</td>\n",
       "      <td>True</td>\n",
       "      <td>False</td>\n",
       "      <td>False</td>\n",
       "      <td>False</td>\n",
       "      <td>False</td>\n",
       "      <td>False</td>\n",
       "      <td>False</td>\n",
       "      <td>False</td>\n",
       "      <td>...</td>\n",
       "      <td>False</td>\n",
       "      <td>False</td>\n",
       "      <td>False</td>\n",
       "      <td>False</td>\n",
       "      <td>False</td>\n",
       "      <td>False</td>\n",
       "      <td>False</td>\n",
       "      <td>False</td>\n",
       "      <td>False</td>\n",
       "      <td>False</td>\n",
       "    </tr>\n",
       "  </tbody>\n",
       "</table>\n",
       "<p>5 rows × 98 columns</p>\n",
       "</div>"
      ],
      "text/plain": [
       "   workclass_Federal-gov  workclass_Local-gov  workclass_Private  \\\n",
       "0                  False                False              False   \n",
       "1                  False                False              False   \n",
       "2                  False                False               True   \n",
       "3                  False                False               True   \n",
       "4                  False                False               True   \n",
       "\n",
       "   workclass_Self-emp-inc  workclass_Self-emp-not-inc  workclass_State-gov  \\\n",
       "0                   False                       False                 True   \n",
       "1                   False                        True                False   \n",
       "2                   False                       False                False   \n",
       "3                   False                       False                False   \n",
       "4                   False                       False                False   \n",
       "\n",
       "   workclass_Without-pay  education_10th  education_11th  education_12th  ...  \\\n",
       "0                  False           False           False           False  ...   \n",
       "1                  False           False           False           False  ...   \n",
       "2                  False           False           False           False  ...   \n",
       "3                  False           False            True           False  ...   \n",
       "4                  False           False           False           False  ...   \n",
       "\n",
       "   nativeCountry_Portugal  nativeCountry_Puerto-Rico  nativeCountry_Scotland  \\\n",
       "0                   False                      False                   False   \n",
       "1                   False                      False                   False   \n",
       "2                   False                      False                   False   \n",
       "3                   False                      False                   False   \n",
       "4                   False                      False                   False   \n",
       "\n",
       "   nativeCountry_South  nativeCountry_Taiwan  nativeCountry_Thailand  \\\n",
       "0                False                 False                   False   \n",
       "1                False                 False                   False   \n",
       "2                False                 False                   False   \n",
       "3                False                 False                   False   \n",
       "4                False                 False                   False   \n",
       "\n",
       "   nativeCountry_Trinadad&Tobago  nativeCountry_United-States  \\\n",
       "0                          False                         True   \n",
       "1                          False                         True   \n",
       "2                          False                         True   \n",
       "3                          False                         True   \n",
       "4                          False                        False   \n",
       "\n",
       "   nativeCountry_Vietnam  nativeCountry_Yugoslavia  \n",
       "0                  False                     False  \n",
       "1                  False                     False  \n",
       "2                  False                     False  \n",
       "3                  False                     False  \n",
       "4                  False                     False  \n",
       "\n",
       "[5 rows x 98 columns]"
      ]
     },
     "execution_count": 35,
     "metadata": {},
     "output_type": "execute_result"
    }
   ],
   "source": [
    "X_hot = pd.get_dummies(X_cat)\n",
    "print(X_hot.columns.values)\n",
    "print(type(X_hot))\n",
    "X_hot.head()"
   ]
  },
  {
   "cell_type": "markdown",
   "metadata": {},
   "source": [
    "get_dummies(X_cat, dtype='int') 으로 지정해야 0, 1로 나온다. (기본값 'bool')"
   ]
  },
  {
   "cell_type": "markdown",
   "metadata": {},
   "source": [
    "수치형과 범주형 재결합"
   ]
  },
  {
   "cell_type": "code",
   "execution_count": 36,
   "metadata": {},
   "outputs": [
    {
     "data": {
      "text/plain": [
       "((30162, 3), (30162, 98))"
      ]
     },
     "execution_count": 36,
     "metadata": {},
     "output_type": "execute_result"
    }
   ],
   "source": [
    "X_mms.shape, X_hot.shape"
   ]
  },
  {
   "cell_type": "code",
   "execution_count": 37,
   "metadata": {},
   "outputs": [
    {
     "data": {
      "text/html": [
       "<div>\n",
       "<style scoped>\n",
       "    .dataframe tbody tr th:only-of-type {\n",
       "        vertical-align: middle;\n",
       "    }\n",
       "\n",
       "    .dataframe tbody tr th {\n",
       "        vertical-align: top;\n",
       "    }\n",
       "\n",
       "    .dataframe thead th {\n",
       "        text-align: right;\n",
       "    }\n",
       "</style>\n",
       "<table border=\"1\" class=\"dataframe\">\n",
       "  <thead>\n",
       "    <tr style=\"text-align: right;\">\n",
       "      <th></th>\n",
       "      <th>age</th>\n",
       "      <th>educationNumber</th>\n",
       "      <th>hourPerWeek</th>\n",
       "      <th>workclass_Federal-gov</th>\n",
       "      <th>workclass_Local-gov</th>\n",
       "      <th>workclass_Private</th>\n",
       "      <th>workclass_Self-emp-inc</th>\n",
       "      <th>workclass_Self-emp-not-inc</th>\n",
       "      <th>workclass_State-gov</th>\n",
       "      <th>workclass_Without-pay</th>\n",
       "      <th>...</th>\n",
       "      <th>nativeCountry_Portugal</th>\n",
       "      <th>nativeCountry_Puerto-Rico</th>\n",
       "      <th>nativeCountry_Scotland</th>\n",
       "      <th>nativeCountry_South</th>\n",
       "      <th>nativeCountry_Taiwan</th>\n",
       "      <th>nativeCountry_Thailand</th>\n",
       "      <th>nativeCountry_Trinadad&amp;Tobago</th>\n",
       "      <th>nativeCountry_United-States</th>\n",
       "      <th>nativeCountry_Vietnam</th>\n",
       "      <th>nativeCountry_Yugoslavia</th>\n",
       "    </tr>\n",
       "  </thead>\n",
       "  <tbody>\n",
       "    <tr>\n",
       "      <th>0</th>\n",
       "      <td>0.301370</td>\n",
       "      <td>0.800000</td>\n",
       "      <td>0.397959</td>\n",
       "      <td>False</td>\n",
       "      <td>False</td>\n",
       "      <td>False</td>\n",
       "      <td>False</td>\n",
       "      <td>False</td>\n",
       "      <td>True</td>\n",
       "      <td>False</td>\n",
       "      <td>...</td>\n",
       "      <td>False</td>\n",
       "      <td>False</td>\n",
       "      <td>False</td>\n",
       "      <td>False</td>\n",
       "      <td>False</td>\n",
       "      <td>False</td>\n",
       "      <td>False</td>\n",
       "      <td>True</td>\n",
       "      <td>False</td>\n",
       "      <td>False</td>\n",
       "    </tr>\n",
       "    <tr>\n",
       "      <th>1</th>\n",
       "      <td>0.452055</td>\n",
       "      <td>0.800000</td>\n",
       "      <td>0.122449</td>\n",
       "      <td>False</td>\n",
       "      <td>False</td>\n",
       "      <td>False</td>\n",
       "      <td>False</td>\n",
       "      <td>True</td>\n",
       "      <td>False</td>\n",
       "      <td>False</td>\n",
       "      <td>...</td>\n",
       "      <td>False</td>\n",
       "      <td>False</td>\n",
       "      <td>False</td>\n",
       "      <td>False</td>\n",
       "      <td>False</td>\n",
       "      <td>False</td>\n",
       "      <td>False</td>\n",
       "      <td>True</td>\n",
       "      <td>False</td>\n",
       "      <td>False</td>\n",
       "    </tr>\n",
       "    <tr>\n",
       "      <th>2</th>\n",
       "      <td>0.287671</td>\n",
       "      <td>0.533333</td>\n",
       "      <td>0.397959</td>\n",
       "      <td>False</td>\n",
       "      <td>False</td>\n",
       "      <td>True</td>\n",
       "      <td>False</td>\n",
       "      <td>False</td>\n",
       "      <td>False</td>\n",
       "      <td>False</td>\n",
       "      <td>...</td>\n",
       "      <td>False</td>\n",
       "      <td>False</td>\n",
       "      <td>False</td>\n",
       "      <td>False</td>\n",
       "      <td>False</td>\n",
       "      <td>False</td>\n",
       "      <td>False</td>\n",
       "      <td>True</td>\n",
       "      <td>False</td>\n",
       "      <td>False</td>\n",
       "    </tr>\n",
       "    <tr>\n",
       "      <th>3</th>\n",
       "      <td>0.493151</td>\n",
       "      <td>0.400000</td>\n",
       "      <td>0.397959</td>\n",
       "      <td>False</td>\n",
       "      <td>False</td>\n",
       "      <td>True</td>\n",
       "      <td>False</td>\n",
       "      <td>False</td>\n",
       "      <td>False</td>\n",
       "      <td>False</td>\n",
       "      <td>...</td>\n",
       "      <td>False</td>\n",
       "      <td>False</td>\n",
       "      <td>False</td>\n",
       "      <td>False</td>\n",
       "      <td>False</td>\n",
       "      <td>False</td>\n",
       "      <td>False</td>\n",
       "      <td>True</td>\n",
       "      <td>False</td>\n",
       "      <td>False</td>\n",
       "    </tr>\n",
       "    <tr>\n",
       "      <th>4</th>\n",
       "      <td>0.150685</td>\n",
       "      <td>0.800000</td>\n",
       "      <td>0.397959</td>\n",
       "      <td>False</td>\n",
       "      <td>False</td>\n",
       "      <td>True</td>\n",
       "      <td>False</td>\n",
       "      <td>False</td>\n",
       "      <td>False</td>\n",
       "      <td>False</td>\n",
       "      <td>...</td>\n",
       "      <td>False</td>\n",
       "      <td>False</td>\n",
       "      <td>False</td>\n",
       "      <td>False</td>\n",
       "      <td>False</td>\n",
       "      <td>False</td>\n",
       "      <td>False</td>\n",
       "      <td>False</td>\n",
       "      <td>False</td>\n",
       "      <td>False</td>\n",
       "    </tr>\n",
       "  </tbody>\n",
       "</table>\n",
       "<p>5 rows × 101 columns</p>\n",
       "</div>"
      ],
      "text/plain": [
       "        age  educationNumber  hourPerWeek  workclass_Federal-gov  \\\n",
       "0  0.301370         0.800000     0.397959                  False   \n",
       "1  0.452055         0.800000     0.122449                  False   \n",
       "2  0.287671         0.533333     0.397959                  False   \n",
       "3  0.493151         0.400000     0.397959                  False   \n",
       "4  0.150685         0.800000     0.397959                  False   \n",
       "\n",
       "   workclass_Local-gov  workclass_Private  workclass_Self-emp-inc  \\\n",
       "0                False              False                   False   \n",
       "1                False              False                   False   \n",
       "2                False               True                   False   \n",
       "3                False               True                   False   \n",
       "4                False               True                   False   \n",
       "\n",
       "   workclass_Self-emp-not-inc  workclass_State-gov  workclass_Without-pay  \\\n",
       "0                       False                 True                  False   \n",
       "1                        True                False                  False   \n",
       "2                       False                False                  False   \n",
       "3                       False                False                  False   \n",
       "4                       False                False                  False   \n",
       "\n",
       "   ...  nativeCountry_Portugal  nativeCountry_Puerto-Rico  \\\n",
       "0  ...                   False                      False   \n",
       "1  ...                   False                      False   \n",
       "2  ...                   False                      False   \n",
       "3  ...                   False                      False   \n",
       "4  ...                   False                      False   \n",
       "\n",
       "   nativeCountry_Scotland  nativeCountry_South  nativeCountry_Taiwan  \\\n",
       "0                   False                False                 False   \n",
       "1                   False                False                 False   \n",
       "2                   False                False                 False   \n",
       "3                   False                False                 False   \n",
       "4                   False                False                 False   \n",
       "\n",
       "   nativeCountry_Thailand  nativeCountry_Trinadad&Tobago  \\\n",
       "0                   False                          False   \n",
       "1                   False                          False   \n",
       "2                   False                          False   \n",
       "3                   False                          False   \n",
       "4                   False                          False   \n",
       "\n",
       "   nativeCountry_United-States  nativeCountry_Vietnam  \\\n",
       "0                         True                  False   \n",
       "1                         True                  False   \n",
       "2                         True                  False   \n",
       "3                         True                  False   \n",
       "4                        False                  False   \n",
       "\n",
       "   nativeCountry_Yugoslavia  \n",
       "0                     False  \n",
       "1                     False  \n",
       "2                     False  \n",
       "3                     False  \n",
       "4                     False  \n",
       "\n",
       "[5 rows x 101 columns]"
      ]
     },
     "execution_count": 37,
     "metadata": {},
     "output_type": "execute_result"
    }
   ],
   "source": [
    "X_fin = pd.concat([pd.DataFrame(X_mms, columns=['age', 'educationNumber', 'hourPerWeek'])\n",
    "                   .reset_index(drop=True),\n",
    "                  X_hot.reset_index(drop=True)], axis=1)\n",
    "\n",
    "X_fin.head()"
   ]
  },
  {
   "cell_type": "markdown",
   "metadata": {},
   "source": [
    "두 DataFrame을 결합할 때 중복된 index가 있는 경우 index 배당이 잘못 되는 경우가 있으므로\n",
    "기존 index를 버리고 리셋한다"
   ]
  },
  {
   "cell_type": "code",
   "execution_count": 38,
   "metadata": {},
   "outputs": [
    {
     "name": "stdout",
     "output_type": "stream",
     "text": [
      "(30162, 101) (30162,)\n"
     ]
    }
   ],
   "source": [
    "print(X_fin.shape, y.shape)"
   ]
  },
  {
   "cell_type": "code",
   "execution_count": 39,
   "metadata": {},
   "outputs": [],
   "source": [
    "from sklearn.model_selection import train_test_split\n",
    "X_train, X_test, y_train, y_test = train_test_split(X_fin, y, stratify=y, random_state=0)"
   ]
  },
  {
   "cell_type": "code",
   "execution_count": 40,
   "metadata": {},
   "outputs": [
    {
     "data": {
      "text/html": [
       "<style>#sk-container-id-1 {\n",
       "  /* Definition of color scheme common for light and dark mode */\n",
       "  --sklearn-color-text: black;\n",
       "  --sklearn-color-line: gray;\n",
       "  /* Definition of color scheme for unfitted estimators */\n",
       "  --sklearn-color-unfitted-level-0: #fff5e6;\n",
       "  --sklearn-color-unfitted-level-1: #f6e4d2;\n",
       "  --sklearn-color-unfitted-level-2: #ffe0b3;\n",
       "  --sklearn-color-unfitted-level-3: chocolate;\n",
       "  /* Definition of color scheme for fitted estimators */\n",
       "  --sklearn-color-fitted-level-0: #f0f8ff;\n",
       "  --sklearn-color-fitted-level-1: #d4ebff;\n",
       "  --sklearn-color-fitted-level-2: #b3dbfd;\n",
       "  --sklearn-color-fitted-level-3: cornflowerblue;\n",
       "\n",
       "  /* Specific color for light theme */\n",
       "  --sklearn-color-text-on-default-background: var(--sg-text-color, var(--theme-code-foreground, var(--jp-content-font-color1, black)));\n",
       "  --sklearn-color-background: var(--sg-background-color, var(--theme-background, var(--jp-layout-color0, white)));\n",
       "  --sklearn-color-border-box: var(--sg-text-color, var(--theme-code-foreground, var(--jp-content-font-color1, black)));\n",
       "  --sklearn-color-icon: #696969;\n",
       "\n",
       "  @media (prefers-color-scheme: dark) {\n",
       "    /* Redefinition of color scheme for dark theme */\n",
       "    --sklearn-color-text-on-default-background: var(--sg-text-color, var(--theme-code-foreground, var(--jp-content-font-color1, white)));\n",
       "    --sklearn-color-background: var(--sg-background-color, var(--theme-background, var(--jp-layout-color0, #111)));\n",
       "    --sklearn-color-border-box: var(--sg-text-color, var(--theme-code-foreground, var(--jp-content-font-color1, white)));\n",
       "    --sklearn-color-icon: #878787;\n",
       "  }\n",
       "}\n",
       "\n",
       "#sk-container-id-1 {\n",
       "  color: var(--sklearn-color-text);\n",
       "}\n",
       "\n",
       "#sk-container-id-1 pre {\n",
       "  padding: 0;\n",
       "}\n",
       "\n",
       "#sk-container-id-1 input.sk-hidden--visually {\n",
       "  border: 0;\n",
       "  clip: rect(1px 1px 1px 1px);\n",
       "  clip: rect(1px, 1px, 1px, 1px);\n",
       "  height: 1px;\n",
       "  margin: -1px;\n",
       "  overflow: hidden;\n",
       "  padding: 0;\n",
       "  position: absolute;\n",
       "  width: 1px;\n",
       "}\n",
       "\n",
       "#sk-container-id-1 div.sk-dashed-wrapped {\n",
       "  border: 1px dashed var(--sklearn-color-line);\n",
       "  margin: 0 0.4em 0.5em 0.4em;\n",
       "  box-sizing: border-box;\n",
       "  padding-bottom: 0.4em;\n",
       "  background-color: var(--sklearn-color-background);\n",
       "}\n",
       "\n",
       "#sk-container-id-1 div.sk-container {\n",
       "  /* jupyter's `normalize.less` sets `[hidden] { display: none; }`\n",
       "     but bootstrap.min.css set `[hidden] { display: none !important; }`\n",
       "     so we also need the `!important` here to be able to override the\n",
       "     default hidden behavior on the sphinx rendered scikit-learn.org.\n",
       "     See: https://github.com/scikit-learn/scikit-learn/issues/21755 */\n",
       "  display: inline-block !important;\n",
       "  position: relative;\n",
       "}\n",
       "\n",
       "#sk-container-id-1 div.sk-text-repr-fallback {\n",
       "  display: none;\n",
       "}\n",
       "\n",
       "div.sk-parallel-item,\n",
       "div.sk-serial,\n",
       "div.sk-item {\n",
       "  /* draw centered vertical line to link estimators */\n",
       "  background-image: linear-gradient(var(--sklearn-color-text-on-default-background), var(--sklearn-color-text-on-default-background));\n",
       "  background-size: 2px 100%;\n",
       "  background-repeat: no-repeat;\n",
       "  background-position: center center;\n",
       "}\n",
       "\n",
       "/* Parallel-specific style estimator block */\n",
       "\n",
       "#sk-container-id-1 div.sk-parallel-item::after {\n",
       "  content: \"\";\n",
       "  width: 100%;\n",
       "  border-bottom: 2px solid var(--sklearn-color-text-on-default-background);\n",
       "  flex-grow: 1;\n",
       "}\n",
       "\n",
       "#sk-container-id-1 div.sk-parallel {\n",
       "  display: flex;\n",
       "  align-items: stretch;\n",
       "  justify-content: center;\n",
       "  background-color: var(--sklearn-color-background);\n",
       "  position: relative;\n",
       "}\n",
       "\n",
       "#sk-container-id-1 div.sk-parallel-item {\n",
       "  display: flex;\n",
       "  flex-direction: column;\n",
       "}\n",
       "\n",
       "#sk-container-id-1 div.sk-parallel-item:first-child::after {\n",
       "  align-self: flex-end;\n",
       "  width: 50%;\n",
       "}\n",
       "\n",
       "#sk-container-id-1 div.sk-parallel-item:last-child::after {\n",
       "  align-self: flex-start;\n",
       "  width: 50%;\n",
       "}\n",
       "\n",
       "#sk-container-id-1 div.sk-parallel-item:only-child::after {\n",
       "  width: 0;\n",
       "}\n",
       "\n",
       "/* Serial-specific style estimator block */\n",
       "\n",
       "#sk-container-id-1 div.sk-serial {\n",
       "  display: flex;\n",
       "  flex-direction: column;\n",
       "  align-items: center;\n",
       "  background-color: var(--sklearn-color-background);\n",
       "  padding-right: 1em;\n",
       "  padding-left: 1em;\n",
       "}\n",
       "\n",
       "\n",
       "/* Toggleable style: style used for estimator/Pipeline/ColumnTransformer box that is\n",
       "clickable and can be expanded/collapsed.\n",
       "- Pipeline and ColumnTransformer use this feature and define the default style\n",
       "- Estimators will overwrite some part of the style using the `sk-estimator` class\n",
       "*/\n",
       "\n",
       "/* Pipeline and ColumnTransformer style (default) */\n",
       "\n",
       "#sk-container-id-1 div.sk-toggleable {\n",
       "  /* Default theme specific background. It is overwritten whether we have a\n",
       "  specific estimator or a Pipeline/ColumnTransformer */\n",
       "  background-color: var(--sklearn-color-background);\n",
       "}\n",
       "\n",
       "/* Toggleable label */\n",
       "#sk-container-id-1 label.sk-toggleable__label {\n",
       "  cursor: pointer;\n",
       "  display: block;\n",
       "  width: 100%;\n",
       "  margin-bottom: 0;\n",
       "  padding: 0.5em;\n",
       "  box-sizing: border-box;\n",
       "  text-align: center;\n",
       "}\n",
       "\n",
       "#sk-container-id-1 label.sk-toggleable__label-arrow:before {\n",
       "  /* Arrow on the left of the label */\n",
       "  content: \"▸\";\n",
       "  float: left;\n",
       "  margin-right: 0.25em;\n",
       "  color: var(--sklearn-color-icon);\n",
       "}\n",
       "\n",
       "#sk-container-id-1 label.sk-toggleable__label-arrow:hover:before {\n",
       "  color: var(--sklearn-color-text);\n",
       "}\n",
       "\n",
       "/* Toggleable content - dropdown */\n",
       "\n",
       "#sk-container-id-1 div.sk-toggleable__content {\n",
       "  max-height: 0;\n",
       "  max-width: 0;\n",
       "  overflow: hidden;\n",
       "  text-align: left;\n",
       "  /* unfitted */\n",
       "  background-color: var(--sklearn-color-unfitted-level-0);\n",
       "}\n",
       "\n",
       "#sk-container-id-1 div.sk-toggleable__content.fitted {\n",
       "  /* fitted */\n",
       "  background-color: var(--sklearn-color-fitted-level-0);\n",
       "}\n",
       "\n",
       "#sk-container-id-1 div.sk-toggleable__content pre {\n",
       "  margin: 0.2em;\n",
       "  border-radius: 0.25em;\n",
       "  color: var(--sklearn-color-text);\n",
       "  /* unfitted */\n",
       "  background-color: var(--sklearn-color-unfitted-level-0);\n",
       "}\n",
       "\n",
       "#sk-container-id-1 div.sk-toggleable__content.fitted pre {\n",
       "  /* unfitted */\n",
       "  background-color: var(--sklearn-color-fitted-level-0);\n",
       "}\n",
       "\n",
       "#sk-container-id-1 input.sk-toggleable__control:checked~div.sk-toggleable__content {\n",
       "  /* Expand drop-down */\n",
       "  max-height: 200px;\n",
       "  max-width: 100%;\n",
       "  overflow: auto;\n",
       "}\n",
       "\n",
       "#sk-container-id-1 input.sk-toggleable__control:checked~label.sk-toggleable__label-arrow:before {\n",
       "  content: \"▾\";\n",
       "}\n",
       "\n",
       "/* Pipeline/ColumnTransformer-specific style */\n",
       "\n",
       "#sk-container-id-1 div.sk-label input.sk-toggleable__control:checked~label.sk-toggleable__label {\n",
       "  color: var(--sklearn-color-text);\n",
       "  background-color: var(--sklearn-color-unfitted-level-2);\n",
       "}\n",
       "\n",
       "#sk-container-id-1 div.sk-label.fitted input.sk-toggleable__control:checked~label.sk-toggleable__label {\n",
       "  background-color: var(--sklearn-color-fitted-level-2);\n",
       "}\n",
       "\n",
       "/* Estimator-specific style */\n",
       "\n",
       "/* Colorize estimator box */\n",
       "#sk-container-id-1 div.sk-estimator input.sk-toggleable__control:checked~label.sk-toggleable__label {\n",
       "  /* unfitted */\n",
       "  background-color: var(--sklearn-color-unfitted-level-2);\n",
       "}\n",
       "\n",
       "#sk-container-id-1 div.sk-estimator.fitted input.sk-toggleable__control:checked~label.sk-toggleable__label {\n",
       "  /* fitted */\n",
       "  background-color: var(--sklearn-color-fitted-level-2);\n",
       "}\n",
       "\n",
       "#sk-container-id-1 div.sk-label label.sk-toggleable__label,\n",
       "#sk-container-id-1 div.sk-label label {\n",
       "  /* The background is the default theme color */\n",
       "  color: var(--sklearn-color-text-on-default-background);\n",
       "}\n",
       "\n",
       "/* On hover, darken the color of the background */\n",
       "#sk-container-id-1 div.sk-label:hover label.sk-toggleable__label {\n",
       "  color: var(--sklearn-color-text);\n",
       "  background-color: var(--sklearn-color-unfitted-level-2);\n",
       "}\n",
       "\n",
       "/* Label box, darken color on hover, fitted */\n",
       "#sk-container-id-1 div.sk-label.fitted:hover label.sk-toggleable__label.fitted {\n",
       "  color: var(--sklearn-color-text);\n",
       "  background-color: var(--sklearn-color-fitted-level-2);\n",
       "}\n",
       "\n",
       "/* Estimator label */\n",
       "\n",
       "#sk-container-id-1 div.sk-label label {\n",
       "  font-family: monospace;\n",
       "  font-weight: bold;\n",
       "  display: inline-block;\n",
       "  line-height: 1.2em;\n",
       "}\n",
       "\n",
       "#sk-container-id-1 div.sk-label-container {\n",
       "  text-align: center;\n",
       "}\n",
       "\n",
       "/* Estimator-specific */\n",
       "#sk-container-id-1 div.sk-estimator {\n",
       "  font-family: monospace;\n",
       "  border: 1px dotted var(--sklearn-color-border-box);\n",
       "  border-radius: 0.25em;\n",
       "  box-sizing: border-box;\n",
       "  margin-bottom: 0.5em;\n",
       "  /* unfitted */\n",
       "  background-color: var(--sklearn-color-unfitted-level-0);\n",
       "}\n",
       "\n",
       "#sk-container-id-1 div.sk-estimator.fitted {\n",
       "  /* fitted */\n",
       "  background-color: var(--sklearn-color-fitted-level-0);\n",
       "}\n",
       "\n",
       "/* on hover */\n",
       "#sk-container-id-1 div.sk-estimator:hover {\n",
       "  /* unfitted */\n",
       "  background-color: var(--sklearn-color-unfitted-level-2);\n",
       "}\n",
       "\n",
       "#sk-container-id-1 div.sk-estimator.fitted:hover {\n",
       "  /* fitted */\n",
       "  background-color: var(--sklearn-color-fitted-level-2);\n",
       "}\n",
       "\n",
       "/* Specification for estimator info (e.g. \"i\" and \"?\") */\n",
       "\n",
       "/* Common style for \"i\" and \"?\" */\n",
       "\n",
       ".sk-estimator-doc-link,\n",
       "a:link.sk-estimator-doc-link,\n",
       "a:visited.sk-estimator-doc-link {\n",
       "  float: right;\n",
       "  font-size: smaller;\n",
       "  line-height: 1em;\n",
       "  font-family: monospace;\n",
       "  background-color: var(--sklearn-color-background);\n",
       "  border-radius: 1em;\n",
       "  height: 1em;\n",
       "  width: 1em;\n",
       "  text-decoration: none !important;\n",
       "  margin-left: 1ex;\n",
       "  /* unfitted */\n",
       "  border: var(--sklearn-color-unfitted-level-1) 1pt solid;\n",
       "  color: var(--sklearn-color-unfitted-level-1);\n",
       "}\n",
       "\n",
       ".sk-estimator-doc-link.fitted,\n",
       "a:link.sk-estimator-doc-link.fitted,\n",
       "a:visited.sk-estimator-doc-link.fitted {\n",
       "  /* fitted */\n",
       "  border: var(--sklearn-color-fitted-level-1) 1pt solid;\n",
       "  color: var(--sklearn-color-fitted-level-1);\n",
       "}\n",
       "\n",
       "/* On hover */\n",
       "div.sk-estimator:hover .sk-estimator-doc-link:hover,\n",
       ".sk-estimator-doc-link:hover,\n",
       "div.sk-label-container:hover .sk-estimator-doc-link:hover,\n",
       ".sk-estimator-doc-link:hover {\n",
       "  /* unfitted */\n",
       "  background-color: var(--sklearn-color-unfitted-level-3);\n",
       "  color: var(--sklearn-color-background);\n",
       "  text-decoration: none;\n",
       "}\n",
       "\n",
       "div.sk-estimator.fitted:hover .sk-estimator-doc-link.fitted:hover,\n",
       ".sk-estimator-doc-link.fitted:hover,\n",
       "div.sk-label-container:hover .sk-estimator-doc-link.fitted:hover,\n",
       ".sk-estimator-doc-link.fitted:hover {\n",
       "  /* fitted */\n",
       "  background-color: var(--sklearn-color-fitted-level-3);\n",
       "  color: var(--sklearn-color-background);\n",
       "  text-decoration: none;\n",
       "}\n",
       "\n",
       "/* Span, style for the box shown on hovering the info icon */\n",
       ".sk-estimator-doc-link span {\n",
       "  display: none;\n",
       "  z-index: 9999;\n",
       "  position: relative;\n",
       "  font-weight: normal;\n",
       "  right: .2ex;\n",
       "  padding: .5ex;\n",
       "  margin: .5ex;\n",
       "  width: min-content;\n",
       "  min-width: 20ex;\n",
       "  max-width: 50ex;\n",
       "  color: var(--sklearn-color-text);\n",
       "  box-shadow: 2pt 2pt 4pt #999;\n",
       "  /* unfitted */\n",
       "  background: var(--sklearn-color-unfitted-level-0);\n",
       "  border: .5pt solid var(--sklearn-color-unfitted-level-3);\n",
       "}\n",
       "\n",
       ".sk-estimator-doc-link.fitted span {\n",
       "  /* fitted */\n",
       "  background: var(--sklearn-color-fitted-level-0);\n",
       "  border: var(--sklearn-color-fitted-level-3);\n",
       "}\n",
       "\n",
       ".sk-estimator-doc-link:hover span {\n",
       "  display: block;\n",
       "}\n",
       "\n",
       "/* \"?\"-specific style due to the `<a>` HTML tag */\n",
       "\n",
       "#sk-container-id-1 a.estimator_doc_link {\n",
       "  float: right;\n",
       "  font-size: 1rem;\n",
       "  line-height: 1em;\n",
       "  font-family: monospace;\n",
       "  background-color: var(--sklearn-color-background);\n",
       "  border-radius: 1rem;\n",
       "  height: 1rem;\n",
       "  width: 1rem;\n",
       "  text-decoration: none;\n",
       "  /* unfitted */\n",
       "  color: var(--sklearn-color-unfitted-level-1);\n",
       "  border: var(--sklearn-color-unfitted-level-1) 1pt solid;\n",
       "}\n",
       "\n",
       "#sk-container-id-1 a.estimator_doc_link.fitted {\n",
       "  /* fitted */\n",
       "  border: var(--sklearn-color-fitted-level-1) 1pt solid;\n",
       "  color: var(--sklearn-color-fitted-level-1);\n",
       "}\n",
       "\n",
       "/* On hover */\n",
       "#sk-container-id-1 a.estimator_doc_link:hover {\n",
       "  /* unfitted */\n",
       "  background-color: var(--sklearn-color-unfitted-level-3);\n",
       "  color: var(--sklearn-color-background);\n",
       "  text-decoration: none;\n",
       "}\n",
       "\n",
       "#sk-container-id-1 a.estimator_doc_link.fitted:hover {\n",
       "  /* fitted */\n",
       "  background-color: var(--sklearn-color-fitted-level-3);\n",
       "}\n",
       "</style><div id=\"sk-container-id-1\" class=\"sk-top-container\"><div class=\"sk-text-repr-fallback\"><pre>SVC()</pre><b>In a Jupyter environment, please rerun this cell to show the HTML representation or trust the notebook. <br />On GitHub, the HTML representation is unable to render, please try loading this page with nbviewer.org.</b></div><div class=\"sk-container\" hidden><div class=\"sk-item\"><div class=\"sk-estimator fitted sk-toggleable\"><input class=\"sk-toggleable__control sk-hidden--visually\" id=\"sk-estimator-id-1\" type=\"checkbox\" checked><label for=\"sk-estimator-id-1\" class=\"sk-toggleable__label fitted sk-toggleable__label-arrow fitted\">&nbsp;&nbsp;SVC<a class=\"sk-estimator-doc-link fitted\" rel=\"noreferrer\" target=\"_blank\" href=\"https://scikit-learn.org/1.4/modules/generated/sklearn.svm.SVC.html\">?<span>Documentation for SVC</span></a><span class=\"sk-estimator-doc-link fitted\">i<span>Fitted</span></span></label><div class=\"sk-toggleable__content fitted\"><pre>SVC()</pre></div> </div></div></div></div>"
      ],
      "text/plain": [
       "SVC()"
      ]
     },
     "execution_count": 40,
     "metadata": {},
     "output_type": "execute_result"
    }
   ],
   "source": [
    "from sklearn.svm import SVC\n",
    "model = SVC()\n",
    "model.fit(X_train, y_train)"
   ]
  },
  {
   "cell_type": "code",
   "execution_count": 41,
   "metadata": {},
   "outputs": [
    {
     "name": "stdout",
     "output_type": "stream",
     "text": [
      "[1 0 0 ... 0 0 0]\n",
      "0.8311894974141361\n"
     ]
    }
   ],
   "source": [
    "print(model.predict(X_test))\n",
    "print(model.score(X_test, y_test))"
   ]
  },
  {
   "cell_type": "code",
   "execution_count": 42,
   "metadata": {},
   "outputs": [
    {
     "name": "stdout",
     "output_type": "stream",
     "text": [
      "<class 'pandas.core.frame.DataFrame'>\n",
      "Index: 30162 entries, 0 to 32560\n",
      "Data columns (total 98 columns):\n",
      " #   Column                                    Non-Null Count  Dtype\n",
      "---  ------                                    --------------  -----\n",
      " 0   workclass_Federal-gov                     30162 non-null  bool \n",
      " 1   workclass_Local-gov                       30162 non-null  bool \n",
      " 2   workclass_Private                         30162 non-null  bool \n",
      " 3   workclass_Self-emp-inc                    30162 non-null  bool \n",
      " 4   workclass_Self-emp-not-inc                30162 non-null  bool \n",
      " 5   workclass_State-gov                       30162 non-null  bool \n",
      " 6   workclass_Without-pay                     30162 non-null  bool \n",
      " 7   education_10th                            30162 non-null  bool \n",
      " 8   education_11th                            30162 non-null  bool \n",
      " 9   education_12th                            30162 non-null  bool \n",
      " 10  education_1st-4th                         30162 non-null  bool \n",
      " 11  education_5th-6th                         30162 non-null  bool \n",
      " 12  education_7th-8th                         30162 non-null  bool \n",
      " 13  education_9th                             30162 non-null  bool \n",
      " 14  education_Assoc-acdm                      30162 non-null  bool \n",
      " 15  education_Assoc-voc                       30162 non-null  bool \n",
      " 16  education_Bachelors                       30162 non-null  bool \n",
      " 17  education_Doctorate                       30162 non-null  bool \n",
      " 18  education_HS-grad                         30162 non-null  bool \n",
      " 19  education_Masters                         30162 non-null  bool \n",
      " 20  education_Preschool                       30162 non-null  bool \n",
      " 21  education_Prof-school                     30162 non-null  bool \n",
      " 22  education_Some-college                    30162 non-null  bool \n",
      " 23  maritalStatus_Divorced                    30162 non-null  bool \n",
      " 24  maritalStatus_Married-AF-spouse           30162 non-null  bool \n",
      " 25  maritalStatus_Married-civ-spouse          30162 non-null  bool \n",
      " 26  maritalStatus_Married-spouse-absent       30162 non-null  bool \n",
      " 27  maritalStatus_Never-married               30162 non-null  bool \n",
      " 28  maritalStatus_Separated                   30162 non-null  bool \n",
      " 29  maritalStatus_Widowed                     30162 non-null  bool \n",
      " 30  occupation_Adm-clerical                   30162 non-null  bool \n",
      " 31  occupation_Armed-Forces                   30162 non-null  bool \n",
      " 32  occupation_Craft-repair                   30162 non-null  bool \n",
      " 33  occupation_Exec-managerial                30162 non-null  bool \n",
      " 34  occupation_Farming-fishing                30162 non-null  bool \n",
      " 35  occupation_Handlers-cleaners              30162 non-null  bool \n",
      " 36  occupation_Machine-op-inspct              30162 non-null  bool \n",
      " 37  occupation_Other-service                  30162 non-null  bool \n",
      " 38  occupation_Priv-house-serv                30162 non-null  bool \n",
      " 39  occupation_Prof-specialty                 30162 non-null  bool \n",
      " 40  occupation_Protective-serv                30162 non-null  bool \n",
      " 41  occupation_Sales                          30162 non-null  bool \n",
      " 42  occupation_Tech-support                   30162 non-null  bool \n",
      " 43  occupation_Transport-moving               30162 non-null  bool \n",
      " 44  relationship_Husband                      30162 non-null  bool \n",
      " 45  relationship_Not-in-family                30162 non-null  bool \n",
      " 46  relationship_Other-relative               30162 non-null  bool \n",
      " 47  relationship_Own-child                    30162 non-null  bool \n",
      " 48  relationship_Unmarried                    30162 non-null  bool \n",
      " 49  relationship_Wife                         30162 non-null  bool \n",
      " 50  race_1                                    30162 non-null  bool \n",
      " 51  race_2                                    30162 non-null  bool \n",
      " 52  race_3                                    30162 non-null  bool \n",
      " 53  race_4                                    30162 non-null  bool \n",
      " 54  race_5                                    30162 non-null  bool \n",
      " 55  gender_Female                             30162 non-null  bool \n",
      " 56  gender_Male                               30162 non-null  bool \n",
      " 57  nativeCountry_Cambodia                    30162 non-null  bool \n",
      " 58  nativeCountry_Canada                      30162 non-null  bool \n",
      " 59  nativeCountry_China                       30162 non-null  bool \n",
      " 60  nativeCountry_Columbia                    30162 non-null  bool \n",
      " 61  nativeCountry_Cuba                        30162 non-null  bool \n",
      " 62  nativeCountry_Dominican-Republic          30162 non-null  bool \n",
      " 63  nativeCountry_Ecuador                     30162 non-null  bool \n",
      " 64  nativeCountry_El-Salvador                 30162 non-null  bool \n",
      " 65  nativeCountry_England                     30162 non-null  bool \n",
      " 66  nativeCountry_France                      30162 non-null  bool \n",
      " 67  nativeCountry_Germany                     30162 non-null  bool \n",
      " 68  nativeCountry_Greece                      30162 non-null  bool \n",
      " 69  nativeCountry_Guatemala                   30162 non-null  bool \n",
      " 70  nativeCountry_Haiti                       30162 non-null  bool \n",
      " 71  nativeCountry_Holand-Netherlands          30162 non-null  bool \n",
      " 72  nativeCountry_Honduras                    30162 non-null  bool \n",
      " 73  nativeCountry_Hong                        30162 non-null  bool \n",
      " 74  nativeCountry_Hungary                     30162 non-null  bool \n",
      " 75  nativeCountry_India                       30162 non-null  bool \n",
      " 76  nativeCountry_Iran                        30162 non-null  bool \n",
      " 77  nativeCountry_Ireland                     30162 non-null  bool \n",
      " 78  nativeCountry_Italy                       30162 non-null  bool \n",
      " 79  nativeCountry_Jamaica                     30162 non-null  bool \n",
      " 80  nativeCountry_Japan                       30162 non-null  bool \n",
      " 81  nativeCountry_Laos                        30162 non-null  bool \n",
      " 82  nativeCountry_Mexico                      30162 non-null  bool \n",
      " 83  nativeCountry_Nicaragua                   30162 non-null  bool \n",
      " 84  nativeCountry_Outlying-US(Guam-USVI-etc)  30162 non-null  bool \n",
      " 85  nativeCountry_Peru                        30162 non-null  bool \n",
      " 86  nativeCountry_Philippines                 30162 non-null  bool \n",
      " 87  nativeCountry_Poland                      30162 non-null  bool \n",
      " 88  nativeCountry_Portugal                    30162 non-null  bool \n",
      " 89  nativeCountry_Puerto-Rico                 30162 non-null  bool \n",
      " 90  nativeCountry_Scotland                    30162 non-null  bool \n",
      " 91  nativeCountry_South                       30162 non-null  bool \n",
      " 92  nativeCountry_Taiwan                      30162 non-null  bool \n",
      " 93  nativeCountry_Thailand                    30162 non-null  bool \n",
      " 94  nativeCountry_Trinadad&Tobago             30162 non-null  bool \n",
      " 95  nativeCountry_United-States               30162 non-null  bool \n",
      " 96  nativeCountry_Vietnam                     30162 non-null  bool \n",
      " 97  nativeCountry_Yugoslavia                  30162 non-null  bool \n",
      "dtypes: bool(98)\n",
      "memory usage: 3.0 MB\n"
     ]
    }
   ],
   "source": [
    "X_hot.info()"
   ]
  },
  {
   "cell_type": "code",
   "execution_count": 44,
   "metadata": {},
   "outputs": [
    {
     "data": {
      "text/plain": [
       "['D:\\\\elice_python\\\\GAS_5\\\\pytest_machine\\\\models\\\\dataprocessing_svm.joblib']"
      ]
     },
     "execution_count": 44,
     "metadata": {},
     "output_type": "execute_result"
    }
   ],
   "source": [
    "import joblib\n",
    "\n",
    "model_path = 'D:\\\\elice_python\\GAS_5\\\\pytest_machine\\\\models\\\\'\n",
    "scaler_name = 'dataprocessing_scaler.joblib'\n",
    "model_name = 'dataprocessing_svm.joblib'\n",
    "\n",
    "joblib.dump(mms, os.path.join(model_path, scaler_name))\n",
    "joblib.dump(model, os.path.join(model_path, model_name))"
   ]
  },
  {
   "cell_type": "code",
   "execution_count": 2,
   "metadata": {},
   "outputs": [],
   "source": [
    "import joblib\n",
    "\n",
    "model_path = 'D:\\\\elice_python\\GAS_5\\\\pytest_machine\\\\models\\\\'\n",
    "scaler_name = 'dataprocessing_scaler.joblib'\n",
    "model_name = 'dataprocessing_svm.joblib'\n",
    "\n",
    "loaded_scaler = joblib.load(model_path+scaler_name)\n",
    "loaded_model = joblib.load(model_path+model_name)"
   ]
  },
  {
   "cell_type": "markdown",
   "metadata": {},
   "source": [
    "테스트 데이터 예측 -- 학습 과정과 같은 전처리를 거쳐준다."
   ]
  },
  {
   "cell_type": "code",
   "execution_count": 3,
   "metadata": {},
   "outputs": [
    {
     "name": "stdout",
     "output_type": "stream",
     "text": [
      "(30162, 11)\n"
     ]
    }
   ],
   "source": [
    "import pandas as pd\n",
    "from sklearn.preprocessing import MinMaxScaler\n",
    "\n",
    "data = pd.read_csv('income.csv', skipinitialspace=True)\n",
    "\n",
    "for col in data.columns:\n",
    "    data = data[data[col] != '?']\n",
    "    \n",
    "data_X = data.loc[:,'age':'nativeCountry']\n",
    "print(data_X.shape)"
   ]
  },
  {
   "cell_type": "code",
   "execution_count": 4,
   "metadata": {},
   "outputs": [
    {
     "name": "stdout",
     "output_type": "stream",
     "text": [
      "(9, 11)\n"
     ]
    }
   ],
   "source": [
    "newdata = pd.read_csv('income_test.csv', skipinitialspace=True)\n",
    "\n",
    "for col in newdata.columns:\n",
    "    newdata = newdata[newdata[col] != '?']\n",
    "    \n",
    "newdata_X = newdata.loc[\",'age\":'nativeCountry']\n",
    "print(newdata_X.shape)"
   ]
  },
  {
   "cell_type": "markdown",
   "metadata": {},
   "source": [
    "- 새로운 데이터에 훈련데이터를 결합\n",
    "- 새로운 데이터의 범주형에는 훈련데이터에서 사용된 종류가 다 있지 않을 수 있으므로, 반드시 훈련데이터와 결합한 후 원-핫 인코딩을 해야 한다"
   ]
  },
  {
   "cell_type": "code",
   "execution_count": 5,
   "metadata": {},
   "outputs": [
    {
     "name": "stdout",
     "output_type": "stream",
     "text": [
      "(30171, 11)\n"
     ]
    }
   ],
   "source": [
    "data_appended = pd.concat([newdata_X.reset_index(drop=True), data_X.reset_index(drop=True)])\n",
    "print(data_appended.shape)"
   ]
  },
  {
   "cell_type": "markdown",
   "metadata": {},
   "source": [
    "새로운 데이터의 범주형에 훈련데이터에 없던 종류가 있으면..ㅠㅠ 어쩔 수 없다시는 듯."
   ]
  },
  {
   "cell_type": "code",
   "execution_count": 11,
   "metadata": {},
   "outputs": [
    {
     "name": "stdout",
     "output_type": "stream",
     "text": [
      "<class 'pandas.core.frame.DataFrame'>\n",
      "Index: 30171 entries, 0 to 30161\n",
      "Data columns (total 11 columns):\n",
      " #   Column           Non-Null Count  Dtype \n",
      "---  ------           --------------  ----- \n",
      " 0   age              30171 non-null  int64 \n",
      " 1   workclass        30171 non-null  object\n",
      " 2   education        30171 non-null  object\n",
      " 3   educationNumber  30171 non-null  int64 \n",
      " 4   maritalStatus    30171 non-null  object\n",
      " 5   occupation       30171 non-null  object\n",
      " 6   relationship     30171 non-null  object\n",
      " 7   race             30171 non-null  object\n",
      " 8   gender           30171 non-null  object\n",
      " 9   hourPerWeek      30171 non-null  int64 \n",
      " 10  nativeCountry    30171 non-null  object\n",
      "dtypes: int64(3), object(8)\n",
      "memory usage: 2.8+ MB\n"
     ]
    }
   ],
   "source": [
    "race_series = data_appended['race'].apply(str)\n",
    "data_appended['race'] = race_series\n",
    "data_appended.info()"
   ]
  },
  {
   "cell_type": "code",
   "execution_count": 8,
   "metadata": {},
   "outputs": [],
   "source": [
    "X_num = data_appended[['age','educationNumber', 'hourPerWeek']]\n",
    "X_cat = data_appended[['workclass', 'education', 'maritalStatus', 'occupation', \n",
    "           'relationship', 'race', 'gender', 'nativeCountry']]"
   ]
  },
  {
   "cell_type": "code",
   "execution_count": 9,
   "metadata": {},
   "outputs": [],
   "source": [
    "X_scaled = loaded_scaler.transform(X_num)\n",
    "X_hot = pd.get_dummies(X_cat)"
   ]
  },
  {
   "cell_type": "code",
   "execution_count": 12,
   "metadata": {},
   "outputs": [
    {
     "name": "stdout",
     "output_type": "stream",
     "text": [
      "(30171, 101)\n"
     ]
    }
   ],
   "source": [
    "X_fin = pd.concat([pd.DataFrame(X_scaled, columns=['age','educationNumber', 'hourPerWeek']).reset_index(drop=True),\n",
    "                   X_hot.reset_index(drop=True)], axis=1)\n",
    "\n",
    "print(X_fin.shape)"
   ]
  },
  {
   "cell_type": "code",
   "execution_count": 15,
   "metadata": {},
   "outputs": [
    {
     "name": "stdout",
     "output_type": "stream",
     "text": [
      "(9, 101)\n"
     ]
    }
   ],
   "source": [
    "X_only_new = X_fin.iloc[:9,:]\n",
    "print(X_only_new.shape)"
   ]
  },
  {
   "cell_type": "code",
   "execution_count": 16,
   "metadata": {},
   "outputs": [
    {
     "name": "stdout",
     "output_type": "stream",
     "text": [
      "[0 0 1 0 0 0 0 0 1]\n"
     ]
    }
   ],
   "source": [
    "predictions = loaded_model.predict(X_only_new)\n",
    "print(predictions)"
   ]
  },
  {
   "cell_type": "code",
   "execution_count": 17,
   "metadata": {},
   "outputs": [
    {
     "data": {
      "text/plain": [
       "Index(['age', 'workclass', 'education', 'educationNumber', 'maritalStatus',\n",
       "       'occupation', 'relationship', 'race', 'gender', 'hourPerWeek',\n",
       "       'nativeCountry', 'income'],\n",
       "      dtype='object')"
      ]
     },
     "execution_count": 17,
     "metadata": {},
     "output_type": "execute_result"
    }
   ],
   "source": [
    "data.columns"
   ]
  },
  {
   "cell_type": "code",
   "execution_count": 332,
   "metadata": {},
   "outputs": [],
   "source": [
    "sample =  {'age' : 29, \n",
    "          'workclass' : 'Private',\n",
    "          'education' : 'education_Bachelors', \n",
    "          'educationNumber':13, \n",
    "          'maritalStatus':'Married-civ-spouse',\n",
    "       'occupation':'Prof-specialty', \n",
    "       'relationship':'relationship_Unmarried', \n",
    "       'race':'2', \n",
    "       'gender':'Male', \n",
    "       'hourPerWeek': 40,\n",
    "       'nativeCountry':'Korea'}"
   ]
  },
  {
   "cell_type": "code",
   "execution_count": 333,
   "metadata": {},
   "outputs": [],
   "source": [
    "sample_df = pd.DataFrame([sample])"
   ]
  },
  {
   "cell_type": "code",
   "execution_count": 334,
   "metadata": {},
   "outputs": [
    {
     "data": {
      "text/html": [
       "<div>\n",
       "<style scoped>\n",
       "    .dataframe tbody tr th:only-of-type {\n",
       "        vertical-align: middle;\n",
       "    }\n",
       "\n",
       "    .dataframe tbody tr th {\n",
       "        vertical-align: top;\n",
       "    }\n",
       "\n",
       "    .dataframe thead th {\n",
       "        text-align: right;\n",
       "    }\n",
       "</style>\n",
       "<table border=\"1\" class=\"dataframe\">\n",
       "  <thead>\n",
       "    <tr style=\"text-align: right;\">\n",
       "      <th></th>\n",
       "      <th>age</th>\n",
       "      <th>workclass</th>\n",
       "      <th>education</th>\n",
       "      <th>educationNumber</th>\n",
       "      <th>maritalStatus</th>\n",
       "      <th>occupation</th>\n",
       "      <th>relationship</th>\n",
       "      <th>race</th>\n",
       "      <th>gender</th>\n",
       "      <th>hourPerWeek</th>\n",
       "      <th>nativeCountry</th>\n",
       "    </tr>\n",
       "  </thead>\n",
       "  <tbody>\n",
       "    <tr>\n",
       "      <th>0</th>\n",
       "      <td>29</td>\n",
       "      <td>Private</td>\n",
       "      <td>education_Bachelors</td>\n",
       "      <td>13</td>\n",
       "      <td>Married-civ-spouse</td>\n",
       "      <td>Prof-specialty</td>\n",
       "      <td>relationship_Unmarried</td>\n",
       "      <td>2</td>\n",
       "      <td>Male</td>\n",
       "      <td>40</td>\n",
       "      <td>Korea</td>\n",
       "    </tr>\n",
       "  </tbody>\n",
       "</table>\n",
       "</div>"
      ],
      "text/plain": [
       "   age workclass            education  educationNumber       maritalStatus  \\\n",
       "0   29   Private  education_Bachelors               13  Married-civ-spouse   \n",
       "\n",
       "       occupation            relationship race gender  hourPerWeek  \\\n",
       "0  Prof-specialty  relationship_Unmarried    2   Male           40   \n",
       "\n",
       "  nativeCountry  \n",
       "0         Korea  "
      ]
     },
     "execution_count": 334,
     "metadata": {},
     "output_type": "execute_result"
    }
   ],
   "source": [
    "sample_df"
   ]
  },
  {
   "cell_type": "code",
   "execution_count": 335,
   "metadata": {},
   "outputs": [],
   "source": [
    "sample_num = sample_df[['age','educationNumber', 'hourPerWeek']]\n",
    "sample_cat = sample_df[['workclass', 'education', 'maritalStatus', 'occupation', \n",
    "           'relationship', 'race', 'gender', 'nativeCountry']]"
   ]
  },
  {
   "cell_type": "code",
   "execution_count": 336,
   "metadata": {},
   "outputs": [
    {
     "name": "stdout",
     "output_type": "stream",
     "text": [
      "   workclass_Private  education_education_Bachelors  \\\n",
      "0               True                           True   \n",
      "\n",
      "   maritalStatus_Married-civ-spouse  occupation_Prof-specialty  \\\n",
      "0                              True                       True   \n",
      "\n",
      "   relationship_relationship_Unmarried  race_2  gender_Male  \\\n",
      "0                                 True    True         True   \n",
      "\n",
      "   nativeCountry_Korea  \n",
      "0                 True  \n"
     ]
    }
   ],
   "source": [
    "sample_dummies = pd.get_dummies(sample_cat)\n",
    "print(sample_dummies)"
   ]
  },
  {
   "cell_type": "code",
   "execution_count": 337,
   "metadata": {},
   "outputs": [
    {
     "name": "stdout",
     "output_type": "stream",
     "text": [
      "(1, 101)\n"
     ]
    },
    {
     "name": "stderr",
     "output_type": "stream",
     "text": [
      "C:\\Users\\Caelu\\AppData\\Local\\Temp\\ipykernel_13468\\2067122965.py:3: PerformanceWarning: DataFrame is highly fragmented.  This is usually the result of calling `frame.insert` many times, which has poor performance.  Consider joining all columns at once using pd.concat(axis=1) instead. To get a de-fragmented frame, use `newframe = frame.copy()`\n",
      "  sample_dummies[col] = False\n"
     ]
    }
   ],
   "source": [
    "for col in X_hot.columns:\n",
    "    if col not in sample_dummies.columns:\n",
    "        sample_dummies[col] = False\n",
    "        \n",
    "print(sample_dummies.shape)"
   ]
  },
  {
   "cell_type": "code",
   "execution_count": 338,
   "metadata": {},
   "outputs": [
    {
     "name": "stdout",
     "output_type": "stream",
     "text": [
      "(1, 98)\n"
     ]
    }
   ],
   "source": [
    "sample_dummies = sample_dummies[X_hot.columns]\n",
    "print(sample_dummies.shape)"
   ]
  },
  {
   "cell_type": "code",
   "execution_count": 339,
   "metadata": {},
   "outputs": [],
   "source": [
    "import joblib\n",
    "\n",
    "model_path = 'D:\\\\elice_python\\GAS_5\\\\pytest_machine\\\\models\\\\'\n",
    "scaler_name = 'dataprocessing_scaler.joblib'\n",
    "model_name = 'dataprocessing_svm.joblib'\n",
    "\n",
    "loaded_scaler = joblib.load(model_path+scaler_name)\n",
    "loaded_model = joblib.load(model_path+model_name)"
   ]
  },
  {
   "cell_type": "code",
   "execution_count": 340,
   "metadata": {},
   "outputs": [
    {
     "name": "stdout",
     "output_type": "stream",
     "text": [
      "[[0.16438356 0.8        0.39795918]]\n"
     ]
    }
   ],
   "source": [
    "sample_scaled = loaded_scaler.transform(sample_num)\n",
    "print(sample_scaled)"
   ]
  },
  {
   "cell_type": "code",
   "execution_count": 341,
   "metadata": {},
   "outputs": [],
   "source": [
    "sample_fin = pd.concat([pd.DataFrame(sample_scaled, columns=['age','educationNumber', 'hourPerWeek']).reset_index(drop=True),\n",
    "                       sample_dummies.reset_index(drop=True)], axis= 1)"
   ]
  },
  {
   "cell_type": "code",
   "execution_count": 342,
   "metadata": {},
   "outputs": [
    {
     "data": {
      "text/plain": [
       "(1, 101)"
      ]
     },
     "execution_count": 342,
     "metadata": {},
     "output_type": "execute_result"
    }
   ],
   "source": [
    "sample_fin.shape"
   ]
  },
  {
   "cell_type": "code",
   "execution_count": 343,
   "metadata": {},
   "outputs": [
    {
     "name": "stdout",
     "output_type": "stream",
     "text": [
      "above 50K [1]\n"
     ]
    }
   ],
   "source": [
    "prediction = loaded_model.predict(sample_fin)\n",
    "\n",
    "if prediction:\n",
    "    print('above 50K', prediction)\n",
    "else:\n",
    "    print('below 50K', prediction)"
   ]
  },
  {
   "cell_type": "code",
   "execution_count": null,
   "metadata": {},
   "outputs": [],
   "source": []
  },
  {
   "cell_type": "code",
   "execution_count": null,
   "metadata": {},
   "outputs": [],
   "source": []
  },
  {
   "cell_type": "code",
   "execution_count": null,
   "metadata": {},
   "outputs": [],
   "source": []
  },
  {
   "cell_type": "code",
   "execution_count": null,
   "metadata": {},
   "outputs": [],
   "source": []
  }
 ],
 "metadata": {
  "kernelspec": {
   "display_name": "base",
   "language": "python",
   "name": "python3"
  },
  "language_info": {
   "codemirror_mode": {
    "name": "ipython",
    "version": 3
   },
   "file_extension": ".py",
   "mimetype": "text/x-python",
   "name": "python",
   "nbconvert_exporter": "python",
   "pygments_lexer": "ipython3",
   "version": "3.10.13"
  }
 },
 "nbformat": 4,
 "nbformat_minor": 2
}
